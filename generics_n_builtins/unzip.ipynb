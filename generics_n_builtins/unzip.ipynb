{
 "cells": [
  {
   "cell_type": "code",
   "execution_count": 19,
   "id": "340e86b8",
   "metadata": {},
   "outputs": [],
   "source": [
    "import zipfile\n",
    "from pathlib import Path\n",
    "import requests"
   ]
  },
  {
   "cell_type": "code",
   "execution_count": 20,
   "id": "616d75d1",
   "metadata": {},
   "outputs": [],
   "source": [
    "Path(\"temp\").mkdir(exist_ok=True)"
   ]
  },
  {
   "cell_type": "code",
   "execution_count": 21,
   "id": "0105f1cd",
   "metadata": {},
   "outputs": [
    {
     "name": "stdout",
     "output_type": "stream",
     "text": [
      "response.headers['content-type'] = 'application/zip', response.encoding = None\n",
      "Saved to temp\\cli_3.6.5.zip\n"
     ]
    }
   ],
   "source": [
    "def download_binary_file(url, local_location, local_name):\n",
    "    \"\"\"Download a binary file from a URL and save it to a local location with a specified name.\"\"\"\n",
    "    # make the request\n",
    "    response = requests.get(url)\n",
    "    response.raise_for_status()\n",
    "    print(f\"{response.headers['content-type'] = }, {response.encoding = }\")\n",
    "\n",
    "    # save the file\n",
    "    with open(local_location / local_name, \"wb\") as f:\n",
    "        f.write(response.content)\n",
    "        print(f\"Saved to {local_location / local_name}\")\n",
    "\n",
    "\n",
    "url = \"https://cran.r-project.org/bin/windows/contrib/4.5/cli_3.6.5.zip\"\n",
    "local_location = Path(\"temp\")\n",
    "local_name = \"cli_3.6.5.zip\"\n",
    "download_binary_file(url, local_location, local_name)"
   ]
  },
  {
   "cell_type": "code",
   "execution_count": 22,
   "id": "6779304e",
   "metadata": {},
   "outputs": [],
   "source": [
    "def unzip(zip_file, extract_dir=None):\n",
    "    if extract_dir is None:\n",
    "        extract_dir = zip_file.parent\n",
    "\n",
    "    with zipfile.ZipFile(zip_file, \"r\") as zip_ref:\n",
    "        zip_ref.extractall(extract_dir)\n",
    "\n",
    "\n",
    "zip_file = local_location / local_name\n",
    "unzip(zip_file)"
   ]
  },
  {
   "cell_type": "code",
   "execution_count": 23,
   "id": "06ffc50f",
   "metadata": {},
   "outputs": [],
   "source": [
    "# clean up\n",
    "zip_file.unlink()\n",
    "import shutil\n",
    "\n",
    "shutil.rmtree(local_location)"
   ]
  },
  {
   "cell_type": "code",
   "execution_count": null,
   "id": "f80d3b81",
   "metadata": {},
   "outputs": [],
   "source": []
  },
  {
   "cell_type": "code",
   "execution_count": null,
   "id": "cd9e575a",
   "metadata": {},
   "outputs": [],
   "source": []
  }
 ],
 "metadata": {
  "kernelspec": {
   "display_name": "Python 3",
   "language": "python",
   "name": "python3"
  },
  "language_info": {
   "codemirror_mode": {
    "name": "ipython",
    "version": 3
   },
   "file_extension": ".py",
   "mimetype": "text/x-python",
   "name": "python",
   "nbconvert_exporter": "python",
   "pygments_lexer": "ipython3",
   "version": "3.13.2"
  }
 },
 "nbformat": 4,
 "nbformat_minor": 5
}
