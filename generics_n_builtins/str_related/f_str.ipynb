{
 "cells": [
  {
   "cell_type": "code",
   "execution_count": 55,
   "id": "acac0bfa",
   "metadata": {},
   "outputs": [],
   "source": [
    "# list of string formats\n",
    "# https://docs.python.org/3/library/string.html#format-string-syntax"
   ]
  },
  {
   "cell_type": "markdown",
   "id": "7cc2350d",
   "metadata": {},
   "source": [
    "### format number\n"
   ]
  },
  {
   "cell_type": "code",
   "execution_count": 57,
   "id": "3fad4c11",
   "metadata": {},
   "outputs": [
    {
     "data": {
      "text/plain": [
       "'10_000_000_000.0'"
      ]
     },
     "execution_count": 57,
     "metadata": {},
     "output_type": "execute_result"
    }
   ],
   "source": [
    "n = 1e10\n",
    "f\"{n:_}\""
   ]
  },
  {
   "cell_type": "code",
   "execution_count": 58,
   "id": "7d7900d0",
   "metadata": {},
   "outputs": [
    {
     "data": {
      "text/plain": [
       "'10,000,000,000.0'"
      ]
     },
     "execution_count": 58,
     "metadata": {},
     "output_type": "execute_result"
    }
   ],
   "source": [
    "f\"{n:,}\""
   ]
  },
  {
   "cell_type": "code",
   "execution_count": 59,
   "id": "0f5be06d",
   "metadata": {},
   "outputs": [
    {
     "data": {
      "text/plain": [
       "'abc 3 def'"
      ]
     },
     "execution_count": 59,
     "metadata": {},
     "output_type": "execute_result"
    }
   ],
   "source": [
    "f\"abc {1+2} def\""
   ]
  },
  {
   "cell_type": "code",
   "execution_count": 60,
   "id": "5506b36b",
   "metadata": {},
   "outputs": [
    {
     "data": {
      "text/plain": [
       "'abc 3.00 def'"
      ]
     },
     "execution_count": 60,
     "metadata": {},
     "output_type": "execute_result"
    }
   ],
   "source": [
    "# format number with 2 decimal places\n",
    "f\"abc {1+2:.2f} def\""
   ]
  },
  {
   "cell_type": "code",
   "execution_count": 61,
   "id": "434b0dce",
   "metadata": {},
   "outputs": [
    {
     "data": {
      "text/plain": [
       "'abc       3.00 def'"
      ]
     },
     "execution_count": 61,
     "metadata": {},
     "output_type": "execute_result"
    }
   ],
   "source": [
    "# format number with 2 decimal places and 10 spaces\n",
    "f\"abc {1+2:10.2f} def\""
   ]
  },
  {
   "cell_type": "code",
   "execution_count": null,
   "id": "f2783540",
   "metadata": {},
   "outputs": [
    {
     "data": {
      "text/plain": [
       "'abc 2,001.00 def'"
      ]
     },
     "metadata": {},
     "output_type": "display_data"
    }
   ],
   "source": [
    "# thousands separator\n",
    "f\"abc {1+2*1000:,.2f} def\""
   ]
  },
  {
   "cell_type": "code",
   "execution_count": null,
   "id": "ef1dcdb9",
   "metadata": {},
   "outputs": [
    {
     "data": {
      "text/plain": [
       "'abc 2.00e+03 def'"
      ]
     },
     "metadata": {},
     "output_type": "display_data"
    }
   ],
   "source": [
    "# scientific notation\n",
    "f\"abc {1+2*1000:.2e} def\""
   ]
  },
  {
   "cell_type": "code",
   "execution_count": null,
   "id": "11cad184",
   "metadata": {},
   "outputs": [
    {
     "data": {
      "text/plain": [
       "'abc 21.0 def'"
      ]
     },
     "metadata": {},
     "output_type": "display_data"
    }
   ],
   "source": [
    "# rounding to 1 decimal place\n",
    "f\"abc {1.03+2*10:.1f} def\""
   ]
  },
  {
   "cell_type": "code",
   "execution_count": null,
   "id": "1760a588",
   "metadata": {},
   "outputs": [
    {
     "data": {
      "text/plain": [
       "'abc 21 def'"
      ]
     },
     "metadata": {},
     "output_type": "display_data"
    }
   ],
   "source": [
    "# rounding to 2 significant figures\n",
    "f\"abc {1.03+2*10:.2g} def\""
   ]
  },
  {
   "cell_type": "code",
   "execution_count": null,
   "id": "39e5ce5f",
   "metadata": {},
   "outputs": [
    {
     "data": {
      "text/plain": [
       "'abc 2103.00% def'"
      ]
     },
     "metadata": {},
     "output_type": "display_data"
    }
   ],
   "source": [
    "# percentage\n",
    "f\"abc {1.03+2*10:.2%} def\""
   ]
  },
  {
   "cell_type": "code",
   "execution_count": null,
   "id": "ae42e57d",
   "metadata": {},
   "outputs": [
    {
     "data": {
      "text/plain": [
       "'abc +3 def'"
      ]
     },
     "metadata": {},
     "output_type": "display_data"
    }
   ],
   "source": [
    "# show sign +, -, or space\n",
    "f\"abc {1+2:+} def\""
   ]
  },
  {
   "cell_type": "code",
   "execution_count": null,
   "id": "07801a9e",
   "metadata": {},
   "outputs": [
    {
     "data": {
      "text/plain": [
       "'abc 3 def'"
      ]
     },
     "metadata": {},
     "output_type": "display_data"
    }
   ],
   "source": [
    "f\"abc {1+2:-} def\""
   ]
  },
  {
   "cell_type": "code",
   "execution_count": null,
   "id": "6b03ae15",
   "metadata": {},
   "outputs": [],
   "source": [
    "number = 1 + 2"
   ]
  },
  {
   "cell_type": "code",
   "execution_count": null,
   "id": "f32a1813",
   "metadata": {},
   "outputs": [
    {
     "data": {
      "text/plain": [
       "'abc +3 def'"
      ]
     },
     "metadata": {},
     "output_type": "display_data"
    }
   ],
   "source": [
    "f\"abc {number:+} def\""
   ]
  },
  {
   "cell_type": "code",
   "execution_count": null,
   "id": "bc426b75",
   "metadata": {},
   "outputs": [],
   "source": [
    "number = -2"
   ]
  },
  {
   "cell_type": "code",
   "execution_count": null,
   "id": "14dea0cd",
   "metadata": {},
   "outputs": [
    {
     "data": {
      "text/plain": [
       "'abc -2 def'"
      ]
     },
     "metadata": {},
     "output_type": "display_data"
    }
   ],
   "source": [
    "f\"abc {number:+} def\""
   ]
  },
  {
   "cell_type": "markdown",
   "id": "4b121612",
   "metadata": {},
   "source": [
    "### alignment"
   ]
  },
  {
   "cell_type": "code",
   "execution_count": 62,
   "id": "9dedc8d0",
   "metadata": {},
   "outputs": [
    {
     "data": {
      "text/plain": [
       "'abc 3.00       def'"
      ]
     },
     "execution_count": 62,
     "metadata": {},
     "output_type": "execute_result"
    }
   ],
   "source": [
    "# left align\n",
    "f\"abc {1+2:<10.2f} def\""
   ]
  },
  {
   "cell_type": "code",
   "execution_count": 63,
   "id": "93dcfb66",
   "metadata": {},
   "outputs": [
    {
     "data": {
      "text/plain": [
       "'abc       3.00 def'"
      ]
     },
     "execution_count": 63,
     "metadata": {},
     "output_type": "execute_result"
    }
   ],
   "source": [
    "# right align\n",
    "f\"abc {1+2:>10.2f} def\""
   ]
  },
  {
   "cell_type": "code",
   "execution_count": 64,
   "id": "6ef25631",
   "metadata": {},
   "outputs": [
    {
     "data": {
      "text/plain": [
       "'abc    3.00    def'"
      ]
     },
     "execution_count": 64,
     "metadata": {},
     "output_type": "execute_result"
    }
   ],
   "source": [
    "# center align\n",
    "f\"abc {1+2:^10.2f} def\""
   ]
  },
  {
   "cell_type": "markdown",
   "id": "4303a7c5",
   "metadata": {},
   "source": [
    "### fill"
   ]
  },
  {
   "cell_type": "code",
   "execution_count": 65,
   "id": "24bed1b3",
   "metadata": {},
   "outputs": [
    {
     "data": {
      "text/plain": [
       "'abc 0000003.00 def'"
      ]
     },
     "execution_count": 65,
     "metadata": {},
     "output_type": "execute_result"
    }
   ],
   "source": [
    "# fill with 0\n",
    "f\"abc {1+2:010.2f} def\""
   ]
  },
  {
   "cell_type": "code",
   "execution_count": 66,
   "id": "8432cb3a",
   "metadata": {},
   "outputs": [
    {
     "data": {
      "text/plain": [
       "['00',\n",
       " '01',\n",
       " '02',\n",
       " '03',\n",
       " '04',\n",
       " '05',\n",
       " '06',\n",
       " '07',\n",
       " '08',\n",
       " '09',\n",
       " '10',\n",
       " '11',\n",
       " '12',\n",
       " '13',\n",
       " '14',\n",
       " '15',\n",
       " '16',\n",
       " '17',\n",
       " '18',\n",
       " '19']"
      ]
     },
     "execution_count": 66,
     "metadata": {},
     "output_type": "execute_result"
    }
   ],
   "source": [
    "[f\"{i:02}\" for i in range(20)]"
   ]
  },
  {
   "cell_type": "markdown",
   "id": "0120a403",
   "metadata": {},
   "source": [
    "### repr"
   ]
  },
  {
   "cell_type": "code",
   "execution_count": 72,
   "id": "a400cd9e",
   "metadata": {},
   "outputs": [
    {
     "data": {
      "text/plain": [
       "\"abc <class 'object'> def\""
      ]
     },
     "execution_count": 72,
     "metadata": {},
     "output_type": "execute_result"
    }
   ],
   "source": [
    "# \\! is conversion flag, r is repr\n",
    "f\"abc {object} def\""
   ]
  },
  {
   "cell_type": "code",
   "execution_count": 73,
   "id": "e99ef9eb",
   "metadata": {},
   "outputs": [
    {
     "data": {
      "text/plain": [
       "\"abc <class 'object'> def\""
      ]
     },
     "execution_count": 73,
     "metadata": {},
     "output_type": "execute_result"
    }
   ],
   "source": [
    "f\"abc {object!r} def\"  # same as repr(object)"
   ]
  },
  {
   "cell_type": "code",
   "execution_count": 74,
   "id": "047593cb",
   "metadata": {},
   "outputs": [
    {
     "data": {
      "text/plain": [
       "\"abc <class 'object'> def\""
      ]
     },
     "execution_count": 74,
     "metadata": {},
     "output_type": "execute_result"
    }
   ],
   "source": [
    "f\"abc {object!s} def\"  # same as str(object)"
   ]
  },
  {
   "cell_type": "code",
   "execution_count": 75,
   "id": "1533a002",
   "metadata": {},
   "outputs": [
    {
     "data": {
      "text/plain": [
       "\"abc <class 'object'> def\""
      ]
     },
     "execution_count": 75,
     "metadata": {},
     "output_type": "execute_result"
    }
   ],
   "source": [
    "f\"abc {object!a} def\"  # same as ascii(object)"
   ]
  },
  {
   "cell_type": "markdown",
   "id": "af691055",
   "metadata": {},
   "source": [
    "### string"
   ]
  },
  {
   "cell_type": "code",
   "execution_count": 87,
   "id": "1ce1de40",
   "metadata": {},
   "outputs": [
    {
     "data": {
      "text/plain": [
       "'abc aaa        def'"
      ]
     },
     "execution_count": 87,
     "metadata": {},
     "output_type": "execute_result"
    }
   ],
   "source": [
    "# alpha numeric\n",
    "######################\n",
    "# format string with 10 spaces\n",
    "f\"abc {'aaa':10s} def\""
   ]
  },
  {
   "cell_type": "code",
   "execution_count": 88,
   "id": "a4ff1f86",
   "metadata": {},
   "outputs": [
    {
     "data": {
      "text/plain": [
       "'abc aaa        def'"
      ]
     },
     "execution_count": 88,
     "metadata": {},
     "output_type": "execute_result"
    }
   ],
   "source": [
    "# left align\n",
    "f\"abc {'aaa':<10s} def\""
   ]
  },
  {
   "cell_type": "code",
   "execution_count": 91,
   "id": "19e91d91",
   "metadata": {},
   "outputs": [
    {
     "data": {
      "text/plain": [
       "'abc        aaa def'"
      ]
     },
     "execution_count": 91,
     "metadata": {},
     "output_type": "execute_result"
    }
   ],
   "source": [
    "# right align\n",
    "f\"abc {'aaa':>10s} def\""
   ]
  },
  {
   "cell_type": "markdown",
   "id": "08b9bacf",
   "metadata": {},
   "source": [
    "### date"
   ]
  },
  {
   "cell_type": "code",
   "execution_count": 2,
   "id": "134a4bdd",
   "metadata": {},
   "outputs": [],
   "source": [
    "from datetime import datetime\n",
    "\n",
    "now = datetime.now()"
   ]
  },
  {
   "cell_type": "code",
   "execution_count": 3,
   "id": "823b11d5",
   "metadata": {},
   "outputs": [
    {
     "data": {
      "text/plain": [
       "'2024-02-17 22:01:19'"
      ]
     },
     "execution_count": 3,
     "metadata": {},
     "output_type": "execute_result"
    }
   ],
   "source": [
    "f\"{now:%Y-%m-%d %H:%M:%S}\""
   ]
  }
 ],
 "metadata": {
  "kernelspec": {
   "display_name": "Python 3",
   "language": "python",
   "name": "python3"
  },
  "language_info": {
   "codemirror_mode": {
    "name": "ipython",
    "version": 3
   },
   "file_extension": ".py",
   "mimetype": "text/x-python",
   "name": "python",
   "nbconvert_exporter": "python",
   "pygments_lexer": "ipython3",
   "version": "3.12.1"
  }
 },
 "nbformat": 4,
 "nbformat_minor": 5
}
