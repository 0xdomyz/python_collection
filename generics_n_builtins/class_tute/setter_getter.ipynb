{
 "cells": [
  {
   "cell_type": "code",
   "execution_count": 8,
   "id": "41d1707a",
   "metadata": {},
   "outputs": [],
   "source": [
    "class Card:\n",
    "    VALID_COLORS = {\"s\", \"h\", \"d\", \"c\"}  # spades, hearts, diamonds, clubs\n",
    "    VALID_NUMBERS = {str(n) for n in range(1, 14)}  # 1-13\n",
    "\n",
    "    def __init__(self, card):\n",
    "        self.card = card  # This will use the setter below\n",
    "\n",
    "    @property\n",
    "    def card(self):\n",
    "        return self._card\n",
    "\n",
    "    @card.setter\n",
    "    def card(self, value):\n",
    "        # Example: value should be like \"s8\" (spades 8)\n",
    "        if not isinstance(value, str) or len(value) < 2:\n",
    "            raise ValueError(\"Card must be a string like 's8'\")\n",
    "        color = value[0]\n",
    "        number = value[1:]\n",
    "        if color not in self.VALID_COLORS:\n",
    "            raise ValueError(f\"Invalid color: {color}\")\n",
    "        if number not in self.VALID_NUMBERS:\n",
    "            raise ValueError(f\"Invalid number: {number}\")\n",
    "        self._card = value\n",
    "\n",
    "    def __repr__(self):\n",
    "        return f\"Card('{self.card}')\""
   ]
  },
  {
   "cell_type": "code",
   "execution_count": 9,
   "id": "896ee8eb",
   "metadata": {},
   "outputs": [
    {
     "data": {
      "text/plain": [
       "Card('s8')"
      ]
     },
     "execution_count": 9,
     "metadata": {},
     "output_type": "execute_result"
    }
   ],
   "source": [
    "c = Card(\"s8\")\n",
    "c"
   ]
  },
  {
   "cell_type": "code",
   "execution_count": 12,
   "id": "811e1d6d",
   "metadata": {},
   "outputs": [
    {
     "data": {
      "text/plain": [
       "Card('h12')"
      ]
     },
     "execution_count": 12,
     "metadata": {},
     "output_type": "execute_result"
    }
   ],
   "source": [
    "c.card = \"h12\"  # valid\n",
    "c"
   ]
  },
  {
   "cell_type": "code",
   "execution_count": 13,
   "id": "86008cc9",
   "metadata": {},
   "outputs": [
    {
     "ename": "ValueError",
     "evalue": "Invalid color: x",
     "output_type": "error",
     "traceback": [
      "\u001b[31m---------------------------------------------------------------------------\u001b[39m",
      "\u001b[31mValueError\u001b[39m                                Traceback (most recent call last)",
      "\u001b[36mCell\u001b[39m\u001b[36m \u001b[39m\u001b[32mIn[13]\u001b[39m\u001b[32m, line 1\u001b[39m\n\u001b[32m----> \u001b[39m\u001b[32m1\u001b[39m \u001b[43mc\u001b[49m\u001b[43m.\u001b[49m\u001b[43mcard\u001b[49m = \u001b[33m\"\u001b[39m\u001b[33mx5\u001b[39m\u001b[33m\"\u001b[39m  \u001b[38;5;66;03m# raises ValueError: Invalid color: x\u001b[39;00m\n",
      "\u001b[36mCell\u001b[39m\u001b[36m \u001b[39m\u001b[32mIn[8]\u001b[39m\u001b[32m, line 20\u001b[39m, in \u001b[36mCard.card\u001b[39m\u001b[34m(self, value)\u001b[39m\n\u001b[32m     18\u001b[39m number = value[\u001b[32m1\u001b[39m:]\n\u001b[32m     19\u001b[39m \u001b[38;5;28;01mif\u001b[39;00m color \u001b[38;5;129;01mnot\u001b[39;00m \u001b[38;5;129;01min\u001b[39;00m \u001b[38;5;28mself\u001b[39m.VALID_COLORS:\n\u001b[32m---> \u001b[39m\u001b[32m20\u001b[39m     \u001b[38;5;28;01mraise\u001b[39;00m \u001b[38;5;167;01mValueError\u001b[39;00m(\u001b[33mf\u001b[39m\u001b[33m\"\u001b[39m\u001b[33mInvalid color: \u001b[39m\u001b[38;5;132;01m{\u001b[39;00mcolor\u001b[38;5;132;01m}\u001b[39;00m\u001b[33m\"\u001b[39m)\n\u001b[32m     21\u001b[39m \u001b[38;5;28;01mif\u001b[39;00m number \u001b[38;5;129;01mnot\u001b[39;00m \u001b[38;5;129;01min\u001b[39;00m \u001b[38;5;28mself\u001b[39m.VALID_NUMBERS:\n\u001b[32m     22\u001b[39m     \u001b[38;5;28;01mraise\u001b[39;00m \u001b[38;5;167;01mValueError\u001b[39;00m(\u001b[33mf\u001b[39m\u001b[33m\"\u001b[39m\u001b[33mInvalid number: \u001b[39m\u001b[38;5;132;01m{\u001b[39;00mnumber\u001b[38;5;132;01m}\u001b[39;00m\u001b[33m\"\u001b[39m)\n",
      "\u001b[31mValueError\u001b[39m: Invalid color: x"
     ]
    }
   ],
   "source": [
    "c.card = \"x5\"  # raises ValueError: Invalid color: x"
   ]
  },
  {
   "cell_type": "code",
   "execution_count": 14,
   "id": "e8b83bd5",
   "metadata": {},
   "outputs": [
    {
     "ename": "ValueError",
     "evalue": "Invalid number: 15",
     "output_type": "error",
     "traceback": [
      "\u001b[31m---------------------------------------------------------------------------\u001b[39m",
      "\u001b[31mValueError\u001b[39m                                Traceback (most recent call last)",
      "\u001b[36mCell\u001b[39m\u001b[36m \u001b[39m\u001b[32mIn[14]\u001b[39m\u001b[32m, line 1\u001b[39m\n\u001b[32m----> \u001b[39m\u001b[32m1\u001b[39m \u001b[43mc\u001b[49m\u001b[43m.\u001b[49m\u001b[43mcard\u001b[49m = \u001b[33m\"\u001b[39m\u001b[33ms15\u001b[39m\u001b[33m\"\u001b[39m \u001b[38;5;66;03m# raises ValueError: Invalid number: 15\u001b[39;00m\n",
      "\u001b[36mCell\u001b[39m\u001b[36m \u001b[39m\u001b[32mIn[8]\u001b[39m\u001b[32m, line 22\u001b[39m, in \u001b[36mCard.card\u001b[39m\u001b[34m(self, value)\u001b[39m\n\u001b[32m     20\u001b[39m     \u001b[38;5;28;01mraise\u001b[39;00m \u001b[38;5;167;01mValueError\u001b[39;00m(\u001b[33mf\u001b[39m\u001b[33m\"\u001b[39m\u001b[33mInvalid color: \u001b[39m\u001b[38;5;132;01m{\u001b[39;00mcolor\u001b[38;5;132;01m}\u001b[39;00m\u001b[33m\"\u001b[39m)\n\u001b[32m     21\u001b[39m \u001b[38;5;28;01mif\u001b[39;00m number \u001b[38;5;129;01mnot\u001b[39;00m \u001b[38;5;129;01min\u001b[39;00m \u001b[38;5;28mself\u001b[39m.VALID_NUMBERS:\n\u001b[32m---> \u001b[39m\u001b[32m22\u001b[39m     \u001b[38;5;28;01mraise\u001b[39;00m \u001b[38;5;167;01mValueError\u001b[39;00m(\u001b[33mf\u001b[39m\u001b[33m\"\u001b[39m\u001b[33mInvalid number: \u001b[39m\u001b[38;5;132;01m{\u001b[39;00mnumber\u001b[38;5;132;01m}\u001b[39;00m\u001b[33m\"\u001b[39m)\n\u001b[32m     23\u001b[39m \u001b[38;5;28mself\u001b[39m._card = value\n",
      "\u001b[31mValueError\u001b[39m: Invalid number: 15"
     ]
    }
   ],
   "source": [
    "c.card = \"s15\"  # raises ValueError: Invalid number: 15"
   ]
  }
 ],
 "metadata": {
  "kernelspec": {
   "display_name": "Python 3",
   "language": "python",
   "name": "python3"
  },
  "language_info": {
   "codemirror_mode": {
    "name": "ipython",
    "version": 3
   },
   "file_extension": ".py",
   "mimetype": "text/x-python",
   "name": "python",
   "nbconvert_exporter": "python",
   "pygments_lexer": "ipython3",
   "version": "3.13.2"
  }
 },
 "nbformat": 4,
 "nbformat_minor": 5
}
