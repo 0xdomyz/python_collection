{
 "cells": [
  {
   "cell_type": "markdown",
   "metadata": {},
   "source": [
    "### sandpit"
   ]
  },
  {
   "cell_type": "code",
   "execution_count": null,
   "metadata": {},
   "outputs": [],
   "source": [
    "import paramiko\n",
    "\n",
    "ssh = paramiko.SSHClient()\n",
    "ssh.set_missing_host_key_policy(\n",
    "    paramiko.AutoAddPolicy()\n",
    ")  # Automatically add the server's SSH key without prompting\n",
    "ssh.connect(\"hostname\", username=\"username\", password=\"password\")\n",
    "\n",
    "stdin, stdout, stderr = ssh.exec_command(\n",
    "    \"ls\"\n",
    ")  # Execute a command on the remote machine\n",
    "print(stdout.read().decode())  # Print the output of the command\n",
    "\n",
    "ssh.close()  # Close the SSH connection"
   ]
  },
  {
   "cell_type": "code",
   "execution_count": null,
   "metadata": {},
   "outputs": [],
   "source": [
    "import paramiko\n",
    "\n",
    "private_key_path = \"/path/to/your/private/key\"\n",
    "\n",
    "private_key = paramiko.RSAKey.from_private_key_file(private_key_path)\n",
    "ssh = paramiko.SSHClient()\n",
    "ssh.set_missing_host_key_policy(paramiko.AutoAddPolicy())\n",
    "ssh.connect(\"hostname\", username=\"username\", pkey=private_key)\n",
    "\n",
    "stdin, stdout, stderr = ssh.exec_command(\"ls\")\n",
    "print(stdout.read().decode())\n",
    "\n",
    "ssh.close()"
   ]
  },
  {
   "cell_type": "code",
   "execution_count": null,
   "metadata": {},
   "outputs": [],
   "source": [
    "import paramiko\n",
    "import pandas as pd\n",
    "\n",
    "# SSH connection details\n",
    "hostname = \"192.168.0.166\"\n",
    "username = \"pi\"\n",
    "password = \"asdfasdf\"\n",
    "\n",
    "# Remote Python code to generate the dataframe\n",
    "remote_code = \"\"\"\n",
    "import pandas as pd\n",
    "\n",
    "# example dummy data as a test\n",
    "data = {'col1': [1, 2, 3, 4], 'col2': [5, 6, 7, 8]}\n",
    "df = pd.DataFrame(data)\n",
    "\n",
    "# Return the dataframe\n",
    "df.to_csv('/home/pi/remote_dataframe.csv')\n",
    "\"\"\"\n",
    "\n",
    "# Establish SSH connection\n",
    "ssh_client = paramiko.SSHClient()\n",
    "ssh_client.set_missing_host_key_policy(paramiko.AutoAddPolicy())\n",
    "ssh_client.connect(hostname, username=username, password=password)\n",
    "\n",
    "# Execute the remote Python code\n",
    "stdin, stdout, stderr = ssh_client.exec_command('python -c \"{}\"'.format(remote_code))\n",
    "\n",
    "# Wait for the command to finish\n",
    "stdout.channel.recv_exit_status()\n",
    "\n",
    "# Copy the remote dataframe file to local machine\n",
    "sftp_client = ssh_client.open_sftp()\n",
    "sftp_client.get(\"/home/pi/remote_dataframe.csv\", \"local_dataframe.csv\")\n",
    "sftp_client.close()\n",
    "\n",
    "# Close the SSH connection\n",
    "ssh_client.close()\n",
    "\n",
    "# Read the dataframe from the local file\n",
    "df = pd.read_csv(\"local_dataframe.csv\")\n",
    "\n",
    "# Now you can work with the dataframe in this notebook\n",
    "df"
   ]
  },
  {
   "cell_type": "code",
   "execution_count": null,
   "metadata": {},
   "outputs": [],
   "source": []
  },
  {
   "cell_type": "code",
   "execution_count": null,
   "metadata": {},
   "outputs": [],
   "source": []
  }
 ],
 "metadata": {
  "kernelspec": {
   "display_name": "Python 3",
   "language": "python",
   "name": "python3"
  },
  "language_info": {
   "codemirror_mode": {
    "name": "ipython",
    "version": 3
   },
   "file_extension": ".py",
   "mimetype": "text/x-python",
   "name": "python",
   "nbconvert_exporter": "python",
   "pygments_lexer": "ipython3",
   "version": "3.12.1"
  }
 },
 "nbformat": 4,
 "nbformat_minor": 2
}
