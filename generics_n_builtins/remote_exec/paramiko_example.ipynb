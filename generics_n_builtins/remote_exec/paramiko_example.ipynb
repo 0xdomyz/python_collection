{
 "cells": [
  {
   "cell_type": "markdown",
   "metadata": {},
   "source": [
    "### create a ssh client - via context manager"
   ]
  },
  {
   "cell_type": "code",
   "execution_count": 2,
   "metadata": {},
   "outputs": [
    {
     "name": "stdout",
     "output_type": "stream",
     "text": [
      "Bookshelf\n",
      "Desktop\n",
      "Documents\n",
      "Downloads\n",
      "Music\n",
      "Pictures\n",
      "Projects\n",
      "Public\n",
      "remote_dataframe.csv\n",
      "Templates\n",
      "Videos\n",
      "\n"
     ]
    }
   ],
   "source": [
    "import paramiko\n",
    "\n",
    "hostname = \"192.168.0.166\"\n",
    "username = \"pi\"\n",
    "\n",
    "# Establish SSH connection using a context manager\n",
    "with paramiko.SSHClient() as ssh_client:\n",
    "    ssh_client.set_missing_host_key_policy(paramiko.AutoAddPolicy())\n",
    "    ssh_client.connect(hostname, username=username)\n",
    "\n",
    "    # Execute the remote Python code\n",
    "    stdin, stdout, stderr = ssh_client.exec_command(\"ls\")\n",
    "\n",
    "    # Print the output of the command\n",
    "    print(stdout.read().decode())\n",
    "\n",
    "# The SSH connection will be automatically closed when exiting the context manager"
   ]
  },
  {
   "cell_type": "markdown",
   "metadata": {},
   "source": [
    "### create a sftp client - via context man"
   ]
  },
  {
   "cell_type": "code",
   "execution_count": null,
   "metadata": {},
   "outputs": [
    {
     "name": "stdout",
     "output_type": "stream",
     "text": [
      "Mon Mar 11 21:38:04 2024\n"
     ]
    }
   ],
   "source": [
    "import paramiko\n",
    "\n",
    "hostname = \"192.168.0.166\"\n",
    "username = \"pi\"\n",
    "\n",
    "# ssh client\n",
    "with paramiko.SSHClient() as ssh_client:\n",
    "    ssh_client.set_missing_host_key_policy(paramiko.AutoAddPolicy())\n",
    "    ssh_client.connect(hostname, username=username)\n",
    "\n",
    "    # sftp client\n",
    "    with ssh_client.open_sftp() as sftp_client:\n",
    "        sftp_client.get(\"/home/pi/remote_dataframe.csv\", \"local_dataframe.csv\")\n",
    "        sftp_client.put(\"local_dataframe.csv\", \"/home/pi/remote_dataframe.csv\")\n",
    "\n",
    "# Show timestamp on local file\n",
    "import os\n",
    "import time\n",
    "\n",
    "ts = os.path.getmtime(\"local_dataframe.csv\")\n",
    "print(time.ctime(ts))"
   ]
  },
  {
   "cell_type": "code",
   "execution_count": null,
   "metadata": {},
   "outputs": [],
   "source": []
  },
  {
   "cell_type": "code",
   "execution_count": null,
   "metadata": {},
   "outputs": [],
   "source": []
  },
  {
   "cell_type": "markdown",
   "metadata": {},
   "source": [
    "### create a ssh client"
   ]
  },
  {
   "cell_type": "code",
   "execution_count": 1,
   "metadata": {},
   "outputs": [
    {
     "name": "stdout",
     "output_type": "stream",
     "text": [
      "Bookshelf\n",
      "Desktop\n",
      "Documents\n",
      "Downloads\n",
      "Music\n",
      "Pictures\n",
      "Projects\n",
      "Public\n",
      "remote_dataframe.csv\n",
      "Templates\n",
      "Videos\n",
      "\n"
     ]
    }
   ],
   "source": [
    "import paramiko\n",
    "\n",
    "hostname = \"192.168.0.166\"\n",
    "username = \"pi\"\n",
    "\n",
    "# Establish SSH connection\n",
    "ssh_client = paramiko.SSHClient()\n",
    "ssh_client.set_missing_host_key_policy(paramiko.AutoAddPolicy())\n",
    "ssh_client.connect(hostname, username=username)\n",
    "\n",
    "# Execute the remote Python code\n",
    "stdin, stdout, stderr = ssh_client.exec_command(\"ls\")\n",
    "\n",
    "# Print the output of the command\n",
    "print(stdout.read().decode())\n",
    "\n",
    "# Wait for the command to finish\n",
    "stdout.channel.recv_exit_status()\n",
    "\n",
    "# Close the SSH connection\n",
    "ssh_client.close()"
   ]
  },
  {
   "cell_type": "markdown",
   "metadata": {},
   "source": [
    "### create a sftp client"
   ]
  },
  {
   "cell_type": "code",
   "execution_count": 5,
   "metadata": {},
   "outputs": [
    {
     "name": "stdout",
     "output_type": "stream",
     "text": [
      "Mon Mar 11 21:01:45 2024\n"
     ]
    }
   ],
   "source": [
    "import paramiko\n",
    "\n",
    "hostname = \"192.168.0.166\"\n",
    "username = \"pi\"\n",
    "\n",
    "# Establish SSH connection using a context manager\n",
    "with paramiko.SSHClient() as ssh_client:\n",
    "    ssh_client.set_missing_host_key_policy(paramiko.AutoAddPolicy())\n",
    "    ssh_client.connect(hostname, username=username)\n",
    "\n",
    "    # Copy the remote dataframe file to local machine\n",
    "    sftp_client = ssh_client.open_sftp()\n",
    "    sftp_client.get(\"/home/pi/remote_dataframe.csv\", \"local_dataframe.csv\")\n",
    "    sftp_client.close()\n",
    "\n",
    "# shwo timestamp on local file\n",
    "import os\n",
    "import time\n",
    "\n",
    "ts = os.path.getmtime(\"local_dataframe.csv\")\n",
    "print(time.ctime(ts))"
   ]
  }
 ],
 "metadata": {
  "kernelspec": {
   "display_name": "Python 3",
   "language": "python",
   "name": "python3"
  },
  "language_info": {
   "codemirror_mode": {
    "name": "ipython",
    "version": 3
   },
   "file_extension": ".py",
   "mimetype": "text/x-python",
   "name": "python",
   "nbconvert_exporter": "python",
   "pygments_lexer": "ipython3",
   "version": "3.12.1"
  }
 },
 "nbformat": 4,
 "nbformat_minor": 2
}
