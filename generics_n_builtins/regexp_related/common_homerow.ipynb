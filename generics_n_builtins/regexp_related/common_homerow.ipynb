{
 "cells": [
  {
   "cell_type": "code",
   "execution_count": 1,
   "metadata": {},
   "outputs": [],
   "source": [
    "import re"
   ]
  },
  {
   "cell_type": "code",
   "execution_count": 2,
   "metadata": {},
   "outputs": [],
   "source": [
    "words = []\n",
    "\n",
    "# Read the dictionary file\n",
    "with open(\"words/oxford_5k.txt\", \"r\") as file:\n",
    "    for line in file:\n",
    "        word_lst = line.split(\" \")\n",
    "        for word in word_lst:\n",
    "            word = word.strip().lower()\n",
    "\n",
    "            # Check if most of the word uses the home row\n",
    "            n_home_row = 0\n",
    "            pct_req = 0.99\n",
    "            n_home_row = len(re.findall(\"[arstdhneio]\", word))\n",
    "            if n_home_row / len(word) >= pct_req:\n",
    "                words.append(word)"
   ]
  },
  {
   "cell_type": "code",
   "execution_count": 3,
   "metadata": {},
   "outputs": [
    {
     "name": "stdout",
     "output_type": "stream",
     "text": [
      "len(words) = 99\n"
     ]
    }
   ],
   "source": [
    "# Print the list of words\n",
    "print(f\"{len(words) = }\")"
   ]
  },
  {
   "cell_type": "code",
   "execution_count": 4,
   "metadata": {},
   "outputs": [
    {
     "name": "stdout",
     "output_type": "stream",
     "text": [
      "adhere\n",
      "aide\n",
      "aids\n",
      "arena\n",
      "ash\n",
      "aside\n",
      "assassination\n",
      "assert\n",
      "assertion\n",
      "asset\n",
      "attain\n",
      "dare\n",
      "deed\n",
      "dense\n",
      "detain\n",
      "detention\n",
      "deteriorate\n",
      "disorder\n",
      "distant\n",
      "distort\n",
      "distress\n",
      "donation\n",
      "donor\n",
      "dose\n",
      "dot\n",
      "drain\n",
      "ease\n",
      "endorse\n",
      "era\n",
      "harsh\n",
      "hatred\n",
      "hidden\n",
      "hint\n",
      "historian\n",
      "horn\n",
      "idiot\n",
      "inherent\n",
      "inherit\n",
      "initiate\n",
      "insert\n",
      "insertion\n",
      "insider\n",
      "instant\n",
      "intent\n",
      "interior\n",
      "nest\n",
      "net\n",
      "nod\n",
      "nonsense\n",
      "noon\n",
      "odds\n",
      "orientation\n",
      "radar\n",
      "radiation\n",
      "raid\n",
      "rat\n",
      "ratio\n",
      "rear\n",
      "render\n",
      "reside\n",
      "restoration\n",
      "restore\n",
      "restraint\n",
      "retreat\n",
      "riot\n",
      "rod\n",
      "rose\n",
      "rotate\n",
      "rotation\n",
      "saint\n",
      "senator\n",
      "sensation\n",
      "shatter\n",
      "shed\n",
      "sheer\n",
      "shoot\n",
      "shore\n",
      "sin\n",
      "soar\n",
      "steer\n",
      "stir\n",
      "strain\n",
      "strand\n",
      "teens\n",
      "tenant\n",
      "tender\n",
      "tension\n",
      "terrain\n",
      "terror\n",
      "terrorist\n",
      "thesis\n",
      "thread\n",
      "tide\n",
      "ton\n",
      "tonne\n",
      "toss\n",
      "trait\n",
      "transit\n",
      "trio\n"
     ]
    }
   ],
   "source": [
    "for word in words:\n",
    "    print(word)"
   ]
  },
  {
   "cell_type": "code",
   "execution_count": 5,
   "metadata": {},
   "outputs": [],
   "source": [
    "with open(\"words/home_row.txt\", \"w\") as file:\n",
    "    for word in words:\n",
    "        file.write(word + \" \")"
   ]
  }
 ],
 "metadata": {
  "kernelspec": {
   "display_name": "Python 3",
   "language": "python",
   "name": "python3"
  },
  "language_info": {
   "codemirror_mode": {
    "name": "ipython",
    "version": 3
   },
   "file_extension": ".py",
   "mimetype": "text/x-python",
   "name": "python",
   "nbconvert_exporter": "python",
   "pygments_lexer": "ipython3",
   "version": "3.12.1"
  }
 },
 "nbformat": 4,
 "nbformat_minor": 2
}
