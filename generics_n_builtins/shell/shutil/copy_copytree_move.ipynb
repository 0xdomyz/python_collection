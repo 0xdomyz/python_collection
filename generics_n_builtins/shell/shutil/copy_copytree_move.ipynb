{
 "cells": [
  {
   "cell_type": "code",
   "execution_count": 3,
   "metadata": {},
   "outputs": [],
   "source": [
    "import shutil\n",
    "from pathlib import Path"
   ]
  },
  {
   "cell_type": "markdown",
   "metadata": {},
   "source": [
    "### setup"
   ]
  },
  {
   "cell_type": "code",
   "execution_count": 5,
   "metadata": {},
   "outputs": [],
   "source": [
    "def teardown():\n",
    "    try:\n",
    "        shutil.rmtree(Path(\"./f1\"))\n",
    "    except:\n",
    "        pass\n",
    "\n",
    "    try:\n",
    "        shutil.rmtree(Path(\"./f2\"))\n",
    "    except:\n",
    "        pass\n",
    "\n",
    "\n",
    "def setup():\n",
    "\n",
    "    teardown()\n",
    "\n",
    "    Path(\"./f1/f1_f1\").mkdir(parents=True, exist_ok=True)\n",
    "    Path(\"./f2/f2_f1\").mkdir(parents=True, exist_ok=True)\n",
    "\n",
    "    Path(\"./f1/f1_f1/file1\").touch()\n",
    "    Path(\"./f2/f2_f1/file2\").touch()\n",
    "\n",
    "\n",
    "setup()"
   ]
  },
  {
   "cell_type": "code",
   "execution_count": 33,
   "metadata": {},
   "outputs": [
    {
     "data": {
      "text/plain": [
       "WindowsPath('f2/f2_f1/file1')"
      ]
     },
     "execution_count": 33,
     "metadata": {},
     "output_type": "execute_result"
    }
   ],
   "source": [
    "# copy file to file\n",
    "setup()\n",
    "shutil.copy2(\n",
    "    src=Path(\"./f1/f1_f1/file1\"),\n",
    "    dst=Path(\"./f2/f2_f1/file1\"),\n",
    ")"
   ]
  },
  {
   "cell_type": "code",
   "execution_count": 34,
   "metadata": {},
   "outputs": [
    {
     "data": {
      "text/plain": [
       "'f2\\\\f2_f1\\\\file1'"
      ]
     },
     "execution_count": 34,
     "metadata": {},
     "output_type": "execute_result"
    }
   ],
   "source": [
    "# copy file to directory\n",
    "setup()\n",
    "shutil.copy2(\n",
    "    src=Path(\"./f1/f1_f1/file1\"),\n",
    "    dst=Path(\"./f2/f2_f1\"),\n",
    ")"
   ]
  },
  {
   "cell_type": "code",
   "execution_count": 35,
   "metadata": {},
   "outputs": [
    {
     "data": {
      "text/plain": [
       "WindowsPath('f2')"
      ]
     },
     "execution_count": 35,
     "metadata": {},
     "output_type": "execute_result"
    }
   ],
   "source": [
    "# copy directory to directory\n",
    "setup()\n",
    "shutil.copytree(\n",
    "    src=Path(\"./f1\"),\n",
    "    dst=Path(\"./f2\"),\n",
    "    dirs_exist_ok=True,\n",
    ")"
   ]
  },
  {
   "cell_type": "code",
   "execution_count": 37,
   "metadata": {},
   "outputs": [
    {
     "data": {
      "text/plain": [
       "WindowsPath('f2/f2_f1/file1')"
      ]
     },
     "execution_count": 37,
     "metadata": {},
     "output_type": "execute_result"
    }
   ],
   "source": [
    "# move file to file\n",
    "setup()\n",
    "shutil.move(\n",
    "    src=Path(\"./f1/f1_f1/file1\"),\n",
    "    dst=Path(\"./f2/f2_f1/file1\"),\n",
    ")"
   ]
  },
  {
   "cell_type": "code",
   "execution_count": 38,
   "metadata": {},
   "outputs": [
    {
     "data": {
      "text/plain": [
       "'f2\\\\f2_f1\\\\file1'"
      ]
     },
     "execution_count": 38,
     "metadata": {},
     "output_type": "execute_result"
    }
   ],
   "source": [
    "#  move file to directory\n",
    "setup()\n",
    "shutil.move(\n",
    "    src=Path(\"./f1/f1_f1/file1\"),\n",
    "    dst=Path(\"./f2/f2_f1\"),\n",
    ")"
   ]
  },
  {
   "cell_type": "code",
   "execution_count": 6,
   "metadata": {},
   "outputs": [],
   "source": [
    "teardown()"
   ]
  },
  {
   "cell_type": "code",
   "execution_count": null,
   "metadata": {},
   "outputs": [],
   "source": []
  },
  {
   "cell_type": "code",
   "execution_count": null,
   "metadata": {},
   "outputs": [],
   "source": []
  }
 ],
 "metadata": {
  "kernelspec": {
   "display_name": "Python 3",
   "language": "python",
   "name": "python3"
  },
  "language_info": {
   "codemirror_mode": {
    "name": "ipython",
    "version": 3
   },
   "file_extension": ".py",
   "mimetype": "text/x-python",
   "name": "python",
   "nbconvert_exporter": "python",
   "pygments_lexer": "ipython3",
   "version": "3.12.1"
  }
 },
 "nbformat": 4,
 "nbformat_minor": 2
}
