{
 "cells": [
  {
   "cell_type": "markdown",
   "metadata": {},
   "source": [
    "### experiment"
   ]
  },
  {
   "cell_type": "code",
   "execution_count": 9,
   "metadata": {},
   "outputs": [],
   "source": [
    "# png to jpg conversion using PIL library\n",
    "input = r\"E:\\wallpaper\\example.png\"\n",
    "output = r\"E:\\wallpaper\\example_opacity.png\"\n",
    "\n",
    "from PIL import Image\n",
    "import numpy as np\n",
    "\n",
    "img = Image.open(input).convert(\"RGBA\")\n",
    "\n"
   ]
  },
  {
   "cell_type": "code",
   "execution_count": 11,
   "metadata": {},
   "outputs": [
    {
     "data": {
      "text/plain": [
       "(2520, 1440)"
      ]
     },
     "execution_count": 11,
     "metadata": {},
     "output_type": "execute_result"
    }
   ],
   "source": [
    "img.size"
   ]
  },
  {
   "cell_type": "code",
   "execution_count": 14,
   "metadata": {},
   "outputs": [
    {
     "data": {
      "text/plain": [
       "(1440, 2520, 4)"
      ]
     },
     "execution_count": 14,
     "metadata": {},
     "output_type": "execute_result"
    }
   ],
   "source": [
    "pixels = np.array(img)\n",
    "pixels.shape"
   ]
  },
  {
   "cell_type": "code",
   "execution_count": 19,
   "metadata": {},
   "outputs": [
    {
     "data": {
      "text/plain": [
       "array([[[197, 220, 255, 255],\n",
       "        [197, 220, 255, 255],\n",
       "        [197, 220, 255, 255]],\n",
       "\n",
       "       [[197, 220, 255, 255],\n",
       "        [197, 220, 255, 255],\n",
       "        [197, 220, 255, 255]]], dtype=uint8)"
      ]
     },
     "execution_count": 19,
     "metadata": {},
     "output_type": "execute_result"
    }
   ],
   "source": [
    "pixels[:2,:3,:]"
   ]
  },
  {
   "cell_type": "code",
   "execution_count": 20,
   "metadata": {},
   "outputs": [],
   "source": [
    "pixels[:,:,3] = pixels[:,:,3] * 0.5"
   ]
  },
  {
   "cell_type": "code",
   "execution_count": 21,
   "metadata": {},
   "outputs": [],
   "source": [
    "img = Image.fromarray(pixels)"
   ]
  },
  {
   "cell_type": "code",
   "execution_count": 22,
   "metadata": {},
   "outputs": [],
   "source": [
    "img.save(output)\n"
   ]
  },
  {
   "cell_type": "markdown",
   "metadata": {},
   "source": [
    "### func"
   ]
  },
  {
   "cell_type": "code",
   "execution_count": 59,
   "metadata": {},
   "outputs": [],
   "source": [
    "# change opacity of an image\n",
    "from PIL import Image\n",
    "import numpy as np\n",
    "\n",
    "def change_opacity(image_path, output_path, opacity):\n",
    "    \"\"\"Change opacity of an image\n",
    "\n",
    "    the opacity value should be between 0 (fully transparent) and 1 (fully opaque)\n",
    "\n",
    "    Example\n",
    "    -------\n",
    "    ::\n",
    "        change_opacity(\n",
    "            image_path=\"E:/wallpaper/example.png\", \n",
    "            output_path=\"E:/wallpaper/example_opacity.png\", \n",
    "            opacity=0.1\n",
    "        )\n",
    "    \"\"\"\n",
    "    img = Image.open(image_path).convert(\"RGBA\")\n",
    "    \n",
    "    pixels = np.array(img)\n",
    "    pixels[:,:,3] = pixels[:,:,3] * opacity\n",
    "    img = Image.fromarray(pixels)\n",
    "\n",
    "    img.save(output_path)\n"
   ]
  },
  {
   "cell_type": "code",
   "execution_count": 24,
   "metadata": {},
   "outputs": [],
   "source": [
    "change_opacity(\n",
    "    image_path=\"E:/wallpaper/example.png\", \n",
    "    output_path=\"E:/wallpaper/example_opacity.png\", \n",
    "    opacity=0.1\n",
    ")"
   ]
  },
  {
   "cell_type": "markdown",
   "metadata": {},
   "source": [
    "### runs"
   ]
  },
  {
   "cell_type": "code",
   "execution_count": 64,
   "metadata": {},
   "outputs": [],
   "source": [
    "from pathlib import Path\n",
    "\n",
    "image_files = Path(\"E:/wallpaper\").glob(\"res007*training.png\")"
   ]
  },
  {
   "cell_type": "code",
   "execution_count": 35,
   "metadata": {},
   "outputs": [],
   "source": [
    "# for i in Path(\"E:/wallpaper\").glob(\"*_0.1.png\"):\n",
    "#     i.unlink()"
   ]
  },
  {
   "cell_type": "code",
   "execution_count": null,
   "metadata": {},
   "outputs": [],
   "source": [
    "opacity=0.5\n",
    "for file in image_files:\n",
    "    print(file)\n",
    "    new_file = Path(\"E:opacity\") / f\"{file.stem}_opa_{str(opacity).replace(\".\",\"\")}.png\"\n",
    "    change_opacity(\n",
    "        image_path=file.as_posix(), \n",
    "        output_path=new_file.as_posix(),\n",
    "        opacity=opacity\n",
    "    )"
   ]
  },
  {
   "cell_type": "code",
   "execution_count": 7,
   "metadata": {},
   "outputs": [],
   "source": [
    "file = r\"E:\\wallpaper\\epmeal.png\"\n",
    "\n",
    "for opa in range(1, 10):\n",
    "    change_opacity(\n",
    "        image_path=file, \n",
    "        output_path=r\"E:\\opacity\\exanome_{}.png\".format(opa), \n",
    "        opacity=opa/10\n",
    "    )"
   ]
  }
 ],
 "metadata": {
  "kernelspec": {
   "display_name": "Python 3",
   "language": "python",
   "name": "python3"
  },
  "language_info": {
   "codemirror_mode": {
    "name": "ipython",
    "version": 3
   },
   "file_extension": ".py",
   "mimetype": "text/x-python",
   "name": "python",
   "nbconvert_exporter": "python",
   "pygments_lexer": "ipython3",
   "version": "3.12.1"
  }
 },
 "nbformat": 4,
 "nbformat_minor": 2
}
