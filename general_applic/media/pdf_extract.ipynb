{
 "cells": [
  {
   "cell_type": "code",
   "execution_count": 12,
   "metadata": {},
   "outputs": [],
   "source": [
    "from pathlib import Path\n",
    "import pypdf"
   ]
  },
  {
   "cell_type": "code",
   "execution_count": 22,
   "metadata": {},
   "outputs": [],
   "source": [
    "def read_pdf(f):\n",
    "    # Open the PDF file and read all lines\n",
    "    pdf = pypdf.PdfReader(f)\n",
    "    num_pages = len(pdf.pages)\n",
    "\n",
    "    text = \"\"\n",
    "    for i in range(num_pages):\n",
    "        page = pdf.pages[i]\n",
    "        text += page.extract_text()\n",
    "    return text\n",
    "\n"
   ]
  },
  {
   "cell_type": "code",
   "execution_count": null,
   "metadata": {},
   "outputs": [],
   "source": [
    "text = \"\"\n",
    "for i in Path(\".\").iterdir():\n",
    "    if \"pdf\" in i.suffix:\n",
    "        print(i)\n",
    "        text += read_pdf(i)\n"
   ]
  },
  {
   "cell_type": "code",
   "execution_count": null,
   "metadata": {},
   "outputs": [],
   "source": [
    "content = text.split(\"\\n\")\n",
    "for i in range(len(content)):\n",
    "    if \"DEBIT INTEREST\" in content[i]:\n",
    "        print(content[i])\n",
    "        print(content[i+1])"
   ]
  },
  {
   "cell_type": "code",
   "execution_count": null,
   "metadata": {},
   "outputs": [],
   "source": []
  }
 ],
 "metadata": {
  "kernelspec": {
   "display_name": "Python 3",
   "language": "python",
   "name": "python3"
  },
  "language_info": {
   "codemirror_mode": {
    "name": "ipython",
    "version": 3
   },
   "file_extension": ".py",
   "mimetype": "text/x-python",
   "name": "python",
   "nbconvert_exporter": "python",
   "pygments_lexer": "ipython3",
   "version": "3.12.1"
  }
 },
 "nbformat": 4,
 "nbformat_minor": 2
}
