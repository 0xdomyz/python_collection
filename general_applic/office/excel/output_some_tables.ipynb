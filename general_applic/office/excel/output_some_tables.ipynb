{
 "cells": [
  {
   "cell_type": "code",
   "execution_count": 1,
   "id": "9a2de174",
   "metadata": {},
   "outputs": [],
   "source": [
    "import pandas as pd\n",
    "\n",
    "# Example DataFrame for table1\n",
    "table1 = pd.DataFrame({\n",
    "    \"ID\": [1, 2, 3],\n",
    "    \"Name\": [\"Alice\", \"Bob\", \"Charlie\"],\n",
    "    \"Amount\": [100, 200, 150]\n",
    "})\n",
    "\n",
    "# Example DataFrame for table2\n",
    "table2 = pd.DataFrame({\n",
    "    \"OrderID\": [101, 102],\n",
    "    \"Product\": [\"Widget\", \"Gadget\"],\n",
    "    \"Quantity\": [5, 10]\n",
    "})\n",
    "\n",
    "# Example DataFrame for table3\n",
    "table3 = pd.DataFrame({\n",
    "    \"OrderID\": [201, 202],\n",
    "    \"Status\": [\"Shipped\", \"Pending\"],\n",
    "    \"Date\": [\"2025-06-01\", \"2025-06-02\"]\n",
    "})\n",
    "\n",
    "# Example DataFrame for table4\n",
    "table4 = pd.DataFrame({\n",
    "    \"LoanID\": [301, 302, 303],\n",
    "    \"Customer\": [\"Dave\", \"Eve\", \"Frank\"],\n",
    "    \"Balance\": [1000, 1500, 1200]\n",
    "})\n",
    "\n",
    "# Example output path\n",
    "out_excel_path = \"example_output.xlsx\"\n",
    "# ...existing code...\n",
    "from pandas import ExcelWriter\n",
    "from openpyxl import Workbook\n",
    "from openpyxl.styles import Border, Side\n",
    "\n",
    "with ExcelWriter(out_excel_path, engine=\"openpyxl\", mode=\"w\") as writer:\n",
    "    table1.to_excel(writer, sheet_name=\"table1\", index=False)\n",
    "    table2.to_excel(writer, sheet_name=\"table2\", index=False)\n",
    "    table3.to_excel(writer, sheet_name=\"table3\", index=False)\n",
    "    table4.to_excel(writer, sheet_name=\"table4\", index=False)\n",
    "\n",
    "    # Remove header borders for all sheets\n",
    "    workbook = writer.book\n",
    "    for sheet_name in [\"table1\", \"table2\", \"table3\", \"table4\"]:\n",
    "        ws = workbook[sheet_name]\n",
    "        for cell in ws[1]:  # First row (header)\n",
    "            cell.border = Border(left=Side(border_style=None),\n",
    "                                right=Side(border_style=None),\n",
    "                                top=Side(border_style=None),\n",
    "                                bottom=Side(border_style=None))\n",
    "# ...existing code..."
   ]
  },
  {
   "cell_type": "code",
   "execution_count": null,
   "id": "2e67db16",
   "metadata": {},
   "outputs": [],
   "source": []
  },
  {
   "cell_type": "code",
   "execution_count": null,
   "id": "6e8e455d",
   "metadata": {},
   "outputs": [],
   "source": []
  }
 ],
 "metadata": {
  "kernelspec": {
   "display_name": "Python 3",
   "language": "python",
   "name": "python3"
  },
  "language_info": {
   "codemirror_mode": {
    "name": "ipython",
    "version": 3
   },
   "file_extension": ".py",
   "mimetype": "text/x-python",
   "name": "python",
   "nbconvert_exporter": "python",
   "pygments_lexer": "ipython3",
   "version": "3.13.2"
  }
 },
 "nbformat": 4,
 "nbformat_minor": 5
}
