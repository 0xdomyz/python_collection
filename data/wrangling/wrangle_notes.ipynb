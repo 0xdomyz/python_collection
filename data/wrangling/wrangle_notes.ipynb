{
 "cells": [
  {
   "cell_type": "markdown",
   "id": "445d61de",
   "metadata": {},
   "source": [
    "ref: https://pandas.pydata.org/Pandas_Cheat_Sheet.pdf"
   ]
  },
  {
   "cell_type": "code",
   "execution_count": 2,
   "id": "5f06bb2e",
   "metadata": {},
   "outputs": [],
   "source": [
    "import matplotlib.pyplot as plt\n",
    "import numpy as np\n",
    "import pandas as pd\n",
    "import statsmodels.api as sm\n",
    "from scipy import stats"
   ]
  },
  {
   "cell_type": "code",
   "execution_count": 3,
   "id": "c70e648e",
   "metadata": {},
   "outputs": [
    {
     "data": {
      "text/plain": [
       "(891, 15)"
      ]
     },
     "execution_count": 3,
     "metadata": {},
     "output_type": "execute_result"
    }
   ],
   "source": [
    "df = pd.read_csv(\"titanic.csv\")\n",
    "df.shape"
   ]
  },
  {
   "cell_type": "code",
   "execution_count": 4,
   "id": "c15932a1",
   "metadata": {},
   "outputs": [
    {
     "data": {
      "text/plain": [
       "(144, 3)"
      ]
     },
     "execution_count": 4,
     "metadata": {},
     "output_type": "execute_result"
    }
   ],
   "source": [
    "ts = pd.read_csv(\"flights.csv\")\n",
    "# Use %b for abbreviated month name (e.g., Jan, Feb, etc.)\n",
    "ts.index = pd.to_datetime(\n",
    "    ts[\"year\"].astype(str) + \"-\" + ts[\"month\"].astype(str) + \"-01\", format=\"%Y-%b-%d\"\n",
    ").dt.to_period(\"D\")\n",
    "ts.shape"
   ]
  },
  {
   "cell_type": "markdown",
   "id": "9348c53a",
   "metadata": {},
   "source": [
    "### overview"
   ]
  },
  {
   "cell_type": "code",
   "execution_count": 28,
   "id": "7c5eefcd",
   "metadata": {},
   "outputs": [
    {
     "data": {
      "text/plain": [
       "(891, 15)"
      ]
     },
     "execution_count": 28,
     "metadata": {},
     "output_type": "execute_result"
    }
   ],
   "source": [
    "df.shape"
   ]
  },
  {
   "cell_type": "code",
   "execution_count": 75,
   "id": "e25979ac",
   "metadata": {},
   "outputs": [
    {
     "data": {
      "application/vnd.microsoft.datawrangler.viewer.v0+json": {
       "columns": [
        {
         "name": "index",
         "rawType": "object",
         "type": "string"
        },
        {
         "name": "0",
         "rawType": "object",
         "type": "unknown"
        }
       ],
       "ref": "0091b533-bc2d-464e-9dc6-f920cac7e73a",
       "rows": [
        [
         "survived",
         "0"
        ],
        [
         "pclass",
         "3"
        ],
        [
         "sex",
         "male"
        ],
        [
         "age",
         "22.0"
        ],
        [
         "sibsp",
         "1"
        ],
        [
         "parch",
         "0"
        ],
        [
         "fare",
         "7.25"
        ],
        [
         "embarked",
         "S"
        ],
        [
         "class",
         "Third"
        ],
        [
         "who",
         "man"
        ],
        [
         "adult_male",
         "True"
        ],
        [
         "deck",
         null
        ],
        [
         "embark_town",
         "Southampton"
        ],
        [
         "alive",
         "no"
        ],
        [
         "alone",
         "False"
        ]
       ],
       "shape": {
        "columns": 1,
        "rows": 15
       }
      },
      "text/html": [
       "<div>\n",
       "<style scoped>\n",
       "    .dataframe tbody tr th:only-of-type {\n",
       "        vertical-align: middle;\n",
       "    }\n",
       "\n",
       "    .dataframe tbody tr th {\n",
       "        vertical-align: top;\n",
       "    }\n",
       "\n",
       "    .dataframe thead th {\n",
       "        text-align: right;\n",
       "    }\n",
       "</style>\n",
       "<table border=\"1\" class=\"dataframe\">\n",
       "  <thead>\n",
       "    <tr style=\"text-align: right;\">\n",
       "      <th></th>\n",
       "      <th>0</th>\n",
       "    </tr>\n",
       "  </thead>\n",
       "  <tbody>\n",
       "    <tr>\n",
       "      <th>survived</th>\n",
       "      <td>0</td>\n",
       "    </tr>\n",
       "    <tr>\n",
       "      <th>pclass</th>\n",
       "      <td>3</td>\n",
       "    </tr>\n",
       "    <tr>\n",
       "      <th>sex</th>\n",
       "      <td>male</td>\n",
       "    </tr>\n",
       "    <tr>\n",
       "      <th>age</th>\n",
       "      <td>22.0</td>\n",
       "    </tr>\n",
       "    <tr>\n",
       "      <th>sibsp</th>\n",
       "      <td>1</td>\n",
       "    </tr>\n",
       "    <tr>\n",
       "      <th>parch</th>\n",
       "      <td>0</td>\n",
       "    </tr>\n",
       "    <tr>\n",
       "      <th>fare</th>\n",
       "      <td>7.25</td>\n",
       "    </tr>\n",
       "    <tr>\n",
       "      <th>embarked</th>\n",
       "      <td>S</td>\n",
       "    </tr>\n",
       "    <tr>\n",
       "      <th>class</th>\n",
       "      <td>Third</td>\n",
       "    </tr>\n",
       "    <tr>\n",
       "      <th>who</th>\n",
       "      <td>man</td>\n",
       "    </tr>\n",
       "    <tr>\n",
       "      <th>adult_male</th>\n",
       "      <td>True</td>\n",
       "    </tr>\n",
       "    <tr>\n",
       "      <th>deck</th>\n",
       "      <td>NaN</td>\n",
       "    </tr>\n",
       "    <tr>\n",
       "      <th>embark_town</th>\n",
       "      <td>Southampton</td>\n",
       "    </tr>\n",
       "    <tr>\n",
       "      <th>alive</th>\n",
       "      <td>no</td>\n",
       "    </tr>\n",
       "    <tr>\n",
       "      <th>alone</th>\n",
       "      <td>False</td>\n",
       "    </tr>\n",
       "  </tbody>\n",
       "</table>\n",
       "</div>"
      ],
      "text/plain": [
       "                       0\n",
       "survived               0\n",
       "pclass                 3\n",
       "sex                 male\n",
       "age                 22.0\n",
       "sibsp                  1\n",
       "parch                  0\n",
       "fare                7.25\n",
       "embarked               S\n",
       "class              Third\n",
       "who                  man\n",
       "adult_male          True\n",
       "deck                 NaN\n",
       "embark_town  Southampton\n",
       "alive                 no\n",
       "alone              False"
      ]
     },
     "execution_count": 75,
     "metadata": {},
     "output_type": "execute_result"
    }
   ],
   "source": [
    "df.head(1).T"
   ]
  },
  {
   "cell_type": "code",
   "execution_count": 78,
   "id": "c7287d7a",
   "metadata": {},
   "outputs": [
    {
     "data": {
      "application/vnd.microsoft.datawrangler.viewer.v0+json": {
       "columns": [
        {
         "name": "index",
         "rawType": "object",
         "type": "string"
        },
        {
         "name": "example_value",
         "rawType": "object",
         "type": "unknown"
        },
        {
         "name": "dtypes",
         "rawType": "object",
         "type": "unknown"
        },
        {
         "name": "n_null",
         "rawType": "int64",
         "type": "integer"
        }
       ],
       "ref": "3839a26b-a481-42ed-97ac-106fd448a3a3",
       "rows": [
        [
         "survived",
         "0",
         "int64",
         "0"
        ],
        [
         "pclass",
         "3",
         "int64",
         "0"
        ],
        [
         "sex",
         "male",
         "object",
         "0"
        ],
        [
         "age",
         "22.0",
         "float64",
         "177"
        ],
        [
         "sibsp",
         "1",
         "int64",
         "0"
        ],
        [
         "parch",
         "0",
         "int64",
         "0"
        ],
        [
         "fare",
         "7.25",
         "float64",
         "0"
        ],
        [
         "embarked",
         "S",
         "object",
         "2"
        ],
        [
         "class",
         "Third",
         "object",
         "0"
        ],
        [
         "who",
         "man",
         "object",
         "0"
        ],
        [
         "adult_male",
         "True",
         "bool",
         "0"
        ],
        [
         "deck",
         null,
         "object",
         "688"
        ],
        [
         "embark_town",
         "Southampton",
         "object",
         "2"
        ],
        [
         "alive",
         "no",
         "object",
         "0"
        ],
        [
         "alone",
         "False",
         "bool",
         "0"
        ]
       ],
       "shape": {
        "columns": 3,
        "rows": 15
       }
      },
      "text/html": [
       "<div>\n",
       "<style scoped>\n",
       "    .dataframe tbody tr th:only-of-type {\n",
       "        vertical-align: middle;\n",
       "    }\n",
       "\n",
       "    .dataframe tbody tr th {\n",
       "        vertical-align: top;\n",
       "    }\n",
       "\n",
       "    .dataframe thead th {\n",
       "        text-align: right;\n",
       "    }\n",
       "</style>\n",
       "<table border=\"1\" class=\"dataframe\">\n",
       "  <thead>\n",
       "    <tr style=\"text-align: right;\">\n",
       "      <th></th>\n",
       "      <th>example_value</th>\n",
       "      <th>dtypes</th>\n",
       "      <th>n_null</th>\n",
       "    </tr>\n",
       "  </thead>\n",
       "  <tbody>\n",
       "    <tr>\n",
       "      <th>survived</th>\n",
       "      <td>0</td>\n",
       "      <td>int64</td>\n",
       "      <td>0</td>\n",
       "    </tr>\n",
       "    <tr>\n",
       "      <th>pclass</th>\n",
       "      <td>3</td>\n",
       "      <td>int64</td>\n",
       "      <td>0</td>\n",
       "    </tr>\n",
       "    <tr>\n",
       "      <th>sex</th>\n",
       "      <td>male</td>\n",
       "      <td>object</td>\n",
       "      <td>0</td>\n",
       "    </tr>\n",
       "    <tr>\n",
       "      <th>age</th>\n",
       "      <td>22.0</td>\n",
       "      <td>float64</td>\n",
       "      <td>177</td>\n",
       "    </tr>\n",
       "    <tr>\n",
       "      <th>sibsp</th>\n",
       "      <td>1</td>\n",
       "      <td>int64</td>\n",
       "      <td>0</td>\n",
       "    </tr>\n",
       "    <tr>\n",
       "      <th>parch</th>\n",
       "      <td>0</td>\n",
       "      <td>int64</td>\n",
       "      <td>0</td>\n",
       "    </tr>\n",
       "    <tr>\n",
       "      <th>fare</th>\n",
       "      <td>7.25</td>\n",
       "      <td>float64</td>\n",
       "      <td>0</td>\n",
       "    </tr>\n",
       "    <tr>\n",
       "      <th>embarked</th>\n",
       "      <td>S</td>\n",
       "      <td>object</td>\n",
       "      <td>2</td>\n",
       "    </tr>\n",
       "    <tr>\n",
       "      <th>class</th>\n",
       "      <td>Third</td>\n",
       "      <td>object</td>\n",
       "      <td>0</td>\n",
       "    </tr>\n",
       "    <tr>\n",
       "      <th>who</th>\n",
       "      <td>man</td>\n",
       "      <td>object</td>\n",
       "      <td>0</td>\n",
       "    </tr>\n",
       "    <tr>\n",
       "      <th>adult_male</th>\n",
       "      <td>True</td>\n",
       "      <td>bool</td>\n",
       "      <td>0</td>\n",
       "    </tr>\n",
       "    <tr>\n",
       "      <th>deck</th>\n",
       "      <td>NaN</td>\n",
       "      <td>object</td>\n",
       "      <td>688</td>\n",
       "    </tr>\n",
       "    <tr>\n",
       "      <th>embark_town</th>\n",
       "      <td>Southampton</td>\n",
       "      <td>object</td>\n",
       "      <td>2</td>\n",
       "    </tr>\n",
       "    <tr>\n",
       "      <th>alive</th>\n",
       "      <td>no</td>\n",
       "      <td>object</td>\n",
       "      <td>0</td>\n",
       "    </tr>\n",
       "    <tr>\n",
       "      <th>alone</th>\n",
       "      <td>False</td>\n",
       "      <td>bool</td>\n",
       "      <td>0</td>\n",
       "    </tr>\n",
       "  </tbody>\n",
       "</table>\n",
       "</div>"
      ],
      "text/plain": [
       "            example_value   dtypes  n_null\n",
       "survived                0    int64       0\n",
       "pclass                  3    int64       0\n",
       "sex                  male   object       0\n",
       "age                  22.0  float64     177\n",
       "sibsp                   1    int64       0\n",
       "parch                   0    int64       0\n",
       "fare                 7.25  float64       0\n",
       "embarked                S   object       2\n",
       "class               Third   object       0\n",
       "who                   man   object       0\n",
       "adult_male           True     bool       0\n",
       "deck                  NaN   object     688\n",
       "embark_town   Southampton   object       2\n",
       "alive                  no   object       0\n",
       "alone               False     bool       0"
      ]
     },
     "execution_count": 78,
     "metadata": {},
     "output_type": "execute_result"
    }
   ],
   "source": [
    "# vertical info view\n",
    "_ = pd.concat([df.head(1).T, df.dtypes, df.isna().sum()], axis=1)\n",
    "_.columns = [\"example_value\", \"dtypes\", \"n_null\"]\n",
    "_"
   ]
  },
  {
   "cell_type": "markdown",
   "id": "06ed3946",
   "metadata": {},
   "source": [
    "### reshape"
   ]
  },
  {
   "cell_type": "code",
   "execution_count": 17,
   "id": "66f6778d",
   "metadata": {},
   "outputs": [
    {
     "data": {
      "text/plain": [
       "<function pandas.core.frame.DataFrame.pivot_table(self, values=None, index=None, columns=None, aggfunc: 'AggFuncType' = 'mean', fill_value=None, margins: 'bool' = False, dropna: 'bool' = True, margins_name: 'Level' = 'All', observed: 'bool | lib.NoDefault' = <no_default>, sort: 'bool' = True) -> 'DataFrame'>"
      ]
     },
     "execution_count": 17,
     "metadata": {},
     "output_type": "execute_result"
    }
   ],
   "source": [
    "pd.DataFrame.melt\n",
    "pd.DataFrame.pivot\n",
    "pd.DataFrame.pivot_table"
   ]
  },
  {
   "cell_type": "markdown",
   "id": "aa19bc07",
   "metadata": {},
   "source": [
    "### filtering"
   ]
  },
  {
   "cell_type": "code",
   "execution_count": 62,
   "id": "fc9c5c8d",
   "metadata": {},
   "outputs": [
    {
     "name": "stdout",
     "output_type": "stream",
     "text": [
      "115\n",
      "808\n"
     ]
    }
   ],
   "source": [
    "_ = df.loc[(df[\"age\"] > 10) & (df[\"age\"] <= 20), :]\n",
    "print(len(_))\n",
    "\n",
    "_ = df.loc[df[\"who\"].isin([\"man\", \"woman\"]), :]\n",
    "print(len(_))"
   ]
  },
  {
   "cell_type": "code",
   "execution_count": 60,
   "id": "0d581278",
   "metadata": {},
   "outputs": [
    {
     "name": "stdout",
     "output_type": "stream",
     "text": [
      "115\n",
      "808\n"
     ]
    }
   ],
   "source": [
    "_ = df.query(\"age > 10 & age <= 20\")\n",
    "print(len(_))\n",
    "\n",
    "_ = df.query(\"who in ['man', 'woman']\")\n",
    "print(len(_))"
   ]
  },
  {
   "cell_type": "code",
   "execution_count": 69,
   "id": "3bcf198a",
   "metadata": {},
   "outputs": [
    {
     "name": "stdout",
     "output_type": "stream",
     "text": [
      "(5, 2)\n"
     ]
    }
   ],
   "source": [
    "_ = df.filter(regex=\"class$\").head()\n",
    "print(_.shape)"
   ]
  },
  {
   "cell_type": "markdown",
   "id": "6e675288",
   "metadata": {},
   "source": [
    "### group"
   ]
  },
  {
   "cell_type": "code",
   "execution_count": null,
   "id": "01d6022f",
   "metadata": {},
   "outputs": [
    {
     "data": {
      "application/vnd.microsoft.datawrangler.viewer.v0+json": {
       "columns": [
        {
         "name": "who",
         "rawType": "object",
         "type": "string"
        },
        {
         "name": "survived",
         "rawType": "float64",
         "type": "float"
        }
       ],
       "ref": "e70d019d-f445-4252-b91c-16f2ba1285e7",
       "rows": [
        [
         "man",
         "0.16387337057728119"
        ],
        [
         "child",
         "0.5903614457831325"
        ],
        [
         "woman",
         "0.7564575645756457"
        ]
       ],
       "shape": {
        "columns": 1,
        "rows": 3
       }
      },
      "text/plain": [
       "who\n",
       "man      0.163873\n",
       "child    0.590361\n",
       "woman    0.756458\n",
       "Name: survived, dtype: float64"
      ]
     },
     "execution_count": 38,
     "metadata": {},
     "output_type": "execute_result"
    }
   ],
   "source": [
    "df.groupby(\"who\", dropna=False, observed=False)[\"survived\"].mean()"
   ]
  },
  {
   "cell_type": "code",
   "execution_count": 34,
   "id": "86ea54a6",
   "metadata": {},
   "outputs": [
    {
     "data": {
      "application/vnd.microsoft.datawrangler.viewer.v0+json": {
       "columns": [
        {
         "name": "who",
         "rawType": "object",
         "type": "string"
        },
        {
         "name": "('survived', 'size')",
         "rawType": "int64",
         "type": "integer"
        },
        {
         "name": "('survived', 'sum')",
         "rawType": "int64",
         "type": "integer"
        },
        {
         "name": "('survived', 'mean')",
         "rawType": "float64",
         "type": "float"
        }
       ],
       "ref": "892900d9-19c1-4d78-8b58-088abad6b19d",
       "rows": [
        [
         "child",
         "83",
         "49",
         "0.59"
        ],
        [
         "man",
         "537",
         "88",
         "0.16"
        ],
        [
         "woman",
         "271",
         "205",
         "0.76"
        ]
       ],
       "shape": {
        "columns": 3,
        "rows": 3
       }
      },
      "text/html": [
       "<div>\n",
       "<style scoped>\n",
       "    .dataframe tbody tr th:only-of-type {\n",
       "        vertical-align: middle;\n",
       "    }\n",
       "\n",
       "    .dataframe tbody tr th {\n",
       "        vertical-align: top;\n",
       "    }\n",
       "\n",
       "    .dataframe thead tr th {\n",
       "        text-align: left;\n",
       "    }\n",
       "\n",
       "    .dataframe thead tr:last-of-type th {\n",
       "        text-align: right;\n",
       "    }\n",
       "</style>\n",
       "<table border=\"1\" class=\"dataframe\">\n",
       "  <thead>\n",
       "    <tr>\n",
       "      <th></th>\n",
       "      <th colspan=\"3\" halign=\"left\">survived</th>\n",
       "    </tr>\n",
       "    <tr>\n",
       "      <th></th>\n",
       "      <th>size</th>\n",
       "      <th>sum</th>\n",
       "      <th>mean</th>\n",
       "    </tr>\n",
       "    <tr>\n",
       "      <th>who</th>\n",
       "      <th></th>\n",
       "      <th></th>\n",
       "      <th></th>\n",
       "    </tr>\n",
       "  </thead>\n",
       "  <tbody>\n",
       "    <tr>\n",
       "      <th>child</th>\n",
       "      <td>83</td>\n",
       "      <td>49</td>\n",
       "      <td>0.59</td>\n",
       "    </tr>\n",
       "    <tr>\n",
       "      <th>man</th>\n",
       "      <td>537</td>\n",
       "      <td>88</td>\n",
       "      <td>0.16</td>\n",
       "    </tr>\n",
       "    <tr>\n",
       "      <th>woman</th>\n",
       "      <td>271</td>\n",
       "      <td>205</td>\n",
       "      <td>0.76</td>\n",
       "    </tr>\n",
       "  </tbody>\n",
       "</table>\n",
       "</div>"
      ],
      "text/plain": [
       "      survived           \n",
       "          size  sum  mean\n",
       "who                      \n",
       "child       83   49  0.59\n",
       "man        537   88  0.16\n",
       "woman      271  205  0.76"
      ]
     },
     "execution_count": 34,
     "metadata": {},
     "output_type": "execute_result"
    }
   ],
   "source": [
    "df.groupby(\"who\", dropna=False, observed=False).agg(\n",
    "    {\"survived\": [\"size\", \"sum\", \"mean\"]}\n",
    ").round({(\"survived\", \"mean\"): 2})"
   ]
  },
  {
   "cell_type": "code",
   "execution_count": 33,
   "id": "5770584b",
   "metadata": {},
   "outputs": [
    {
     "data": {
      "application/vnd.microsoft.datawrangler.viewer.v0+json": {
       "columns": [
        {
         "name": "who",
         "rawType": "object",
         "type": "string"
        },
        {
         "name": "First",
         "rawType": "object",
         "type": "unknown"
        },
        {
         "name": "Second",
         "rawType": "object",
         "type": "unknown"
        },
        {
         "name": "Third",
         "rawType": "object",
         "type": "unknown"
        }
       ],
       "ref": "523566eb-1f7b-43e7-95ba-8a0658be5974",
       "rows": [
        [
         "child",
         "(6, 0.83)",
         "(19, 1.0)",
         "(58, 0.43)"
        ],
        [
         "man",
         "(119, 0.35)",
         "(99, 0.08)",
         "(319, 0.12)"
        ],
        [
         "woman",
         "(91, 0.98)",
         "(66, 0.91)",
         "(114, 0.49)"
        ]
       ],
       "shape": {
        "columns": 3,
        "rows": 3
       }
      },
      "text/html": [
       "<div>\n",
       "<style scoped>\n",
       "    .dataframe tbody tr th:only-of-type {\n",
       "        vertical-align: middle;\n",
       "    }\n",
       "\n",
       "    .dataframe tbody tr th {\n",
       "        vertical-align: top;\n",
       "    }\n",
       "\n",
       "    .dataframe thead th {\n",
       "        text-align: right;\n",
       "    }\n",
       "</style>\n",
       "<table border=\"1\" class=\"dataframe\">\n",
       "  <thead>\n",
       "    <tr style=\"text-align: right;\">\n",
       "      <th>class</th>\n",
       "      <th>First</th>\n",
       "      <th>Second</th>\n",
       "      <th>Third</th>\n",
       "    </tr>\n",
       "    <tr>\n",
       "      <th>who</th>\n",
       "      <th></th>\n",
       "      <th></th>\n",
       "      <th></th>\n",
       "    </tr>\n",
       "  </thead>\n",
       "  <tbody>\n",
       "    <tr>\n",
       "      <th>child</th>\n",
       "      <td>(6, 0.83)</td>\n",
       "      <td>(19, 1.0)</td>\n",
       "      <td>(58, 0.43)</td>\n",
       "    </tr>\n",
       "    <tr>\n",
       "      <th>man</th>\n",
       "      <td>(119, 0.35)</td>\n",
       "      <td>(99, 0.08)</td>\n",
       "      <td>(319, 0.12)</td>\n",
       "    </tr>\n",
       "    <tr>\n",
       "      <th>woman</th>\n",
       "      <td>(91, 0.98)</td>\n",
       "      <td>(66, 0.91)</td>\n",
       "      <td>(114, 0.49)</td>\n",
       "    </tr>\n",
       "  </tbody>\n",
       "</table>\n",
       "</div>"
      ],
      "text/plain": [
       "class        First      Second        Third\n",
       "who                                        \n",
       "child    (6, 0.83)   (19, 1.0)   (58, 0.43)\n",
       "man    (119, 0.35)  (99, 0.08)  (319, 0.12)\n",
       "woman   (91, 0.98)  (66, 0.91)  (114, 0.49)"
      ]
     },
     "execution_count": 33,
     "metadata": {},
     "output_type": "execute_result"
    }
   ],
   "source": [
    "df.groupby([\"who\", \"class\"], dropna=False, observed=False)[\"survived\"].agg(\n",
    "    lambda x: (len(x), float(x.mean().round(2)))\n",
    ").unstack()"
   ]
  },
  {
   "cell_type": "code",
   "execution_count": null,
   "id": "a0f619fc",
   "metadata": {},
   "outputs": [
    {
     "data": {
      "application/vnd.microsoft.datawrangler.viewer.v0+json": {
       "columns": [
        {
         "name": "age_bin",
         "rawType": "category",
         "type": "unknown"
        },
        {
         "name": "n",
         "rawType": "int64",
         "type": "integer"
        },
        {
         "name": "survived_rate",
         "rawType": "float64",
         "type": "float"
        },
        {
         "name": "pct_man",
         "rawType": "float64",
         "type": "float"
        },
        {
         "name": "class",
         "rawType": "object",
         "type": "string"
        }
       ],
       "ref": "93f91e49-39c2-42b7-9b15-2c5606e8dde0",
       "rows": [
        [
         "(0.419, 20.125]",
         "179",
         "0.46",
         "0.35",
         "Third"
        ],
        [
         "(20.125, 28.0]",
         "183",
         "0.36",
         "0.66",
         "Third"
        ],
        [
         "(28.0, 38.0]",
         "175",
         "0.43",
         "0.65",
         "Third"
        ],
        [
         "(38.0, 80.0]",
         "177",
         "0.37",
         "0.66",
         "First"
        ],
        [
         null,
         "177",
         "0.29",
         "0.7",
         "Third"
        ]
       ],
       "shape": {
        "columns": 4,
        "rows": 5
       }
      },
      "text/html": [
       "<div>\n",
       "<style scoped>\n",
       "    .dataframe tbody tr th:only-of-type {\n",
       "        vertical-align: middle;\n",
       "    }\n",
       "\n",
       "    .dataframe tbody tr th {\n",
       "        vertical-align: top;\n",
       "    }\n",
       "\n",
       "    .dataframe thead th {\n",
       "        text-align: right;\n",
       "    }\n",
       "</style>\n",
       "<table border=\"1\" class=\"dataframe\">\n",
       "  <thead>\n",
       "    <tr style=\"text-align: right;\">\n",
       "      <th></th>\n",
       "      <th>n</th>\n",
       "      <th>survived_rate</th>\n",
       "      <th>pct_man</th>\n",
       "      <th>class</th>\n",
       "    </tr>\n",
       "    <tr>\n",
       "      <th>age_bin</th>\n",
       "      <th></th>\n",
       "      <th></th>\n",
       "      <th></th>\n",
       "      <th></th>\n",
       "    </tr>\n",
       "  </thead>\n",
       "  <tbody>\n",
       "    <tr>\n",
       "      <th>(0.419, 20.125]</th>\n",
       "      <td>179</td>\n",
       "      <td>0.46</td>\n",
       "      <td>0.35</td>\n",
       "      <td>Third</td>\n",
       "    </tr>\n",
       "    <tr>\n",
       "      <th>(20.125, 28.0]</th>\n",
       "      <td>183</td>\n",
       "      <td>0.36</td>\n",
       "      <td>0.66</td>\n",
       "      <td>Third</td>\n",
       "    </tr>\n",
       "    <tr>\n",
       "      <th>(28.0, 38.0]</th>\n",
       "      <td>175</td>\n",
       "      <td>0.43</td>\n",
       "      <td>0.65</td>\n",
       "      <td>Third</td>\n",
       "    </tr>\n",
       "    <tr>\n",
       "      <th>(38.0, 80.0]</th>\n",
       "      <td>177</td>\n",
       "      <td>0.37</td>\n",
       "      <td>0.66</td>\n",
       "      <td>First</td>\n",
       "    </tr>\n",
       "    <tr>\n",
       "      <th>NaN</th>\n",
       "      <td>177</td>\n",
       "      <td>0.29</td>\n",
       "      <td>0.70</td>\n",
       "      <td>Third</td>\n",
       "    </tr>\n",
       "  </tbody>\n",
       "</table>\n",
       "</div>"
      ],
      "text/plain": [
       "                   n  survived_rate  pct_man  class\n",
       "age_bin                                            \n",
       "(0.419, 20.125]  179           0.46     0.35  Third\n",
       "(20.125, 28.0]   183           0.36     0.66  Third\n",
       "(28.0, 38.0]     175           0.43     0.65  Third\n",
       "(38.0, 80.0]     177           0.37     0.66  First\n",
       "NaN              177           0.29     0.70  Third"
      ]
     },
     "execution_count": 21,
     "metadata": {},
     "output_type": "execute_result"
    }
   ],
   "source": [
    "df[\"age_bin\"] = pd.qcut(df[\"age\"], q=4)\n",
    "\n",
    "# groupby dict\n",
    "df.groupby(\n",
    "    [\n",
    "        \"age_bin\",\n",
    "    ],\n",
    "    dropna=False,\n",
    "    observed=False,\n",
    ").agg(\n",
    "    **{\n",
    "        \"n\": (\"age_bin\", \"size\"),\n",
    "        \"survived_rate\": (\"survived\", \"mean\"),\n",
    "        \"pct_man\": (\"who\", lambda x: x.isin([\"man\"]).sum() / len(x)),\n",
    "        \"class\": (\n",
    "            \"class\",\n",
    "            lambda x: df.loc[x.index, :][\"class\"].mode(),\n",
    "        ),\n",
    "    }\n",
    ").round({\"survived_rate\": 2, \"pct_man\": 2})"
   ]
  },
  {
   "cell_type": "code",
   "execution_count": null,
   "id": "147e8250",
   "metadata": {},
   "outputs": [
    {
     "data": {
      "application/vnd.microsoft.datawrangler.viewer.v0+json": {
       "columns": [
        {
         "name": "index",
         "rawType": "period[D]",
         "type": "unknown"
        },
        {
         "name": "passengers",
         "rawType": "float64",
         "type": "float"
        }
       ],
       "ref": "2f9d47c6-3ee4-4b72-b948-116aa8a624a8",
       "rows": [
        [
         "1949-01-01",
         null
        ],
        [
         "1949-02-01",
         null
        ],
        [
         "1949-03-01",
         null
        ],
        [
         "1949-04-01",
         "122.75"
        ],
        [
         "1949-05-01",
         "125.0"
        ],
        [
         "1949-06-01",
         "129.25"
        ],
        [
         "1949-07-01",
         "133.25"
        ],
        [
         "1949-08-01",
         "138.0"
        ],
        [
         "1949-09-01",
         "141.75"
        ],
        [
         "1949-10-01",
         "137.75"
        ],
        [
         "1949-11-01",
         "126.75"
        ],
        [
         "1949-12-01",
         "119.25"
        ],
        [
         "1950-01-01",
         "114.0"
        ],
        [
         "1950-02-01",
         "115.75"
        ],
        [
         "1950-03-01",
         "125.0"
        ],
        [
         "1950-04-01",
         "129.25"
        ],
        [
         "1950-05-01",
         "131.75"
        ],
        [
         "1950-06-01",
         "137.5"
        ],
        [
         "1950-07-01",
         "144.75"
        ],
        [
         "1950-08-01",
         "153.5"
        ],
        [
         "1950-09-01",
         "161.75"
        ],
        [
         "1950-10-01",
         "157.75"
        ],
        [
         "1950-11-01",
         "143.75"
        ],
        [
         "1950-12-01",
         "136.25"
        ],
        [
         "1951-01-01",
         "133.0"
        ],
        [
         "1951-02-01",
         "137.25"
        ],
        [
         "1951-03-01",
         "153.25"
        ],
        [
         "1951-04-01",
         "159.0"
        ],
        [
         "1951-05-01",
         "165.75"
        ],
        [
         "1951-06-01",
         "172.75"
        ],
        [
         "1951-07-01",
         "178.0"
        ],
        [
         "1951-08-01",
         "187.0"
        ],
        [
         "1951-09-01",
         "190.0"
        ],
        [
         "1951-10-01",
         "186.0"
        ],
        [
         "1951-11-01",
         "172.75"
        ],
        [
         "1951-12-01",
         "164.5"
        ],
        [
         "1952-01-01",
         "161.25"
        ],
        [
         "1952-02-01",
         "165.75"
        ],
        [
         "1952-03-01",
         "177.5"
        ],
        [
         "1952-04-01",
         "181.25"
        ],
        [
         "1952-05-01",
         "184.25"
        ],
        [
         "1952-06-01",
         "193.75"
        ],
        [
         "1952-07-01",
         "203.0"
        ],
        [
         "1952-08-01",
         "218.25"
        ],
        [
         "1952-09-01",
         "224.75"
        ],
        [
         "1952-10-01",
         "218.0"
        ],
        [
         "1952-11-01",
         "203.5"
        ],
        [
         "1952-12-01",
         "191.5"
        ],
        [
         "1953-01-01",
         "188.25"
        ],
        [
         "1953-02-01",
         "189.5"
        ]
       ],
       "shape": {
        "columns": 1,
        "rows": 144
       }
      },
      "text/plain": [
       "1949-01-01       NaN\n",
       "1949-02-01       NaN\n",
       "1949-03-01       NaN\n",
       "1949-04-01    122.75\n",
       "1949-05-01    125.00\n",
       "               ...  \n",
       "1960-08-01    558.75\n",
       "1960-09-01    567.75\n",
       "1960-10-01    549.25\n",
       "1960-11-01    491.25\n",
       "1960-12-01    447.75\n",
       "Freq: D, Name: passengers, Length: 144, dtype: float64"
      ]
     },
     "execution_count": 130,
     "metadata": {},
     "output_type": "execute_result"
    }
   ],
   "source": [
    "# window\n",
    "ts.rolling(window=\"100d\", min_periods=4)[\"passengers\"].agg(\"mean\")"
   ]
  },
  {
   "cell_type": "code",
   "execution_count": null,
   "id": "caba98f8",
   "metadata": {},
   "outputs": [],
   "source": [
    "pd.DataFrame.rank  # operate on group but return original shape"
   ]
  },
  {
   "cell_type": "markdown",
   "id": "cd8f2ec1",
   "metadata": {},
   "source": [
    "### mutation"
   ]
  },
  {
   "cell_type": "code",
   "execution_count": null,
   "id": "9bda67a9",
   "metadata": {},
   "outputs": [],
   "source": [
    "pd.Series\n",
    "pd.Series.map\n",
    "pd.Series.apply\n",
    "pd.Series.dt\n",
    "pd.Series.str"
   ]
  },
  {
   "cell_type": "markdown",
   "id": "1f5af141",
   "metadata": {},
   "source": [
    "### join"
   ]
  },
  {
   "cell_type": "code",
   "execution_count": null,
   "id": "fa256037",
   "metadata": {},
   "outputs": [],
   "source": [
    "pd.DataFrame.merge"
   ]
  },
  {
   "cell_type": "code",
   "execution_count": null,
   "id": "dfff8bbe",
   "metadata": {},
   "outputs": [],
   "source": []
  }
 ],
 "metadata": {
  "kernelspec": {
   "display_name": "Python 3",
   "language": "python",
   "name": "python3"
  },
  "language_info": {
   "codemirror_mode": {
    "name": "ipython",
    "version": 3
   },
   "file_extension": ".py",
   "mimetype": "text/x-python",
   "name": "python",
   "nbconvert_exporter": "python",
   "pygments_lexer": "ipython3",
   "version": "3.13.2"
  }
 },
 "nbformat": 4,
 "nbformat_minor": 5
}
