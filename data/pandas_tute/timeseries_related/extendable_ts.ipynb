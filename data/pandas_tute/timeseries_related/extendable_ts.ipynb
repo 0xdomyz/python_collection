{
 "cells": [
  {
   "cell_type": "code",
   "execution_count": 2,
   "metadata": {},
   "outputs": [],
   "source": [
    "import pandas as pd\n",
    "import numpy as np\n",
    "import matplotlib.pyplot as plt\n",
    "import datetime"
   ]
  },
  {
   "cell_type": "code",
   "execution_count": 98,
   "metadata": {},
   "outputs": [],
   "source": [
    "class ExtendableTS(object):\n",
    "    def __init__(self, pkeys:list=None, time_col:str=\"ts\"):\n",
    "        self.df = pd.DataFrame()\n",
    "        self.pkeys = pkeys if pkeys else [\"ts\"]\n",
    "        self.time_col = time_col\n",
    "\n",
    "    def get_max_time(self):\n",
    "        if self.df.empty:\n",
    "            return None\n",
    "        return self.df[self.time_col].max()\n",
    "\n",
    "    def assign_or_extend(self, df):\n",
    "        self.df = pd.concat([self.df, df]).drop_duplicates(subset=self.pkeys, keep=\"first\")\n",
    "\n",
    "    def cut_off_data_less_than(self, ts):\n",
    "        if self.df.empty:\n",
    "            return\n",
    "        self.df = self.df[self.df[self.time_col] >= ts]\n"
   ]
  },
  {
   "cell_type": "code",
   "execution_count": 66,
   "metadata": {},
   "outputs": [],
   "source": [
    "def make_data_with_ts(start:int, end:int, step:int):\n",
    "\n",
    "    \n",
    "    start = round(start / step) * step\n",
    "    end = round(end / step) * step\n",
    "\n",
    "    _ = np.arange(start, end, step)\n",
    "\n",
    "    df = pd.DataFrame({\n",
    "        'ts': list(_),\n",
    "        'value': np.random.randn(len(_))\n",
    "    })\n",
    "    df[\"time\"] = pd.to_datetime(df[\"ts\"], unit='s')\n",
    "\n",
    "    return df"
   ]
  },
  {
   "cell_type": "markdown",
   "metadata": {},
   "source": [
    "### process"
   ]
  },
  {
   "cell_type": "code",
   "execution_count": 67,
   "metadata": {},
   "outputs": [
    {
     "data": {
      "text/plain": [
       "(1752966000.0, datetime.datetime(2025, 7, 20, 0, 0))"
      ]
     },
     "execution_count": 67,
     "metadata": {},
     "output_type": "execute_result"
    }
   ],
   "source": [
    "now = datetime.datetime(2025,7,20).timestamp()\n",
    "now, datetime.datetime.fromtimestamp(now)"
   ]
  },
  {
   "cell_type": "code",
   "execution_count": 99,
   "metadata": {},
   "outputs": [],
   "source": [
    "ets = ExtendableTS(pkeys=[\"ts\"], time_col=\"ts\")\n",
    "\n",
    "_ = make_data_with_ts(\n",
    "    start = now - 5 * 60 * 60,\n",
    "    end = now - 3 * 60 * 60,\n",
    "    step = 60 * 60\n",
    ")\n",
    "ets.assign_or_extend(_)\n",
    "\n",
    "_ = make_data_with_ts(\n",
    "    start = ets.get_max_time() - 1,\n",
    "    end = now - 2 * 60 * 60,\n",
    "    step = 60 * 60\n",
    ")\n",
    "ets.assign_or_extend(_)\n",
    "\n",
    "ets.cut_off_data_less_than(now - 4 * 60 * 60)"
   ]
  },
  {
   "cell_type": "code",
   "execution_count": 100,
   "metadata": {},
   "outputs": [
    {
     "data": {
      "application/vnd.microsoft.datawrangler.viewer.v0+json": {
       "columns": [
        {
         "name": "index",
         "rawType": "int64",
         "type": "integer"
        },
        {
         "name": "ts",
         "rawType": "int64",
         "type": "integer"
        },
        {
         "name": "value",
         "rawType": "float64",
         "type": "float"
        },
        {
         "name": "time",
         "rawType": "datetime64[ns]",
         "type": "datetime"
        }
       ],
       "ref": "06d1ab09-57b7-4e71-aad5-b8183534dbfd",
       "rows": [
        [
         "1",
         "1752951600",
         "-0.8974256411043002",
         "2025-07-19 19:00:00"
        ],
        [
         "1",
         "1752955200",
         "-1.6806295366210529",
         "2025-07-19 20:00:00"
        ]
       ],
       "shape": {
        "columns": 3,
        "rows": 2
       }
      },
      "text/html": [
       "<div>\n",
       "<style scoped>\n",
       "    .dataframe tbody tr th:only-of-type {\n",
       "        vertical-align: middle;\n",
       "    }\n",
       "\n",
       "    .dataframe tbody tr th {\n",
       "        vertical-align: top;\n",
       "    }\n",
       "\n",
       "    .dataframe thead th {\n",
       "        text-align: right;\n",
       "    }\n",
       "</style>\n",
       "<table border=\"1\" class=\"dataframe\">\n",
       "  <thead>\n",
       "    <tr style=\"text-align: right;\">\n",
       "      <th></th>\n",
       "      <th>ts</th>\n",
       "      <th>value</th>\n",
       "      <th>time</th>\n",
       "    </tr>\n",
       "  </thead>\n",
       "  <tbody>\n",
       "    <tr>\n",
       "      <th>1</th>\n",
       "      <td>1752951600</td>\n",
       "      <td>-0.897426</td>\n",
       "      <td>2025-07-19 19:00:00</td>\n",
       "    </tr>\n",
       "    <tr>\n",
       "      <th>1</th>\n",
       "      <td>1752955200</td>\n",
       "      <td>-1.680630</td>\n",
       "      <td>2025-07-19 20:00:00</td>\n",
       "    </tr>\n",
       "  </tbody>\n",
       "</table>\n",
       "</div>"
      ],
      "text/plain": [
       "           ts     value                time\n",
       "1  1752951600 -0.897426 2025-07-19 19:00:00\n",
       "1  1752955200 -1.680630 2025-07-19 20:00:00"
      ]
     },
     "execution_count": 100,
     "metadata": {},
     "output_type": "execute_result"
    }
   ],
   "source": [
    "ets.df"
   ]
  },
  {
   "cell_type": "code",
   "execution_count": null,
   "metadata": {},
   "outputs": [],
   "source": []
  },
  {
   "cell_type": "code",
   "execution_count": null,
   "metadata": {},
   "outputs": [],
   "source": []
  }
 ],
 "metadata": {
  "kernelspec": {
   "display_name": "Python 3",
   "language": "python",
   "name": "python3"
  },
  "language_info": {
   "codemirror_mode": {
    "name": "ipython",
    "version": 3
   },
   "file_extension": ".py",
   "mimetype": "text/x-python",
   "name": "python",
   "nbconvert_exporter": "python",
   "pygments_lexer": "ipython3",
   "version": "3.13.2"
  }
 },
 "nbformat": 4,
 "nbformat_minor": 2
}
