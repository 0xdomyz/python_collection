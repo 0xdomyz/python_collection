{
 "cells": [
  {
   "cell_type": "code",
   "execution_count": 2,
   "metadata": {},
   "outputs": [
    {
     "name": "stdout",
     "output_type": "stream",
     "text": [
      "          A         B         C\n",
      "0  1.606687 -0.592937 -0.333606\n",
      "1 -1.306918  2.504540 -0.915892\n",
      "2 -1.645197 -0.655435 -0.451916\n",
      "3 -1.106023  0.998995  0.051905\n",
      "4  0.127527 -1.072797  0.612099\n"
     ]
    }
   ],
   "source": [
    "import pandas as pd\n",
    "import os\n",
    "\n",
    "# read the Excel file\n",
    "# skip the first 10 rows, read the next 5 rows, and use the columns from 'B' to 'D'\n",
    "df = pd.read_excel(\n",
    "    r\"excel_table.xlsx\",\n",
    "    sheet_name=\"Sheet1\",\n",
    "    skiprows=range(1, 2),\n",
    "    nrows=5,\n",
    "    usecols=\"B:D\",\n",
    ")\n",
    "\n",
    "print(df)"
   ]
  },
  {
   "cell_type": "code",
   "execution_count": null,
   "metadata": {},
   "outputs": [],
   "source": []
  },
  {
   "cell_type": "code",
   "execution_count": null,
   "metadata": {},
   "outputs": [],
   "source": []
  }
 ],
 "metadata": {
  "kernelspec": {
   "display_name": "Python 3",
   "language": "python",
   "name": "python3"
  },
  "language_info": {
   "codemirror_mode": {
    "name": "ipython",
    "version": 3
   },
   "file_extension": ".py",
   "mimetype": "text/x-python",
   "name": "python",
   "nbconvert_exporter": "python",
   "pygments_lexer": "ipython3",
   "version": "3.12.1"
  }
 },
 "nbformat": 4,
 "nbformat_minor": 2
}
