{
 "cells": [
  {
   "cell_type": "code",
   "execution_count": 1,
   "metadata": {},
   "outputs": [],
   "source": [
    "import pandas as pd"
   ]
  },
  {
   "cell_type": "code",
   "execution_count": 3,
   "metadata": {},
   "outputs": [
    {
     "data": {
      "text/html": [
       "<div>\n",
       "<style scoped>\n",
       "    .dataframe tbody tr th:only-of-type {\n",
       "        vertical-align: middle;\n",
       "    }\n",
       "\n",
       "    .dataframe tbody tr th {\n",
       "        vertical-align: top;\n",
       "    }\n",
       "\n",
       "    .dataframe thead th {\n",
       "        text-align: right;\n",
       "    }\n",
       "</style>\n",
       "<table border=\"1\" class=\"dataframe\">\n",
       "  <thead>\n",
       "    <tr style=\"text-align: right;\">\n",
       "      <th></th>\n",
       "      <th>A</th>\n",
       "      <th>B</th>\n",
       "      <th>C</th>\n",
       "    </tr>\n",
       "  </thead>\n",
       "  <tbody>\n",
       "    <tr>\n",
       "      <th>0</th>\n",
       "      <td>1.606687</td>\n",
       "      <td>-0.592937</td>\n",
       "      <td>-0.333606</td>\n",
       "    </tr>\n",
       "    <tr>\n",
       "      <th>1</th>\n",
       "      <td>-1.306918</td>\n",
       "      <td>2.504540</td>\n",
       "      <td>-0.915892</td>\n",
       "    </tr>\n",
       "    <tr>\n",
       "      <th>2</th>\n",
       "      <td>-1.645197</td>\n",
       "      <td>-0.655435</td>\n",
       "      <td>-0.451916</td>\n",
       "    </tr>\n",
       "    <tr>\n",
       "      <th>3</th>\n",
       "      <td>-1.106023</td>\n",
       "      <td>0.998995</td>\n",
       "      <td>0.051905</td>\n",
       "    </tr>\n",
       "    <tr>\n",
       "      <th>4</th>\n",
       "      <td>0.127527</td>\n",
       "      <td>-1.072797</td>\n",
       "      <td>0.612099</td>\n",
       "    </tr>\n",
       "  </tbody>\n",
       "</table>\n",
       "</div>"
      ],
      "text/plain": [
       "          A         B         C\n",
       "0  1.606687 -0.592937 -0.333606\n",
       "1 -1.306918  2.504540 -0.915892\n",
       "2 -1.645197 -0.655435 -0.451916\n",
       "3 -1.106023  0.998995  0.051905\n",
       "4  0.127527 -1.072797  0.612099"
      ]
     },
     "execution_count": 3,
     "metadata": {},
     "output_type": "execute_result"
    }
   ],
   "source": [
    "# read complex Excel file\n",
    "# skip the first 10 rows, read the next 5 rows, and use the columns from 'B' to 'D'\n",
    "df = pd.read_excel(\n",
    "    r\"excel_table.xlsx\",\n",
    "    sheet_name=\"Sheet1\",\n",
    "    skiprows=range(1, 2),\n",
    "    nrows=5,\n",
    "    usecols=\"B:D\",\n",
    ")\n",
    "df"
   ]
  },
  {
   "cell_type": "code",
   "execution_count": 5,
   "metadata": {},
   "outputs": [],
   "source": [
    "# write 2 df to 2 sheets in same Excel file\n",
    "df2 = df.assign(B=df[\"B\"] * 2).rename(columns={\"B\": \"B2\"})\n",
    "\n",
    "with pd.ExcelWriter(\"output.xlsx\") as writer:\n",
    "    df.to_excel(writer, sheet_name=\"Sheet1\", index=False)\n",
    "    df2.to_excel(writer, sheet_name=\"Sheet2\", index=False)"
   ]
  },
  {
   "cell_type": "code",
   "execution_count": null,
   "metadata": {},
   "outputs": [],
   "source": []
  }
 ],
 "metadata": {
  "kernelspec": {
   "display_name": "Python 3",
   "language": "python",
   "name": "python3"
  },
  "language_info": {
   "codemirror_mode": {
    "name": "ipython",
    "version": 3
   },
   "file_extension": ".py",
   "mimetype": "text/x-python",
   "name": "python",
   "nbconvert_exporter": "python",
   "pygments_lexer": "ipython3",
   "version": "3.12.1"
  }
 },
 "nbformat": 4,
 "nbformat_minor": 2
}
