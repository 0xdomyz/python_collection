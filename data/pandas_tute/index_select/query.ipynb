{
 "cells": [
  {
   "cell_type": "code",
   "execution_count": 2,
   "metadata": {},
   "outputs": [],
   "source": [
    "import matplotlib.pyplot as plt\n",
    "import numpy as np\n",
    "import pandas as pd\n",
    "import statsmodels.api as sm\n",
    "from scipy import stats\n"
   ]
  },
  {
   "cell_type": "code",
   "execution_count": 5,
   "metadata": {},
   "outputs": [
    {
     "name": "stdout",
     "output_type": "stream",
     "text": [
      "(891, 15)\n",
      "   survived  pclass   sex   age  sibsp  parch  fare embarked  class  who  adult_male deck  embark_town alive  alone\n",
      "0         0       3  male  22.0      1      0  7.25        S  Third  man        True  NaN  Southampton    no  False\n"
     ]
    }
   ],
   "source": [
    "df = pd.read_csv('titanic.csv')\n",
    "print(f\"{df.shape}\")\n",
    "print(df.head(1).to_string())"
   ]
  },
  {
   "cell_type": "markdown",
   "metadata": {},
   "source": [
    "### selection via equality"
   ]
  },
  {
   "cell_type": "code",
   "execution_count": 7,
   "metadata": {},
   "outputs": [
    {
     "data": {
      "text/plain": [
       "(644, 15)"
      ]
     },
     "execution_count": 7,
     "metadata": {},
     "output_type": "execute_result"
    }
   ],
   "source": [
    "df.query(\"embark_town == 'Southampton'\").shape"
   ]
  },
  {
   "cell_type": "code",
   "execution_count": 8,
   "metadata": {},
   "outputs": [
    {
     "data": {
      "text/plain": [
       "(15, 15)"
      ]
     },
     "execution_count": 8,
     "metadata": {},
     "output_type": "execute_result"
    }
   ],
   "source": [
    "df.query(\"age == 20\").shape"
   ]
  },
  {
   "cell_type": "markdown",
   "metadata": {},
   "source": [
    "### selection via inequality\n"
   ]
  },
  {
   "cell_type": "code",
   "execution_count": null,
   "metadata": {},
   "outputs": [],
   "source": [
    "df.query(\"index < b < c\")\n",
    "df.query('ilevel_0 == \"red\"')\n",
    "\n",
    "df.query(\"(a < b) & (b < c)\")\n",
    "df.query(\"a < b & b < c\")\n",
    "df.query(\"a < b and b < c\")\n",
    "df.query(\"a < b < c\")\n",
    "\n",
    "df.query(\"a in b\")\n",
    "df.query(\"a not in b\")\n",
    "df.query(\"a in b and c < d\")\n",
    "df.query('b == [\"a\", \"b\", \"c\"]')\n",
    "df.query(\"c == [1, 2]\")\n",
    "df.query(\"c != [1, 2]\")\n",
    "df.query(\"[1, 2] in c\")\n",
    "df.query(\"[1, 2] not in c\")\n",
    "\n",
    "df.query(\"~bools\")\n",
    "df.query(\"not bools\")\n",
    "df.query(\"not bools\") == df[~df[\"bools\"]]\n",
    "df.query(\"a < b < c and (not bools) or bools > 2\")"
   ]
  },
  {
   "cell_type": "code",
   "execution_count": null,
   "metadata": {},
   "outputs": [],
   "source": []
  }
 ],
 "metadata": {
  "kernelspec": {
   "display_name": "Python 3",
   "language": "python",
   "name": "python3"
  },
  "language_info": {
   "codemirror_mode": {
    "name": "ipython",
    "version": 3
   },
   "file_extension": ".py",
   "mimetype": "text/x-python",
   "name": "python",
   "nbconvert_exporter": "python",
   "pygments_lexer": "ipython3",
   "version": "3.13.2"
  }
 },
 "nbformat": 4,
 "nbformat_minor": 2
}
