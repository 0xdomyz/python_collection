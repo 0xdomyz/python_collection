{
 "cells": [
  {
   "cell_type": "code",
   "execution_count": 11,
   "metadata": {},
   "outputs": [],
   "source": [
    "import matplotlib.pyplot as plt\n",
    "import numpy as np\n",
    "import pandas as pd\n",
    "import statsmodels.api as sm\n",
    "from scipy import stats\n"
   ]
  },
  {
   "cell_type": "code",
   "execution_count": 8,
   "metadata": {},
   "outputs": [
    {
     "name": "stdout",
     "output_type": "stream",
     "text": [
      "(891, 15)\n"
     ]
    },
    {
     "data": {
      "text/html": [
       "<div>\n",
       "<style scoped>\n",
       "    .dataframe tbody tr th:only-of-type {\n",
       "        vertical-align: middle;\n",
       "    }\n",
       "\n",
       "    .dataframe tbody tr th {\n",
       "        vertical-align: top;\n",
       "    }\n",
       "\n",
       "    .dataframe thead th {\n",
       "        text-align: right;\n",
       "    }\n",
       "</style>\n",
       "<table border=\"1\" class=\"dataframe\">\n",
       "  <thead>\n",
       "    <tr style=\"text-align: right;\">\n",
       "      <th></th>\n",
       "      <th>survived</th>\n",
       "      <th>pclass</th>\n",
       "      <th>sex</th>\n",
       "      <th>age</th>\n",
       "      <th>sibsp</th>\n",
       "      <th>parch</th>\n",
       "      <th>fare</th>\n",
       "      <th>embarked</th>\n",
       "      <th>class</th>\n",
       "      <th>who</th>\n",
       "      <th>adult_male</th>\n",
       "      <th>deck</th>\n",
       "      <th>embark_town</th>\n",
       "      <th>alive</th>\n",
       "      <th>alone</th>\n",
       "    </tr>\n",
       "  </thead>\n",
       "  <tbody>\n",
       "    <tr>\n",
       "      <th>0</th>\n",
       "      <td>0</td>\n",
       "      <td>3</td>\n",
       "      <td>male</td>\n",
       "      <td>22.0</td>\n",
       "      <td>1</td>\n",
       "      <td>0</td>\n",
       "      <td>7.25</td>\n",
       "      <td>S</td>\n",
       "      <td>Third</td>\n",
       "      <td>man</td>\n",
       "      <td>True</td>\n",
       "      <td>NaN</td>\n",
       "      <td>Southampton</td>\n",
       "      <td>no</td>\n",
       "      <td>False</td>\n",
       "    </tr>\n",
       "  </tbody>\n",
       "</table>\n",
       "</div>"
      ],
      "text/plain": [
       "   survived  pclass   sex   age  sibsp  parch  fare embarked  class  who  \\\n",
       "0         0       3  male  22.0      1      0  7.25        S  Third  man   \n",
       "\n",
       "   adult_male deck  embark_town alive  alone  \n",
       "0        True  NaN  Southampton    no  False  "
      ]
     },
     "execution_count": 8,
     "metadata": {},
     "output_type": "execute_result"
    }
   ],
   "source": [
    "df = pd.read_csv('../../toydata/titanic.csv')\n",
    "print(f\"{df.shape}\")\n",
    "df.head(1)"
   ]
  },
  {
   "cell_type": "markdown",
   "metadata": {},
   "source": [
    "### arith, math funcs \n"
   ]
  },
  {
   "cell_type": "code",
   "execution_count": 33,
   "metadata": {},
   "outputs": [
    {
     "data": {
      "text/html": [
       "<div>\n",
       "<style scoped>\n",
       "    .dataframe tbody tr th:only-of-type {\n",
       "        vertical-align: middle;\n",
       "    }\n",
       "\n",
       "    .dataframe tbody tr th {\n",
       "        vertical-align: top;\n",
       "    }\n",
       "\n",
       "    .dataframe thead th {\n",
       "        text-align: right;\n",
       "    }\n",
       "</style>\n",
       "<table border=\"1\" class=\"dataframe\">\n",
       "  <thead>\n",
       "    <tr style=\"text-align: right;\">\n",
       "      <th></th>\n",
       "      <th>survived</th>\n",
       "      <th>pclass</th>\n",
       "      <th>sex</th>\n",
       "      <th>age</th>\n",
       "      <th>sibsp</th>\n",
       "      <th>parch</th>\n",
       "      <th>fare</th>\n",
       "      <th>embarked</th>\n",
       "      <th>class</th>\n",
       "      <th>who</th>\n",
       "      <th>adult_male</th>\n",
       "      <th>deck</th>\n",
       "      <th>embark_town</th>\n",
       "      <th>alive</th>\n",
       "      <th>alone</th>\n",
       "      <th>log_fare</th>\n",
       "    </tr>\n",
       "  </thead>\n",
       "  <tbody>\n",
       "    <tr>\n",
       "      <th>0</th>\n",
       "      <td>0</td>\n",
       "      <td>3</td>\n",
       "      <td>male</td>\n",
       "      <td>22.0</td>\n",
       "      <td>1</td>\n",
       "      <td>0</td>\n",
       "      <td>7.25</td>\n",
       "      <td>S</td>\n",
       "      <td>Third</td>\n",
       "      <td>man</td>\n",
       "      <td>True</td>\n",
       "      <td>NaN</td>\n",
       "      <td>Southampton</td>\n",
       "      <td>no</td>\n",
       "      <td>False</td>\n",
       "      <td>1.981001</td>\n",
       "    </tr>\n",
       "  </tbody>\n",
       "</table>\n",
       "</div>"
      ],
      "text/plain": [
       "   survived  pclass   sex   age  sibsp  parch  fare embarked  class  who  \\\n",
       "0         0       3  male  22.0      1      0  7.25        S  Third  man   \n",
       "\n",
       "   adult_male deck  embark_town alive  alone  log_fare  \n",
       "0        True  NaN  Southampton    no  False  1.981001  "
      ]
     },
     "execution_count": 33,
     "metadata": {},
     "output_type": "execute_result"
    }
   ],
   "source": [
    "idx = df.eval('fare != 0')\n",
    "df.loc[idx, 'log_fare'] = df.loc[idx, :].eval('log(fare)')\n",
    "df.head(1)"
   ]
  },
  {
   "cell_type": "markdown",
   "metadata": {},
   "source": [
    "### filter via boolean, compare \n"
   ]
  },
  {
   "cell_type": "code",
   "execution_count": 48,
   "metadata": {},
   "outputs": [
    {
     "data": {
      "text/plain": [
       "(216, 16)"
      ]
     },
     "execution_count": 48,
     "metadata": {},
     "output_type": "execute_result"
    }
   ],
   "source": [
    "df[df.eval(\"pclass == 1\")].shape"
   ]
  },
  {
   "cell_type": "code",
   "execution_count": 50,
   "metadata": {},
   "outputs": [
    {
     "data": {
      "text/plain": [
       "(644, 16)"
      ]
     },
     "execution_count": 50,
     "metadata": {},
     "output_type": "execute_result"
    }
   ],
   "source": [
    "df[df.eval(\"embark_town == 'Southampton'\")].shape"
   ]
  },
  {
   "cell_type": "code",
   "execution_count": null,
   "metadata": {},
   "outputs": [],
   "source": [
    "import numpy as np\n",
    "import pandas as pd\n",
    "\n",
    "df = pd.DataFrame({\"A\": range(1, 6), \"B\": range(10, 0, -2), \"C C\": range(10, 5, -1)})\n",
    "df\n",
    "\n",
    "df.query(\"A > B\")\n",
    "df.query(\"B == `C C`\")\n",
    "\n",
    "n = 10\n",
    "np.random.seed(0)\n",
    "df = pd.DataFrame(np.random.rand(n, 3), columns=list(\"abc\"))\n",
    "df\n",
    "\n",
    "df.query(\"(a < b) & (b < c)\")\n",
    "\n",
    "\n",
    "np.random.seed(10)\n",
    "df = pd.DataFrame(np.random.randint(n / 2, size=(n, 2)), columns=list(\"bc\"))\n",
    "df.index.name = \"a\"\n",
    "df\n",
    "\n",
    "df.query(\"a < b and b < c\")\n",
    "\n",
    "\n",
    "np.random.seed(0)\n",
    "df = pd.DataFrame(np.random.randint(n, size=(n, 2)), columns=list(\"bc\"))\n",
    "df\n",
    "df.query(\"index < b < c\")\n",
    "\n",
    "\n",
    "np.random.seed(0)\n",
    "n = 10\n",
    "colors = np.random.choice([\"red\", \"green\"], size=n)\n",
    "foods = np.random.choice([\"eggs\", \"ham\"], size=n)\n",
    "index = pd.MultiIndex.from_arrays([colors, foods], names=[\"color\", \"food\"])\n",
    "df = pd.DataFrame(np.random.randn(n, 2), index=index)\n",
    "df\n",
    "df.query('color == \"red\"')\n",
    "\n",
    "\n",
    "df.index.names = [None, None]\n",
    "df\n",
    "df.query('ilevel_0 == \"red\"')\n",
    "\n",
    "\n",
    "np.random.seed(0)\n",
    "df = pd.DataFrame(np.random.rand(n, 3), columns=list(\"abc\"))\n",
    "df2 = pd.DataFrame(np.random.rand(n + 2, 3), columns=df.columns)\n",
    "df\n",
    "df2\n",
    "\n",
    "expr = \"0.0 <= a <= c <= 0.5\"\n",
    "map(lambda frame: frame.query(expr), [df, df2])\n",
    "\n",
    "\n",
    "np.random.seed(0)\n",
    "df = pd.DataFrame(np.random.randint(n, size=(n, 3)), columns=list(\"abc\"))\n",
    "df\n",
    "df.query(\"(a < b) & (b < c)\")\n",
    "df.query(\"a < b & b < c\")\n",
    "df.query(\"a < b and b < c\")\n",
    "df.query(\"a < b < c\")\n",
    "\n",
    "\n",
    "df = pd.DataFrame(\n",
    "    {\n",
    "        \"a\": list(\"aabbccddeeff\"),\n",
    "        \"b\": list(\"aaaabbbbcccc\"),\n",
    "        \"c\": np.random.randint(5, size=12),\n",
    "        \"d\": np.random.randint(9, size=12),\n",
    "    }\n",
    ")\n",
    "df\n",
    "df.query(\"a in b\")\n",
    "df.query(\"a not in b\")\n",
    "df.query(\"a in b and c < d\")\n",
    "df.query('b == [\"a\", \"b\", \"c\"]')\n",
    "df.query(\"c == [1, 2]\")\n",
    "df.query(\"c != [1, 2]\")\n",
    "df.query(\"[1, 2] in c\")\n",
    "df.query(\"[1, 2] not in c\")\n",
    "\n",
    "\n",
    "np.random.seed(0)\n",
    "df = pd.DataFrame(np.random.rand(n, 3), columns=list(\"abc\"))\n",
    "df[\"bools\"] = np.random.rand(len(df)) > 0.5\n",
    "df\n",
    "df.query(\"~bools\")\n",
    "df.query(\"not bools\")\n",
    "df.query(\"not bools\") == df[~df[\"bools\"]]\n",
    "df.query(\"a < b < c and (not bools) or bools > 2\")\n",
    "\n",
    "\n",
    "# subset based on string value\n",
    "df = pd.DataFrame(\n",
    "    {\n",
    "        \"a_a\": [\"a_asdf\", \"b_asdf\", \"c_asdf\"],\n",
    "        \"nb_b\": [1, 2, 3],\n",
    "    }\n",
    ")\n",
    "df\n",
    "\n",
    "# select columns based on column name string value\n",
    "df.filter(like=\"a_\")\n",
    "df.filter(regex=\"a_\")\n",
    "\n",
    "# select rows based on column string value\n",
    "df.loc[df.a_a.str.contains(\"a_\"), :]\n",
    "df.query(\"a_a.str.contains('a_')\", engine=\"python\")\n"
   ]
  },
  {
   "cell_type": "code",
   "execution_count": null,
   "metadata": {},
   "outputs": [],
   "source": []
  }
 ],
 "metadata": {
  "kernelspec": {
   "display_name": "Python 3",
   "language": "python",
   "name": "python3"
  },
  "language_info": {
   "codemirror_mode": {
    "name": "ipython",
    "version": 3
   },
   "file_extension": ".py",
   "mimetype": "text/x-python",
   "name": "python",
   "nbconvert_exporter": "python",
   "pygments_lexer": "ipython3",
   "version": "3.12.1"
  }
 },
 "nbformat": 4,
 "nbformat_minor": 2
}
