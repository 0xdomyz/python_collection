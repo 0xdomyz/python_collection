{
 "cells": [
  {
   "cell_type": "code",
   "execution_count": 60,
   "metadata": {},
   "outputs": [],
   "source": [
    "import pandas as pd"
   ]
  },
  {
   "cell_type": "code",
   "execution_count": 61,
   "metadata": {},
   "outputs": [
    {
     "name": "stdout",
     "output_type": "stream",
     "text": [
      "(891, 15)\n",
      "survived                 0\n",
      "pclass                   3\n",
      "sex                   male\n",
      "age                   22.0\n",
      "sibsp                    1\n",
      "parch                    0\n",
      "fare                  7.25\n",
      "embarked                 S\n",
      "class                Third\n",
      "who                    man\n",
      "adult_male            True\n",
      "deck                   NaN\n",
      "embark_town    Southampton\n",
      "alive                   no\n",
      "alone                False\n"
     ]
    }
   ],
   "source": [
    "df = pd.read_csv(\"titanic.csv\")\n",
    "print(f\"{df.shape}\")\n",
    "print(df.iloc[0, :].to_string())"
   ]
  },
  {
   "cell_type": "markdown",
   "metadata": {},
   "source": [
    "### funcs"
   ]
  },
  {
   "cell_type": "code",
   "execution_count": 3,
   "metadata": {},
   "outputs": [],
   "source": [
    "class FlagSchema(object):\n",
    "    def __init__(self, flag_map:dict[str, int]):\n",
    "        self.flag_map = flag_map\n",
    "        self._bitfield_length = max(1, sum(flag_map.values()).bit_length())\n",
    "\n",
    "    def decode(self, bitfield:int)->list[str]:\n",
    "        return [name for name, value in self.flag_map.items() if bitfield & value]\n",
    "\n",
    "    def apply_to_df(self, df:pd.DataFrame)->pd.Series:\n",
    "        flag_srs = pd.Series(index=df.index, dtype=pd.Int64Dtype()).fillna(0)\n",
    "        for k, v in self.flag_map.items():\n",
    "            flag_srs += df[k].astype(bool) * v\n",
    "        return flag_srs"
   ]
  },
  {
   "cell_type": "code",
   "execution_count": 4,
   "metadata": {},
   "outputs": [],
   "source": [
    "class FlagSet:\n",
    "    def __init__(self, flag_map: dict):\n",
    "        self._flag_map = flag_map\n",
    "        self._bitfield = 0\n",
    "        self._bitfield_length = max(1, self._bitfield.bit_length())\n",
    "\n",
    "    @staticmethod\n",
    "    def decode_flags(flag_map, bitfield):\n",
    "        return [name for name, mask in flag_map.items() if bitfield & mask]\n",
    "\n",
    "    @staticmethod\n",
    "    def is_flag_set(flag_map, flag_name):\n",
    "        mask = flag_map.get(flag_name, 0)\n",
    "        return lambda bitfield: bool(bitfield & mask)\n",
    "\n",
    "    @classmethod\n",
    "    def from_value(cls, flag_map, bitfield):\n",
    "        obj = cls(flag_map)\n",
    "        obj._bitfield = bitfield\n",
    "        return obj\n",
    "\n",
    "    def __repr__(self):\n",
    "        active = self.decode()\n",
    "        return f\"<FlagSet {self.binary()} → {active}>\"\n",
    "\n",
    "    def apply(self, *flag_names):\n",
    "        for name in flag_names:\n",
    "            self._bitfield |= self._flag_map[name]\n",
    "        return self\n",
    "\n",
    "    def clear(self, *flag_names):\n",
    "        for name in flag_names:\n",
    "            self._bitfield &= ~self._flag_map[name]\n",
    "        return self\n",
    "\n",
    "    def toggle(self, *flag_names):\n",
    "        for name in flag_names:\n",
    "            self._bitfield ^= self._flag_map[name]\n",
    "        return self\n",
    "\n",
    "    def is_set(self, flag_name):\n",
    "        return bool(self._bitfield & self._flag_map[flag_name])\n",
    "\n",
    "    def decode(self):\n",
    "        return [name for name, mask in self._flag_map.items() if self._bitfield & mask]\n",
    "\n",
    "    def mask(self, flag_name):\n",
    "        return self._flag_map.get(flag_name, 0)\n",
    "\n",
    "    def value(self):\n",
    "        return self._bitfield\n",
    "\n",
    "    def binary(self):\n",
    "        return f\"{self._bitfield:0{self._bitfield_length}b}\"\n",
    "\n",
    "    def describe(self):\n",
    "        data = []\n",
    "        for name, mask in sorted(self._flag_map.items()):\n",
    "            data.append({\n",
    "                'Flag Name': name,\n",
    "                'Mask': f\"{mask:0{self._bitfield_length}b}\",\n",
    "                'Value': mask,\n",
    "                'Active': self.is_set(name)\n",
    "            })\n",
    "        return pd.DataFrame(data)"
   ]
  },
  {
   "cell_type": "code",
   "execution_count": null,
   "metadata": {},
   "outputs": [],
   "source": []
  },
  {
   "cell_type": "markdown",
   "metadata": {},
   "source": [
    "### binary flag"
   ]
  },
  {
   "cell_type": "code",
   "execution_count": 9,
   "metadata": {},
   "outputs": [],
   "source": [
    "# define bit masks\n",
    "has_survived = 0b0001\n",
    "is_alone = 0b0010\n",
    "is_male = 0b0100\n",
    "age_below_18 = 0b1000"
   ]
  },
  {
   "cell_type": "code",
   "execution_count": 10,
   "metadata": {},
   "outputs": [],
   "source": [
    "flag = 0b0110"
   ]
  },
  {
   "cell_type": "code",
   "execution_count": 11,
   "metadata": {},
   "outputs": [
    {
     "name": "stdout",
     "output_type": "stream",
     "text": [
      "check: flag & has_survived = 0\n",
      "check: flag & is_alone = 2\n",
      "check: flag & is_male = 4\n",
      "check: flag & age_below_18 = 0\n"
     ]
    }
   ],
   "source": [
    "print(f\"check: {flag & has_survived = }\")\n",
    "print(f\"check: {flag & is_alone = }\")\n",
    "print(f\"check: {flag & is_male = }\")\n",
    "print(f\"check: {flag & age_below_18 = }\")"
   ]
  },
  {
   "cell_type": "code",
   "execution_count": 12,
   "metadata": {},
   "outputs": [
    {
     "data": {
      "text/plain": [
       "'0b111'"
      ]
     },
     "execution_count": 12,
     "metadata": {},
     "output_type": "execute_result"
    }
   ],
   "source": [
    "# set\n",
    "bin(flag | has_survived)"
   ]
  },
  {
   "cell_type": "code",
   "execution_count": 13,
   "metadata": {},
   "outputs": [
    {
     "data": {
      "text/plain": [
       "'0b100'"
      ]
     },
     "execution_count": 13,
     "metadata": {},
     "output_type": "execute_result"
    }
   ],
   "source": [
    "bin(flag & ~0b0010) # clear"
   ]
  },
  {
   "cell_type": "code",
   "execution_count": 14,
   "metadata": {},
   "outputs": [
    {
     "data": {
      "text/plain": [
       "'0b10'"
      ]
     },
     "execution_count": 14,
     "metadata": {},
     "output_type": "execute_result"
    }
   ],
   "source": [
    "bin(flag ^ 0b0100) # flip"
   ]
  },
  {
   "cell_type": "markdown",
   "metadata": {},
   "source": [
    "### binary flag - flag set"
   ]
  },
  {
   "cell_type": "code",
   "execution_count": 15,
   "metadata": {},
   "outputs": [
    {
     "data": {
      "application/vnd.microsoft.datawrangler.viewer.v0+json": {
       "columns": [
        {
         "name": "index",
         "rawType": "int64",
         "type": "integer"
        },
        {
         "name": "Flag Name",
         "rawType": "object",
         "type": "string"
        },
        {
         "name": "Mask",
         "rawType": "object",
         "type": "string"
        },
        {
         "name": "Value",
         "rawType": "int64",
         "type": "integer"
        },
        {
         "name": "Active",
         "rawType": "bool",
         "type": "boolean"
        }
       ],
       "ref": "1a975f93-10bc-43cd-b339-450786086a9b",
       "rows": [
        [
         "0",
         "age_below_18",
         "1000",
         "8",
         "False"
        ],
        [
         "1",
         "has_survived",
         "1",
         "1",
         "False"
        ],
        [
         "2",
         "is_alone",
         "10",
         "2",
         "False"
        ],
        [
         "3",
         "is_male",
         "100",
         "4",
         "False"
        ]
       ],
       "shape": {
        "columns": 4,
        "rows": 4
       }
      },
      "text/html": [
       "<div>\n",
       "<style scoped>\n",
       "    .dataframe tbody tr th:only-of-type {\n",
       "        vertical-align: middle;\n",
       "    }\n",
       "\n",
       "    .dataframe tbody tr th {\n",
       "        vertical-align: top;\n",
       "    }\n",
       "\n",
       "    .dataframe thead th {\n",
       "        text-align: right;\n",
       "    }\n",
       "</style>\n",
       "<table border=\"1\" class=\"dataframe\">\n",
       "  <thead>\n",
       "    <tr style=\"text-align: right;\">\n",
       "      <th></th>\n",
       "      <th>Flag Name</th>\n",
       "      <th>Mask</th>\n",
       "      <th>Value</th>\n",
       "      <th>Active</th>\n",
       "    </tr>\n",
       "  </thead>\n",
       "  <tbody>\n",
       "    <tr>\n",
       "      <th>0</th>\n",
       "      <td>age_below_18</td>\n",
       "      <td>1000</td>\n",
       "      <td>8</td>\n",
       "      <td>False</td>\n",
       "    </tr>\n",
       "    <tr>\n",
       "      <th>1</th>\n",
       "      <td>has_survived</td>\n",
       "      <td>1</td>\n",
       "      <td>1</td>\n",
       "      <td>False</td>\n",
       "    </tr>\n",
       "    <tr>\n",
       "      <th>2</th>\n",
       "      <td>is_alone</td>\n",
       "      <td>10</td>\n",
       "      <td>2</td>\n",
       "      <td>False</td>\n",
       "    </tr>\n",
       "    <tr>\n",
       "      <th>3</th>\n",
       "      <td>is_male</td>\n",
       "      <td>100</td>\n",
       "      <td>4</td>\n",
       "      <td>False</td>\n",
       "    </tr>\n",
       "  </tbody>\n",
       "</table>\n",
       "</div>"
      ],
      "text/plain": [
       "      Flag Name  Mask  Value  Active\n",
       "0  age_below_18  1000      8   False\n",
       "1  has_survived     1      1   False\n",
       "2      is_alone    10      2   False\n",
       "3       is_male   100      4   False"
      ]
     },
     "execution_count": 15,
     "metadata": {},
     "output_type": "execute_result"
    }
   ],
   "source": [
    "flags = {\n",
    "    'has_survived': 0b0001,\n",
    "    'is_alone': 0b0010,\n",
    "    'is_male': 0b0100,\n",
    "    'age_below_18': 0b1000,\n",
    "}\n",
    "fs = FlagSet(flags)\n",
    "fs.describe()"
   ]
  },
  {
   "cell_type": "code",
   "execution_count": 16,
   "metadata": {},
   "outputs": [
    {
     "data": {
      "text/plain": [
       "<FlagSet 101 → ['has_survived', 'is_male']>"
      ]
     },
     "execution_count": 16,
     "metadata": {},
     "output_type": "execute_result"
    }
   ],
   "source": [
    "fs.apply('has_survived', 'is_male')"
   ]
  },
  {
   "cell_type": "code",
   "execution_count": 17,
   "metadata": {},
   "outputs": [
    {
     "data": {
      "text/plain": [
       "<FlagSet 101 → ['has_survived', 'is_male']>"
      ]
     },
     "execution_count": 17,
     "metadata": {},
     "output_type": "execute_result"
    }
   ],
   "source": [
    "FlagSet.from_value(flags, 0b0101)"
   ]
  },
  {
   "cell_type": "code",
   "execution_count": 18,
   "metadata": {},
   "outputs": [
    {
     "data": {
      "text/plain": [
       "['has_survived', 'is_male']"
      ]
     },
     "execution_count": 18,
     "metadata": {},
     "output_type": "execute_result"
    }
   ],
   "source": [
    "FlagSet.from_value(flags, 0b0101).decode()"
   ]
  },
  {
   "cell_type": "code",
   "execution_count": 19,
   "metadata": {},
   "outputs": [
    {
     "data": {
      "text/plain": [
       "<FlagSet 1101 → ['has_survived', 'is_male', 'age_below_18']>"
      ]
     },
     "execution_count": 19,
     "metadata": {},
     "output_type": "execute_result"
    }
   ],
   "source": [
    "FlagSet.from_value(flags, 0b0101).toggle('age_below_18')"
   ]
  },
  {
   "cell_type": "code",
   "execution_count": 20,
   "metadata": {},
   "outputs": [
    {
     "data": {
      "text/plain": [
       "<FlagSet 100 → ['is_male']>"
      ]
     },
     "execution_count": 20,
     "metadata": {},
     "output_type": "execute_result"
    }
   ],
   "source": [
    "FlagSet.from_value(flags, 0b0101).clear('has_survived')"
   ]
  },
  {
   "cell_type": "markdown",
   "metadata": {},
   "source": [
    "### df"
   ]
  },
  {
   "cell_type": "code",
   "execution_count": 63,
   "metadata": {},
   "outputs": [],
   "source": [
    "flag_map = {\n",
    "    'has_survived': 0b0001,\n",
    "    'is_alone': 0b0010,\n",
    "    'is_male': 0b0100,\n",
    "    'age_below_18': 0b1000,\n",
    "}"
   ]
  },
  {
   "cell_type": "code",
   "execution_count": 64,
   "metadata": {},
   "outputs": [
    {
     "data": {
      "application/vnd.microsoft.datawrangler.viewer.v0+json": {
       "columns": [
        {
         "name": "flags",
         "rawType": "int64",
         "type": "integer"
        },
        {
         "name": "count",
         "rawType": "int64",
         "type": "integer"
        }
       ],
       "ref": "3fc275f8-1df7-4096-81df-de6f4157b361",
       "rows": [
        [
         "0",
         "39"
        ],
        [
         "1",
         "105"
        ],
        [
         "2",
         "25"
        ],
        [
         "3",
         "90"
        ],
        [
         "4",
         "97"
        ],
        [
         "5",
         "23"
        ],
        [
         "6",
         "336"
        ],
        [
         "7",
         "63"
        ],
        [
         "8",
         "15"
        ],
        [
         "9",
         "29"
        ],
        [
         "10",
         "2"
        ],
        [
         "11",
         "9"
        ],
        [
         "12",
         "24"
        ],
        [
         "13",
         "22"
        ],
        [
         "14",
         "11"
        ],
        [
         "15",
         "1"
        ]
       ],
       "shape": {
        "columns": 1,
        "rows": 16
       }
      },
      "text/plain": [
       "flags\n",
       "0      39\n",
       "1     105\n",
       "2      25\n",
       "3      90\n",
       "4      97\n",
       "5      23\n",
       "6     336\n",
       "7      63\n",
       "8      15\n",
       "9      29\n",
       "10      2\n",
       "11      9\n",
       "12     24\n",
       "13     22\n",
       "14     11\n",
       "15      1\n",
       "Name: count, dtype: int64"
      ]
     },
     "execution_count": 64,
     "metadata": {},
     "output_type": "execute_result"
    }
   ],
   "source": [
    "df['flags'] = 0\n",
    "\n",
    "df['flags'] = df['flags'] + df['survived'].mul(flag_map['has_survived'])\n",
    "df['flags'] = df['flags'] + df['alone'].astype(bool).mul(flag_map['is_alone'])\n",
    "df['flags'] = df['flags'] + df['sex'].map({'male': 1, 'female': 0}).mul(flag_map['is_male'])\n",
    "df['flags'] = df['flags'] + df['age'].lt(18).mul(flag_map['age_below_18'])\n",
    "\n",
    "df['flags'].value_counts().sort_index()"
   ]
  },
  {
   "cell_type": "code",
   "execution_count": 94,
   "metadata": {},
   "outputs": [
    {
     "data": {
      "application/vnd.microsoft.datawrangler.viewer.v0+json": {
       "columns": [
        {
         "name": "index",
         "rawType": "int64",
         "type": "integer"
        },
        {
         "name": "flags",
         "rawType": "int64",
         "type": "integer"
        },
        {
         "name": "flags_bin",
         "rawType": "object",
         "type": "string"
        },
        {
         "name": "flags_decoded_str",
         "rawType": "object",
         "type": "string"
        },
        {
         "name": "count",
         "rawType": "int64",
         "type": "integer"
        }
       ],
       "ref": "99f6babe-b7fb-41b4-adfb-ec6069ad2d53",
       "rows": [
        [
         "0",
         "0",
         "00000000",
         "[]",
         "39"
        ],
        [
         "1",
         "1",
         "00000001",
         "['has_survived']",
         "105"
        ],
        [
         "2",
         "2",
         "00000010",
         "['is_alone']",
         "25"
        ],
        [
         "3",
         "3",
         "00000011",
         "['has_survived', 'is_alone']",
         "90"
        ],
        [
         "4",
         "4",
         "00000100",
         "['is_male']",
         "97"
        ],
        [
         "5",
         "5",
         "00000101",
         "['has_survived', 'is_male']",
         "23"
        ],
        [
         "6",
         "6",
         "00000110",
         "['is_alone', 'is_male']",
         "336"
        ],
        [
         "7",
         "7",
         "00000111",
         "['has_survived', 'is_alone', 'is_male']",
         "63"
        ],
        [
         "8",
         "8",
         "00001000",
         "['age_below_18']",
         "15"
        ],
        [
         "9",
         "9",
         "00001001",
         "['has_survived', 'age_below_18']",
         "29"
        ],
        [
         "10",
         "10",
         "00001010",
         "['is_alone', 'age_below_18']",
         "2"
        ],
        [
         "11",
         "11",
         "00001011",
         "['has_survived', 'is_alone', 'age_below_18']",
         "9"
        ],
        [
         "12",
         "12",
         "00001100",
         "['is_male', 'age_below_18']",
         "24"
        ],
        [
         "13",
         "13",
         "00001101",
         "['has_survived', 'is_male', 'age_below_18']",
         "22"
        ],
        [
         "14",
         "14",
         "00001110",
         "['is_alone', 'is_male', 'age_below_18']",
         "11"
        ],
        [
         "15",
         "15",
         "00001111",
         "['has_survived', 'is_alone', 'is_male', 'age_below_18']",
         "1"
        ]
       ],
       "shape": {
        "columns": 4,
        "rows": 16
       }
      },
      "text/html": [
       "<div>\n",
       "<style scoped>\n",
       "    .dataframe tbody tr th:only-of-type {\n",
       "        vertical-align: middle;\n",
       "    }\n",
       "\n",
       "    .dataframe tbody tr th {\n",
       "        vertical-align: top;\n",
       "    }\n",
       "\n",
       "    .dataframe thead th {\n",
       "        text-align: right;\n",
       "    }\n",
       "</style>\n",
       "<table border=\"1\" class=\"dataframe\">\n",
       "  <thead>\n",
       "    <tr style=\"text-align: right;\">\n",
       "      <th></th>\n",
       "      <th>flags</th>\n",
       "      <th>flags_bin</th>\n",
       "      <th>flags_decoded_str</th>\n",
       "      <th>count</th>\n",
       "    </tr>\n",
       "  </thead>\n",
       "  <tbody>\n",
       "    <tr>\n",
       "      <th>0</th>\n",
       "      <td>0</td>\n",
       "      <td>00000000</td>\n",
       "      <td>[]</td>\n",
       "      <td>39</td>\n",
       "    </tr>\n",
       "    <tr>\n",
       "      <th>1</th>\n",
       "      <td>1</td>\n",
       "      <td>00000001</td>\n",
       "      <td>['has_survived']</td>\n",
       "      <td>105</td>\n",
       "    </tr>\n",
       "    <tr>\n",
       "      <th>2</th>\n",
       "      <td>2</td>\n",
       "      <td>00000010</td>\n",
       "      <td>['is_alone']</td>\n",
       "      <td>25</td>\n",
       "    </tr>\n",
       "    <tr>\n",
       "      <th>3</th>\n",
       "      <td>3</td>\n",
       "      <td>00000011</td>\n",
       "      <td>['has_survived', 'is_alone']</td>\n",
       "      <td>90</td>\n",
       "    </tr>\n",
       "    <tr>\n",
       "      <th>4</th>\n",
       "      <td>4</td>\n",
       "      <td>00000100</td>\n",
       "      <td>['is_male']</td>\n",
       "      <td>97</td>\n",
       "    </tr>\n",
       "    <tr>\n",
       "      <th>5</th>\n",
       "      <td>5</td>\n",
       "      <td>00000101</td>\n",
       "      <td>['has_survived', 'is_male']</td>\n",
       "      <td>23</td>\n",
       "    </tr>\n",
       "    <tr>\n",
       "      <th>6</th>\n",
       "      <td>6</td>\n",
       "      <td>00000110</td>\n",
       "      <td>['is_alone', 'is_male']</td>\n",
       "      <td>336</td>\n",
       "    </tr>\n",
       "    <tr>\n",
       "      <th>7</th>\n",
       "      <td>7</td>\n",
       "      <td>00000111</td>\n",
       "      <td>['has_survived', 'is_alone', 'is_male']</td>\n",
       "      <td>63</td>\n",
       "    </tr>\n",
       "    <tr>\n",
       "      <th>8</th>\n",
       "      <td>8</td>\n",
       "      <td>00001000</td>\n",
       "      <td>['age_below_18']</td>\n",
       "      <td>15</td>\n",
       "    </tr>\n",
       "    <tr>\n",
       "      <th>9</th>\n",
       "      <td>9</td>\n",
       "      <td>00001001</td>\n",
       "      <td>['has_survived', 'age_below_18']</td>\n",
       "      <td>29</td>\n",
       "    </tr>\n",
       "    <tr>\n",
       "      <th>10</th>\n",
       "      <td>10</td>\n",
       "      <td>00001010</td>\n",
       "      <td>['is_alone', 'age_below_18']</td>\n",
       "      <td>2</td>\n",
       "    </tr>\n",
       "    <tr>\n",
       "      <th>11</th>\n",
       "      <td>11</td>\n",
       "      <td>00001011</td>\n",
       "      <td>['has_survived', 'is_alone', 'age_below_18']</td>\n",
       "      <td>9</td>\n",
       "    </tr>\n",
       "    <tr>\n",
       "      <th>12</th>\n",
       "      <td>12</td>\n",
       "      <td>00001100</td>\n",
       "      <td>['is_male', 'age_below_18']</td>\n",
       "      <td>24</td>\n",
       "    </tr>\n",
       "    <tr>\n",
       "      <th>13</th>\n",
       "      <td>13</td>\n",
       "      <td>00001101</td>\n",
       "      <td>['has_survived', 'is_male', 'age_below_18']</td>\n",
       "      <td>22</td>\n",
       "    </tr>\n",
       "    <tr>\n",
       "      <th>14</th>\n",
       "      <td>14</td>\n",
       "      <td>00001110</td>\n",
       "      <td>['is_alone', 'is_male', 'age_below_18']</td>\n",
       "      <td>11</td>\n",
       "    </tr>\n",
       "    <tr>\n",
       "      <th>15</th>\n",
       "      <td>15</td>\n",
       "      <td>00001111</td>\n",
       "      <td>['has_survived', 'is_alone', 'is_male', 'age_b...</td>\n",
       "      <td>1</td>\n",
       "    </tr>\n",
       "  </tbody>\n",
       "</table>\n",
       "</div>"
      ],
      "text/plain": [
       "    flags flags_bin                                  flags_decoded_str  count\n",
       "0       0  00000000                                                 []     39\n",
       "1       1  00000001                                   ['has_survived']    105\n",
       "2       2  00000010                                       ['is_alone']     25\n",
       "3       3  00000011                       ['has_survived', 'is_alone']     90\n",
       "4       4  00000100                                        ['is_male']     97\n",
       "5       5  00000101                        ['has_survived', 'is_male']     23\n",
       "6       6  00000110                            ['is_alone', 'is_male']    336\n",
       "7       7  00000111            ['has_survived', 'is_alone', 'is_male']     63\n",
       "8       8  00001000                                   ['age_below_18']     15\n",
       "9       9  00001001                   ['has_survived', 'age_below_18']     29\n",
       "10     10  00001010                       ['is_alone', 'age_below_18']      2\n",
       "11     11  00001011       ['has_survived', 'is_alone', 'age_below_18']      9\n",
       "12     12  00001100                        ['is_male', 'age_below_18']     24\n",
       "13     13  00001101        ['has_survived', 'is_male', 'age_below_18']     22\n",
       "14     14  00001110            ['is_alone', 'is_male', 'age_below_18']     11\n",
       "15     15  00001111  ['has_survived', 'is_alone', 'is_male', 'age_b...      1"
      ]
     },
     "execution_count": 94,
     "metadata": {},
     "output_type": "execute_result"
    }
   ],
   "source": [
    "df['flags_bin'] = df['flags'].apply(lambda x: f\"{x:08b}\")\n",
    "df['flags_decoded'] = df['flags'].apply(lambda bitfield: [name for name, value in flag_map.items() if bitfield & value])\n",
    "sdf = (\n",
    "    df\n",
    "    .assign(flags_decoded_str = lambda x: x['flags_decoded'].astype(str))\n",
    "    .loc[:,['flags','flags_bin','flags_decoded_str']]\n",
    "    .value_counts()\n",
    "    .sort_index()\n",
    "    .reset_index()\n",
    ")\n",
    "sdf"
   ]
  },
  {
   "cell_type": "code",
   "execution_count": 100,
   "metadata": {},
   "outputs": [
    {
     "data": {
      "application/vnd.microsoft.datawrangler.viewer.v0+json": {
       "columns": [
        {
         "name": "index",
         "rawType": "int64",
         "type": "integer"
        },
        {
         "name": "flags",
         "rawType": "int64",
         "type": "integer"
        }
       ],
       "ref": "83a89bba-e2d3-414f-9521-e31ec96439c0",
       "rows": [
        [
         "0",
         "0"
        ],
        [
         "1",
         "0"
        ],
        [
         "2",
         "0"
        ],
        [
         "3",
         "0"
        ],
        [
         "4",
         "0"
        ],
        [
         "5",
         "0"
        ],
        [
         "6",
         "0"
        ],
        [
         "7",
         "0"
        ],
        [
         "8",
         "8"
        ],
        [
         "9",
         "8"
        ],
        [
         "10",
         "8"
        ],
        [
         "11",
         "8"
        ],
        [
         "12",
         "8"
        ],
        [
         "13",
         "8"
        ],
        [
         "14",
         "8"
        ],
        [
         "15",
         "8"
        ]
       ],
       "shape": {
        "columns": 1,
        "rows": 16
       }
      },
      "text/plain": [
       "0     0\n",
       "1     0\n",
       "2     0\n",
       "3     0\n",
       "4     0\n",
       "5     0\n",
       "6     0\n",
       "7     0\n",
       "8     8\n",
       "9     8\n",
       "10    8\n",
       "11    8\n",
       "12    8\n",
       "13    8\n",
       "14    8\n",
       "15    8\n",
       "Name: flags, dtype: int64"
      ]
     },
     "execution_count": 100,
     "metadata": {},
     "output_type": "execute_result"
    }
   ],
   "source": [
    "sdf['flags'] & 0b1000"
   ]
  },
  {
   "cell_type": "code",
   "execution_count": 101,
   "metadata": {},
   "outputs": [
    {
     "data": {
      "application/vnd.microsoft.datawrangler.viewer.v0+json": {
       "columns": [
        {
         "name": "is_survived",
         "rawType": "Int64",
         "type": "integer"
        },
        {
         "name": "count",
         "rawType": "Int64",
         "type": "integer"
        }
       ],
       "ref": "e867c635-bcc4-41db-a36e-af9d90df130b",
       "rows": [
        [
         "0",
         "549"
        ],
        [
         "1",
         "342"
        ]
       ],
       "shape": {
        "columns": 1,
        "rows": 2
       }
      },
      "text/plain": [
       "is_survived\n",
       "0    549\n",
       "1    342\n",
       "Name: count, dtype: Int64"
      ]
     },
     "execution_count": 101,
     "metadata": {},
     "output_type": "execute_result"
    }
   ],
   "source": [
    "df['is_survived'] = (df['flags'] & flag_map['has_survived']).astype(pd.Int64Dtype())\n",
    "df['is_survived'].value_counts()"
   ]
  },
  {
   "cell_type": "code",
   "execution_count": 102,
   "metadata": {},
   "outputs": [
    {
     "data": {
      "text/plain": [
       "(342, 19)"
      ]
     },
     "execution_count": 102,
     "metadata": {},
     "output_type": "execute_result"
    }
   ],
   "source": [
    "df.loc[lambda x:(x['flags'] & flag_map['has_survived'])>0,:].shape"
   ]
  },
  {
   "cell_type": "code",
   "execution_count": null,
   "metadata": {},
   "outputs": [],
   "source": []
  },
  {
   "cell_type": "markdown",
   "metadata": {},
   "source": [
    "### df - flag scheme"
   ]
  },
  {
   "cell_type": "code",
   "execution_count": null,
   "metadata": {},
   "outputs": [
    {
     "data": {
      "text/plain": [
       "<__main__.FlagSchema at 0x1ad7c12a510>"
      ]
     },
     "metadata": {},
     "output_type": "display_data"
    }
   ],
   "source": [
    "flag_map = {\n",
    "    'has_survived': 0b0001,\n",
    "    'is_alone': 0b0010,\n",
    "    'is_male': 0b0100,\n",
    "    'age_below_18': 0b1000,\n",
    "}\n",
    "fs = FlagSchema(flag_map=flag_map)\n",
    "fs"
   ]
  },
  {
   "cell_type": "code",
   "execution_count": null,
   "metadata": {},
   "outputs": [
    {
     "data": {
      "application/vnd.microsoft.datawrangler.viewer.v0+json": {
       "columns": [
        {
         "name": "index",
         "rawType": "int64",
         "type": "integer"
        },
        {
         "name": "flags",
         "rawType": "Int64",
         "type": "integer"
        }
       ],
       "ref": "3913b6b5-43a7-4fd7-8bd9-18643f75ac58",
       "rows": [
        [
         "0",
         "4"
        ],
        [
         "1",
         "1"
        ],
        [
         "2",
         "3"
        ],
        [
         "3",
         "1"
        ],
        [
         "4",
         "6"
        ],
        [
         "5",
         "6"
        ],
        [
         "6",
         "6"
        ],
        [
         "7",
         "12"
        ],
        [
         "8",
         "1"
        ],
        [
         "9",
         "9"
        ],
        [
         "10",
         "9"
        ],
        [
         "11",
         "3"
        ],
        [
         "12",
         "6"
        ],
        [
         "13",
         "4"
        ],
        [
         "14",
         "10"
        ],
        [
         "15",
         "3"
        ],
        [
         "16",
         "12"
        ],
        [
         "17",
         "7"
        ],
        [
         "18",
         "0"
        ],
        [
         "19",
         "3"
        ],
        [
         "20",
         "6"
        ],
        [
         "21",
         "7"
        ],
        [
         "22",
         "11"
        ],
        [
         "23",
         "7"
        ],
        [
         "24",
         "8"
        ],
        [
         "25",
         "1"
        ],
        [
         "26",
         "6"
        ],
        [
         "27",
         "4"
        ],
        [
         "28",
         "3"
        ],
        [
         "29",
         "6"
        ],
        [
         "30",
         "6"
        ],
        [
         "31",
         "1"
        ],
        [
         "32",
         "3"
        ],
        [
         "33",
         "6"
        ],
        [
         "34",
         "4"
        ],
        [
         "35",
         "4"
        ],
        [
         "36",
         "7"
        ],
        [
         "37",
         "6"
        ],
        [
         "38",
         "0"
        ],
        [
         "39",
         "9"
        ],
        [
         "40",
         "0"
        ],
        [
         "41",
         "0"
        ],
        [
         "42",
         "6"
        ],
        [
         "43",
         "9"
        ],
        [
         "44",
         "3"
        ],
        [
         "45",
         "6"
        ],
        [
         "46",
         "4"
        ],
        [
         "47",
         "3"
        ],
        [
         "48",
         "4"
        ],
        [
         "49",
         "0"
        ]
       ],
       "shape": {
        "columns": 1,
        "rows": 891
       }
      },
      "text/plain": [
       "0      4\n",
       "1      1\n",
       "2      3\n",
       "3      1\n",
       "4      6\n",
       "      ..\n",
       "886    6\n",
       "887    3\n",
       "888    0\n",
       "889    7\n",
       "890    6\n",
       "Name: flags, Length: 891, dtype: Int64"
      ]
     },
     "metadata": {},
     "output_type": "display_data"
    }
   ],
   "source": [
    "df['has_survived'] = df['survived'].astype(bool)\n",
    "df['is_alone'] = df['alone'].astype(bool)\n",
    "df['is_male'] = df['sex'].map({'male': 1, 'female': 0})\n",
    "df['age_below_18'] = df['age'] < 18\n",
    "\n",
    "df['flags'] = fs.apply_to_df(df=df)\n",
    "df['flags']"
   ]
  },
  {
   "cell_type": "code",
   "execution_count": null,
   "metadata": {},
   "outputs": [
    {
     "data": {
      "application/vnd.microsoft.datawrangler.viewer.v0+json": {
       "columns": [
        {
         "name": "index",
         "rawType": "int64",
         "type": "integer"
        },
        {
         "name": "flags",
         "rawType": "boolean",
         "type": "boolean"
        }
       ],
       "ref": "59a2606a-f1c9-4d35-969d-390b63e73ff2",
       "rows": [
        [
         "0",
         "False"
        ],
        [
         "1",
         "False"
        ],
        [
         "2",
         "True"
        ],
        [
         "3",
         "False"
        ],
        [
         "4",
         "False"
        ],
        [
         "5",
         "False"
        ],
        [
         "6",
         "False"
        ],
        [
         "7",
         "False"
        ],
        [
         "8",
         "False"
        ],
        [
         "9",
         "False"
        ],
        [
         "10",
         "False"
        ],
        [
         "11",
         "True"
        ],
        [
         "12",
         "False"
        ],
        [
         "13",
         "False"
        ],
        [
         "14",
         "False"
        ],
        [
         "15",
         "True"
        ],
        [
         "16",
         "False"
        ],
        [
         "17",
         "True"
        ],
        [
         "18",
         "False"
        ],
        [
         "19",
         "True"
        ],
        [
         "20",
         "False"
        ],
        [
         "21",
         "True"
        ],
        [
         "22",
         "True"
        ],
        [
         "23",
         "True"
        ],
        [
         "24",
         "False"
        ],
        [
         "25",
         "False"
        ],
        [
         "26",
         "False"
        ],
        [
         "27",
         "False"
        ],
        [
         "28",
         "True"
        ],
        [
         "29",
         "False"
        ],
        [
         "30",
         "False"
        ],
        [
         "31",
         "False"
        ],
        [
         "32",
         "True"
        ],
        [
         "33",
         "False"
        ],
        [
         "34",
         "False"
        ],
        [
         "35",
         "False"
        ],
        [
         "36",
         "True"
        ],
        [
         "37",
         "False"
        ],
        [
         "38",
         "False"
        ],
        [
         "39",
         "False"
        ],
        [
         "40",
         "False"
        ],
        [
         "41",
         "False"
        ],
        [
         "42",
         "False"
        ],
        [
         "43",
         "False"
        ],
        [
         "44",
         "True"
        ],
        [
         "45",
         "False"
        ],
        [
         "46",
         "False"
        ],
        [
         "47",
         "True"
        ],
        [
         "48",
         "False"
        ],
        [
         "49",
         "False"
        ]
       ],
       "shape": {
        "columns": 1,
        "rows": 891
       }
      },
      "text/plain": [
       "0      False\n",
       "1      False\n",
       "2       True\n",
       "3      False\n",
       "4      False\n",
       "       ...  \n",
       "886    False\n",
       "887     True\n",
       "888    False\n",
       "889     True\n",
       "890    False\n",
       "Name: flags, Length: 891, dtype: boolean"
      ]
     },
     "metadata": {},
     "output_type": "display_data"
    }
   ],
   "source": [
    "(df['flags'] & (fs.flag_map['has_survived'] | fs.flag_map['is_alone'])) == (fs.flag_map['has_survived'] | fs.flag_map['is_alone'])"
   ]
  },
  {
   "cell_type": "code",
   "execution_count": null,
   "metadata": {},
   "outputs": [
    {
     "data": {
      "application/vnd.microsoft.datawrangler.viewer.v0+json": {
       "columns": [
        {
         "name": "index",
         "rawType": "int64",
         "type": "integer"
        },
        {
         "name": "flags",
         "rawType": "object",
         "type": "unknown"
        }
       ],
       "ref": "64f2cb7c-120f-41ff-b17d-2b627972cae3",
       "rows": [
        [
         "0",
         "['is_male']"
        ],
        [
         "1",
         "['has_survived']"
        ],
        [
         "2",
         "['has_survived', 'is_alone']"
        ],
        [
         "3",
         "['has_survived']"
        ],
        [
         "4",
         "['is_alone', 'is_male']"
        ],
        [
         "5",
         "['is_alone', 'is_male']"
        ],
        [
         "6",
         "['is_alone', 'is_male']"
        ],
        [
         "7",
         "['is_male', 'age_below_18']"
        ],
        [
         "8",
         "['has_survived']"
        ],
        [
         "9",
         "['has_survived', 'age_below_18']"
        ],
        [
         "10",
         "['has_survived', 'age_below_18']"
        ],
        [
         "11",
         "['has_survived', 'is_alone']"
        ],
        [
         "12",
         "['is_alone', 'is_male']"
        ],
        [
         "13",
         "['is_male']"
        ],
        [
         "14",
         "['is_alone', 'age_below_18']"
        ],
        [
         "15",
         "['has_survived', 'is_alone']"
        ],
        [
         "16",
         "['is_male', 'age_below_18']"
        ],
        [
         "17",
         "['has_survived', 'is_alone', 'is_male']"
        ],
        [
         "18",
         "[]"
        ],
        [
         "19",
         "['has_survived', 'is_alone']"
        ],
        [
         "20",
         "['is_alone', 'is_male']"
        ],
        [
         "21",
         "['has_survived', 'is_alone', 'is_male']"
        ],
        [
         "22",
         "['has_survived', 'is_alone', 'age_below_18']"
        ],
        [
         "23",
         "['has_survived', 'is_alone', 'is_male']"
        ],
        [
         "24",
         "['age_below_18']"
        ],
        [
         "25",
         "['has_survived']"
        ],
        [
         "26",
         "['is_alone', 'is_male']"
        ],
        [
         "27",
         "['is_male']"
        ],
        [
         "28",
         "['has_survived', 'is_alone']"
        ],
        [
         "29",
         "['is_alone', 'is_male']"
        ],
        [
         "30",
         "['is_alone', 'is_male']"
        ],
        [
         "31",
         "['has_survived']"
        ],
        [
         "32",
         "['has_survived', 'is_alone']"
        ],
        [
         "33",
         "['is_alone', 'is_male']"
        ],
        [
         "34",
         "['is_male']"
        ],
        [
         "35",
         "['is_male']"
        ],
        [
         "36",
         "['has_survived', 'is_alone', 'is_male']"
        ],
        [
         "37",
         "['is_alone', 'is_male']"
        ],
        [
         "38",
         "[]"
        ],
        [
         "39",
         "['has_survived', 'age_below_18']"
        ],
        [
         "40",
         "[]"
        ],
        [
         "41",
         "[]"
        ],
        [
         "42",
         "['is_alone', 'is_male']"
        ],
        [
         "43",
         "['has_survived', 'age_below_18']"
        ],
        [
         "44",
         "['has_survived', 'is_alone']"
        ],
        [
         "45",
         "['is_alone', 'is_male']"
        ],
        [
         "46",
         "['is_male']"
        ],
        [
         "47",
         "['has_survived', 'is_alone']"
        ],
        [
         "48",
         "['is_male']"
        ],
        [
         "49",
         "[]"
        ]
       ],
       "shape": {
        "columns": 1,
        "rows": 891
       }
      },
      "text/plain": [
       "0                              [is_male]\n",
       "1                         [has_survived]\n",
       "2               [has_survived, is_alone]\n",
       "3                         [has_survived]\n",
       "4                    [is_alone, is_male]\n",
       "                     ...                \n",
       "886                  [is_alone, is_male]\n",
       "887             [has_survived, is_alone]\n",
       "888                                   []\n",
       "889    [has_survived, is_alone, is_male]\n",
       "890                  [is_alone, is_male]\n",
       "Name: flags, Length: 891, dtype: object"
      ]
     },
     "metadata": {},
     "output_type": "display_data"
    }
   ],
   "source": [
    "df['flags'].apply(lambda x: fs.decode(x))"
   ]
  },
  {
   "cell_type": "code",
   "execution_count": null,
   "metadata": {},
   "outputs": [],
   "source": []
  },
  {
   "cell_type": "markdown",
   "metadata": {},
   "source": [
    "### flagging funcs and actions"
   ]
  },
  {
   "cell_type": "code",
   "execution_count": 45,
   "metadata": {},
   "outputs": [],
   "source": [
    "def action_1(df, res_col, flag_col):\n",
    "    mask = lambda x: (x['age'] > 50) & (x['sex'] == 'female')\n",
    "    df.loc[mask, res_col] = 1\n",
    "    df[flag_col] = 0\n",
    "    df.loc[mask, flag_col] = 1\n",
    "\n",
    "def action_2(df, res_col, flag_col):\n",
    "    mask = lambda x: (x['age'] < 18) & (x['sex'] == 'male')\n",
    "    df.loc[mask, res_col] = 0\n",
    "    df[flag_col] = 0\n",
    "    df.loc[mask, flag_col] = 1"
   ]
  },
  {
   "cell_type": "code",
   "execution_count": null,
   "metadata": {},
   "outputs": [
    {
     "data": {
      "application/vnd.microsoft.datawrangler.viewer.v0+json": {
       "columns": [
        {
         "name": "index",
         "rawType": "int64",
         "type": "integer"
        },
        {
         "name": "survived",
         "rawType": "int64",
         "type": "integer"
        },
        {
         "name": "survived_2",
         "rawType": "int64",
         "type": "integer"
        },
        {
         "name": "flag_0",
         "rawType": "int64",
         "type": "integer"
        },
        {
         "name": "flag_1",
         "rawType": "int64",
         "type": "integer"
        },
        {
         "name": "count",
         "rawType": "int64",
         "type": "integer"
        }
       ],
       "ref": "4c71a5ac-82d4-4aed-91c2-4116f9446e7b",
       "rows": [
        [
         "0",
         "0",
         "0",
         "0",
         "0",
         "513"
        ],
        [
         "1",
         "1",
         "1",
         "0",
         "0",
         "303"
        ],
        [
         "2",
         "0",
         "0",
         "0",
         "1",
         "35"
        ],
        [
         "3",
         "1",
         "0",
         "0",
         "1",
         "23"
        ],
        [
         "4",
         "1",
         "1",
         "1",
         "0",
         "16"
        ],
        [
         "5",
         "0",
         "1",
         "1",
         "0",
         "1"
        ]
       ],
       "shape": {
        "columns": 5,
        "rows": 6
       }
      },
      "text/html": [
       "<div>\n",
       "<style scoped>\n",
       "    .dataframe tbody tr th:only-of-type {\n",
       "        vertical-align: middle;\n",
       "    }\n",
       "\n",
       "    .dataframe tbody tr th {\n",
       "        vertical-align: top;\n",
       "    }\n",
       "\n",
       "    .dataframe thead th {\n",
       "        text-align: right;\n",
       "    }\n",
       "</style>\n",
       "<table border=\"1\" class=\"dataframe\">\n",
       "  <thead>\n",
       "    <tr style=\"text-align: right;\">\n",
       "      <th></th>\n",
       "      <th>survived</th>\n",
       "      <th>survived_2</th>\n",
       "      <th>flag_0</th>\n",
       "      <th>flag_1</th>\n",
       "      <th>count</th>\n",
       "    </tr>\n",
       "  </thead>\n",
       "  <tbody>\n",
       "    <tr>\n",
       "      <th>0</th>\n",
       "      <td>0</td>\n",
       "      <td>0</td>\n",
       "      <td>0</td>\n",
       "      <td>0</td>\n",
       "      <td>513</td>\n",
       "    </tr>\n",
       "    <tr>\n",
       "      <th>1</th>\n",
       "      <td>1</td>\n",
       "      <td>1</td>\n",
       "      <td>0</td>\n",
       "      <td>0</td>\n",
       "      <td>303</td>\n",
       "    </tr>\n",
       "    <tr>\n",
       "      <th>2</th>\n",
       "      <td>0</td>\n",
       "      <td>0</td>\n",
       "      <td>0</td>\n",
       "      <td>1</td>\n",
       "      <td>35</td>\n",
       "    </tr>\n",
       "    <tr>\n",
       "      <th>3</th>\n",
       "      <td>1</td>\n",
       "      <td>0</td>\n",
       "      <td>0</td>\n",
       "      <td>1</td>\n",
       "      <td>23</td>\n",
       "    </tr>\n",
       "    <tr>\n",
       "      <th>4</th>\n",
       "      <td>1</td>\n",
       "      <td>1</td>\n",
       "      <td>1</td>\n",
       "      <td>0</td>\n",
       "      <td>16</td>\n",
       "    </tr>\n",
       "    <tr>\n",
       "      <th>5</th>\n",
       "      <td>0</td>\n",
       "      <td>1</td>\n",
       "      <td>1</td>\n",
       "      <td>0</td>\n",
       "      <td>1</td>\n",
       "    </tr>\n",
       "  </tbody>\n",
       "</table>\n",
       "</div>"
      ],
      "text/plain": [
       "   survived  survived_2  flag_0  flag_1  count\n",
       "0         0           0       0       0    513\n",
       "1         1           1       0       0    303\n",
       "2         0           0       0       1     35\n",
       "3         1           0       0       1     23\n",
       "4         1           1       1       0     16\n",
       "5         0           1       1       0      1"
      ]
     },
     "execution_count": 59,
     "metadata": {},
     "output_type": "execute_result"
    }
   ],
   "source": [
    "actions_sequence = [action_1, action_2]\n",
    "res_col = 'survived_2'\n",
    "flag_col_suffix = 'flag_'\n",
    "\n",
    "# Apply actions\n",
    "df[res_col] = df['survived']\n",
    "for i, action in enumerate(actions_sequence):\n",
    "    action(df, res_col=res_col, flag_col=flag_col_suffix + str(i))\n",
    "\n",
    "df[['survived', 'survived_2', 'flag_0', 'flag_1']].value_counts().reset_index()"
   ]
  },
  {
   "cell_type": "code",
   "execution_count": null,
   "metadata": {},
   "outputs": [],
   "source": []
  },
  {
   "cell_type": "markdown",
   "metadata": {},
   "source": [
    "### archive"
   ]
  },
  {
   "cell_type": "code",
   "execution_count": null,
   "metadata": {},
   "outputs": [],
   "source": [
    "# import functools\n",
    "\n",
    "# def decorate_action(func):\n",
    "#     @functools.wraps(func)\n",
    "#     def wrapper(df, *args, **kwargs):\n",
    "#         if len(args) == 1:\n",
    "#             res_col = args[0]\n",
    "#             flag_col = kwargs['flag_col']\n",
    "#         elif len(args) == 2:\n",
    "#             res_col = args[0]\n",
    "#             flag_col = args[1]\n",
    "#         else:\n",
    "#             res_col = kwargs['res_col']\n",
    "#             flag_col = kwargs['flag_col']\n",
    "\n",
    "#         logger.debug(f\"calling {func.__name__}\")\n",
    "#         res, flag = func(df, *args, **kwargs)\n",
    "\n",
    "#         # apply back\n",
    "#         df[res_col] = res\n",
    "#         df[flag_col] = flag\n",
    "\n",
    "#         # return pd.DataFrame({\n",
    "#         #     res_col: res,\n",
    "#         #     flag_col: flag\n",
    "#         # }, index=df.index)\n",
    "#     return wrapper\n"
   ]
  },
  {
   "cell_type": "code",
   "execution_count": null,
   "metadata": {},
   "outputs": [],
   "source": [
    "# # action take df, then make new df with 2 cols, 1 res, 1 flag\n",
    "# @decorate_action\n",
    "# def action_1(df, res_col, flag_col):\n",
    "#     mask = lambda x: (x['age'] > 50) & (x['sex'] == 'female')\n",
    "#     res = df[res_col].copy()\n",
    "#     res.loc[mask(df)] = 1\n",
    "#     flag = mask(df).astype(int)\n",
    "#     return res, flag\n",
    "\n",
    "# @decorate_action\n",
    "# def action_2(df, res_col, flag_col):\n",
    "#     mask = lambda x: (x['age'] < 18) & (x['sex'] == 'male')\n",
    "#     res = df[res_col].copy()\n",
    "#     res.loc[mask(df)] = 0\n",
    "#     flag = mask(df).astype(int)\n",
    "#     return res, flag"
   ]
  },
  {
   "cell_type": "code",
   "execution_count": null,
   "metadata": {},
   "outputs": [],
   "source": []
  },
  {
   "cell_type": "code",
   "execution_count": null,
   "metadata": {},
   "outputs": [],
   "source": []
  },
  {
   "cell_type": "code",
   "execution_count": null,
   "metadata": {},
   "outputs": [],
   "source": []
  }
 ],
 "metadata": {
  "kernelspec": {
   "display_name": "Python 3",
   "language": "python",
   "name": "python3"
  },
  "language_info": {
   "codemirror_mode": {
    "name": "ipython",
    "version": 3
   },
   "file_extension": ".py",
   "mimetype": "text/x-python",
   "name": "python",
   "nbconvert_exporter": "python",
   "pygments_lexer": "ipython3",
   "version": "3.13.2"
  }
 },
 "nbformat": 4,
 "nbformat_minor": 2
}
