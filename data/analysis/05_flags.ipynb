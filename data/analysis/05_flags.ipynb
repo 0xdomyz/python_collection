{
 "cells": [
  {
   "cell_type": "code",
   "execution_count": 1,
   "metadata": {},
   "outputs": [],
   "source": [
    "import pandas as pd"
   ]
  },
  {
   "cell_type": "code",
   "execution_count": 2,
   "metadata": {},
   "outputs": [
    {
     "name": "stdout",
     "output_type": "stream",
     "text": [
      "(891, 15)\n",
      "survived                 0\n",
      "pclass                   3\n",
      "sex                   male\n",
      "age                   22.0\n",
      "sibsp                    1\n",
      "parch                    0\n",
      "fare                  7.25\n",
      "embarked                 S\n",
      "class                Third\n",
      "who                    man\n",
      "adult_male            True\n",
      "deck                   NaN\n",
      "embark_town    Southampton\n",
      "alive                   no\n",
      "alone                False\n"
     ]
    }
   ],
   "source": [
    "df = pd.read_csv(\"titanic.csv\")\n",
    "print(f\"{df.shape}\")\n",
    "print(df.iloc[0, :].to_string())"
   ]
  },
  {
   "cell_type": "markdown",
   "metadata": {},
   "source": [
    "### funcs"
   ]
  },
  {
   "cell_type": "code",
   "execution_count": 139,
   "metadata": {},
   "outputs": [],
   "source": [
    "class FlagSchema(object):\n",
    "    def __init__(self, flag_map:dict[str, int]):\n",
    "        self.flag_map = flag_map\n",
    "        self._bitfield_length = max(1, sum(flag_map.values()).bit_length())\n",
    "\n",
    "    def decode(self, bitfield:int)->list[str]:\n",
    "        return [name for name, value in self.flag_map.items() if bitfield & value]\n",
    "\n",
    "    def apply_to_df(self, df:pd.DataFrame)->pd.Series:\n",
    "        flag_srs = pd.Series(index=df.index, dtype=pd.Int64Dtype()).fillna(0)\n",
    "        for k, v in self.flag_map.items():\n",
    "            flag_srs += df[k].astype(bool) * v\n",
    "        return flag_srs"
   ]
  },
  {
   "cell_type": "code",
   "execution_count": 39,
   "metadata": {},
   "outputs": [],
   "source": [
    "class FlagSet:\n",
    "    def __init__(self, flag_map: dict):\n",
    "        self._flag_map = flag_map\n",
    "        self._bitfield = 0\n",
    "        self._bitfield_length = max(1, self._bitfield.bit_length())\n",
    "\n",
    "    @staticmethod\n",
    "    def decode_flags(flag_map, bitfield):\n",
    "        return [name for name, mask in flag_map.items() if bitfield & mask]\n",
    "\n",
    "    @staticmethod\n",
    "    def is_flag_set(flag_map, flag_name):\n",
    "        mask = flag_map.get(flag_name, 0)\n",
    "        return lambda bitfield: bool(bitfield & mask)\n",
    "\n",
    "    @classmethod\n",
    "    def from_value(cls, flag_map, bitfield):\n",
    "        obj = cls(flag_map)\n",
    "        obj._bitfield = bitfield\n",
    "        return obj\n",
    "\n",
    "    def __repr__(self):\n",
    "        active = self.decode()\n",
    "        return f\"<FlagSet {self.binary()} → {active}>\"\n",
    "\n",
    "    def apply(self, *flag_names):\n",
    "        for name in flag_names:\n",
    "            self._bitfield |= self._flag_map[name]\n",
    "        return self\n",
    "\n",
    "    def clear(self, *flag_names):\n",
    "        for name in flag_names:\n",
    "            self._bitfield &= ~self._flag_map[name]\n",
    "        return self\n",
    "\n",
    "    def toggle(self, *flag_names):\n",
    "        for name in flag_names:\n",
    "            self._bitfield ^= self._flag_map[name]\n",
    "        return self\n",
    "\n",
    "    def is_set(self, flag_name):\n",
    "        return bool(self._bitfield & self._flag_map[flag_name])\n",
    "\n",
    "    def decode(self):\n",
    "        return [name for name, mask in self._flag_map.items() if self._bitfield & mask]\n",
    "\n",
    "    def mask(self, flag_name):\n",
    "        return self._flag_map.get(flag_name, 0)\n",
    "\n",
    "    def value(self):\n",
    "        return self._bitfield\n",
    "\n",
    "    def binary(self):\n",
    "        return f\"{self._bitfield:0{self._bitfield_length}b}\"\n",
    "\n",
    "    def describe(self):\n",
    "        data = []\n",
    "        for name, mask in sorted(self._flag_map.items()):\n",
    "            data.append({\n",
    "                'Flag Name': name,\n",
    "                'Mask': f\"{mask:0{self._bitfield_length}b}\",\n",
    "                'Value': mask,\n",
    "                'Active': self.is_set(name)\n",
    "            })\n",
    "        return pd.DataFrame(data)"
   ]
  },
  {
   "cell_type": "markdown",
   "metadata": {},
   "source": [
    "### df"
   ]
  },
  {
   "cell_type": "code",
   "execution_count": 140,
   "metadata": {},
   "outputs": [
    {
     "data": {
      "text/plain": [
       "<__main__.FlagSchema at 0x270b3542cf0>"
      ]
     },
     "execution_count": 140,
     "metadata": {},
     "output_type": "execute_result"
    }
   ],
   "source": [
    "flag_map = {\n",
    "    'has_survived': 0b0001,\n",
    "    'is_alone': 0b0010,\n",
    "    'is_male': 0b0100,\n",
    "    'age_below_18': 0b1000,\n",
    "}\n",
    "fs = FlagSchema(flag_map=flag_map)\n",
    "fs"
   ]
  },
  {
   "cell_type": "code",
   "execution_count": 141,
   "metadata": {},
   "outputs": [
    {
     "data": {
      "application/vnd.microsoft.datawrangler.viewer.v0+json": {
       "columns": [
        {
         "name": "index",
         "rawType": "int64",
         "type": "integer"
        },
        {
         "name": "flags",
         "rawType": "Int64",
         "type": "integer"
        }
       ],
       "ref": "0c9715f9-a5d1-4d5c-9764-22c86b0ba112",
       "rows": [
        [
         "0",
         "4"
        ],
        [
         "1",
         "1"
        ],
        [
         "2",
         "3"
        ],
        [
         "3",
         "1"
        ],
        [
         "4",
         "6"
        ],
        [
         "5",
         "6"
        ],
        [
         "6",
         "6"
        ],
        [
         "7",
         "12"
        ],
        [
         "8",
         "1"
        ],
        [
         "9",
         "9"
        ],
        [
         "10",
         "9"
        ],
        [
         "11",
         "3"
        ],
        [
         "12",
         "6"
        ],
        [
         "13",
         "4"
        ],
        [
         "14",
         "10"
        ],
        [
         "15",
         "3"
        ],
        [
         "16",
         "12"
        ],
        [
         "17",
         "7"
        ],
        [
         "18",
         "0"
        ],
        [
         "19",
         "3"
        ],
        [
         "20",
         "6"
        ],
        [
         "21",
         "7"
        ],
        [
         "22",
         "11"
        ],
        [
         "23",
         "7"
        ],
        [
         "24",
         "8"
        ],
        [
         "25",
         "1"
        ],
        [
         "26",
         "6"
        ],
        [
         "27",
         "4"
        ],
        [
         "28",
         "3"
        ],
        [
         "29",
         "6"
        ],
        [
         "30",
         "6"
        ],
        [
         "31",
         "1"
        ],
        [
         "32",
         "3"
        ],
        [
         "33",
         "6"
        ],
        [
         "34",
         "4"
        ],
        [
         "35",
         "4"
        ],
        [
         "36",
         "7"
        ],
        [
         "37",
         "6"
        ],
        [
         "38",
         "0"
        ],
        [
         "39",
         "9"
        ],
        [
         "40",
         "0"
        ],
        [
         "41",
         "0"
        ],
        [
         "42",
         "6"
        ],
        [
         "43",
         "9"
        ],
        [
         "44",
         "3"
        ],
        [
         "45",
         "6"
        ],
        [
         "46",
         "4"
        ],
        [
         "47",
         "3"
        ],
        [
         "48",
         "4"
        ],
        [
         "49",
         "0"
        ]
       ],
       "shape": {
        "columns": 1,
        "rows": 891
       }
      },
      "text/plain": [
       "0      4\n",
       "1      1\n",
       "2      3\n",
       "3      1\n",
       "4      6\n",
       "      ..\n",
       "886    6\n",
       "887    3\n",
       "888    0\n",
       "889    7\n",
       "890    6\n",
       "Name: flags, Length: 891, dtype: Int64"
      ]
     },
     "execution_count": 141,
     "metadata": {},
     "output_type": "execute_result"
    }
   ],
   "source": [
    "df['has_survived'] = df['survived'].astype(bool)\n",
    "df['is_alone'] = df['alone'].astype(bool)\n",
    "df['is_male'] = df['sex'].map({'male': 1, 'female': 0})\n",
    "df['age_below_18'] = df['age'] < 18\n",
    "\n",
    "df['flags'] = fs.apply_to_df(df=df)\n",
    "df['flags']"
   ]
  },
  {
   "cell_type": "code",
   "execution_count": 150,
   "metadata": {},
   "outputs": [
    {
     "data": {
      "application/vnd.microsoft.datawrangler.viewer.v0+json": {
       "columns": [
        {
         "name": "index",
         "rawType": "int64",
         "type": "integer"
        },
        {
         "name": "flags",
         "rawType": "boolean",
         "type": "boolean"
        }
       ],
       "ref": "26b81555-067d-44a9-b519-f197f61c5610",
       "rows": [
        [
         "0",
         "False"
        ],
        [
         "1",
         "False"
        ],
        [
         "2",
         "True"
        ],
        [
         "3",
         "False"
        ],
        [
         "4",
         "False"
        ],
        [
         "5",
         "False"
        ],
        [
         "6",
         "False"
        ],
        [
         "7",
         "False"
        ],
        [
         "8",
         "False"
        ],
        [
         "9",
         "False"
        ],
        [
         "10",
         "False"
        ],
        [
         "11",
         "True"
        ],
        [
         "12",
         "False"
        ],
        [
         "13",
         "False"
        ],
        [
         "14",
         "False"
        ],
        [
         "15",
         "True"
        ],
        [
         "16",
         "False"
        ],
        [
         "17",
         "True"
        ],
        [
         "18",
         "False"
        ],
        [
         "19",
         "True"
        ],
        [
         "20",
         "False"
        ],
        [
         "21",
         "True"
        ],
        [
         "22",
         "True"
        ],
        [
         "23",
         "True"
        ],
        [
         "24",
         "False"
        ],
        [
         "25",
         "False"
        ],
        [
         "26",
         "False"
        ],
        [
         "27",
         "False"
        ],
        [
         "28",
         "True"
        ],
        [
         "29",
         "False"
        ],
        [
         "30",
         "False"
        ],
        [
         "31",
         "False"
        ],
        [
         "32",
         "True"
        ],
        [
         "33",
         "False"
        ],
        [
         "34",
         "False"
        ],
        [
         "35",
         "False"
        ],
        [
         "36",
         "True"
        ],
        [
         "37",
         "False"
        ],
        [
         "38",
         "False"
        ],
        [
         "39",
         "False"
        ],
        [
         "40",
         "False"
        ],
        [
         "41",
         "False"
        ],
        [
         "42",
         "False"
        ],
        [
         "43",
         "False"
        ],
        [
         "44",
         "True"
        ],
        [
         "45",
         "False"
        ],
        [
         "46",
         "False"
        ],
        [
         "47",
         "True"
        ],
        [
         "48",
         "False"
        ],
        [
         "49",
         "False"
        ]
       ],
       "shape": {
        "columns": 1,
        "rows": 891
       }
      },
      "text/plain": [
       "0      False\n",
       "1      False\n",
       "2       True\n",
       "3      False\n",
       "4      False\n",
       "       ...  \n",
       "886    False\n",
       "887     True\n",
       "888    False\n",
       "889     True\n",
       "890    False\n",
       "Name: flags, Length: 891, dtype: boolean"
      ]
     },
     "execution_count": 150,
     "metadata": {},
     "output_type": "execute_result"
    }
   ],
   "source": [
    "(df['flags'] & (fs.flag_map['has_survived'] | fs.flag_map['is_alone'])) == (fs.flag_map['has_survived'] | fs.flag_map['is_alone'])"
   ]
  },
  {
   "cell_type": "code",
   "execution_count": 134,
   "metadata": {},
   "outputs": [
    {
     "data": {
      "application/vnd.microsoft.datawrangler.viewer.v0+json": {
       "columns": [
        {
         "name": "index",
         "rawType": "int64",
         "type": "integer"
        },
        {
         "name": "flags",
         "rawType": "object",
         "type": "unknown"
        }
       ],
       "ref": "3f544c06-df47-4f03-aecb-4be8014e4c72",
       "rows": [
        [
         "0",
         "['is_male']"
        ],
        [
         "1",
         "['has_survived']"
        ],
        [
         "2",
         "['has_survived', 'is_alone']"
        ],
        [
         "3",
         "['has_survived']"
        ],
        [
         "4",
         "['is_alone', 'is_male']"
        ],
        [
         "5",
         "['is_alone', 'is_male']"
        ],
        [
         "6",
         "['is_alone', 'is_male']"
        ],
        [
         "7",
         "['is_male', 'age_below_18']"
        ],
        [
         "8",
         "['has_survived']"
        ],
        [
         "9",
         "['has_survived', 'age_below_18']"
        ],
        [
         "10",
         "['has_survived', 'age_below_18']"
        ],
        [
         "11",
         "['has_survived', 'is_alone']"
        ],
        [
         "12",
         "['is_alone', 'is_male']"
        ],
        [
         "13",
         "['is_male']"
        ],
        [
         "14",
         "['is_alone', 'age_below_18']"
        ],
        [
         "15",
         "['has_survived', 'is_alone']"
        ],
        [
         "16",
         "['is_male', 'age_below_18']"
        ],
        [
         "17",
         "['has_survived', 'is_alone', 'is_male']"
        ],
        [
         "18",
         "[]"
        ],
        [
         "19",
         "['has_survived', 'is_alone']"
        ],
        [
         "20",
         "['is_alone', 'is_male']"
        ],
        [
         "21",
         "['has_survived', 'is_alone', 'is_male']"
        ],
        [
         "22",
         "['has_survived', 'is_alone', 'age_below_18']"
        ],
        [
         "23",
         "['has_survived', 'is_alone', 'is_male']"
        ],
        [
         "24",
         "['age_below_18']"
        ],
        [
         "25",
         "['has_survived']"
        ],
        [
         "26",
         "['is_alone', 'is_male']"
        ],
        [
         "27",
         "['is_male']"
        ],
        [
         "28",
         "['has_survived', 'is_alone']"
        ],
        [
         "29",
         "['is_alone', 'is_male']"
        ],
        [
         "30",
         "['is_alone', 'is_male']"
        ],
        [
         "31",
         "['has_survived']"
        ],
        [
         "32",
         "['has_survived', 'is_alone']"
        ],
        [
         "33",
         "['is_alone', 'is_male']"
        ],
        [
         "34",
         "['is_male']"
        ],
        [
         "35",
         "['is_male']"
        ],
        [
         "36",
         "['has_survived', 'is_alone', 'is_male']"
        ],
        [
         "37",
         "['is_alone', 'is_male']"
        ],
        [
         "38",
         "[]"
        ],
        [
         "39",
         "['has_survived', 'age_below_18']"
        ],
        [
         "40",
         "[]"
        ],
        [
         "41",
         "[]"
        ],
        [
         "42",
         "['is_alone', 'is_male']"
        ],
        [
         "43",
         "['has_survived', 'age_below_18']"
        ],
        [
         "44",
         "['has_survived', 'is_alone']"
        ],
        [
         "45",
         "['is_alone', 'is_male']"
        ],
        [
         "46",
         "['is_male']"
        ],
        [
         "47",
         "['has_survived', 'is_alone']"
        ],
        [
         "48",
         "['is_male']"
        ],
        [
         "49",
         "[]"
        ]
       ],
       "shape": {
        "columns": 1,
        "rows": 891
       }
      },
      "text/plain": [
       "0                              [is_male]\n",
       "1                         [has_survived]\n",
       "2               [has_survived, is_alone]\n",
       "3                         [has_survived]\n",
       "4                    [is_alone, is_male]\n",
       "                     ...                \n",
       "886                  [is_alone, is_male]\n",
       "887             [has_survived, is_alone]\n",
       "888                                   []\n",
       "889    [has_survived, is_alone, is_male]\n",
       "890                  [is_alone, is_male]\n",
       "Name: flags, Length: 891, dtype: object"
      ]
     },
     "execution_count": 134,
     "metadata": {},
     "output_type": "execute_result"
    }
   ],
   "source": [
    "df['flags'].apply(lambda x: fs.decode(x))"
   ]
  },
  {
   "cell_type": "code",
   "execution_count": null,
   "metadata": {},
   "outputs": [],
   "source": []
  },
  {
   "cell_type": "markdown",
   "metadata": {},
   "source": [
    "### bitand flag basics"
   ]
  },
  {
   "cell_type": "code",
   "execution_count": 14,
   "metadata": {},
   "outputs": [],
   "source": [
    "# define bit masks\n",
    "has_survived = 0b0001\n",
    "is_alone = 0b0010\n",
    "is_male = 0b0100\n",
    "age_below_18 = 0b1000"
   ]
  },
  {
   "cell_type": "code",
   "execution_count": 7,
   "metadata": {},
   "outputs": [],
   "source": [
    "flag = 0b0110"
   ]
  },
  {
   "cell_type": "code",
   "execution_count": 8,
   "metadata": {},
   "outputs": [
    {
     "name": "stdout",
     "output_type": "stream",
     "text": [
      "check: flag & has_survived = 0\n",
      "check: flag & is_alone = 2\n",
      "check: flag & is_male = 4\n",
      "check: flag & age_below_18 = 0\n"
     ]
    }
   ],
   "source": [
    "print(f\"check: {flag & has_survived = }\")\n",
    "print(f\"check: {flag & is_alone = }\")\n",
    "print(f\"check: {flag & is_male = }\")\n",
    "print(f\"check: {flag & age_below_18 = }\")"
   ]
  },
  {
   "cell_type": "code",
   "execution_count": 17,
   "metadata": {},
   "outputs": [
    {
     "data": {
      "text/plain": [
       "'0b111'"
      ]
     },
     "execution_count": 17,
     "metadata": {},
     "output_type": "execute_result"
    }
   ],
   "source": [
    "# set\n",
    "bin(flag | has_survived)"
   ]
  },
  {
   "cell_type": "code",
   "execution_count": 15,
   "metadata": {},
   "outputs": [
    {
     "data": {
      "text/plain": [
       "'0b100'"
      ]
     },
     "execution_count": 15,
     "metadata": {},
     "output_type": "execute_result"
    }
   ],
   "source": [
    "bin(flag & ~0b0010) # clear"
   ]
  },
  {
   "cell_type": "code",
   "execution_count": 16,
   "metadata": {},
   "outputs": [
    {
     "data": {
      "text/plain": [
       "'0b10'"
      ]
     },
     "execution_count": 16,
     "metadata": {},
     "output_type": "execute_result"
    }
   ],
   "source": [
    "bin(flag ^ 0b0100) # flip"
   ]
  },
  {
   "cell_type": "markdown",
   "metadata": {},
   "source": [
    "### flag set"
   ]
  },
  {
   "cell_type": "code",
   "execution_count": 51,
   "metadata": {},
   "outputs": [
    {
     "data": {
      "application/vnd.microsoft.datawrangler.viewer.v0+json": {
       "columns": [
        {
         "name": "index",
         "rawType": "int64",
         "type": "integer"
        },
        {
         "name": "Flag Name",
         "rawType": "object",
         "type": "string"
        },
        {
         "name": "Mask",
         "rawType": "object",
         "type": "string"
        },
        {
         "name": "Value",
         "rawType": "int64",
         "type": "integer"
        },
        {
         "name": "Active",
         "rawType": "bool",
         "type": "boolean"
        }
       ],
       "ref": "17e1848b-1278-4910-9ca6-d5a3b2a19027",
       "rows": [
        [
         "0",
         "age_below_18",
         "1000",
         "8",
         "False"
        ],
        [
         "1",
         "has_survived",
         "1",
         "1",
         "False"
        ],
        [
         "2",
         "is_alone",
         "10",
         "2",
         "False"
        ],
        [
         "3",
         "is_male",
         "100",
         "4",
         "False"
        ]
       ],
       "shape": {
        "columns": 4,
        "rows": 4
       }
      },
      "text/html": [
       "<div>\n",
       "<style scoped>\n",
       "    .dataframe tbody tr th:only-of-type {\n",
       "        vertical-align: middle;\n",
       "    }\n",
       "\n",
       "    .dataframe tbody tr th {\n",
       "        vertical-align: top;\n",
       "    }\n",
       "\n",
       "    .dataframe thead th {\n",
       "        text-align: right;\n",
       "    }\n",
       "</style>\n",
       "<table border=\"1\" class=\"dataframe\">\n",
       "  <thead>\n",
       "    <tr style=\"text-align: right;\">\n",
       "      <th></th>\n",
       "      <th>Flag Name</th>\n",
       "      <th>Mask</th>\n",
       "      <th>Value</th>\n",
       "      <th>Active</th>\n",
       "    </tr>\n",
       "  </thead>\n",
       "  <tbody>\n",
       "    <tr>\n",
       "      <th>0</th>\n",
       "      <td>age_below_18</td>\n",
       "      <td>1000</td>\n",
       "      <td>8</td>\n",
       "      <td>False</td>\n",
       "    </tr>\n",
       "    <tr>\n",
       "      <th>1</th>\n",
       "      <td>has_survived</td>\n",
       "      <td>1</td>\n",
       "      <td>1</td>\n",
       "      <td>False</td>\n",
       "    </tr>\n",
       "    <tr>\n",
       "      <th>2</th>\n",
       "      <td>is_alone</td>\n",
       "      <td>10</td>\n",
       "      <td>2</td>\n",
       "      <td>False</td>\n",
       "    </tr>\n",
       "    <tr>\n",
       "      <th>3</th>\n",
       "      <td>is_male</td>\n",
       "      <td>100</td>\n",
       "      <td>4</td>\n",
       "      <td>False</td>\n",
       "    </tr>\n",
       "  </tbody>\n",
       "</table>\n",
       "</div>"
      ],
      "text/plain": [
       "      Flag Name  Mask  Value  Active\n",
       "0  age_below_18  1000      8   False\n",
       "1  has_survived     1      1   False\n",
       "2      is_alone    10      2   False\n",
       "3       is_male   100      4   False"
      ]
     },
     "execution_count": 51,
     "metadata": {},
     "output_type": "execute_result"
    }
   ],
   "source": [
    "flags = {\n",
    "    'has_survived': 0b0001,\n",
    "    'is_alone': 0b0010,\n",
    "    'is_male': 0b0100,\n",
    "    'age_below_18': 0b1000,\n",
    "}\n",
    "fs = FlagSet(flags)\n",
    "fs.describe()"
   ]
  },
  {
   "cell_type": "code",
   "execution_count": 33,
   "metadata": {},
   "outputs": [
    {
     "data": {
      "text/plain": [
       "<FlagSet 101 → ['has_survived', 'is_male']>"
      ]
     },
     "execution_count": 33,
     "metadata": {},
     "output_type": "execute_result"
    }
   ],
   "source": [
    "fs.apply('has_survived', 'is_male')"
   ]
  },
  {
   "cell_type": "code",
   "execution_count": 32,
   "metadata": {},
   "outputs": [
    {
     "data": {
      "text/plain": [
       "<FlagSet 101 → ['has_survived', 'is_male']>"
      ]
     },
     "execution_count": 32,
     "metadata": {},
     "output_type": "execute_result"
    }
   ],
   "source": [
    "FlagSet.from_value(flags, 0b0101)"
   ]
  },
  {
   "cell_type": "code",
   "execution_count": 35,
   "metadata": {},
   "outputs": [
    {
     "data": {
      "text/plain": [
       "['has_survived', 'is_male']"
      ]
     },
     "execution_count": 35,
     "metadata": {},
     "output_type": "execute_result"
    }
   ],
   "source": [
    "FlagSet.from_value(flags, 0b0101).decode()"
   ]
  },
  {
   "cell_type": "code",
   "execution_count": 38,
   "metadata": {},
   "outputs": [
    {
     "data": {
      "text/plain": [
       "<FlagSet 1101 → ['has_survived', 'is_male', 'age_below_18']>"
      ]
     },
     "execution_count": 38,
     "metadata": {},
     "output_type": "execute_result"
    }
   ],
   "source": [
    "FlagSet.from_value(flags, 0b0101).toggle('age_below_18')"
   ]
  },
  {
   "cell_type": "code",
   "execution_count": 37,
   "metadata": {},
   "outputs": [
    {
     "data": {
      "text/plain": [
       "<FlagSet 100 → ['is_male']>"
      ]
     },
     "execution_count": 37,
     "metadata": {},
     "output_type": "execute_result"
    }
   ],
   "source": [
    "FlagSet.from_value(flags, 0b0101).clear('has_survived')"
   ]
  }
 ],
 "metadata": {
  "kernelspec": {
   "display_name": "Python 3",
   "language": "python",
   "name": "python3"
  },
  "language_info": {
   "codemirror_mode": {
    "name": "ipython",
    "version": 3
   },
   "file_extension": ".py",
   "mimetype": "text/x-python",
   "name": "python",
   "nbconvert_exporter": "python",
   "pygments_lexer": "ipython3",
   "version": "3.13.2"
  }
 },
 "nbformat": 4,
 "nbformat_minor": 2
}
