{
 "cells": [
  {
   "cell_type": "markdown",
   "metadata": {},
   "source": [
    "A column of binary numbers can be treated as bitfields, where each bit acts as a binary flag representing a feature, and bitwise operations with bitmasks allow efficient querying and manipulation of these flags for analysis."
   ]
  },
  {
   "cell_type": "code",
   "execution_count": 1,
   "metadata": {},
   "outputs": [],
   "source": [
    "import pandas as pd"
   ]
  },
  {
   "cell_type": "code",
   "execution_count": null,
   "metadata": {},
   "outputs": [],
   "source": [
    "def decode_flags_from_flags_dict(bitfield: int, flags: dict[str, int]) -> list[str]:\n",
    "    return [name for name, value in flags.items() if bitfield & value]"
   ]
  },
  {
   "cell_type": "code",
   "execution_count": null,
   "metadata": {},
   "outputs": [],
   "source": [
    "from enum import IntFlag\n",
    "\n",
    "def decode_flags(bitfield: int, flags: IntFlag) -> list[str]:\n",
    "    return [name for name, value in flags.__members__.items() if bitfield & value]"
   ]
  },
  {
   "cell_type": "markdown",
   "metadata": {},
   "source": [
    "### spec"
   ]
  },
  {
   "cell_type": "code",
   "execution_count": null,
   "metadata": {},
   "outputs": [
    {
     "name": "stdout",
     "output_type": "stream",
     "text": [
      "(891, 15)\n",
      "survived                 0\n",
      "pclass                   3\n",
      "sex                   male\n",
      "age                   22.0\n",
      "sibsp                    1\n",
      "parch                    0\n",
      "fare                  7.25\n",
      "embarked                 S\n",
      "class                Third\n",
      "who                    man\n",
      "adult_male            True\n",
      "deck                   NaN\n",
      "embark_town    Southampton\n",
      "alive                   no\n",
      "alone                False\n"
     ]
    }
   ],
   "source": [
    "df = pd.read_csv(\"input/titanic.csv\")\n",
    "print(f\"{df.shape}\")\n",
    "print(df.iloc[0, :].to_string())"
   ]
  },
  {
   "cell_type": "markdown",
   "metadata": {},
   "source": [
    "### binary flag"
   ]
  },
  {
   "cell_type": "code",
   "execution_count": 5,
   "metadata": {},
   "outputs": [],
   "source": [
    "# define bit masks\n",
    "has_survived = 0b0001\n",
    "is_alone = 0b0010\n",
    "is_male = 0b0100\n",
    "age_below_18 = 0b1000"
   ]
  },
  {
   "cell_type": "code",
   "execution_count": 6,
   "metadata": {},
   "outputs": [],
   "source": [
    "flag = 0b0110"
   ]
  },
  {
   "cell_type": "code",
   "execution_count": 7,
   "metadata": {},
   "outputs": [
    {
     "name": "stdout",
     "output_type": "stream",
     "text": [
      "check: flag & has_survived = 0\n",
      "check: flag & is_alone = 2\n",
      "check: flag & is_male = 4\n",
      "check: flag & age_below_18 = 0\n"
     ]
    }
   ],
   "source": [
    "# & : Bitwise AND\n",
    "print(f\"check: {flag & has_survived = }\")\n",
    "print(f\"check: {flag & is_alone = }\")\n",
    "print(f\"check: {flag & is_male = }\")\n",
    "print(f\"check: {flag & age_below_18 = }\")"
   ]
  },
  {
   "cell_type": "code",
   "execution_count": 8,
   "metadata": {},
   "outputs": [
    {
     "data": {
      "text/plain": [
       "'0b111'"
      ]
     },
     "execution_count": 8,
     "metadata": {},
     "output_type": "execute_result"
    }
   ],
   "source": [
    "# | : Bitwise OR, set\n",
    "bin(flag | has_survived)"
   ]
  },
  {
   "cell_type": "code",
   "execution_count": 9,
   "metadata": {},
   "outputs": [
    {
     "data": {
      "text/plain": [
       "'0b100'"
      ]
     },
     "execution_count": 9,
     "metadata": {},
     "output_type": "execute_result"
    }
   ],
   "source": [
    "# ~ : Bitwise NOT (inverts all bits)\n",
    "bin(flag & ~0b0010)"
   ]
  },
  {
   "cell_type": "code",
   "execution_count": 10,
   "metadata": {},
   "outputs": [
    {
     "data": {
      "text/plain": [
       "'-0b110'"
      ]
     },
     "execution_count": 10,
     "metadata": {},
     "output_type": "execute_result"
    }
   ],
   "source": [
    "bin(~0b0101)# display as negative binary"
   ]
  },
  {
   "cell_type": "code",
   "execution_count": 11,
   "metadata": {},
   "outputs": [
    {
     "data": {
      "text/plain": [
       "'0b10'"
      ]
     },
     "execution_count": 11,
     "metadata": {},
     "output_type": "execute_result"
    }
   ],
   "source": [
    "# ^ : Bitwise XOR (exclusive OR), flips bits where mask is 1\n",
    "bin(flag ^ 0b0100)"
   ]
  },
  {
   "cell_type": "code",
   "execution_count": 12,
   "metadata": {},
   "outputs": [
    {
     "data": {
      "text/plain": [
       "'0b1100'"
      ]
     },
     "execution_count": 12,
     "metadata": {},
     "output_type": "execute_result"
    }
   ],
   "source": [
    "# << : Left shift\n",
    "bin(flag << 1)"
   ]
  },
  {
   "cell_type": "code",
   "execution_count": 13,
   "metadata": {},
   "outputs": [
    {
     "data": {
      "text/plain": [
       "'0b100'"
      ]
     },
     "execution_count": 13,
     "metadata": {},
     "output_type": "execute_result"
    }
   ],
   "source": [
    "bin(1 << 2)"
   ]
  },
  {
   "cell_type": "code",
   "execution_count": 14,
   "metadata": {},
   "outputs": [
    {
     "data": {
      "text/plain": [
       "'0b11'"
      ]
     },
     "execution_count": 14,
     "metadata": {},
     "output_type": "execute_result"
    }
   ],
   "source": [
    "# >> : Right shift\n",
    "bin(flag >> 1)"
   ]
  },
  {
   "cell_type": "code",
   "execution_count": 15,
   "metadata": {},
   "outputs": [
    {
     "data": {
      "text/plain": [
       "'0b1'"
      ]
     },
     "execution_count": 15,
     "metadata": {},
     "output_type": "execute_result"
    }
   ],
   "source": [
    "bin(0b100 >> 2)"
   ]
  },
  {
   "cell_type": "code",
   "execution_count": 16,
   "metadata": {},
   "outputs": [],
   "source": [
    "# operator precedence\n",
    "# https://docs.python.org/3/reference/expressions.html#operator-precedence\n",
    "\n",
    "# basics\n",
    "# expo: **\n",
    "# sign, bitnot: +x, -x, ~\n",
    "# mul, divide: *, /, //, %\n",
    "# plus minus: +, -\n",
    "# bit shift, and, xor, or: <<, >>, &, ^, |\n",
    "# comparison, inequality: in, not in, is, is not, <, >\n",
    "# boolean: not, and, or\n",
    "\n",
    "# basics for bitwise\n",
    "# ~\n",
    "# *, /, +, -\n",
    "# shift, &, |\n",
    "# comparison, inequality"
   ]
  },
  {
   "cell_type": "code",
   "execution_count": 17,
   "metadata": {},
   "outputs": [
    {
     "data": {
      "text/plain": [
       "'0b0'"
      ]
     },
     "execution_count": 17,
     "metadata": {},
     "output_type": "execute_result"
    }
   ],
   "source": [
    "bin(0b101 + 0b1 & 0b111 | 0b100 > 0b110)"
   ]
  },
  {
   "cell_type": "markdown",
   "metadata": {},
   "source": [
    "### df"
   ]
  },
  {
   "cell_type": "code",
   "execution_count": 18,
   "metadata": {},
   "outputs": [
    {
     "name": "stdout",
     "output_type": "stream",
     "text": [
      "HAS_SURVIVED: 1\n",
      "IS_ALONE: 2\n",
      "IS_MALE: 4\n",
      "AGE_BELOW_18: 8\n"
     ]
    }
   ],
   "source": [
    "# define mapping\n",
    "from enum import IntFlag\n",
    "\n",
    "class Flags(IntFlag):\n",
    "    HAS_SURVIVED = 1 << 0\n",
    "    IS_ALONE = 1 << 1\n",
    "    IS_MALE = 1 << 2\n",
    "    AGE_BELOW_18 = 1 << 3\n",
    "\n",
    "for flag in Flags:\n",
    "    print(f\"{flag.name}: {flag.value}\")"
   ]
  },
  {
   "cell_type": "code",
   "execution_count": 19,
   "metadata": {},
   "outputs": [
    {
     "data": {
      "text/plain": [
       "[<Flags.HAS_SURVIVED: 1>,\n",
       " <Flags.IS_ALONE: 2>,\n",
       " <Flags.IS_MALE: 4>,\n",
       " <Flags.AGE_BELOW_18: 8>]"
      ]
     },
     "execution_count": 19,
     "metadata": {},
     "output_type": "execute_result"
    }
   ],
   "source": [
    "list(Flags)"
   ]
  },
  {
   "cell_type": "code",
   "execution_count": 52,
   "metadata": {},
   "outputs": [
    {
     "data": {
      "text/plain": [
       "<flag 'Flags'>"
      ]
     },
     "execution_count": 52,
     "metadata": {},
     "output_type": "execute_result"
    }
   ],
   "source": [
    "type(Flags.HAS_SURVIVED)"
   ]
  },
  {
   "cell_type": "code",
   "execution_count": 20,
   "metadata": {},
   "outputs": [
    {
     "data": {
      "application/vnd.microsoft.datawrangler.viewer.v0+json": {
       "columns": [
        {
         "name": "flags",
         "rawType": "int64",
         "type": "integer"
        },
        {
         "name": "count",
         "rawType": "int64",
         "type": "integer"
        }
       ],
       "ref": "5a2fe363-3873-4c48-b3d6-0b9ca1fbb4fd",
       "rows": [
        [
         "0",
         "39"
        ],
        [
         "1",
         "105"
        ],
        [
         "2",
         "25"
        ],
        [
         "3",
         "90"
        ],
        [
         "4",
         "97"
        ],
        [
         "5",
         "23"
        ],
        [
         "6",
         "336"
        ],
        [
         "7",
         "63"
        ],
        [
         "8",
         "15"
        ],
        [
         "9",
         "29"
        ],
        [
         "10",
         "2"
        ],
        [
         "11",
         "9"
        ],
        [
         "12",
         "24"
        ],
        [
         "13",
         "22"
        ],
        [
         "14",
         "11"
        ],
        [
         "15",
         "1"
        ]
       ],
       "shape": {
        "columns": 1,
        "rows": 16
       }
      },
      "text/plain": [
       "flags\n",
       "0      39\n",
       "1     105\n",
       "2      25\n",
       "3      90\n",
       "4      97\n",
       "5      23\n",
       "6     336\n",
       "7      63\n",
       "8      15\n",
       "9      29\n",
       "10      2\n",
       "11      9\n",
       "12     24\n",
       "13     22\n",
       "14     11\n",
       "15      1\n",
       "Name: count, dtype: int64"
      ]
     },
     "execution_count": 20,
     "metadata": {},
     "output_type": "execute_result"
    }
   ],
   "source": [
    "# flag construction\n",
    "df[\"flags\"] = 0\n",
    "df[\"flags\"] |= df[\"survived\"].mul(Flags.HAS_SURVIVED)\n",
    "df[\"flags\"] |= df[\"alone\"].astype(bool).mul(Flags.IS_ALONE)\n",
    "df[\"flags\"] |= df[\"sex\"].map({\"male\": 1, \"female\": 0}).mul(Flags.IS_MALE)\n",
    "df[\"flags\"] |= df[\"age\"].lt(18).mul(Flags.AGE_BELOW_18)\n",
    "\n",
    "df[\"flags\"].value_counts().sort_index()"
   ]
  },
  {
   "cell_type": "code",
   "execution_count": 21,
   "metadata": {},
   "outputs": [],
   "source": [
    "# check\n",
    "df['has_survived'] = df[\"survived\"]\n",
    "df['is_alone'] = df[\"alone\"]\n",
    "df['is_male'] = df[\"sex\"].map({\"male\": 1, \"female\": 0})\n",
    "df['age_below_18'] = df[\"age\"].lt(18)"
   ]
  },
  {
   "cell_type": "code",
   "execution_count": 22,
   "metadata": {},
   "outputs": [
    {
     "data": {
      "application/vnd.microsoft.datawrangler.viewer.v0+json": {
       "columns": [
        {
         "name": "index",
         "rawType": "int64",
         "type": "integer"
        },
        {
         "name": "flags",
         "rawType": "int64",
         "type": "integer"
        },
        {
         "name": "flags_bin_display",
         "rawType": "object",
         "type": "string"
        },
        {
         "name": "flags_decoded_str",
         "rawType": "object",
         "type": "string"
        },
        {
         "name": "count",
         "rawType": "int64",
         "type": "integer"
        }
       ],
       "ref": "3d2d1b44-7c79-48c3-8973-9a8ae734ff0c",
       "rows": [
        [
         "0",
         "0",
         "0000",
         "[]",
         "39"
        ],
        [
         "1",
         "1",
         "0001",
         "['HAS_SURVIVED']",
         "105"
        ],
        [
         "2",
         "2",
         "0010",
         "['IS_ALONE']",
         "25"
        ],
        [
         "3",
         "3",
         "0011",
         "['HAS_SURVIVED', 'IS_ALONE']",
         "90"
        ],
        [
         "4",
         "4",
         "0100",
         "['IS_MALE']",
         "97"
        ],
        [
         "5",
         "5",
         "0101",
         "['HAS_SURVIVED', 'IS_MALE']",
         "23"
        ],
        [
         "6",
         "6",
         "0110",
         "['IS_ALONE', 'IS_MALE']",
         "336"
        ],
        [
         "7",
         "7",
         "0111",
         "['HAS_SURVIVED', 'IS_ALONE', 'IS_MALE']",
         "63"
        ],
        [
         "8",
         "8",
         "1000",
         "['AGE_BELOW_18']",
         "15"
        ],
        [
         "9",
         "9",
         "1001",
         "['HAS_SURVIVED', 'AGE_BELOW_18']",
         "29"
        ],
        [
         "10",
         "10",
         "1010",
         "['IS_ALONE', 'AGE_BELOW_18']",
         "2"
        ],
        [
         "11",
         "11",
         "1011",
         "['HAS_SURVIVED', 'IS_ALONE', 'AGE_BELOW_18']",
         "9"
        ],
        [
         "12",
         "12",
         "1100",
         "['IS_MALE', 'AGE_BELOW_18']",
         "24"
        ],
        [
         "13",
         "13",
         "1101",
         "['HAS_SURVIVED', 'IS_MALE', 'AGE_BELOW_18']",
         "22"
        ],
        [
         "14",
         "14",
         "1110",
         "['IS_ALONE', 'IS_MALE', 'AGE_BELOW_18']",
         "11"
        ],
        [
         "15",
         "15",
         "1111",
         "['HAS_SURVIVED', 'IS_ALONE', 'IS_MALE', 'AGE_BELOW_18']",
         "1"
        ]
       ],
       "shape": {
        "columns": 4,
        "rows": 16
       }
      },
      "text/html": [
       "<div>\n",
       "<style scoped>\n",
       "    .dataframe tbody tr th:only-of-type {\n",
       "        vertical-align: middle;\n",
       "    }\n",
       "\n",
       "    .dataframe tbody tr th {\n",
       "        vertical-align: top;\n",
       "    }\n",
       "\n",
       "    .dataframe thead th {\n",
       "        text-align: right;\n",
       "    }\n",
       "</style>\n",
       "<table border=\"1\" class=\"dataframe\">\n",
       "  <thead>\n",
       "    <tr style=\"text-align: right;\">\n",
       "      <th></th>\n",
       "      <th>flags</th>\n",
       "      <th>flags_bin_display</th>\n",
       "      <th>flags_decoded_str</th>\n",
       "      <th>count</th>\n",
       "    </tr>\n",
       "  </thead>\n",
       "  <tbody>\n",
       "    <tr>\n",
       "      <th>0</th>\n",
       "      <td>0</td>\n",
       "      <td>0000</td>\n",
       "      <td>[]</td>\n",
       "      <td>39</td>\n",
       "    </tr>\n",
       "    <tr>\n",
       "      <th>1</th>\n",
       "      <td>1</td>\n",
       "      <td>0001</td>\n",
       "      <td>['HAS_SURVIVED']</td>\n",
       "      <td>105</td>\n",
       "    </tr>\n",
       "    <tr>\n",
       "      <th>2</th>\n",
       "      <td>2</td>\n",
       "      <td>0010</td>\n",
       "      <td>['IS_ALONE']</td>\n",
       "      <td>25</td>\n",
       "    </tr>\n",
       "    <tr>\n",
       "      <th>3</th>\n",
       "      <td>3</td>\n",
       "      <td>0011</td>\n",
       "      <td>['HAS_SURVIVED', 'IS_ALONE']</td>\n",
       "      <td>90</td>\n",
       "    </tr>\n",
       "    <tr>\n",
       "      <th>4</th>\n",
       "      <td>4</td>\n",
       "      <td>0100</td>\n",
       "      <td>['IS_MALE']</td>\n",
       "      <td>97</td>\n",
       "    </tr>\n",
       "    <tr>\n",
       "      <th>5</th>\n",
       "      <td>5</td>\n",
       "      <td>0101</td>\n",
       "      <td>['HAS_SURVIVED', 'IS_MALE']</td>\n",
       "      <td>23</td>\n",
       "    </tr>\n",
       "    <tr>\n",
       "      <th>6</th>\n",
       "      <td>6</td>\n",
       "      <td>0110</td>\n",
       "      <td>['IS_ALONE', 'IS_MALE']</td>\n",
       "      <td>336</td>\n",
       "    </tr>\n",
       "    <tr>\n",
       "      <th>7</th>\n",
       "      <td>7</td>\n",
       "      <td>0111</td>\n",
       "      <td>['HAS_SURVIVED', 'IS_ALONE', 'IS_MALE']</td>\n",
       "      <td>63</td>\n",
       "    </tr>\n",
       "    <tr>\n",
       "      <th>8</th>\n",
       "      <td>8</td>\n",
       "      <td>1000</td>\n",
       "      <td>['AGE_BELOW_18']</td>\n",
       "      <td>15</td>\n",
       "    </tr>\n",
       "    <tr>\n",
       "      <th>9</th>\n",
       "      <td>9</td>\n",
       "      <td>1001</td>\n",
       "      <td>['HAS_SURVIVED', 'AGE_BELOW_18']</td>\n",
       "      <td>29</td>\n",
       "    </tr>\n",
       "    <tr>\n",
       "      <th>10</th>\n",
       "      <td>10</td>\n",
       "      <td>1010</td>\n",
       "      <td>['IS_ALONE', 'AGE_BELOW_18']</td>\n",
       "      <td>2</td>\n",
       "    </tr>\n",
       "    <tr>\n",
       "      <th>11</th>\n",
       "      <td>11</td>\n",
       "      <td>1011</td>\n",
       "      <td>['HAS_SURVIVED', 'IS_ALONE', 'AGE_BELOW_18']</td>\n",
       "      <td>9</td>\n",
       "    </tr>\n",
       "    <tr>\n",
       "      <th>12</th>\n",
       "      <td>12</td>\n",
       "      <td>1100</td>\n",
       "      <td>['IS_MALE', 'AGE_BELOW_18']</td>\n",
       "      <td>24</td>\n",
       "    </tr>\n",
       "    <tr>\n",
       "      <th>13</th>\n",
       "      <td>13</td>\n",
       "      <td>1101</td>\n",
       "      <td>['HAS_SURVIVED', 'IS_MALE', 'AGE_BELOW_18']</td>\n",
       "      <td>22</td>\n",
       "    </tr>\n",
       "    <tr>\n",
       "      <th>14</th>\n",
       "      <td>14</td>\n",
       "      <td>1110</td>\n",
       "      <td>['IS_ALONE', 'IS_MALE', 'AGE_BELOW_18']</td>\n",
       "      <td>11</td>\n",
       "    </tr>\n",
       "    <tr>\n",
       "      <th>15</th>\n",
       "      <td>15</td>\n",
       "      <td>1111</td>\n",
       "      <td>['HAS_SURVIVED', 'IS_ALONE', 'IS_MALE', 'AGE_B...</td>\n",
       "      <td>1</td>\n",
       "    </tr>\n",
       "  </tbody>\n",
       "</table>\n",
       "</div>"
      ],
      "text/plain": [
       "    flags flags_bin_display  \\\n",
       "0       0              0000   \n",
       "1       1              0001   \n",
       "2       2              0010   \n",
       "3       3              0011   \n",
       "4       4              0100   \n",
       "5       5              0101   \n",
       "6       6              0110   \n",
       "7       7              0111   \n",
       "8       8              1000   \n",
       "9       9              1001   \n",
       "10     10              1010   \n",
       "11     11              1011   \n",
       "12     12              1100   \n",
       "13     13              1101   \n",
       "14     14              1110   \n",
       "15     15              1111   \n",
       "\n",
       "                                    flags_decoded_str  count  \n",
       "0                                                  []     39  \n",
       "1                                    ['HAS_SURVIVED']    105  \n",
       "2                                        ['IS_ALONE']     25  \n",
       "3                        ['HAS_SURVIVED', 'IS_ALONE']     90  \n",
       "4                                         ['IS_MALE']     97  \n",
       "5                         ['HAS_SURVIVED', 'IS_MALE']     23  \n",
       "6                             ['IS_ALONE', 'IS_MALE']    336  \n",
       "7             ['HAS_SURVIVED', 'IS_ALONE', 'IS_MALE']     63  \n",
       "8                                    ['AGE_BELOW_18']     15  \n",
       "9                    ['HAS_SURVIVED', 'AGE_BELOW_18']     29  \n",
       "10                       ['IS_ALONE', 'AGE_BELOW_18']      2  \n",
       "11       ['HAS_SURVIVED', 'IS_ALONE', 'AGE_BELOW_18']      9  \n",
       "12                        ['IS_MALE', 'AGE_BELOW_18']     24  \n",
       "13        ['HAS_SURVIVED', 'IS_MALE', 'AGE_BELOW_18']     22  \n",
       "14            ['IS_ALONE', 'IS_MALE', 'AGE_BELOW_18']     11  \n",
       "15  ['HAS_SURVIVED', 'IS_ALONE', 'IS_MALE', 'AGE_B...      1  "
      ]
     },
     "execution_count": 22,
     "metadata": {},
     "output_type": "execute_result"
    }
   ],
   "source": [
    "# display by decoding\n",
    "df[\"flags_bin_display\"] = df[\"flags\"].apply(lambda x: bin(x)[2:].zfill(4))\n",
    "df[\"flags_decoded\"] = df[\"flags\"].apply(lambda x: decode_flags(x, Flags))\n",
    "sdf = (\n",
    "    df.assign(flags_decoded_str=lambda x: x[\"flags_decoded\"].astype(str))\n",
    "    .loc[:, [\"flags\", \"flags_bin_display\", \"flags_decoded_str\"]]\n",
    "    .value_counts()\n",
    "    .sort_index()\n",
    "    .reset_index()\n",
    ")\n",
    "sdf"
   ]
  },
  {
   "cell_type": "code",
   "execution_count": null,
   "metadata": {},
   "outputs": [],
   "source": [
    "# filtering"
   ]
  },
  {
   "cell_type": "code",
   "execution_count": 54,
   "metadata": {},
   "outputs": [],
   "source": [
    "res = df.loc[lambda x: x['has_survived'] == 1,:].shape\n",
    "res3 = df.loc[lambda x: x[\"flags\"] & int(Flags.HAS_SURVIVED) > 0, :].shape\n",
    "assert res == res3"
   ]
  },
  {
   "cell_type": "code",
   "execution_count": 55,
   "metadata": {},
   "outputs": [],
   "source": [
    "res = df.loc[lambda x:(x['has_survived'] == 1) & (x['is_male'] == 1),:].shape\n",
    "res2 = df.loc[\n",
    "    lambda x: x[\"flags\"] & int(Flags.HAS_SURVIVED | Flags.IS_MALE) == Flags.HAS_SURVIVED | Flags.IS_MALE,\n",
    "    :,\n",
    "].shape\n",
    "assert (res == res2)"
   ]
  },
  {
   "cell_type": "code",
   "execution_count": 56,
   "metadata": {},
   "outputs": [],
   "source": [
    "res = df.loc[lambda x: (x[\"has_survived\"] == 1) | (x[\"is_male\"] == 1), :].shape\n",
    "res3 = df.loc[\n",
    "    lambda x: x[\"flags\"] & int(Flags.HAS_SURVIVED | Flags.IS_MALE) > 0,\n",
    "    :,\n",
    "].shape\n",
    "assert (res == res3)"
   ]
  },
  {
   "cell_type": "code",
   "execution_count": 57,
   "metadata": {},
   "outputs": [],
   "source": [
    "res = df.loc[lambda x: (x[\"has_survived\"] == 0), :].shape\n",
    "res3 = df.loc[lambda x: x[\"flags\"] & int(Flags.HAS_SURVIVED) == 0, :].shape\n",
    "assert (res == res3)"
   ]
  },
  {
   "cell_type": "code",
   "execution_count": null,
   "metadata": {},
   "outputs": [],
   "source": []
  },
  {
   "cell_type": "markdown",
   "metadata": {},
   "source": [
    "### flagging funcs and actions"
   ]
  },
  {
   "cell_type": "code",
   "execution_count": 45,
   "metadata": {},
   "outputs": [],
   "source": [
    "def action_1(df, res_col, flag_col):\n",
    "    mask = lambda x: (x[\"age\"] > 50) & (x[\"sex\"] == \"female\")\n",
    "    df.loc[mask, res_col] = 1\n",
    "    df[flag_col] = 0\n",
    "    df.loc[mask, flag_col] = 1\n",
    "\n",
    "\n",
    "def action_2(df, res_col, flag_col):\n",
    "    mask = lambda x: (x[\"age\"] < 18) & (x[\"sex\"] == \"male\")\n",
    "    df.loc[mask, res_col] = 0\n",
    "    df[flag_col] = 0\n",
    "    df.loc[mask, flag_col] = 1"
   ]
  },
  {
   "cell_type": "code",
   "execution_count": null,
   "metadata": {},
   "outputs": [
    {
     "data": {
      "application/vnd.microsoft.datawrangler.viewer.v0+json": {
       "columns": [
        {
         "name": "index",
         "rawType": "int64",
         "type": "integer"
        },
        {
         "name": "survived",
         "rawType": "int64",
         "type": "integer"
        },
        {
         "name": "survived_2",
         "rawType": "int64",
         "type": "integer"
        },
        {
         "name": "flag_0",
         "rawType": "int64",
         "type": "integer"
        },
        {
         "name": "flag_1",
         "rawType": "int64",
         "type": "integer"
        },
        {
         "name": "count",
         "rawType": "int64",
         "type": "integer"
        }
       ],
       "ref": "4c71a5ac-82d4-4aed-91c2-4116f9446e7b",
       "rows": [
        [
         "0",
         "0",
         "0",
         "0",
         "0",
         "513"
        ],
        [
         "1",
         "1",
         "1",
         "0",
         "0",
         "303"
        ],
        [
         "2",
         "0",
         "0",
         "0",
         "1",
         "35"
        ],
        [
         "3",
         "1",
         "0",
         "0",
         "1",
         "23"
        ],
        [
         "4",
         "1",
         "1",
         "1",
         "0",
         "16"
        ],
        [
         "5",
         "0",
         "1",
         "1",
         "0",
         "1"
        ]
       ],
       "shape": {
        "columns": 5,
        "rows": 6
       }
      },
      "text/html": [
       "<div>\n",
       "<style scoped>\n",
       "    .dataframe tbody tr th:only-of-type {\n",
       "        vertical-align: middle;\n",
       "    }\n",
       "\n",
       "    .dataframe tbody tr th {\n",
       "        vertical-align: top;\n",
       "    }\n",
       "\n",
       "    .dataframe thead th {\n",
       "        text-align: right;\n",
       "    }\n",
       "</style>\n",
       "<table border=\"1\" class=\"dataframe\">\n",
       "  <thead>\n",
       "    <tr style=\"text-align: right;\">\n",
       "      <th></th>\n",
       "      <th>survived</th>\n",
       "      <th>survived_2</th>\n",
       "      <th>flag_0</th>\n",
       "      <th>flag_1</th>\n",
       "      <th>count</th>\n",
       "    </tr>\n",
       "  </thead>\n",
       "  <tbody>\n",
       "    <tr>\n",
       "      <th>0</th>\n",
       "      <td>0</td>\n",
       "      <td>0</td>\n",
       "      <td>0</td>\n",
       "      <td>0</td>\n",
       "      <td>513</td>\n",
       "    </tr>\n",
       "    <tr>\n",
       "      <th>1</th>\n",
       "      <td>1</td>\n",
       "      <td>1</td>\n",
       "      <td>0</td>\n",
       "      <td>0</td>\n",
       "      <td>303</td>\n",
       "    </tr>\n",
       "    <tr>\n",
       "      <th>2</th>\n",
       "      <td>0</td>\n",
       "      <td>0</td>\n",
       "      <td>0</td>\n",
       "      <td>1</td>\n",
       "      <td>35</td>\n",
       "    </tr>\n",
       "    <tr>\n",
       "      <th>3</th>\n",
       "      <td>1</td>\n",
       "      <td>0</td>\n",
       "      <td>0</td>\n",
       "      <td>1</td>\n",
       "      <td>23</td>\n",
       "    </tr>\n",
       "    <tr>\n",
       "      <th>4</th>\n",
       "      <td>1</td>\n",
       "      <td>1</td>\n",
       "      <td>1</td>\n",
       "      <td>0</td>\n",
       "      <td>16</td>\n",
       "    </tr>\n",
       "    <tr>\n",
       "      <th>5</th>\n",
       "      <td>0</td>\n",
       "      <td>1</td>\n",
       "      <td>1</td>\n",
       "      <td>0</td>\n",
       "      <td>1</td>\n",
       "    </tr>\n",
       "  </tbody>\n",
       "</table>\n",
       "</div>"
      ],
      "text/plain": [
       "   survived  survived_2  flag_0  flag_1  count\n",
       "0         0           0       0       0    513\n",
       "1         1           1       0       0    303\n",
       "2         0           0       0       1     35\n",
       "3         1           0       0       1     23\n",
       "4         1           1       1       0     16\n",
       "5         0           1       1       0      1"
      ]
     },
     "execution_count": 59,
     "metadata": {},
     "output_type": "execute_result"
    }
   ],
   "source": [
    "actions_sequence = [action_1, action_2]\n",
    "res_col = \"survived_2\"\n",
    "flag_col_suffix = \"flag_\"\n",
    "\n",
    "# Apply actions\n",
    "df[res_col] = df[\"survived\"]\n",
    "for i, action in enumerate(actions_sequence):\n",
    "    action(df, res_col=res_col, flag_col=flag_col_suffix + str(i))\n",
    "\n",
    "df[[\"survived\", \"survived_2\", \"flag_0\", \"flag_1\"]].value_counts().reset_index()"
   ]
  },
  {
   "cell_type": "code",
   "execution_count": 2,
   "metadata": {},
   "outputs": [
    {
     "data": {
      "application/vnd.microsoft.datawrangler.viewer.v0+json": {
       "columns": [
        {
         "name": "index",
         "rawType": "int64",
         "type": "integer"
        },
        {
         "name": "transition",
         "rawType": "int64",
         "type": "integer"
        },
        {
         "name": "stage_1",
         "rawType": "int64",
         "type": "integer"
        }
       ],
       "ref": "9f486b3b-15da-45fd-b2ae-10bb55533185",
       "rows": [
        [
         "0",
         "123",
         "2"
        ],
        [
         "1",
         "321",
         "2"
        ],
        [
         "2",
         "456",
         "5"
        ],
        [
         "3",
         "654",
         "5"
        ],
        [
         "4",
         "111",
         "1"
        ]
       ],
       "shape": {
        "columns": 2,
        "rows": 5
       }
      },
      "text/html": [
       "<div>\n",
       "<style scoped>\n",
       "    .dataframe tbody tr th:only-of-type {\n",
       "        vertical-align: middle;\n",
       "    }\n",
       "\n",
       "    .dataframe tbody tr th {\n",
       "        vertical-align: top;\n",
       "    }\n",
       "\n",
       "    .dataframe thead th {\n",
       "        text-align: right;\n",
       "    }\n",
       "</style>\n",
       "<table border=\"1\" class=\"dataframe\">\n",
       "  <thead>\n",
       "    <tr style=\"text-align: right;\">\n",
       "      <th></th>\n",
       "      <th>transition</th>\n",
       "      <th>stage_1</th>\n",
       "    </tr>\n",
       "  </thead>\n",
       "  <tbody>\n",
       "    <tr>\n",
       "      <th>0</th>\n",
       "      <td>123</td>\n",
       "      <td>2</td>\n",
       "    </tr>\n",
       "    <tr>\n",
       "      <th>1</th>\n",
       "      <td>321</td>\n",
       "      <td>2</td>\n",
       "    </tr>\n",
       "    <tr>\n",
       "      <th>2</th>\n",
       "      <td>456</td>\n",
       "      <td>5</td>\n",
       "    </tr>\n",
       "    <tr>\n",
       "      <th>3</th>\n",
       "      <td>654</td>\n",
       "      <td>5</td>\n",
       "    </tr>\n",
       "    <tr>\n",
       "      <th>4</th>\n",
       "      <td>111</td>\n",
       "      <td>1</td>\n",
       "    </tr>\n",
       "  </tbody>\n",
       "</table>\n",
       "</div>"
      ],
      "text/plain": [
       "   transition  stage_1\n",
       "0         123        2\n",
       "1         321        2\n",
       "2         456        5\n",
       "3         654        5\n",
       "4         111        1"
      ]
     },
     "execution_count": 2,
     "metadata": {},
     "output_type": "execute_result"
    }
   ],
   "source": [
    "# store states as decimals\n",
    "import pandas as pd\n",
    "\n",
    "# Sample data\n",
    "df = pd.DataFrame({'transition': [123, 321, 456, 654, 111]})\n",
    "\n",
    "# Parameters\n",
    "stage = 1  # e.g. extract the second stage from the right (stage 1)\n",
    "\n",
    "# Extract stage using string slicing\n",
    "df[f'stage_{stage}'] = df['transition'].astype(str).str.zfill(stage + 1).str[::-1].str[stage].astype(int)\n",
    "\n",
    "df.head()"
   ]
  },
  {
   "cell_type": "code",
   "execution_count": 4,
   "metadata": {},
   "outputs": [
    {
     "data": {
      "application/vnd.microsoft.datawrangler.viewer.v0+json": {
       "columns": [
        {
         "name": "index",
         "rawType": "int64",
         "type": "integer"
        },
        {
         "name": "transition",
         "rawType": "int64",
         "type": "integer"
        },
        {
         "name": "composite_mask",
         "rawType": "int64",
         "type": "integer"
        }
       ],
       "ref": "888fb4e2-d35f-49aa-b5f4-3d93dc15de3d",
       "rows": [
        [
         "0",
         "243",
         "1288"
        ],
        [
         "1",
         "321",
         "2114"
        ],
        [
         "2",
         "456",
         "4672"
        ],
        [
         "3",
         "654",
         "16912"
        ],
        [
         "4",
         "111",
         "546"
        ]
       ],
       "shape": {
        "columns": 2,
        "rows": 5
       }
      },
      "text/html": [
       "<div>\n",
       "<style scoped>\n",
       "    .dataframe tbody tr th:only-of-type {\n",
       "        vertical-align: middle;\n",
       "    }\n",
       "\n",
       "    .dataframe tbody tr th {\n",
       "        vertical-align: top;\n",
       "    }\n",
       "\n",
       "    .dataframe thead th {\n",
       "        text-align: right;\n",
       "    }\n",
       "</style>\n",
       "<table border=\"1\" class=\"dataframe\">\n",
       "  <thead>\n",
       "    <tr style=\"text-align: right;\">\n",
       "      <th></th>\n",
       "      <th>transition</th>\n",
       "      <th>composite_mask</th>\n",
       "    </tr>\n",
       "  </thead>\n",
       "  <tbody>\n",
       "    <tr>\n",
       "      <th>0</th>\n",
       "      <td>243</td>\n",
       "      <td>1288</td>\n",
       "    </tr>\n",
       "    <tr>\n",
       "      <th>1</th>\n",
       "      <td>321</td>\n",
       "      <td>2114</td>\n",
       "    </tr>\n",
       "    <tr>\n",
       "      <th>2</th>\n",
       "      <td>456</td>\n",
       "      <td>4672</td>\n",
       "    </tr>\n",
       "    <tr>\n",
       "      <th>3</th>\n",
       "      <td>654</td>\n",
       "      <td>16912</td>\n",
       "    </tr>\n",
       "    <tr>\n",
       "      <th>4</th>\n",
       "      <td>111</td>\n",
       "      <td>546</td>\n",
       "    </tr>\n",
       "  </tbody>\n",
       "</table>\n",
       "</div>"
      ],
      "text/plain": [
       "   transition  composite_mask\n",
       "0         243            1288\n",
       "1         321            2114\n",
       "2         456            4672\n",
       "3         654           16912\n",
       "4         111             546"
      ]
     },
     "execution_count": 4,
     "metadata": {},
     "output_type": "execute_result"
    }
   ],
   "source": [
    "# 1 bitfield to represent stages of cats\n",
    "import pandas as pd\n",
    "\n",
    "df = pd.DataFrame({'transition': [243, 321, 456, 654, 111]})\n",
    "max_stages = df['transition'].astype(str).str.len().max()\n",
    "bits_per_stage = 4  # supports up to 16 categories per stage\n",
    "\n",
    "# Extract digits per stage\n",
    "digits = df['transition'].astype(str).str.zfill(max_stages).str[::-1].apply(list)\n",
    "\n",
    "def encode_composite_mask(digits, bits_per_stage):\n",
    "    mask = 0\n",
    "    for i, d in enumerate(digits):\n",
    "        mask |= (1 << int(d)) << (bits_per_stage * i)\n",
    "    return mask\n",
    "\n",
    "df['composite_mask'] = digits.apply(lambda x: encode_composite_mask(x, bits_per_stage))\n",
    "df.head()"
   ]
  },
  {
   "cell_type": "code",
   "execution_count": 5,
   "metadata": {},
   "outputs": [
    {
     "data": {
      "application/vnd.microsoft.datawrangler.viewer.v0+json": {
       "columns": [
        {
         "name": "index",
         "rawType": "int64",
         "type": "integer"
        },
        {
         "name": "transition",
         "rawType": "int64",
         "type": "integer"
        },
        {
         "name": "composite_mask",
         "rawType": "int64",
         "type": "integer"
        }
       ],
       "ref": "34e72277-7898-43c8-8935-147989f047b1",
       "rows": [
        [
         "0",
         "243",
         "1288"
        ],
        [
         "1",
         "321",
         "2114"
        ],
        [
         "2",
         "456",
         "4672"
        ]
       ],
       "shape": {
        "columns": 2,
        "rows": 3
       }
      },
      "text/html": [
       "<div>\n",
       "<style scoped>\n",
       "    .dataframe tbody tr th:only-of-type {\n",
       "        vertical-align: middle;\n",
       "    }\n",
       "\n",
       "    .dataframe tbody tr th {\n",
       "        vertical-align: top;\n",
       "    }\n",
       "\n",
       "    .dataframe thead th {\n",
       "        text-align: right;\n",
       "    }\n",
       "</style>\n",
       "<table border=\"1\" class=\"dataframe\">\n",
       "  <thead>\n",
       "    <tr style=\"text-align: right;\">\n",
       "      <th></th>\n",
       "      <th>transition</th>\n",
       "      <th>composite_mask</th>\n",
       "    </tr>\n",
       "  </thead>\n",
       "  <tbody>\n",
       "    <tr>\n",
       "      <th>0</th>\n",
       "      <td>243</td>\n",
       "      <td>1288</td>\n",
       "    </tr>\n",
       "    <tr>\n",
       "      <th>1</th>\n",
       "      <td>321</td>\n",
       "      <td>2114</td>\n",
       "    </tr>\n",
       "    <tr>\n",
       "      <th>2</th>\n",
       "      <td>456</td>\n",
       "      <td>4672</td>\n",
       "    </tr>\n",
       "  </tbody>\n",
       "</table>\n",
       "</div>"
      ],
      "text/plain": [
       "   transition  composite_mask\n",
       "0         243            1288\n",
       "1         321            2114\n",
       "2         456            4672"
      ]
     },
     "execution_count": 5,
     "metadata": {},
     "output_type": "execute_result"
    }
   ],
   "source": [
    "# Check if stage 1 has category 4\n",
    "stage = 1\n",
    "category = 4\n",
    "bit = (1 << category) << (bits_per_stage * stage)\n",
    "df[df['composite_mask'] & bit > 0]\n",
    "\n",
    "# Check if stage 0 has category 3 or 6\n",
    "stage = 0\n",
    "bit = ((1 << 3) | (1 << 6)) << (bits_per_stage * stage)\n",
    "df[df['composite_mask'] & bit > 0]"
   ]
  }
 ],
 "metadata": {
  "kernelspec": {
   "display_name": "Python 3",
   "language": "python",
   "name": "python3"
  },
  "language_info": {
   "codemirror_mode": {
    "name": "ipython",
    "version": 3
   },
   "file_extension": ".py",
   "mimetype": "text/x-python",
   "name": "python",
   "nbconvert_exporter": "python",
   "pygments_lexer": "ipython3",
   "version": "3.13.2"
  }
 },
 "nbformat": 4,
 "nbformat_minor": 2
}
