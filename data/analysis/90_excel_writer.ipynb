{
 "cells": [
  {
   "cell_type": "code",
   "execution_count": 1,
   "metadata": {},
   "outputs": [],
   "source": [
    "import matplotlib.pyplot as plt\n",
    "import pandas as pd\n",
    "from pathlib import Path"
   ]
  },
  {
   "cell_type": "code",
   "execution_count": 2,
   "metadata": {},
   "outputs": [],
   "source": [
    "from pylibs.excel_writer import ExcelWriter"
   ]
  },
  {
   "cell_type": "markdown",
   "metadata": {},
   "source": [
    "### Set up example data and charts"
   ]
  },
  {
   "cell_type": "code",
   "execution_count": null,
   "metadata": {},
   "outputs": [
    {
     "data": {
      "text/plain": [
       "(891, 15)"
      ]
     },
     "execution_count": 3,
     "metadata": {},
     "output_type": "execute_result"
    }
   ],
   "source": [
    "df = pd.read_csv(\"input/titanic.csv\")\n",
    "df.shape"
   ]
  },
  {
   "cell_type": "code",
   "execution_count": 4,
   "metadata": {},
   "outputs": [
    {
     "data": {
      "application/vnd.microsoft.datawrangler.viewer.v0+json": {
       "columns": [
        {
         "name": "index",
         "rawType": "int64",
         "type": "integer"
        },
        {
         "name": "who",
         "rawType": "object",
         "type": "string"
        },
        {
         "name": "n",
         "rawType": "int64",
         "type": "integer"
        },
        {
         "name": "survival_rate",
         "rawType": "float64",
         "type": "float"
        }
       ],
       "ref": "7e704d9f-b429-45c3-8da2-68b62c2440ed",
       "rows": [
        [
         "0",
         "child",
         "83",
         "0.59"
        ],
        [
         "1",
         "man",
         "537",
         "0.16"
        ],
        [
         "2",
         "woman",
         "271",
         "0.76"
        ]
       ],
       "shape": {
        "columns": 3,
        "rows": 3
       }
      },
      "text/html": [
       "<div>\n",
       "<style scoped>\n",
       "    .dataframe tbody tr th:only-of-type {\n",
       "        vertical-align: middle;\n",
       "    }\n",
       "\n",
       "    .dataframe tbody tr th {\n",
       "        vertical-align: top;\n",
       "    }\n",
       "\n",
       "    .dataframe thead th {\n",
       "        text-align: right;\n",
       "    }\n",
       "</style>\n",
       "<table border=\"1\" class=\"dataframe\">\n",
       "  <thead>\n",
       "    <tr style=\"text-align: right;\">\n",
       "      <th></th>\n",
       "      <th>who</th>\n",
       "      <th>n</th>\n",
       "      <th>survival_rate</th>\n",
       "    </tr>\n",
       "  </thead>\n",
       "  <tbody>\n",
       "    <tr>\n",
       "      <th>0</th>\n",
       "      <td>child</td>\n",
       "      <td>83</td>\n",
       "      <td>0.59</td>\n",
       "    </tr>\n",
       "    <tr>\n",
       "      <th>1</th>\n",
       "      <td>man</td>\n",
       "      <td>537</td>\n",
       "      <td>0.16</td>\n",
       "    </tr>\n",
       "    <tr>\n",
       "      <th>2</th>\n",
       "      <td>woman</td>\n",
       "      <td>271</td>\n",
       "      <td>0.76</td>\n",
       "    </tr>\n",
       "  </tbody>\n",
       "</table>\n",
       "</div>"
      ],
      "text/plain": [
       "     who    n  survival_rate\n",
       "0  child   83           0.59\n",
       "1    man  537           0.16\n",
       "2  woman  271           0.76"
      ]
     },
     "execution_count": 4,
     "metadata": {},
     "output_type": "execute_result"
    }
   ],
   "source": [
    "tbl = (\n",
    "    df.groupby([\"who\"], dropna=False, observed=False,as_index=False)\n",
    "    .agg(\n",
    "        **{\n",
    "            \"n\": (\"who\", \"size\"),\n",
    "            \"survival_rate\": (\"survived\", \"mean\"),\n",
    "        }\n",
    "    )\n",
    "    .round({'survival_rate':2})\n",
    ")\n",
    "tbl"
   ]
  },
  {
   "cell_type": "code",
   "execution_count": 5,
   "metadata": {},
   "outputs": [
    {
     "data": {
      "text/html": [
       "<style type=\"text/css\">\n",
       "#T_cf52c_row0_col0, #T_cf52c_row0_col1, #T_cf52c_row0_col2, #T_cf52c_row1_col0, #T_cf52c_row2_col0, #T_cf52c_row2_col1, #T_cf52c_row2_col2 {\n",
       "  background-color: lightyellow;\n",
       "  color: darkblue;\n",
       "  border-style: hair;\n",
       "  border-color: black;\n",
       "}\n",
       "#T_cf52c_row1_col1 {\n",
       "  background-color: lightyellow;\n",
       "  color: darkblue;\n",
       "  border-style: hair;\n",
       "  border-color: black;\n",
       "  background-color: yellow;\n",
       "}\n",
       "#T_cf52c_row1_col2 {\n",
       "  background-color: lightyellow;\n",
       "  color: darkblue;\n",
       "  border-style: hair;\n",
       "  border-color: black;\n",
       "  color: red;\n",
       "}\n",
       "#T_cf52c_level0_row0, #T_cf52c_level0_row1, #T_cf52c_level0_row2 {\n",
       "  background-color: lightblue;\n",
       "  color: black;\n",
       "}\n",
       "#T_cf52c_level0_col0, #T_cf52c_level0_col1, #T_cf52c_level0_col2 {\n",
       "  background-color: green;\n",
       "  color: black;\n",
       "}\n",
       "</style>\n",
       "<table id=\"T_cf52c\">\n",
       "  <thead>\n",
       "    <tr>\n",
       "      <th class=\"blank level0\" >&nbsp;</th>\n",
       "      <th id=\"T_cf52c_level0_col0\" class=\"col_heading level0 col0\" >who</th>\n",
       "      <th id=\"T_cf52c_level0_col1\" class=\"col_heading level0 col1\" >n</th>\n",
       "      <th id=\"T_cf52c_level0_col2\" class=\"col_heading level0 col2\" >survival_rate</th>\n",
       "    </tr>\n",
       "  </thead>\n",
       "  <tbody>\n",
       "    <tr>\n",
       "      <th id=\"T_cf52c_level0_row0\" class=\"row_heading level0 row0\" >0</th>\n",
       "      <td id=\"T_cf52c_row0_col0\" class=\"data row0 col0\" >child</td>\n",
       "      <td id=\"T_cf52c_row0_col1\" class=\"data row0 col1\" >83</td>\n",
       "      <td id=\"T_cf52c_row0_col2\" class=\"data row0 col2\" >0.590000</td>\n",
       "    </tr>\n",
       "    <tr>\n",
       "      <th id=\"T_cf52c_level0_row1\" class=\"row_heading level0 row1\" >1</th>\n",
       "      <td id=\"T_cf52c_row1_col0\" class=\"data row1 col0\" >man</td>\n",
       "      <td id=\"T_cf52c_row1_col1\" class=\"data row1 col1\" >537</td>\n",
       "      <td id=\"T_cf52c_row1_col2\" class=\"data row1 col2\" >0.160000</td>\n",
       "    </tr>\n",
       "    <tr>\n",
       "      <th id=\"T_cf52c_level0_row2\" class=\"row_heading level0 row2\" >2</th>\n",
       "      <td id=\"T_cf52c_row2_col0\" class=\"data row2 col0\" >woman</td>\n",
       "      <td id=\"T_cf52c_row2_col1\" class=\"data row2 col1\" >271</td>\n",
       "      <td id=\"T_cf52c_row2_col2\" class=\"data row2 col2\" >0.760000</td>\n",
       "    </tr>\n",
       "  </tbody>\n",
       "</table>\n"
      ],
      "text/plain": [
       "<pandas.io.formats.style.Styler at 0x19554b5cad0>"
      ]
     },
     "execution_count": 5,
     "metadata": {},
     "output_type": "execute_result"
    }
   ],
   "source": [
    "tbl_styled = (\n",
    "    tbl.style\n",
    "    .set_properties(**{ # background and border\n",
    "        'background-color': 'lightyellow',\n",
    "        'color': 'darkblue',\n",
    "        'border-style': 'hair',\n",
    "        'border-color': 'black',\n",
    "    })\n",
    "    .map(lambda x: 'color:red;' if x < 0.5 else None, subset=['survival_rate']) # color < 0.5\n",
    "    .map_index(lambda v: 'background-color: lightblue;color:black;', axis=0) # Highlight column index\n",
    "    .map_index(lambda v: 'background-color: green;color:black;', axis=1) # Highlight row\n",
    "    .highlight_max(axis=0, subset=['n']) # Highlight max in column 'n'\n",
    ")\n",
    "tbl_styled"
   ]
  },
  {
   "cell_type": "code",
   "execution_count": 6,
   "metadata": {},
   "outputs": [
    {
     "data": {
      "text/plain": [
       "<Axes: title={'center': 'Age Distribution of Titanic Passengers'}, ylabel='Frequency'>"
      ]
     },
     "execution_count": 6,
     "metadata": {},
     "output_type": "execute_result"
    },
    {
     "data": {
      "image/png": "[encoded data removed]",
      "text/plain": [
       "<Figure size 640x480 with 1 Axes>"
      ]
     },
     "metadata": {},
     "output_type": "display_data"
    }
   ],
   "source": [
    "fig, ax = plt.subplots(1, 1)\n",
    "df.plot(kind=\"hist\", y=\"age\", bins=20, edgecolor=\"black\", ax=ax, title=\"Age Distribution of Titanic Passengers\")"
   ]
  },
  {
   "cell_type": "markdown",
   "metadata": {},
   "source": [
    "### Basic usage"
   ]
  },
  {
   "cell_type": "code",
   "execution_count": 8,
   "metadata": {},
   "outputs": [
    {
     "data": {
      "text/plain": [
       "ExcelWriter(file_path='output\\test.xlsx',mode = w,sheet_name=Sheet),cur_row=7,cur_col=1,distance_bw_contents=2,)"
      ]
     },
     "execution_count": 8,
     "metadata": {},
     "output_type": "execute_result"
    }
   ],
   "source": [
    "# make new file in existing folder then write tables and figures\n",
    "ew = ExcelWriter(file_path=Path(\"output/test.xlsx\"))\n",
    "\n",
    "ew.write_df(tbl, title=\"Table 1: DataFrame\")\n",
    "ew.write_df(tbl_styled, title=\"Table 2: Styled DataFrame\", location=\"right\") # can write to the right of previous item\n",
    "\n",
    "ew.write_fig(\n",
    "    fig,\n",
    "    title=\"Figure 1: Bar Plot\",\n",
    ")\n",
    "\n",
    "ew.auto_fit_column_width()"
   ]
  },
  {
   "cell_type": "code",
   "execution_count": 9,
   "metadata": {},
   "outputs": [
    {
     "data": {
      "text/plain": [
       "ExcelWriter(file_path='output\\test.xlsx',mode = w,sheet_name=Part 2),cur_row=1,cur_col=1,distance_bw_contents=2,)"
      ]
     },
     "execution_count": 9,
     "metadata": {},
     "output_type": "execute_result"
    }
   ],
   "source": [
    "# switch to new sheet and write items\n",
    "# also showing how method calls can be chained together for simplicity\n",
    "(\n",
    "    ew\n",
    "    .switch_to_sheet(\"Part 2\", create_if_not_exists=True)\n",
    "    .write_df(tbl, title=\"Table 3: DataFrame\")\n",
    "    .auto_fit_column_width()\n",
    ")"
   ]
  },
  {
   "cell_type": "code",
   "execution_count": 10,
   "metadata": {},
   "outputs": [],
   "source": [
    "# use with block to write items faster in one go\n",
    "with ExcelWriter(file_path=Path(\"output/test2.xlsx\")) as ew:\n",
    "    (\n",
    "        ew\n",
    "        .write_df(tbl, title=\"Table 1: DataFrame\")\n",
    "        .write_df(tbl_styled, title=\"Table 2: Styled DataFrame\", location=\"right\")\n",
    "        .write_fig(\n",
    "            fig,\n",
    "            title=\"Figure 0: Bar Plot\",\n",
    "        )\n",
    "        .auto_fit_column_width()\n",
    "        \n",
    "        # new sheet\n",
    "        .switch_to_sheet(\"Part 2\", create_if_not_exists=True)\n",
    "        .write_df(tbl, title=\"Table 3: DataFrame\")\n",
    "        .auto_fit_column_width()\n",
    "    )"
   ]
  },
  {
   "cell_type": "code",
   "execution_count": null,
   "metadata": {},
   "outputs": [],
   "source": []
  },
  {
   "cell_type": "code",
   "execution_count": null,
   "metadata": {},
   "outputs": [],
   "source": []
  }
 ],
 "metadata": {
  "kernelspec": {
   "display_name": "Python 3",
   "language": "python",
   "name": "python3"
  },
  "language_info": {
   "codemirror_mode": {
    "name": "ipython",
    "version": 3
   },
   "file_extension": ".py",
   "mimetype": "text/x-python",
   "name": "python",
   "nbconvert_exporter": "python",
   "pygments_lexer": "ipython3",
   "version": "3.13.2"
  }
 },
 "nbformat": 4,
 "nbformat_minor": 2
}
