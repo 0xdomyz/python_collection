{
 "cells": [
  {
   "cell_type": "code",
   "execution_count": 1,
   "metadata": {},
   "outputs": [],
   "source": [
    "import matplotlib.pyplot as plt\n",
    "import numpy as np\n",
    "import pandas as pd\n",
    "import statsmodels.api as sm\n",
    "from scipy import stats"
   ]
  },
  {
   "cell_type": "code",
   "execution_count": 2,
   "metadata": {},
   "outputs": [
    {
     "name": "stdout",
     "output_type": "stream",
     "text": [
      "(891, 15)\n"
     ]
    },
    {
     "data": {
      "application/vnd.microsoft.datawrangler.viewer.v0+json": {
       "columns": [
        {
         "name": "index",
         "rawType": "int64",
         "type": "integer"
        },
        {
         "name": "survived",
         "rawType": "int64",
         "type": "integer"
        },
        {
         "name": "pclass",
         "rawType": "int64",
         "type": "integer"
        },
        {
         "name": "sex",
         "rawType": "object",
         "type": "string"
        },
        {
         "name": "age",
         "rawType": "float64",
         "type": "float"
        },
        {
         "name": "sibsp",
         "rawType": "int64",
         "type": "integer"
        },
        {
         "name": "parch",
         "rawType": "int64",
         "type": "integer"
        },
        {
         "name": "fare",
         "rawType": "float64",
         "type": "float"
        },
        {
         "name": "embarked",
         "rawType": "object",
         "type": "string"
        },
        {
         "name": "class",
         "rawType": "object",
         "type": "string"
        },
        {
         "name": "who",
         "rawType": "object",
         "type": "string"
        },
        {
         "name": "adult_male",
         "rawType": "bool",
         "type": "boolean"
        },
        {
         "name": "deck",
         "rawType": "object",
         "type": "unknown"
        },
        {
         "name": "embark_town",
         "rawType": "object",
         "type": "string"
        },
        {
         "name": "alive",
         "rawType": "object",
         "type": "string"
        },
        {
         "name": "alone",
         "rawType": "bool",
         "type": "boolean"
        }
       ],
       "ref": "4a4dfed7-add5-4145-9171-db7e65a6ffa6",
       "rows": [
        [
         "0",
         "0",
         "3",
         "male",
         "22.0",
         "1",
         "0",
         "7.25",
         "S",
         "Third",
         "man",
         "True",
         null,
         "Southampton",
         "no",
         "False"
        ]
       ],
       "shape": {
        "columns": 15,
        "rows": 1
       }
      },
      "text/html": [
       "<div>\n",
       "<style scoped>\n",
       "    .dataframe tbody tr th:only-of-type {\n",
       "        vertical-align: middle;\n",
       "    }\n",
       "\n",
       "    .dataframe tbody tr th {\n",
       "        vertical-align: top;\n",
       "    }\n",
       "\n",
       "    .dataframe thead th {\n",
       "        text-align: right;\n",
       "    }\n",
       "</style>\n",
       "<table border=\"1\" class=\"dataframe\">\n",
       "  <thead>\n",
       "    <tr style=\"text-align: right;\">\n",
       "      <th></th>\n",
       "      <th>survived</th>\n",
       "      <th>pclass</th>\n",
       "      <th>sex</th>\n",
       "      <th>age</th>\n",
       "      <th>sibsp</th>\n",
       "      <th>parch</th>\n",
       "      <th>fare</th>\n",
       "      <th>embarked</th>\n",
       "      <th>class</th>\n",
       "      <th>who</th>\n",
       "      <th>adult_male</th>\n",
       "      <th>deck</th>\n",
       "      <th>embark_town</th>\n",
       "      <th>alive</th>\n",
       "      <th>alone</th>\n",
       "    </tr>\n",
       "  </thead>\n",
       "  <tbody>\n",
       "    <tr>\n",
       "      <th>0</th>\n",
       "      <td>0</td>\n",
       "      <td>3</td>\n",
       "      <td>male</td>\n",
       "      <td>22.0</td>\n",
       "      <td>1</td>\n",
       "      <td>0</td>\n",
       "      <td>7.25</td>\n",
       "      <td>S</td>\n",
       "      <td>Third</td>\n",
       "      <td>man</td>\n",
       "      <td>True</td>\n",
       "      <td>NaN</td>\n",
       "      <td>Southampton</td>\n",
       "      <td>no</td>\n",
       "      <td>False</td>\n",
       "    </tr>\n",
       "  </tbody>\n",
       "</table>\n",
       "</div>"
      ],
      "text/plain": [
       "   survived  pclass   sex   age  sibsp  parch  fare embarked  class  who  \\\n",
       "0         0       3  male  22.0      1      0  7.25        S  Third  man   \n",
       "\n",
       "   adult_male deck  embark_town alive  alone  \n",
       "0        True  NaN  Southampton    no  False  "
      ]
     },
     "execution_count": 2,
     "metadata": {},
     "output_type": "execute_result"
    }
   ],
   "source": [
    "df = pd.read_csv(\"../toydata/titanic.csv\")\n",
    "print(f\"{df.shape}\")\n",
    "df.head(1)"
   ]
  },
  {
   "cell_type": "markdown",
   "metadata": {},
   "source": [
    "### Missing, zero, negative, blank values"
   ]
  },
  {
   "cell_type": "code",
   "execution_count": 3,
   "metadata": {},
   "outputs": [],
   "source": [
    "n_nulls = df.isnull().sum()\n",
    "n_zero = df.apply(lambda x: x == 0).sum()\n",
    "n_negative = df.select_dtypes(include=\"number\").apply(lambda x: x < 0).sum()\n",
    "n_blank_str = (\n",
    "    df.select_dtypes(include=object).apply(lambda x: x.str.strip() == \"\").sum()\n",
    ")\n",
    "df_sums = pd.DataFrame(\n",
    "    {\n",
    "        \"n_missing\": n_nulls,\n",
    "        \"n_zero\": n_zero,\n",
    "        \"n_negative\": n_negative,\n",
    "        \"n_blank_string\": n_blank_str,\n",
    "    }\n",
    ")\n",
    "df_sums_pct = (\n",
    "    df_sums.div(df.shape[0]).mul(100).round(2).rename(columns=lambda x: x + \"_pct\")\n",
    ")"
   ]
  },
  {
   "cell_type": "code",
   "execution_count": 4,
   "metadata": {},
   "outputs": [
    {
     "data": {
      "application/vnd.microsoft.datawrangler.viewer.v0+json": {
       "columns": [
        {
         "name": "index",
         "rawType": "object",
         "type": "string"
        },
        {
         "name": "n_missing",
         "rawType": "object",
         "type": "string"
        },
        {
         "name": "n_zero",
         "rawType": "object",
         "type": "string"
        },
        {
         "name": "n_negative",
         "rawType": "object",
         "type": "string"
        },
        {
         "name": "n_blank_string",
         "rawType": "object",
         "type": "string"
        }
       ],
       "ref": "d7eb2f05-4ad2-446d-aea2-d190ece1fec6",
       "rows": [
        [
         "adult_male",
         "0",
         "354",
         "",
         ""
        ],
        [
         "age",
         "177",
         "0",
         "0.0",
         ""
        ],
        [
         "alive",
         "0",
         "0",
         "",
         "0.0"
        ],
        [
         "alone",
         "0",
         "354",
         "",
         ""
        ],
        [
         "class",
         "0",
         "0",
         "",
         "0.0"
        ],
        [
         "deck",
         "688",
         "0",
         "",
         "0.0"
        ],
        [
         "embark_town",
         "2",
         "0",
         "",
         "0.0"
        ],
        [
         "embarked",
         "2",
         "0",
         "",
         "0.0"
        ],
        [
         "fare",
         "0",
         "15",
         "0.0",
         ""
        ],
        [
         "parch",
         "0",
         "678",
         "0.0",
         ""
        ],
        [
         "pclass",
         "0",
         "0",
         "0.0",
         ""
        ],
        [
         "sex",
         "0",
         "0",
         "",
         "0.0"
        ],
        [
         "sibsp",
         "0",
         "608",
         "0.0",
         ""
        ],
        [
         "survived",
         "0",
         "549",
         "0.0",
         ""
        ],
        [
         "who",
         "0",
         "0",
         "",
         "0.0"
        ]
       ],
       "shape": {
        "columns": 4,
        "rows": 15
       }
      },
      "text/html": [
       "<div>\n",
       "<style scoped>\n",
       "    .dataframe tbody tr th:only-of-type {\n",
       "        vertical-align: middle;\n",
       "    }\n",
       "\n",
       "    .dataframe tbody tr th {\n",
       "        vertical-align: top;\n",
       "    }\n",
       "\n",
       "    .dataframe thead th {\n",
       "        text-align: right;\n",
       "    }\n",
       "</style>\n",
       "<table border=\"1\" class=\"dataframe\">\n",
       "  <thead>\n",
       "    <tr style=\"text-align: right;\">\n",
       "      <th></th>\n",
       "      <th>n_missing</th>\n",
       "      <th>n_zero</th>\n",
       "      <th>n_negative</th>\n",
       "      <th>n_blank_string</th>\n",
       "    </tr>\n",
       "  </thead>\n",
       "  <tbody>\n",
       "    <tr>\n",
       "      <th>adult_male</th>\n",
       "      <td>0</td>\n",
       "      <td>354</td>\n",
       "      <td></td>\n",
       "      <td></td>\n",
       "    </tr>\n",
       "    <tr>\n",
       "      <th>age</th>\n",
       "      <td>177</td>\n",
       "      <td>0</td>\n",
       "      <td>0.0</td>\n",
       "      <td></td>\n",
       "    </tr>\n",
       "    <tr>\n",
       "      <th>alive</th>\n",
       "      <td>0</td>\n",
       "      <td>0</td>\n",
       "      <td></td>\n",
       "      <td>0.0</td>\n",
       "    </tr>\n",
       "    <tr>\n",
       "      <th>alone</th>\n",
       "      <td>0</td>\n",
       "      <td>354</td>\n",
       "      <td></td>\n",
       "      <td></td>\n",
       "    </tr>\n",
       "    <tr>\n",
       "      <th>class</th>\n",
       "      <td>0</td>\n",
       "      <td>0</td>\n",
       "      <td></td>\n",
       "      <td>0.0</td>\n",
       "    </tr>\n",
       "    <tr>\n",
       "      <th>deck</th>\n",
       "      <td>688</td>\n",
       "      <td>0</td>\n",
       "      <td></td>\n",
       "      <td>0.0</td>\n",
       "    </tr>\n",
       "    <tr>\n",
       "      <th>embark_town</th>\n",
       "      <td>2</td>\n",
       "      <td>0</td>\n",
       "      <td></td>\n",
       "      <td>0.0</td>\n",
       "    </tr>\n",
       "    <tr>\n",
       "      <th>embarked</th>\n",
       "      <td>2</td>\n",
       "      <td>0</td>\n",
       "      <td></td>\n",
       "      <td>0.0</td>\n",
       "    </tr>\n",
       "    <tr>\n",
       "      <th>fare</th>\n",
       "      <td>0</td>\n",
       "      <td>15</td>\n",
       "      <td>0.0</td>\n",
       "      <td></td>\n",
       "    </tr>\n",
       "    <tr>\n",
       "      <th>parch</th>\n",
       "      <td>0</td>\n",
       "      <td>678</td>\n",
       "      <td>0.0</td>\n",
       "      <td></td>\n",
       "    </tr>\n",
       "    <tr>\n",
       "      <th>pclass</th>\n",
       "      <td>0</td>\n",
       "      <td>0</td>\n",
       "      <td>0.0</td>\n",
       "      <td></td>\n",
       "    </tr>\n",
       "    <tr>\n",
       "      <th>sex</th>\n",
       "      <td>0</td>\n",
       "      <td>0</td>\n",
       "      <td></td>\n",
       "      <td>0.0</td>\n",
       "    </tr>\n",
       "    <tr>\n",
       "      <th>sibsp</th>\n",
       "      <td>0</td>\n",
       "      <td>608</td>\n",
       "      <td>0.0</td>\n",
       "      <td></td>\n",
       "    </tr>\n",
       "    <tr>\n",
       "      <th>survived</th>\n",
       "      <td>0</td>\n",
       "      <td>549</td>\n",
       "      <td>0.0</td>\n",
       "      <td></td>\n",
       "    </tr>\n",
       "    <tr>\n",
       "      <th>who</th>\n",
       "      <td>0</td>\n",
       "      <td>0</td>\n",
       "      <td></td>\n",
       "      <td>0.0</td>\n",
       "    </tr>\n",
       "  </tbody>\n",
       "</table>\n",
       "</div>"
      ],
      "text/plain": [
       "            n_missing n_zero n_negative n_blank_string\n",
       "adult_male          0    354                          \n",
       "age               177      0        0.0               \n",
       "alive               0      0                       0.0\n",
       "alone               0    354                          \n",
       "class               0      0                       0.0\n",
       "deck              688      0                       0.0\n",
       "embark_town         2      0                       0.0\n",
       "embarked            2      0                       0.0\n",
       "fare                0     15        0.0               \n",
       "parch               0    678        0.0               \n",
       "pclass              0      0        0.0               \n",
       "sex                 0      0                       0.0\n",
       "sibsp               0    608        0.0               \n",
       "survived            0    549        0.0               \n",
       "who                 0      0                       0.0"
      ]
     },
     "execution_count": 4,
     "metadata": {},
     "output_type": "execute_result"
    }
   ],
   "source": [
    "_ = df_sums.astype(str)\n",
    "_ = _.replace(\"nan\", \"\").replace(\"NaN\", \"\")\n",
    "_"
   ]
  },
  {
   "cell_type": "code",
   "execution_count": 5,
   "metadata": {},
   "outputs": [
    {
     "data": {
      "application/vnd.microsoft.datawrangler.viewer.v0+json": {
       "columns": [
        {
         "name": "index",
         "rawType": "object",
         "type": "string"
        },
        {
         "name": "n_missing_pct",
         "rawType": "object",
         "type": "string"
        },
        {
         "name": "n_zero_pct",
         "rawType": "object",
         "type": "string"
        },
        {
         "name": "n_negative_pct",
         "rawType": "object",
         "type": "string"
        },
        {
         "name": "n_blank_string_pct",
         "rawType": "object",
         "type": "string"
        }
       ],
       "ref": "af111e84-9fef-4bad-bcf5-c3ab0b9b3cc6",
       "rows": [
        [
         "adult_male",
         "0.0",
         "39.73",
         "",
         ""
        ],
        [
         "age",
         "19.87",
         "0.0",
         "0.0",
         ""
        ],
        [
         "alive",
         "0.0",
         "0.0",
         "",
         "0.0"
        ],
        [
         "alone",
         "0.0",
         "39.73",
         "",
         ""
        ],
        [
         "class",
         "0.0",
         "0.0",
         "",
         "0.0"
        ],
        [
         "deck",
         "77.22",
         "0.0",
         "",
         "0.0"
        ],
        [
         "embark_town",
         "0.22",
         "0.0",
         "",
         "0.0"
        ],
        [
         "embarked",
         "0.22",
         "0.0",
         "",
         "0.0"
        ],
        [
         "fare",
         "0.0",
         "1.68",
         "0.0",
         ""
        ],
        [
         "parch",
         "0.0",
         "76.09",
         "0.0",
         ""
        ],
        [
         "pclass",
         "0.0",
         "0.0",
         "0.0",
         ""
        ],
        [
         "sex",
         "0.0",
         "0.0",
         "",
         "0.0"
        ],
        [
         "sibsp",
         "0.0",
         "68.24",
         "0.0",
         ""
        ],
        [
         "survived",
         "0.0",
         "61.62",
         "0.0",
         ""
        ],
        [
         "who",
         "0.0",
         "0.0",
         "",
         "0.0"
        ]
       ],
       "shape": {
        "columns": 4,
        "rows": 15
       }
      },
      "text/html": [
       "<div>\n",
       "<style scoped>\n",
       "    .dataframe tbody tr th:only-of-type {\n",
       "        vertical-align: middle;\n",
       "    }\n",
       "\n",
       "    .dataframe tbody tr th {\n",
       "        vertical-align: top;\n",
       "    }\n",
       "\n",
       "    .dataframe thead th {\n",
       "        text-align: right;\n",
       "    }\n",
       "</style>\n",
       "<table border=\"1\" class=\"dataframe\">\n",
       "  <thead>\n",
       "    <tr style=\"text-align: right;\">\n",
       "      <th></th>\n",
       "      <th>n_missing_pct</th>\n",
       "      <th>n_zero_pct</th>\n",
       "      <th>n_negative_pct</th>\n",
       "      <th>n_blank_string_pct</th>\n",
       "    </tr>\n",
       "  </thead>\n",
       "  <tbody>\n",
       "    <tr>\n",
       "      <th>adult_male</th>\n",
       "      <td>0.0</td>\n",
       "      <td>39.73</td>\n",
       "      <td></td>\n",
       "      <td></td>\n",
       "    </tr>\n",
       "    <tr>\n",
       "      <th>age</th>\n",
       "      <td>19.87</td>\n",
       "      <td>0.0</td>\n",
       "      <td>0.0</td>\n",
       "      <td></td>\n",
       "    </tr>\n",
       "    <tr>\n",
       "      <th>alive</th>\n",
       "      <td>0.0</td>\n",
       "      <td>0.0</td>\n",
       "      <td></td>\n",
       "      <td>0.0</td>\n",
       "    </tr>\n",
       "    <tr>\n",
       "      <th>alone</th>\n",
       "      <td>0.0</td>\n",
       "      <td>39.73</td>\n",
       "      <td></td>\n",
       "      <td></td>\n",
       "    </tr>\n",
       "    <tr>\n",
       "      <th>class</th>\n",
       "      <td>0.0</td>\n",
       "      <td>0.0</td>\n",
       "      <td></td>\n",
       "      <td>0.0</td>\n",
       "    </tr>\n",
       "    <tr>\n",
       "      <th>deck</th>\n",
       "      <td>77.22</td>\n",
       "      <td>0.0</td>\n",
       "      <td></td>\n",
       "      <td>0.0</td>\n",
       "    </tr>\n",
       "    <tr>\n",
       "      <th>embark_town</th>\n",
       "      <td>0.22</td>\n",
       "      <td>0.0</td>\n",
       "      <td></td>\n",
       "      <td>0.0</td>\n",
       "    </tr>\n",
       "    <tr>\n",
       "      <th>embarked</th>\n",
       "      <td>0.22</td>\n",
       "      <td>0.0</td>\n",
       "      <td></td>\n",
       "      <td>0.0</td>\n",
       "    </tr>\n",
       "    <tr>\n",
       "      <th>fare</th>\n",
       "      <td>0.0</td>\n",
       "      <td>1.68</td>\n",
       "      <td>0.0</td>\n",
       "      <td></td>\n",
       "    </tr>\n",
       "    <tr>\n",
       "      <th>parch</th>\n",
       "      <td>0.0</td>\n",
       "      <td>76.09</td>\n",
       "      <td>0.0</td>\n",
       "      <td></td>\n",
       "    </tr>\n",
       "    <tr>\n",
       "      <th>pclass</th>\n",
       "      <td>0.0</td>\n",
       "      <td>0.0</td>\n",
       "      <td>0.0</td>\n",
       "      <td></td>\n",
       "    </tr>\n",
       "    <tr>\n",
       "      <th>sex</th>\n",
       "      <td>0.0</td>\n",
       "      <td>0.0</td>\n",
       "      <td></td>\n",
       "      <td>0.0</td>\n",
       "    </tr>\n",
       "    <tr>\n",
       "      <th>sibsp</th>\n",
       "      <td>0.0</td>\n",
       "      <td>68.24</td>\n",
       "      <td>0.0</td>\n",
       "      <td></td>\n",
       "    </tr>\n",
       "    <tr>\n",
       "      <th>survived</th>\n",
       "      <td>0.0</td>\n",
       "      <td>61.62</td>\n",
       "      <td>0.0</td>\n",
       "      <td></td>\n",
       "    </tr>\n",
       "    <tr>\n",
       "      <th>who</th>\n",
       "      <td>0.0</td>\n",
       "      <td>0.0</td>\n",
       "      <td></td>\n",
       "      <td>0.0</td>\n",
       "    </tr>\n",
       "  </tbody>\n",
       "</table>\n",
       "</div>"
      ],
      "text/plain": [
       "            n_missing_pct n_zero_pct n_negative_pct n_blank_string_pct\n",
       "adult_male            0.0      39.73                                  \n",
       "age                 19.87        0.0            0.0                   \n",
       "alive                 0.0        0.0                               0.0\n",
       "alone                 0.0      39.73                                  \n",
       "class                 0.0        0.0                               0.0\n",
       "deck                77.22        0.0                               0.0\n",
       "embark_town          0.22        0.0                               0.0\n",
       "embarked             0.22        0.0                               0.0\n",
       "fare                  0.0       1.68            0.0                   \n",
       "parch                 0.0      76.09            0.0                   \n",
       "pclass                0.0        0.0            0.0                   \n",
       "sex                   0.0        0.0                               0.0\n",
       "sibsp                 0.0      68.24            0.0                   \n",
       "survived              0.0      61.62            0.0                   \n",
       "who                   0.0        0.0                               0.0"
      ]
     },
     "execution_count": 5,
     "metadata": {},
     "output_type": "execute_result"
    }
   ],
   "source": [
    "_ = df_sums_pct.astype(str)\n",
    "_ = _.replace(\"nan\", \"\").replace(\"NaN\", \"\")\n",
    "_"
   ]
  }
 ],
 "metadata": {
  "kernelspec": {
   "display_name": "Python 3",
   "language": "python",
   "name": "python3"
  },
  "language_info": {
   "codemirror_mode": {
    "name": "ipython",
    "version": 3
   },
   "file_extension": ".py",
   "mimetype": "text/x-python",
   "name": "python",
   "nbconvert_exporter": "python",
   "pygments_lexer": "ipython3",
   "version": "3.13.2"
  }
 },
 "nbformat": 4,
 "nbformat_minor": 2
}
