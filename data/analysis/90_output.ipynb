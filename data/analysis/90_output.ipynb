{
 "cells": [
  {
   "cell_type": "code",
   "execution_count": 1,
   "metadata": {},
   "outputs": [],
   "source": [
    "import matplotlib.pyplot as plt\n",
    "import matplotlib as mpl\n",
    "import numpy as np\n",
    "import pandas as pd\n",
    "import statsmodels.api as sm\n",
    "from scipy import stats"
   ]
  },
  {
   "cell_type": "markdown",
   "metadata": {},
   "source": [
    "### example data"
   ]
  },
  {
   "cell_type": "code",
   "execution_count": 2,
   "metadata": {},
   "outputs": [
    {
     "data": {
      "text/plain": [
       "(891, 15)"
      ]
     },
     "execution_count": 2,
     "metadata": {},
     "output_type": "execute_result"
    }
   ],
   "source": [
    "df = pd.read_csv('titanic.csv')\n",
    "df.shape"
   ]
  },
  {
   "cell_type": "code",
   "execution_count": 3,
   "metadata": {},
   "outputs": [
    {
     "data": {
      "application/vnd.microsoft.datawrangler.viewer.v0+json": {
       "columns": [
        {
         "name": "index",
         "rawType": "int64",
         "type": "integer"
        },
        {
         "name": "survived",
         "rawType": "int64",
         "type": "integer"
        },
        {
         "name": "pclass",
         "rawType": "int64",
         "type": "integer"
        },
        {
         "name": "sex",
         "rawType": "object",
         "type": "string"
        },
        {
         "name": "age",
         "rawType": "float64",
         "type": "float"
        },
        {
         "name": "sibsp",
         "rawType": "int64",
         "type": "integer"
        },
        {
         "name": "parch",
         "rawType": "int64",
         "type": "integer"
        },
        {
         "name": "fare",
         "rawType": "float64",
         "type": "float"
        },
        {
         "name": "embarked",
         "rawType": "object",
         "type": "string"
        },
        {
         "name": "class",
         "rawType": "object",
         "type": "string"
        },
        {
         "name": "who",
         "rawType": "object",
         "type": "string"
        },
        {
         "name": "adult_male",
         "rawType": "bool",
         "type": "boolean"
        },
        {
         "name": "deck",
         "rawType": "object",
         "type": "unknown"
        },
        {
         "name": "embark_town",
         "rawType": "object",
         "type": "string"
        },
        {
         "name": "alive",
         "rawType": "object",
         "type": "string"
        },
        {
         "name": "alone",
         "rawType": "bool",
         "type": "boolean"
        }
       ],
       "ref": "f116f197-be23-4c25-9bc3-634363c6c344",
       "rows": [
        [
         "0",
         "0",
         "3",
         "male",
         "22.0",
         "1",
         "0",
         "7.25",
         "S",
         "Third",
         "man",
         "True",
         null,
         "Southampton",
         "no",
         "False"
        ],
        [
         "1",
         "1",
         "1",
         "female",
         "38.0",
         "1",
         "0",
         "71.2833",
         "C",
         "First",
         "woman",
         "False",
         "C",
         "Cherbourg",
         "yes",
         "False"
        ],
        [
         "2",
         "1",
         "3",
         "female",
         "26.0",
         "0",
         "0",
         "7.925",
         "S",
         "Third",
         "woman",
         "False",
         null,
         "Southampton",
         "yes",
         "True"
        ],
        [
         "3",
         "1",
         "1",
         "female",
         "35.0",
         "1",
         "0",
         "53.1",
         "S",
         "First",
         "woman",
         "False",
         "C",
         "Southampton",
         "yes",
         "False"
        ],
        [
         "4",
         "0",
         "3",
         "male",
         "35.0",
         "0",
         "0",
         "8.05",
         "S",
         "Third",
         "man",
         "True",
         null,
         "Southampton",
         "no",
         "True"
        ]
       ],
       "shape": {
        "columns": 15,
        "rows": 5
       }
      },
      "text/html": [
       "<div>\n",
       "<style scoped>\n",
       "    .dataframe tbody tr th:only-of-type {\n",
       "        vertical-align: middle;\n",
       "    }\n",
       "\n",
       "    .dataframe tbody tr th {\n",
       "        vertical-align: top;\n",
       "    }\n",
       "\n",
       "    .dataframe thead th {\n",
       "        text-align: right;\n",
       "    }\n",
       "</style>\n",
       "<table border=\"1\" class=\"dataframe\">\n",
       "  <thead>\n",
       "    <tr style=\"text-align: right;\">\n",
       "      <th></th>\n",
       "      <th>survived</th>\n",
       "      <th>pclass</th>\n",
       "      <th>sex</th>\n",
       "      <th>age</th>\n",
       "      <th>sibsp</th>\n",
       "      <th>parch</th>\n",
       "      <th>fare</th>\n",
       "      <th>embarked</th>\n",
       "      <th>class</th>\n",
       "      <th>who</th>\n",
       "      <th>adult_male</th>\n",
       "      <th>deck</th>\n",
       "      <th>embark_town</th>\n",
       "      <th>alive</th>\n",
       "      <th>alone</th>\n",
       "    </tr>\n",
       "  </thead>\n",
       "  <tbody>\n",
       "    <tr>\n",
       "      <th>0</th>\n",
       "      <td>0</td>\n",
       "      <td>3</td>\n",
       "      <td>male</td>\n",
       "      <td>22.0</td>\n",
       "      <td>1</td>\n",
       "      <td>0</td>\n",
       "      <td>7.2500</td>\n",
       "      <td>S</td>\n",
       "      <td>Third</td>\n",
       "      <td>man</td>\n",
       "      <td>True</td>\n",
       "      <td>NaN</td>\n",
       "      <td>Southampton</td>\n",
       "      <td>no</td>\n",
       "      <td>False</td>\n",
       "    </tr>\n",
       "    <tr>\n",
       "      <th>1</th>\n",
       "      <td>1</td>\n",
       "      <td>1</td>\n",
       "      <td>female</td>\n",
       "      <td>38.0</td>\n",
       "      <td>1</td>\n",
       "      <td>0</td>\n",
       "      <td>71.2833</td>\n",
       "      <td>C</td>\n",
       "      <td>First</td>\n",
       "      <td>woman</td>\n",
       "      <td>False</td>\n",
       "      <td>C</td>\n",
       "      <td>Cherbourg</td>\n",
       "      <td>yes</td>\n",
       "      <td>False</td>\n",
       "    </tr>\n",
       "    <tr>\n",
       "      <th>2</th>\n",
       "      <td>1</td>\n",
       "      <td>3</td>\n",
       "      <td>female</td>\n",
       "      <td>26.0</td>\n",
       "      <td>0</td>\n",
       "      <td>0</td>\n",
       "      <td>7.9250</td>\n",
       "      <td>S</td>\n",
       "      <td>Third</td>\n",
       "      <td>woman</td>\n",
       "      <td>False</td>\n",
       "      <td>NaN</td>\n",
       "      <td>Southampton</td>\n",
       "      <td>yes</td>\n",
       "      <td>True</td>\n",
       "    </tr>\n",
       "    <tr>\n",
       "      <th>3</th>\n",
       "      <td>1</td>\n",
       "      <td>1</td>\n",
       "      <td>female</td>\n",
       "      <td>35.0</td>\n",
       "      <td>1</td>\n",
       "      <td>0</td>\n",
       "      <td>53.1000</td>\n",
       "      <td>S</td>\n",
       "      <td>First</td>\n",
       "      <td>woman</td>\n",
       "      <td>False</td>\n",
       "      <td>C</td>\n",
       "      <td>Southampton</td>\n",
       "      <td>yes</td>\n",
       "      <td>False</td>\n",
       "    </tr>\n",
       "    <tr>\n",
       "      <th>4</th>\n",
       "      <td>0</td>\n",
       "      <td>3</td>\n",
       "      <td>male</td>\n",
       "      <td>35.0</td>\n",
       "      <td>0</td>\n",
       "      <td>0</td>\n",
       "      <td>8.0500</td>\n",
       "      <td>S</td>\n",
       "      <td>Third</td>\n",
       "      <td>man</td>\n",
       "      <td>True</td>\n",
       "      <td>NaN</td>\n",
       "      <td>Southampton</td>\n",
       "      <td>no</td>\n",
       "      <td>True</td>\n",
       "    </tr>\n",
       "  </tbody>\n",
       "</table>\n",
       "</div>"
      ],
      "text/plain": [
       "   survived  pclass     sex   age  sibsp  parch     fare embarked  class  \\\n",
       "0         0       3    male  22.0      1      0   7.2500        S  Third   \n",
       "1         1       1  female  38.0      1      0  71.2833        C  First   \n",
       "2         1       3  female  26.0      0      0   7.9250        S  Third   \n",
       "3         1       1  female  35.0      1      0  53.1000        S  First   \n",
       "4         0       3    male  35.0      0      0   8.0500        S  Third   \n",
       "\n",
       "     who  adult_male deck  embark_town alive  alone  \n",
       "0    man        True  NaN  Southampton    no  False  \n",
       "1  woman       False    C    Cherbourg   yes  False  \n",
       "2  woman       False  NaN  Southampton   yes   True  \n",
       "3  woman       False    C  Southampton   yes  False  \n",
       "4    man        True  NaN  Southampton    no   True  "
      ]
     },
     "execution_count": 3,
     "metadata": {},
     "output_type": "execute_result"
    }
   ],
   "source": [
    "tbl0 = df.head(5)\n",
    "tbl0"
   ]
  },
  {
   "cell_type": "code",
   "execution_count": 4,
   "metadata": {},
   "outputs": [
    {
     "data": {
      "text/plain": [
       "<Axes: ylabel='Frequency'>"
      ]
     },
     "execution_count": 4,
     "metadata": {},
     "output_type": "execute_result"
    },
    {
     "data": {
      "image/png": "[encoded data removed]",
      "text/plain": [
       "<Figure size 1200x600 with 1 Axes>"
      ]
     },
     "metadata": {},
     "output_type": "display_data"
    }
   ],
   "source": [
    "fig, ax = plt.subplots(1, 1, figsize=(12, 6))\n",
    "df.plot(kind=\"hist\", y=\"age\", bins=20, edgecolor=\"black\", ax = ax)"
   ]
  },
  {
   "cell_type": "code",
   "execution_count": 5,
   "metadata": {},
   "outputs": [
    {
     "data": {
      "application/vnd.microsoft.datawrangler.viewer.v0+json": {
       "columns": [
        {
         "name": "index",
         "rawType": "int64",
         "type": "integer"
        },
        {
         "name": "sex",
         "rawType": "object",
         "type": "string"
        },
        {
         "name": "class",
         "rawType": "object",
         "type": "string"
        },
        {
         "name": "n",
         "rawType": "int64",
         "type": "integer"
        },
        {
         "name": "survived_rate",
         "rawType": "float64",
         "type": "float"
        }
       ],
       "ref": "6e98ca4f-847a-4d9e-a342-3cc3eb1d7600",
       "rows": [
        [
         "0",
         "female",
         "First",
         "94",
         "0.9680851063829787"
        ],
        [
         "1",
         "female",
         "Second",
         "76",
         "0.9210526315789473"
        ],
        [
         "2",
         "female",
         "Third",
         "144",
         "0.5"
        ],
        [
         "3",
         "male",
         "First",
         "122",
         "0.36885245901639346"
        ],
        [
         "4",
         "male",
         "Second",
         "108",
         "0.1574074074074074"
        ],
        [
         "5",
         "male",
         "Third",
         "347",
         "0.13544668587896252"
        ]
       ],
       "shape": {
        "columns": 4,
        "rows": 6
       }
      },
      "text/html": [
       "<div>\n",
       "<style scoped>\n",
       "    .dataframe tbody tr th:only-of-type {\n",
       "        vertical-align: middle;\n",
       "    }\n",
       "\n",
       "    .dataframe tbody tr th {\n",
       "        vertical-align: top;\n",
       "    }\n",
       "\n",
       "    .dataframe thead th {\n",
       "        text-align: right;\n",
       "    }\n",
       "</style>\n",
       "<table border=\"1\" class=\"dataframe\">\n",
       "  <thead>\n",
       "    <tr style=\"text-align: right;\">\n",
       "      <th></th>\n",
       "      <th>sex</th>\n",
       "      <th>class</th>\n",
       "      <th>n</th>\n",
       "      <th>survived_rate</th>\n",
       "    </tr>\n",
       "  </thead>\n",
       "  <tbody>\n",
       "    <tr>\n",
       "      <th>0</th>\n",
       "      <td>female</td>\n",
       "      <td>First</td>\n",
       "      <td>94</td>\n",
       "      <td>0.968085</td>\n",
       "    </tr>\n",
       "    <tr>\n",
       "      <th>1</th>\n",
       "      <td>female</td>\n",
       "      <td>Second</td>\n",
       "      <td>76</td>\n",
       "      <td>0.921053</td>\n",
       "    </tr>\n",
       "    <tr>\n",
       "      <th>2</th>\n",
       "      <td>female</td>\n",
       "      <td>Third</td>\n",
       "      <td>144</td>\n",
       "      <td>0.500000</td>\n",
       "    </tr>\n",
       "    <tr>\n",
       "      <th>3</th>\n",
       "      <td>male</td>\n",
       "      <td>First</td>\n",
       "      <td>122</td>\n",
       "      <td>0.368852</td>\n",
       "    </tr>\n",
       "    <tr>\n",
       "      <th>4</th>\n",
       "      <td>male</td>\n",
       "      <td>Second</td>\n",
       "      <td>108</td>\n",
       "      <td>0.157407</td>\n",
       "    </tr>\n",
       "    <tr>\n",
       "      <th>5</th>\n",
       "      <td>male</td>\n",
       "      <td>Third</td>\n",
       "      <td>347</td>\n",
       "      <td>0.135447</td>\n",
       "    </tr>\n",
       "  </tbody>\n",
       "</table>\n",
       "</div>"
      ],
      "text/plain": [
       "      sex   class    n  survived_rate\n",
       "0  female   First   94       0.968085\n",
       "1  female  Second   76       0.921053\n",
       "2  female   Third  144       0.500000\n",
       "3    male   First  122       0.368852\n",
       "4    male  Second  108       0.157407\n",
       "5    male   Third  347       0.135447"
      ]
     },
     "execution_count": 5,
     "metadata": {},
     "output_type": "execute_result"
    }
   ],
   "source": [
    "tbl: pd.DataFrame = df.groupby([\"sex\", \"class\"], dropna=False, observed=False).agg(\n",
    "    **{\n",
    "        \"n\": (\"sex\", \"size\"),\n",
    "        \"survived_rate\": (\"survived\", \"mean\"),\n",
    "    }\n",
    ").reset_index()\n",
    "tbl"
   ]
  },
  {
   "cell_type": "code",
   "execution_count": 6,
   "metadata": {},
   "outputs": [
    {
     "data": {
      "image/png": "[encoded data removed]",
      "text/plain": [
       "<Figure size 800x900 with 1 Axes>"
      ]
     },
     "metadata": {},
     "output_type": "display_data"
    }
   ],
   "source": [
    "fig2, ax = plt.subplots(1, 1, figsize=(8, 9))\n",
    "\n",
    "classes = tbl['class'].unique()\n",
    "sexes = tbl['sex'].unique()\n",
    "x = np.arange(len(classes))  # the label locations\n",
    "width = 0.3  # width of the bars\n",
    "\n",
    "for i, sex in enumerate(sexes):\n",
    "    values = tbl[tbl['sex'] == sex].set_index('class').loc[classes, 'survived_rate']\n",
    "    ax.bar(x + i*width, values, width, label=sex)\n",
    "\n",
    "ax.set_xlabel('Class')\n",
    "ax.set_ylabel('Survived Rate')\n",
    "ax.set_title('Survived Rate by Class and Sex')\n",
    "ax.set_xticks(x + width/2)\n",
    "ax.set_xticklabels(classes)\n",
    "ax.legend(title='Sex')\n",
    "plt.show()"
   ]
  },
  {
   "cell_type": "code",
   "execution_count": 7,
   "metadata": {},
   "outputs": [
    {
     "data": {
      "application/vnd.microsoft.datawrangler.viewer.v0+json": {
       "columns": [
        {
         "name": "index",
         "rawType": "int64",
         "type": "integer"
        },
        {
         "name": "class",
         "rawType": "object",
         "type": "string"
        },
        {
         "name": "female",
         "rawType": "float64",
         "type": "float"
        },
        {
         "name": "male",
         "rawType": "float64",
         "type": "float"
        }
       ],
       "ref": "1cfdf259-5bab-465a-95af-d9dbee41a1ee",
       "rows": [
        [
         "0",
         "First",
         "0.968",
         "0.369"
        ],
        [
         "1",
         "Second",
         "0.921",
         "0.157"
        ],
        [
         "2",
         "Third",
         "0.5",
         "0.135"
        ]
       ],
       "shape": {
        "columns": 3,
        "rows": 3
       }
      },
      "text/html": [
       "<div>\n",
       "<style scoped>\n",
       "    .dataframe tbody tr th:only-of-type {\n",
       "        vertical-align: middle;\n",
       "    }\n",
       "\n",
       "    .dataframe tbody tr th {\n",
       "        vertical-align: top;\n",
       "    }\n",
       "\n",
       "    .dataframe thead th {\n",
       "        text-align: right;\n",
       "    }\n",
       "</style>\n",
       "<table border=\"1\" class=\"dataframe\">\n",
       "  <thead>\n",
       "    <tr style=\"text-align: right;\">\n",
       "      <th>sex</th>\n",
       "      <th>class</th>\n",
       "      <th>female</th>\n",
       "      <th>male</th>\n",
       "    </tr>\n",
       "  </thead>\n",
       "  <tbody>\n",
       "    <tr>\n",
       "      <th>0</th>\n",
       "      <td>First</td>\n",
       "      <td>0.968</td>\n",
       "      <td>0.369</td>\n",
       "    </tr>\n",
       "    <tr>\n",
       "      <th>1</th>\n",
       "      <td>Second</td>\n",
       "      <td>0.921</td>\n",
       "      <td>0.157</td>\n",
       "    </tr>\n",
       "    <tr>\n",
       "      <th>2</th>\n",
       "      <td>Third</td>\n",
       "      <td>0.500</td>\n",
       "      <td>0.135</td>\n",
       "    </tr>\n",
       "  </tbody>\n",
       "</table>\n",
       "</div>"
      ],
      "text/plain": [
       "sex   class  female   male\n",
       "0     First   0.968  0.369\n",
       "1    Second   0.921  0.157\n",
       "2     Third   0.500  0.135"
      ]
     },
     "execution_count": 7,
     "metadata": {},
     "output_type": "execute_result"
    }
   ],
   "source": [
    "tbl2 = tbl.pivot(\n",
    "    index = 'class',\n",
    "    columns = 'sex',\n",
    "    values = 'survived_rate'\n",
    ").reset_index().round(3)\n",
    "tbl2"
   ]
  },
  {
   "cell_type": "markdown",
   "metadata": {},
   "source": [
    "### writer"
   ]
  },
  {
   "cell_type": "code",
   "execution_count": 8,
   "metadata": {},
   "outputs": [],
   "source": [
    "from excel_writer import ExcelWriter\n",
    "from pathlib import Path"
   ]
  },
  {
   "cell_type": "code",
   "execution_count": 9,
   "metadata": {},
   "outputs": [],
   "source": [
    "for file in Path(\"output\").iterdir():\n",
    "    if file.is_file() and file.suffix == \".xlsx\":\n",
    "        file.unlink()"
   ]
  },
  {
   "cell_type": "code",
   "execution_count": 10,
   "metadata": {},
   "outputs": [
    {
     "name": "stderr",
     "output_type": "stream",
     "text": [
      "\u001b[32m2025-08-03 23:24:47.458\u001b[0m | \u001b[34m\u001b[1mDEBUG   \u001b[0m | \u001b[36mexcel_writer\u001b[0m:\u001b[36m__enter__\u001b[0m:\u001b[36m133\u001b[0m - \u001b[34m\u001b[1mFile output\\test_ew.xlsx does not exist, force mode w.\u001b[0m\n",
      "\u001b[32m2025-08-03 23:24:47.460\u001b[0m | \u001b[34m\u001b[1mDEBUG   \u001b[0m | \u001b[36mexcel_writer\u001b[0m:\u001b[36m__enter__\u001b[0m:\u001b[36m135\u001b[0m - \u001b[34m\u001b[1mEnter ExcelWriter: mode = 'w'\u001b[0m\n",
      "\u001b[32m2025-08-03 23:24:47.463\u001b[0m | \u001b[34m\u001b[1mDEBUG   \u001b[0m | \u001b[36mexcel_writer\u001b[0m:\u001b[36m_make_new_sheet\u001b[0m:\u001b[36m154\u001b[0m - \u001b[34m\u001b[1mCreating new sheet: Sheet\u001b[0m\n",
      "\u001b[32m2025-08-03 23:24:47.465\u001b[0m | \u001b[34m\u001b[1mDEBUG   \u001b[0m | \u001b[36mexcel_writer\u001b[0m:\u001b[36mswitch_to_sheet\u001b[0m:\u001b[36m172\u001b[0m - \u001b[34m\u001b[1mSwitching to sheet: Sheet\u001b[0m\n",
      "\u001b[32m2025-08-03 23:24:47.466\u001b[0m | \u001b[34m\u001b[1mDEBUG   \u001b[0m | \u001b[36mexcel_writer\u001b[0m:\u001b[36mnew_func\u001b[0m:\u001b[36m60\u001b[0m - \u001b[34m\u001b[1mWriting item on Sheet at R1, C1\u001b[0m\n",
      "\u001b[32m2025-08-03 23:24:47.474\u001b[0m | \u001b[34m\u001b[1mDEBUG   \u001b[0m | \u001b[36mexcel_writer\u001b[0m:\u001b[36mnew_func\u001b[0m:\u001b[36m60\u001b[0m - \u001b[34m\u001b[1mWriting item on Sheet at R9, C1\u001b[0m\n",
      "\u001b[32m2025-08-03 23:24:47.475\u001b[0m | \u001b[34m\u001b[1mDEBUG   \u001b[0m | \u001b[36mexcel_writer\u001b[0m:\u001b[36mnew_func\u001b[0m:\u001b[36m60\u001b[0m - \u001b[34m\u001b[1mWriting item on Sheet at R9, C8\u001b[0m\n",
      "\u001b[32m2025-08-03 23:24:47.525\u001b[0m | \u001b[34m\u001b[1mDEBUG   \u001b[0m | \u001b[36mexcel_writer\u001b[0m:\u001b[36mnew_func\u001b[0m:\u001b[36m60\u001b[0m - \u001b[34m\u001b[1mWriting item on Sheet at R9, C22\u001b[0m\n",
      "\u001b[32m2025-08-03 23:24:47.526\u001b[0m | \u001b[34m\u001b[1mDEBUG   \u001b[0m | \u001b[36mexcel_writer\u001b[0m:\u001b[36mnew_func\u001b[0m:\u001b[36m60\u001b[0m - \u001b[34m\u001b[1mWriting item on Sheet at R57, C1\u001b[0m\n",
      "\u001b[32m2025-08-03 23:24:47.558\u001b[0m | \u001b[34m\u001b[1mDEBUG   \u001b[0m | \u001b[36mexcel_writer\u001b[0m:\u001b[36m_make_new_sheet\u001b[0m:\u001b[36m154\u001b[0m - \u001b[34m\u001b[1mCreating new sheet: Sheet2\u001b[0m\n",
      "\u001b[32m2025-08-03 23:24:47.559\u001b[0m | \u001b[34m\u001b[1mDEBUG   \u001b[0m | \u001b[36mexcel_writer\u001b[0m:\u001b[36mswitch_to_sheet\u001b[0m:\u001b[36m172\u001b[0m - \u001b[34m\u001b[1mSwitching to sheet: Sheet2\u001b[0m\n",
      "\u001b[32m2025-08-03 23:24:47.560\u001b[0m | \u001b[34m\u001b[1mDEBUG   \u001b[0m | \u001b[36mexcel_writer\u001b[0m:\u001b[36mnew_func\u001b[0m:\u001b[36m60\u001b[0m - \u001b[34m\u001b[1mWriting item on Sheet2 at R1, C1\u001b[0m\n",
      "\u001b[32m2025-08-03 23:24:47.562\u001b[0m | \u001b[34m\u001b[1mDEBUG   \u001b[0m | \u001b[36mexcel_writer\u001b[0m:\u001b[36mnew_func\u001b[0m:\u001b[36m60\u001b[0m - \u001b[34m\u001b[1mWriting item on Sheet2 at R1, C19\u001b[0m\n",
      "\u001b[32m2025-08-03 23:24:47.592\u001b[0m | \u001b[34m\u001b[1mDEBUG   \u001b[0m | \u001b[36mexcel_writer\u001b[0m:\u001b[36mnew_func\u001b[0m:\u001b[36m60\u001b[0m - \u001b[34m\u001b[1mWriting item on Sheet2 at R34, C1\u001b[0m\n",
      "\u001b[32m2025-08-03 23:24:47.594\u001b[0m | \u001b[34m\u001b[1mDEBUG   \u001b[0m | \u001b[36mexcel_writer\u001b[0m:\u001b[36mnew_func\u001b[0m:\u001b[36m60\u001b[0m - \u001b[34m\u001b[1mWriting item on Sheet2 at R34, C8\u001b[0m\n",
      "\u001b[32m2025-08-03 23:24:47.624\u001b[0m | \u001b[34m\u001b[1mDEBUG   \u001b[0m | \u001b[36mexcel_writer\u001b[0m:\u001b[36m_make_new_sheet\u001b[0m:\u001b[36m154\u001b[0m - \u001b[34m\u001b[1mCreating new sheet: Sheet3\u001b[0m\n",
      "\u001b[32m2025-08-03 23:24:47.625\u001b[0m | \u001b[34m\u001b[1mDEBUG   \u001b[0m | \u001b[36mexcel_writer\u001b[0m:\u001b[36mswitch_to_sheet\u001b[0m:\u001b[36m172\u001b[0m - \u001b[34m\u001b[1mSwitching to sheet: Sheet3\u001b[0m\n",
      "\u001b[32m2025-08-03 23:24:47.625\u001b[0m | \u001b[34m\u001b[1mDEBUG   \u001b[0m | \u001b[36mexcel_writer\u001b[0m:\u001b[36m__exit__\u001b[0m:\u001b[36m149\u001b[0m - \u001b[34m\u001b[1mExit ExcelWriter\u001b[0m\n"
     ]
    }
   ],
   "source": [
    "with ExcelWriter(file_path=Path(\"output/test_ew.xlsx\")) as ew:\n",
    "    (\n",
    "        ew\n",
    "        .write_df(tbl0, title=\"Table 0: Head of DataFrame\")\n",
    "        .write_df(tbl, title=\"Table 1: Grouped DataFrame\")\n",
    "        .write_fig(fig2, title=\"Figure 0: Bar plot of Survived Rate by Class and something else\", location=\"right\")\n",
    "        .write_df(tbl2, title=\"Table 2: Pivoted DataFrame\", location=\"right\")\n",
    "        .write_fig(fig, title=\"Figure 1: Histogram of Age\")\n",
    "\n",
    "        .switch_to_sheet(\"Sheet2\", create_if_not_exists=True)\n",
    "        .write_df(tbl0, title=\"Table 3: Head of DataFrame\")\n",
    "        .write_fig(fig, title=\"Figure 2 : Histogram of Age\", location=\"right\")\n",
    "        .write_df(tbl, title=\"Table 4: Grouped DataFrame\")\n",
    "        .write_fig(fig, title=\"Figure 3 : Histogram of Age\", location=\"right\")\n",
    "        \n",
    "        .switch_to_sheet(\"Sheet3\", create_if_not_exists=True)\n",
    "    )"
   ]
  },
  {
   "cell_type": "code",
   "execution_count": 11,
   "metadata": {},
   "outputs": [
    {
     "name": "stderr",
     "output_type": "stream",
     "text": [
      "\u001b[32m2025-08-03 23:24:50.396\u001b[0m | \u001b[34m\u001b[1mDEBUG   \u001b[0m | \u001b[36mexcel_writer\u001b[0m:\u001b[36mnew_func\u001b[0m:\u001b[36m60\u001b[0m - \u001b[34m\u001b[1mWriting item on Sheet at R1, C1\u001b[0m\n",
      "\u001b[32m2025-08-03 23:24:50.397\u001b[0m | \u001b[34m\u001b[1mDEBUG   \u001b[0m | \u001b[36mexcel_writer\u001b[0m:\u001b[36m__enter__\u001b[0m:\u001b[36m133\u001b[0m - \u001b[34m\u001b[1mFile output\\test_ew_2.xlsx does not exist, force mode w.\u001b[0m\n",
      "\u001b[32m2025-08-03 23:24:50.398\u001b[0m | \u001b[34m\u001b[1mDEBUG   \u001b[0m | \u001b[36mexcel_writer\u001b[0m:\u001b[36m__enter__\u001b[0m:\u001b[36m135\u001b[0m - \u001b[34m\u001b[1mEnter ExcelWriter: mode = 'w'\u001b[0m\n",
      "\u001b[32m2025-08-03 23:24:50.401\u001b[0m | \u001b[34m\u001b[1mDEBUG   \u001b[0m | \u001b[36mexcel_writer\u001b[0m:\u001b[36m_make_new_sheet\u001b[0m:\u001b[36m154\u001b[0m - \u001b[34m\u001b[1mCreating new sheet: Sheet\u001b[0m\n",
      "\u001b[32m2025-08-03 23:24:50.402\u001b[0m | \u001b[34m\u001b[1mDEBUG   \u001b[0m | \u001b[36mexcel_writer\u001b[0m:\u001b[36mswitch_to_sheet\u001b[0m:\u001b[36m172\u001b[0m - \u001b[34m\u001b[1mSwitching to sheet: Sheet\u001b[0m\n",
      "\u001b[32m2025-08-03 23:24:50.406\u001b[0m | \u001b[34m\u001b[1mDEBUG   \u001b[0m | \u001b[36mexcel_writer\u001b[0m:\u001b[36m__exit__\u001b[0m:\u001b[36m149\u001b[0m - \u001b[34m\u001b[1mExit ExcelWriter\u001b[0m\n",
      "\u001b[32m2025-08-03 23:24:50.420\u001b[0m | \u001b[34m\u001b[1mDEBUG   \u001b[0m | \u001b[36mexcel_writer\u001b[0m:\u001b[36mnew_func\u001b[0m:\u001b[36m60\u001b[0m - \u001b[34m\u001b[1mWriting item on Sheet at R9, C1\u001b[0m\n",
      "\u001b[32m2025-08-03 23:24:50.421\u001b[0m | \u001b[34m\u001b[1mDEBUG   \u001b[0m | \u001b[36mexcel_writer\u001b[0m:\u001b[36m__enter__\u001b[0m:\u001b[36m135\u001b[0m - \u001b[34m\u001b[1mEnter ExcelWriter: mode = 'a'\u001b[0m\n",
      "\u001b[32m2025-08-03 23:24:50.451\u001b[0m | \u001b[34m\u001b[1mDEBUG   \u001b[0m | \u001b[36mexcel_writer\u001b[0m:\u001b[36mswitch_to_sheet\u001b[0m:\u001b[36m172\u001b[0m - \u001b[34m\u001b[1mSwitching to sheet: Sheet\u001b[0m\n",
      "\u001b[32m2025-08-03 23:24:50.453\u001b[0m | \u001b[34m\u001b[1mDEBUG   \u001b[0m | \u001b[36mexcel_writer\u001b[0m:\u001b[36m__exit__\u001b[0m:\u001b[36m149\u001b[0m - \u001b[34m\u001b[1mExit ExcelWriter\u001b[0m\n",
      "\u001b[32m2025-08-03 23:24:50.462\u001b[0m | \u001b[34m\u001b[1mDEBUG   \u001b[0m | \u001b[36mexcel_writer\u001b[0m:\u001b[36mnew_func\u001b[0m:\u001b[36m60\u001b[0m - \u001b[34m\u001b[1mWriting item on Sheet at R9, C8\u001b[0m\n",
      "\u001b[32m2025-08-03 23:24:50.463\u001b[0m | \u001b[34m\u001b[1mDEBUG   \u001b[0m | \u001b[36mexcel_writer\u001b[0m:\u001b[36m__enter__\u001b[0m:\u001b[36m135\u001b[0m - \u001b[34m\u001b[1mEnter ExcelWriter: mode = 'a'\u001b[0m\n",
      "\u001b[32m2025-08-03 23:24:50.486\u001b[0m | \u001b[34m\u001b[1mDEBUG   \u001b[0m | \u001b[36mexcel_writer\u001b[0m:\u001b[36mswitch_to_sheet\u001b[0m:\u001b[36m172\u001b[0m - \u001b[34m\u001b[1mSwitching to sheet: Sheet\u001b[0m\n",
      "\u001b[32m2025-08-03 23:24:50.516\u001b[0m | \u001b[34m\u001b[1mDEBUG   \u001b[0m | \u001b[36mexcel_writer\u001b[0m:\u001b[36m__exit__\u001b[0m:\u001b[36m149\u001b[0m - \u001b[34m\u001b[1mExit ExcelWriter\u001b[0m\n",
      "\u001b[32m2025-08-03 23:24:50.534\u001b[0m | \u001b[34m\u001b[1mDEBUG   \u001b[0m | \u001b[36mexcel_writer\u001b[0m:\u001b[36mnew_func\u001b[0m:\u001b[36m60\u001b[0m - \u001b[34m\u001b[1mWriting item on Sheet at R9, C22\u001b[0m\n",
      "\u001b[32m2025-08-03 23:24:50.535\u001b[0m | \u001b[34m\u001b[1mDEBUG   \u001b[0m | \u001b[36mexcel_writer\u001b[0m:\u001b[36m__enter__\u001b[0m:\u001b[36m135\u001b[0m - \u001b[34m\u001b[1mEnter ExcelWriter: mode = 'a'\u001b[0m\n",
      "\u001b[32m2025-08-03 23:24:50.557\u001b[0m | \u001b[34m\u001b[1mDEBUG   \u001b[0m | \u001b[36mexcel_writer\u001b[0m:\u001b[36mswitch_to_sheet\u001b[0m:\u001b[36m172\u001b[0m - \u001b[34m\u001b[1mSwitching to sheet: Sheet\u001b[0m\n",
      "\u001b[32m2025-08-03 23:24:50.558\u001b[0m | \u001b[34m\u001b[1mDEBUG   \u001b[0m | \u001b[36mexcel_writer\u001b[0m:\u001b[36m__exit__\u001b[0m:\u001b[36m149\u001b[0m - \u001b[34m\u001b[1mExit ExcelWriter\u001b[0m\n",
      "\u001b[32m2025-08-03 23:24:50.579\u001b[0m | \u001b[34m\u001b[1mDEBUG   \u001b[0m | \u001b[36mexcel_writer\u001b[0m:\u001b[36mnew_func\u001b[0m:\u001b[36m60\u001b[0m - \u001b[34m\u001b[1mWriting item on Sheet at R57, C1\u001b[0m\n",
      "\u001b[32m2025-08-03 23:24:50.581\u001b[0m | \u001b[34m\u001b[1mDEBUG   \u001b[0m | \u001b[36mexcel_writer\u001b[0m:\u001b[36m__enter__\u001b[0m:\u001b[36m135\u001b[0m - \u001b[34m\u001b[1mEnter ExcelWriter: mode = 'a'\u001b[0m\n",
      "\u001b[32m2025-08-03 23:24:50.611\u001b[0m | \u001b[34m\u001b[1mDEBUG   \u001b[0m | \u001b[36mexcel_writer\u001b[0m:\u001b[36mswitch_to_sheet\u001b[0m:\u001b[36m172\u001b[0m - \u001b[34m\u001b[1mSwitching to sheet: Sheet\u001b[0m\n",
      "\u001b[32m2025-08-03 23:24:50.647\u001b[0m | \u001b[34m\u001b[1mDEBUG   \u001b[0m | \u001b[36mexcel_writer\u001b[0m:\u001b[36m__exit__\u001b[0m:\u001b[36m149\u001b[0m - \u001b[34m\u001b[1mExit ExcelWriter\u001b[0m\n",
      "\u001b[32m2025-08-03 23:24:50.664\u001b[0m | \u001b[34m\u001b[1mDEBUG   \u001b[0m | \u001b[36mexcel_writer\u001b[0m:\u001b[36m__enter__\u001b[0m:\u001b[36m135\u001b[0m - \u001b[34m\u001b[1mEnter ExcelWriter: mode = 'a'\u001b[0m\n",
      "\u001b[32m2025-08-03 23:24:50.688\u001b[0m | \u001b[34m\u001b[1mDEBUG   \u001b[0m | \u001b[36mexcel_writer\u001b[0m:\u001b[36mswitch_to_sheet\u001b[0m:\u001b[36m172\u001b[0m - \u001b[34m\u001b[1mSwitching to sheet: Sheet\u001b[0m\n",
      "\u001b[32m2025-08-03 23:24:50.688\u001b[0m | \u001b[34m\u001b[1mDEBUG   \u001b[0m | \u001b[36mexcel_writer\u001b[0m:\u001b[36m_make_new_sheet\u001b[0m:\u001b[36m154\u001b[0m - \u001b[34m\u001b[1mCreating new sheet: Sheet2\u001b[0m\n",
      "\u001b[32m2025-08-03 23:24:50.689\u001b[0m | \u001b[34m\u001b[1mDEBUG   \u001b[0m | \u001b[36mexcel_writer\u001b[0m:\u001b[36mswitch_to_sheet\u001b[0m:\u001b[36m172\u001b[0m - \u001b[34m\u001b[1mSwitching to sheet: Sheet2\u001b[0m\n",
      "\u001b[32m2025-08-03 23:24:50.689\u001b[0m | \u001b[34m\u001b[1mDEBUG   \u001b[0m | \u001b[36mexcel_writer\u001b[0m:\u001b[36m__exit__\u001b[0m:\u001b[36m149\u001b[0m - \u001b[34m\u001b[1mExit ExcelWriter\u001b[0m\n",
      "\u001b[32m2025-08-03 23:24:50.701\u001b[0m | \u001b[34m\u001b[1mDEBUG   \u001b[0m | \u001b[36mexcel_writer\u001b[0m:\u001b[36mnew_func\u001b[0m:\u001b[36m60\u001b[0m - \u001b[34m\u001b[1mWriting item on Sheet2 at R1, C1\u001b[0m\n",
      "\u001b[32m2025-08-03 23:24:50.702\u001b[0m | \u001b[34m\u001b[1mDEBUG   \u001b[0m | \u001b[36mexcel_writer\u001b[0m:\u001b[36m__enter__\u001b[0m:\u001b[36m135\u001b[0m - \u001b[34m\u001b[1mEnter ExcelWriter: mode = 'a'\u001b[0m\n",
      "\u001b[32m2025-08-03 23:24:50.727\u001b[0m | \u001b[34m\u001b[1mDEBUG   \u001b[0m | \u001b[36mexcel_writer\u001b[0m:\u001b[36mswitch_to_sheet\u001b[0m:\u001b[36m172\u001b[0m - \u001b[34m\u001b[1mSwitching to sheet: Sheet2\u001b[0m\n",
      "\u001b[32m2025-08-03 23:24:50.731\u001b[0m | \u001b[34m\u001b[1mDEBUG   \u001b[0m | \u001b[36mexcel_writer\u001b[0m:\u001b[36m__exit__\u001b[0m:\u001b[36m149\u001b[0m - \u001b[34m\u001b[1mExit ExcelWriter\u001b[0m\n",
      "\u001b[32m2025-08-03 23:24:50.745\u001b[0m | \u001b[34m\u001b[1mDEBUG   \u001b[0m | \u001b[36mexcel_writer\u001b[0m:\u001b[36mnew_func\u001b[0m:\u001b[36m60\u001b[0m - \u001b[34m\u001b[1mWriting item on Sheet2 at R1, C19\u001b[0m\n",
      "\u001b[32m2025-08-03 23:24:50.746\u001b[0m | \u001b[34m\u001b[1mDEBUG   \u001b[0m | \u001b[36mexcel_writer\u001b[0m:\u001b[36m__enter__\u001b[0m:\u001b[36m135\u001b[0m - \u001b[34m\u001b[1mEnter ExcelWriter: mode = 'a'\u001b[0m\n",
      "\u001b[32m2025-08-03 23:24:50.775\u001b[0m | \u001b[34m\u001b[1mDEBUG   \u001b[0m | \u001b[36mexcel_writer\u001b[0m:\u001b[36mswitch_to_sheet\u001b[0m:\u001b[36m172\u001b[0m - \u001b[34m\u001b[1mSwitching to sheet: Sheet2\u001b[0m\n",
      "\u001b[32m2025-08-03 23:24:50.805\u001b[0m | \u001b[34m\u001b[1mDEBUG   \u001b[0m | \u001b[36mexcel_writer\u001b[0m:\u001b[36m__exit__\u001b[0m:\u001b[36m149\u001b[0m - \u001b[34m\u001b[1mExit ExcelWriter\u001b[0m\n",
      "\u001b[32m2025-08-03 23:24:50.836\u001b[0m | \u001b[34m\u001b[1mDEBUG   \u001b[0m | \u001b[36mexcel_writer\u001b[0m:\u001b[36mnew_func\u001b[0m:\u001b[36m60\u001b[0m - \u001b[34m\u001b[1mWriting item on Sheet2 at R34, C1\u001b[0m\n",
      "\u001b[32m2025-08-03 23:24:50.837\u001b[0m | \u001b[34m\u001b[1mDEBUG   \u001b[0m | \u001b[36mexcel_writer\u001b[0m:\u001b[36m__enter__\u001b[0m:\u001b[36m135\u001b[0m - \u001b[34m\u001b[1mEnter ExcelWriter: mode = 'a'\u001b[0m\n",
      "\u001b[32m2025-08-03 23:24:50.869\u001b[0m | \u001b[34m\u001b[1mDEBUG   \u001b[0m | \u001b[36mexcel_writer\u001b[0m:\u001b[36mswitch_to_sheet\u001b[0m:\u001b[36m172\u001b[0m - \u001b[34m\u001b[1mSwitching to sheet: Sheet2\u001b[0m\n",
      "\u001b[32m2025-08-03 23:24:50.871\u001b[0m | \u001b[34m\u001b[1mDEBUG   \u001b[0m | \u001b[36mexcel_writer\u001b[0m:\u001b[36m__exit__\u001b[0m:\u001b[36m149\u001b[0m - \u001b[34m\u001b[1mExit ExcelWriter\u001b[0m\n",
      "\u001b[32m2025-08-03 23:24:50.901\u001b[0m | \u001b[34m\u001b[1mDEBUG   \u001b[0m | \u001b[36mexcel_writer\u001b[0m:\u001b[36mnew_func\u001b[0m:\u001b[36m60\u001b[0m - \u001b[34m\u001b[1mWriting item on Sheet2 at R34, C8\u001b[0m\n",
      "\u001b[32m2025-08-03 23:24:50.902\u001b[0m | \u001b[34m\u001b[1mDEBUG   \u001b[0m | \u001b[36mexcel_writer\u001b[0m:\u001b[36m__enter__\u001b[0m:\u001b[36m135\u001b[0m - \u001b[34m\u001b[1mEnter ExcelWriter: mode = 'a'\u001b[0m\n",
      "\u001b[32m2025-08-03 23:24:50.928\u001b[0m | \u001b[34m\u001b[1mDEBUG   \u001b[0m | \u001b[36mexcel_writer\u001b[0m:\u001b[36mswitch_to_sheet\u001b[0m:\u001b[36m172\u001b[0m - \u001b[34m\u001b[1mSwitching to sheet: Sheet2\u001b[0m\n",
      "\u001b[32m2025-08-03 23:24:50.959\u001b[0m | \u001b[34m\u001b[1mDEBUG   \u001b[0m | \u001b[36mexcel_writer\u001b[0m:\u001b[36m__exit__\u001b[0m:\u001b[36m149\u001b[0m - \u001b[34m\u001b[1mExit ExcelWriter\u001b[0m\n",
      "\u001b[32m2025-08-03 23:24:50.985\u001b[0m | \u001b[34m\u001b[1mDEBUG   \u001b[0m | \u001b[36mexcel_writer\u001b[0m:\u001b[36m__enter__\u001b[0m:\u001b[36m135\u001b[0m - \u001b[34m\u001b[1mEnter ExcelWriter: mode = 'a'\u001b[0m\n",
      "\u001b[32m2025-08-03 23:24:51.018\u001b[0m | \u001b[34m\u001b[1mDEBUG   \u001b[0m | \u001b[36mexcel_writer\u001b[0m:\u001b[36mswitch_to_sheet\u001b[0m:\u001b[36m172\u001b[0m - \u001b[34m\u001b[1mSwitching to sheet: Sheet2\u001b[0m\n",
      "\u001b[32m2025-08-03 23:24:51.019\u001b[0m | \u001b[34m\u001b[1mDEBUG   \u001b[0m | \u001b[36mexcel_writer\u001b[0m:\u001b[36m_make_new_sheet\u001b[0m:\u001b[36m154\u001b[0m - \u001b[34m\u001b[1mCreating new sheet: Sheet3\u001b[0m\n",
      "\u001b[32m2025-08-03 23:24:51.020\u001b[0m | \u001b[34m\u001b[1mDEBUG   \u001b[0m | \u001b[36mexcel_writer\u001b[0m:\u001b[36mswitch_to_sheet\u001b[0m:\u001b[36m172\u001b[0m - \u001b[34m\u001b[1mSwitching to sheet: Sheet3\u001b[0m\n",
      "\u001b[32m2025-08-03 23:24:51.020\u001b[0m | \u001b[34m\u001b[1mDEBUG   \u001b[0m | \u001b[36mexcel_writer\u001b[0m:\u001b[36m__exit__\u001b[0m:\u001b[36m149\u001b[0m - \u001b[34m\u001b[1mExit ExcelWriter\u001b[0m\n"
     ]
    },
    {
     "data": {
      "text/plain": [
       "ExcelWriter(file_path='output\\test_ew_2.xlsx', mode = w, sheet_name=Sheet3), cur_row=1, cur_col=1, distance_bw_contents=2)"
      ]
     },
     "execution_count": 11,
     "metadata": {},
     "output_type": "execute_result"
    }
   ],
   "source": [
    "ew = ExcelWriter(file_path=Path(\"output/test_ew_2.xlsx\"))\n",
    "ew.write_df(tbl0, title=\"Table 0: Head of DataFrame\")\n",
    "ew.write_df(tbl, title=\"Table 1: Grouped DataFrame\")\n",
    "ew.write_fig(fig2, title=\"Figure 0: Bar plot of Survived Rate by Class and something else\", location=\"right\")\n",
    "ew.write_df(tbl2, title=\"Table 2: Pivoted DataFrame\", location=\"right\")\n",
    "ew.write_fig(fig, title=\"Figure 1: Histogram of Age\")\n",
    "\n",
    "ew.switch_to_sheet(\"Sheet2\", create_if_not_exists=True)\n",
    "ew.write_df(tbl0, title=\"Table 3: Head of DataFrame\")\n",
    "ew.write_fig(fig, title=\"Figure 2 : Histogram of Age\", location=\"right\")\n",
    "ew.write_df(tbl, title=\"Table 4: Grouped DataFrame\")\n",
    "ew.write_fig(fig, title=\"Figure 3 : Histogram of Age\", location=\"right\")\n",
    "\n",
    "ew.switch_to_sheet(\"Sheet3\", create_if_not_exists=True)"
   ]
  },
  {
   "cell_type": "markdown",
   "metadata": {},
   "source": [
    "### writing df to excel"
   ]
  },
  {
   "cell_type": "code",
   "execution_count": null,
   "metadata": {},
   "outputs": [],
   "source": [
    "# # write df to a sheet top left in Excel file\n",
    "# with pd.ExcelWriter(\"output/output0.xlsx\") as writer:\n",
    "#     tbl.to_excel(writer, sheet_name=\"table 1\", index=False)"
   ]
  },
  {
   "cell_type": "markdown",
   "metadata": {},
   "source": [
    "### writing plots to Excel"
   ]
  },
  {
   "cell_type": "code",
   "execution_count": null,
   "metadata": {},
   "outputs": [],
   "source": [
    "# import io\n",
    "# from openpyxl.drawing.image import Image as XLImage\n",
    "\n",
    "# def fig_to_img(fig):\n",
    "#     buf = io.BytesIO()\n",
    "#     fig.savefig(buf, format='png')\n",
    "#     buf.seek(0)\n",
    "#     img = XLImage(buf)\n",
    "#     return img"
   ]
  },
  {
   "cell_type": "code",
   "execution_count": null,
   "metadata": {},
   "outputs": [],
   "source": [
    "# fig.get_size_inches()\n",
    "# # 6inch, 30 r\n",
    "# rows_per_inch = 5\n",
    "# # 12inch, 19 c\n",
    "# cols_per_inch = 1.6"
   ]
  },
  {
   "cell_type": "code",
   "execution_count": null,
   "metadata": {},
   "outputs": [],
   "source": [
    "# # write a plot to a sheet in Excel file\n",
    "# import openpyxl\n",
    "\n",
    "# def ref_from_rc(row, col):\n",
    "#     return openpyxl.utils.get_column_letter(col) + str(row)\n",
    "\n",
    "# wb = openpyxl.Workbook()\n",
    "# wb.create_sheet(\"plots\")\n",
    "# wb.remove(wb[\"Sheet\"])\n",
    "\n",
    "# fig_height = int(fig.get_size_inches()[1] * rows_per_inch)\n",
    "# fig_width = int(fig.get_size_inches()[0] * cols_per_inch)\n",
    "# distance_bw_plots = 2\n",
    "\n",
    "# cur_row, cur_col =1,1\n",
    "# wb[\"plots\"].cell(row=cur_row, column=cur_col, value=\"Plot 1: Histogram of Age\")\n",
    "# cur_row += 1\n",
    "# wb[\"plots\"].add_image(fig_to_img(fig), ref_from_rc(cur_row,cur_col))\n",
    "\n",
    "# cur_row += fig_height + distance_bw_plots\n",
    "# wb[\"plots\"].cell(row=cur_row, column=cur_col, value=\"Plot 2: Histogram of Age\")\n",
    "# cur_row += 1\n",
    "# wb[\"plots\"].add_image(fig_to_img(fig), ref_from_rc(cur_row,cur_col))\n",
    "\n",
    "# wb.save(\"output/plot_example.xlsx\")"
   ]
  },
  {
   "cell_type": "markdown",
   "metadata": {},
   "source": [
    "### write text"
   ]
  },
  {
   "cell_type": "code",
   "execution_count": null,
   "metadata": {},
   "outputs": [],
   "source": []
  },
  {
   "cell_type": "code",
   "execution_count": null,
   "metadata": {},
   "outputs": [],
   "source": []
  }
 ],
 "metadata": {
  "kernelspec": {
   "display_name": "Python 3",
   "language": "python",
   "name": "python3"
  },
  "language_info": {
   "codemirror_mode": {
    "name": "ipython",
    "version": 3
   },
   "file_extension": ".py",
   "mimetype": "text/x-python",
   "name": "python",
   "nbconvert_exporter": "python",
   "pygments_lexer": "ipython3",
   "version": "3.13.2"
  }
 },
 "nbformat": 4,
 "nbformat_minor": 2
}
