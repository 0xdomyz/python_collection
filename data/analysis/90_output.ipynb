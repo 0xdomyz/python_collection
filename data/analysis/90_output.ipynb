{
 "cells": [
  {
   "cell_type": "code",
   "execution_count": 1,
   "metadata": {},
   "outputs": [],
   "source": [
    "import pandas as pd"
   ]
  },
  {
   "cell_type": "code",
   "execution_count": 3,
   "metadata": {},
   "outputs": [
    {
     "data": {
      "text/html": [
       "<div>\n",
       "<style scoped>\n",
       "    .dataframe tbody tr th:only-of-type {\n",
       "        vertical-align: middle;\n",
       "    }\n",
       "\n",
       "    .dataframe tbody tr th {\n",
       "        vertical-align: top;\n",
       "    }\n",
       "\n",
       "    .dataframe thead th {\n",
       "        text-align: right;\n",
       "    }\n",
       "</style>\n",
       "<table border=\"1\" class=\"dataframe\">\n",
       "  <thead>\n",
       "    <tr style=\"text-align: right;\">\n",
       "      <th></th>\n",
       "      <th>A</th>\n",
       "      <th>B</th>\n",
       "      <th>C</th>\n",
       "    </tr>\n",
       "  </thead>\n",
       "  <tbody>\n",
       "    <tr>\n",
       "      <th>0</th>\n",
       "      <td>1.606687</td>\n",
       "      <td>-0.592937</td>\n",
       "      <td>-0.333606</td>\n",
       "    </tr>\n",
       "    <tr>\n",
       "      <th>1</th>\n",
       "      <td>-1.306918</td>\n",
       "      <td>2.504540</td>\n",
       "      <td>-0.915892</td>\n",
       "    </tr>\n",
       "    <tr>\n",
       "      <th>2</th>\n",
       "      <td>-1.645197</td>\n",
       "      <td>-0.655435</td>\n",
       "      <td>-0.451916</td>\n",
       "    </tr>\n",
       "    <tr>\n",
       "      <th>3</th>\n",
       "      <td>-1.106023</td>\n",
       "      <td>0.998995</td>\n",
       "      <td>0.051905</td>\n",
       "    </tr>\n",
       "    <tr>\n",
       "      <th>4</th>\n",
       "      <td>0.127527</td>\n",
       "      <td>-1.072797</td>\n",
       "      <td>0.612099</td>\n",
       "    </tr>\n",
       "  </tbody>\n",
       "</table>\n",
       "</div>"
      ],
      "text/plain": [
       "          A         B         C\n",
       "0  1.606687 -0.592937 -0.333606\n",
       "1 -1.306918  2.504540 -0.915892\n",
       "2 -1.645197 -0.655435 -0.451916\n",
       "3 -1.106023  0.998995  0.051905\n",
       "4  0.127527 -1.072797  0.612099"
      ]
     },
     "execution_count": 3,
     "metadata": {},
     "output_type": "execute_result"
    }
   ],
   "source": [
    "# read complex Excel file\n",
    "# skip the first 10 rows, read the next 5 rows, and use the columns from 'B' to 'D'\n",
    "df = pd.read_excel(\n",
    "    r\"excel_table.xlsx\",\n",
    "    sheet_name=\"Sheet1\",\n",
    "    skiprows=range(1, 2),\n",
    "    nrows=5,\n",
    "    usecols=\"B:D\",\n",
    ")\n",
    "df"
   ]
  },
  {
   "cell_type": "code",
   "execution_count": 5,
   "metadata": {},
   "outputs": [],
   "source": [
    "# write 2 df to 2 sheets in same Excel file\n",
    "df2 = df.assign(B=df[\"B\"] * 2).rename(columns={\"B\": \"B2\"})\n",
    "\n",
    "with pd.ExcelWriter(\"output.xlsx\") as writer:\n",
    "    df.to_excel(writer, sheet_name=\"Sheet1\", index=False)\n",
    "    df2.to_excel(writer, sheet_name=\"Sheet2\", index=False)"
   ]
  },
  {
   "cell_type": "code",
   "execution_count": null,
   "metadata": {},
   "outputs": [],
   "source": []
  },
  {
   "cell_type": "code",
   "execution_count": null,
   "metadata": {},
   "outputs": [],
   "source": [
    "import pandas as pd\n",
    "\n",
    "# Example DataFrame for table1\n",
    "table1 = pd.DataFrame({\n",
    "    \"ID\": [1, 2, 3],\n",
    "    \"Name\": [\"Alice\", \"Bob\", \"Charlie\"],\n",
    "    \"Amount\": [100, 200, 150]\n",
    "})\n",
    "\n",
    "# Example DataFrame for table2\n",
    "table2 = pd.DataFrame({\n",
    "    \"OrderID\": [101, 102],\n",
    "    \"Product\": [\"Widget\", \"Gadget\"],\n",
    "    \"Quantity\": [5, 10]\n",
    "})\n",
    "\n",
    "# Example DataFrame for table3\n",
    "table3 = pd.DataFrame({\n",
    "    \"OrderID\": [201, 202],\n",
    "    \"Status\": [\"Shipped\", \"Pending\"],\n",
    "    \"Date\": [\"2025-06-01\", \"2025-06-02\"]\n",
    "})\n",
    "\n",
    "# Example DataFrame for table4\n",
    "table4 = pd.DataFrame({\n",
    "    \"LoanID\": [301, 302, 303],\n",
    "    \"Customer\": [\"Dave\", \"Eve\", \"Frank\"],\n",
    "    \"Balance\": [1000, 1500, 1200]\n",
    "})\n",
    "\n",
    "# Example output path\n",
    "out_excel_path = \"example_output.xlsx\"\n",
    "# ...existing code...\n",
    "from pandas import ExcelWriter\n",
    "from openpyxl import Workbook\n",
    "from openpyxl.styles import Border, Side\n",
    "\n",
    "with ExcelWriter(out_excel_path, engine=\"openpyxl\", mode=\"w\") as writer:\n",
    "    table1.to_excel(writer, sheet_name=\"table1\", index=False)\n",
    "    table2.to_excel(writer, sheet_name=\"table2\", index=False)\n",
    "    table3.to_excel(writer, sheet_name=\"table3\", index=False)\n",
    "    table4.to_excel(writer, sheet_name=\"table4\", index=False)\n",
    "\n",
    "    # Remove header borders for all sheets\n",
    "    workbook = writer.book\n",
    "    for sheet_name in [\"table1\", \"table2\", \"table3\", \"table4\"]:\n",
    "        ws = workbook[sheet_name]\n",
    "        for cell in ws[1]:  # First row (header)\n",
    "            cell.border = Border(left=Side(border_style=None),\n",
    "                                right=Side(border_style=None),\n",
    "                                top=Side(border_style=None),\n",
    "                                bottom=Side(border_style=None))\n",
    "# ...existing code..."
   ]
  }
 ],
 "metadata": {
  "kernelspec": {
   "display_name": "Python 3",
   "language": "python",
   "name": "python3"
  },
  "language_info": {
   "codemirror_mode": {
    "name": "ipython",
    "version": 3
   },
   "file_extension": ".py",
   "mimetype": "text/x-python",
   "name": "python",
   "nbconvert_exporter": "python",
   "pygments_lexer": "ipython3",
   "version": "3.12.1"
  }
 },
 "nbformat": 4,
 "nbformat_minor": 2
}
