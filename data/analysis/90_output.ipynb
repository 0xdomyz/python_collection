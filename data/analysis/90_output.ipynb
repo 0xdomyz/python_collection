{
 "cells": [
  {
   "cell_type": "code",
   "execution_count": 1,
   "metadata": {},
   "outputs": [],
   "source": [
    "import matplotlib.pyplot as plt\n",
    "import matplotlib as mpl\n",
    "import numpy as np\n",
    "import pandas as pd\n",
    "import statsmodels.api as sm\n",
    "from scipy import stats"
   ]
  },
  {
   "cell_type": "markdown",
   "metadata": {},
   "source": [
    "### example data"
   ]
  },
  {
   "cell_type": "code",
   "execution_count": 2,
   "metadata": {},
   "outputs": [
    {
     "data": {
      "text/plain": [
       "(891, 15)"
      ]
     },
     "execution_count": 2,
     "metadata": {},
     "output_type": "execute_result"
    }
   ],
   "source": [
    "df = pd.read_csv('titanic.csv')\n",
    "df.shape"
   ]
  },
  {
   "cell_type": "code",
   "execution_count": 3,
   "metadata": {},
   "outputs": [
    {
     "data": {
      "application/vnd.microsoft.datawrangler.viewer.v0+json": {
       "columns": [
        {
         "name": "index",
         "rawType": "int64",
         "type": "integer"
        },
        {
         "name": "survived",
         "rawType": "int64",
         "type": "integer"
        },
        {
         "name": "pclass",
         "rawType": "int64",
         "type": "integer"
        },
        {
         "name": "sex",
         "rawType": "object",
         "type": "string"
        },
        {
         "name": "age",
         "rawType": "float64",
         "type": "float"
        },
        {
         "name": "sibsp",
         "rawType": "int64",
         "type": "integer"
        },
        {
         "name": "parch",
         "rawType": "int64",
         "type": "integer"
        },
        {
         "name": "fare",
         "rawType": "float64",
         "type": "float"
        },
        {
         "name": "embarked",
         "rawType": "object",
         "type": "string"
        },
        {
         "name": "class",
         "rawType": "object",
         "type": "string"
        },
        {
         "name": "who",
         "rawType": "object",
         "type": "string"
        },
        {
         "name": "adult_male",
         "rawType": "bool",
         "type": "boolean"
        },
        {
         "name": "deck",
         "rawType": "object",
         "type": "unknown"
        },
        {
         "name": "embark_town",
         "rawType": "object",
         "type": "string"
        },
        {
         "name": "alive",
         "rawType": "object",
         "type": "string"
        },
        {
         "name": "alone",
         "rawType": "bool",
         "type": "boolean"
        }
       ],
       "ref": "57d59e0e-b2c7-48a7-aaff-4fb7883b9cb9",
       "rows": [
        [
         "0",
         "0",
         "3",
         "male",
         "22.0",
         "1",
         "0",
         "7.25",
         "S",
         "Third",
         "man",
         "True",
         null,
         "Southampton",
         "no",
         "False"
        ],
        [
         "1",
         "1",
         "1",
         "female",
         "38.0",
         "1",
         "0",
         "71.2833",
         "C",
         "First",
         "woman",
         "False",
         "C",
         "Cherbourg",
         "yes",
         "False"
        ],
        [
         "2",
         "1",
         "3",
         "female",
         "26.0",
         "0",
         "0",
         "7.925",
         "S",
         "Third",
         "woman",
         "False",
         null,
         "Southampton",
         "yes",
         "True"
        ],
        [
         "3",
         "1",
         "1",
         "female",
         "35.0",
         "1",
         "0",
         "53.1",
         "S",
         "First",
         "woman",
         "False",
         "C",
         "Southampton",
         "yes",
         "False"
        ],
        [
         "4",
         "0",
         "3",
         "male",
         "35.0",
         "0",
         "0",
         "8.05",
         "S",
         "Third",
         "man",
         "True",
         null,
         "Southampton",
         "no",
         "True"
        ]
       ],
       "shape": {
        "columns": 15,
        "rows": 5
       }
      },
      "text/html": [
       "<div>\n",
       "<style scoped>\n",
       "    .dataframe tbody tr th:only-of-type {\n",
       "        vertical-align: middle;\n",
       "    }\n",
       "\n",
       "    .dataframe tbody tr th {\n",
       "        vertical-align: top;\n",
       "    }\n",
       "\n",
       "    .dataframe thead th {\n",
       "        text-align: right;\n",
       "    }\n",
       "</style>\n",
       "<table border=\"1\" class=\"dataframe\">\n",
       "  <thead>\n",
       "    <tr style=\"text-align: right;\">\n",
       "      <th></th>\n",
       "      <th>survived</th>\n",
       "      <th>pclass</th>\n",
       "      <th>sex</th>\n",
       "      <th>age</th>\n",
       "      <th>sibsp</th>\n",
       "      <th>parch</th>\n",
       "      <th>fare</th>\n",
       "      <th>embarked</th>\n",
       "      <th>class</th>\n",
       "      <th>who</th>\n",
       "      <th>adult_male</th>\n",
       "      <th>deck</th>\n",
       "      <th>embark_town</th>\n",
       "      <th>alive</th>\n",
       "      <th>alone</th>\n",
       "    </tr>\n",
       "  </thead>\n",
       "  <tbody>\n",
       "    <tr>\n",
       "      <th>0</th>\n",
       "      <td>0</td>\n",
       "      <td>3</td>\n",
       "      <td>male</td>\n",
       "      <td>22.0</td>\n",
       "      <td>1</td>\n",
       "      <td>0</td>\n",
       "      <td>7.2500</td>\n",
       "      <td>S</td>\n",
       "      <td>Third</td>\n",
       "      <td>man</td>\n",
       "      <td>True</td>\n",
       "      <td>NaN</td>\n",
       "      <td>Southampton</td>\n",
       "      <td>no</td>\n",
       "      <td>False</td>\n",
       "    </tr>\n",
       "    <tr>\n",
       "      <th>1</th>\n",
       "      <td>1</td>\n",
       "      <td>1</td>\n",
       "      <td>female</td>\n",
       "      <td>38.0</td>\n",
       "      <td>1</td>\n",
       "      <td>0</td>\n",
       "      <td>71.2833</td>\n",
       "      <td>C</td>\n",
       "      <td>First</td>\n",
       "      <td>woman</td>\n",
       "      <td>False</td>\n",
       "      <td>C</td>\n",
       "      <td>Cherbourg</td>\n",
       "      <td>yes</td>\n",
       "      <td>False</td>\n",
       "    </tr>\n",
       "    <tr>\n",
       "      <th>2</th>\n",
       "      <td>1</td>\n",
       "      <td>3</td>\n",
       "      <td>female</td>\n",
       "      <td>26.0</td>\n",
       "      <td>0</td>\n",
       "      <td>0</td>\n",
       "      <td>7.9250</td>\n",
       "      <td>S</td>\n",
       "      <td>Third</td>\n",
       "      <td>woman</td>\n",
       "      <td>False</td>\n",
       "      <td>NaN</td>\n",
       "      <td>Southampton</td>\n",
       "      <td>yes</td>\n",
       "      <td>True</td>\n",
       "    </tr>\n",
       "    <tr>\n",
       "      <th>3</th>\n",
       "      <td>1</td>\n",
       "      <td>1</td>\n",
       "      <td>female</td>\n",
       "      <td>35.0</td>\n",
       "      <td>1</td>\n",
       "      <td>0</td>\n",
       "      <td>53.1000</td>\n",
       "      <td>S</td>\n",
       "      <td>First</td>\n",
       "      <td>woman</td>\n",
       "      <td>False</td>\n",
       "      <td>C</td>\n",
       "      <td>Southampton</td>\n",
       "      <td>yes</td>\n",
       "      <td>False</td>\n",
       "    </tr>\n",
       "    <tr>\n",
       "      <th>4</th>\n",
       "      <td>0</td>\n",
       "      <td>3</td>\n",
       "      <td>male</td>\n",
       "      <td>35.0</td>\n",
       "      <td>0</td>\n",
       "      <td>0</td>\n",
       "      <td>8.0500</td>\n",
       "      <td>S</td>\n",
       "      <td>Third</td>\n",
       "      <td>man</td>\n",
       "      <td>True</td>\n",
       "      <td>NaN</td>\n",
       "      <td>Southampton</td>\n",
       "      <td>no</td>\n",
       "      <td>True</td>\n",
       "    </tr>\n",
       "  </tbody>\n",
       "</table>\n",
       "</div>"
      ],
      "text/plain": [
       "   survived  pclass     sex   age  sibsp  parch     fare embarked  class  \\\n",
       "0         0       3    male  22.0      1      0   7.2500        S  Third   \n",
       "1         1       1  female  38.0      1      0  71.2833        C  First   \n",
       "2         1       3  female  26.0      0      0   7.9250        S  Third   \n",
       "3         1       1  female  35.0      1      0  53.1000        S  First   \n",
       "4         0       3    male  35.0      0      0   8.0500        S  Third   \n",
       "\n",
       "     who  adult_male deck  embark_town alive  alone  \n",
       "0    man        True  NaN  Southampton    no  False  \n",
       "1  woman       False    C    Cherbourg   yes  False  \n",
       "2  woman       False  NaN  Southampton   yes   True  \n",
       "3  woman       False    C  Southampton   yes  False  \n",
       "4    man        True  NaN  Southampton    no   True  "
      ]
     },
     "execution_count": 3,
     "metadata": {},
     "output_type": "execute_result"
    }
   ],
   "source": [
    "tbl0 = df.head(5)\n",
    "tbl0"
   ]
  },
  {
   "cell_type": "code",
   "execution_count": 4,
   "metadata": {},
   "outputs": [
    {
     "data": {
      "text/plain": [
       "<Axes: ylabel='Frequency'>"
      ]
     },
     "execution_count": 4,
     "metadata": {},
     "output_type": "execute_result"
    },
    {
     "data": {
      "image/png": "[encoded data removed]",
      "text/plain": [
       "<Figure size 1200x600 with 1 Axes>"
      ]
     },
     "metadata": {},
     "output_type": "display_data"
    }
   ],
   "source": [
    "fig, ax = plt.subplots(1, 1, figsize=(12, 6))\n",
    "df.plot(kind=\"hist\", y=\"age\", bins=20, edgecolor=\"black\", ax = ax)"
   ]
  },
  {
   "cell_type": "code",
   "execution_count": 5,
   "metadata": {},
   "outputs": [
    {
     "data": {
      "application/vnd.microsoft.datawrangler.viewer.v0+json": {
       "columns": [
        {
         "name": "index",
         "rawType": "int64",
         "type": "integer"
        },
        {
         "name": "sex",
         "rawType": "object",
         "type": "string"
        },
        {
         "name": "class",
         "rawType": "object",
         "type": "string"
        },
        {
         "name": "n",
         "rawType": "int64",
         "type": "integer"
        },
        {
         "name": "survived_rate",
         "rawType": "float64",
         "type": "float"
        }
       ],
       "ref": "6244d6db-5d6c-4c12-a5cc-bbf978e89ccb",
       "rows": [
        [
         "0",
         "female",
         "First",
         "94",
         "0.9680851063829787"
        ],
        [
         "1",
         "female",
         "Second",
         "76",
         "0.9210526315789473"
        ],
        [
         "2",
         "female",
         "Third",
         "144",
         "0.5"
        ],
        [
         "3",
         "male",
         "First",
         "122",
         "0.36885245901639346"
        ],
        [
         "4",
         "male",
         "Second",
         "108",
         "0.1574074074074074"
        ],
        [
         "5",
         "male",
         "Third",
         "347",
         "0.13544668587896252"
        ]
       ],
       "shape": {
        "columns": 4,
        "rows": 6
       }
      },
      "text/html": [
       "<div>\n",
       "<style scoped>\n",
       "    .dataframe tbody tr th:only-of-type {\n",
       "        vertical-align: middle;\n",
       "    }\n",
       "\n",
       "    .dataframe tbody tr th {\n",
       "        vertical-align: top;\n",
       "    }\n",
       "\n",
       "    .dataframe thead th {\n",
       "        text-align: right;\n",
       "    }\n",
       "</style>\n",
       "<table border=\"1\" class=\"dataframe\">\n",
       "  <thead>\n",
       "    <tr style=\"text-align: right;\">\n",
       "      <th></th>\n",
       "      <th>sex</th>\n",
       "      <th>class</th>\n",
       "      <th>n</th>\n",
       "      <th>survived_rate</th>\n",
       "    </tr>\n",
       "  </thead>\n",
       "  <tbody>\n",
       "    <tr>\n",
       "      <th>0</th>\n",
       "      <td>female</td>\n",
       "      <td>First</td>\n",
       "      <td>94</td>\n",
       "      <td>0.968085</td>\n",
       "    </tr>\n",
       "    <tr>\n",
       "      <th>1</th>\n",
       "      <td>female</td>\n",
       "      <td>Second</td>\n",
       "      <td>76</td>\n",
       "      <td>0.921053</td>\n",
       "    </tr>\n",
       "    <tr>\n",
       "      <th>2</th>\n",
       "      <td>female</td>\n",
       "      <td>Third</td>\n",
       "      <td>144</td>\n",
       "      <td>0.500000</td>\n",
       "    </tr>\n",
       "    <tr>\n",
       "      <th>3</th>\n",
       "      <td>male</td>\n",
       "      <td>First</td>\n",
       "      <td>122</td>\n",
       "      <td>0.368852</td>\n",
       "    </tr>\n",
       "    <tr>\n",
       "      <th>4</th>\n",
       "      <td>male</td>\n",
       "      <td>Second</td>\n",
       "      <td>108</td>\n",
       "      <td>0.157407</td>\n",
       "    </tr>\n",
       "    <tr>\n",
       "      <th>5</th>\n",
       "      <td>male</td>\n",
       "      <td>Third</td>\n",
       "      <td>347</td>\n",
       "      <td>0.135447</td>\n",
       "    </tr>\n",
       "  </tbody>\n",
       "</table>\n",
       "</div>"
      ],
      "text/plain": [
       "      sex   class    n  survived_rate\n",
       "0  female   First   94       0.968085\n",
       "1  female  Second   76       0.921053\n",
       "2  female   Third  144       0.500000\n",
       "3    male   First  122       0.368852\n",
       "4    male  Second  108       0.157407\n",
       "5    male   Third  347       0.135447"
      ]
     },
     "execution_count": 5,
     "metadata": {},
     "output_type": "execute_result"
    }
   ],
   "source": [
    "tbl: pd.DataFrame = df.groupby([\"sex\", \"class\"], dropna=False, observed=False).agg(\n",
    "    **{\n",
    "        \"n\": (\"sex\", \"size\"),\n",
    "        \"survived_rate\": (\"survived\", \"mean\"),\n",
    "    }\n",
    ").reset_index()\n",
    "tbl"
   ]
  },
  {
   "cell_type": "code",
   "execution_count": 6,
   "metadata": {},
   "outputs": [
    {
     "data": {
      "image/png": "[encoded data removed]",
      "text/plain": [
       "<Figure size 1200x600 with 1 Axes>"
      ]
     },
     "metadata": {},
     "output_type": "display_data"
    }
   ],
   "source": [
    "fig2, ax = plt.subplots(1, 1, figsize=(12, 6))\n",
    "\n",
    "classes = tbl['class'].unique()\n",
    "sexes = tbl['sex'].unique()\n",
    "x = np.arange(len(classes))  # the label locations\n",
    "width = 0.3  # width of the bars\n",
    "\n",
    "for i, sex in enumerate(sexes):\n",
    "    values = tbl[tbl['sex'] == sex].set_index('class').loc[classes, 'survived_rate']\n",
    "    ax.bar(x + i*width, values, width, label=sex)\n",
    "\n",
    "ax.set_xlabel('Class')\n",
    "ax.set_ylabel('Survived Rate')\n",
    "ax.set_title('Survived Rate by Class and Sex')\n",
    "ax.set_xticks(x + width/2)\n",
    "ax.set_xticklabels(classes)\n",
    "ax.legend(title='Sex')\n",
    "plt.show()"
   ]
  },
  {
   "cell_type": "code",
   "execution_count": 7,
   "metadata": {},
   "outputs": [
    {
     "data": {
      "application/vnd.microsoft.datawrangler.viewer.v0+json": {
       "columns": [
        {
         "name": "index",
         "rawType": "int64",
         "type": "integer"
        },
        {
         "name": "class",
         "rawType": "object",
         "type": "string"
        },
        {
         "name": "female",
         "rawType": "float64",
         "type": "float"
        },
        {
         "name": "male",
         "rawType": "float64",
         "type": "float"
        }
       ],
       "ref": "f1b16943-7e24-4868-988e-4eacb3e29fda",
       "rows": [
        [
         "0",
         "First",
         "0.968",
         "0.369"
        ],
        [
         "1",
         "Second",
         "0.921",
         "0.157"
        ],
        [
         "2",
         "Third",
         "0.5",
         "0.135"
        ]
       ],
       "shape": {
        "columns": 3,
        "rows": 3
       }
      },
      "text/html": [
       "<div>\n",
       "<style scoped>\n",
       "    .dataframe tbody tr th:only-of-type {\n",
       "        vertical-align: middle;\n",
       "    }\n",
       "\n",
       "    .dataframe tbody tr th {\n",
       "        vertical-align: top;\n",
       "    }\n",
       "\n",
       "    .dataframe thead th {\n",
       "        text-align: right;\n",
       "    }\n",
       "</style>\n",
       "<table border=\"1\" class=\"dataframe\">\n",
       "  <thead>\n",
       "    <tr style=\"text-align: right;\">\n",
       "      <th>sex</th>\n",
       "      <th>class</th>\n",
       "      <th>female</th>\n",
       "      <th>male</th>\n",
       "    </tr>\n",
       "  </thead>\n",
       "  <tbody>\n",
       "    <tr>\n",
       "      <th>0</th>\n",
       "      <td>First</td>\n",
       "      <td>0.968</td>\n",
       "      <td>0.369</td>\n",
       "    </tr>\n",
       "    <tr>\n",
       "      <th>1</th>\n",
       "      <td>Second</td>\n",
       "      <td>0.921</td>\n",
       "      <td>0.157</td>\n",
       "    </tr>\n",
       "    <tr>\n",
       "      <th>2</th>\n",
       "      <td>Third</td>\n",
       "      <td>0.500</td>\n",
       "      <td>0.135</td>\n",
       "    </tr>\n",
       "  </tbody>\n",
       "</table>\n",
       "</div>"
      ],
      "text/plain": [
       "sex   class  female   male\n",
       "0     First   0.968  0.369\n",
       "1    Second   0.921  0.157\n",
       "2     Third   0.500  0.135"
      ]
     },
     "execution_count": 7,
     "metadata": {},
     "output_type": "execute_result"
    }
   ],
   "source": [
    "tbl2 = tbl.pivot(\n",
    "    index = 'class',\n",
    "    columns = 'sex',\n",
    "    values = 'survived_rate'\n",
    ").reset_index().round(3)\n",
    "tbl2"
   ]
  },
  {
   "cell_type": "markdown",
   "metadata": {},
   "source": [
    "### writing df to excel"
   ]
  },
  {
   "cell_type": "code",
   "execution_count": 8,
   "metadata": {},
   "outputs": [],
   "source": [
    "from excel_writer import ExcelWriter\n",
    "from pathlib import Path"
   ]
  },
  {
   "cell_type": "code",
   "execution_count": 9,
   "metadata": {},
   "outputs": [
    {
     "name": "stderr",
     "output_type": "stream",
     "text": [
      "\u001b[32m2025-08-03 15:22:04.165\u001b[0m | \u001b[34m\u001b[1mDEBUG   \u001b[0m | \u001b[36mexcel_writer\u001b[0m:\u001b[36m__enter__\u001b[0m:\u001b[36m109\u001b[0m - \u001b[34m\u001b[1mEnter ExcelWriter: mode = 'w'\u001b[0m\n",
      "\u001b[32m2025-08-03 15:22:04.168\u001b[0m | \u001b[34m\u001b[1mDEBUG   \u001b[0m | \u001b[36mexcel_writer\u001b[0m:\u001b[36mswitch_to_sheet\u001b[0m:\u001b[36m142\u001b[0m - \u001b[34m\u001b[1mSheet Sheet does not exist, creating it.\u001b[0m\n",
      "\u001b[32m2025-08-03 15:22:04.169\u001b[0m | \u001b[34m\u001b[1mDEBUG   \u001b[0m | \u001b[36mexcel_writer\u001b[0m:\u001b[36m_make_new_sheet\u001b[0m:\u001b[36m128\u001b[0m - \u001b[34m\u001b[1mCreating new sheet: Sheet\u001b[0m\n",
      "\u001b[32m2025-08-03 15:22:04.170\u001b[0m | \u001b[34m\u001b[1mDEBUG   \u001b[0m | \u001b[36mexcel_writer\u001b[0m:\u001b[36mswitch_to_sheet\u001b[0m:\u001b[36m145\u001b[0m - \u001b[34m\u001b[1mSwitching to sheet: Sheet\u001b[0m\n",
      "\u001b[32m2025-08-03 15:22:04.171\u001b[0m | \u001b[34m\u001b[1mDEBUG   \u001b[0m | \u001b[36mexcel_writer\u001b[0m:\u001b[36m_reset_cursor\u001b[0m:\u001b[36m156\u001b[0m - \u001b[34m\u001b[1mResetting cursor to 1, 1\u001b[0m\n",
      "\u001b[32m2025-08-03 15:22:04.171\u001b[0m | \u001b[34m\u001b[1mDEBUG   \u001b[0m | \u001b[36mexcel_writer\u001b[0m:\u001b[36mwrite_df\u001b[0m:\u001b[36m163\u001b[0m - \u001b[34m\u001b[1mWriting Table 0: Head of DataFrame on Sheet at R1, C1\u001b[0m\n",
      "\u001b[32m2025-08-03 15:22:04.178\u001b[0m | \u001b[34m\u001b[1mDEBUG   \u001b[0m | \u001b[36mexcel_writer\u001b[0m:\u001b[36mwrite_df\u001b[0m:\u001b[36m163\u001b[0m - \u001b[34m\u001b[1mWriting Table 1: Grouped DataFrame on Sheet at R9, C1\u001b[0m\n",
      "\u001b[32m2025-08-03 15:22:04.180\u001b[0m | \u001b[34m\u001b[1mDEBUG   \u001b[0m | \u001b[36mexcel_writer\u001b[0m:\u001b[36mwrite_df\u001b[0m:\u001b[36m163\u001b[0m - \u001b[34m\u001b[1mWriting Table 2: Pivoted DataFrame on Sheet at R18, C1\u001b[0m\n",
      "\u001b[32m2025-08-03 15:22:04.181\u001b[0m | \u001b[34m\u001b[1mDEBUG   \u001b[0m | \u001b[36mexcel_writer\u001b[0m:\u001b[36mswitch_to_sheet\u001b[0m:\u001b[36m142\u001b[0m - \u001b[34m\u001b[1mSheet Sheet2 does not exist, creating it.\u001b[0m\n",
      "\u001b[32m2025-08-03 15:22:04.182\u001b[0m | \u001b[34m\u001b[1mDEBUG   \u001b[0m | \u001b[36mexcel_writer\u001b[0m:\u001b[36m_make_new_sheet\u001b[0m:\u001b[36m128\u001b[0m - \u001b[34m\u001b[1mCreating new sheet: Sheet2\u001b[0m\n",
      "\u001b[32m2025-08-03 15:22:04.183\u001b[0m | \u001b[34m\u001b[1mDEBUG   \u001b[0m | \u001b[36mexcel_writer\u001b[0m:\u001b[36mswitch_to_sheet\u001b[0m:\u001b[36m145\u001b[0m - \u001b[34m\u001b[1mSwitching to sheet: Sheet2\u001b[0m\n",
      "\u001b[32m2025-08-03 15:22:04.184\u001b[0m | \u001b[34m\u001b[1mDEBUG   \u001b[0m | \u001b[36mexcel_writer\u001b[0m:\u001b[36m_reset_cursor\u001b[0m:\u001b[36m156\u001b[0m - \u001b[34m\u001b[1mResetting cursor to 1, 1\u001b[0m\n",
      "\u001b[32m2025-08-03 15:22:04.184\u001b[0m | \u001b[34m\u001b[1mDEBUG   \u001b[0m | \u001b[36mexcel_writer\u001b[0m:\u001b[36mwrite_df\u001b[0m:\u001b[36m163\u001b[0m - \u001b[34m\u001b[1mWriting Table 0: Head of DataFrame on Sheet2 at R1, C1\u001b[0m\n",
      "\u001b[32m2025-08-03 15:22:04.187\u001b[0m | \u001b[34m\u001b[1mDEBUG   \u001b[0m | \u001b[36mexcel_writer\u001b[0m:\u001b[36mwrite_df\u001b[0m:\u001b[36m163\u001b[0m - \u001b[34m\u001b[1mWriting Table 1: Grouped DataFrame on Sheet2 at R9, C1\u001b[0m\n",
      "\u001b[32m2025-08-03 15:22:04.188\u001b[0m | \u001b[34m\u001b[1mDEBUG   \u001b[0m | \u001b[36mexcel_writer\u001b[0m:\u001b[36m__exit__\u001b[0m:\u001b[36m123\u001b[0m - \u001b[34m\u001b[1mExit ExcelWriter\u001b[0m\n"
     ]
    }
   ],
   "source": [
    "with ExcelWriter(file_path=Path(\"output/test.xlsx\")) as ew:\n",
    "    (\n",
    "        ew\n",
    "        .write_df(tbl0, title=\"Table 0: Head of DataFrame\")\n",
    "        .write_df(tbl, title=\"Table 1: Grouped DataFrame\")\n",
    "        .write_df(tbl2, title=\"Table 2: Pivoted DataFrame\")\n",
    "        .switch_to_sheet(\"Sheet2\", create_if_not_exists=True)\n",
    "        .write_df(tbl0, title=\"Table 0: Head of DataFrame\")\n",
    "        .write_df(tbl, title=\"Table 1: Grouped DataFrame\")\n",
    "    )\n"
   ]
  },
  {
   "cell_type": "code",
   "execution_count": 10,
   "metadata": {},
   "outputs": [
    {
     "name": "stderr",
     "output_type": "stream",
     "text": [
      "\u001b[32m2025-08-03 15:22:04.235\u001b[0m | \u001b[34m\u001b[1mDEBUG   \u001b[0m | \u001b[36mexcel_writer\u001b[0m:\u001b[36mnew_func\u001b[0m:\u001b[36m24\u001b[0m - \u001b[34m\u001b[1mExcelWriter is not open, opening it now for this method.\u001b[0m\n",
      "\u001b[32m2025-08-03 15:22:04.236\u001b[0m | \u001b[34m\u001b[1mDEBUG   \u001b[0m | \u001b[36mexcel_writer\u001b[0m:\u001b[36m__enter__\u001b[0m:\u001b[36m109\u001b[0m - \u001b[34m\u001b[1mEnter ExcelWriter: mode = 'w'\u001b[0m\n",
      "\u001b[32m2025-08-03 15:22:04.238\u001b[0m | \u001b[34m\u001b[1mDEBUG   \u001b[0m | \u001b[36mexcel_writer\u001b[0m:\u001b[36mswitch_to_sheet\u001b[0m:\u001b[36m142\u001b[0m - \u001b[34m\u001b[1mSheet Sheet does not exist, creating it.\u001b[0m\n",
      "\u001b[32m2025-08-03 15:22:04.238\u001b[0m | \u001b[34m\u001b[1mDEBUG   \u001b[0m | \u001b[36mexcel_writer\u001b[0m:\u001b[36m_make_new_sheet\u001b[0m:\u001b[36m128\u001b[0m - \u001b[34m\u001b[1mCreating new sheet: Sheet\u001b[0m\n",
      "\u001b[32m2025-08-03 15:22:04.239\u001b[0m | \u001b[34m\u001b[1mDEBUG   \u001b[0m | \u001b[36mexcel_writer\u001b[0m:\u001b[36mswitch_to_sheet\u001b[0m:\u001b[36m145\u001b[0m - \u001b[34m\u001b[1mSwitching to sheet: Sheet\u001b[0m\n",
      "\u001b[32m2025-08-03 15:22:04.240\u001b[0m | \u001b[34m\u001b[1mDEBUG   \u001b[0m | \u001b[36mexcel_writer\u001b[0m:\u001b[36m_reset_cursor\u001b[0m:\u001b[36m156\u001b[0m - \u001b[34m\u001b[1mResetting cursor to 1, 1\u001b[0m\n",
      "\u001b[32m2025-08-03 15:22:04.241\u001b[0m | \u001b[34m\u001b[1mDEBUG   \u001b[0m | \u001b[36mexcel_writer\u001b[0m:\u001b[36mwrite_df\u001b[0m:\u001b[36m163\u001b[0m - \u001b[34m\u001b[1mWriting Table 0: Head of DataFrame on Sheet at R1, C1\u001b[0m\n",
      "\u001b[32m2025-08-03 15:22:04.244\u001b[0m | \u001b[34m\u001b[1mDEBUG   \u001b[0m | \u001b[36mexcel_writer\u001b[0m:\u001b[36m__exit__\u001b[0m:\u001b[36m123\u001b[0m - \u001b[34m\u001b[1mExit ExcelWriter\u001b[0m\n"
     ]
    },
    {
     "data": {
      "text/plain": [
       "ExcelWriter(file_path='output\\test2.xlsx', mode = w, sheet_name=Sheet), cur_row=9, cur_col=1, distance_bw_contents=2)"
      ]
     },
     "execution_count": 10,
     "metadata": {},
     "output_type": "execute_result"
    }
   ],
   "source": [
    "ew = ExcelWriter(file_path=Path(\"output/test2.xlsx\"))\n",
    "ew.write_df(tbl0, title=\"Table 0: Head of DataFrame\")"
   ]
  },
  {
   "cell_type": "code",
   "execution_count": 11,
   "metadata": {},
   "outputs": [
    {
     "name": "stderr",
     "output_type": "stream",
     "text": [
      "\u001b[32m2025-08-03 15:22:04.265\u001b[0m | \u001b[34m\u001b[1mDEBUG   \u001b[0m | \u001b[36mexcel_writer\u001b[0m:\u001b[36mnew_func\u001b[0m:\u001b[36m24\u001b[0m - \u001b[34m\u001b[1mExcelWriter is not open, opening it now for this method.\u001b[0m\n",
      "\u001b[32m2025-08-03 15:22:04.266\u001b[0m | \u001b[34m\u001b[1mDEBUG   \u001b[0m | \u001b[36mexcel_writer\u001b[0m:\u001b[36m__enter__\u001b[0m:\u001b[36m109\u001b[0m - \u001b[34m\u001b[1mEnter ExcelWriter: mode = 'w'\u001b[0m\n",
      "\u001b[32m2025-08-03 15:22:04.268\u001b[0m | \u001b[34m\u001b[1mDEBUG   \u001b[0m | \u001b[36mexcel_writer\u001b[0m:\u001b[36mswitch_to_sheet\u001b[0m:\u001b[36m142\u001b[0m - \u001b[34m\u001b[1mSheet Sheet does not exist, creating it.\u001b[0m\n",
      "\u001b[32m2025-08-03 15:22:04.269\u001b[0m | \u001b[34m\u001b[1mDEBUG   \u001b[0m | \u001b[36mexcel_writer\u001b[0m:\u001b[36m_make_new_sheet\u001b[0m:\u001b[36m128\u001b[0m - \u001b[34m\u001b[1mCreating new sheet: Sheet\u001b[0m\n",
      "\u001b[32m2025-08-03 15:22:04.270\u001b[0m | \u001b[34m\u001b[1mDEBUG   \u001b[0m | \u001b[36mexcel_writer\u001b[0m:\u001b[36mswitch_to_sheet\u001b[0m:\u001b[36m145\u001b[0m - \u001b[34m\u001b[1mSwitching to sheet: Sheet\u001b[0m\n",
      "\u001b[32m2025-08-03 15:22:04.270\u001b[0m | \u001b[34m\u001b[1mDEBUG   \u001b[0m | \u001b[36mexcel_writer\u001b[0m:\u001b[36m_reset_cursor\u001b[0m:\u001b[36m156\u001b[0m - \u001b[34m\u001b[1mResetting cursor to 1, 1\u001b[0m\n",
      "\u001b[32m2025-08-03 15:22:04.271\u001b[0m | \u001b[34m\u001b[1mDEBUG   \u001b[0m | \u001b[36mexcel_writer\u001b[0m:\u001b[36mwrite_df\u001b[0m:\u001b[36m163\u001b[0m - \u001b[34m\u001b[1mWriting Table 0: Head of DataFrame on Sheet at R1, C1\u001b[0m\n",
      "\u001b[32m2025-08-03 15:22:04.272\u001b[0m | \u001b[34m\u001b[1mDEBUG   \u001b[0m | \u001b[36mexcel_writer\u001b[0m:\u001b[36m__exit__\u001b[0m:\u001b[36m123\u001b[0m - \u001b[34m\u001b[1mExit ExcelWriter\u001b[0m\n",
      "\u001b[32m2025-08-03 15:22:04.281\u001b[0m | \u001b[34m\u001b[1mDEBUG   \u001b[0m | \u001b[36mexcel_writer\u001b[0m:\u001b[36mnew_func\u001b[0m:\u001b[36m24\u001b[0m - \u001b[34m\u001b[1mExcelWriter is not open, opening it now for this method.\u001b[0m\n",
      "\u001b[32m2025-08-03 15:22:04.282\u001b[0m | \u001b[34m\u001b[1mDEBUG   \u001b[0m | \u001b[36mexcel_writer\u001b[0m:\u001b[36m__enter__\u001b[0m:\u001b[36m109\u001b[0m - \u001b[34m\u001b[1mEnter ExcelWriter: mode = 'a'\u001b[0m\n",
      "\u001b[32m2025-08-03 15:22:04.310\u001b[0m | \u001b[34m\u001b[1mDEBUG   \u001b[0m | \u001b[36mexcel_writer\u001b[0m:\u001b[36mswitch_to_sheet\u001b[0m:\u001b[36m145\u001b[0m - \u001b[34m\u001b[1mSwitching to sheet: Sheet\u001b[0m\n",
      "\u001b[32m2025-08-03 15:22:04.310\u001b[0m | \u001b[34m\u001b[1mDEBUG   \u001b[0m | \u001b[36mexcel_writer\u001b[0m:\u001b[36mwrite_df\u001b[0m:\u001b[36m163\u001b[0m - \u001b[34m\u001b[1mWriting Table 1: Grouped DataFrame on Sheet at R9, C1\u001b[0m\n",
      "\u001b[32m2025-08-03 15:22:04.312\u001b[0m | \u001b[34m\u001b[1mDEBUG   \u001b[0m | \u001b[36mexcel_writer\u001b[0m:\u001b[36m__exit__\u001b[0m:\u001b[36m123\u001b[0m - \u001b[34m\u001b[1mExit ExcelWriter\u001b[0m\n",
      "\u001b[32m2025-08-03 15:22:04.320\u001b[0m | \u001b[34m\u001b[1mDEBUG   \u001b[0m | \u001b[36mexcel_writer\u001b[0m:\u001b[36mnew_func\u001b[0m:\u001b[36m24\u001b[0m - \u001b[34m\u001b[1mExcelWriter is not open, opening it now for this method.\u001b[0m\n",
      "\u001b[32m2025-08-03 15:22:04.321\u001b[0m | \u001b[34m\u001b[1mDEBUG   \u001b[0m | \u001b[36mexcel_writer\u001b[0m:\u001b[36m__enter__\u001b[0m:\u001b[36m109\u001b[0m - \u001b[34m\u001b[1mEnter ExcelWriter: mode = 'a'\u001b[0m\n",
      "\u001b[32m2025-08-03 15:22:04.341\u001b[0m | \u001b[34m\u001b[1mDEBUG   \u001b[0m | \u001b[36mexcel_writer\u001b[0m:\u001b[36mswitch_to_sheet\u001b[0m:\u001b[36m145\u001b[0m - \u001b[34m\u001b[1mSwitching to sheet: Sheet\u001b[0m\n",
      "\u001b[32m2025-08-03 15:22:04.342\u001b[0m | \u001b[34m\u001b[1mDEBUG   \u001b[0m | \u001b[36mexcel_writer\u001b[0m:\u001b[36mwrite_df\u001b[0m:\u001b[36m163\u001b[0m - \u001b[34m\u001b[1mWriting Table 2: Pivoted DataFrame on Sheet at R18, C1\u001b[0m\n",
      "\u001b[32m2025-08-03 15:22:04.343\u001b[0m | \u001b[34m\u001b[1mDEBUG   \u001b[0m | \u001b[36mexcel_writer\u001b[0m:\u001b[36m__exit__\u001b[0m:\u001b[36m123\u001b[0m - \u001b[34m\u001b[1mExit ExcelWriter\u001b[0m\n",
      "\u001b[32m2025-08-03 15:22:04.349\u001b[0m | \u001b[34m\u001b[1mDEBUG   \u001b[0m | \u001b[36mexcel_writer\u001b[0m:\u001b[36mswitch_to_sheet\u001b[0m:\u001b[36m142\u001b[0m - \u001b[34m\u001b[1mSheet Sheet2 does not exist, creating it.\u001b[0m\n",
      "\u001b[32m2025-08-03 15:22:04.350\u001b[0m | \u001b[34m\u001b[1mDEBUG   \u001b[0m | \u001b[36mexcel_writer\u001b[0m:\u001b[36m_make_new_sheet\u001b[0m:\u001b[36m128\u001b[0m - \u001b[34m\u001b[1mCreating new sheet: Sheet2\u001b[0m\n",
      "\u001b[32m2025-08-03 15:22:04.351\u001b[0m | \u001b[34m\u001b[1mDEBUG   \u001b[0m | \u001b[36mexcel_writer\u001b[0m:\u001b[36mswitch_to_sheet\u001b[0m:\u001b[36m145\u001b[0m - \u001b[34m\u001b[1mSwitching to sheet: Sheet2\u001b[0m\n",
      "\u001b[32m2025-08-03 15:22:04.351\u001b[0m | \u001b[34m\u001b[1mDEBUG   \u001b[0m | \u001b[36mexcel_writer\u001b[0m:\u001b[36m_reset_cursor\u001b[0m:\u001b[36m156\u001b[0m - \u001b[34m\u001b[1mResetting cursor to 1, 1\u001b[0m\n",
      "\u001b[32m2025-08-03 15:22:04.352\u001b[0m | \u001b[34m\u001b[1mDEBUG   \u001b[0m | \u001b[36mexcel_writer\u001b[0m:\u001b[36mnew_func\u001b[0m:\u001b[36m24\u001b[0m - \u001b[34m\u001b[1mExcelWriter is not open, opening it now for this method.\u001b[0m\n",
      "\u001b[32m2025-08-03 15:22:04.353\u001b[0m | \u001b[34m\u001b[1mDEBUG   \u001b[0m | \u001b[36mexcel_writer\u001b[0m:\u001b[36m__enter__\u001b[0m:\u001b[36m109\u001b[0m - \u001b[34m\u001b[1mEnter ExcelWriter: mode = 'a'\u001b[0m\n",
      "\u001b[32m2025-08-03 15:22:04.377\u001b[0m | \u001b[34m\u001b[1mDEBUG   \u001b[0m | \u001b[36mexcel_writer\u001b[0m:\u001b[36mswitch_to_sheet\u001b[0m:\u001b[36m142\u001b[0m - \u001b[34m\u001b[1mSheet Sheet2 does not exist, creating it.\u001b[0m\n",
      "\u001b[32m2025-08-03 15:22:04.377\u001b[0m | \u001b[34m\u001b[1mDEBUG   \u001b[0m | \u001b[36mexcel_writer\u001b[0m:\u001b[36m_make_new_sheet\u001b[0m:\u001b[36m128\u001b[0m - \u001b[34m\u001b[1mCreating new sheet: Sheet2\u001b[0m\n",
      "\u001b[32m2025-08-03 15:22:04.378\u001b[0m | \u001b[34m\u001b[1mDEBUG   \u001b[0m | \u001b[36mexcel_writer\u001b[0m:\u001b[36mswitch_to_sheet\u001b[0m:\u001b[36m145\u001b[0m - \u001b[34m\u001b[1mSwitching to sheet: Sheet2\u001b[0m\n",
      "\u001b[32m2025-08-03 15:22:04.378\u001b[0m | \u001b[34m\u001b[1mDEBUG   \u001b[0m | \u001b[36mexcel_writer\u001b[0m:\u001b[36mwrite_df\u001b[0m:\u001b[36m163\u001b[0m - \u001b[34m\u001b[1mWriting Table 0: Head of DataFrame on Sheet2 at R1, C1\u001b[0m\n",
      "\u001b[32m2025-08-03 15:22:04.381\u001b[0m | \u001b[34m\u001b[1mDEBUG   \u001b[0m | \u001b[36mexcel_writer\u001b[0m:\u001b[36m__exit__\u001b[0m:\u001b[36m123\u001b[0m - \u001b[34m\u001b[1mExit ExcelWriter\u001b[0m\n",
      "\u001b[32m2025-08-03 15:22:04.391\u001b[0m | \u001b[34m\u001b[1mDEBUG   \u001b[0m | \u001b[36mexcel_writer\u001b[0m:\u001b[36mnew_func\u001b[0m:\u001b[36m24\u001b[0m - \u001b[34m\u001b[1mExcelWriter is not open, opening it now for this method.\u001b[0m\n",
      "\u001b[32m2025-08-03 15:22:04.392\u001b[0m | \u001b[34m\u001b[1mDEBUG   \u001b[0m | \u001b[36mexcel_writer\u001b[0m:\u001b[36m__enter__\u001b[0m:\u001b[36m109\u001b[0m - \u001b[34m\u001b[1mEnter ExcelWriter: mode = 'a'\u001b[0m\n",
      "\u001b[32m2025-08-03 15:22:04.413\u001b[0m | \u001b[34m\u001b[1mDEBUG   \u001b[0m | \u001b[36mexcel_writer\u001b[0m:\u001b[36mswitch_to_sheet\u001b[0m:\u001b[36m145\u001b[0m - \u001b[34m\u001b[1mSwitching to sheet: Sheet2\u001b[0m\n",
      "\u001b[32m2025-08-03 15:22:04.414\u001b[0m | \u001b[34m\u001b[1mDEBUG   \u001b[0m | \u001b[36mexcel_writer\u001b[0m:\u001b[36mwrite_df\u001b[0m:\u001b[36m163\u001b[0m - \u001b[34m\u001b[1mWriting Table 1: Grouped DataFrame on Sheet2 at R9, C1\u001b[0m\n",
      "\u001b[32m2025-08-03 15:22:04.416\u001b[0m | \u001b[34m\u001b[1mDEBUG   \u001b[0m | \u001b[36mexcel_writer\u001b[0m:\u001b[36m__exit__\u001b[0m:\u001b[36m123\u001b[0m - \u001b[34m\u001b[1mExit ExcelWriter\u001b[0m\n"
     ]
    },
    {
     "data": {
      "text/plain": [
       "ExcelWriter(file_path='output\\test3.xlsx', mode = w, sheet_name=Sheet2), cur_row=18, cur_col=1, distance_bw_contents=2)"
      ]
     },
     "execution_count": 11,
     "metadata": {},
     "output_type": "execute_result"
    }
   ],
   "source": [
    "ew = ExcelWriter(file_path=Path(\"output/test3.xlsx\"))\n",
    "ew.write_df(tbl0, title=\"Table 0: Head of DataFrame\")\n",
    "ew.write_df(tbl, title=\"Table 1: Grouped DataFrame\")\n",
    "ew.write_df(tbl2, title=\"Table 2: Pivoted DataFrame\")\n",
    "ew.switch_to_sheet(\"Sheet2\", create_if_not_exists=True)\n",
    "ew.write_df(tbl0, title=\"Table 0: Head of DataFrame\")\n",
    "ew.write_df(tbl, title=\"Table 1: Grouped DataFrame\")\n"
   ]
  },
  {
   "cell_type": "code",
   "execution_count": 12,
   "metadata": {},
   "outputs": [],
   "source": [
    "# # write df to a sheet top left in Excel file\n",
    "# with pd.ExcelWriter(\"output/output0.xlsx\") as writer:\n",
    "#     tbl.to_excel(writer, sheet_name=\"table 1\", index=False)"
   ]
  },
  {
   "cell_type": "markdown",
   "metadata": {},
   "source": [
    "### writing plots to Excel"
   ]
  },
  {
   "cell_type": "code",
   "execution_count": 14,
   "metadata": {},
   "outputs": [
    {
     "name": "stderr",
     "output_type": "stream",
     "text": [
      "\u001b[32m2025-08-03 15:22:21.315\u001b[0m | \u001b[34m\u001b[1mDEBUG   \u001b[0m | \u001b[36mexcel_writer\u001b[0m:\u001b[36m__enter__\u001b[0m:\u001b[36m109\u001b[0m - \u001b[34m\u001b[1mEnter ExcelWriter: mode = 'w'\u001b[0m\n",
      "\u001b[32m2025-08-03 15:22:21.317\u001b[0m | \u001b[34m\u001b[1mDEBUG   \u001b[0m | \u001b[36mexcel_writer\u001b[0m:\u001b[36mswitch_to_sheet\u001b[0m:\u001b[36m142\u001b[0m - \u001b[34m\u001b[1mSheet Sheet does not exist, creating it.\u001b[0m\n",
      "\u001b[32m2025-08-03 15:22:21.317\u001b[0m | \u001b[34m\u001b[1mDEBUG   \u001b[0m | \u001b[36mexcel_writer\u001b[0m:\u001b[36m_make_new_sheet\u001b[0m:\u001b[36m128\u001b[0m - \u001b[34m\u001b[1mCreating new sheet: Sheet\u001b[0m\n",
      "\u001b[32m2025-08-03 15:22:21.318\u001b[0m | \u001b[34m\u001b[1mDEBUG   \u001b[0m | \u001b[36mexcel_writer\u001b[0m:\u001b[36mswitch_to_sheet\u001b[0m:\u001b[36m145\u001b[0m - \u001b[34m\u001b[1mSwitching to sheet: Sheet\u001b[0m\n",
      "\u001b[32m2025-08-03 15:22:21.319\u001b[0m | \u001b[34m\u001b[1mDEBUG   \u001b[0m | \u001b[36mexcel_writer\u001b[0m:\u001b[36m_reset_cursor\u001b[0m:\u001b[36m156\u001b[0m - \u001b[34m\u001b[1mResetting cursor to 1, 1\u001b[0m\n",
      "\u001b[32m2025-08-03 15:22:21.394\u001b[0m | \u001b[34m\u001b[1mDEBUG   \u001b[0m | \u001b[36mexcel_writer\u001b[0m:\u001b[36mswitch_to_sheet\u001b[0m:\u001b[36m142\u001b[0m - \u001b[34m\u001b[1mSheet Sheet2 does not exist, creating it.\u001b[0m\n",
      "\u001b[32m2025-08-03 15:22:21.395\u001b[0m | \u001b[34m\u001b[1mDEBUG   \u001b[0m | \u001b[36mexcel_writer\u001b[0m:\u001b[36m_make_new_sheet\u001b[0m:\u001b[36m128\u001b[0m - \u001b[34m\u001b[1mCreating new sheet: Sheet2\u001b[0m\n",
      "\u001b[32m2025-08-03 15:22:21.396\u001b[0m | \u001b[34m\u001b[1mDEBUG   \u001b[0m | \u001b[36mexcel_writer\u001b[0m:\u001b[36mswitch_to_sheet\u001b[0m:\u001b[36m145\u001b[0m - \u001b[34m\u001b[1mSwitching to sheet: Sheet2\u001b[0m\n",
      "\u001b[32m2025-08-03 15:22:21.396\u001b[0m | \u001b[34m\u001b[1mDEBUG   \u001b[0m | \u001b[36mexcel_writer\u001b[0m:\u001b[36m_reset_cursor\u001b[0m:\u001b[36m156\u001b[0m - \u001b[34m\u001b[1mResetting cursor to 1, 1\u001b[0m\n",
      "\u001b[32m2025-08-03 15:22:21.423\u001b[0m | \u001b[34m\u001b[1mDEBUG   \u001b[0m | \u001b[36mexcel_writer\u001b[0m:\u001b[36m__exit__\u001b[0m:\u001b[36m123\u001b[0m - \u001b[34m\u001b[1mExit ExcelWriter\u001b[0m\n"
     ]
    }
   ],
   "source": [
    "with ExcelWriter(file_path=Path(\"output/plot.xlsx\")) as ew:\n",
    "    (\n",
    "        ew\n",
    "        .write_plot(fig, title=\"Figure 0: Head of DataFrame\")\n",
    "        .write_plot(fig, title=\"Figure 1: Grouped DataFrame\")\n",
    "        .switch_to_sheet(\"Sheet2\", create_if_not_exists=True)\n",
    "        .write_plot(fig, title=\"Figure 0: Head of DataFrame\")\n",
    "    )\n"
   ]
  },
  {
   "cell_type": "code",
   "execution_count": 15,
   "metadata": {},
   "outputs": [
    {
     "name": "stderr",
     "output_type": "stream",
     "text": [
      "\u001b[32m2025-08-03 15:23:46.117\u001b[0m | \u001b[34m\u001b[1mDEBUG   \u001b[0m | \u001b[36mexcel_writer\u001b[0m:\u001b[36mnew_func\u001b[0m:\u001b[36m24\u001b[0m - \u001b[34m\u001b[1mExcelWriter is not open, opening it now for this method.\u001b[0m\n",
      "\u001b[32m2025-08-03 15:23:46.118\u001b[0m | \u001b[34m\u001b[1mDEBUG   \u001b[0m | \u001b[36mexcel_writer\u001b[0m:\u001b[36m__enter__\u001b[0m:\u001b[36m107\u001b[0m - \u001b[34m\u001b[1mFile output\\plot2.xlsx does not exist, force mode w.\u001b[0m\n",
      "\u001b[32m2025-08-03 15:23:46.118\u001b[0m | \u001b[34m\u001b[1mDEBUG   \u001b[0m | \u001b[36mexcel_writer\u001b[0m:\u001b[36m__enter__\u001b[0m:\u001b[36m109\u001b[0m - \u001b[34m\u001b[1mEnter ExcelWriter: mode = 'w'\u001b[0m\n",
      "\u001b[32m2025-08-03 15:23:46.120\u001b[0m | \u001b[34m\u001b[1mDEBUG   \u001b[0m | \u001b[36mexcel_writer\u001b[0m:\u001b[36mswitch_to_sheet\u001b[0m:\u001b[36m142\u001b[0m - \u001b[34m\u001b[1mSheet Sheet does not exist, creating it.\u001b[0m\n",
      "\u001b[32m2025-08-03 15:23:46.121\u001b[0m | \u001b[34m\u001b[1mDEBUG   \u001b[0m | \u001b[36mexcel_writer\u001b[0m:\u001b[36m_make_new_sheet\u001b[0m:\u001b[36m128\u001b[0m - \u001b[34m\u001b[1mCreating new sheet: Sheet\u001b[0m\n",
      "\u001b[32m2025-08-03 15:23:46.122\u001b[0m | \u001b[34m\u001b[1mDEBUG   \u001b[0m | \u001b[36mexcel_writer\u001b[0m:\u001b[36mswitch_to_sheet\u001b[0m:\u001b[36m145\u001b[0m - \u001b[34m\u001b[1mSwitching to sheet: Sheet\u001b[0m\n",
      "\u001b[32m2025-08-03 15:23:46.123\u001b[0m | \u001b[34m\u001b[1mDEBUG   \u001b[0m | \u001b[36mexcel_writer\u001b[0m:\u001b[36m_reset_cursor\u001b[0m:\u001b[36m156\u001b[0m - \u001b[34m\u001b[1mResetting cursor to 1, 1\u001b[0m\n",
      "\u001b[32m2025-08-03 15:23:46.158\u001b[0m | \u001b[34m\u001b[1mDEBUG   \u001b[0m | \u001b[36mexcel_writer\u001b[0m:\u001b[36m__exit__\u001b[0m:\u001b[36m123\u001b[0m - \u001b[34m\u001b[1mExit ExcelWriter\u001b[0m\n",
      "\u001b[32m2025-08-03 15:23:46.168\u001b[0m | \u001b[34m\u001b[1mDEBUG   \u001b[0m | \u001b[36mexcel_writer\u001b[0m:\u001b[36mnew_func\u001b[0m:\u001b[36m24\u001b[0m - \u001b[34m\u001b[1mExcelWriter is not open, opening it now for this method.\u001b[0m\n",
      "\u001b[32m2025-08-03 15:23:46.169\u001b[0m | \u001b[34m\u001b[1mDEBUG   \u001b[0m | \u001b[36mexcel_writer\u001b[0m:\u001b[36m__enter__\u001b[0m:\u001b[36m109\u001b[0m - \u001b[34m\u001b[1mEnter ExcelWriter: mode = 'a'\u001b[0m\n",
      "\u001b[32m2025-08-03 15:23:46.202\u001b[0m | \u001b[34m\u001b[1mDEBUG   \u001b[0m | \u001b[36mexcel_writer\u001b[0m:\u001b[36mswitch_to_sheet\u001b[0m:\u001b[36m145\u001b[0m - \u001b[34m\u001b[1mSwitching to sheet: Sheet\u001b[0m\n",
      "\u001b[32m2025-08-03 15:23:46.241\u001b[0m | \u001b[34m\u001b[1mDEBUG   \u001b[0m | \u001b[36mexcel_writer\u001b[0m:\u001b[36m__exit__\u001b[0m:\u001b[36m123\u001b[0m - \u001b[34m\u001b[1mExit ExcelWriter\u001b[0m\n",
      "\u001b[32m2025-08-03 15:23:46.250\u001b[0m | \u001b[34m\u001b[1mDEBUG   \u001b[0m | \u001b[36mexcel_writer\u001b[0m:\u001b[36mswitch_to_sheet\u001b[0m:\u001b[36m142\u001b[0m - \u001b[34m\u001b[1mSheet Sheet2 does not exist, creating it.\u001b[0m\n",
      "\u001b[32m2025-08-03 15:23:46.251\u001b[0m | \u001b[34m\u001b[1mDEBUG   \u001b[0m | \u001b[36mexcel_writer\u001b[0m:\u001b[36m_make_new_sheet\u001b[0m:\u001b[36m128\u001b[0m - \u001b[34m\u001b[1mCreating new sheet: Sheet2\u001b[0m\n",
      "\u001b[32m2025-08-03 15:23:46.252\u001b[0m | \u001b[34m\u001b[1mDEBUG   \u001b[0m | \u001b[36mexcel_writer\u001b[0m:\u001b[36mswitch_to_sheet\u001b[0m:\u001b[36m145\u001b[0m - \u001b[34m\u001b[1mSwitching to sheet: Sheet2\u001b[0m\n",
      "\u001b[32m2025-08-03 15:23:46.252\u001b[0m | \u001b[34m\u001b[1mDEBUG   \u001b[0m | \u001b[36mexcel_writer\u001b[0m:\u001b[36m_reset_cursor\u001b[0m:\u001b[36m156\u001b[0m - \u001b[34m\u001b[1mResetting cursor to 1, 1\u001b[0m\n",
      "\u001b[32m2025-08-03 15:23:46.253\u001b[0m | \u001b[34m\u001b[1mDEBUG   \u001b[0m | \u001b[36mexcel_writer\u001b[0m:\u001b[36mnew_func\u001b[0m:\u001b[36m24\u001b[0m - \u001b[34m\u001b[1mExcelWriter is not open, opening it now for this method.\u001b[0m\n",
      "\u001b[32m2025-08-03 15:23:46.253\u001b[0m | \u001b[34m\u001b[1mDEBUG   \u001b[0m | \u001b[36mexcel_writer\u001b[0m:\u001b[36m__enter__\u001b[0m:\u001b[36m109\u001b[0m - \u001b[34m\u001b[1mEnter ExcelWriter: mode = 'a'\u001b[0m\n",
      "\u001b[32m2025-08-03 15:23:46.278\u001b[0m | \u001b[34m\u001b[1mDEBUG   \u001b[0m | \u001b[36mexcel_writer\u001b[0m:\u001b[36mswitch_to_sheet\u001b[0m:\u001b[36m142\u001b[0m - \u001b[34m\u001b[1mSheet Sheet2 does not exist, creating it.\u001b[0m\n",
      "\u001b[32m2025-08-03 15:23:46.279\u001b[0m | \u001b[34m\u001b[1mDEBUG   \u001b[0m | \u001b[36mexcel_writer\u001b[0m:\u001b[36m_make_new_sheet\u001b[0m:\u001b[36m128\u001b[0m - \u001b[34m\u001b[1mCreating new sheet: Sheet2\u001b[0m\n",
      "\u001b[32m2025-08-03 15:23:46.280\u001b[0m | \u001b[34m\u001b[1mDEBUG   \u001b[0m | \u001b[36mexcel_writer\u001b[0m:\u001b[36mswitch_to_sheet\u001b[0m:\u001b[36m145\u001b[0m - \u001b[34m\u001b[1mSwitching to sheet: Sheet2\u001b[0m\n",
      "\u001b[32m2025-08-03 15:23:46.314\u001b[0m | \u001b[34m\u001b[1mDEBUG   \u001b[0m | \u001b[36mexcel_writer\u001b[0m:\u001b[36m__exit__\u001b[0m:\u001b[36m123\u001b[0m - \u001b[34m\u001b[1mExit ExcelWriter\u001b[0m\n"
     ]
    },
    {
     "data": {
      "text/plain": [
       "ExcelWriter(file_path='output\\plot2.xlsx', mode = w, sheet_name=Sheet2), cur_row=34, cur_col=1, distance_bw_contents=2)"
      ]
     },
     "execution_count": 15,
     "metadata": {},
     "output_type": "execute_result"
    }
   ],
   "source": [
    "ew = ExcelWriter(file_path=Path(\"output/plot2.xlsx\"))\n",
    "ew.write_plot(fig, title=\"Figure 0: Head of DataFrame\")\n",
    "ew.write_plot(fig, title=\"Figure 1: Grouped DataFrame\")\n",
    "ew.switch_to_sheet(\"Sheet2\", create_if_not_exists=True)\n",
    "ew.write_plot(fig, title=\"Figure 0: Head of DataFrame\")"
   ]
  },
  {
   "cell_type": "code",
   "execution_count": null,
   "metadata": {},
   "outputs": [],
   "source": [
    "# import io\n",
    "# from openpyxl.drawing.image import Image as XLImage\n",
    "\n",
    "# def fig_to_img(fig):\n",
    "#     buf = io.BytesIO()\n",
    "#     fig.savefig(buf, format='png')\n",
    "#     buf.seek(0)\n",
    "#     img = XLImage(buf)\n",
    "#     return img"
   ]
  },
  {
   "cell_type": "code",
   "execution_count": null,
   "metadata": {},
   "outputs": [],
   "source": [
    "# fig.get_size_inches()\n",
    "# # 6inch, 30 r\n",
    "# rows_per_inch = 5\n",
    "# # 12inch, 19 c\n",
    "# cols_per_inch = 1.6"
   ]
  },
  {
   "cell_type": "code",
   "execution_count": null,
   "metadata": {},
   "outputs": [],
   "source": [
    "# # write a plot to a sheet in Excel file\n",
    "# import openpyxl\n",
    "\n",
    "# def ref_from_rc(row, col):\n",
    "#     return openpyxl.utils.get_column_letter(col) + str(row)\n",
    "\n",
    "# wb = openpyxl.Workbook()\n",
    "# wb.create_sheet(\"plots\")\n",
    "# wb.remove(wb[\"Sheet\"])\n",
    "\n",
    "# fig_height = int(fig.get_size_inches()[1] * rows_per_inch)\n",
    "# fig_width = int(fig.get_size_inches()[0] * cols_per_inch)\n",
    "# distance_bw_plots = 2\n",
    "\n",
    "# cur_row, cur_col =1,1\n",
    "# wb[\"plots\"].cell(row=cur_row, column=cur_col, value=\"Plot 1: Histogram of Age\")\n",
    "# cur_row += 1\n",
    "# wb[\"plots\"].add_image(fig_to_img(fig), ref_from_rc(cur_row,cur_col))\n",
    "\n",
    "# cur_row += fig_height + distance_bw_plots\n",
    "# wb[\"plots\"].cell(row=cur_row, column=cur_col, value=\"Plot 2: Histogram of Age\")\n",
    "# cur_row += 1\n",
    "# wb[\"plots\"].add_image(fig_to_img(fig), ref_from_rc(cur_row,cur_col))\n",
    "\n",
    "# wb.save(\"output/plot_example.xlsx\")"
   ]
  },
  {
   "cell_type": "markdown",
   "metadata": {},
   "source": [
    "### write text"
   ]
  },
  {
   "cell_type": "code",
   "execution_count": null,
   "metadata": {},
   "outputs": [],
   "source": []
  },
  {
   "cell_type": "code",
   "execution_count": null,
   "metadata": {},
   "outputs": [],
   "source": []
  }
 ],
 "metadata": {
  "kernelspec": {
   "display_name": "Python 3",
   "language": "python",
   "name": "python3"
  },
  "language_info": {
   "codemirror_mode": {
    "name": "ipython",
    "version": 3
   },
   "file_extension": ".py",
   "mimetype": "text/x-python",
   "name": "python",
   "nbconvert_exporter": "python",
   "pygments_lexer": "ipython3",
   "version": "3.13.2"
  }
 },
 "nbformat": 4,
 "nbformat_minor": 2
}
