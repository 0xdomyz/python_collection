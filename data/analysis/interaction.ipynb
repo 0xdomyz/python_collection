{
 "cells": [
  {
   "cell_type": "code",
   "execution_count": 1,
   "metadata": {},
   "outputs": [],
   "source": [
    "import matplotlib.pyplot as plt\n",
    "import numpy as np\n",
    "import pandas as pd\n",
    "import statsmodels.api as sm\n",
    "from scipy import stats"
   ]
  },
  {
   "cell_type": "code",
   "execution_count": 2,
   "metadata": {},
   "outputs": [],
   "source": [
    "def calculate_signal(df, col, target_col):\n",
    "\n",
    "    _ =df.groupby(col,dropna=False, observed=0).agg(\n",
    "        count=(target_col,np.size),\n",
    "        signal=(target_col,\"sum\")\n",
    "    )\n",
    "    _.rename(columns={\"signal\":target_col},inplace=True)\n",
    "    _[\"count_pct\"] = _[\"count\"].div(_[\"count\"].sum()).mul(100)\n",
    "    _[f\"{target_col}_pct\"] = _[f\"{target_col}\"].div(_[f\"{target_col}\"].sum()).mul(100)\n",
    "    _[f\"{target_col}_rate\"] = _[f\"{target_col}\"].div(_[\"count\"]).mul(100)\n",
    "\n",
    "    return _"
   ]
  },
  {
   "cell_type": "code",
   "execution_count": 3,
   "metadata": {},
   "outputs": [],
   "source": [
    "def plot_bar_and_line(df, target_col, rotation=0):\n",
    "\n",
    "    _ = df\n",
    "    fig, ax = plt.subplots(1,2, figsize=(15,5))\n",
    "    x_ticks = _.index.astype(str)\n",
    "    title = f\"Histogram & {target_col} of {_.index.name}\"\n",
    "\n",
    "    def func(ax, word):\n",
    "\n",
    "        ax.bar(x_ticks, _[word])\n",
    "        ax.set_xticks(x_ticks)\n",
    "        ax.set_xticklabels(x_ticks, rotation=rotation)\n",
    "        ax.set_xlabel(_.index.name)\n",
    "        ax.set_ylabel(word, loc=\"center\")\n",
    "        ax.set_title(title)\n",
    "\n",
    "        ax2 = ax.twinx()\n",
    "        ax2.plot(x_ticks, _[target_col], color='red')\n",
    "        ax2.set_ylabel(target_col, loc=\"bottom\")\n",
    "\n",
    "    func(ax[0], \"count\")\n",
    "    func(ax[1], \"count_pct\")\n",
    "\n",
    "    plt.show()\n"
   ]
  },
  {
   "cell_type": "markdown",
   "metadata": {},
   "source": [
    "### calcs"
   ]
  },
  {
   "cell_type": "code",
   "execution_count": 4,
   "metadata": {},
   "outputs": [
    {
     "name": "stdout",
     "output_type": "stream",
     "text": [
      "(891, 15)\n"
     ]
    },
    {
     "data": {
      "text/html": [
       "<div>\n",
       "<style scoped>\n",
       "    .dataframe tbody tr th:only-of-type {\n",
       "        vertical-align: middle;\n",
       "    }\n",
       "\n",
       "    .dataframe tbody tr th {\n",
       "        vertical-align: top;\n",
       "    }\n",
       "\n",
       "    .dataframe thead th {\n",
       "        text-align: right;\n",
       "    }\n",
       "</style>\n",
       "<table border=\"1\" class=\"dataframe\">\n",
       "  <thead>\n",
       "    <tr style=\"text-align: right;\">\n",
       "      <th></th>\n",
       "      <th>survived</th>\n",
       "      <th>pclass</th>\n",
       "      <th>sex</th>\n",
       "      <th>age</th>\n",
       "      <th>sibsp</th>\n",
       "      <th>parch</th>\n",
       "      <th>fare</th>\n",
       "      <th>embarked</th>\n",
       "      <th>class</th>\n",
       "      <th>who</th>\n",
       "      <th>adult_male</th>\n",
       "      <th>deck</th>\n",
       "      <th>embark_town</th>\n",
       "      <th>alive</th>\n",
       "      <th>alone</th>\n",
       "    </tr>\n",
       "  </thead>\n",
       "  <tbody>\n",
       "    <tr>\n",
       "      <th>0</th>\n",
       "      <td>0</td>\n",
       "      <td>3</td>\n",
       "      <td>male</td>\n",
       "      <td>22.0</td>\n",
       "      <td>1</td>\n",
       "      <td>0</td>\n",
       "      <td>7.25</td>\n",
       "      <td>S</td>\n",
       "      <td>Third</td>\n",
       "      <td>man</td>\n",
       "      <td>True</td>\n",
       "      <td>NaN</td>\n",
       "      <td>Southampton</td>\n",
       "      <td>no</td>\n",
       "      <td>False</td>\n",
       "    </tr>\n",
       "  </tbody>\n",
       "</table>\n",
       "</div>"
      ],
      "text/plain": [
       "   survived  pclass   sex   age  sibsp  parch  fare embarked  class  who  \\\n",
       "0         0       3  male  22.0      1      0  7.25        S  Third  man   \n",
       "\n",
       "   adult_male deck  embark_town alive  alone  \n",
       "0        True  NaN  Southampton    no  False  "
      ]
     },
     "execution_count": 4,
     "metadata": {},
     "output_type": "execute_result"
    }
   ],
   "source": [
    "df = pd.read_csv('../toydata/titanic.csv')\n",
    "print(f\"{df.shape}\")\n",
    "df.head(1)"
   ]
  },
  {
   "cell_type": "code",
   "execution_count": 41,
   "metadata": {},
   "outputs": [],
   "source": [
    "edges = [0,20,40,100]\n",
    "df[\"age_binned\"] = pd.cut(df[\"age\"], bins=edges, right=False)\n",
    "edges = [0,10,50,100,600]\n",
    "df[\"fare_binned\"] = pd.cut(df[\"fare\"], bins=edges, right=False)\n",
    "\n",
    "df[\"age_fare_binned\"] = df[\"age_binned\"].astype(str) + \"_\" + df[\"fare_binned\"].astype(str)\n",
    "\n",
    "_ = calculate_signal(df, target_col = \"survived\", col = \"age_fare_binned\")\n",
    "_[\"age_binned\"] = [i for i,j in _.index.str.split(\"_\")]\n",
    "_[\"fare_binned\"] = [j for i,j in _.index.str.split(\"_\")]\n"
   ]
  },
  {
   "cell_type": "code",
   "execution_count": 73,
   "metadata": {},
   "outputs": [
    {
     "data": {
      "text/html": [
       "<style type=\"text/css\">\n",
       "#T_5e0b1_row0_col2, #T_5e0b1_row0_col3, #T_5e0b1_row2_col2, #T_5e0b1_row3_col2, #T_5e0b1_row3_col3 {\n",
       "  background-color: darkred;\n",
       "}\n",
       "</style>\n",
       "<table id=\"T_5e0b1\">\n",
       "  <thead>\n",
       "    <tr>\n",
       "      <th class=\"index_name level0\" >fare_binned</th>\n",
       "      <th id=\"T_5e0b1_level0_col0\" class=\"col_heading level0 col0\" >[0, 10)</th>\n",
       "      <th id=\"T_5e0b1_level0_col1\" class=\"col_heading level0 col1\" >[10, 50)</th>\n",
       "      <th id=\"T_5e0b1_level0_col2\" class=\"col_heading level0 col2\" >[100, 600)</th>\n",
       "      <th id=\"T_5e0b1_level0_col3\" class=\"col_heading level0 col3\" >[50, 100)</th>\n",
       "    </tr>\n",
       "    <tr>\n",
       "      <th class=\"index_name level0\" >age_binned</th>\n",
       "      <th class=\"blank col0\" >&nbsp;</th>\n",
       "      <th class=\"blank col1\" >&nbsp;</th>\n",
       "      <th class=\"blank col2\" >&nbsp;</th>\n",
       "      <th class=\"blank col3\" >&nbsp;</th>\n",
       "    </tr>\n",
       "  </thead>\n",
       "  <tbody>\n",
       "    <tr>\n",
       "      <th id=\"T_5e0b1_level0_row0\" class=\"row_heading level0 row0\" >[0, 20)</th>\n",
       "      <td id=\"T_5e0b1_row0_col0\" class=\"data row0 col0\" >44</td>\n",
       "      <td id=\"T_5e0b1_row0_col1\" class=\"data row0 col1\" >101</td>\n",
       "      <td id=\"T_5e0b1_row0_col2\" class=\"data row0 col2\" >11</td>\n",
       "      <td id=\"T_5e0b1_row0_col3\" class=\"data row0 col3\" >8</td>\n",
       "    </tr>\n",
       "    <tr>\n",
       "      <th id=\"T_5e0b1_level0_row1\" class=\"row_heading level0 row1\" >[20, 40)</th>\n",
       "      <td id=\"T_5e0b1_row1_col0\" class=\"data row1 col0\" >158</td>\n",
       "      <td id=\"T_5e0b1_row1_col1\" class=\"data row1 col1\" >157</td>\n",
       "      <td id=\"T_5e0b1_row1_col2\" class=\"data row1 col2\" >23</td>\n",
       "      <td id=\"T_5e0b1_row1_col3\" class=\"data row1 col3\" >49</td>\n",
       "    </tr>\n",
       "    <tr>\n",
       "      <th id=\"T_5e0b1_level0_row2\" class=\"row_heading level0 row2\" >[40, 100)</th>\n",
       "      <td id=\"T_5e0b1_row2_col0\" class=\"data row2 col0\" >34</td>\n",
       "      <td id=\"T_5e0b1_row2_col1\" class=\"data row2 col1\" >82</td>\n",
       "      <td id=\"T_5e0b1_row2_col2\" class=\"data row2 col2\" >14</td>\n",
       "      <td id=\"T_5e0b1_row2_col3\" class=\"data row2 col3\" >33</td>\n",
       "    </tr>\n",
       "    <tr>\n",
       "      <th id=\"T_5e0b1_level0_row3\" class=\"row_heading level0 row3\" >nan</th>\n",
       "      <td id=\"T_5e0b1_row3_col0\" class=\"data row3 col0\" >100</td>\n",
       "      <td id=\"T_5e0b1_row3_col1\" class=\"data row3 col1\" >54</td>\n",
       "      <td id=\"T_5e0b1_row3_col2\" class=\"data row3 col2\" >5</td>\n",
       "      <td id=\"T_5e0b1_row3_col3\" class=\"data row3 col3\" >18</td>\n",
       "    </tr>\n",
       "  </tbody>\n",
       "</table>\n"
      ],
      "text/plain": [
       "<pandas.io.formats.style.Styler at 0x1e2cc70b710>"
      ]
     },
     "execution_count": 73,
     "metadata": {},
     "output_type": "execute_result"
    }
   ],
   "source": [
    "_.pivot(index = \"age_binned\", columns=\"fare_binned\", values=\"count\").round(2).style.map(lambda v: 'background-color:darkred;' if v < 20 else None)"
   ]
  },
  {
   "cell_type": "code",
   "execution_count": 59,
   "metadata": {},
   "outputs": [
    {
     "data": {
      "text/html": [
       "<style type=\"text/css\">\n",
       "#T_d950e_row0_col0, #T_d950e_row0_col1, #T_d950e_row0_col3, #T_d950e_row1_col2 {\n",
       "  background-color: #006837;\n",
       "  color: #f1f1f1;\n",
       "}\n",
       "#T_d950e_row0_col2 {\n",
       "  background-color: #a7d96b;\n",
       "  color: #000000;\n",
       "}\n",
       "#T_d950e_row1_col0 {\n",
       "  background-color: #fed481;\n",
       "  color: #000000;\n",
       "}\n",
       "#T_d950e_row1_col1 {\n",
       "  background-color: #e9f6a1;\n",
       "  color: #000000;\n",
       "}\n",
       "#T_d950e_row1_col3 {\n",
       "  background-color: #0c7f43;\n",
       "  color: #f1f1f1;\n",
       "}\n",
       "#T_d950e_row2_col0, #T_d950e_row2_col1, #T_d950e_row3_col2, #T_d950e_row3_col3 {\n",
       "  background-color: #a50026;\n",
       "  color: #f1f1f1;\n",
       "}\n",
       "#T_d950e_row2_col2 {\n",
       "  background-color: #cbe982;\n",
       "  color: #000000;\n",
       "}\n",
       "#T_d950e_row2_col3 {\n",
       "  background-color: #f4fab0;\n",
       "  color: #000000;\n",
       "}\n",
       "#T_d950e_row3_col0 {\n",
       "  background-color: #feeda1;\n",
       "  color: #000000;\n",
       "}\n",
       "#T_d950e_row3_col1 {\n",
       "  background-color: #fdb365;\n",
       "  color: #000000;\n",
       "}\n",
       "</style>\n",
       "<table id=\"T_d950e\">\n",
       "  <thead>\n",
       "    <tr>\n",
       "      <th class=\"index_name level0\" >fare_binned</th>\n",
       "      <th id=\"T_d950e_level0_col0\" class=\"col_heading level0 col0\" >[0, 10)</th>\n",
       "      <th id=\"T_d950e_level0_col1\" class=\"col_heading level0 col1\" >[10, 50)</th>\n",
       "      <th id=\"T_d950e_level0_col2\" class=\"col_heading level0 col2\" >[100, 600)</th>\n",
       "      <th id=\"T_d950e_level0_col3\" class=\"col_heading level0 col3\" >[50, 100)</th>\n",
       "    </tr>\n",
       "    <tr>\n",
       "      <th class=\"index_name level0\" >age_binned</th>\n",
       "      <th class=\"blank col0\" >&nbsp;</th>\n",
       "      <th class=\"blank col1\" >&nbsp;</th>\n",
       "      <th class=\"blank col2\" >&nbsp;</th>\n",
       "      <th class=\"blank col3\" >&nbsp;</th>\n",
       "    </tr>\n",
       "  </thead>\n",
       "  <tbody>\n",
       "    <tr>\n",
       "      <th id=\"T_d950e_level0_row0\" class=\"row_heading level0 row0\" >[0, 20)</th>\n",
       "      <td id=\"T_d950e_row0_col0\" class=\"data row0 col0\" >34.090000</td>\n",
       "      <td id=\"T_d950e_row0_col1\" class=\"data row0 col1\" >49.500000</td>\n",
       "      <td id=\"T_d950e_row0_col2\" class=\"data row0 col2\" >72.730000</td>\n",
       "      <td id=\"T_d950e_row0_col3\" class=\"data row0 col3\" >75.000000</td>\n",
       "    </tr>\n",
       "    <tr>\n",
       "      <th id=\"T_d950e_level0_row1\" class=\"row_heading level0 row1\" >[20, 40)</th>\n",
       "      <td id=\"T_d950e_row1_col0\" class=\"data row1 col0\" >18.350000</td>\n",
       "      <td id=\"T_d950e_row1_col1\" class=\"data row1 col1\" >42.680000</td>\n",
       "      <td id=\"T_d950e_row1_col2\" class=\"data row1 col2\" >78.260000</td>\n",
       "      <td id=\"T_d950e_row1_col3\" class=\"data row1 col3\" >73.470000</td>\n",
       "    </tr>\n",
       "    <tr>\n",
       "      <th id=\"T_d950e_level0_row2\" class=\"row_heading level0 row2\" >[40, 100)</th>\n",
       "      <td id=\"T_d950e_row2_col0\" class=\"data row2 col0\" >8.820000</td>\n",
       "      <td id=\"T_d950e_row2_col1\" class=\"data row2 col1\" >34.150000</td>\n",
       "      <td id=\"T_d950e_row2_col2\" class=\"data row2 col2\" >71.430000</td>\n",
       "      <td id=\"T_d950e_row2_col3\" class=\"data row2 col3\" >60.610000</td>\n",
       "    </tr>\n",
       "    <tr>\n",
       "      <th id=\"T_d950e_level0_row3\" class=\"row_heading level0 row3\" >nan</th>\n",
       "      <td id=\"T_d950e_row3_col0\" class=\"data row3 col0\" >20.000000</td>\n",
       "      <td id=\"T_d950e_row3_col1\" class=\"data row3 col1\" >38.890000</td>\n",
       "      <td id=\"T_d950e_row3_col2\" class=\"data row3 col2\" >60.000000</td>\n",
       "      <td id=\"T_d950e_row3_col3\" class=\"data row3 col3\" >44.440000</td>\n",
       "    </tr>\n",
       "  </tbody>\n",
       "</table>\n"
      ],
      "text/plain": [
       "<pandas.io.formats.style.Styler at 0x1e2ce308050>"
      ]
     },
     "execution_count": 59,
     "metadata": {},
     "output_type": "execute_result"
    }
   ],
   "source": [
    "_2 = _.pivot(index = \"age_binned\", columns=\"fare_binned\", values=\"survived_rate\").round(2)\n",
    "_2.style.background_gradient(cmap=\"RdYlGn\")"
   ]
  }
 ],
 "metadata": {
  "kernelspec": {
   "display_name": "Python 3",
   "language": "python",
   "name": "python3"
  },
  "language_info": {
   "codemirror_mode": {
    "name": "ipython",
    "version": 3
   },
   "file_extension": ".py",
   "mimetype": "text/x-python",
   "name": "python",
   "nbconvert_exporter": "python",
   "pygments_lexer": "ipython3",
   "version": "3.12.1"
  }
 },
 "nbformat": 4,
 "nbformat_minor": 2
}
