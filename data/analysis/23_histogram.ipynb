{
 "cells": [
  {
   "cell_type": "code",
   "execution_count": null,
   "metadata": {},
   "outputs": [],
   "source": []
  },
  {
   "cell_type": "code",
   "execution_count": null,
   "metadata": {},
   "outputs": [],
   "source": [
    "# get raw data\n",
    "import yfinance as yf\n",
    "\n",
    "asset = \"ES=F\"\n",
    "tk = yf.Ticker(asset)\n",
    "hist = tk.history(period=\"max\", interval=\"1mo\", auto_adjust=False)[\n",
    "    [\"Close\"]\n",
    "]  # [['Open', 'High', 'Low', 'Close', 'Volume']]\n",
    "hist.columns = [c.lower() for c in hist.columns]\n",
    "hist[\"a_return\"] = hist[\"close\"].pct_change(12)\n",
    "\n",
    "print(f\"{hist.shape = }\")\n",
    "print(hist.head().to_string())\n",
    "\n",
    "import matplotlib.pyplot as plt\n",
    "import numpy as np\n",
    "import pandas as pd\n",
    "\n",
    "fig, axs = plt.subplots(1, 2, figsize=(18, 6))\n",
    "\n",
    "# histogram\n",
    "x_ticks = hist.index\n",
    "dat = hist[\"a_return\"].dropna()\n",
    "qtls = dat.quantile([0.25, 0.5, 0.75]).to_list()\n",
    "icr_1_point_5 = (qtls[2] - qtls[0]) * 1.5\n",
    "fivnum = [\n",
    "    dat.min(),\n",
    "    max(qtls[0] - icr_1_point_5, dat.min()),\n",
    "    qtls[0],\n",
    "    qtls[1],\n",
    "    qtls[2],\n",
    "    min(qtls[2] + icr_1_point_5, dat.max()),\n",
    "    dat.max(),\n",
    "]\n",
    "bins = np.arange(-0.45, 0.45, 0.1)\n",
    "counts, _ = np.histogram(dat, bins=bins)\n",
    "counts = counts / counts.sum()\n",
    "\n",
    "ax = axs[0]\n",
    "ax.bar(\n",
    "    (bins[:-1] + bins[1:]) / 2,\n",
    "    counts,\n",
    "    width=np.diff(bins),\n",
    "    alpha=0.7,\n",
    "    color=\"lightblue\",\n",
    "    edgecolor=\"black\",\n",
    ")\n",
    "for q in fivnum:\n",
    "    ax.axvline(q, color=\"black\", linestyle=\"--\", alpha=0.5)\n",
    "    ax.text(\n",
    "        q + 0.01, 0.1, f\"{q:.2%}\", verticalalignment=\"bottom\", color=\"black\", alpha=0.7\n",
    "    )\n",
    "ax.set_title(f\"{asset} annual return histogram\")\n",
    "ax.grid(True, linestyle=\"--\", alpha=0.5)\n",
    "\n",
    "# line plot\n",
    "ax = axs[1]\n",
    "ax2 = ax.twinx()\n",
    "ax.plot(x_ticks, hist[\"close\"], label=\"close\")\n",
    "ax2.plot(x_ticks, hist[\"a_return\"], color=\"orange\", label=\"annual return\")\n",
    "\n",
    "ax.set_title(f\"{asset} close and annual return\")\n",
    "ax2.grid(True, linestyle=\"--\", alpha=0.5)\n",
    "ax.legend(loc=\"upper left\", fontsize=10, frameon=False)\n",
    "ax2.legend(loc=\"upper left\", fontsize=10, frameon=False, bbox_to_anchor=(0, 0.9))\n",
    "\n",
    "plt.tight_layout()"
   ]
  },
  {
   "cell_type": "markdown",
   "metadata": {},
   "source": [
    "### histgram plot"
   ]
  },
  {
   "cell_type": "code",
   "execution_count": 1,
   "metadata": {},
   "outputs": [],
   "source": [
    "import matplotlib.pyplot as plt\n",
    "import numpy as np\n",
    "import pandas as pd\n",
    "import statsmodels.api as sm\n",
    "from scipy import stats"
   ]
  },
  {
   "cell_type": "code",
   "execution_count": 2,
   "metadata": {},
   "outputs": [],
   "source": [
    "def histogram_summary(histogram, col_name):\n",
    "\n",
    "    _ = histogram\n",
    "    _ = pd.DataFrame({\"greater_or_eq\": _[1][:-1], \"less_than\": _[1][1:], \"count\": _[0]})\n",
    "    _[\"Distribution %\"] = (_[\"count\"] / _[\"count\"].sum() * 100).round(2)\n",
    "\n",
    "    fig, ax = plt.subplots(1, 2, figsize=(15, 5))\n",
    "    x_ticks = [f\"[{_.greater_or_eq[i]:.2f}-{_.less_than[i]:.2f})\" for i in _.index]\n",
    "\n",
    "    ax[0].bar(_.index, _[\"count\"])\n",
    "    ax[0].set_xticks(_.index)\n",
    "    ax[0].set_xticklabels(x_ticks, rotation=45)\n",
    "    ax[0].set_xlabel(col_name)\n",
    "    ax[0].set_ylabel(\"Count\")\n",
    "    ax[0].set_title(f\"Histogram of {col_name}\")\n",
    "\n",
    "    ax[1].bar(_.index, _[\"Distribution %\"])\n",
    "    ax[1].set_xticks(_.index)\n",
    "    ax[1].set_xticklabels(x_ticks, rotation=45)\n",
    "    ax[1].set_xlabel(col_name)\n",
    "    ax[1].set_ylabel(\"Distribution %\")\n",
    "    ax[1].set_title(f\"Histogram of {col_name} %\")\n",
    "\n",
    "    plt.show()\n",
    "    return _"
   ]
  },
  {
   "cell_type": "code",
   "execution_count": null,
   "metadata": {},
   "outputs": [
    {
     "name": "stdout",
     "output_type": "stream",
     "text": [
      "(891, 15)\n"
     ]
    },
    {
     "data": {
      "application/vnd.microsoft.datawrangler.viewer.v0+json": {
       "columns": [
        {
         "name": "index",
         "rawType": "int64",
         "type": "integer"
        },
        {
         "name": "survived",
         "rawType": "int64",
         "type": "integer"
        },
        {
         "name": "pclass",
         "rawType": "int64",
         "type": "integer"
        },
        {
         "name": "sex",
         "rawType": "object",
         "type": "string"
        },
        {
         "name": "age",
         "rawType": "float64",
         "type": "float"
        },
        {
         "name": "sibsp",
         "rawType": "int64",
         "type": "integer"
        },
        {
         "name": "parch",
         "rawType": "int64",
         "type": "integer"
        },
        {
         "name": "fare",
         "rawType": "float64",
         "type": "float"
        },
        {
         "name": "embarked",
         "rawType": "object",
         "type": "string"
        },
        {
         "name": "class",
         "rawType": "object",
         "type": "string"
        },
        {
         "name": "who",
         "rawType": "object",
         "type": "string"
        },
        {
         "name": "adult_male",
         "rawType": "bool",
         "type": "boolean"
        },
        {
         "name": "deck",
         "rawType": "object",
         "type": "unknown"
        },
        {
         "name": "embark_town",
         "rawType": "object",
         "type": "string"
        },
        {
         "name": "alive",
         "rawType": "object",
         "type": "string"
        },
        {
         "name": "alone",
         "rawType": "bool",
         "type": "boolean"
        }
       ],
       "ref": "a20010e0-5729-4e00-a655-0240f9a5ffdd",
       "rows": [
        [
         "0",
         "0",
         "3",
         "male",
         "22.0",
         "1",
         "0",
         "7.25",
         "S",
         "Third",
         "man",
         "True",
         null,
         "Southampton",
         "no",
         "False"
        ]
       ],
       "shape": {
        "columns": 15,
        "rows": 1
       }
      },
      "text/html": [
       "<div>\n",
       "<style scoped>\n",
       "    .dataframe tbody tr th:only-of-type {\n",
       "        vertical-align: middle;\n",
       "    }\n",
       "\n",
       "    .dataframe tbody tr th {\n",
       "        vertical-align: top;\n",
       "    }\n",
       "\n",
       "    .dataframe thead th {\n",
       "        text-align: right;\n",
       "    }\n",
       "</style>\n",
       "<table border=\"1\" class=\"dataframe\">\n",
       "  <thead>\n",
       "    <tr style=\"text-align: right;\">\n",
       "      <th></th>\n",
       "      <th>survived</th>\n",
       "      <th>pclass</th>\n",
       "      <th>sex</th>\n",
       "      <th>age</th>\n",
       "      <th>sibsp</th>\n",
       "      <th>parch</th>\n",
       "      <th>fare</th>\n",
       "      <th>embarked</th>\n",
       "      <th>class</th>\n",
       "      <th>who</th>\n",
       "      <th>adult_male</th>\n",
       "      <th>deck</th>\n",
       "      <th>embark_town</th>\n",
       "      <th>alive</th>\n",
       "      <th>alone</th>\n",
       "    </tr>\n",
       "  </thead>\n",
       "  <tbody>\n",
       "    <tr>\n",
       "      <th>0</th>\n",
       "      <td>0</td>\n",
       "      <td>3</td>\n",
       "      <td>male</td>\n",
       "      <td>22.0</td>\n",
       "      <td>1</td>\n",
       "      <td>0</td>\n",
       "      <td>7.25</td>\n",
       "      <td>S</td>\n",
       "      <td>Third</td>\n",
       "      <td>man</td>\n",
       "      <td>True</td>\n",
       "      <td>NaN</td>\n",
       "      <td>Southampton</td>\n",
       "      <td>no</td>\n",
       "      <td>False</td>\n",
       "    </tr>\n",
       "  </tbody>\n",
       "</table>\n",
       "</div>"
      ],
      "text/plain": [
       "   survived  pclass   sex   age  sibsp  parch  fare embarked  class  who  \\\n",
       "0         0       3  male  22.0      1      0  7.25        S  Third  man   \n",
       "\n",
       "   adult_male deck  embark_town alive  alone  \n",
       "0        True  NaN  Southampton    no  False  "
      ]
     },
     "execution_count": 3,
     "metadata": {},
     "output_type": "execute_result"
    }
   ],
   "source": [
    "df = pd.read_csv(\"titanic.csv\")\n",
    "print(f\"{df.shape}\")\n",
    "df.head(1)"
   ]
  },
  {
   "cell_type": "code",
   "execution_count": 4,
   "metadata": {},
   "outputs": [
    {
     "data": {
      "image/png": "[encoded data removed]",
      "text/plain": [
       "<Figure size 1500x500 with 2 Axes>"
      ]
     },
     "metadata": {},
     "output_type": "display_data"
    },
    {
     "data": {
      "application/vnd.microsoft.datawrangler.viewer.v0+json": {
       "columns": [
        {
         "name": "index",
         "rawType": "int64",
         "type": "integer"
        },
        {
         "name": "greater_or_eq",
         "rawType": "float64",
         "type": "float"
        },
        {
         "name": "less_than",
         "rawType": "float64",
         "type": "float"
        },
        {
         "name": "count",
         "rawType": "int64",
         "type": "integer"
        },
        {
         "name": "Distribution %",
         "rawType": "float64",
         "type": "float"
        }
       ],
       "ref": "68021184-32c0-4b40-b285-743e93b8e147",
       "rows": [
        [
         "0",
         "0.42",
         "8.378",
         "54",
         "7.56"
        ],
        [
         "1",
         "8.378",
         "16.336000000000002",
         "46",
         "6.44"
        ],
        [
         "2",
         "16.336000000000002",
         "24.294000000000004",
         "177",
         "24.79"
        ],
        [
         "3",
         "24.294000000000004",
         "32.252",
         "169",
         "23.67"
        ],
        [
         "4",
         "32.252",
         "40.21",
         "118",
         "16.53"
        ],
        [
         "5",
         "40.21",
         "48.168000000000006",
         "70",
         "9.8"
        ],
        [
         "6",
         "48.168000000000006",
         "56.126000000000005",
         "45",
         "6.3"
        ],
        [
         "7",
         "56.126000000000005",
         "64.084",
         "24",
         "3.36"
        ],
        [
         "8",
         "64.084",
         "72.042",
         "9",
         "1.26"
        ],
        [
         "9",
         "72.042",
         "80.0",
         "2",
         "0.28"
        ]
       ],
       "shape": {
        "columns": 4,
        "rows": 10
       }
      },
      "text/html": [
       "<div>\n",
       "<style scoped>\n",
       "    .dataframe tbody tr th:only-of-type {\n",
       "        vertical-align: middle;\n",
       "    }\n",
       "\n",
       "    .dataframe tbody tr th {\n",
       "        vertical-align: top;\n",
       "    }\n",
       "\n",
       "    .dataframe thead th {\n",
       "        text-align: right;\n",
       "    }\n",
       "</style>\n",
       "<table border=\"1\" class=\"dataframe\">\n",
       "  <thead>\n",
       "    <tr style=\"text-align: right;\">\n",
       "      <th></th>\n",
       "      <th>greater_or_eq</th>\n",
       "      <th>less_than</th>\n",
       "      <th>count</th>\n",
       "      <th>Distribution %</th>\n",
       "    </tr>\n",
       "  </thead>\n",
       "  <tbody>\n",
       "    <tr>\n",
       "      <th>0</th>\n",
       "      <td>0.420</td>\n",
       "      <td>8.378</td>\n",
       "      <td>54</td>\n",
       "      <td>7.56</td>\n",
       "    </tr>\n",
       "    <tr>\n",
       "      <th>1</th>\n",
       "      <td>8.378</td>\n",
       "      <td>16.336</td>\n",
       "      <td>46</td>\n",
       "      <td>6.44</td>\n",
       "    </tr>\n",
       "    <tr>\n",
       "      <th>2</th>\n",
       "      <td>16.336</td>\n",
       "      <td>24.294</td>\n",
       "      <td>177</td>\n",
       "      <td>24.79</td>\n",
       "    </tr>\n",
       "    <tr>\n",
       "      <th>3</th>\n",
       "      <td>24.294</td>\n",
       "      <td>32.252</td>\n",
       "      <td>169</td>\n",
       "      <td>23.67</td>\n",
       "    </tr>\n",
       "    <tr>\n",
       "      <th>4</th>\n",
       "      <td>32.252</td>\n",
       "      <td>40.210</td>\n",
       "      <td>118</td>\n",
       "      <td>16.53</td>\n",
       "    </tr>\n",
       "    <tr>\n",
       "      <th>5</th>\n",
       "      <td>40.210</td>\n",
       "      <td>48.168</td>\n",
       "      <td>70</td>\n",
       "      <td>9.80</td>\n",
       "    </tr>\n",
       "    <tr>\n",
       "      <th>6</th>\n",
       "      <td>48.168</td>\n",
       "      <td>56.126</td>\n",
       "      <td>45</td>\n",
       "      <td>6.30</td>\n",
       "    </tr>\n",
       "    <tr>\n",
       "      <th>7</th>\n",
       "      <td>56.126</td>\n",
       "      <td>64.084</td>\n",
       "      <td>24</td>\n",
       "      <td>3.36</td>\n",
       "    </tr>\n",
       "    <tr>\n",
       "      <th>8</th>\n",
       "      <td>64.084</td>\n",
       "      <td>72.042</td>\n",
       "      <td>9</td>\n",
       "      <td>1.26</td>\n",
       "    </tr>\n",
       "    <tr>\n",
       "      <th>9</th>\n",
       "      <td>72.042</td>\n",
       "      <td>80.000</td>\n",
       "      <td>2</td>\n",
       "      <td>0.28</td>\n",
       "    </tr>\n",
       "  </tbody>\n",
       "</table>\n",
       "</div>"
      ],
      "text/plain": [
       "   greater_or_eq  less_than  count  Distribution %\n",
       "0          0.420      8.378     54            7.56\n",
       "1          8.378     16.336     46            6.44\n",
       "2         16.336     24.294    177           24.79\n",
       "3         24.294     32.252    169           23.67\n",
       "4         32.252     40.210    118           16.53\n",
       "5         40.210     48.168     70            9.80\n",
       "6         48.168     56.126     45            6.30\n",
       "7         56.126     64.084     24            3.36\n",
       "8         64.084     72.042      9            1.26\n",
       "9         72.042     80.000      2            0.28"
      ]
     },
     "execution_count": 4,
     "metadata": {},
     "output_type": "execute_result"
    }
   ],
   "source": [
    "bins = np.histogram(df[\"age\"].dropna(), bins=10)\n",
    "histogram_summary(bins, \"age\")"
   ]
  }
 ],
 "metadata": {
  "kernelspec": {
   "display_name": "Python 3",
   "language": "python",
   "name": "python3"
  },
  "language_info": {
   "codemirror_mode": {
    "name": "ipython",
    "version": 3
   },
   "file_extension": ".py",
   "mimetype": "text/x-python",
   "name": "python",
   "nbconvert_exporter": "python",
   "pygments_lexer": "ipython3",
   "version": "3.13.2"
  }
 },
 "nbformat": 4,
 "nbformat_minor": 2
}
