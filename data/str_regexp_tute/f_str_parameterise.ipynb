{
 "cells": [
  {
   "cell_type": "markdown",
   "id": "3b446503",
   "metadata": {},
   "source": [
    "### parameterise"
   ]
  },
  {
   "cell_type": "code",
   "execution_count": 92,
   "id": "01d87a8c",
   "metadata": {},
   "outputs": [],
   "source": [
    "# parameterized format specifier\n",
    "##################################\n",
    "# format number with x decimal places\n",
    "x = 4\n"
   ]
  },
  {
   "cell_type": "code",
   "execution_count": 93,
   "id": "0760d07c",
   "metadata": {},
   "outputs": [
    {
     "data": {
      "text/plain": [
       "'abc 3.0000 def'"
      ]
     },
     "execution_count": 93,
     "metadata": {},
     "output_type": "execute_result"
    }
   ],
   "source": [
    "f\"abc {1+2:.{x}f} def\"\n"
   ]
  },
  {
   "cell_type": "code",
   "execution_count": 94,
   "id": "328fe960",
   "metadata": {},
   "outputs": [],
   "source": [
    "# format number with x decimal places and y spaces\n",
    "x = 4\n"
   ]
  },
  {
   "cell_type": "code",
   "execution_count": 95,
   "id": "3bf10372",
   "metadata": {},
   "outputs": [],
   "source": [
    "y = 10\n"
   ]
  },
  {
   "cell_type": "code",
   "execution_count": 96,
   "id": "9ab4623f",
   "metadata": {},
   "outputs": [
    {
     "data": {
      "text/plain": [
       "'abc     3.0000 def'"
      ]
     },
     "execution_count": 96,
     "metadata": {},
     "output_type": "execute_result"
    }
   ],
   "source": [
    "f\"abc {1+2:{y}.{x}f} def\"\n"
   ]
  },
  {
   "cell_type": "code",
   "execution_count": 97,
   "id": "41a19681",
   "metadata": {},
   "outputs": [],
   "source": [
    "# format number with x decimal places and y spaces and z fill\n",
    "x = 4\n"
   ]
  },
  {
   "cell_type": "code",
   "execution_count": 98,
   "id": "69c0af88",
   "metadata": {},
   "outputs": [],
   "source": [
    "y = 10\n"
   ]
  },
  {
   "cell_type": "code",
   "execution_count": 99,
   "id": "21f29a22",
   "metadata": {},
   "outputs": [],
   "source": [
    "z = \"0\"\n"
   ]
  },
  {
   "cell_type": "code",
   "execution_count": 100,
   "id": "cff5d65a",
   "metadata": {},
   "outputs": [
    {
     "data": {
      "text/plain": [
       "'abc 00003.0000 def'"
      ]
     },
     "execution_count": 100,
     "metadata": {},
     "output_type": "execute_result"
    }
   ],
   "source": [
    "f\"abc {1+2:{z}{y}.{x}f} def\"\n"
   ]
  },
  {
   "cell_type": "code",
   "execution_count": 101,
   "id": "a115dece",
   "metadata": {},
   "outputs": [],
   "source": [
    "# format number with x decimal places and y spaces and z fill and as a type\n",
    "x = 4\n"
   ]
  },
  {
   "cell_type": "code",
   "execution_count": 102,
   "id": "b0a50314",
   "metadata": {},
   "outputs": [],
   "source": [
    "y = 10\n"
   ]
  },
  {
   "cell_type": "code",
   "execution_count": 103,
   "id": "7a382697",
   "metadata": {},
   "outputs": [],
   "source": [
    "z = \"0\"\n"
   ]
  },
  {
   "cell_type": "code",
   "execution_count": 104,
   "id": "e5e28962",
   "metadata": {},
   "outputs": [],
   "source": [
    "a = \"f\"\n"
   ]
  },
  {
   "cell_type": "code",
   "execution_count": 105,
   "id": "df189dea",
   "metadata": {},
   "outputs": [
    {
     "data": {
      "text/plain": [
       "'abc 00003.0000 def'"
      ]
     },
     "execution_count": 105,
     "metadata": {},
     "output_type": "execute_result"
    }
   ],
   "source": [
    "f\"abc {1+2:{z}{y}.{x}{a}} def\"\n"
   ]
  }
 ],
 "metadata": {
  "kernelspec": {
   "display_name": "Python 3",
   "language": "python",
   "name": "python3"
  },
  "language_info": {
   "codemirror_mode": {
    "name": "ipython",
    "version": 3
   },
   "file_extension": ".py",
   "mimetype": "text/x-python",
   "name": "python",
   "nbconvert_exporter": "python",
   "pygments_lexer": "ipython3",
   "version": "3.12.1"
  }
 },
 "nbformat": 4,
 "nbformat_minor": 5
}
