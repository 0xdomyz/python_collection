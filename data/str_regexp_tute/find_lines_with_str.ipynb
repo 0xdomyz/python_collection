{
 "cells": [
  {
   "cell_type": "code",
   "execution_count": 9,
   "metadata": {},
   "outputs": [],
   "source": [
    "def filter_lines_with_words(file_path, words):\n",
    "    filtered_lines = []\n",
    "    words = [word.lower() for word in words]\n",
    "    words = set(words)\n",
    "    with open(file_path, 'r') as file:\n",
    "        for line in file:\n",
    "            if any(word in line.lower() for word in words):\n",
    "                filtered_lines.append(line)\n",
    "    return filtered_lines\n",
    "\n",
    "def remove_words(lines, words):\n",
    "    words = [word.lower() for word in words]\n",
    "    words = set(words)\n",
    "    filtered_lines = []\n",
    "    for line in lines:\n",
    "        for word in words:\n",
    "            line = line.replace(word, '')\n",
    "        filtered_lines.append(line)\n",
    "    return filtered_lines\n"
   ]
  },
  {
   "cell_type": "code",
   "execution_count": 10,
   "metadata": {},
   "outputs": [
    {
     "name": "stdout",
     "output_type": "stream",
     "text": [
      "from table a\n",
      "\n",
      "left join table2 b\n",
      "\n",
      "from table c\n",
      "\n",
      "left join table2 dft\n",
      "\n"
     ]
    }
   ],
   "source": [
    "target = \"target.sql\"\n",
    "\n",
    "words = [\"from\", \"left join\", \"right join\", \"inner join\", \"outer join\"]\n",
    "\n",
    "lines = filter_lines_with_words(target, words)\n",
    "\n",
    "for line in lines:\n",
    "    print(line)\n"
   ]
  },
  {
   "cell_type": "code",
   "execution_count": 11,
   "metadata": {},
   "outputs": [
    {
     "name": "stdout",
     "output_type": "stream",
     "text": [
      " table a\n",
      "\n",
      " table2 b\n",
      "\n",
      " table c\n",
      "\n",
      " table2 dft\n",
      "\n"
     ]
    }
   ],
   "source": [
    "lines = remove_words(lines, words)\n",
    "for line in lines:\n",
    "    print(line)"
   ]
  }
 ],
 "metadata": {
  "kernelspec": {
   "display_name": "Python 3",
   "language": "python",
   "name": "python3"
  },
  "language_info": {
   "codemirror_mode": {
    "name": "ipython",
    "version": 3
   },
   "file_extension": ".py",
   "mimetype": "text/x-python",
   "name": "python",
   "nbconvert_exporter": "python",
   "pygments_lexer": "ipython3",
   "version": "3.12.1"
  }
 },
 "nbformat": 4,
 "nbformat_minor": 2
}
