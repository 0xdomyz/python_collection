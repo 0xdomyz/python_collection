{
 "cells": [
  {
   "cell_type": "markdown",
   "id": "c4055db1",
   "metadata": {},
   "source": [
    "### template str"
   ]
  },
  {
   "cell_type": "code",
   "execution_count": 110,
   "id": "797abfff",
   "metadata": {},
   "outputs": [],
   "source": [
    "# template string\n",
    "######################\n",
    "# template string\n",
    "from string import Template\n"
   ]
  },
  {
   "cell_type": "code",
   "execution_count": 111,
   "id": "6393946e",
   "metadata": {},
   "outputs": [],
   "source": [
    "t = Template(\"abc $x def\")\n"
   ]
  },
  {
   "cell_type": "code",
   "execution_count": 112,
   "id": "aa332e7d",
   "metadata": {},
   "outputs": [
    {
     "data": {
      "text/plain": [
       "'abc 3 def'"
      ]
     },
     "execution_count": 112,
     "metadata": {},
     "output_type": "execute_result"
    }
   ],
   "source": [
    "t.substitute(x=1 + 2)\n"
   ]
  },
  {
   "cell_type": "code",
   "execution_count": 113,
   "id": "c7859a9b",
   "metadata": {},
   "outputs": [],
   "source": [
    "# template string with 2 decimal places\n",
    "t = Template(\"abc $x:.2f def\")\n"
   ]
  },
  {
   "cell_type": "code",
   "execution_count": 114,
   "id": "070d6b7e",
   "metadata": {},
   "outputs": [
    {
     "data": {
      "text/plain": [
       "'abc 3:.2f def'"
      ]
     },
     "execution_count": 114,
     "metadata": {},
     "output_type": "execute_result"
    }
   ],
   "source": [
    "t.substitute(x=1 + 2)\n"
   ]
  },
  {
   "cell_type": "code",
   "execution_count": 115,
   "id": "3e99fa1e",
   "metadata": {},
   "outputs": [],
   "source": [
    "# multiple substitutions\n",
    "t = Template(\"abc $x def $y\")\n"
   ]
  },
  {
   "cell_type": "code",
   "execution_count": 116,
   "id": "fdd0051e",
   "metadata": {},
   "outputs": [],
   "source": [
    "subs = {\"x\": 1 + 2, \"y\": 3 + 4}\n"
   ]
  },
  {
   "cell_type": "code",
   "execution_count": 117,
   "id": "1b8a1006",
   "metadata": {},
   "outputs": [
    {
     "data": {
      "text/plain": [
       "'abc 3 def 7'"
      ]
     },
     "execution_count": 117,
     "metadata": {},
     "output_type": "execute_result"
    }
   ],
   "source": [
    "t.substitute(subs)\n"
   ]
  },
  {
   "cell_type": "code",
   "execution_count": 118,
   "id": "7a0b438e",
   "metadata": {},
   "outputs": [],
   "source": [
    "# substitute a list\n",
    "t = Template(\"abc $x def $y\")\n"
   ]
  },
  {
   "cell_type": "code",
   "execution_count": 119,
   "id": "4c9551f8",
   "metadata": {},
   "outputs": [],
   "source": [
    "subs = [1 + 2, 3 + 4]\n"
   ]
  },
  {
   "cell_type": "code",
   "execution_count": 120,
   "id": "dda10728",
   "metadata": {},
   "outputs": [
    {
     "data": {
      "text/plain": [
       "'abc 3 def 7'"
      ]
     },
     "execution_count": 120,
     "metadata": {},
     "output_type": "execute_result"
    }
   ],
   "source": [
    "t.substitute(x=subs[0], y=subs[1])\n"
   ]
  }
 ],
 "metadata": {
  "kernelspec": {
   "display_name": "Python 3",
   "language": "python",
   "name": "python3"
  },
  "language_info": {
   "codemirror_mode": {
    "name": "ipython",
    "version": 3
   },
   "file_extension": ".py",
   "mimetype": "text/x-python",
   "name": "python",
   "nbconvert_exporter": "python",
   "pygments_lexer": "ipython3",
   "version": "3.12.1"
  }
 },
 "nbformat": 4,
 "nbformat_minor": 5
}
