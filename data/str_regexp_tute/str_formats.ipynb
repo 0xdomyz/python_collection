{
 "cells": [
  {
   "cell_type": "code",
   "execution_count": 55,
   "id": "acac0bfa",
   "metadata": {},
   "outputs": [],
   "source": [
    "# list of string formats\n",
    "# https://docs.python.org/3/library/string.html#format-string-syntax\n"
   ]
  },
  {
   "cell_type": "code",
   "execution_count": 56,
   "id": "7cc2350d",
   "metadata": {},
   "outputs": [],
   "source": [
    "# format number\n",
    "######################\n"
   ]
  },
  {
   "cell_type": "code",
   "execution_count": 57,
   "id": "3fad4c11",
   "metadata": {},
   "outputs": [
    {
     "data": {
      "text/plain": [
       "'10_000_000_000.0'"
      ]
     },
     "execution_count": 57,
     "metadata": {},
     "output_type": "execute_result"
    }
   ],
   "source": [
    "n  = 1e10\n",
    "f\"{n:_}\"\n"
   ]
  },
  {
   "cell_type": "code",
   "execution_count": 58,
   "id": "7d7900d0",
   "metadata": {},
   "outputs": [
    {
     "data": {
      "text/plain": [
       "'10,000,000,000.0'"
      ]
     },
     "execution_count": 58,
     "metadata": {},
     "output_type": "execute_result"
    }
   ],
   "source": [
    "f\"{n:,}\""
   ]
  },
  {
   "cell_type": "code",
   "execution_count": 59,
   "id": "0f5be06d",
   "metadata": {},
   "outputs": [
    {
     "data": {
      "text/plain": [
       "'abc 3 def'"
      ]
     },
     "execution_count": 59,
     "metadata": {},
     "output_type": "execute_result"
    }
   ],
   "source": [
    "f\"abc {1+2} def\"\n"
   ]
  },
  {
   "cell_type": "code",
   "execution_count": 60,
   "id": "5506b36b",
   "metadata": {},
   "outputs": [
    {
     "data": {
      "text/plain": [
       "'abc 3.00 def'"
      ]
     },
     "execution_count": 60,
     "metadata": {},
     "output_type": "execute_result"
    }
   ],
   "source": [
    "# format number with 2 decimal places\n",
    "f\"abc {1+2:.2f} def\"\n"
   ]
  },
  {
   "cell_type": "code",
   "execution_count": 61,
   "id": "434b0dce",
   "metadata": {},
   "outputs": [
    {
     "data": {
      "text/plain": [
       "'abc       3.00 def'"
      ]
     },
     "execution_count": 61,
     "metadata": {},
     "output_type": "execute_result"
    }
   ],
   "source": [
    "# format number with 2 decimal places and 10 spaces\n",
    "f\"abc {1+2:10.2f} def\"\n"
   ]
  },
  {
   "cell_type": "code",
   "execution_count": 62,
   "id": "9dedc8d0",
   "metadata": {},
   "outputs": [
    {
     "data": {
      "text/plain": [
       "'abc 3.00       def'"
      ]
     },
     "execution_count": 62,
     "metadata": {},
     "output_type": "execute_result"
    }
   ],
   "source": [
    "# left align\n",
    "f\"abc {1+2:<10.2f} def\"\n"
   ]
  },
  {
   "cell_type": "code",
   "execution_count": 63,
   "id": "93dcfb66",
   "metadata": {},
   "outputs": [
    {
     "data": {
      "text/plain": [
       "'abc       3.00 def'"
      ]
     },
     "execution_count": 63,
     "metadata": {},
     "output_type": "execute_result"
    }
   ],
   "source": [
    "# right align\n",
    "f\"abc {1+2:>10.2f} def\"\n"
   ]
  },
  {
   "cell_type": "code",
   "execution_count": 64,
   "id": "6ef25631",
   "metadata": {},
   "outputs": [
    {
     "data": {
      "text/plain": [
       "'abc    3.00    def'"
      ]
     },
     "execution_count": 64,
     "metadata": {},
     "output_type": "execute_result"
    }
   ],
   "source": [
    "# center align\n",
    "f\"abc {1+2:^10.2f} def\"\n"
   ]
  },
  {
   "cell_type": "code",
   "execution_count": 65,
   "id": "24bed1b3",
   "metadata": {},
   "outputs": [
    {
     "data": {
      "text/plain": [
       "'abc 0000003.00 def'"
      ]
     },
     "execution_count": 65,
     "metadata": {},
     "output_type": "execute_result"
    }
   ],
   "source": [
    "# fill with 0\n",
    "f\"abc {1+2:010.2f} def\"\n"
   ]
  },
  {
   "cell_type": "code",
   "execution_count": 66,
   "id": "8432cb3a",
   "metadata": {},
   "outputs": [
    {
     "data": {
      "text/plain": [
       "['00',\n",
       " '01',\n",
       " '02',\n",
       " '03',\n",
       " '04',\n",
       " '05',\n",
       " '06',\n",
       " '07',\n",
       " '08',\n",
       " '09',\n",
       " '10',\n",
       " '11',\n",
       " '12',\n",
       " '13',\n",
       " '14',\n",
       " '15',\n",
       " '16',\n",
       " '17',\n",
       " '18',\n",
       " '19']"
      ]
     },
     "execution_count": 66,
     "metadata": {},
     "output_type": "execute_result"
    }
   ],
   "source": [
    "[f\"{i:02}\" for i in range(20)]\n"
   ]
  },
  {
   "cell_type": "code",
   "execution_count": 67,
   "id": "d1d7ce9a",
   "metadata": {},
   "outputs": [
    {
     "data": {
      "text/plain": [
       "'abc 2,001.00 def'"
      ]
     },
     "execution_count": 67,
     "metadata": {},
     "output_type": "execute_result"
    }
   ],
   "source": [
    "# thousands separator\n",
    "f\"abc {1+2*1000:,.2f} def\"\n"
   ]
  },
  {
   "cell_type": "code",
   "execution_count": 68,
   "id": "564b1a53",
   "metadata": {},
   "outputs": [
    {
     "data": {
      "text/plain": [
       "'abc 2.00e+03 def'"
      ]
     },
     "execution_count": 68,
     "metadata": {},
     "output_type": "execute_result"
    }
   ],
   "source": [
    "# scientific notation\n",
    "f\"abc {1+2*1000:.2e} def\"\n"
   ]
  },
  {
   "cell_type": "code",
   "execution_count": 69,
   "id": "cafdc7a1",
   "metadata": {},
   "outputs": [
    {
     "data": {
      "text/plain": [
       "'abc 21.0 def'"
      ]
     },
     "execution_count": 69,
     "metadata": {},
     "output_type": "execute_result"
    }
   ],
   "source": [
    "# rounding to 1 decimal place\n",
    "f\"abc {1.03+2*10:.1f} def\"\n"
   ]
  },
  {
   "cell_type": "code",
   "execution_count": 70,
   "id": "12f80c68",
   "metadata": {},
   "outputs": [
    {
     "data": {
      "text/plain": [
       "'abc 21 def'"
      ]
     },
     "execution_count": 70,
     "metadata": {},
     "output_type": "execute_result"
    }
   ],
   "source": [
    "# rounding to 2 significant figures\n",
    "f\"abc {1.03+2*10:.2g} def\"\n"
   ]
  },
  {
   "cell_type": "code",
   "execution_count": 71,
   "id": "6e468616",
   "metadata": {},
   "outputs": [
    {
     "data": {
      "text/plain": [
       "'abc 2103.00% def'"
      ]
     },
     "execution_count": 71,
     "metadata": {},
     "output_type": "execute_result"
    }
   ],
   "source": [
    "# percentage\n",
    "f\"abc {1.03+2*10:.2%} def\"\n"
   ]
  },
  {
   "cell_type": "code",
   "execution_count": 72,
   "id": "a400cd9e",
   "metadata": {},
   "outputs": [
    {
     "data": {
      "text/plain": [
       "\"abc <class 'object'> def\""
      ]
     },
     "execution_count": 72,
     "metadata": {},
     "output_type": "execute_result"
    }
   ],
   "source": [
    "# \\! is conversion flag, r is repr\n",
    "f\"abc {object} def\"\n"
   ]
  },
  {
   "cell_type": "code",
   "execution_count": 73,
   "id": "e99ef9eb",
   "metadata": {},
   "outputs": [
    {
     "data": {
      "text/plain": [
       "\"abc <class 'object'> def\""
      ]
     },
     "execution_count": 73,
     "metadata": {},
     "output_type": "execute_result"
    }
   ],
   "source": [
    "f\"abc {object!r} def\"  # same as repr(object)\n"
   ]
  },
  {
   "cell_type": "code",
   "execution_count": 74,
   "id": "047593cb",
   "metadata": {},
   "outputs": [
    {
     "data": {
      "text/plain": [
       "\"abc <class 'object'> def\""
      ]
     },
     "execution_count": 74,
     "metadata": {},
     "output_type": "execute_result"
    }
   ],
   "source": [
    "f\"abc {object!s} def\"  # same as str(object)\n"
   ]
  },
  {
   "cell_type": "code",
   "execution_count": 75,
   "id": "1533a002",
   "metadata": {},
   "outputs": [
    {
     "data": {
      "text/plain": [
       "\"abc <class 'object'> def\""
      ]
     },
     "execution_count": 75,
     "metadata": {},
     "output_type": "execute_result"
    }
   ],
   "source": [
    "f\"abc {object!a} def\"  # same as ascii(object)\n"
   ]
  },
  {
   "cell_type": "code",
   "execution_count": 76,
   "id": "9328f89c",
   "metadata": {},
   "outputs": [
    {
     "data": {
      "text/plain": [
       "'abc +3 def'"
      ]
     },
     "execution_count": 76,
     "metadata": {},
     "output_type": "execute_result"
    }
   ],
   "source": [
    "# show sign +, -, or space\n",
    "f\"abc {1+2:+} def\"\n"
   ]
  },
  {
   "cell_type": "code",
   "execution_count": 77,
   "id": "b8252c35",
   "metadata": {},
   "outputs": [
    {
     "data": {
      "text/plain": [
       "'abc 3 def'"
      ]
     },
     "execution_count": 77,
     "metadata": {},
     "output_type": "execute_result"
    }
   ],
   "source": [
    "f\"abc {1+2:-} def\"\n"
   ]
  },
  {
   "cell_type": "code",
   "execution_count": 78,
   "id": "05de4bd3",
   "metadata": {},
   "outputs": [],
   "source": [
    "number = 1 + 2\n"
   ]
  },
  {
   "cell_type": "code",
   "execution_count": 79,
   "id": "05bf11ea",
   "metadata": {},
   "outputs": [
    {
     "data": {
      "text/plain": [
       "'abc +3 def'"
      ]
     },
     "execution_count": 79,
     "metadata": {},
     "output_type": "execute_result"
    }
   ],
   "source": [
    "f\"abc {number:+} def\"\n"
   ]
  },
  {
   "cell_type": "code",
   "execution_count": 80,
   "id": "e7235424",
   "metadata": {},
   "outputs": [],
   "source": [
    "number = -2\n"
   ]
  },
  {
   "cell_type": "code",
   "execution_count": 81,
   "id": "ffb74eb7",
   "metadata": {},
   "outputs": [
    {
     "data": {
      "text/plain": [
       "'abc -2 def'"
      ]
     },
     "execution_count": 81,
     "metadata": {},
     "output_type": "execute_result"
    }
   ],
   "source": [
    "f\"abc {number:+} def\"\n"
   ]
  },
  {
   "cell_type": "code",
   "execution_count": 87,
   "id": "1ce1de40",
   "metadata": {},
   "outputs": [
    {
     "data": {
      "text/plain": [
       "'abc aaa        def'"
      ]
     },
     "execution_count": 87,
     "metadata": {},
     "output_type": "execute_result"
    }
   ],
   "source": [
    "# alpha numeric\n",
    "######################\n",
    "# format string with 10 spaces\n",
    "f\"abc {'aaa':10s} def\"\n"
   ]
  },
  {
   "cell_type": "code",
   "execution_count": 88,
   "id": "a4ff1f86",
   "metadata": {},
   "outputs": [
    {
     "data": {
      "text/plain": [
       "'abc aaa        def'"
      ]
     },
     "execution_count": 88,
     "metadata": {},
     "output_type": "execute_result"
    }
   ],
   "source": [
    "# left align\n",
    "f\"abc {'aaa':<10s} def\"\n"
   ]
  },
  {
   "cell_type": "code",
   "execution_count": 91,
   "id": "19e91d91",
   "metadata": {},
   "outputs": [
    {
     "data": {
      "text/plain": [
       "'abc        aaa def'"
      ]
     },
     "execution_count": 91,
     "metadata": {},
     "output_type": "execute_result"
    }
   ],
   "source": [
    "# right align\n",
    "f\"abc {'aaa':>10s} def\"\n"
   ]
  },
  {
   "cell_type": "code",
   "execution_count": 92,
   "id": "01d87a8c",
   "metadata": {},
   "outputs": [],
   "source": [
    "# parameterized format specifier\n",
    "##################################\n",
    "# format number with x decimal places\n",
    "x = 4\n"
   ]
  },
  {
   "cell_type": "code",
   "execution_count": 93,
   "id": "0760d07c",
   "metadata": {},
   "outputs": [
    {
     "data": {
      "text/plain": [
       "'abc 3.0000 def'"
      ]
     },
     "execution_count": 93,
     "metadata": {},
     "output_type": "execute_result"
    }
   ],
   "source": [
    "f\"abc {1+2:.{x}f} def\"\n"
   ]
  },
  {
   "cell_type": "code",
   "execution_count": 94,
   "id": "328fe960",
   "metadata": {},
   "outputs": [],
   "source": [
    "# format number with x decimal places and y spaces\n",
    "x = 4\n"
   ]
  },
  {
   "cell_type": "code",
   "execution_count": 95,
   "id": "3bf10372",
   "metadata": {},
   "outputs": [],
   "source": [
    "y = 10\n"
   ]
  },
  {
   "cell_type": "code",
   "execution_count": 96,
   "id": "9ab4623f",
   "metadata": {},
   "outputs": [
    {
     "data": {
      "text/plain": [
       "'abc     3.0000 def'"
      ]
     },
     "execution_count": 96,
     "metadata": {},
     "output_type": "execute_result"
    }
   ],
   "source": [
    "f\"abc {1+2:{y}.{x}f} def\"\n"
   ]
  },
  {
   "cell_type": "code",
   "execution_count": 97,
   "id": "41a19681",
   "metadata": {},
   "outputs": [],
   "source": [
    "# format number with x decimal places and y spaces and z fill\n",
    "x = 4\n"
   ]
  },
  {
   "cell_type": "code",
   "execution_count": 98,
   "id": "69c0af88",
   "metadata": {},
   "outputs": [],
   "source": [
    "y = 10\n"
   ]
  },
  {
   "cell_type": "code",
   "execution_count": 99,
   "id": "21f29a22",
   "metadata": {},
   "outputs": [],
   "source": [
    "z = \"0\"\n"
   ]
  },
  {
   "cell_type": "code",
   "execution_count": 100,
   "id": "cff5d65a",
   "metadata": {},
   "outputs": [
    {
     "data": {
      "text/plain": [
       "'abc 00003.0000 def'"
      ]
     },
     "execution_count": 100,
     "metadata": {},
     "output_type": "execute_result"
    }
   ],
   "source": [
    "f\"abc {1+2:{z}{y}.{x}f} def\"\n"
   ]
  },
  {
   "cell_type": "code",
   "execution_count": 101,
   "id": "a115dece",
   "metadata": {},
   "outputs": [],
   "source": [
    "# format number with x decimal places and y spaces and z fill and as a type\n",
    "x = 4\n"
   ]
  },
  {
   "cell_type": "code",
   "execution_count": 102,
   "id": "b0a50314",
   "metadata": {},
   "outputs": [],
   "source": [
    "y = 10\n"
   ]
  },
  {
   "cell_type": "code",
   "execution_count": 103,
   "id": "7a382697",
   "metadata": {},
   "outputs": [],
   "source": [
    "z = \"0\"\n"
   ]
  },
  {
   "cell_type": "code",
   "execution_count": 104,
   "id": "e5e28962",
   "metadata": {},
   "outputs": [],
   "source": [
    "a = \"f\"\n"
   ]
  },
  {
   "cell_type": "code",
   "execution_count": 105,
   "id": "df189dea",
   "metadata": {},
   "outputs": [
    {
     "data": {
      "text/plain": [
       "'abc 00003.0000 def'"
      ]
     },
     "execution_count": 105,
     "metadata": {},
     "output_type": "execute_result"
    }
   ],
   "source": [
    "f\"abc {1+2:{z}{y}.{x}{a}} def\"\n"
   ]
  },
  {
   "cell_type": "code",
   "execution_count": 106,
   "id": "d80f62f6",
   "metadata": {},
   "outputs": [],
   "source": [
    "# percetnage in formt string\n",
    "###############################\n",
    "name = \"John\"\n"
   ]
  },
  {
   "cell_type": "code",
   "execution_count": 107,
   "id": "a4656e01",
   "metadata": {},
   "outputs": [],
   "source": [
    "age = 30\n"
   ]
  },
  {
   "cell_type": "code",
   "execution_count": 108,
   "id": "7773cecb",
   "metadata": {},
   "outputs": [],
   "source": [
    "height = 1.75\n"
   ]
  },
  {
   "cell_type": "code",
   "execution_count": 109,
   "id": "54d7cbf2",
   "metadata": {},
   "outputs": [
    {
     "name": "stdout",
     "output_type": "stream",
     "text": [
      "My name is John, I'm 30 years old, and I'm 1.75 meters tall.\n"
     ]
    }
   ],
   "source": [
    "# Using the % operator\n",
    "print(\n",
    "    \"My name is %s, I'm %d years old, and I'm %.2f meters tall.\" % (name, age, height)\n",
    ")"
   ]
  },
  {
   "cell_type": "code",
   "execution_count": 110,
   "id": "797abfff",
   "metadata": {},
   "outputs": [],
   "source": [
    "# template string\n",
    "######################\n",
    "# template string\n",
    "from string import Template\n"
   ]
  },
  {
   "cell_type": "code",
   "execution_count": 111,
   "id": "6393946e",
   "metadata": {},
   "outputs": [],
   "source": [
    "t = Template(\"abc $x def\")\n"
   ]
  },
  {
   "cell_type": "code",
   "execution_count": 112,
   "id": "aa332e7d",
   "metadata": {},
   "outputs": [
    {
     "data": {
      "text/plain": [
       "'abc 3 def'"
      ]
     },
     "execution_count": 112,
     "metadata": {},
     "output_type": "execute_result"
    }
   ],
   "source": [
    "t.substitute(x=1 + 2)\n"
   ]
  },
  {
   "cell_type": "code",
   "execution_count": 113,
   "id": "c7859a9b",
   "metadata": {},
   "outputs": [],
   "source": [
    "# template string with 2 decimal places\n",
    "t = Template(\"abc $x:.2f def\")\n"
   ]
  },
  {
   "cell_type": "code",
   "execution_count": 114,
   "id": "070d6b7e",
   "metadata": {},
   "outputs": [
    {
     "data": {
      "text/plain": [
       "'abc 3:.2f def'"
      ]
     },
     "execution_count": 114,
     "metadata": {},
     "output_type": "execute_result"
    }
   ],
   "source": [
    "t.substitute(x=1 + 2)\n"
   ]
  },
  {
   "cell_type": "code",
   "execution_count": 115,
   "id": "3e99fa1e",
   "metadata": {},
   "outputs": [],
   "source": [
    "# multiple substitutions\n",
    "t = Template(\"abc $x def $y\")\n"
   ]
  },
  {
   "cell_type": "code",
   "execution_count": 116,
   "id": "fdd0051e",
   "metadata": {},
   "outputs": [],
   "source": [
    "subs = {\"x\": 1 + 2, \"y\": 3 + 4}\n"
   ]
  },
  {
   "cell_type": "code",
   "execution_count": 117,
   "id": "1b8a1006",
   "metadata": {},
   "outputs": [
    {
     "data": {
      "text/plain": [
       "'abc 3 def 7'"
      ]
     },
     "execution_count": 117,
     "metadata": {},
     "output_type": "execute_result"
    }
   ],
   "source": [
    "t.substitute(subs)\n"
   ]
  },
  {
   "cell_type": "code",
   "execution_count": 118,
   "id": "7a0b438e",
   "metadata": {},
   "outputs": [],
   "source": [
    "# substitute a list\n",
    "t = Template(\"abc $x def $y\")\n"
   ]
  },
  {
   "cell_type": "code",
   "execution_count": 119,
   "id": "4c9551f8",
   "metadata": {},
   "outputs": [],
   "source": [
    "subs = [1 + 2, 3 + 4]\n"
   ]
  },
  {
   "cell_type": "code",
   "execution_count": 120,
   "id": "dda10728",
   "metadata": {},
   "outputs": [
    {
     "data": {
      "text/plain": [
       "'abc 3 def 7'"
      ]
     },
     "execution_count": 120,
     "metadata": {},
     "output_type": "execute_result"
    }
   ],
   "source": [
    "t.substitute(x=subs[0], y=subs[1])\n"
   ]
  }
 ],
 "metadata": {
  "kernelspec": {
   "display_name": "Python 3",
   "language": "python",
   "name": "python3"
  },
  "language_info": {
   "codemirror_mode": {
    "name": "ipython",
    "version": 3
   },
   "file_extension": ".py",
   "mimetype": "text/x-python",
   "name": "python",
   "nbconvert_exporter": "python",
   "pygments_lexer": "ipython3",
   "version": "3.12.1"
  }
 },
 "nbformat": 4,
 "nbformat_minor": 5
}
