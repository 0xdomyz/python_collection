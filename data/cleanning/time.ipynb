{
 "cells": [
  {
   "cell_type": "code",
   "execution_count": null,
   "id": "ce2bc3c9",
   "metadata": {},
   "outputs": [],
   "source": [
    "import matplotlib.pyplot as plt\n",
    "import numpy as np\n",
    "import pandas as pd\n",
    "import statsmodels.api as sm\n",
    "from scipy import stats\n",
    "from io import StringIO"
   ]
  },
  {
   "cell_type": "code",
   "execution_count": 5,
   "id": "81df5f7c",
   "metadata": {},
   "outputs": [
    {
     "data": {
      "application/vnd.microsoft.datawrangler.viewer.v0+json": {
       "columns": [
        {
         "name": "index",
         "rawType": "int64",
         "type": "integer"
        },
        {
         "name": "time",
         "rawType": "datetime64[ns]",
         "type": "datetime"
        },
        {
         "name": "other_col",
         "rawType": "int64",
         "type": "integer"
        }
       ],
       "ref": "7c40b314-36c5-4c62-9e67-5cb360a4c768",
       "rows": [
        [
         "0",
         "2000-01-01 12:00:00",
         "5"
        ],
        [
         "1",
         "2000-01-02 13:00:00",
         "6"
        ]
       ],
       "shape": {
        "columns": 2,
        "rows": 2
       }
      },
      "text/html": [
       "<div>\n",
       "<style scoped>\n",
       "    .dataframe tbody tr th:only-of-type {\n",
       "        vertical-align: middle;\n",
       "    }\n",
       "\n",
       "    .dataframe tbody tr th {\n",
       "        vertical-align: top;\n",
       "    }\n",
       "\n",
       "    .dataframe thead th {\n",
       "        text-align: right;\n",
       "    }\n",
       "</style>\n",
       "<table border=\"1\" class=\"dataframe\">\n",
       "  <thead>\n",
       "    <tr style=\"text-align: right;\">\n",
       "      <th></th>\n",
       "      <th>time</th>\n",
       "      <th>other_col</th>\n",
       "    </tr>\n",
       "  </thead>\n",
       "  <tbody>\n",
       "    <tr>\n",
       "      <th>0</th>\n",
       "      <td>2000-01-01 12:00:00</td>\n",
       "      <td>5</td>\n",
       "    </tr>\n",
       "    <tr>\n",
       "      <th>1</th>\n",
       "      <td>2000-01-02 13:00:00</td>\n",
       "      <td>6</td>\n",
       "    </tr>\n",
       "  </tbody>\n",
       "</table>\n",
       "</div>"
      ],
      "text/plain": [
       "                 time  other_col\n",
       "0 2000-01-01 12:00:00          5\n",
       "1 2000-01-02 13:00:00          6"
      ]
     },
     "execution_count": 5,
     "metadata": {},
     "output_type": "execute_result"
    }
   ],
   "source": [
    "# datetime cleaning\n",
    "_ = \"\"\"\n",
    "time,other_col\n",
    "01-01-2000 12:00:00,5\n",
    "02-01-2000 13:00:00,6\n",
    "\"\"\"\n",
    "df = pd.read_csv(StringIO(_))\n",
    "\n",
    "df[\"time\"] = pd.to_datetime(df[\"time\"], format=\"%d-%m-%Y %H:%M:%S\")\n",
    "df"
   ]
  },
  {
   "cell_type": "code",
   "execution_count": null,
   "id": "323085e5",
   "metadata": {},
   "outputs": [
    {
     "data": {
      "application/vnd.microsoft.datawrangler.viewer.v0+json": {
       "columns": [
        {
         "name": "index",
         "rawType": "int64",
         "type": "integer"
        },
        {
         "name": "time",
         "rawType": "datetime64[ns]",
         "type": "datetime"
        },
        {
         "name": "other_col",
         "rawType": "int64",
         "type": "integer"
        },
        {
         "name": "time_sydney",
         "rawType": "datetime64[ns, Australia/Sydney]",
         "type": "unknown"
        },
        {
         "name": "time_singapore",
         "rawType": "datetime64[ns, Asia/Singapore]",
         "type": "unknown"
        }
       ],
       "ref": "5804f5d9-7dfb-4a29-a7b3-be4567e334ad",
       "rows": [
        [
         "0",
         "2000-01-01 12:00:00",
         "5",
         "2000-01-01 12:00:00+11:00",
         "2000-01-01 12:00:00+08:00"
        ],
        [
         "1",
         "2000-01-02 13:00:00",
         "6",
         "2000-01-02 13:00:00+11:00",
         "2000-01-02 13:00:00+08:00"
        ]
       ],
       "shape": {
        "columns": 4,
        "rows": 2
       }
      },
      "text/html": [
       "<div>\n",
       "<style scoped>\n",
       "    .dataframe tbody tr th:only-of-type {\n",
       "        vertical-align: middle;\n",
       "    }\n",
       "\n",
       "    .dataframe tbody tr th {\n",
       "        vertical-align: top;\n",
       "    }\n",
       "\n",
       "    .dataframe thead th {\n",
       "        text-align: right;\n",
       "    }\n",
       "</style>\n",
       "<table border=\"1\" class=\"dataframe\">\n",
       "  <thead>\n",
       "    <tr style=\"text-align: right;\">\n",
       "      <th></th>\n",
       "      <th>time</th>\n",
       "      <th>other_col</th>\n",
       "      <th>time_sydney</th>\n",
       "      <th>time_singapore</th>\n",
       "    </tr>\n",
       "  </thead>\n",
       "  <tbody>\n",
       "    <tr>\n",
       "      <th>0</th>\n",
       "      <td>2000-01-01 12:00:00</td>\n",
       "      <td>5</td>\n",
       "      <td>2000-01-01 12:00:00+11:00</td>\n",
       "      <td>2000-01-01 12:00:00+08:00</td>\n",
       "    </tr>\n",
       "    <tr>\n",
       "      <th>1</th>\n",
       "      <td>2000-01-02 13:00:00</td>\n",
       "      <td>6</td>\n",
       "      <td>2000-01-02 13:00:00+11:00</td>\n",
       "      <td>2000-01-02 13:00:00+08:00</td>\n",
       "    </tr>\n",
       "  </tbody>\n",
       "</table>\n",
       "</div>"
      ],
      "text/plain": [
       "                 time  other_col               time_sydney  \\\n",
       "0 2000-01-01 12:00:00          5 2000-01-01 12:00:00+11:00   \n",
       "1 2000-01-02 13:00:00          6 2000-01-02 13:00:00+11:00   \n",
       "\n",
       "             time_singapore  \n",
       "0 2000-01-01 12:00:00+08:00  \n",
       "1 2000-01-02 13:00:00+08:00  "
      ]
     },
     "execution_count": 8,
     "metadata": {},
     "output_type": "execute_result"
    }
   ],
   "source": [
    "# time zone localize: assuming naive datetime is in local time\n",
    "df[\"time_sydney\"] = df[\"time\"].dt.tz_localize(\"Australia/Sydney\")\n",
    "df[\"time_singapore\"] = df[\"time\"].dt.tz_localize(\"Asia/Singapore\")\n",
    "df"
   ]
  },
  {
   "cell_type": "code",
   "execution_count": 10,
   "id": "a35bbc67",
   "metadata": {},
   "outputs": [
    {
     "data": {
      "application/vnd.microsoft.datawrangler.viewer.v0+json": {
       "columns": [
        {
         "name": "index",
         "rawType": "int64",
         "type": "integer"
        },
        {
         "name": "time",
         "rawType": "datetime64[ns]",
         "type": "datetime"
        },
        {
         "name": "other_col",
         "rawType": "int64",
         "type": "integer"
        },
        {
         "name": "time_sydney",
         "rawType": "datetime64[ns, Australia/Sydney]",
         "type": "unknown"
        },
        {
         "name": "time_singapore",
         "rawType": "datetime64[ns, Asia/Singapore]",
         "type": "unknown"
        },
        {
         "name": "time_sydney_utc_naive",
         "rawType": "datetime64[ns]",
         "type": "datetime"
        }
       ],
       "ref": "ecaa17f1-f477-41e9-8622-445b00264945",
       "rows": [
        [
         "0",
         "2000-01-01 12:00:00",
         "5",
         "2000-01-01 12:00:00+11:00",
         "2000-01-01 12:00:00+08:00",
         "2000-01-01 01:00:00"
        ],
        [
         "1",
         "2000-01-02 13:00:00",
         "6",
         "2000-01-02 13:00:00+11:00",
         "2000-01-02 13:00:00+08:00",
         "2000-01-02 02:00:00"
        ]
       ],
       "shape": {
        "columns": 5,
        "rows": 2
       }
      },
      "text/html": [
       "<div>\n",
       "<style scoped>\n",
       "    .dataframe tbody tr th:only-of-type {\n",
       "        vertical-align: middle;\n",
       "    }\n",
       "\n",
       "    .dataframe tbody tr th {\n",
       "        vertical-align: top;\n",
       "    }\n",
       "\n",
       "    .dataframe thead th {\n",
       "        text-align: right;\n",
       "    }\n",
       "</style>\n",
       "<table border=\"1\" class=\"dataframe\">\n",
       "  <thead>\n",
       "    <tr style=\"text-align: right;\">\n",
       "      <th></th>\n",
       "      <th>time</th>\n",
       "      <th>other_col</th>\n",
       "      <th>time_sydney</th>\n",
       "      <th>time_singapore</th>\n",
       "      <th>time_sydney_utc_naive</th>\n",
       "    </tr>\n",
       "  </thead>\n",
       "  <tbody>\n",
       "    <tr>\n",
       "      <th>0</th>\n",
       "      <td>2000-01-01 12:00:00</td>\n",
       "      <td>5</td>\n",
       "      <td>2000-01-01 12:00:00+11:00</td>\n",
       "      <td>2000-01-01 12:00:00+08:00</td>\n",
       "      <td>2000-01-01 01:00:00</td>\n",
       "    </tr>\n",
       "    <tr>\n",
       "      <th>1</th>\n",
       "      <td>2000-01-02 13:00:00</td>\n",
       "      <td>6</td>\n",
       "      <td>2000-01-02 13:00:00+11:00</td>\n",
       "      <td>2000-01-02 13:00:00+08:00</td>\n",
       "      <td>2000-01-02 02:00:00</td>\n",
       "    </tr>\n",
       "  </tbody>\n",
       "</table>\n",
       "</div>"
      ],
      "text/plain": [
       "                 time  other_col               time_sydney  \\\n",
       "0 2000-01-01 12:00:00          5 2000-01-01 12:00:00+11:00   \n",
       "1 2000-01-02 13:00:00          6 2000-01-02 13:00:00+11:00   \n",
       "\n",
       "             time_singapore time_sydney_utc_naive  \n",
       "0 2000-01-01 12:00:00+08:00   2000-01-01 01:00:00  \n",
       "1 2000-01-02 13:00:00+08:00   2000-01-02 02:00:00  "
      ]
     },
     "execution_count": 10,
     "metadata": {},
     "output_type": "execute_result"
    }
   ],
   "source": [
    "# time zone convert to UTC then remove time zone info\n",
    "df[\"time_sydney_utc_naive\"] = df[\"time_sydney\"].dt.tz_convert(\"UTC\").dt.tz_localize(None)\n",
    "df\n"
   ]
  },
  {
   "cell_type": "code",
   "execution_count": null,
   "id": "6fbb6f81",
   "metadata": {},
   "outputs": [],
   "source": []
  }
 ],
 "metadata": {
  "kernelspec": {
   "display_name": "Python 3",
   "language": "python",
   "name": "python3"
  },
  "language_info": {
   "codemirror_mode": {
    "name": "ipython",
    "version": 3
   },
   "file_extension": ".py",
   "mimetype": "text/x-python",
   "name": "python",
   "nbconvert_exporter": "python",
   "pygments_lexer": "ipython3",
   "version": "3.13.2"
  }
 },
 "nbformat": 4,
 "nbformat_minor": 5
}
