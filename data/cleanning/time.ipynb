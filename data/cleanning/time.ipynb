{
 "cells": [
  {
   "cell_type": "code",
   "execution_count": 2,
   "id": "ce2bc3c9",
   "metadata": {},
   "outputs": [],
   "source": [
    "import matplotlib.pyplot as plt\n",
    "import numpy as np\n",
    "import pandas as pd\n",
    "import statsmodels.api as sm\n",
    "from scipy import stats\n",
    "from io import StringIO"
   ]
  },
  {
   "cell_type": "markdown",
   "id": "81df5f7c",
   "metadata": {},
   "source": [
    "### parse datetime data"
   ]
  },
  {
   "cell_type": "code",
   "execution_count": null,
   "id": "a5e45fa1",
   "metadata": {},
   "outputs": [],
   "source": [
    "_ = \"\"\"\n",
    "time,other_col\n",
    "01-01-2000 12:00:00,5\n",
    "01-05-2000 1:00:00,3\n",
    "01-12-2000 13:00:00,6\n",
    "\"\"\"\n",
    "df = pd.read_csv(StringIO(_))\n",
    "\n",
    "df[\"time\"] = pd.to_datetime(df[\"time\"], format=\"%d-%m-%Y %H:%M:%S\")\n",
    "df"
   ]
  },
  {
   "cell_type": "markdown",
   "id": "88481e79",
   "metadata": {},
   "source": [
    "### truncate datetime to month end\n"
   ]
  },
  {
   "cell_type": "code",
   "execution_count": null,
   "id": "d5331fa0",
   "metadata": {},
   "outputs": [],
   "source": [
    "import datetime\n",
    "\n",
    "# def month_end(dt):\n",
    "#     if dt.month == 12:\n",
    "#         next_mth_day_1 = datetime.datetime(dt.year + 1, 1, 1)\n",
    "#     else:\n",
    "#         next_mth_day_1 = datetime.datetime(dt.year, dt.month + 1, 1)\n",
    "#     return next_mth_day_1 - datetime.timedelta(days=1)\n",
    "\n",
    "\n",
    "def month_end(dt):\n",
    "    next_mth_dt = dt + pd.DateOffset(months=1)\n",
    "    next_mth_day_1 = next_mth_dt.replace(day=1)\n",
    "    return next_mth_day_1 - datetime.timedelta(days=1)\n",
    "\n",
    "\n",
    "df[\"eom\"] = df[\"time\"].apply(month_end)\n",
    "df[\"eom\"]"
   ]
  },
  {
   "cell_type": "markdown",
   "id": "0f5cd289",
   "metadata": {},
   "source": [
    "### working with timezones"
   ]
  },
  {
   "cell_type": "code",
   "execution_count": 17,
   "id": "323085e5",
   "metadata": {},
   "outputs": [
    {
     "data": {
      "application/vnd.microsoft.datawrangler.viewer.v0+json": {
       "columns": [
        {
         "name": "index",
         "rawType": "int64",
         "type": "integer"
        },
        {
         "name": "time",
         "rawType": "datetime64[ns]",
         "type": "datetime"
        },
        {
         "name": "other_col",
         "rawType": "int64",
         "type": "integer"
        },
        {
         "name": "eom",
         "rawType": "datetime64[ns]",
         "type": "datetime"
        },
        {
         "name": "time_sydney",
         "rawType": "datetime64[ns, Australia/Sydney]",
         "type": "unknown"
        },
        {
         "name": "time_singapore",
         "rawType": "datetime64[ns, Asia/Singapore]",
         "type": "unknown"
        }
       ],
       "ref": "ebd57029-82bb-4d60-9ebd-d6053a41c1df",
       "rows": [
        [
         "0",
         "2000-01-01 12:00:00",
         "5",
         "2000-01-31 00:00:00",
         "2000-01-01 12:00:00+11:00",
         "2000-01-01 12:00:00+08:00"
        ],
        [
         "1",
         "2000-05-01 01:00:00",
         "3",
         "2000-05-31 00:00:00",
         "2000-05-01 01:00:00+10:00",
         "2000-05-01 01:00:00+08:00"
        ],
        [
         "2",
         "2000-12-01 13:00:00",
         "6",
         "2000-12-31 00:00:00",
         "2000-12-01 13:00:00+11:00",
         "2000-12-01 13:00:00+08:00"
        ]
       ],
       "shape": {
        "columns": 5,
        "rows": 3
       }
      },
      "text/html": [
       "<div>\n",
       "<style scoped>\n",
       "    .dataframe tbody tr th:only-of-type {\n",
       "        vertical-align: middle;\n",
       "    }\n",
       "\n",
       "    .dataframe tbody tr th {\n",
       "        vertical-align: top;\n",
       "    }\n",
       "\n",
       "    .dataframe thead th {\n",
       "        text-align: right;\n",
       "    }\n",
       "</style>\n",
       "<table border=\"1\" class=\"dataframe\">\n",
       "  <thead>\n",
       "    <tr style=\"text-align: right;\">\n",
       "      <th></th>\n",
       "      <th>time</th>\n",
       "      <th>other_col</th>\n",
       "      <th>eom</th>\n",
       "      <th>time_sydney</th>\n",
       "      <th>time_singapore</th>\n",
       "    </tr>\n",
       "  </thead>\n",
       "  <tbody>\n",
       "    <tr>\n",
       "      <th>0</th>\n",
       "      <td>2000-01-01 12:00:00</td>\n",
       "      <td>5</td>\n",
       "      <td>2000-01-31</td>\n",
       "      <td>2000-01-01 12:00:00+11:00</td>\n",
       "      <td>2000-01-01 12:00:00+08:00</td>\n",
       "    </tr>\n",
       "    <tr>\n",
       "      <th>1</th>\n",
       "      <td>2000-05-01 01:00:00</td>\n",
       "      <td>3</td>\n",
       "      <td>2000-05-31</td>\n",
       "      <td>2000-05-01 01:00:00+10:00</td>\n",
       "      <td>2000-05-01 01:00:00+08:00</td>\n",
       "    </tr>\n",
       "    <tr>\n",
       "      <th>2</th>\n",
       "      <td>2000-12-01 13:00:00</td>\n",
       "      <td>6</td>\n",
       "      <td>2000-12-31</td>\n",
       "      <td>2000-12-01 13:00:00+11:00</td>\n",
       "      <td>2000-12-01 13:00:00+08:00</td>\n",
       "    </tr>\n",
       "  </tbody>\n",
       "</table>\n",
       "</div>"
      ],
      "text/plain": [
       "                 time  other_col        eom               time_sydney  \\\n",
       "0 2000-01-01 12:00:00          5 2000-01-31 2000-01-01 12:00:00+11:00   \n",
       "1 2000-05-01 01:00:00          3 2000-05-31 2000-05-01 01:00:00+10:00   \n",
       "2 2000-12-01 13:00:00          6 2000-12-31 2000-12-01 13:00:00+11:00   \n",
       "\n",
       "             time_singapore  \n",
       "0 2000-01-01 12:00:00+08:00  \n",
       "1 2000-05-01 01:00:00+08:00  \n",
       "2 2000-12-01 13:00:00+08:00  "
      ]
     },
     "execution_count": 17,
     "metadata": {},
     "output_type": "execute_result"
    }
   ],
   "source": [
    "# time zone localize: assuming naive datetime is in local time\n",
    "df[\"time_sydney\"] = df[\"time\"].dt.tz_localize(\"Australia/Sydney\")\n",
    "df[\"time_singapore\"] = df[\"time\"].dt.tz_localize(\"Asia/Singapore\")\n",
    "df"
   ]
  },
  {
   "cell_type": "code",
   "execution_count": 18,
   "id": "a35bbc67",
   "metadata": {},
   "outputs": [
    {
     "data": {
      "application/vnd.microsoft.datawrangler.viewer.v0+json": {
       "columns": [
        {
         "name": "index",
         "rawType": "int64",
         "type": "integer"
        },
        {
         "name": "time",
         "rawType": "datetime64[ns]",
         "type": "datetime"
        },
        {
         "name": "other_col",
         "rawType": "int64",
         "type": "integer"
        },
        {
         "name": "eom",
         "rawType": "datetime64[ns]",
         "type": "datetime"
        },
        {
         "name": "time_sydney",
         "rawType": "datetime64[ns, Australia/Sydney]",
         "type": "unknown"
        },
        {
         "name": "time_singapore",
         "rawType": "datetime64[ns, Asia/Singapore]",
         "type": "unknown"
        },
        {
         "name": "time_sydney_utc_naive",
         "rawType": "datetime64[ns]",
         "type": "datetime"
        }
       ],
       "ref": "f8ec9aa6-6764-4fb4-a0c5-c1f016e586fd",
       "rows": [
        [
         "0",
         "2000-01-01 12:00:00",
         "5",
         "2000-01-31 00:00:00",
         "2000-01-01 12:00:00+11:00",
         "2000-01-01 12:00:00+08:00",
         "2000-01-01 01:00:00"
        ],
        [
         "1",
         "2000-05-01 01:00:00",
         "3",
         "2000-05-31 00:00:00",
         "2000-05-01 01:00:00+10:00",
         "2000-05-01 01:00:00+08:00",
         "2000-04-30 15:00:00"
        ],
        [
         "2",
         "2000-12-01 13:00:00",
         "6",
         "2000-12-31 00:00:00",
         "2000-12-01 13:00:00+11:00",
         "2000-12-01 13:00:00+08:00",
         "2000-12-01 02:00:00"
        ]
       ],
       "shape": {
        "columns": 6,
        "rows": 3
       }
      },
      "text/html": [
       "<div>\n",
       "<style scoped>\n",
       "    .dataframe tbody tr th:only-of-type {\n",
       "        vertical-align: middle;\n",
       "    }\n",
       "\n",
       "    .dataframe tbody tr th {\n",
       "        vertical-align: top;\n",
       "    }\n",
       "\n",
       "    .dataframe thead th {\n",
       "        text-align: right;\n",
       "    }\n",
       "</style>\n",
       "<table border=\"1\" class=\"dataframe\">\n",
       "  <thead>\n",
       "    <tr style=\"text-align: right;\">\n",
       "      <th></th>\n",
       "      <th>time</th>\n",
       "      <th>other_col</th>\n",
       "      <th>eom</th>\n",
       "      <th>time_sydney</th>\n",
       "      <th>time_singapore</th>\n",
       "      <th>time_sydney_utc_naive</th>\n",
       "    </tr>\n",
       "  </thead>\n",
       "  <tbody>\n",
       "    <tr>\n",
       "      <th>0</th>\n",
       "      <td>2000-01-01 12:00:00</td>\n",
       "      <td>5</td>\n",
       "      <td>2000-01-31</td>\n",
       "      <td>2000-01-01 12:00:00+11:00</td>\n",
       "      <td>2000-01-01 12:00:00+08:00</td>\n",
       "      <td>2000-01-01 01:00:00</td>\n",
       "    </tr>\n",
       "    <tr>\n",
       "      <th>1</th>\n",
       "      <td>2000-05-01 01:00:00</td>\n",
       "      <td>3</td>\n",
       "      <td>2000-05-31</td>\n",
       "      <td>2000-05-01 01:00:00+10:00</td>\n",
       "      <td>2000-05-01 01:00:00+08:00</td>\n",
       "      <td>2000-04-30 15:00:00</td>\n",
       "    </tr>\n",
       "    <tr>\n",
       "      <th>2</th>\n",
       "      <td>2000-12-01 13:00:00</td>\n",
       "      <td>6</td>\n",
       "      <td>2000-12-31</td>\n",
       "      <td>2000-12-01 13:00:00+11:00</td>\n",
       "      <td>2000-12-01 13:00:00+08:00</td>\n",
       "      <td>2000-12-01 02:00:00</td>\n",
       "    </tr>\n",
       "  </tbody>\n",
       "</table>\n",
       "</div>"
      ],
      "text/plain": [
       "                 time  other_col        eom               time_sydney  \\\n",
       "0 2000-01-01 12:00:00          5 2000-01-31 2000-01-01 12:00:00+11:00   \n",
       "1 2000-05-01 01:00:00          3 2000-05-31 2000-05-01 01:00:00+10:00   \n",
       "2 2000-12-01 13:00:00          6 2000-12-31 2000-12-01 13:00:00+11:00   \n",
       "\n",
       "             time_singapore time_sydney_utc_naive  \n",
       "0 2000-01-01 12:00:00+08:00   2000-01-01 01:00:00  \n",
       "1 2000-05-01 01:00:00+08:00   2000-04-30 15:00:00  \n",
       "2 2000-12-01 13:00:00+08:00   2000-12-01 02:00:00  "
      ]
     },
     "execution_count": 18,
     "metadata": {},
     "output_type": "execute_result"
    }
   ],
   "source": [
    "# time zone convert to UTC then remove time zone info\n",
    "df[\"time_sydney_utc_naive\"] = (\n",
    "    df[\"time_sydney\"].dt.tz_convert(\"UTC\").dt.tz_localize(None)\n",
    ")\n",
    "df"
   ]
  },
  {
   "cell_type": "code",
   "execution_count": null,
   "id": "6fbb6f81",
   "metadata": {},
   "outputs": [],
   "source": []
  }
 ],
 "metadata": {
  "kernelspec": {
   "display_name": "Python 3",
   "language": "python",
   "name": "python3"
  },
  "language_info": {
   "codemirror_mode": {
    "name": "ipython",
    "version": 3
   },
   "file_extension": ".py",
   "mimetype": "text/x-python",
   "name": "python",
   "nbconvert_exporter": "python",
   "pygments_lexer": "ipython3",
   "version": "3.13.2"
  }
 },
 "nbformat": 4,
 "nbformat_minor": 5
}
