{
 "cells": [
  {
   "cell_type": "code",
   "execution_count": 4,
   "metadata": {},
   "outputs": [
    {
     "name": "stdout",
     "output_type": "stream",
     "text": [
      "c:/Users/yzdom/AppData/Local/Programs/Python/Python312/Lib/site-packages/saspy/sascfg.py\n"
     ]
    }
   ],
   "source": [
    "# find out where the sascfg.py file is located\n",
    "import saspy\n",
    "from pathlib import Path\n",
    "print(Path(saspy.SAScfg).as_posix())"
   ]
  },
  {
   "cell_type": "code",
   "execution_count": 6,
   "metadata": {},
   "outputs": [
    {
     "name": "stdout",
     "output_type": "stream",
     "text": [
      "C:/Users/yzdom/.config/saspy/sascfg_personal.py\n"
     ]
    }
   ],
   "source": [
    "# create the personal sascfg.py file\n",
    "sascfg_personal = Path.home() / \".config\" / \"saspy\" / \"sascfg_personal.py\"\n",
    "\n",
    "# write the sascfg_personal.py file, create the directory if it does not exist\n",
    "sascfg_personal.parent.mkdir(parents=True, exist_ok=True)\n",
    "\n",
    "# copy the sascfg.py file to the sascfg_personal.py file\n",
    "sascfg_personal.write_text(Path(saspy.SAScfg).read_text())\n",
    "\n",
    "# print the location of the sascfg_personal.py file\n",
    "print(sascfg_personal.as_posix())"
   ]
  },
  {
   "cell_type": "code",
   "execution_count": null,
   "metadata": {},
   "outputs": [],
   "source": [
    "# https://welcome.oda.sas.com/"
   ]
  },
  {
   "cell_type": "code",
   "execution_count": null,
   "metadata": {},
   "outputs": [],
   "source": [
    "# local sasserver"
   ]
  },
  {
   "cell_type": "code",
   "execution_count": null,
   "metadata": {},
   "outputs": [],
   "source": []
  },
  {
   "cell_type": "code",
   "execution_count": null,
   "metadata": {},
   "outputs": [],
   "source": []
  }
 ],
 "metadata": {
  "kernelspec": {
   "display_name": "Python 3",
   "language": "python",
   "name": "python3"
  },
  "language_info": {
   "codemirror_mode": {
    "name": "ipython",
    "version": 3
   },
   "file_extension": ".py",
   "mimetype": "text/x-python",
   "name": "python",
   "nbconvert_exporter": "python",
   "pygments_lexer": "ipython3",
   "version": "3.12.1"
  }
 },
 "nbformat": 4,
 "nbformat_minor": 2
}
