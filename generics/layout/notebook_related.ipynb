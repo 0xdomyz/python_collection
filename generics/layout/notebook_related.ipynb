{
 "cells": [
  {
   "cell_type": "markdown",
   "metadata": {},
   "source": [
    "### scrip to notebook"
   ]
  },
  {
   "cell_type": "code",
   "execution_count": 1,
   "metadata": {},
   "outputs": [],
   "source": [
    "import nbformat as nbf\n",
    "\n",
    "def convert_script_to_notebook(script_path, notebook_path):\n",
    "    with open(script_path, 'r') as f:\n",
    "        lines = f.readlines()\n",
    "\n",
    "    nb = nbf.v4.new_notebook()\n",
    "\n",
    "    buffer = ''\n",
    "    for line in lines:\n",
    "        # Skip blank lines\n",
    "        if line.strip() == '':\n",
    "            continue\n",
    "\n",
    "        # If line is a comment, add it to the buffer\n",
    "        if line.strip().startswith('#'):\n",
    "            buffer += line\n",
    "        else:\n",
    "            # If line is not a comment, add the buffer and the line to a new cell\n",
    "            code_cell = nbf.v4.new_code_cell(source=buffer + line)\n",
    "            nb['cells'].append(code_cell)\n",
    "            buffer = ''  # Clear the buffer\n",
    "\n",
    "    # If there are remaining comments in the buffer, add them to a new cell\n",
    "    if buffer:\n",
    "        code_cell = nbf.v4.new_code_cell(source=buffer)\n",
    "        nb['cells'].append(code_cell)\n",
    "\n",
    "    with open(notebook_path, 'w') as f:\n",
    "        nbf.write(nb, f)"
   ]
  },
  {
   "cell_type": "code",
   "execution_count": 2,
   "metadata": {},
   "outputs": [],
   "source": [
    "convert_script_to_notebook(\n",
    "    script_path=r'C:\\Users\\yzdom\\Projects\\python_collection\\data\\str_regexp_tute\\str_formats.py',\n",
    "    notebook_path=r'C:\\Users\\yzdom\\Projects\\python_collection\\data\\str_regexp_tute\\str_formats.ipynb'\n",
    ")"
   ]
  },
  {
   "cell_type": "markdown",
   "metadata": {},
   "source": [
    "### count errors in cells "
   ]
  },
  {
   "cell_type": "code",
   "execution_count": 1,
   "metadata": {},
   "outputs": [],
   "source": [
    "import ipynb_error_count as iec"
   ]
  },
  {
   "cell_type": "code",
   "execution_count": 3,
   "metadata": {},
   "outputs": [
    {
     "ename": "NameError",
     "evalue": "name 'arstasr' is not defined",
     "output_type": "error",
     "traceback": [
      "\u001b[31m---------------------------------------------------------------------------\u001b[39m",
      "\u001b[31mNameError\u001b[39m                                 Traceback (most recent call last)",
      "\u001b[36mCell\u001b[39m\u001b[36m \u001b[39m\u001b[32mIn[3]\u001b[39m\u001b[32m, line 1\u001b[39m\n\u001b[32m----> \u001b[39m\u001b[32m1\u001b[39m \u001b[43marstasr\u001b[49m\n",
      "\u001b[31mNameError\u001b[39m: name 'arstasr' is not defined"
     ]
    }
   ],
   "source": [
    "arstasr\n"
   ]
  },
  {
   "cell_type": "code",
   "execution_count": 8,
   "metadata": {},
   "outputs": [
    {
     "ename": "TypeError",
     "evalue": "unsupported operand type(s) for +: 'int' and 'str'",
     "output_type": "error",
     "traceback": [
      "\u001b[31m---------------------------------------------------------------------------\u001b[39m",
      "\u001b[31mTypeError\u001b[39m                                 Traceback (most recent call last)",
      "\u001b[36mCell\u001b[39m\u001b[36m \u001b[39m\u001b[32mIn[8]\u001b[39m\u001b[32m, line 1\u001b[39m\n\u001b[32m----> \u001b[39m\u001b[32m1\u001b[39m \u001b[32;43m1\u001b[39;49m\u001b[43m+\u001b[49m\u001b[43m \u001b[49m\u001b[33;43m\"\u001b[39;49m\u001b[33;43mrst\u001b[39;49m\u001b[33;43m\"\u001b[39;49m\n",
      "\u001b[31mTypeError\u001b[39m: unsupported operand type(s) for +: 'int' and 'str'"
     ]
    }
   ],
   "source": [
    "1+ \"rst\"\n"
   ]
  },
  {
   "cell_type": "code",
   "execution_count": 4,
   "metadata": {},
   "outputs": [
    {
     "ename": "AssertionError",
     "evalue": "1",
     "output_type": "error",
     "traceback": [
      "\u001b[31m---------------------------------------------------------------------------\u001b[39m",
      "\u001b[31mAssertionError\u001b[39m                            Traceback (most recent call last)",
      "\u001b[36mCell\u001b[39m\u001b[36m \u001b[39m\u001b[32mIn[4]\u001b[39m\u001b[32m, line 1\u001b[39m\n\u001b[32m----> \u001b[39m\u001b[32m1\u001b[39m \u001b[38;5;28;01massert\u001b[39;00m iec.error_count == \u001b[32m0\u001b[39m, iec.error_count\n",
      "\u001b[31mAssertionError\u001b[39m: 1"
     ]
    }
   ],
   "source": [
    "assert iec.error_count == 0, iec.error_count"
   ]
  }
 ],
 "metadata": {
  "kernelspec": {
   "display_name": "Python 3",
   "language": "python",
   "name": "python3"
  },
  "language_info": {
   "codemirror_mode": {
    "name": "ipython",
    "version": 3
   },
   "file_extension": ".py",
   "mimetype": "text/x-python",
   "name": "python",
   "nbconvert_exporter": "python",
   "pygments_lexer": "ipython3",
   "version": "3.13.2"
  }
 },
 "nbformat": 4,
 "nbformat_minor": 2
}
