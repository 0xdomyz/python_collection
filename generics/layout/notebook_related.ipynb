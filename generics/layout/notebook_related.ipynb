{
 "cells": [
  {
   "cell_type": "markdown",
   "metadata": {},
   "source": [
    "### scrip to notebook"
   ]
  },
  {
   "cell_type": "code",
   "execution_count": 1,
   "metadata": {},
   "outputs": [],
   "source": [
    "import nbformat as nbf\n",
    "\n",
    "def convert_script_to_notebook(script_path, notebook_path):\n",
    "    with open(script_path, 'r') as f:\n",
    "        lines = f.readlines()\n",
    "\n",
    "    nb = nbf.v4.new_notebook()\n",
    "\n",
    "    buffer = ''\n",
    "    for line in lines:\n",
    "        # Skip blank lines\n",
    "        if line.strip() == '':\n",
    "            continue\n",
    "\n",
    "        # If line is a comment, add it to the buffer\n",
    "        if line.strip().startswith('#'):\n",
    "            buffer += line\n",
    "        else:\n",
    "            # If line is not a comment, add the buffer and the line to a new cell\n",
    "            code_cell = nbf.v4.new_code_cell(source=buffer + line)\n",
    "            nb['cells'].append(code_cell)\n",
    "            buffer = ''  # Clear the buffer\n",
    "\n",
    "    # If there are remaining comments in the buffer, add them to a new cell\n",
    "    if buffer:\n",
    "        code_cell = nbf.v4.new_code_cell(source=buffer)\n",
    "        nb['cells'].append(code_cell)\n",
    "\n",
    "    with open(notebook_path, 'w') as f:\n",
    "        nbf.write(nb, f)"
   ]
  },
  {
   "cell_type": "code",
   "execution_count": 2,
   "metadata": {},
   "outputs": [],
   "source": [
    "convert_script_to_notebook(\n",
    "    script_path=r'C:\\Users\\yzdom\\Projects\\python_collection\\data\\str_regexp_tute\\str_formats.py',\n",
    "    notebook_path=r'C:\\Users\\yzdom\\Projects\\python_collection\\data\\str_regexp_tute\\str_formats.ipynb'\n",
    ")"
   ]
  },
  {
   "cell_type": "code",
   "execution_count": null,
   "metadata": {},
   "outputs": [],
   "source": []
  }
 ],
 "metadata": {
  "kernelspec": {
   "display_name": "Python 3",
   "language": "python",
   "name": "python3"
  },
  "language_info": {
   "codemirror_mode": {
    "name": "ipython",
    "version": 3
   },
   "file_extension": ".py",
   "mimetype": "text/x-python",
   "name": "python",
   "nbconvert_exporter": "python",
   "pygments_lexer": "ipython3",
   "version": "3.12.1"
  }
 },
 "nbformat": 4,
 "nbformat_minor": 2
}
