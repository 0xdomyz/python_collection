{
 "cells": [
  {
   "cell_type": "markdown",
   "id": "fa95a635",
   "metadata": {},
   "source": [
    "### class"
   ]
  },
  {
   "cell_type": "code",
   "execution_count": null,
   "id": "593f827a",
   "metadata": {},
   "outputs": [],
   "source": [
    "class FlagSet:\n",
    "    def __init__(self, flag_map: dict):\n",
    "        self._flag_map = flag_map\n",
    "        self._bitfield = 0\n",
    "        self._bitfield_length = max(1, self._bitfield.bit_length())\n",
    "\n",
    "    @staticmethod\n",
    "    def decode_flags(flag_map, bitfield):\n",
    "        return [name for name, mask in flag_map.items() if bitfield & mask]\n",
    "\n",
    "    @staticmethod\n",
    "    def is_flag_set(flag_map, flag_name):\n",
    "        mask = flag_map.get(flag_name, 0)\n",
    "        return lambda bitfield: bool(bitfield & mask)\n",
    "\n",
    "    @classmethod\n",
    "    def from_value(cls, flag_map, bitfield):\n",
    "        obj = cls(flag_map)\n",
    "        obj._bitfield = bitfield\n",
    "        return obj\n",
    "\n",
    "    def __repr__(self):\n",
    "        active = self.decode()\n",
    "        return f\"<FlagSet {self.binary()} → {active}>\"\n",
    "\n",
    "    def apply(self, *flag_names):\n",
    "        for name in flag_names:\n",
    "            self._bitfield |= self._flag_map[name]\n",
    "        return self\n",
    "\n",
    "    def clear(self, *flag_names):\n",
    "        for name in flag_names:\n",
    "            self._bitfield &= ~self._flag_map[name]\n",
    "        return self\n",
    "\n",
    "    def toggle(self, *flag_names):\n",
    "        for name in flag_names:\n",
    "            self._bitfield ^= self._flag_map[name]\n",
    "        return self\n",
    "\n",
    "    def is_set(self, flag_name):\n",
    "        return bool(self._bitfield & self._flag_map[flag_name])\n",
    "\n",
    "    def decode(self):\n",
    "        return [name for name, mask in self._flag_map.items() if self._bitfield & mask]\n",
    "\n",
    "    def mask(self, flag_name):\n",
    "        return self._flag_map.get(flag_name, 0)\n",
    "\n",
    "    def value(self):\n",
    "        return self._bitfield\n",
    "\n",
    "    def binary(self):\n",
    "        return f\"{self._bitfield:0{self._bitfield_length}b}\"\n",
    "\n",
    "    def describe(self):\n",
    "        data = []\n",
    "        for name, mask in sorted(self._flag_map.items()):\n",
    "            data.append(\n",
    "                {\n",
    "                    \"Flag Name\": name,\n",
    "                    \"Mask\": f\"{mask:0{self._bitfield_length}b}\",\n",
    "                    \"Value\": mask,\n",
    "                    \"Active\": self.is_set(name),\n",
    "                }\n",
    "            )\n",
    "        return pd.DataFrame(data)"
   ]
  },
  {
   "cell_type": "markdown",
   "id": "51e41860",
   "metadata": {},
   "source": [
    "### usages"
   ]
  },
  {
   "cell_type": "code",
   "execution_count": null,
   "id": "4168372d",
   "metadata": {},
   "outputs": [
    {
     "data": {
      "application/vnd.microsoft.datawrangler.viewer.v0+json": {
       "columns": [
        {
         "name": "index",
         "rawType": "int64",
         "type": "integer"
        },
        {
         "name": "Flag Name",
         "rawType": "object",
         "type": "string"
        },
        {
         "name": "Mask",
         "rawType": "object",
         "type": "string"
        },
        {
         "name": "Value",
         "rawType": "int64",
         "type": "integer"
        },
        {
         "name": "Active",
         "rawType": "bool",
         "type": "boolean"
        }
       ],
       "ref": "56e727f1-f994-43e3-986f-fbf8ae52ac45",
       "rows": [
        [
         "0",
         "age_below_18",
         "1000",
         "8",
         "False"
        ],
        [
         "1",
         "has_survived",
         "1",
         "1",
         "False"
        ],
        [
         "2",
         "is_alone",
         "10",
         "2",
         "False"
        ],
        [
         "3",
         "is_male",
         "100",
         "4",
         "False"
        ]
       ],
       "shape": {
        "columns": 4,
        "rows": 4
       }
      },
      "text/html": [
       "<div>\n",
       "<style scoped>\n",
       "    .dataframe tbody tr th:only-of-type {\n",
       "        vertical-align: middle;\n",
       "    }\n",
       "\n",
       "    .dataframe tbody tr th {\n",
       "        vertical-align: top;\n",
       "    }\n",
       "\n",
       "    .dataframe thead th {\n",
       "        text-align: right;\n",
       "    }\n",
       "</style>\n",
       "<table border=\"1\" class=\"dataframe\">\n",
       "  <thead>\n",
       "    <tr style=\"text-align: right;\">\n",
       "      <th></th>\n",
       "      <th>Flag Name</th>\n",
       "      <th>Mask</th>\n",
       "      <th>Value</th>\n",
       "      <th>Active</th>\n",
       "    </tr>\n",
       "  </thead>\n",
       "  <tbody>\n",
       "    <tr>\n",
       "      <th>0</th>\n",
       "      <td>age_below_18</td>\n",
       "      <td>1000</td>\n",
       "      <td>8</td>\n",
       "      <td>False</td>\n",
       "    </tr>\n",
       "    <tr>\n",
       "      <th>1</th>\n",
       "      <td>has_survived</td>\n",
       "      <td>1</td>\n",
       "      <td>1</td>\n",
       "      <td>False</td>\n",
       "    </tr>\n",
       "    <tr>\n",
       "      <th>2</th>\n",
       "      <td>is_alone</td>\n",
       "      <td>10</td>\n",
       "      <td>2</td>\n",
       "      <td>False</td>\n",
       "    </tr>\n",
       "    <tr>\n",
       "      <th>3</th>\n",
       "      <td>is_male</td>\n",
       "      <td>100</td>\n",
       "      <td>4</td>\n",
       "      <td>False</td>\n",
       "    </tr>\n",
       "  </tbody>\n",
       "</table>\n",
       "</div>"
      ],
      "text/plain": [
       "      Flag Name  Mask  Value  Active\n",
       "0  age_below_18  1000      8   False\n",
       "1  has_survived     1      1   False\n",
       "2      is_alone    10      2   False\n",
       "3       is_male   100      4   False"
      ]
     },
     "metadata": {},
     "output_type": "display_data"
    }
   ],
   "source": [
    "flags = {\n",
    "    \"has_survived\": 0b0001,\n",
    "    \"is_alone\": 0b0010,\n",
    "    \"is_male\": 0b0100,\n",
    "    \"age_below_18\": 0b1000,\n",
    "}\n",
    "fs = FlagSet(flags)\n",
    "fs.describe()"
   ]
  },
  {
   "cell_type": "code",
   "execution_count": null,
   "id": "9f38119a",
   "metadata": {},
   "outputs": [
    {
     "data": {
      "text/plain": [
       "<FlagSet 101 → ['has_survived', 'is_male']>"
      ]
     },
     "metadata": {},
     "output_type": "display_data"
    }
   ],
   "source": [
    "fs.apply(\"has_survived\", \"is_male\")"
   ]
  },
  {
   "cell_type": "code",
   "execution_count": null,
   "id": "a0e95133",
   "metadata": {},
   "outputs": [
    {
     "data": {
      "text/plain": [
       "<FlagSet 101 → ['has_survived', 'is_male']>"
      ]
     },
     "metadata": {},
     "output_type": "display_data"
    }
   ],
   "source": [
    "FlagSet.from_value(flags, 0b0101)"
   ]
  },
  {
   "cell_type": "code",
   "execution_count": null,
   "id": "fc54f287",
   "metadata": {},
   "outputs": [
    {
     "data": {
      "text/plain": [
       "['has_survived', 'is_male']"
      ]
     },
     "metadata": {},
     "output_type": "display_data"
    }
   ],
   "source": [
    "FlagSet.from_value(flags, 0b0101).decode()"
   ]
  },
  {
   "cell_type": "code",
   "execution_count": null,
   "id": "b49b2b23",
   "metadata": {},
   "outputs": [
    {
     "data": {
      "text/plain": [
       "<FlagSet 1101 → ['has_survived', 'is_male', 'age_below_18']>"
      ]
     },
     "metadata": {},
     "output_type": "display_data"
    }
   ],
   "source": [
    "FlagSet.from_value(flags, 0b0101).toggle(\"age_below_18\")"
   ]
  },
  {
   "cell_type": "code",
   "execution_count": null,
   "id": "9dc455b7",
   "metadata": {},
   "outputs": [
    {
     "data": {
      "text/plain": [
       "<FlagSet 100 → ['is_male']>"
      ]
     },
     "metadata": {},
     "output_type": "display_data"
    }
   ],
   "source": [
    "FlagSet.from_value(flags, 0b0101).clear(\"has_survived\")"
   ]
  }
 ],
 "metadata": {
  "kernelspec": {
   "display_name": "Python 3",
   "language": "python",
   "name": "python3"
  },
  "language_info": {
   "name": "python",
   "version": "3.13.2"
  }
 },
 "nbformat": 4,
 "nbformat_minor": 5
}
