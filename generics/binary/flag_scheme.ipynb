{
 "cells": [
  {
   "cell_type": "markdown",
   "id": "fa95a635",
   "metadata": {},
   "source": [
    "### class"
   ]
  },
  {
   "cell_type": "code",
   "execution_count": null,
   "id": "bc7c6121",
   "metadata": {},
   "outputs": [],
   "source": [
    "class FlagSchema(object):\n",
    "    def __init__(self, flag_map: dict[str, int]):\n",
    "        self.flag_map = flag_map\n",
    "        self._bitfield_length = max(1, sum(flag_map.values()).bit_length())\n",
    "\n",
    "    def decode(self, bitfield: int) -> list[str]:\n",
    "        return [name for name, value in self.flag_map.items() if bitfield & value]\n",
    "\n",
    "    def apply_to_df(self, df: pd.DataFrame) -> pd.Series:\n",
    "        flag_srs = pd.Series(index=df.index, dtype=pd.Int64Dtype()).fillna(0)\n",
    "        for k, v in self.flag_map.items():\n",
    "            flag_srs += df[k].astype(bool) * v\n",
    "        return flag_srs"
   ]
  },
  {
   "cell_type": "markdown",
   "id": "1cc93fff",
   "metadata": {},
   "source": [
    "### usages"
   ]
  },
  {
   "cell_type": "code",
   "execution_count": null,
   "id": "ca6c76d0",
   "metadata": {},
   "outputs": [
    {
     "data": {
      "text/plain": [
       "<__main__.FlagSchema at 0x1ad7c12a510>"
      ]
     },
     "metadata": {},
     "output_type": "display_data"
    }
   ],
   "source": [
    "flag_map = {\n",
    "    \"has_survived\": 0b0001,\n",
    "    \"is_alone\": 0b0010,\n",
    "    \"is_male\": 0b0100,\n",
    "    \"age_below_18\": 0b1000,\n",
    "}\n",
    "fs = FlagSchema(flag_map=flag_map)\n",
    "fs"
   ]
  },
  {
   "cell_type": "code",
   "execution_count": null,
   "id": "17d59e9d",
   "metadata": {},
   "outputs": [
    {
     "data": {
      "application/vnd.microsoft.datawrangler.viewer.v0+json": {
       "columns": [
        {
         "name": "index",
         "rawType": "int64",
         "type": "integer"
        },
        {
         "name": "flags",
         "rawType": "Int64",
         "type": "integer"
        }
       ],
       "ref": "3913b6b5-43a7-4fd7-8bd9-18643f75ac58",
       "rows": [
        [
         "0",
         "4"
        ],
        [
         "1",
         "1"
        ],
        [
         "2",
         "3"
        ],
        [
         "3",
         "1"
        ],
        [
         "4",
         "6"
        ],
        [
         "5",
         "6"
        ],
        [
         "6",
         "6"
        ],
        [
         "7",
         "12"
        ],
        [
         "8",
         "1"
        ],
        [
         "9",
         "9"
        ],
        [
         "10",
         "9"
        ],
        [
         "11",
         "3"
        ],
        [
         "12",
         "6"
        ],
        [
         "13",
         "4"
        ],
        [
         "14",
         "10"
        ],
        [
         "15",
         "3"
        ],
        [
         "16",
         "12"
        ],
        [
         "17",
         "7"
        ],
        [
         "18",
         "0"
        ],
        [
         "19",
         "3"
        ],
        [
         "20",
         "6"
        ],
        [
         "21",
         "7"
        ],
        [
         "22",
         "11"
        ],
        [
         "23",
         "7"
        ],
        [
         "24",
         "8"
        ],
        [
         "25",
         "1"
        ],
        [
         "26",
         "6"
        ],
        [
         "27",
         "4"
        ],
        [
         "28",
         "3"
        ],
        [
         "29",
         "6"
        ],
        [
         "30",
         "6"
        ],
        [
         "31",
         "1"
        ],
        [
         "32",
         "3"
        ],
        [
         "33",
         "6"
        ],
        [
         "34",
         "4"
        ],
        [
         "35",
         "4"
        ],
        [
         "36",
         "7"
        ],
        [
         "37",
         "6"
        ],
        [
         "38",
         "0"
        ],
        [
         "39",
         "9"
        ],
        [
         "40",
         "0"
        ],
        [
         "41",
         "0"
        ],
        [
         "42",
         "6"
        ],
        [
         "43",
         "9"
        ],
        [
         "44",
         "3"
        ],
        [
         "45",
         "6"
        ],
        [
         "46",
         "4"
        ],
        [
         "47",
         "3"
        ],
        [
         "48",
         "4"
        ],
        [
         "49",
         "0"
        ]
       ],
       "shape": {
        "columns": 1,
        "rows": 891
       }
      },
      "text/plain": [
       "0      4\n",
       "1      1\n",
       "2      3\n",
       "3      1\n",
       "4      6\n",
       "      ..\n",
       "886    6\n",
       "887    3\n",
       "888    0\n",
       "889    7\n",
       "890    6\n",
       "Name: flags, Length: 891, dtype: Int64"
      ]
     },
     "metadata": {},
     "output_type": "display_data"
    }
   ],
   "source": [
    "df[\"has_survived\"] = df[\"survived\"].astype(bool)\n",
    "df[\"is_alone\"] = df[\"alone\"].astype(bool)\n",
    "df[\"is_male\"] = df[\"sex\"].map({\"male\": 1, \"female\": 0})\n",
    "df[\"age_below_18\"] = df[\"age\"] < 18\n",
    "\n",
    "df[\"flags\"] = fs.apply_to_df(df=df)\n",
    "df[\"flags\"]"
   ]
  },
  {
   "cell_type": "code",
   "execution_count": null,
   "id": "9dc19fef",
   "metadata": {},
   "outputs": [
    {
     "data": {
      "application/vnd.microsoft.datawrangler.viewer.v0+json": {
       "columns": [
        {
         "name": "index",
         "rawType": "int64",
         "type": "integer"
        },
        {
         "name": "flags",
         "rawType": "boolean",
         "type": "boolean"
        }
       ],
       "ref": "59a2606a-f1c9-4d35-969d-390b63e73ff2",
       "rows": [
        [
         "0",
         "False"
        ],
        [
         "1",
         "False"
        ],
        [
         "2",
         "True"
        ],
        [
         "3",
         "False"
        ],
        [
         "4",
         "False"
        ],
        [
         "5",
         "False"
        ],
        [
         "6",
         "False"
        ],
        [
         "7",
         "False"
        ],
        [
         "8",
         "False"
        ],
        [
         "9",
         "False"
        ],
        [
         "10",
         "False"
        ],
        [
         "11",
         "True"
        ],
        [
         "12",
         "False"
        ],
        [
         "13",
         "False"
        ],
        [
         "14",
         "False"
        ],
        [
         "15",
         "True"
        ],
        [
         "16",
         "False"
        ],
        [
         "17",
         "True"
        ],
        [
         "18",
         "False"
        ],
        [
         "19",
         "True"
        ],
        [
         "20",
         "False"
        ],
        [
         "21",
         "True"
        ],
        [
         "22",
         "True"
        ],
        [
         "23",
         "True"
        ],
        [
         "24",
         "False"
        ],
        [
         "25",
         "False"
        ],
        [
         "26",
         "False"
        ],
        [
         "27",
         "False"
        ],
        [
         "28",
         "True"
        ],
        [
         "29",
         "False"
        ],
        [
         "30",
         "False"
        ],
        [
         "31",
         "False"
        ],
        [
         "32",
         "True"
        ],
        [
         "33",
         "False"
        ],
        [
         "34",
         "False"
        ],
        [
         "35",
         "False"
        ],
        [
         "36",
         "True"
        ],
        [
         "37",
         "False"
        ],
        [
         "38",
         "False"
        ],
        [
         "39",
         "False"
        ],
        [
         "40",
         "False"
        ],
        [
         "41",
         "False"
        ],
        [
         "42",
         "False"
        ],
        [
         "43",
         "False"
        ],
        [
         "44",
         "True"
        ],
        [
         "45",
         "False"
        ],
        [
         "46",
         "False"
        ],
        [
         "47",
         "True"
        ],
        [
         "48",
         "False"
        ],
        [
         "49",
         "False"
        ]
       ],
       "shape": {
        "columns": 1,
        "rows": 891
       }
      },
      "text/plain": [
       "0      False\n",
       "1      False\n",
       "2       True\n",
       "3      False\n",
       "4      False\n",
       "       ...  \n",
       "886    False\n",
       "887     True\n",
       "888    False\n",
       "889     True\n",
       "890    False\n",
       "Name: flags, Length: 891, dtype: boolean"
      ]
     },
     "metadata": {},
     "output_type": "display_data"
    }
   ],
   "source": [
    "(df[\"flags\"] & (fs.flag_map[\"has_survived\"] | fs.flag_map[\"is_alone\"])) == (\n",
    "    fs.flag_map[\"has_survived\"] | fs.flag_map[\"is_alone\"]\n",
    ")"
   ]
  },
  {
   "cell_type": "code",
   "execution_count": null,
   "id": "7202223e",
   "metadata": {},
   "outputs": [
    {
     "data": {
      "application/vnd.microsoft.datawrangler.viewer.v0+json": {
       "columns": [
        {
         "name": "index",
         "rawType": "int64",
         "type": "integer"
        },
        {
         "name": "flags",
         "rawType": "object",
         "type": "unknown"
        }
       ],
       "ref": "64f2cb7c-120f-41ff-b17d-2b627972cae3",
       "rows": [
        [
         "0",
         "['is_male']"
        ],
        [
         "1",
         "['has_survived']"
        ],
        [
         "2",
         "['has_survived', 'is_alone']"
        ],
        [
         "3",
         "['has_survived']"
        ],
        [
         "4",
         "['is_alone', 'is_male']"
        ],
        [
         "5",
         "['is_alone', 'is_male']"
        ],
        [
         "6",
         "['is_alone', 'is_male']"
        ],
        [
         "7",
         "['is_male', 'age_below_18']"
        ],
        [
         "8",
         "['has_survived']"
        ],
        [
         "9",
         "['has_survived', 'age_below_18']"
        ],
        [
         "10",
         "['has_survived', 'age_below_18']"
        ],
        [
         "11",
         "['has_survived', 'is_alone']"
        ],
        [
         "12",
         "['is_alone', 'is_male']"
        ],
        [
         "13",
         "['is_male']"
        ],
        [
         "14",
         "['is_alone', 'age_below_18']"
        ],
        [
         "15",
         "['has_survived', 'is_alone']"
        ],
        [
         "16",
         "['is_male', 'age_below_18']"
        ],
        [
         "17",
         "['has_survived', 'is_alone', 'is_male']"
        ],
        [
         "18",
         "[]"
        ],
        [
         "19",
         "['has_survived', 'is_alone']"
        ],
        [
         "20",
         "['is_alone', 'is_male']"
        ],
        [
         "21",
         "['has_survived', 'is_alone', 'is_male']"
        ],
        [
         "22",
         "['has_survived', 'is_alone', 'age_below_18']"
        ],
        [
         "23",
         "['has_survived', 'is_alone', 'is_male']"
        ],
        [
         "24",
         "['age_below_18']"
        ],
        [
         "25",
         "['has_survived']"
        ],
        [
         "26",
         "['is_alone', 'is_male']"
        ],
        [
         "27",
         "['is_male']"
        ],
        [
         "28",
         "['has_survived', 'is_alone']"
        ],
        [
         "29",
         "['is_alone', 'is_male']"
        ],
        [
         "30",
         "['is_alone', 'is_male']"
        ],
        [
         "31",
         "['has_survived']"
        ],
        [
         "32",
         "['has_survived', 'is_alone']"
        ],
        [
         "33",
         "['is_alone', 'is_male']"
        ],
        [
         "34",
         "['is_male']"
        ],
        [
         "35",
         "['is_male']"
        ],
        [
         "36",
         "['has_survived', 'is_alone', 'is_male']"
        ],
        [
         "37",
         "['is_alone', 'is_male']"
        ],
        [
         "38",
         "[]"
        ],
        [
         "39",
         "['has_survived', 'age_below_18']"
        ],
        [
         "40",
         "[]"
        ],
        [
         "41",
         "[]"
        ],
        [
         "42",
         "['is_alone', 'is_male']"
        ],
        [
         "43",
         "['has_survived', 'age_below_18']"
        ],
        [
         "44",
         "['has_survived', 'is_alone']"
        ],
        [
         "45",
         "['is_alone', 'is_male']"
        ],
        [
         "46",
         "['is_male']"
        ],
        [
         "47",
         "['has_survived', 'is_alone']"
        ],
        [
         "48",
         "['is_male']"
        ],
        [
         "49",
         "[]"
        ]
       ],
       "shape": {
        "columns": 1,
        "rows": 891
       }
      },
      "text/plain": [
       "0                              [is_male]\n",
       "1                         [has_survived]\n",
       "2               [has_survived, is_alone]\n",
       "3                         [has_survived]\n",
       "4                    [is_alone, is_male]\n",
       "                     ...                \n",
       "886                  [is_alone, is_male]\n",
       "887             [has_survived, is_alone]\n",
       "888                                   []\n",
       "889    [has_survived, is_alone, is_male]\n",
       "890                  [is_alone, is_male]\n",
       "Name: flags, Length: 891, dtype: object"
      ]
     },
     "metadata": {},
     "output_type": "display_data"
    }
   ],
   "source": [
    "df[\"flags\"].apply(lambda x: fs.decode(x))"
   ]
  }
 ],
 "metadata": {
  "kernelspec": {
   "display_name": "Python 3",
   "language": "python",
   "name": "python3"
  },
  "language_info": {
   "name": "python",
   "version": "3.13.2"
  }
 },
 "nbformat": 4,
 "nbformat_minor": 5
}
