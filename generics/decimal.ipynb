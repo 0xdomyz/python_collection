{
 "cells": [
  {
   "cell_type": "code",
   "execution_count": 2,
   "id": "4be49d00",
   "metadata": {},
   "outputs": [
    {
     "name": "stdout",
     "output_type": "stream",
     "text": [
      "float: 0.1 + 0.2 = 0.30000000000000004\n"
     ]
    }
   ],
   "source": [
    "# Example: float vs decimal\n",
    "\n",
    "from decimal import Decimal\n",
    "\n",
    "# Using float\n",
    "a = 0.1 + 0.2\n",
    "print(\"float: 0.1 + 0.2 =\", a)  # Output: 0.30000000000000004\n"
   ]
  },
  {
   "cell_type": "code",
   "execution_count": 3,
   "id": "6f0dff55",
   "metadata": {},
   "outputs": [
    {
     "name": "stdout",
     "output_type": "stream",
     "text": [
      "decimal: 0.1 + 0.2 = 0.3\n"
     ]
    }
   ],
   "source": [
    "\n",
    "# Using decimal\n",
    "b = Decimal('0.1') + Decimal('0.2')\n",
    "print(\"decimal: 0.1 + 0.2 =\", b)  # Output: 0.3\n"
   ]
  },
  {
   "cell_type": "code",
   "execution_count": 4,
   "id": "38e073d1",
   "metadata": {},
   "outputs": [
    {
     "ename": "TypeError",
     "evalue": "unsupported operand type(s) for +: 'decimal.Decimal' and 'float'",
     "output_type": "error",
     "traceback": [
      "\u001b[31m---------------------------------------------------------------------------\u001b[39m",
      "\u001b[31mTypeError\u001b[39m                                 Traceback (most recent call last)",
      "\u001b[36mCell\u001b[39m\u001b[36m \u001b[39m\u001b[32mIn[4]\u001b[39m\u001b[32m, line 3\u001b[39m\n\u001b[32m      1\u001b[39m \u001b[38;5;66;03m# do they blend well?\u001b[39;00m\n\u001b[32m      2\u001b[39m c = Decimal(a)\n\u001b[32m----> \u001b[39m\u001b[32m3\u001b[39m \u001b[43mc\u001b[49m\u001b[43m \u001b[49m\u001b[43m+\u001b[49m\u001b[43m \u001b[49m\u001b[32;43m3.14\u001b[39;49m\n",
      "\u001b[31mTypeError\u001b[39m: unsupported operand type(s) for +: 'decimal.Decimal' and 'float'"
     ]
    }
   ],
   "source": [
    "# do they blend well?\n",
    "c = Decimal(a)\n",
    "c + 3.14"
   ]
  },
  {
   "cell_type": "code",
   "execution_count": null,
   "id": "8fc10330",
   "metadata": {},
   "outputs": [],
   "source": [
    "# what is a good approach to have decimal in codes, given it breaks with float?\n",
    "# option 1: always use Decimal for financial calculations\n",
    "# option 2: convert float to Decimal when necessary"
   ]
  },
  {
   "cell_type": "code",
   "execution_count": 5,
   "id": "949be7ed",
   "metadata": {},
   "outputs": [
    {
     "data": {
      "text/plain": [
       "Decimal('0.3')"
      ]
     },
     "execution_count": 5,
     "metadata": {},
     "output_type": "execute_result"
    }
   ],
   "source": [
    "# always use decimal\n",
    "input = Decimal('0.1')\n",
    "input + Decimal('0.2')\n"
   ]
  },
  {
   "cell_type": "code",
   "execution_count": 19,
   "id": "ec413ee7",
   "metadata": {},
   "outputs": [
    {
     "data": {
      "text/plain": [
       "Decimal('0.1000000000000000055511151231257827021181583404541015625')"
      ]
     },
     "execution_count": 19,
     "metadata": {},
     "output_type": "execute_result"
    }
   ],
   "source": [
    "# convert when needed\n",
    "input = 0.1\n",
    "intermediate = Decimal(input)\n",
    "intermediate"
   ]
  },
  {
   "cell_type": "code",
   "execution_count": null,
   "id": "4a7cfb32",
   "metadata": {},
   "outputs": [],
   "source": []
  },
  {
   "cell_type": "code",
   "execution_count": null,
   "id": "9cda0cd4",
   "metadata": {},
   "outputs": [],
   "source": [
    "\n",
    "# Why are they different?\n",
    "# Floats use binary floating-point, which can't exactly represent some decimal fractions.\n",
    "# Decimal uses decimal floating-point, so it's precise for base-10 numbers.\n"
   ]
  },
  {
   "cell_type": "code",
   "execution_count": null,
   "id": "6e25bbe8",
   "metadata": {},
   "outputs": [],
   "source": [
    "\n",
    "# When is decimal helpful?\n",
    "# - Financial calculations (money, currency)\n",
    "# - When exact decimal representation is needed\n",
    "# - When rounding errors are unacceptable"
   ]
  },
  {
   "cell_type": "code",
   "execution_count": null,
   "id": "374dfc45",
   "metadata": {},
   "outputs": [],
   "source": []
  },
  {
   "cell_type": "code",
   "execution_count": null,
   "id": "170941b9",
   "metadata": {},
   "outputs": [],
   "source": []
  },
  {
   "cell_type": "code",
   "execution_count": null,
   "id": "0a1088d9",
   "metadata": {},
   "outputs": [],
   "source": []
  }
 ],
 "metadata": {
  "kernelspec": {
   "display_name": "Python 3",
   "language": "python",
   "name": "python3"
  },
  "language_info": {
   "codemirror_mode": {
    "name": "ipython",
    "version": 3
   },
   "file_extension": ".py",
   "mimetype": "text/x-python",
   "name": "python",
   "nbconvert_exporter": "python",
   "pygments_lexer": "ipython3",
   "version": "3.13.2"
  }
 },
 "nbformat": 4,
 "nbformat_minor": 5
}
