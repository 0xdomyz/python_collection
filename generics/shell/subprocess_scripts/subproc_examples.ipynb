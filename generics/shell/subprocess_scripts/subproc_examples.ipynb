{
 "cells": [
  {
   "cell_type": "code",
   "execution_count": 1,
   "metadata": {},
   "outputs": [],
   "source": [
    "import subprocess"
   ]
  },
  {
   "cell_type": "code",
   "execution_count": 11,
   "metadata": {},
   "outputs": [
    {
     "data": {
      "text/plain": [
       "CompletedProcess(args='dir', returncode=0, stdout=b' Volume in drive C is Windows\\r\\n Volume Serial Number is 183C-408E\\r\\n\\r\\n Directory of c:\\\\Users\\\\yzdom\\\\Projects\\\\python_collection\\\\generics\\\\shell\\\\subprocess_scripts\\r\\n\\r\\n05/31/2025  11:51 PM    <DIR>          .\\r\\n05/31/2025  11:50 PM    <DIR>          ..\\r\\n04/05/2025  12:15 PM             1,423 cut_end.py\\r\\n04/05/2025  12:15 PM               714 query_user.py\\r\\n04/05/2025  12:15 PM               510 run_r.py\\r\\n06/01/2025  12:01 AM             1,430 subproc_examples.ipynb\\r\\n04/05/2025  12:15 PM               715 terminal.py\\r\\n               5 File(s)          4,792 bytes\\r\\n               2 Dir(s)  368,840,531,968 bytes free\\r\\n', stderr=b'')"
      ]
     },
     "execution_count": 11,
     "metadata": {},
     "output_type": "execute_result"
    }
   ],
   "source": [
    "completed_proc = subprocess.run(\"dir\", shell=True, capture_output=True)\n",
    "completed_proc.check_returncode()\n",
    "completed_proc"
   ]
  },
  {
   "cell_type": "code",
   "execution_count": 16,
   "metadata": {},
   "outputs": [
    {
     "data": {
      "text/plain": [
       "''"
      ]
     },
     "execution_count": 16,
     "metadata": {},
     "output_type": "execute_result"
    }
   ],
   "source": [
    "completed_proc.stderr.decode(\"utf-8\")"
   ]
  },
  {
   "cell_type": "code",
   "execution_count": null,
   "metadata": {},
   "outputs": [
    {
     "name": "stdout",
     "output_type": "stream",
     "text": [
      " Volume in drive C is Windows\n",
      " Volume Serial Number is 183C-408E\n",
      "\n",
      " Directory of c:\\Users\\yzdom\\Projects\\python_collection\\generics\\shell\\subprocess_scripts\n",
      "\n",
      "05/31/2025  11:51 PM    <DIR>          .\n",
      "05/31/2025  11:50 PM    <DIR>          ..\n",
      "04/05/2025  12:15 PM             1,423 cut_end.py\n",
      "04/05/2025  12:15 PM               714 query_user.py\n",
      "04/05/2025  12:15 PM               510 run_r.py\n",
      "06/01/2025  12:01 AM             1,430 subproc_examples.ipynb\n",
      "04/05/2025  12:15 PM               715 terminal.py\n",
      "               5 File(s)          4,792 bytes\n",
      "               2 Dir(s)  368,840,531,968 bytes free\n",
      "\n"
     ]
    }
   ],
   "source": [
    "print(completed_proc.stdout.decode('utf-8'))"
   ]
  },
  {
   "cell_type": "code",
   "execution_count": null,
   "metadata": {},
   "outputs": [],
   "source": []
  }
 ],
 "metadata": {
  "kernelspec": {
   "display_name": "Python 3",
   "language": "python",
   "name": "python3"
  },
  "language_info": {
   "codemirror_mode": {
    "name": "ipython",
    "version": 3
   },
   "file_extension": ".py",
   "mimetype": "text/x-python",
   "name": "python",
   "nbconvert_exporter": "python",
   "pygments_lexer": "ipython3",
   "version": "3.13.2"
  }
 },
 "nbformat": 4,
 "nbformat_minor": 2
}
