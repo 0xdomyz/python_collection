{
 "cells": [
  {
   "cell_type": "markdown",
   "metadata": {},
   "source": [
    "### plain example"
   ]
  },
  {
   "cell_type": "code",
   "execution_count": 1,
   "metadata": {},
   "outputs": [],
   "source": [
    "import subprocess"
   ]
  },
  {
   "cell_type": "code",
   "execution_count": null,
   "metadata": {},
   "outputs": [
    {
     "data": {
      "text/plain": [
       "CompletedProcess(args='dir', returncode=0, stdout=b' Volume in drive C is Windows\\r\\n Volume Serial Number is 183C-408E\\r\\n\\r\\n Directory of c:\\\\Users\\\\yzdom\\\\Projects\\\\python_collection\\\\generics\\\\shell\\\\subprocess_scripts\\r\\n\\r\\n09/16/2025  10:12 PM    <DIR>          .\\r\\n08/25/2025  11:35 PM    <DIR>          ..\\r\\n08/09/2025  10:23 AM             1,421 cut_end.py\\r\\n06/01/2025  12:51 AM               244 measure_temp.py\\r\\n04/05/2025  12:15 PM               714 query_user.py\\r\\n04/05/2025  12:15 PM               510 run_r.py\\r\\n09/16/2025  10:16 PM             7,384 subproc_examples.ipynb\\r\\n09/16/2025  10:15 PM               593 terminal.py\\r\\n09/16/2025  10:15 PM    <DIR>          __pycache__\\r\\n               6 File(s)         10,866 bytes\\r\\n               3 Dir(s)  232,758,083,584 bytes free\\r\\n', stderr=b'')"
      ]
     },
     "metadata": {},
     "output_type": "display_data"
    }
   ],
   "source": [
    "subprocess.run(\"dir\", shell=True, capture_output=True)"
   ]
  },
  {
   "cell_type": "code",
   "execution_count": null,
   "metadata": {},
   "outputs": [
    {
     "data": {
      "text/plain": [
       "CompletedProcess(args='dir', returncode=0, stdout=b' Volume in drive C is Windows\\r\\n Volume Serial Number is 183C-408E\\r\\n\\r\\n Directory of c:\\\\Users\\\\yzdom\\\\Projects\\\\python_collection\\\\generics\\\\shell\\\\subprocess_scripts\\r\\n\\r\\n09/16/2025  10:12 PM    <DIR>          .\\r\\n08/25/2025  11:35 PM    <DIR>          ..\\r\\n08/09/2025  10:23 AM             1,421 cut_end.py\\r\\n06/01/2025  12:51 AM               244 measure_temp.py\\r\\n04/05/2025  12:15 PM               714 query_user.py\\r\\n04/05/2025  12:15 PM               510 run_r.py\\r\\n09/16/2025  10:13 PM             5,953 subproc_examples.ipynb\\r\\n09/16/2025  10:15 PM               593 terminal.py\\r\\n09/16/2025  10:12 PM    <DIR>          __pycache__\\r\\n               6 File(s)          9,435 bytes\\r\\n               3 Dir(s)  232,757,972,992 bytes free\\r\\n', stderr=b'')"
      ]
     },
     "metadata": {},
     "output_type": "display_data"
    }
   ],
   "source": [
    "completed_proc = subprocess.run(\"dir\", shell=True, capture_output=True)\n",
    "completed_proc.check_returncode()\n",
    "completed_proc"
   ]
  },
  {
   "cell_type": "code",
   "execution_count": 3,
   "metadata": {},
   "outputs": [
    {
     "data": {
      "text/plain": [
       "''"
      ]
     },
     "execution_count": 3,
     "metadata": {},
     "output_type": "execute_result"
    }
   ],
   "source": [
    "completed_proc.stderr.decode(\"utf-8\")"
   ]
  },
  {
   "cell_type": "code",
   "execution_count": 4,
   "metadata": {},
   "outputs": [
    {
     "name": "stdout",
     "output_type": "stream",
     "text": [
      " Volume in drive C is Windows\n",
      " Volume Serial Number is 183C-408E\n",
      "\n",
      " Directory of c:\\Users\\yzdom\\Projects\\python_collection\\generics\\shell\\subprocess_scripts\n",
      "\n",
      "09/16/2025  10:12 PM    <DIR>          .\n",
      "08/25/2025  11:35 PM    <DIR>          ..\n",
      "08/09/2025  10:23 AM             1,421 cut_end.py\n",
      "06/01/2025  12:51 AM               244 measure_temp.py\n",
      "04/05/2025  12:15 PM               714 query_user.py\n",
      "04/05/2025  12:15 PM               510 run_r.py\n",
      "09/16/2025  10:13 PM             5,953 subproc_examples.ipynb\n",
      "09/16/2025  10:15 PM               593 terminal.py\n",
      "09/16/2025  10:12 PM    <DIR>          __pycache__\n",
      "               6 File(s)          9,435 bytes\n",
      "               3 Dir(s)  232,757,972,992 bytes free\n",
      "\n"
     ]
    }
   ],
   "source": [
    "print(completed_proc.stdout.decode(\"utf-8\"))"
   ]
  },
  {
   "cell_type": "markdown",
   "metadata": {},
   "source": [
    "### tools"
   ]
  },
  {
   "cell_type": "code",
   "execution_count": 5,
   "metadata": {},
   "outputs": [],
   "source": [
    "from terminal import run_shell_cmd, run_shell_cmd_on_path"
   ]
  },
  {
   "cell_type": "code",
   "execution_count": 6,
   "metadata": {},
   "outputs": [
    {
     "name": "stdout",
     "output_type": "stream",
     "text": [
      " Volume in drive C is Windows\n",
      " Volume Serial Number is 183C-408E\n",
      "\n",
      " Directory of c:\\Users\\yzdom\\Projects\\python_collection\\generics\\shell\\subprocess_scripts\n",
      "\n",
      "09/16/2025  10:12 PM    <DIR>          .\n",
      "08/25/2025  11:35 PM    <DIR>          ..\n",
      "08/09/2025  10:23 AM             1,421 cut_end.py\n",
      "06/01/2025  12:51 AM               244 measure_temp.py\n",
      "04/05/2025  12:15 PM               714 query_user.py\n",
      "04/05/2025  12:15 PM               510 run_r.py\n",
      "09/16/2025  10:13 PM             5,953 subproc_examples.ipynb\n",
      "09/16/2025  10:15 PM               593 terminal.py\n",
      "09/16/2025  10:15 PM    <DIR>          __pycache__\n",
      "               6 File(s)          9,435 bytes\n",
      "               3 Dir(s)  232,757,972,992 bytes free\n",
      "\n"
     ]
    }
   ],
   "source": [
    "print(run_shell_cmd(\"dir\"))"
   ]
  },
  {
   "cell_type": "code",
   "execution_count": 7,
   "metadata": {},
   "outputs": [
    {
     "name": "stdout",
     "output_type": "stream",
     "text": [
      " Volume in drive C is Windows\n",
      " Volume Serial Number is 183C-408E\n",
      "\n",
      " Directory of c:\\Users\\yzdom\\Projects\\python_collection\\generics\\shell\n",
      "\n",
      "08/25/2025  11:35 PM    <DIR>          .\n",
      "08/16/2025  11:44 PM    <DIR>          ..\n",
      "08/25/2025  11:35 PM             3,696 asyncio_subprocess.ipynb\n",
      "04/05/2025  12:15 PM    <DIR>          contextlib_scripts\n",
      "04/05/2025  12:15 PM    <DIR>          git_related\n",
      "04/05/2025  12:15 PM    <DIR>          pathlib_scripts\n",
      "04/05/2025  12:15 PM    <DIR>          shutil\n",
      "09/16/2025  10:12 PM    <DIR>          subprocess_scripts\n",
      "04/05/2025  12:15 PM    <DIR>          test_acrc\n",
      "               1 File(s)          3,696 bytes\n",
      "               8 Dir(s)  232,757,972,992 bytes free\n",
      "\n"
     ]
    }
   ],
   "source": [
    "from pathlib import Path\n",
    "print(run_shell_cmd_on_path(\"dir\", Path(\"..\")))"
   ]
  },
  {
   "cell_type": "code",
   "execution_count": null,
   "metadata": {},
   "outputs": [],
   "source": []
  }
 ],
 "metadata": {
  "kernelspec": {
   "display_name": "Python 3",
   "language": "python",
   "name": "python3"
  },
  "language_info": {
   "codemirror_mode": {
    "name": "ipython",
    "version": 3
   },
   "file_extension": ".py",
   "mimetype": "text/x-python",
   "name": "python",
   "nbconvert_exporter": "python",
   "pygments_lexer": "ipython3",
   "version": "3.13.2"
  }
 },
 "nbformat": 4,
 "nbformat_minor": 2
}
