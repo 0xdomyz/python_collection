{
 "cells": [
  {
   "cell_type": "markdown",
   "id": "fb7a4c0c",
   "metadata": {},
   "source": [
    "### use asyncio to run shell cmd and obtain res"
   ]
  },
  {
   "cell_type": "code",
   "execution_count": 11,
   "id": "2a884e2f",
   "metadata": {},
   "outputs": [],
   "source": [
    "import asyncio\n",
    "import datetime\n",
    "\n",
    "async def run(cmd):\n",
    "    proc = await asyncio.create_subprocess_shell(\n",
    "        cmd, stdout=asyncio.subprocess.PIPE, stderr=asyncio.subprocess.PIPE\n",
    "    )\n",
    "\n",
    "    stdout, stderr = await proc.communicate()\n",
    "\n",
    "    print(f\"{datetime.datetime.now()}: [{cmd!r} exited with {proc.returncode}]\")\n",
    "    if stdout:\n",
    "        print(f\"[stdout]\\n{stdout.decode()}\")\n",
    "    if stderr:\n",
    "        print(f\"[stderr]\\n{stderr.decode()}\")\n",
    "\n"
   ]
  },
  {
   "cell_type": "code",
   "execution_count": 12,
   "id": "cd35020d",
   "metadata": {},
   "outputs": [
    {
     "name": "stdout",
     "output_type": "stream",
     "text": [
      "2025-08-25 12:00:02.238500: ['sleep 1; echo \"hello\"' exited with 0]\n",
      "[stdout]\n",
      "hello\n",
      "\n",
      "2025-08-25 12:00:03.238200: ['sleep 2; echo \"hello 2\"' exited with 0]\n",
      "[stdout]\n",
      "hello 2\n",
      "\n",
      "2025-08-25 12:00:04.238393: ['sleep 3; echo \"hello 3\"' exited with 0]\n",
      "[stdout]\n",
      "hello 3\n",
      "\n"
     ]
    }
   ],
   "source": [
    "async def main():\n",
    "    await asyncio.gather(\n",
    "        run('sleep 1; echo \"hello\"'),\n",
    "        run('sleep 2; echo \"hello 2\"'),\n",
    "        run('sleep 3; echo \"hello 3\"')\n",
    "    )\n",
    "\n",
    "await main()"
   ]
  },
  {
   "cell_type": "markdown",
   "id": "00831d23",
   "metadata": {},
   "source": [
    "### use Process to control subproc and use StreamReader to read stdout"
   ]
  },
  {
   "cell_type": "code",
   "execution_count": 5,
   "id": "451ace77",
   "metadata": {},
   "outputs": [
    {
     "name": "stdout",
     "output_type": "stream",
     "text": [
      "Current date: 2025-08-25 11:50:01.678623\n"
     ]
    }
   ],
   "source": [
    "\n",
    "import asyncio\n",
    "import sys\n",
    "\n",
    "async def get_date():\n",
    "    code = 'import datetime; print(datetime.datetime.now())'\n",
    "\n",
    "    # Create the subprocess; redirect the standard output\n",
    "    # into a pipe.\n",
    "    proc = await asyncio.create_subprocess_exec(\n",
    "        sys.executable, '-c', code,\n",
    "        stdout=asyncio.subprocess.PIPE)\n",
    "\n",
    "    # Read one line of output.\n",
    "    data = await proc.stdout.readline()\n",
    "    line = data.decode('ascii').rstrip()\n",
    "\n",
    "    # Wait for the subprocess exit.\n",
    "    await proc.wait()\n",
    "    return line\n",
    "\n",
    "date = await get_date()\n",
    "print(f\"Current date: {date}\")"
   ]
  },
  {
   "cell_type": "code",
   "execution_count": null,
   "id": "0bca3413",
   "metadata": {},
   "outputs": [],
   "source": []
  }
 ],
 "metadata": {
  "kernelspec": {
   "display_name": "pyenv",
   "language": "python",
   "name": "python3"
  },
  "language_info": {
   "codemirror_mode": {
    "name": "ipython",
    "version": 3
   },
   "file_extension": ".py",
   "mimetype": "text/x-python",
   "name": "python",
   "nbconvert_exporter": "python",
   "pygments_lexer": "ipython3",
   "version": "3.12.3"
  }
 },
 "nbformat": 4,
 "nbformat_minor": 5
}
