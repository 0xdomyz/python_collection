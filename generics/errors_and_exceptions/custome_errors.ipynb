{
 "cells": [
  {
   "cell_type": "markdown",
   "metadata": {},
   "source": [
    "### Custom Exception\n"
   ]
  },
  {
   "cell_type": "code",
   "execution_count": 71,
   "metadata": {},
   "outputs": [
    {
     "ename": "DBMgrError",
     "evalue": "Database operation failed.",
     "output_type": "error",
     "traceback": [
      "\u001b[1;31m---------------------------------------------------------------------------\u001b[0m",
      "\u001b[1;31mDBMgrError\u001b[0m                                Traceback (most recent call last)",
      "Cell \u001b[1;32mIn[71], line 4\u001b[0m\n\u001b[0;32m      1\u001b[0m \u001b[38;5;28;01mclass\u001b[39;00m\u001b[38;5;250m \u001b[39m\u001b[38;5;21;01mDBMgrError\u001b[39;00m(\u001b[38;5;167;01mException\u001b[39;00m):\n\u001b[0;32m      2\u001b[0m     \u001b[38;5;28;01mpass\u001b[39;00m\n\u001b[1;32m----> 4\u001b[0m \u001b[38;5;28;01mraise\u001b[39;00m DBMgrError(\u001b[38;5;124m\"\u001b[39m\u001b[38;5;124mDatabase operation failed.\u001b[39m\u001b[38;5;124m\"\u001b[39m)\n",
      "\u001b[1;31mDBMgrError\u001b[0m: Database operation failed."
     ]
    }
   ],
   "source": [
    "\n",
    "class DBMgrError(Exception):\n",
    "    pass\n",
    "\n",
    "raise DBMgrError(\"Database operation failed.\")\n"
   ]
  },
  {
   "cell_type": "markdown",
   "metadata": {},
   "source": [
    "### Custom Exception - numpy\n"
   ]
  },
  {
   "cell_type": "markdown",
   "metadata": {},
   "source": [
    "```text\n",
    "BaseException\n",
    " └── Exception\n",
    "      ├── LookupError\n",
    "      │    └── IndexError\n",
    "      │         └── numpy.AxisError\n",
    "      ├── ValueError\n",
    "      │    └── numpy.AxisError\n",
    "      ├── TypeError\n",
    "      │    └── numpy.UFuncTypeError\n",
    "      ├── RuntimeError\n",
    "      │    └── numpy.core._exceptions.TooHardError\n",
    "      └── MemoryError\n",
    "           └── numpy.core._exceptions._ArrayMemoryError\n",
    "\n",
    "```"
   ]
  },
  {
   "cell_type": "code",
   "execution_count": null,
   "metadata": {},
   "outputs": [],
   "source": [
    "import numpy as np"
   ]
  },
  {
   "cell_type": "code",
   "execution_count": 99,
   "metadata": {},
   "outputs": [
    {
     "name": "stdout",
     "output_type": "stream",
     "text": [
      "type(e) = <class 'numpy.exceptions.AxisError'>, axis 2 is out of bounds for array of dimension 1\n"
     ]
    }
   ],
   "source": [
    "try: \n",
    "    arr = np.array([1, 2, 3])\n",
    "    arr.sum(axis=2)  # Invalid axis\n",
    "except LookupError as e:\n",
    "    print(f\"{type(e) = }, {e}\")"
   ]
  },
  {
   "cell_type": "code",
   "execution_count": 98,
   "metadata": {},
   "outputs": [
    {
     "name": "stdout",
     "output_type": "stream",
     "text": [
      "type(e) = <class 'numpy.core._exceptions._UFuncNoLoopError'>, ufunc 'add' did not contain a loop with signature matching types (dtype('int32'), dtype('<U6')) -> None\n"
     ]
    }
   ],
   "source": [
    "import numpy as np\n",
    "\n",
    "try:\n",
    "    arr = np.array([1, 2, 3])\n",
    "    result = np.add(arr, \"string\")  # Invalid operation: adding a string to an array\n",
    "except TypeError as e:  # Catch the UFuncTypeError as a TypeError\n",
    "    print(f\"{type(e) = }, {e}\")"
   ]
  },
  {
   "cell_type": "markdown",
   "metadata": {},
   "source": [
    "### Custom Exception - Pandas\n"
   ]
  },
  {
   "cell_type": "markdown",
   "metadata": {},
   "source": [
    "```text\n",
    "BaseException\n",
    " └── Exception\n",
    "      ├── ValueError\n",
    "      │    ├── pandas.errors.EmptyDataError\n",
    "      │    ├── pandas.errors.ParserError\n",
    "      │    └── pandas.errors.MergeError\n",
    "      ├── TypeError\n",
    "      │    └── pandas.errors.UnsupportedFunctionCall\n",
    "```"
   ]
  },
  {
   "cell_type": "code",
   "execution_count": 75,
   "metadata": {},
   "outputs": [],
   "source": [
    "import pandas.errors\n",
    "import pandas as pd"
   ]
  },
  {
   "cell_type": "code",
   "execution_count": 97,
   "metadata": {},
   "outputs": [
    {
     "name": "stdout",
     "output_type": "stream",
     "text": [
      "type(e) = <class 'pandas.errors.DatabaseError'>, Execution failed on sql 'select * test': near \"test\": syntax error\n"
     ]
    }
   ],
   "source": [
    "try:\n",
    "    from sqlite3 import connect\n",
    "    conn = connect(':memory:')\n",
    "    with conn:\n",
    "        pd.read_sql('select * test', conn)\n",
    "except OSError as e:\n",
    "    print(f\"{type(e) = }, {e}\")"
   ]
  },
  {
   "cell_type": "code",
   "execution_count": 96,
   "metadata": {},
   "outputs": [
    {
     "name": "stdout",
     "output_type": "stream",
     "text": [
      "type(e) = <class 'KeyError'>, 'C'\n"
     ]
    }
   ],
   "source": [
    "import pandas as pd\n",
    "\n",
    "# Create a simple DataFrame\n",
    "df = pd.DataFrame({\n",
    "    'A': [1, 2, 3],\n",
    "    'B': [4, 5, 6]\n",
    "})\n",
    "\n",
    "try:\n",
    "    # Attempt to access a non-existent column 'C'\n",
    "    print(df['C'])\n",
    "except LookupError as e:\n",
    "    print(f\"{type(e) = }, {e}\")"
   ]
  },
  {
   "cell_type": "markdown",
   "metadata": {},
   "source": [
    "### Custom Exception - requests"
   ]
  },
  {
   "cell_type": "markdown",
   "metadata": {},
   "source": [
    "```text\n",
    "OSError\n",
    " └── requests.exceptions.RequestException\n",
    "      ├── requests.exceptions.HTTPError\n",
    "      ├── requests.exceptions.ConnectionError\n",
    "      │    └── requests.exceptions.ProxyError\n",
    "      ├── requests.exceptions.Timeout\n",
    "      ├── requests.exceptions.TooManyRedirects\n",
    "      ├── requests.exceptions.URLRequired\n",
    "      ├── requests.exceptions.InvalidURL\n",
    "      │    ├── requests.exceptions.MissingSchema\n",
    "      │    └── requests.exceptions.InvalidSchema\n",
    "      ├── requests.exceptions.ChunkedEncodingError\n",
    "      ├── requests.exceptions.ContentDecodingError\n",
    "      └── requests.exceptions.SSLError\n",
    "```"
   ]
  },
  {
   "cell_type": "code",
   "execution_count": 109,
   "metadata": {},
   "outputs": [],
   "source": [
    "import requests\n",
    "from requests.exceptions import RequestException"
   ]
  },
  {
   "cell_type": "code",
   "execution_count": 110,
   "metadata": {},
   "outputs": [
    {
     "name": "stdout",
     "output_type": "stream",
     "text": [
      "type(e) = <class 'requests.exceptions.HTTPError'>, 404 Client Error: NOT FOUND for url: https://httpbin.org/status/404\n"
     ]
    }
   ],
   "source": [
    "# HTTPError: Raised for unsuccessful HTTP status codes (e.g., 404)\n",
    "try:\n",
    "    response = requests.get(\"https://httpbin.org/status/404\")\n",
    "    response.raise_for_status()\n",
    "except RequestException as e:\n",
    "    print(f\"{type(e) = }, {e}\")\n",
    "\n"
   ]
  },
  {
   "cell_type": "code",
   "execution_count": 107,
   "metadata": {},
   "outputs": [
    {
     "name": "stdout",
     "output_type": "stream",
     "text": [
      "type(e) = <class 'requests.exceptions.ConnectionError'>, HTTPConnectionPool(host='nonexistent.url', port=80): Max retries exceeded with url: / (Caused by NameResolutionError(\"<urllib3.connection.HTTPConnection object at 0x000002A75F700950>: Failed to resolve 'nonexistent.url' ([Errno 11001] getaddrinfo failed)\"))\n"
     ]
    }
   ],
   "source": [
    "# ConnectionError: Raised when a connection to the server fails\n",
    "try:\n",
    "    response = requests.get(\"http://nonexistent.url\")\n",
    "except OSError as e:\n",
    "    print(f\"{type(e) = }, {e}\")\n",
    "\n"
   ]
  },
  {
   "cell_type": "code",
   "execution_count": 108,
   "metadata": {},
   "outputs": [
    {
     "name": "stdout",
     "output_type": "stream",
     "text": [
      "type(e) = <class 'requests.exceptions.ReadTimeout'>, HTTPSConnectionPool(host='httpbin.org', port=443): Read timed out. (read timeout=2)\n"
     ]
    }
   ],
   "source": [
    "# Timeout: Raised when a request times out\n",
    "try:\n",
    "    response = requests.get(\"https://httpbin.org/delay/10\", timeout=2)\n",
    "except OSError as e:\n",
    "    print(f\"{type(e) = }, {e}\")\n",
    "\n"
   ]
  },
  {
   "cell_type": "code",
   "execution_count": 112,
   "metadata": {},
   "outputs": [
    {
     "name": "stdout",
     "output_type": "stream",
     "text": [
      "type(e) = <class 'requests.exceptions.TooManyRedirects'>, Exceeded 30 redirects.\n"
     ]
    }
   ],
   "source": [
    "# TooManyRedirects: Raised when the maximum number of redirects is exceeded\n",
    "try:\n",
    "    response = requests.get(\"https://httpbin.org/redirect/100\", allow_redirects=True)\n",
    "except OSError as e:\n",
    "    print(f\"{type(e) = }, {e}\")\n"
   ]
  },
  {
   "cell_type": "code",
   "execution_count": 120,
   "metadata": {},
   "outputs": [
    {
     "name": "stdout",
     "output_type": "stream",
     "text": [
      "type(e) = <class 'requests.exceptions.MissingSchema'>, Invalid URL '': No scheme supplied. Perhaps you meant https://?\n",
      "type(e) = <class 'requests.exceptions.MissingSchema'>, Invalid URL 'invalid-url': No scheme supplied. Perhaps you meant https://invalid-url?\n",
      "type(e) = <class 'requests.exceptions.MissingSchema'>, Invalid URL 'example.com': No scheme supplied. Perhaps you meant https://example.com?\n"
     ]
    }
   ],
   "source": [
    "# URLRequired: Raised when a valid URL is not provided\n",
    "try:\n",
    "    response = requests.get(\"\")\n",
    "except OSError as e:\n",
    "    print(f\"{type(e) = }, {e}\")\n",
    "\n",
    "\n",
    "# InvalidURL: Raised when the URL is invalid\n",
    "try:\n",
    "    response = requests.get(\"invalid-url\")\n",
    "except OSError as e:\n",
    "    print(f\"{type(e) = }, {e}\")\n",
    "\n",
    "\n",
    "# MissingSchema: Raised when the URL is missing a schema (e.g., http://)\n",
    "try:\n",
    "    response = requests.get(\"example.com\")  # Missing \"http://\"\n",
    "except OSError as e:\n",
    "    print(f\"{type(e) = }, {e}\")\n"
   ]
  },
  {
   "cell_type": "code",
   "execution_count": 121,
   "metadata": {},
   "outputs": [
    {
     "name": "stdout",
     "output_type": "stream",
     "text": [
      "type(e) = <class 'requests.exceptions.InvalidSchema'>, No connection adapters were found for 'ftp://example.com'\n"
     ]
    }
   ],
   "source": [
    "\n",
    "# InvalidSchema: Raised when the URL has an unsupported schema\n",
    "try:\n",
    "    response = requests.get(\"ftp://example.com\")  # Unsupported schema\n",
    "except OSError as e:\n",
    "    print(f\"{type(e) = }, {e}\")\n"
   ]
  },
  {
   "cell_type": "code",
   "execution_count": 122,
   "metadata": {},
   "outputs": [
    {
     "name": "stdout",
     "output_type": "stream",
     "text": [
      "type(e) = <class 'requests.exceptions.SSLError'>, HTTPSConnectionPool(host='expired.badssl.com', port=443): Max retries exceeded with url: / (Caused by SSLError(SSLCertVerificationError(1, '[SSL: CERTIFICATE_VERIFY_FAILED] certificate verify failed: certificate has expired (_ssl.c:1000)')))\n"
     ]
    }
   ],
   "source": [
    "\n",
    "# SSLError: Raised when there is an SSL certificate error\n",
    "try:\n",
    "    response = requests.get(\"https://expired.badssl.com/\")\n",
    "except OSError as e:\n",
    "    print(f\"{type(e) = }, {e}\")"
   ]
  },
  {
   "cell_type": "markdown",
   "metadata": {},
   "source": [
    "### Custom Exception - sqlite3"
   ]
  },
  {
   "cell_type": "markdown",
   "metadata": {},
   "source": [
    "```text\n",
    "Exception\n",
    " └── sqlite3.Error\n",
    "      ├── sqlite3.Warning\n",
    "      ├── sqlite3.DatabaseError\n",
    "      │    ├── sqlite3.IntegrityError\n",
    "      │    ├── sqlite3.ProgrammingError\n",
    "      │    ├── sqlite3.OperationalError\n",
    "      │    ├── sqlite3.NotSupportedError\n",
    "      │    └── sqlite3.DataError\n",
    "      ├── sqlite3.InterfaceError\n",
    "      └── sqlite3.InternalError\n",
    "```"
   ]
  },
  {
   "cell_type": "code",
   "execution_count": 124,
   "metadata": {},
   "outputs": [],
   "source": [
    "import sqlite3"
   ]
  },
  {
   "cell_type": "code",
   "execution_count": 125,
   "metadata": {},
   "outputs": [
    {
     "name": "stdout",
     "output_type": "stream",
     "text": [
      "type(e) = <class 'sqlite3.IntegrityError'>, UNIQUE constraint failed: test.value\n"
     ]
    }
   ],
   "source": [
    "# IntegrityError: Raised when a database integrity constraint is violated\n",
    "try:\n",
    "    conn = sqlite3.connect(\":memory:\")\n",
    "    cursor = conn.cursor()\n",
    "    cursor.execute(\"CREATE TABLE test (id INTEGER PRIMARY KEY, value TEXT UNIQUE)\")\n",
    "    cursor.execute(\"INSERT INTO test (id, value) VALUES (1, 'A')\")\n",
    "    cursor.execute(\"INSERT INTO test (id, value) VALUES (2, 'A')\")  # Violates UNIQUE constraint\n",
    "except sqlite3.DatabaseError as e:\n",
    "    print(f\"{type(e) = }, {e}\")\n"
   ]
  },
  {
   "cell_type": "code",
   "execution_count": 138,
   "metadata": {},
   "outputs": [
    {
     "name": "stdout",
     "output_type": "stream",
     "text": [
      "type(e) = <class 'sqlite3.IntegrityError'>, cannot store REAL value in INTEGER column test.id\n"
     ]
    }
   ],
   "source": [
    "\n",
    "# DataError: Raised for errors related to invalid data\n",
    "try:\n",
    "    conn = sqlite3.connect(\":memory:\")\n",
    "    cursor = conn.cursor()\n",
    "    cursor.execute(\"CREATE TABLE test (id INTEGER, value INTEGER) STRICT\")\n",
    "    cursor.execute(\"INSERT INTO test (id, value) VALUES (1.2, 'invalid_integer3')\")  # Type mismatch\n",
    "except sqlite3.DatabaseError as e:\n",
    "    print(f\"{type(e) = }, {e}\")\n",
    "finally:\n",
    "    conn.close()"
   ]
  },
  {
   "cell_type": "code",
   "execution_count": 126,
   "metadata": {},
   "outputs": [
    {
     "name": "stdout",
     "output_type": "stream",
     "text": [
      "type(e) = <class 'sqlite3.OperationalError'>, near \"INVALID\": syntax error\n"
     ]
    }
   ],
   "source": [
    "\n",
    "# ProgrammingError: Raised for programming errors, such as invalid SQL syntax\n",
    "try:\n",
    "    conn = sqlite3.connect(\":memory:\")\n",
    "    cursor = conn.cursor()\n",
    "    cursor.execute(\"INVALID SQL SYNTAX\")  # Invalid SQL\n",
    "except sqlite3.DatabaseError as e:\n",
    "    print(f\"{type(e) = }, {e}\")\n"
   ]
  },
  {
   "cell_type": "code",
   "execution_count": 127,
   "metadata": {},
   "outputs": [
    {
     "name": "stdout",
     "output_type": "stream",
     "text": [
      "type(e) = <class 'sqlite3.OperationalError'>, no such table: non_existent_table\n"
     ]
    }
   ],
   "source": [
    "\n",
    "# OperationalError: Raised for operational errors, such as missing tables\n",
    "try:\n",
    "    conn = sqlite3.connect(\":memory:\")\n",
    "    cursor = conn.cursor()\n",
    "    cursor.execute(\"SELECT * FROM non_existent_table\")  # Table does not exist\n",
    "except sqlite3.DatabaseError as e:\n",
    "    print(f\"{type(e) = }, {e}\")\n"
   ]
  },
  {
   "cell_type": "code",
   "execution_count": 141,
   "metadata": {},
   "outputs": [
    {
     "name": "stdout",
     "output_type": "stream",
     "text": [
      "type(e) = <class 'sqlite3.ProgrammingError'>, Incorrect number of bindings supplied. The current statement uses 2, and there are 1 supplied.\n"
     ]
    }
   ],
   "source": [
    "import sqlite3\n",
    "\n",
    "try:\n",
    "    conn = sqlite3.connect(\":memory:\")\n",
    "    cursor = conn.cursor()\n",
    "    \n",
    "    # Passing incorrect number of parameters to the query\n",
    "    cursor.execute(\"CREATE TABLE test (id INTEGER, value TEXT)\")\n",
    "    cursor.execute(\"INSERT INTO test (id, value) VALUES (?, ?)\", (1,))  # Missing one parameter\n",
    "except sqlite3.DatabaseError as e:\n",
    "    print(f\"{type(e) = }, {e}\")"
   ]
  },
  {
   "cell_type": "code",
   "execution_count": 150,
   "metadata": {},
   "outputs": [
    {
     "name": "stdout",
     "output_type": "stream",
     "text": [
      "type(e) = <class 'sqlite3.ProgrammingError'>, Cannot operate on a closed database.\n"
     ]
    }
   ],
   "source": [
    "try:\n",
    "    conn = sqlite3.connect(\":memory:\")\n",
    "    cursor = conn.cursor()\n",
    "    conn.close()  # Close the connection\n",
    "    \n",
    "    # Attempting to execute a query after the connection is closed\n",
    "    cursor.execute(\"CREATE TABLE test (id INTEGER, value TEXT)\")\n",
    "except sqlite3.DatabaseError as e:\n",
    "    print(f\"{type(e) = }, {e}\")"
   ]
  },
  {
   "cell_type": "code",
   "execution_count": 145,
   "metadata": {},
   "outputs": [
    {
     "name": "stdout",
     "output_type": "stream",
     "text": [
      "type(e) = <class 'TypeError'>, execute() argument 1 must be str, not int\n"
     ]
    }
   ],
   "source": [
    "try:\n",
    "    conn = sqlite3.connect(\":memory:\")\n",
    "    cursor = conn.cursor()\n",
    "    cursor.execute(12345)  # SQL query must be a string, not an integer\n",
    "except TypeError as e:\n",
    "    print(f\"{type(e) = }, {e}\")"
   ]
  }
 ],
 "metadata": {
  "kernelspec": {
   "display_name": "Python 3",
   "language": "python",
   "name": "python3"
  },
  "language_info": {
   "codemirror_mode": {
    "name": "ipython",
    "version": 3
   },
   "file_extension": ".py",
   "mimetype": "text/x-python",
   "name": "python",
   "nbconvert_exporter": "python",
   "pygments_lexer": "ipython3",
   "version": "3.12.1"
  }
 },
 "nbformat": 4,
 "nbformat_minor": 2
}
