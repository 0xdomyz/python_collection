{
 "cells": [
  {
   "cell_type": "markdown",
   "metadata": {},
   "source": [
    "### debugging workflow\n",
    "\n",
    "1. **find the possible location of the error**: Look at the traceback to find the line number and file where the error occurred.\n",
    "2. **use pdb to interactively explore and try to understand the problem**: \n",
    "    - set a breakpoint using `pdb.set_trace()`\n",
    "    - Use commands like `h` for help, `b` to set breakpoints, `s` to step into functions, and `c` to continue execution until the next breakpoint.\n",
    "    - Use `l` to list the current location in the code, `n` to step to the next line, and `p` or `pp` to print variables.\n",
    "    - Use `q` to quit the debugger.\n",
    "3. **make replicable example**: Create a minimal example that reproduces the error.\n",
    "4. **research, experiment, and fix the error**: \n",
    "    - Search for the error message online to find similar issues and solutions.\n",
    "    - Experiment with different approaches to fix the error.\n",
    "    - Implement and test the fix."
   ]
  },
  {
   "cell_type": "code",
   "execution_count": 14,
   "metadata": {},
   "outputs": [
    {
     "name": "stdout",
     "output_type": "stream",
     "text": [
      "> \u001b[1;32mc:\\users\\yzdom\\appdata\\local\\temp\\ipykernel_10132\\3233149072.py\u001b[0m(5)\u001b[0;36mdivide_numbers\u001b[1;34m()\u001b[0m\n",
      "\n",
      "\u001b[0;32m      1 \u001b[0m\u001b[1;32mimport\u001b[0m \u001b[0mpdb\u001b[0m  \u001b[1;31m# Import the Python Debugger\u001b[0m\u001b[1;33m\u001b[0m\u001b[1;33m\u001b[0m\u001b[0m\n",
      "\u001b[0;32m      2 \u001b[0m\u001b[1;33m\u001b[0m\u001b[0m\n",
      "\u001b[0;32m      3 \u001b[0m\u001b[1;32mdef\u001b[0m \u001b[0mdivide_numbers\u001b[0m\u001b[1;33m(\u001b[0m\u001b[0ma\u001b[0m\u001b[1;33m,\u001b[0m \u001b[0mb\u001b[0m\u001b[1;33m)\u001b[0m\u001b[1;33m:\u001b[0m\u001b[1;33m\u001b[0m\u001b[1;33m\u001b[0m\u001b[0m\n",
      "\u001b[0;32m      4 \u001b[0m    \u001b[0mpdb\u001b[0m\u001b[1;33m.\u001b[0m\u001b[0mset_trace\u001b[0m\u001b[1;33m(\u001b[0m\u001b[1;33m)\u001b[0m  \u001b[1;31m# Set a trace point for debugging\u001b[0m\u001b[1;33m\u001b[0m\u001b[1;33m\u001b[0m\u001b[0m\n",
      "\u001b[1;32m----> 5 \u001b[1;33m    \u001b[1;32mreturn\u001b[0m \u001b[0ma\u001b[0m \u001b[1;33m/\u001b[0m \u001b[0mb\u001b[0m\u001b[1;33m\u001b[0m\u001b[1;33m\u001b[0m\u001b[0m\n",
      "\u001b[0m\u001b[0;32m      6 \u001b[0m\u001b[1;33m\u001b[0m\u001b[0m\n",
      "\u001b[0;32m      7 \u001b[0m\u001b[1;32mdef\u001b[0m \u001b[0mprocess_numbers\u001b[0m\u001b[1;33m(\u001b[0m\u001b[0mnumbers\u001b[0m\u001b[1;33m)\u001b[0m\u001b[1;33m:\u001b[0m\u001b[1;33m\u001b[0m\u001b[1;33m\u001b[0m\u001b[0m\n",
      "\u001b[0;32m      8 \u001b[0m    \u001b[0mtotal\u001b[0m \u001b[1;33m=\u001b[0m \u001b[1;36m0\u001b[0m\u001b[1;33m\u001b[0m\u001b[1;33m\u001b[0m\u001b[0m\n",
      "\u001b[0;32m      9 \u001b[0m    \u001b[1;32mfor\u001b[0m \u001b[0mnum\u001b[0m \u001b[1;32min\u001b[0m \u001b[0mnumbers\u001b[0m\u001b[1;33m:\u001b[0m\u001b[1;33m\u001b[0m\u001b[1;33m\u001b[0m\u001b[0m\n",
      "\u001b[0;32m     10 \u001b[0m        \u001b[0mtotal\u001b[0m \u001b[1;33m+=\u001b[0m \u001b[0mdivide_numbers\u001b[0m\u001b[1;33m(\u001b[0m\u001b[1;36m10\u001b[0m\u001b[1;33m,\u001b[0m \u001b[0mnum\u001b[0m\u001b[1;33m)\u001b[0m\u001b[1;33m\u001b[0m\u001b[1;33m\u001b[0m\u001b[0m\n",
      "\u001b[0;32m     11 \u001b[0m    \u001b[1;32mreturn\u001b[0m \u001b[0mtotal\u001b[0m\u001b[1;33m\u001b[0m\u001b[1;33m\u001b[0m\u001b[0m\n",
      "\n",
      "a = 10\n",
      "b = 5\n"
     ]
    }
   ],
   "source": [
    "import pdb  # Import the Python Debugger\n",
    "\n",
    "def divide_numbers(a, b):\n",
    "    pdb.set_trace()  # Set a trace point for debugging\n",
    "    return a / b\n",
    "\n",
    "def process_numbers(numbers):\n",
    "    total = 0\n",
    "    for num in numbers:\n",
    "        total += divide_numbers(10, num)\n",
    "    return total\n",
    "\n",
    "def main():\n",
    "    numbers = [5, 2, 0, 3]  # The 0 will cause a ZeroDivisionError\n",
    "    result = process_numbers(numbers)\n",
    "    print(f\"Result: {result}\")\n",
    "\n",
    "main()"
   ]
  },
  {
   "cell_type": "markdown",
   "metadata": {},
   "source": [
    "Here’s a concise summary of the 14 `pdb` commands:\n",
    "\n",
    "1. **`l` (list)**: Show the current line and surrounding code.\n",
    "2. **`n` (next)**: Execute the current line and move to the next (stay in the same function).\n",
    "3. **`s` (step)**: Step into the function call on the current line.\n",
    "4. **`c` (continue)**: Resume execution until the next breakpoint or program end.\n",
    "5. **`q` (quit)**: Exit the debugger and terminate the program.\n",
    "6. **`p` (print)**: Print the value of a variable or expression.\n",
    "7. **`pp` (pretty-print)**: Pretty-print complex data structures.\n",
    "8. **`whatis`**: Show the type of a variable.\n",
    "9. **`w` (where)**: Display the current position in the call stack.\n",
    "10. **`u` (up)**: Move up one level in the call stack (to the caller function).\n",
    "11. **`d` (down)**: Move down one level in the call stack (to the callee function).\n",
    "12. **`b` (breakpoint)**: Set a breakpoint at a specific line or function.\n",
    "13. **`cl` (clear)**: Clear all breakpoints or a specific one.\n",
    "14. **`a` (args)**: Show the arguments passed to the current function.\n",
    "\n",
    "These commands help you navigate, inspect, and debug your code interactively."
   ]
  }
 ],
 "metadata": {
  "kernelspec": {
   "display_name": "Python 3",
   "language": "python",
   "name": "python3"
  },
  "language_info": {
   "codemirror_mode": {
    "name": "ipython",
    "version": 3
   },
   "file_extension": ".py",
   "mimetype": "text/x-python",
   "name": "python",
   "nbconvert_exporter": "python",
   "pygments_lexer": "ipython3",
   "version": "3.12.1"
  }
 },
 "nbformat": 4,
 "nbformat_minor": 2
}
