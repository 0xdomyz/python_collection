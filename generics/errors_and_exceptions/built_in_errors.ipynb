{
 "cells": [
  {
   "cell_type": "markdown",
   "metadata": {},
   "source": [
    "### exceptions have types\n"
   ]
  },
  {
   "cell_type": "markdown",
   "metadata": {},
   "source": [
    "\n",
    "built-in ones see: https://docs.python.org/3/library/exceptions.html#exception-hierarchy\n",
    "\n",
    "**extract:**\n",
    "\n",
    "```text\n",
    "Exception\n",
    " ├── ArithmeticError\n",
    " │    ├── FloatingPointError\n",
    " │    ├── OverflowError\n",
    " │    └── ZeroDivisionError\n",
    " ├── AssertionError\n",
    " ├── AttributeError\n",
    " ├── BufferError\n",
    " ├── EOFError\n",
    " ├── ExceptionGroup [BaseExceptionGroup]\n",
    " ├── ImportError\n",
    " │    └── ModuleNotFoundError\n",
    " ├── LookupError\n",
    " │    ├── IndexError\n",
    " │    └── KeyError\n",
    " ├── MemoryError\n",
    " ├── NameError\n",
    " │    └── UnboundLocalError\n",
    " ├── OSError\n",
    " │    ├── BlockingIOError\n",
    " │    ├── ChildProcessError\n",
    " │    ├── ConnectionError\n",
    " │    ├── FileExistsError\n",
    " │    ├── FileNotFoundError\n",
    " │    ├── InterruptedError\n",
    " │    ├── IsADirectoryError\n",
    " │    ├── NotADirectoryError\n",
    " │    ├── PermissionError\n",
    " │    ├── ProcessLookupError\n",
    " │    └── TimeoutError\n",
    " ├── ReferenceError\n",
    " ├── RuntimeError\n",
    " │    ├── NotImplementedError\n",
    " │    └── RecursionError\n",
    " ├── StopAsyncIteration\n",
    " ├── StopIteration\n",
    " ├── SyntaxError\n",
    " │    └── IndentationError\n",
    " ├── SystemError\n",
    " ├── TypeError\n",
    " ├── ValueError\n",
    " │    └── UnicodeError\n",
    " └── Warning\n",
    "      ├── DeprecationWarning\n",
    "      ├── FutureWarning\n",
    "      ├── ResourceWarning\n",
    "      ├── RuntimeWarning\n",
    "      └── UserWarning\n",
    "\n",
    "```"
   ]
  },
  {
   "cell_type": "code",
   "execution_count": null,
   "metadata": {},
   "outputs": [],
   "source": [
    "# Level 1 exception classes in Python\n",
    "exceptions = [\n",
    "    ArithmeticError,\n",
    "    AssertionError,\n",
    "    AttributeError,\n",
    "    BufferError,\n",
    "    EOFError,\n",
    "    ExceptionGroup,  # Requires Python 3.11+\n",
    "    ImportError,\n",
    "    LookupError,\n",
    "    MemoryError,\n",
    "    NameError,\n",
    "    OSError,\n",
    "    ReferenceError,\n",
    "    RuntimeError,\n",
    "    StopAsyncIteration,\n",
    "    StopIteration,\n",
    "    SyntaxError,\n",
    "    SystemError,\n",
    "    TypeError,\n",
    "    ValueError\n",
    "]"
   ]
  },
  {
   "cell_type": "code",
   "execution_count": 1,
   "metadata": {},
   "outputs": [],
   "source": [
    "# common Level 1 exception classes in Python\n",
    "exceptions = [\n",
    "    # programming related\n",
    "    NameError,\n",
    "    SyntaxError,\n",
    "    # math related\n",
    "    ArithmeticError,\n",
    "    # method and attribute related\n",
    "    AttributeError,\n",
    "    LookupError,\n",
    "    # system and runtime related\n",
    "    OSError,\n",
    "    RuntimeError,\n",
    "    # invalid object/input related\n",
    "    TypeError,\n",
    "    ValueError\n",
    "]"
   ]
  },
  {
   "cell_type": "code",
   "execution_count": 2,
   "metadata": {},
   "outputs": [
    {
     "name": "stdout",
     "output_type": "stream",
     "text": [
      "NameError: name 'a' is not defined\n"
     ]
    }
   ],
   "source": [
    "try:\n",
    "    a  \n",
    "except NameError as e:\n",
    "    print(f\"NameError: {e}\")"
   ]
  },
  {
   "cell_type": "code",
   "execution_count": 5,
   "metadata": {},
   "outputs": [
    {
     "ename": "SyntaxError",
     "evalue": "invalid syntax (2049034589.py, line 1)",
     "output_type": "error",
     "traceback": [
      "\u001b[1;36m  Cell \u001b[1;32mIn[5], line 1\u001b[1;36m\u001b[0m\n\u001b[1;33m    for i in1 a:\u001b[0m\n\u001b[1;37m          ^\u001b[0m\n\u001b[1;31mSyntaxError\u001b[0m\u001b[1;31m:\u001b[0m invalid syntax\n"
     ]
    }
   ],
   "source": [
    "for i in1 a:\n",
    "    print(i)"
   ]
  },
  {
   "cell_type": "code",
   "execution_count": 34,
   "metadata": {},
   "outputs": [
    {
     "name": "stdout",
     "output_type": "stream",
     "text": [
      "ArithmeticError example: division by zero\n"
     ]
    }
   ],
   "source": [
    "\n",
    "try:\n",
    "    result = 1 / 0  # ZeroDivisionError (subclass of ArithmeticError)\n",
    "except ArithmeticError as e:\n",
    "    print(f\"ArithmeticError example: {e}\")\n"
   ]
  },
  {
   "cell_type": "code",
   "execution_count": 32,
   "metadata": {},
   "outputs": [
    {
     "name": "stdout",
     "output_type": "stream",
     "text": [
      "AttributeError example: 'list' object has no attribute 'non_existent_method'\n"
     ]
    }
   ],
   "source": [
    "\n",
    "try:\n",
    "    [].non_existent_method()  # AttributeError\n",
    "except AttributeError as e:\n",
    "    print(f\"AttributeError example: {e}\")\n"
   ]
  },
  {
   "cell_type": "code",
   "execution_count": 25,
   "metadata": {},
   "outputs": [
    {
     "name": "stdout",
     "output_type": "stream",
     "text": [
      "LookupError example: 'missing_key'\n"
     ]
    }
   ],
   "source": [
    "\n",
    "try:\n",
    "    {}[\"missing_key\"]  # KeyError (subclass of LookupError)\n",
    "except LookupError as e:\n",
    "    print(f\"LookupError example: {e}\")\n"
   ]
  },
  {
   "cell_type": "code",
   "execution_count": 28,
   "metadata": {},
   "outputs": [
    {
     "name": "stdout",
     "output_type": "stream",
     "text": [
      "OSError example: [Errno 2] No such file or directory: 'non_existent_file.txt'\n"
     ]
    }
   ],
   "source": [
    "\n",
    "try:\n",
    "    open(\"non_existent_file.txt\")  # FileNotFoundError (subclass of OSError)\n",
    "except OSError as e:\n",
    "    print(f\"OSError example: {e}\")\n"
   ]
  },
  {
   "cell_type": "code",
   "execution_count": 41,
   "metadata": {},
   "outputs": [
    {
     "name": "stdout",
     "output_type": "stream",
     "text": [
      "RuntimeError example: maximum recursion depth exceeded\n",
      "Recursion depth: 2977\n"
     ]
    }
   ],
   "source": [
    "# Example of a RuntimeError with a global counter\n",
    "counter = 0  # Global counter to track recursion depth\n",
    "\n",
    "def recursive_function():\n",
    "    global counter\n",
    "    counter += 1\n",
    "    return recursive_function()  # Infinite recursion\n",
    "\n",
    "try:\n",
    "    recursive_function()  # Start recursion\n",
    "except RuntimeError as e:\n",
    "    print(f\"RuntimeError example: {e}\")\n",
    "    print(f\"Recursion depth: {counter}\")"
   ]
  },
  {
   "cell_type": "code",
   "execution_count": 30,
   "metadata": {},
   "outputs": [
    {
     "name": "stdout",
     "output_type": "stream",
     "text": [
      "TypeError example: can only concatenate str (not \"int\") to str\n"
     ]
    }
   ],
   "source": [
    "try:\n",
    "    \"string\" + 1  # TypeError\n",
    "except TypeError as e:\n",
    "    print(f\"TypeError example: {e}\")\n"
   ]
  },
  {
   "cell_type": "code",
   "execution_count": 31,
   "metadata": {},
   "outputs": [
    {
     "name": "stdout",
     "output_type": "stream",
     "text": [
      "ValueError example: invalid literal for int() with base 10: 'invalid'\n"
     ]
    }
   ],
   "source": [
    "try:\n",
    "    int(\"invalid\")  # ValueError\n",
    "except ValueError as e:\n",
    "    print(f\"ValueError example: {e}\")\n",
    "\n",
    "# Note: Some exceptions like BufferError, ReferenceError, RuntimeError, StopAsyncIteration, StopIteration, SyntaxError, and SystemError\n",
    "# are less likely to arise naturally in simple code. They often require specific conditions or advanced scenarios."
   ]
  }
 ],
 "metadata": {
  "kernelspec": {
   "display_name": "Python 3",
   "language": "python",
   "name": "python3"
  },
  "language_info": {
   "codemirror_mode": {
    "name": "ipython",
    "version": 3
   },
   "file_extension": ".py",
   "mimetype": "text/x-python",
   "name": "python",
   "nbconvert_exporter": "python",
   "pygments_lexer": "ipython3",
   "version": "3.12.1"
  }
 },
 "nbformat": 4,
 "nbformat_minor": 2
}
