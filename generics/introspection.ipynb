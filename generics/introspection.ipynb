{
 "cells": [
  {
   "cell_type": "code",
   "execution_count": 2,
   "id": "764d6122",
   "metadata": {},
   "outputs": [
    {
     "data": {
      "text/plain": [
       "(100, 2)"
      ]
     },
     "execution_count": 2,
     "metadata": {},
     "output_type": "execute_result"
    }
   ],
   "source": [
    "import pandas as pd\n",
    "import numpy as np\n",
    "import inspect\n",
    "\n",
    "# Sample DataFrame\n",
    "df = pd.DataFrame({'A': np.random.randint(1, 10, 100), 'B': np.random.rand(100)})\n",
    "df.shape\n"
   ]
  },
  {
   "cell_type": "markdown",
   "id": "1144691c",
   "metadata": {},
   "source": [
    "### funcs"
   ]
  },
  {
   "cell_type": "code",
   "execution_count": 21,
   "id": "7028f170",
   "metadata": {},
   "outputs": [],
   "source": [
    "def masks_dict_to_df_for_display(masks:dict) -> pd.DataFrame:\n",
    "    res = dict()\n",
    "    for name, mask in masks.items():\n",
    "        res[name] = inspect.getsource(mask).strip()\n",
    "\n",
    "    return pd.DataFrame.from_dict(res, orient='index', columns=['source']).reset_index()"
   ]
  },
  {
   "cell_type": "markdown",
   "id": "37dc3f62",
   "metadata": {},
   "source": [
    "### example"
   ]
  },
  {
   "cell_type": "code",
   "execution_count": 9,
   "id": "d1535ca0",
   "metadata": {},
   "outputs": [],
   "source": [
    "mask1 = lambda x: x['A'] > 2\n",
    "mask_fn = lambda x: mask1(x) & (x['A'] < 5)\n",
    "mask_fn2 = mask_fn"
   ]
  },
  {
   "cell_type": "code",
   "execution_count": 15,
   "id": "726dfea8",
   "metadata": {},
   "outputs": [
    {
     "name": "stdout",
     "output_type": "stream",
     "text": [
      "mask_fn = lambda x: mask1(x) & (x['A'] < 5)\n"
     ]
    }
   ],
   "source": [
    "print(inspect.getsource(mask_fn2).strip())"
   ]
  },
  {
   "cell_type": "markdown",
   "id": "bee242d9",
   "metadata": {},
   "source": [
    "### do them together"
   ]
  },
  {
   "cell_type": "code",
   "execution_count": 17,
   "id": "e9ab7ffc",
   "metadata": {},
   "outputs": [],
   "source": [
    "masks = {\n",
    "    'mask1': mask1,\n",
    "    'mask_fn': mask_fn,\n",
    "    'mask_fn2': mask_fn2\n",
    "}"
   ]
  },
  {
   "cell_type": "code",
   "execution_count": null,
   "id": "0e3d2986",
   "metadata": {},
   "outputs": [
    {
     "data": {
      "application/vnd.microsoft.datawrangler.viewer.v0+json": {
       "columns": [
        {
         "name": "index",
         "rawType": "int64",
         "type": "integer"
        },
        {
         "name": "index",
         "rawType": "object",
         "type": "string"
        },
        {
         "name": "source",
         "rawType": "object",
         "type": "string"
        }
       ],
       "ref": "d25913c2-eb99-4047-b4dd-2ca197b32e77",
       "rows": [
        [
         "0",
         "mask1",
         "mask1 = lambda x: x['A'] > 2"
        ],
        [
         "1",
         "mask_fn",
         "mask_fn = lambda x: mask1(x) & (x['A'] < 5)"
        ],
        [
         "2",
         "mask_fn2",
         "mask_fn = lambda x: mask1(x) & (x['A'] < 5)"
        ]
       ],
       "shape": {
        "columns": 2,
        "rows": 3
       }
      },
      "text/html": [
       "<div>\n",
       "<style scoped>\n",
       "    .dataframe tbody tr th:only-of-type {\n",
       "        vertical-align: middle;\n",
       "    }\n",
       "\n",
       "    .dataframe tbody tr th {\n",
       "        vertical-align: top;\n",
       "    }\n",
       "\n",
       "    .dataframe thead th {\n",
       "        text-align: right;\n",
       "    }\n",
       "</style>\n",
       "<table border=\"1\" class=\"dataframe\">\n",
       "  <thead>\n",
       "    <tr style=\"text-align: right;\">\n",
       "      <th></th>\n",
       "      <th>index</th>\n",
       "      <th>source</th>\n",
       "    </tr>\n",
       "  </thead>\n",
       "  <tbody>\n",
       "    <tr>\n",
       "      <th>0</th>\n",
       "      <td>mask1</td>\n",
       "      <td>mask1 = lambda x: x['A'] &gt; 2</td>\n",
       "    </tr>\n",
       "    <tr>\n",
       "      <th>1</th>\n",
       "      <td>mask_fn</td>\n",
       "      <td>mask_fn = lambda x: mask1(x) &amp; (x['A'] &lt; 5)</td>\n",
       "    </tr>\n",
       "    <tr>\n",
       "      <th>2</th>\n",
       "      <td>mask_fn2</td>\n",
       "      <td>mask_fn = lambda x: mask1(x) &amp; (x['A'] &lt; 5)</td>\n",
       "    </tr>\n",
       "  </tbody>\n",
       "</table>\n",
       "</div>"
      ],
      "text/plain": [
       "      index                                       source\n",
       "0     mask1                 mask1 = lambda x: x['A'] > 2\n",
       "1   mask_fn  mask_fn = lambda x: mask1(x) & (x['A'] < 5)\n",
       "2  mask_fn2  mask_fn = lambda x: mask1(x) & (x['A'] < 5)"
      ]
     },
     "execution_count": 20,
     "metadata": {},
     "output_type": "execute_result"
    }
   ],
   "source": [
    "masks_dict_to_df_for_display(masks)"
   ]
  },
  {
   "cell_type": "code",
   "execution_count": null,
   "id": "73bec445",
   "metadata": {},
   "outputs": [],
   "source": []
  },
  {
   "cell_type": "code",
   "execution_count": null,
   "id": "c7d900e3",
   "metadata": {},
   "outputs": [],
   "source": []
  }
 ],
 "metadata": {
  "kernelspec": {
   "display_name": "Python 3",
   "language": "python",
   "name": "python3"
  },
  "language_info": {
   "codemirror_mode": {
    "name": "ipython",
    "version": 3
   },
   "file_extension": ".py",
   "mimetype": "text/x-python",
   "name": "python",
   "nbconvert_exporter": "python",
   "pygments_lexer": "ipython3",
   "version": "3.13.2"
  }
 },
 "nbformat": 4,
 "nbformat_minor": 5
}
