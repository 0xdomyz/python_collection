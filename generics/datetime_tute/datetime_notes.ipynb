{
 "cells": [
  {
   "cell_type": "code",
   "execution_count": 2,
   "id": "28eb92d9",
   "metadata": {},
   "outputs": [],
   "source": [
    "import datetime\n",
    "import pytz"
   ]
  },
  {
   "cell_type": "markdown",
   "id": "5a6696c3",
   "metadata": {},
   "source": [
    "### time stamp now\n"
   ]
  },
  {
   "cell_type": "code",
   "execution_count": 23,
   "id": "3e081748",
   "metadata": {},
   "outputs": [
    {
     "data": {
      "text/plain": [
       "datetime.datetime(2025, 7, 25, 21, 49, 33, 327632)"
      ]
     },
     "execution_count": 23,
     "metadata": {},
     "output_type": "execute_result"
    }
   ],
   "source": [
    "datetime.datetime.now()  # uses local timezone"
   ]
  },
  {
   "cell_type": "code",
   "execution_count": 24,
   "id": "c52aa249",
   "metadata": {},
   "outputs": [
    {
     "data": {
      "text/plain": [
       "datetime.datetime(2025, 7, 25, 21, 49, 33, 337855, tzinfo=<DstTzInfo 'Europe/London' BST+1:00:00 DST>)"
      ]
     },
     "execution_count": 24,
     "metadata": {},
     "output_type": "execute_result"
    }
   ],
   "source": [
    "datetime.datetime.now(pytz.timezone(\"europe/london\"))"
   ]
  },
  {
   "cell_type": "code",
   "execution_count": 25,
   "id": "b7659e05",
   "metadata": {},
   "outputs": [
    {
     "data": {
      "text/plain": [
       "datetime.datetime(2025, 7, 26, 6, 49, 33, 350562, tzinfo=<DstTzInfo 'Australia/Sydney' AEST+10:00:00 STD>)"
      ]
     },
     "execution_count": 25,
     "metadata": {},
     "output_type": "execute_result"
    }
   ],
   "source": [
    "datetime.datetime.now(pytz.timezone(\"australia/sydney\"))"
   ]
  },
  {
   "cell_type": "code",
   "execution_count": 26,
   "id": "76296d78",
   "metadata": {},
   "outputs": [
    {
     "data": {
      "text/plain": [
       "1753476573.358318"
      ]
     },
     "execution_count": 26,
     "metadata": {},
     "output_type": "execute_result"
    }
   ],
   "source": [
    "datetime.datetime.now().timestamp()  # uses local timezone"
   ]
  },
  {
   "cell_type": "code",
   "execution_count": 27,
   "id": "c7e6a40e",
   "metadata": {},
   "outputs": [
    {
     "data": {
      "text/plain": [
       "1753476573.367999"
      ]
     },
     "execution_count": 27,
     "metadata": {},
     "output_type": "execute_result"
    }
   ],
   "source": [
    "datetime.datetime.now(pytz.timezone(\"europe/london\")).timestamp()"
   ]
  },
  {
   "cell_type": "code",
   "execution_count": 28,
   "id": "f92bdb40",
   "metadata": {},
   "outputs": [
    {
     "data": {
      "text/plain": [
       "1753476573.377477"
      ]
     },
     "execution_count": 28,
     "metadata": {},
     "output_type": "execute_result"
    }
   ],
   "source": [
    "datetime.datetime.now(pytz.timezone(\"australia/sydney\")).timestamp()"
   ]
  },
  {
   "cell_type": "code",
   "execution_count": 29,
   "id": "1a463eee",
   "metadata": {},
   "outputs": [
    {
     "data": {
      "text/plain": [
       "datetime.datetime(2025, 7, 25, 21, 47, 40, 999163)"
      ]
     },
     "execution_count": 29,
     "metadata": {},
     "output_type": "execute_result"
    }
   ],
   "source": [
    "datetime.datetime.fromtimestamp(1753476460.999163)  # local timezone"
   ]
  },
  {
   "cell_type": "code",
   "execution_count": 30,
   "id": "2ad2025e",
   "metadata": {},
   "outputs": [
    {
     "data": {
      "text/plain": [
       "datetime.datetime(2025, 7, 25, 20, 47, 40, 999163)"
      ]
     },
     "execution_count": 30,
     "metadata": {},
     "output_type": "execute_result"
    }
   ],
   "source": [
    "datetime.datetime.fromtimestamp(1753476460.999163 - 3600)"
   ]
  },
  {
   "cell_type": "code",
   "execution_count": null,
   "id": "60c1a2e8",
   "metadata": {},
   "outputs": [],
   "source": []
  },
  {
   "cell_type": "code",
   "execution_count": null,
   "id": "ddd52d1d",
   "metadata": {},
   "outputs": [],
   "source": []
  },
  {
   "cell_type": "code",
   "execution_count": null,
   "id": "cb2bd695",
   "metadata": {},
   "outputs": [],
   "source": [
    "dt\n",
    "time.time()\n",
    "ts = dt.timestamp()\n",
    "ts\n",
    "\n",
    "dt.replace(tzinfo=pytz.timezone(\"australia/sydney\")).utcoffset()\n",
    "dt.replace(tzinfo=pytz.timezone(\"australia/melbourne\")).utcoffset()\n",
    "dt.astimezone(datetime.timezone.utc).timestamp()\n",
    "datetime.datetime.fromtimestamp(ts)\n",
    "datetime.datetime.utcfromtimestamp(ts)"
   ]
  },
  {
   "cell_type": "markdown",
   "id": "026ec326",
   "metadata": {},
   "source": [
    "### ordinal\n"
   ]
  },
  {
   "cell_type": "code",
   "execution_count": null,
   "id": "eec1bfe1",
   "metadata": {},
   "outputs": [],
   "source": [
    "# greg days\n",
    "\n",
    "import datetime\n",
    "\n",
    "dt = datetime.datetime(2023, 10, 1, 12, 0, 0)\n",
    "print(f\"{dt = }\")\n",
    "\n",
    "print(f\"{dt.toordinal() = }\")\n",
    "ord = dt.toordinal()\n",
    "\n",
    "aprox_yrs = ord // 365\n",
    "print(f\"{aprox_yrs = }\")\n",
    "aprox_mths = (ord % 365) // 30\n",
    "print(f\"{aprox_mths = }\")\n",
    "aprox_days = (ord % 365) % 30\n",
    "print(f\"{aprox_days = }\")"
   ]
  },
  {
   "cell_type": "code",
   "execution_count": 1,
   "id": "9f00b326",
   "metadata": {},
   "outputs": [],
   "source": [
    "### other"
   ]
  },
  {
   "cell_type": "code",
   "execution_count": null,
   "id": "7c57bdf6",
   "metadata": {},
   "outputs": [],
   "source": [
    "\"\"\"\n",
    "Datetime objects\n",
    "-----------------\n",
    "\n",
    "- datetime.datetime\n",
    "   iso_datetime\n",
    "- datetime.date\n",
    "   iso_date\n",
    "- datetime.time\n",
    "- time_stamp\n",
    "\"\"\"\n",
    "\n",
    "import datetime\n",
    "import time\n",
    "\n",
    "import pytz\n",
    "\n",
    "print(\"\\n\" * 5)\n",
    "\n",
    "dt = datetime.datetime.utcnow()\n",
    "dt\n",
    "isodt = dt.isoformat(\" \")\n",
    "isodt\n",
    "datetime.datetime.fromisoformat(isodt)\n",
    "\n",
    "print(\"\\n\" * 5)\n",
    "\n",
    "dt = datetime.datetime.utcnow()\n",
    "dt\n",
    "time.time()\n",
    "ts = dt.timestamp()\n",
    "ts\n",
    "dt = dt.replace(tzinfo=datetime.timezone.utc)\n",
    "ts = dt.timestamp()\n",
    "ts\n",
    "datetime.datetime.fromtimestamp(ts)\n",
    "datetime.datetime.utcfromtimestamp(ts)\n",
    "\n",
    "print(\"\\n\" * 5)\n",
    "\n",
    "datetime.datetime.now()\n",
    "datetime.datetime.now(pytz.timezone(\"australia/sydney\"))\n",
    "datetime.datetime.now(pytz.timezone(\"australia/melbourne\"))\n",
    "datetime.datetime.now(datetime.timezone.utc)\n",
    "datetime.datetime.utcnow()\n",
    "datetime.datetime.now(datetime.timezone(datetime.timedelta(hours=11)))\n",
    "\n",
    "print(\"\\n\" * 5)\n",
    "\n",
    "datetime.datetime.now().timestamp()\n",
    "datetime.datetime.now(pytz.timezone(\"australia/sydney\")).timestamp()\n",
    "datetime.datetime.now(pytz.timezone(\"australia/melbourne\")).timestamp()\n",
    "datetime.datetime.now(datetime.timezone.utc).timestamp()\n",
    "datetime.datetime.utcnow().timestamp()\n",
    "datetime.datetime.now(datetime.timezone(datetime.timedelta(hours=11))).timestamp()\n",
    "\n",
    "print(\"\\n\" * 5)\n",
    "\n",
    "dt = datetime.datetime.now(datetime.timezone.utc)\n",
    "dt.utcoffset()\n",
    "dt.timestamp()\n",
    "dt.date()\n",
    "\n",
    "print(\"\\n\" * 5)\n",
    "\n",
    "dte = datetime.date.today()\n",
    "isodte = dte.isoformat()\n",
    "dte = datetime.date.fromisoformat(isodte)\n",
    "dt = datetime.datetime.combine(dte, datetime.time())\n",
    "\n",
    "print(\"\\n\" * 5)\n",
    "\n",
    "ts = time.time()\n",
    "ts\n",
    "datetime.datetime.utcfromtimestamp(ts)\n",
    "dt = datetime.datetime.utcnow()\n",
    "dt\n",
    "dt.replace(tzinfo=datetime.timezone.utc).timestamp()\n",
    "dte = datetime.date.today()\n",
    "\n",
    "print(\"\\n\" * 5)"
   ]
  },
  {
   "cell_type": "code",
   "execution_count": null,
   "id": "f9e4ef5a",
   "metadata": {},
   "outputs": [],
   "source": []
  },
  {
   "cell_type": "code",
   "execution_count": null,
   "id": "2f225006",
   "metadata": {},
   "outputs": [],
   "source": []
  }
 ],
 "metadata": {
  "kernelspec": {
   "display_name": "Python 3",
   "language": "python",
   "name": "python3"
  },
  "language_info": {
   "codemirror_mode": {
    "name": "ipython",
    "version": 3
   },
   "file_extension": ".py",
   "mimetype": "text/x-python",
   "name": "python",
   "nbconvert_exporter": "python",
   "pygments_lexer": "ipython3",
   "version": "3.13.2"
  }
 },
 "nbformat": 4,
 "nbformat_minor": 5
}
