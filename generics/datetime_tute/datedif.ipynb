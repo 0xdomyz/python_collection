{
 "cells": [
  {
   "cell_type": "code",
   "execution_count": 1,
   "metadata": {},
   "outputs": [
    {
     "name": "stdout",
     "output_type": "stream",
     "text": [
      "Years: 34\n"
     ]
    }
   ],
   "source": [
    "from datetime import datetime\n",
    "\n",
    "def datedif_years(start_date, end_date):\n",
    "    return end_date.year - start_date.year - ((end_date.month, end_date.day) < (start_date.month, start_date.day))\n",
    "\n",
    "# Example usage\n",
    "start_date = datetime.strptime(\"1990-04-15\", \"%Y-%m-%d\")\n",
    "end_date = datetime.today()\n",
    "years = datedif_years(start_date, end_date)\n",
    "print(f\"Years: {years}\")\n"
   ]
  },
  {
   "cell_type": "code",
   "execution_count": 2,
   "metadata": {},
   "outputs": [
    {
     "name": "stdout",
     "output_type": "stream",
     "text": [
      "Months: 418\n"
     ]
    }
   ],
   "source": [
    "def datedif_months(start_date, end_date):\n",
    "    months = (end_date.year - start_date.year) * 12 + (end_date.month - start_date.month)\n",
    "    if end_date.day < start_date.day:\n",
    "        months -= 1\n",
    "    return months\n",
    "\n",
    "# Example usage\n",
    "months = datedif_months(start_date, end_date)\n",
    "print(f\"Months: {months}\")\n"
   ]
  },
  {
   "cell_type": "code",
   "execution_count": 3,
   "metadata": {},
   "outputs": [
    {
     "name": "stdout",
     "output_type": "stream",
     "text": [
      "Days: 12732\n"
     ]
    }
   ],
   "source": [
    "def datedif_days(start_date, end_date):\n",
    "    return (end_date - start_date).days\n",
    "\n",
    "# Example usage\n",
    "days = datedif_days(start_date, end_date)\n",
    "print(f\"Days: {days}\")\n"
   ]
  },
  {
   "cell_type": "code",
   "execution_count": 4,
   "metadata": {},
   "outputs": [
    {
     "name": "stdout",
     "output_type": "stream",
     "text": [
      "MD: 7\n"
     ]
    }
   ],
   "source": [
    "def datedif_md(start_date, end_date):\n",
    "    if end_date.day >= start_date.day:\n",
    "        return end_date.day - start_date.day\n",
    "    else:\n",
    "        previous_month_end_date = end_date.replace(day=1) - timedelta(days=1)\n",
    "        return previous_month_end_date.day - start_date.day + end_date.day\n",
    "\n",
    "# Example usage\n",
    "days_md = datedif_md(start_date, end_date)\n",
    "print(f\"MD: {days_md}\")\n"
   ]
  },
  {
   "cell_type": "code",
   "execution_count": 5,
   "metadata": {},
   "outputs": [
    {
     "name": "stdout",
     "output_type": "stream",
     "text": [
      "YM: 10\n"
     ]
    }
   ],
   "source": [
    "def datedif_ym(start_date, end_date):\n",
    "    if end_date.day < start_date.day:\n",
    "        return (end_date.month - start_date.month - 1) % 12\n",
    "    else:\n",
    "        return (end_date.month - start_date.month) % 12\n",
    "\n",
    "# Example usage\n",
    "months_ym = datedif_ym(start_date, end_date)\n",
    "print(f\"YM: {months_ym}\")\n"
   ]
  },
  {
   "cell_type": "code",
   "execution_count": 6,
   "metadata": {},
   "outputs": [
    {
     "name": "stdout",
     "output_type": "stream",
     "text": [
      "YD: 313\n"
     ]
    }
   ],
   "source": [
    "def datedif_yd(start_date, end_date):\n",
    "    adjusted_end_date = end_date.replace(year=start_date.year)\n",
    "    if adjusted_end_date < start_date:\n",
    "        adjusted_end_date = adjusted_end_date.replace(year=start_date.year + 1)\n",
    "    return (adjusted_end_date - start_date).days\n",
    "\n",
    "# Example usage\n",
    "days_yd = datedif_yd(start_date, end_date)\n",
    "print(f\"YD: {days_yd}\")\n"
   ]
  },
  {
   "cell_type": "code",
   "execution_count": 7,
   "metadata": {},
   "outputs": [
    {
     "name": "stdout",
     "output_type": "stream",
     "text": [
      "34 Years, 10 Months, 7 Days\n"
     ]
    }
   ],
   "source": [
    "from datetime import datetime\n",
    "\n",
    "def calculate_age(birth_date):\n",
    "    today = datetime.today()\n",
    "    years = today.year - birth_date.year\n",
    "    months = today.month - birth_date.month\n",
    "    days = today.day - birth_date.day\n",
    "\n",
    "    # Adjust for negative days and months\n",
    "    if days < 0:\n",
    "        months -= 1\n",
    "        days += (today.replace(month=today.month-1) - birth_date.replace(month=birth_date.month-1)).days\n",
    "    if months < 0:\n",
    "        years -= 1\n",
    "        months += 12\n",
    "\n",
    "    return years, months, days\n",
    "\n",
    "# Example usage\n",
    "birth_date = datetime.strptime(\"1990-04-15\", \"%Y-%m-%d\")\n",
    "years, months, days = calculate_age(birth_date)\n",
    "print(f\"{years} Years, {months} Months, {days} Days\")\n"
   ]
  },
  {
   "cell_type": "code",
   "execution_count": null,
   "metadata": {},
   "outputs": [],
   "source": []
  },
  {
   "cell_type": "code",
   "execution_count": null,
   "metadata": {},
   "outputs": [],
   "source": []
  }
 ],
 "metadata": {
  "kernelspec": {
   "display_name": "Python 3",
   "language": "python",
   "name": "python3"
  },
  "language_info": {
   "codemirror_mode": {
    "name": "ipython",
    "version": 3
   },
   "file_extension": ".py",
   "mimetype": "text/x-python",
   "name": "python",
   "nbconvert_exporter": "python",
   "pygments_lexer": "ipython3",
   "version": "3.12.1"
  }
 },
 "nbformat": 4,
 "nbformat_minor": 2
}
