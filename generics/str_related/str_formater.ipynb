{
 "cells": [
  {
   "cell_type": "markdown",
   "id": "ccdab81c",
   "metadata": {},
   "source": [
    "### format str %"
   ]
  },
  {
   "cell_type": "code",
   "execution_count": 106,
   "id": "d80f62f6",
   "metadata": {},
   "outputs": [],
   "source": [
    "# percetnage in formt string\n",
    "###############################\n",
    "name = \"John\""
   ]
  },
  {
   "cell_type": "code",
   "execution_count": 107,
   "id": "a4656e01",
   "metadata": {},
   "outputs": [],
   "source": [
    "age = 30"
   ]
  },
  {
   "cell_type": "code",
   "execution_count": 108,
   "id": "7773cecb",
   "metadata": {},
   "outputs": [],
   "source": [
    "height = 1.75"
   ]
  },
  {
   "cell_type": "code",
   "execution_count": 109,
   "id": "54d7cbf2",
   "metadata": {},
   "outputs": [
    {
     "name": "stdout",
     "output_type": "stream",
     "text": [
      "My name is John, I'm 30 years old, and I'm 1.75 meters tall.\n"
     ]
    }
   ],
   "source": [
    "# Using the % operator\n",
    "print(\n",
    "    \"My name is %s, I'm %d years old, and I'm %.2f meters tall.\" % (name, age, height)\n",
    ")"
   ]
  }
 ],
 "metadata": {
  "kernelspec": {
   "display_name": "Python 3",
   "language": "python",
   "name": "python3"
  },
  "language_info": {
   "codemirror_mode": {
    "name": "ipython",
    "version": 3
   },
   "file_extension": ".py",
   "mimetype": "text/x-python",
   "name": "python",
   "nbconvert_exporter": "python",
   "pygments_lexer": "ipython3",
   "version": "3.12.1"
  }
 },
 "nbformat": 4,
 "nbformat_minor": 5
}
