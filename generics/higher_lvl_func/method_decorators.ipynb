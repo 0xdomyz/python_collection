{
 "cells": [
  {
   "cell_type": "markdown",
   "id": "507dc745",
   "metadata": {},
   "source": [
    "### decorate method like normal"
   ]
  },
  {
   "cell_type": "code",
   "execution_count": 5,
   "id": "f7906c40",
   "metadata": {},
   "outputs": [
    {
     "name": "stdout",
     "output_type": "stream",
     "text": [
      "decorator lines 1\n"
     ]
    },
    {
     "data": {
      "text/plain": [
       "2"
      ]
     },
     "execution_count": 5,
     "metadata": {},
     "output_type": "execute_result"
    }
   ],
   "source": [
    "import functools\n",
    "\n",
    "\n",
    "def dec1(x):\n",
    "    def decorate(func):\n",
    "        @functools.wraps(func)\n",
    "        def new_func(*args, **kwargs):\n",
    "            print(f\"decorator lines {x}\")\n",
    "            return func(*args, **kwargs)\n",
    "\n",
    "        return new_func\n",
    "\n",
    "    return decorate\n",
    "\n",
    "\n",
    "class A:\n",
    "    def __init__(self):\n",
    "        pass\n",
    "\n",
    "    @dec1(1)\n",
    "    def func(self, x):\n",
    "        return x + 1\n",
    "\n",
    "\n",
    "A().func(1)"
   ]
  },
  {
   "cell_type": "markdown",
   "id": "a2f1d069",
   "metadata": {},
   "source": [
    "### access self "
   ]
  },
  {
   "cell_type": "code",
   "execution_count": null,
   "id": "e2f9e421",
   "metadata": {},
   "outputs": [
    {
     "name": "stdout",
     "output_type": "stream",
     "text": [
      "args[0].url = 'http://www.google.com'\n",
      "decorated function get\n"
     ]
    }
   ],
   "source": [
    "def check_authorization(f):\n",
    "    def wrapper(*args):\n",
    "        print(f\"{args[0].url = }\")  # access via args[0]\n",
    "        return f(*args)\n",
    "\n",
    "    return wrapper\n",
    "\n",
    "\n",
    "class Client(object):\n",
    "    def __init__(self, url):\n",
    "        self.url = url\n",
    "\n",
    "    @check_authorization\n",
    "    def get(self):\n",
    "        print(\"decorated function get\")\n",
    "\n",
    "\n",
    "if __name__ == \"__main__\":\n",
    "    Client(\"http://www.google.com\").get()"
   ]
  },
  {
   "cell_type": "code",
   "execution_count": null,
   "id": "e928ac91",
   "metadata": {},
   "outputs": [],
   "source": []
  },
  {
   "cell_type": "code",
   "execution_count": null,
   "id": "c82c6dda",
   "metadata": {},
   "outputs": [],
   "source": []
  },
  {
   "cell_type": "code",
   "execution_count": null,
   "id": "f0f6acd0",
   "metadata": {},
   "outputs": [],
   "source": []
  },
  {
   "cell_type": "code",
   "execution_count": null,
   "id": "cb8e3882",
   "metadata": {},
   "outputs": [],
   "source": []
  },
  {
   "cell_type": "code",
   "execution_count": null,
   "id": "3af19f26",
   "metadata": {},
   "outputs": [],
   "source": []
  }
 ],
 "metadata": {
  "kernelspec": {
   "display_name": "Python 3",
   "language": "python",
   "name": "python3"
  },
  "language_info": {
   "codemirror_mode": {
    "name": "ipython",
    "version": 3
   },
   "file_extension": ".py",
   "mimetype": "text/x-python",
   "name": "python",
   "nbconvert_exporter": "python",
   "pygments_lexer": "ipython3",
   "version": "3.13.2"
  }
 },
 "nbformat": 4,
 "nbformat_minor": 5
}
