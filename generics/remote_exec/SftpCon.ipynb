{
 "cells": [
  {
   "cell_type": "code",
   "execution_count": 2,
   "metadata": {},
   "outputs": [],
   "source": [
    "import paramiko\n",
    "\n",
    "class SftpCon(object):\n",
    "    def __init__(self, hostname, username, password=None):\n",
    "        self.hostname = hostname\n",
    "        self.username = username\n",
    "        self.password = password\n",
    "        self.ssh_client = paramiko.SSHClient()\n",
    "        self.ssh_client.set_missing_host_key_policy(paramiko.AutoAddPolicy())\n",
    "        self.ssh_client.connect(hostname, username=username, password=password)\n",
    "        self.sftp_client = self.ssh_client.open_sftp()\n",
    "\n",
    "    def __enter__(self):\n",
    "        return self\n",
    "    \n",
    "    def __exit__(self, exc_type, exc_value, traceback):\n",
    "        self.close()\n",
    "\n",
    "    def close(self):\n",
    "        self.sftp_client.close()\n",
    "        self.ssh_client.close()\n",
    "\n",
    "    def get(self, remote_path, local_path):\n",
    "        self.sftp_client.get(remote_path, local_path)\n",
    "\n",
    "    def put(self, local_path, remote_path):\n",
    "        self.sftp_client.put(local_path, remote_path)\n",
    "\n",
    "    def ls(self):\n",
    "        path = \".\"\n",
    "        return self.sftp_client.listdir(path)"
   ]
  },
  {
   "cell_type": "code",
   "execution_count": 4,
   "metadata": {},
   "outputs": [
    {
     "name": "stdout",
     "output_type": "stream",
     "text": [
      "local_dataframe.csv: Mon Mar 11 21:32:49 2024\n",
      "local_dataframe.csv: Mon Mar 11 21:35:26 2024\n",
      "remote_dataframe.csv: Mon Mar 11 21:32:51 2024\n",
      "remote_dataframe.csv: Mon Mar 11 21:35:29 2024\n"
     ]
    }
   ],
   "source": [
    "from pathlib import Path\n",
    "import os\n",
    "import time\n",
    "\n",
    "hostname = '192.168.0.166'\n",
    "username = 'pi'\n",
    "remote_path = \"/home/pi/remote_dataframe.csv\"\n",
    "local_path = \"local_dataframe.csv\"\n",
    "\n",
    "with SftpCon(hostname, username) as sftp:\n",
    "    # Show timestamp on local file\n",
    "    ts = os.path.getmtime(\"local_dataframe.csv\")\n",
    "    print(f\"local_dataframe.csv: {time.ctime(ts)}\")\n",
    "\n",
    "    sftp.get(remote_path, local_path)\n",
    "\n",
    "    # Show timestamp on local file\n",
    "    ts = os.path.getmtime(\"local_dataframe.csv\")\n",
    "    print(f\"local_dataframe.csv: {time.ctime(ts)}\")\n",
    "\n",
    "    # Show timestamp on remote file\n",
    "    ts = sftp.sftp_client.stat(remote_path).st_mtime\n",
    "    print(f\"remote_dataframe.csv: {time.ctime(ts)}\")\n",
    "\n",
    "    sftp.put(local_path, remote_path)\n",
    "\n",
    "    # Show timestamp on remote file\n",
    "    ts = sftp.sftp_client.stat(remote_path).st_mtime\n",
    "    print(f\"remote_dataframe.csv: {time.ctime(ts)}\")\n"
   ]
  }
 ],
 "metadata": {
  "kernelspec": {
   "display_name": "Python 3",
   "language": "python",
   "name": "python3"
  },
  "language_info": {
   "codemirror_mode": {
    "name": "ipython",
    "version": 3
   },
   "file_extension": ".py",
   "mimetype": "text/x-python",
   "name": "python",
   "nbconvert_exporter": "python",
   "pygments_lexer": "ipython3",
   "version": "3.12.1"
  }
 },
 "nbformat": 4,
 "nbformat_minor": 2
}
