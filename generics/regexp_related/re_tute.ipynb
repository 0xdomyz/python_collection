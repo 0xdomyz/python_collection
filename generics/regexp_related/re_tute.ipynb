{
 "cells": [
  {
   "cell_type": "code",
   "execution_count": 2,
   "metadata": {},
   "outputs": [],
   "source": [
    "import re"
   ]
  },
  {
   "cell_type": "code",
   "execution_count": 2,
   "metadata": {},
   "outputs": [
    {
     "data": {
      "text/plain": [
       "['005']"
      ]
     },
     "execution_count": 2,
     "metadata": {},
     "output_type": "execute_result"
    }
   ],
   "source": [
    "target = \"res005_mem008_no005_card\"\n",
    "re.findall(r'no(\\d+)', target)"
   ]
  },
  {
   "cell_type": "code",
   "execution_count": null,
   "metadata": {},
   "outputs": [],
   "source": [
    "import re\n",
    "\n",
    "\n",
    "def displaymatch(match: re.Match) -> str:\n",
    "    \"\"\"\n",
    "    Examples\n",
    "    ------------\n",
    "    >>> _ = re.match(r\"(\\w+) (\\w+)\", \"Isaac Newton, physicist\")\n",
    "    >>> _\n",
    "    <re.Match object; span=(0, 12), match='Isaac Newton'>\n",
    "    >>> displaymatch(_)\n",
    "    \"<Match: 'Isaac Newton', groups=('Isaac', 'Newton')>\"\n",
    "    \"\"\"\n",
    "    if match is None:\n",
    "        return None\n",
    "    return \"<Match: %r, groups=%r>\" % (match.group(), match.groups())\n",
    "\n",
    "\n",
    "# validate poker hand\n",
    "valid = re.compile(r\"^[a2-9tjqk]{5}$\")  # a pattern that matches a poker hand\n",
    "displaymatch(valid.match(\"akt5q\"))  # Valid.\n",
    "displaymatch(valid.match(\"akt5e\"))  # Invalid.\n",
    "displaymatch(valid.match(\"akt\"))  # Invalid.\n",
    "displaymatch(valid.match(\"727ak\"))  # Valid.\n",
    "\n",
    "# detect pair via backreference\n",
    "pair = re.compile(r\".*(.).*\\1\")\n",
    "# 0 or more of any, then potential first occurrence,\n",
    "# then 0 or more of any, then the 2nd occurrence\n",
    "# making a pair\n",
    "displaymatch(pair.match(\"717ak\"))  # Pair of 7s.\n",
    "displaymatch(pair.match(\"718ak\"))  # No pairs.\n",
    "displaymatch(pair.match(\"354aa\"))  # Pair of aces.\n",
    "displaymatch(pair.match(\"aa778\"))  # greedy\n",
    "displaymatch(re.compile(r\".*?(.).*?\\1\").match(\"aa778\"))  # non-greedy\n",
    "\n",
    "pair.match(\"717ak\").group()  # the whole match\n",
    "pair.match(\"717ak\").group(1)  # the first group\n",
    "\n",
    "# https://docs.python.org/3/library/re.html#simulating-scanf\n"
   ]
  },
  {
   "cell_type": "code",
   "execution_count": 15,
   "metadata": {},
   "outputs": [
    {
     "name": "stdout",
     "output_type": "stream",
     "text": [
      "target: libname yes \"/home/user/data;\" readonly;\n",
      "['\"/home/user/data;\"']\n",
      "\"/home/user/data;\"\n",
      "\n",
      "\n",
      "target: libname no \"/user/data;\" readonly;\n",
      "[]\n",
      "\n",
      "\n",
      "target: a_sdtrig = \"aserf\" #345\n",
      "[]\n",
      "\n",
      "\n"
     ]
    }
   ],
   "source": [
    "# find the paths starting from a location in a line\n",
    "targets = [\n",
    "    \"\"\"libname yes \"/home/user/data;\" readonly;\"\"\",\n",
    "    \"\"\"libname no \"/user/data;\" readonly;\"\"\",\n",
    "    \"\"\"a_sdtrig = \"aserf\" #345\"\"\",\n",
    "]\n",
    "\n",
    "#.*? is a non-greedy match for any character (.) repeated 0 or more times (*). \n",
    "# The ? makes it non-greedy, meaning it will match as few characters as possible \n",
    "# while still satisfying the rest of the pattern.\n",
    "\n",
    "for target in targets:\n",
    "    print(f\"target: {target}\")\n",
    "\n",
    "    print(re.findall(r'\"/home.*?\"', target))\n",
    "\n",
    "    potential = re.search(r'\"/home.*?\"', target)\n",
    "    if potential:\n",
    "        print(potential.group())\n",
    "\n",
    "    print(\"\\n\")\n",
    "    \n",
    "\n"
   ]
  },
  {
   "cell_type": "code",
   "execution_count": null,
   "metadata": {},
   "outputs": [],
   "source": []
  },
  {
   "cell_type": "code",
   "execution_count": null,
   "metadata": {},
   "outputs": [],
   "source": []
  },
  {
   "cell_type": "code",
   "execution_count": null,
   "metadata": {},
   "outputs": [],
   "source": []
  }
 ],
 "metadata": {
  "kernelspec": {
   "display_name": "Python 3",
   "language": "python",
   "name": "python3"
  },
  "language_info": {
   "codemirror_mode": {
    "name": "ipython",
    "version": 3
   },
   "file_extension": ".py",
   "mimetype": "text/x-python",
   "name": "python",
   "nbconvert_exporter": "python",
   "pygments_lexer": "ipython3",
   "version": "3.12.1"
  }
 },
 "nbformat": 4,
 "nbformat_minor": 2
}
