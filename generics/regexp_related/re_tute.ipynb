{
 "cells": [
  {
   "cell_type": "code",
   "execution_count": 1,
   "metadata": {},
   "outputs": [],
   "source": [
    "import re"
   ]
  },
  {
   "cell_type": "markdown",
   "metadata": {},
   "source": [
    "# utils"
   ]
  },
  {
   "cell_type": "code",
   "execution_count": 5,
   "metadata": {},
   "outputs": [
    {
     "name": "stdout",
     "output_type": "stream",
     "text": [
      "<re.Match object; span=(0, 12), match='Isaac Newton'>\n"
     ]
    },
    {
     "data": {
      "text/plain": [
       "\"<Match: 'Isaac Newton', groups=('Isaac', 'Newton')>\""
      ]
     },
     "execution_count": 5,
     "metadata": {},
     "output_type": "execute_result"
    }
   ],
   "source": [
    "def displaymatch(match: re.Match) -> str:\n",
    "    if match is None:\n",
    "        return None\n",
    "    return \"<Match: %r, groups=%r>\" % (match.group(), match.groups())\n",
    "\n",
    "_ = re.match(r\"(\\w+) (\\w+)\", \"Isaac Newton, physicist\")\n",
    "print(_)\n",
    "displaymatch(_)\n"
   ]
  },
  {
   "cell_type": "code",
   "execution_count": 47,
   "metadata": {},
   "outputs": [
    {
     "name": "stdout",
     "output_type": "stream",
     "text": [
      "as_integer_ratio\n",
      "bit_count\n",
      "bit_length\n",
      "conjugate\n",
      "denominator\n",
      "from_bytes\n",
      "imag\n",
      "is_integer\n",
      "numerator\n",
      "real\n",
      "to_bytes\n"
     ]
    }
   ],
   "source": [
    "def display_external_methods(obj):\n",
    "    for method in dir(obj):\n",
    "        if not method.startswith(\"_\"):\n",
    "            print(method)\n",
    "\n",
    "display_external_methods(int)"
   ]
  },
  {
   "cell_type": "markdown",
   "metadata": {},
   "source": [
    "# features"
   ]
  },
  {
   "cell_type": "markdown",
   "metadata": {},
   "source": [
    "### findall and iter"
   ]
  },
  {
   "cell_type": "code",
   "execution_count": 19,
   "metadata": {},
   "outputs": [
    {
     "name": "stdout",
     "output_type": "stream",
     "text": [
      "['005', '008', '005']\n"
     ]
    }
   ],
   "source": [
    "# findall\n",
    "target = \"res005_mem008_no005_card\"\n",
    "print(re.findall(r'\\d+', target))"
   ]
  },
  {
   "cell_type": "code",
   "execution_count": 21,
   "metadata": {},
   "outputs": [
    {
     "name": "stdout",
     "output_type": "stream",
     "text": [
      "['05', '08', '05']\n"
     ]
    }
   ],
   "source": [
    "# can specify group\n",
    "print(re.findall(r'\\d(\\d{2})', target))"
   ]
  },
  {
   "cell_type": "code",
   "execution_count": 22,
   "metadata": {},
   "outputs": [
    {
     "name": "stdout",
     "output_type": "stream",
     "text": [
      "005\n",
      "008\n",
      "005\n"
     ]
    }
   ],
   "source": [
    "# finditer\n",
    "target = \"res005_mem008_no005_card\"\n",
    "for match in re.finditer(r'\\d+', target):\n",
    "    print(match.group())"
   ]
  },
  {
   "cell_type": "markdown",
   "metadata": {},
   "source": [
    "### compile for pattern object"
   ]
  },
  {
   "cell_type": "code",
   "execution_count": 34,
   "metadata": {},
   "outputs": [
    {
     "data": {
      "text/plain": [
       "re.Pattern"
      ]
     },
     "execution_count": 34,
     "metadata": {},
     "output_type": "execute_result"
    }
   ],
   "source": [
    "valid = re.compile(r\"^[a2-9tjqk]{5}$\")\n",
    "type(valid)"
   ]
  },
  {
   "cell_type": "code",
   "execution_count": 42,
   "metadata": {},
   "outputs": [
    {
     "name": "stdout",
     "output_type": "stream",
     "text": [
      "findall\n",
      "finditer\n",
      "flags\n",
      "fullmatch\n",
      "groupindex\n",
      "groups\n",
      "match\n",
      "pattern\n",
      "scanner\n",
      "search\n",
      "split\n",
      "sub\n",
      "subn\n"
     ]
    }
   ],
   "source": [
    "display_external_methods(valid)"
   ]
  },
  {
   "cell_type": "code",
   "execution_count": 33,
   "metadata": {},
   "outputs": [
    {
     "name": "stdout",
     "output_type": "stream",
     "text": [
      "['akt5q']\n"
     ]
    }
   ],
   "source": [
    "print(valid.findall(\"akt5q\"))"
   ]
  },
  {
   "cell_type": "markdown",
   "metadata": {},
   "source": [
    "### search"
   ]
  },
  {
   "cell_type": "code",
   "execution_count": 59,
   "metadata": {},
   "outputs": [],
   "source": [
    "three_digi = re.compile(r'\\d{3}')"
   ]
  },
  {
   "cell_type": "code",
   "execution_count": 60,
   "metadata": {},
   "outputs": [
    {
     "name": "stdout",
     "output_type": "stream",
     "text": [
      "['001', '123', '456']\n"
     ]
    }
   ],
   "source": [
    "print(three_digi.findall(\"aaa78_mem001-1234567\"))"
   ]
  },
  {
   "cell_type": "markdown",
   "metadata": {},
   "source": [
    "### sub"
   ]
  },
  {
   "cell_type": "code",
   "execution_count": 61,
   "metadata": {},
   "outputs": [
    {
     "name": "stdout",
     "output_type": "stream",
     "text": [
      "aaa78_memddd-dddddd7\n"
     ]
    }
   ],
   "source": [
    "print(three_digi.sub(\"ddd\",\"aaa78_mem001-1234567\"))"
   ]
  },
  {
   "cell_type": "markdown",
   "metadata": {},
   "source": [
    "### match"
   ]
  },
  {
   "cell_type": "code",
   "execution_count": 75,
   "metadata": {},
   "outputs": [
    {
     "data": {
      "text/plain": [
       "<re.Match object; span=(0, 7), match='abc-123'>"
      ]
     },
     "execution_count": 75,
     "metadata": {},
     "output_type": "execute_result"
    }
   ],
   "source": [
    "match = re.match(r\"(\\w+)-(\\d+)\", \"abc-123\")\n",
    "match"
   ]
  },
  {
   "cell_type": "code",
   "execution_count": 82,
   "metadata": {},
   "outputs": [],
   "source": [
    "# returns None if no match\n",
    "valid.match(\"akt5q11\")"
   ]
  },
  {
   "cell_type": "markdown",
   "metadata": {},
   "source": [
    "### The match object"
   ]
  },
  {
   "cell_type": "code",
   "execution_count": 76,
   "metadata": {},
   "outputs": [
    {
     "name": "stdout",
     "output_type": "stream",
     "text": [
      "end\n",
      "endpos\n",
      "expand\n",
      "group\n",
      "groupdict\n",
      "groups\n",
      "lastgroup\n",
      "lastindex\n",
      "pos\n",
      "re\n",
      "regs\n",
      "span\n",
      "start\n",
      "string\n"
     ]
    }
   ],
   "source": [
    "display_external_methods(match)"
   ]
  },
  {
   "cell_type": "code",
   "execution_count": 78,
   "metadata": {},
   "outputs": [
    {
     "data": {
      "text/plain": [
       "('abc', '123')"
      ]
     },
     "execution_count": 78,
     "metadata": {},
     "output_type": "execute_result"
    }
   ],
   "source": [
    "match.groups()"
   ]
  },
  {
   "cell_type": "code",
   "execution_count": 77,
   "metadata": {},
   "outputs": [
    {
     "data": {
      "text/plain": [
       "'abc-123'"
      ]
     },
     "execution_count": 77,
     "metadata": {},
     "output_type": "execute_result"
    }
   ],
   "source": [
    "match.group()"
   ]
  },
  {
   "cell_type": "code",
   "execution_count": 79,
   "metadata": {},
   "outputs": [
    {
     "data": {
      "text/plain": [
       "'abc-123'"
      ]
     },
     "execution_count": 79,
     "metadata": {},
     "output_type": "execute_result"
    }
   ],
   "source": [
    "match.group(0)"
   ]
  },
  {
   "cell_type": "code",
   "execution_count": 80,
   "metadata": {},
   "outputs": [
    {
     "data": {
      "text/plain": [
       "'abc'"
      ]
     },
     "execution_count": 80,
     "metadata": {},
     "output_type": "execute_result"
    }
   ],
   "source": [
    "match.group(1)"
   ]
  },
  {
   "cell_type": "code",
   "execution_count": 81,
   "metadata": {},
   "outputs": [
    {
     "data": {
      "text/plain": [
       "'123'"
      ]
     },
     "execution_count": 81,
     "metadata": {},
     "output_type": "execute_result"
    }
   ],
   "source": [
    "match.group(2)"
   ]
  },
  {
   "cell_type": "markdown",
   "metadata": {},
   "source": [
    "### backreference"
   ]
  },
  {
   "cell_type": "code",
   "execution_count": null,
   "metadata": {},
   "outputs": [],
   "source": [
    "# detect pair via backreference\n",
    "pair = re.compile(r\".*(.).*\\1\")\n",
    "# 0 or more of any, then potential first occurrence,\n",
    "# then 0 or more of any, then the 2nd occurrence\n",
    "# making a pair\n",
    "displaymatch(pair.match(\"717ak\"))  # Pair of 7s.\n",
    "displaymatch(pair.match(\"718ak\"))  # No pairs.\n",
    "displaymatch(pair.match(\"354aa\"))  # Pair of aces.\n",
    "displaymatch(pair.match(\"aa778\"))  # greedy\n",
    "displaymatch(re.compile(r\".*?(.).*?\\1\").match(\"aa778\"))  # non-greedy\n"
   ]
  },
  {
   "cell_type": "code",
   "execution_count": null,
   "metadata": {},
   "outputs": [],
   "source": [
    "\n",
    "pair.match(\"717ak\").group()  # the whole match\n",
    "pair.match(\"717ak\").group(1)  # the first group"
   ]
  },
  {
   "cell_type": "code",
   "execution_count": 15,
   "metadata": {},
   "outputs": [
    {
     "name": "stdout",
     "output_type": "stream",
     "text": [
      "target: libname yes \"/home/user/data;\" readonly;\n",
      "['\"/home/user/data;\"']\n",
      "\"/home/user/data;\"\n",
      "\n",
      "\n",
      "target: libname no \"/user/data;\" readonly;\n",
      "[]\n",
      "\n",
      "\n",
      "target: a_sdtrig = \"aserf\" #345\n",
      "[]\n",
      "\n",
      "\n"
     ]
    }
   ],
   "source": [
    "# find the paths starting from a location in a line\n",
    "targets = [\n",
    "    \"\"\"libname yes \"/home/user/data;\" readonly;\"\"\",\n",
    "    \"\"\"libname no \"/user/data;\" readonly;\"\"\",\n",
    "    \"\"\"a_sdtrig = \"aserf\" #345\"\"\",\n",
    "]\n",
    "\n",
    "#.*? is a non-greedy match for any character (.) repeated 0 or more times (*). \n",
    "# The ? makes it non-greedy, meaning it will match as few characters as possible \n",
    "# while still satisfying the rest of the pattern.\n",
    "\n",
    "for target in targets:\n",
    "    print(f\"target: {target}\")\n",
    "\n",
    "    print(re.findall(r'\"/home.*?\"', target))\n",
    "\n",
    "    potential = re.search(r'\"/home.*?\"', target)\n",
    "    if potential:\n",
    "        print(potential.group())\n",
    "\n",
    "    print(\"\\n\")\n",
    "    \n",
    "\n"
   ]
  },
  {
   "cell_type": "code",
   "execution_count": null,
   "metadata": {},
   "outputs": [],
   "source": []
  }
 ],
 "metadata": {
  "kernelspec": {
   "display_name": "Python 3",
   "language": "python",
   "name": "python3"
  },
  "language_info": {
   "codemirror_mode": {
    "name": "ipython",
    "version": 3
   },
   "file_extension": ".py",
   "mimetype": "text/x-python",
   "name": "python",
   "nbconvert_exporter": "python",
   "pygments_lexer": "ipython3",
   "version": "3.12.1"
  }
 },
 "nbformat": 4,
 "nbformat_minor": 2
}
