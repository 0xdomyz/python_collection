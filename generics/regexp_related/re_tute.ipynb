{
 "cells": [
  {
   "cell_type": "code",
   "execution_count": 1,
   "metadata": {},
   "outputs": [],
   "source": [
    "import re"
   ]
  },
  {
   "cell_type": "markdown",
   "metadata": {},
   "source": [
    "# utils"
   ]
  },
  {
   "cell_type": "code",
   "execution_count": 2,
   "metadata": {},
   "outputs": [
    {
     "name": "stdout",
     "output_type": "stream",
     "text": [
      "<re.Match object; span=(0, 12), match='Isaac Newton'>\n"
     ]
    },
    {
     "data": {
      "text/plain": [
       "\"<Match: 'Isaac Newton', groups=('Isaac', 'Newton')>\""
      ]
     },
     "execution_count": 2,
     "metadata": {},
     "output_type": "execute_result"
    }
   ],
   "source": [
    "def displaymatch(match: re.Match) -> str:\n",
    "    if match is None:\n",
    "        return None\n",
    "    return \"<Match: %r, groups=%r>\" % (match.group(), match.groups())\n",
    "\n",
    "\n",
    "_ = re.match(r\"(\\w+) (\\w+)\", \"Isaac Newton, physicist\")\n",
    "print(_)\n",
    "displaymatch(_)"
   ]
  },
  {
   "cell_type": "code",
   "execution_count": 3,
   "metadata": {},
   "outputs": [
    {
     "name": "stdout",
     "output_type": "stream",
     "text": [
      "as_integer_ratio\n",
      "bit_count\n",
      "bit_length\n",
      "conjugate\n",
      "denominator\n",
      "from_bytes\n",
      "imag\n",
      "is_integer\n",
      "numerator\n",
      "real\n",
      "to_bytes\n"
     ]
    }
   ],
   "source": [
    "def display_external_methods(obj):\n",
    "    for method in dir(obj):\n",
    "        if not method.startswith(\"_\"):\n",
    "            print(method)\n",
    "\n",
    "\n",
    "display_external_methods(int)"
   ]
  },
  {
   "cell_type": "markdown",
   "metadata": {},
   "source": [
    "# features"
   ]
  },
  {
   "cell_type": "markdown",
   "metadata": {},
   "source": [
    "### compile for pattern object"
   ]
  },
  {
   "cell_type": "code",
   "execution_count": 63,
   "metadata": {},
   "outputs": [
    {
     "name": "stdout",
     "output_type": "stream",
     "text": [
      "<class 're.Pattern'>\n",
      "<re.Match object; span=(8, 13), match='akt5q'>\n"
     ]
    }
   ],
   "source": [
    "pattern = re.compile(r\"([a2-9tjqk]{5})\")\n",
    "print(type(pattern))\n",
    "print(pattern.search(\"inputs: akt5q, 33333\"))"
   ]
  },
  {
   "cell_type": "code",
   "execution_count": 64,
   "metadata": {},
   "outputs": [
    {
     "name": "stdout",
     "output_type": "stream",
     "text": [
      "<re.Match object; span=(8, 13), match='akt5q'>\n"
     ]
    }
   ],
   "source": [
    "# or use the re funcs directly\n",
    "print(re.search(r\"([a2-9tjqk]{5})\", \"inputs: akt5q, 33333\"))"
   ]
  },
  {
   "cell_type": "code",
   "execution_count": 61,
   "metadata": {},
   "outputs": [
    {
     "name": "stdout",
     "output_type": "stream",
     "text": [
      "findall\n",
      "finditer\n",
      "flags\n",
      "fullmatch\n",
      "groupindex\n",
      "groups\n",
      "match\n",
      "pattern\n",
      "scanner\n",
      "search\n",
      "split\n",
      "sub\n",
      "subn\n"
     ]
    }
   ],
   "source": [
    "display_external_methods(pattern)"
   ]
  },
  {
   "cell_type": "markdown",
   "metadata": {},
   "source": [
    "### findall and iter"
   ]
  },
  {
   "cell_type": "code",
   "execution_count": 19,
   "metadata": {},
   "outputs": [
    {
     "name": "stdout",
     "output_type": "stream",
     "text": [
      "['005', '008', '005']\n"
     ]
    }
   ],
   "source": [
    "# findall\n",
    "target = \"res005_mem008_no005_card\"\n",
    "print(re.findall(r\"\\d+\", target))"
   ]
  },
  {
   "cell_type": "code",
   "execution_count": 21,
   "metadata": {},
   "outputs": [
    {
     "name": "stdout",
     "output_type": "stream",
     "text": [
      "['05', '08', '05']\n"
     ]
    }
   ],
   "source": [
    "# can specify group\n",
    "print(re.findall(r\"\\d(\\d{2})\", target))"
   ]
  },
  {
   "cell_type": "code",
   "execution_count": 22,
   "metadata": {},
   "outputs": [
    {
     "name": "stdout",
     "output_type": "stream",
     "text": [
      "005\n",
      "008\n",
      "005\n"
     ]
    }
   ],
   "source": [
    "# finditer\n",
    "target = \"res005_mem008_no005_card\"\n",
    "for match in re.finditer(r\"\\d+\", target):\n",
    "    print(match.group())"
   ]
  },
  {
   "cell_type": "markdown",
   "metadata": {},
   "source": [
    "### search"
   ]
  },
  {
   "cell_type": "code",
   "execution_count": 91,
   "metadata": {},
   "outputs": [
    {
     "name": "stdout",
     "output_type": "stream",
     "text": [
      "<re.Match object; span=(12, 29), match='\"/home/user/data\"'>\n",
      "\"/home/user/data\"\n",
      "None\n"
     ]
    }
   ],
   "source": [
    "pat = re.compile(r'\"/home.*\"')\n",
    "match = pat.search(\"\"\"libname yes \"/home/user/data\" readonly;\"\"\")\n",
    "print(match)\n",
    "print(match.group())\n",
    "print(pat.search(\"\"\"a_sdtrig = \"aserf\" #345\"\"\"))"
   ]
  },
  {
   "cell_type": "markdown",
   "metadata": {},
   "source": [
    "### sub"
   ]
  },
  {
   "cell_type": "code",
   "execution_count": 61,
   "metadata": {},
   "outputs": [
    {
     "name": "stdout",
     "output_type": "stream",
     "text": [
      "aaa78_memddd-dddddd7\n"
     ]
    }
   ],
   "source": [
    "print(three_digi.sub(\"ddd\", \"aaa78_mem001-1234567\"))"
   ]
  },
  {
   "cell_type": "markdown",
   "metadata": {},
   "source": [
    "### match"
   ]
  },
  {
   "cell_type": "code",
   "execution_count": 75,
   "metadata": {},
   "outputs": [
    {
     "data": {
      "text/plain": [
       "<re.Match object; span=(0, 7), match='abc-123'>"
      ]
     },
     "execution_count": 75,
     "metadata": {},
     "output_type": "execute_result"
    }
   ],
   "source": [
    "match = re.match(r\"(\\w+)-(\\d+)\", \"abc-123\")\n",
    "match"
   ]
  },
  {
   "cell_type": "code",
   "execution_count": 68,
   "metadata": {},
   "outputs": [],
   "source": [
    "# returns None if no match\n",
    "valid = re.compile(r\"(\\w+)-(\\d+)\")\n",
    "valid.match(\"akt5q11\")"
   ]
  },
  {
   "cell_type": "markdown",
   "metadata": {},
   "source": [
    "### The match object"
   ]
  },
  {
   "cell_type": "code",
   "execution_count": 76,
   "metadata": {},
   "outputs": [
    {
     "name": "stdout",
     "output_type": "stream",
     "text": [
      "end\n",
      "endpos\n",
      "expand\n",
      "group\n",
      "groupdict\n",
      "groups\n",
      "lastgroup\n",
      "lastindex\n",
      "pos\n",
      "re\n",
      "regs\n",
      "span\n",
      "start\n",
      "string\n"
     ]
    }
   ],
   "source": [
    "display_external_methods(match)"
   ]
  },
  {
   "cell_type": "code",
   "execution_count": 84,
   "metadata": {},
   "outputs": [
    {
     "data": {
      "text/plain": [
       "<re.Match object; span=(0, 7), match='abc-123'>"
      ]
     },
     "execution_count": 84,
     "metadata": {},
     "output_type": "execute_result"
    }
   ],
   "source": [
    "word_number = re.compile(r\"(\\w+)-(\\d+)\")\n",
    "match = word_number.match(\"abc-123\")\n",
    "match"
   ]
  },
  {
   "cell_type": "code",
   "execution_count": 85,
   "metadata": {},
   "outputs": [
    {
     "name": "stdout",
     "output_type": "stream",
     "text": [
      "('abc', '123')\n",
      "abc-123\n",
      "('abc-123', 'abc', '123')\n"
     ]
    }
   ],
   "source": [
    "print(match.groups())  # tuple of all subgroups\n",
    "print(match.group())  # entire match\n",
    "print(match.group(0, 1, 2))  # subgroups of the match"
   ]
  },
  {
   "cell_type": "code",
   "execution_count": 86,
   "metadata": {},
   "outputs": [
    {
     "data": {
      "text/plain": [
       "<re.Match object; span=(4, 7), match='123'>"
      ]
     },
     "execution_count": 86,
     "metadata": {},
     "output_type": "execute_result"
    }
   ],
   "source": [
    "numbers = re.compile(r\"(\\d+)\")\n",
    "match = numbers.search(\"abc-123_v2\")\n",
    "match"
   ]
  },
  {
   "cell_type": "code",
   "execution_count": 87,
   "metadata": {},
   "outputs": [
    {
     "name": "stdout",
     "output_type": "stream",
     "text": [
      "('123',)\n",
      "123\n"
     ]
    }
   ],
   "source": [
    "# use group to get entire match as str\n",
    "print(match.groups())\n",
    "print(match.group())"
   ]
  },
  {
   "cell_type": "code",
   "execution_count": 88,
   "metadata": {},
   "outputs": [
    {
     "data": {
      "text/plain": [
       "<re.Match object; span=(4, 7), match='123'>"
      ]
     },
     "execution_count": 88,
     "metadata": {},
     "output_type": "execute_result"
    }
   ],
   "source": [
    "numbers = re.compile(r\"\\d+\")\n",
    "match = numbers.search(\"abc-123_v2\")\n",
    "match"
   ]
  },
  {
   "cell_type": "code",
   "execution_count": 89,
   "metadata": {},
   "outputs": [
    {
     "name": "stdout",
     "output_type": "stream",
     "text": [
      "()\n",
      "123\n"
     ]
    }
   ],
   "source": [
    "# groups can be empty tuple\n",
    "print(match.groups())\n",
    "print(match.group())"
   ]
  },
  {
   "cell_type": "markdown",
   "metadata": {},
   "source": [
    "### backreference"
   ]
  },
  {
   "cell_type": "code",
   "execution_count": 52,
   "metadata": {},
   "outputs": [],
   "source": [
    "# detect pair via backreference\n",
    "pair = re.compile(r\".*(.).*\\1\")\n",
    "# 0 or more of any, then potential first occurrence,\n",
    "# then 0 or more of any, then the 2nd occurrence"
   ]
  },
  {
   "cell_type": "code",
   "execution_count": 53,
   "metadata": {},
   "outputs": [
    {
     "name": "stdout",
     "output_type": "stream",
     "text": [
      "None\n",
      "<re.Match object; span=(0, 4), match='0a2a'>\n"
     ]
    }
   ],
   "source": [
    "print(pair.match(\"01234\"))\n",
    "print(pair.match(\"0a2a4\"))"
   ]
  },
  {
   "cell_type": "code",
   "execution_count": 55,
   "metadata": {},
   "outputs": [
    {
     "name": "stdout",
     "output_type": "stream",
     "text": [
      "('a',)\n",
      "0a2a\n"
     ]
    }
   ],
   "source": [
    "match = pair.match(\"0a2a4\")\n",
    "print(match.groups())\n",
    "print(match.group())"
   ]
  },
  {
   "cell_type": "code",
   "execution_count": null,
   "metadata": {},
   "outputs": [],
   "source": []
  }
 ],
 "metadata": {
  "kernelspec": {
   "display_name": "Python 3",
   "language": "python",
   "name": "python3"
  },
  "language_info": {
   "codemirror_mode": {
    "name": "ipython",
    "version": 3
   },
   "file_extension": ".py",
   "mimetype": "text/x-python",
   "name": "python",
   "nbconvert_exporter": "python",
   "pygments_lexer": "ipython3",
   "version": "3.12.1"
  }
 },
 "nbformat": 4,
 "nbformat_minor": 2
}
