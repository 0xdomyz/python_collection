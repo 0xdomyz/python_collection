{
 "cells": [
  {
   "cell_type": "code",
   "execution_count": null,
   "metadata": {},
   "outputs": [],
   "source": [
    "import re\n"
   ]
  },
  {
   "cell_type": "code",
   "execution_count": null,
   "metadata": {},
   "outputs": [],
   "source": [
    "\n",
    "\"\"\"\n",
    "metacharacters, escape with \\\n",
    "    \\^$.|?*+()[{\n",
    "\"\"\"\n",
    "\n",
    "metacharacters = r\"abc\\^$.|?*+()[{123\"\n",
    "\n",
    "re.findall(r\"\\^\", metacharacters)\n",
    "re.findall(r\"\\\\\", metacharacters)\n",
    "re.findall(r\"\\.\", metacharacters)\n",
    "re.findall(r\"\\$\", metacharacters)\n"
   ]
  },
  {
   "cell_type": "code",
   "execution_count": null,
   "metadata": {},
   "outputs": [],
   "source": [
    "\n",
    "\"\"\"\n",
    "Non-printable characters\n",
    "    \\t\\r\\n\\a\\e\\f\\v\\\n",
    "    \\r\\n\n",
    "    \\n\n",
    "    \\uFFFF\n",
    "    \\xA9\n",
    "\"\"\"\n"
   ]
  },
  {
   "cell_type": "code",
   "execution_count": null,
   "metadata": {},
   "outputs": [],
   "source": [
    "\n",
    "\"\"\"\n",
    "Character classes\n",
    "    [abc]\tany of a, b, or c\n",
    "    [^abc]\tnot a, b, or c\n",
    "    [a-g]\tcharacter between a & g\n",
    "    [0-9a-fA-F] hexadecimal digit\n",
    "\"\"\"\n",
    "\n",
    "alphabet = \"abcdefghijklmnopqrstuvwxyz\"\n",
    "\n",
    "re.findall(\"[abc]\", alphabet)\n",
    "re.findall(\"[^abc]\", alphabet)\n",
    "re.findall(\"[a-g]\", alphabet)\n",
    "re.findall(\"[0-9a-fA-F]\", \"0123456789abcdefABCDEF\")\n"
   ]
  },
  {
   "cell_type": "code",
   "execution_count": null,
   "metadata": {},
   "outputs": [],
   "source": [
    "\n",
    "\"\"\"\n",
    "Shorthand character classes\n",
    "    .\tany character except line break\n",
    "    \\d      - Digit (0-9)\n",
    "    \\D      - Not a Digit (0-9)\n",
    "    \\w      - Word Character (a-z, A-Z, 0-9, _)\n",
    "    \\W      - Not a Word Character\n",
    "    \\s      - Whitespace (space, tab, newline)\n",
    "    \\S      - Not Whitespace (space, tab, newline)\n",
    "    \\b      - Word Boundary\n",
    "    \\B      - Not a Word Boundary\n",
    "\"\"\"\n",
    "\n",
    "re.findall(r\"\\d\", \"fa34q\")\n",
    "re.findall(r\"\\D\", \"fa34q\")\n",
    "re.findall(r\"\\w\", \"1!, . rA3\")\n",
    "re.findall(r\"\\W\", \"1!, . rA3\")\n",
    "re.findall(r\"\\s\", \"1!, . rA3\")\n",
    "re.findall(r\"\\S\", \"1!, . rA3\")\n",
    "# re.findall(r\"\\b\", \"apple\")\n",
    "# for m in re.finditer(r\"\\B\", \"apple\"):\n",
    "#     print(m.start(), m.end(), m.group())\n"
   ]
  },
  {
   "cell_type": "code",
   "execution_count": null,
   "metadata": {},
   "outputs": [],
   "source": [
    "\n",
    "\n",
    "\"\"\"\n",
    "Anchors\n",
    "    ^       - Beginning of a String\n",
    "    $       - End of a String\n",
    "\"\"\"\n",
    "\n",
    "re.findall(r\"^a\", \"apple\")\n",
    "re.findall(r\"e$\", \"apple\")\n"
   ]
  },
  {
   "cell_type": "code",
   "execution_count": null,
   "metadata": {},
   "outputs": [],
   "source": [
    "\n",
    "\"\"\"\n",
    "Alternation\n",
    "    |       - Either Or\n",
    "    (cat | dog) food\n",
    "    cat | dog food\n",
    "\"\"\"\n",
    "\n",
    "re.findall(r\"cat|dog\", \"cat food\")\n",
    "re.findall(r\"cat|dog\", \"dog food\")\n"
   ]
  },
  {
   "cell_type": "code",
   "execution_count": null,
   "metadata": {},
   "outputs": [],
   "source": [
    "\n",
    "\"\"\"\n",
    "Repetition\n",
    "    *       - 0 or More\n",
    "    +       - 1 or More\n",
    "    ?       - 0 or One\n",
    "    {3}     - Exact Number\n",
    "    {3,4}   - Range of Numbers (Minimum, Maximum)\n",
    "    \\b[1-9][0-9]{2,4}\\b\n",
    "\"\"\"\n",
    "\n",
    "re.findall(r\"ab*\", \"aababbb\")\n",
    "re.findall(r\"ab+\", \"aababbb\")\n",
    "re.findall(r\"ab?\", \"aababbb\")\n",
    "re.findall(r\"ab{3}\", \"aababbb\")\n",
    "re.findall(r\"ab{3,4}\", \"aababbb\")\n"
   ]
  },
  {
   "cell_type": "code",
   "execution_count": null,
   "metadata": {},
   "outputs": [],
   "source": [
    "\n",
    "\"\"\"\n",
    "Greedy and lazy repetition\n",
    "    <.+> \n",
    "    <.+?> \n",
    "    <[^<>]+>\n",
    "\n",
    "Add a ? to a quantifier to make it ungreedy i.e lazy\n",
    "\"\"\"\n",
    "\n",
    "re.findall(\n",
    "    r\"<.+>\", \"<html><title>My Title</title></html>\"\n",
    ")  # greedy, as long as possible\n",
    "re.findall(r\"<.+?>\", \"<html><title>My Title</title></html>\")  # lazy, shorter\n"
   ]
  },
  {
   "cell_type": "code",
   "execution_count": null,
   "metadata": {},
   "outputs": [],
   "source": [
    "\n",
    "\"\"\"\n",
    "Grouping and capturing\n",
    "    ( )     - Group\n",
    "    Set(Value)?\n",
    "    Set(?:Value)?\n",
    "    \\0\n",
    "\"\"\"\n"
   ]
  },
  {
   "cell_type": "code",
   "execution_count": null,
   "metadata": {},
   "outputs": [],
   "source": [
    "\n",
    "\"\"\"\n",
    "Backreferences\n",
    "    ([abc])=\\1\n",
    "\"\"\"\n"
   ]
  },
  {
   "cell_type": "code",
   "execution_count": null,
   "metadata": {},
   "outputs": [],
   "source": [
    "\n",
    "\"\"\"\n",
    "Named groups and backreferences\n",
    "    (?<mygroup>[abc])=\\k<mygroup>\n",
    "\"\"\"\n"
   ]
  },
  {
   "cell_type": "code",
   "execution_count": null,
   "metadata": {},
   "outputs": [],
   "source": [
    "\n",
    "\"\"\"\n",
    "Unicode prop\n",
    "    \\p{L}\n",
    "\"\"\"\n"
   ]
  },
  {
   "cell_type": "code",
   "execution_count": null,
   "metadata": {},
   "outputs": [],
   "source": [
    "\n",
    "\"\"\"\n",
    "Lookaround\n",
    "    q(?=u)\tpositive lookahead\n",
    "    u(?!q)\tnegative lookahead\n",
    "    (?<=a)b\n",
    "    (?<!a)b\n",
    "\n",
    "\"\"\"\n"
   ]
  },
  {
   "cell_type": "code",
   "execution_count": null,
   "metadata": {},
   "outputs": [],
   "source": [
    "\n",
    "HREF_RE = re.compile(r'href=\"(.*?)\"')\n"
   ]
  }
 ],
 "metadata": {
  "language_info": {
   "name": "python"
  }
 },
 "nbformat": 4,
 "nbformat_minor": 2
}
