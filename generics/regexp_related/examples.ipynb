{
 "cells": [
  {
   "cell_type": "code",
   "execution_count": 1,
   "metadata": {},
   "outputs": [],
   "source": [
    "import re"
   ]
  },
  {
   "cell_type": "markdown",
   "metadata": {},
   "source": [
    "### find constants strings"
   ]
  },
  {
   "cell_type": "code",
   "execution_count": 17,
   "metadata": {},
   "outputs": [
    {
     "data": {
      "text/plain": [
       "['abc', 'cde']"
      ]
     },
     "execution_count": 17,
     "metadata": {},
     "output_type": "execute_result"
    }
   ],
   "source": [
    "target = \"\"\"\n",
    "a = 'abc' and b = \"cde\"\n",
    "\"\"\"\n",
    "\n",
    "matches = re.findall(r\"\\'.+\\'|\\\".+\\\"\", target)\n",
    "[x.replace('\"', \"\").replace(\"'\", \"\") for x in matches]"
   ]
  },
  {
   "cell_type": "code",
   "execution_count": 19,
   "metadata": {},
   "outputs": [
    {
     "name": "stdout",
     "output_type": "stream",
     "text": [
      "{'abc': (1, 2), 'cde': (1, 2), 'abc1': (1, 3), 'Cde': (1, 3)}\n"
     ]
    }
   ],
   "source": [
    "from io import StringIO\n",
    "\n",
    "target = r\"\"\"c = 1\n",
    "a = 'abc' and b = \"cde\"\n",
    "a34 = 'abc1' and b2 = \"Cde\"\n",
    "z = 37\n",
    "\n",
    "abc\n",
    "\"\"\"\n",
    "\n",
    "with StringIO(target) as f:\n",
    "    lines = f.readlines()\n",
    "\n",
    "reses = dict()\n",
    "line_num = 0\n",
    "for line in lines:\n",
    "    line_num += 1\n",
    "    matches = re.findall(r\"\\'.+\\'|\\\".+\\\"\", line)\n",
    "    res = [x.replace('\"', \"\").replace(\"'\", \"\") for x in matches]\n",
    "    for r in res:\n",
    "        reses[r] = (reses.get(r, 0) + 1, line_num)\n",
    "\n",
    "print(reses)"
   ]
  },
  {
   "cell_type": "code",
   "execution_count": null,
   "metadata": {},
   "outputs": [],
   "source": []
  }
 ],
 "metadata": {
  "kernelspec": {
   "display_name": "Python 3",
   "language": "python",
   "name": "python3"
  },
  "language_info": {
   "codemirror_mode": {
    "name": "ipython",
    "version": 3
   },
   "file_extension": ".py",
   "mimetype": "text/x-python",
   "name": "python",
   "nbconvert_exporter": "python",
   "pygments_lexer": "ipython3",
   "version": "3.12.1"
  }
 },
 "nbformat": 4,
 "nbformat_minor": 2
}
