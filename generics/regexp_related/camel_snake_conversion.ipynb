{
 "cells": [
  {
   "cell_type": "code",
   "execution_count": null,
   "metadata": {},
   "outputs": [],
   "source": [
    "import re\n"
   ]
  },
  {
   "cell_type": "code",
   "execution_count": null,
   "metadata": {},
   "outputs": [],
   "source": [
    "\n",
    "\n",
    "def camel_to_snake(name: str) -> str:\n",
    "    \"\"\"\n",
    "    Examples\n",
    "    ---------------\n",
    "    >>> camel_to_snake('CamelCaseName')\n",
    "    'camel_case_name'\n",
    "    >>> camel_to_snake('camelCaseName')\n",
    "    'camel_case_name'\n",
    "    >>> camel_to_snake('camel2_camel2_case')\n",
    "    'camel2_camel2_case'\n",
    "    >>> camel_to_snake('45rcamel2_camel2_case')\n",
    "    '45rcamel2_camel2_case'\n",
    "    >>> camel_to_snake('getHTTPResponseCode')\n",
    "    'get_h_t_t_p_response_code'\n",
    "    \"\"\"\n",
    "    # pattern = re.compile(r'(?<!^)(?=[A-Z])')\n",
    "    return re.sub(r\"(?<!^)(?=[A-Z])\", \"_\", name).lower()\n"
   ]
  },
  {
   "cell_type": "code",
   "execution_count": null,
   "metadata": {},
   "outputs": [],
   "source": [
    "\n",
    "\n",
    "def camel_to_snake(name: str) -> str:\n",
    "    \"\"\"\n",
    "    Examples\n",
    "    ---------------\n",
    "    >>> camel_to_snake('CamelCaseName')\n",
    "    'camel_case_name'\n",
    "    >>> camel_to_snake('camelCaseName')\n",
    "    'camel_case_name'\n",
    "    >>> camel_to_snake('camel2_camel2_case')\n",
    "    'camel2_camel2_case'\n",
    "    >>> camel_to_snake('45rcamel2_camel2_case')\n",
    "    '45rcamel2_camel2_case'\n",
    "    >>> camel_to_snake('getHTTPResponseCode')\n",
    "    'get_http_response_code'\n",
    "    >>> camel_to_snake('_CamelCaseName')\n",
    "    '__camel_case_name'\n",
    "    >>> camel_to_snake('_Camel_CaseName')\n",
    "    '__camel__case_name'\n",
    "    >>> camel_to_snake('__CamelCaseName')\n",
    "    '___camel_case_name'\n",
    "    \"\"\"\n",
    "    name = re.sub(\"(.)([A-Z][a-z]+)\", r\"\\1_\\2\", name)\n",
    "    return re.sub(\"([a-z0-9])([A-Z])\", r\"\\1_\\2\", name).lower()\n",
    "\n"
   ]
  },
  {
   "cell_type": "code",
   "execution_count": null,
   "metadata": {},
   "outputs": [],
   "source": [
    "\n",
    "def to_snake_case(name: str) -> str:\n",
    "    \"\"\"\n",
    "    Examples\n",
    "    ---------------\n",
    "    >>> to_snake_case('CamelCaseName')\n",
    "    'camel_case_name'\n",
    "    >>> to_snake_case('camelCaseName')\n",
    "    'camel_case_name'\n",
    "    >>> to_snake_case('camel2_camel2_case')\n",
    "    'camel2_camel2_case'\n",
    "    >>> to_snake_case('45rcamel2_camel2_case')\n",
    "    '45rcamel2_camel2_case'\n",
    "    >>> to_snake_case('getHTTPResponseCode')\n",
    "    'get_http_response_code'\n",
    "    >>> to_snake_case('_CamelCaseName')\n",
    "    '_camel_case_name'\n",
    "    >>> to_snake_case('_Camel_CaseName')\n",
    "    '_camel_case_name'\n",
    "    >>> to_snake_case('__CamelCaseName')\n",
    "    '__camel_case_name'\n",
    "    \"\"\"\n",
    "    name = re.sub(\"(.)([A-Z][a-z]+)\", r\"\\1_\\2\", name)\n",
    "    name = re.sub(\"__([A-Z])\", r\"_\\1\", name)\n",
    "    name = re.sub(\"([a-z0-9])([A-Z])\", r\"\\1_\\2\", name)\n",
    "    return name.lower()\n"
   ]
  },
  {
   "cell_type": "code",
   "execution_count": null,
   "metadata": {},
   "outputs": [],
   "source": [
    "\n",
    "\n",
    "def snake_to_camel(name: str) -> str:\n",
    "    \"\"\"\n",
    "    Examples\n",
    "    -----------\n",
    "    >>> snake_to_camel('snake_case_name')\n",
    "    'SnakeCaseName'\n",
    "    >>> snake_to_camel('_snake_case_name')\n",
    "    'SnakeCaseName'\n",
    "    >>> snake_to_camel('__snake_case_name')\n",
    "    'SnakeCaseName'\n",
    "    \"\"\"\n",
    "    return \"\".join(word.title() for word in name.split(\"_\"))\n",
    "\n"
   ]
  }
 ],
 "metadata": {
  "language_info": {
   "name": "python"
  }
 },
 "nbformat": 4,
 "nbformat_minor": 2
}
