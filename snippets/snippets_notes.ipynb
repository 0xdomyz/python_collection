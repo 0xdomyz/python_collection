{
 "cells": [
  {
   "cell_type": "code",
   "execution_count": 1,
   "id": "3691f2d0",
   "metadata": {},
   "outputs": [],
   "source": [
    "import os\n",
    "from pathlib import Path\n",
    "\n",
    "path = Path(\".\")"
   ]
  },
  {
   "cell_type": "code",
   "execution_count": 2,
   "id": "8e62fa6f",
   "metadata": {},
   "outputs": [],
   "source": [
    "def reformat(func_str: str) -> str:\n",
    "    res = []\n",
    "    for line in func_str.strip().splitlines():\n",
    "        line = line.replace('\"', '\\\\\"')\n",
    "        n_spaces_at_start = len(line) - len(line.lstrip())\n",
    "        res.append(f'\"{\" \" * n_spaces_at_start}{line.strip()}\",')\n",
    "\n",
    "    return \"\\n\".join(res)"
   ]
  },
  {
   "cell_type": "code",
   "execution_count": 4,
   "id": "40f30c48",
   "metadata": {},
   "outputs": [
    {
     "name": "stdout",
     "output_type": "stream",
     "text": [
      "\".groupby([''], dropna=False)\",\n",
      "\".apply(\",\n",
      "\"    lambda x:pd.Series(np.repeat(x.sort_values('').head(1)[''].values),\",\n",
      "\"        index=x.sort_values('').index\",\n",
      "\"    ), include_groups=False\",\n",
      "\")\",\n",
      "\".reset_index(level=0, drop=True)\",\n"
     ]
    }
   ],
   "source": [
    "func_str = \"\"\"\n",
    ".groupby([''], dropna=False)\n",
    ".apply(\n",
    "    lambda x:pd.Series(np.repeat(x.sort_values('').head(1)[''].values),\n",
    "        index=x.sort_values('').index\n",
    "    ), include_groups=False\n",
    ")\n",
    ".reset_index(level=0, drop=True)\n",
    "\"\"\"\n",
    "\n",
    "print(reformat(func_str))"
   ]
  }
 ],
 "metadata": {
  "kernelspec": {
   "display_name": "Python 3",
   "language": "python",
   "name": "python3"
  },
  "language_info": {
   "codemirror_mode": {
    "name": "ipython",
    "version": 3
   },
   "file_extension": ".py",
   "mimetype": "text/x-python",
   "name": "python",
   "nbconvert_exporter": "python",
   "pygments_lexer": "ipython3",
   "version": "3.13.2"
  }
 },
 "nbformat": 4,
 "nbformat_minor": 5
}
