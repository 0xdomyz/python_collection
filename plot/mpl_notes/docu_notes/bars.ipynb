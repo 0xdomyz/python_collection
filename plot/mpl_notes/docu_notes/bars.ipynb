{
 "cells": [
  {
   "cell_type": "code",
   "execution_count": null,
   "metadata": {},
   "outputs": [],
   "source": [
    "import matplotlib.pyplot as plt\n",
    "import numpy as np\n",
    "import pandas as pd\n",
    "\n",
    "# set seed\n",
    "np.random.seed(123)"
   ]
  },
  {
   "cell_type": "code",
   "execution_count": null,
   "metadata": {},
   "outputs": [],
   "source": [
    "# example data, has string characters as index and float as cols\n",
    "df = pd.DataFrame(np.abs(np.random.randn(5, 5)) * 1000, columns=list(\"FGHIJ\"))\n",
    "df.set_index(pd.Series([\"A\", \"B\", \"C\", \"D\", \"E\"]), inplace=True)\n",
    "index_name = \"summary\"\n",
    "df.index.name = index_name\n",
    "\n",
    "df"
   ]
  },
  {
   "cell_type": "code",
   "execution_count": null,
   "metadata": {},
   "outputs": [],
   "source": [
    "# example data, of time series data\n",
    "df2 = pd.DataFrame(\n",
    "    {\n",
    "        \"A\": [1, 2, 3, 4, 5],\n",
    "        \"B\": [2, 3, 4, 5, 6],\n",
    "        \"C\": [3, 4, 5, 6, 7],\n",
    "    }\n",
    ")\n",
    "df2.set_index(pd.date_range(\"2022-01-01\", periods=5), inplace=True)\n",
    "df2"
   ]
  },
  {
   "cell_type": "code",
   "execution_count": null,
   "metadata": {},
   "outputs": [],
   "source": [
    "# last row as a series\n",
    "bar_series = df2.iloc[-1]"
   ]
  },
  {
   "cell_type": "code",
   "execution_count": null,
   "metadata": {},
   "outputs": [],
   "source": [
    "# bar chart of a column\n",
    "# ############################\n",
    "# plot df's F column as bar chart, via matplotlib\n",
    "plt.bar(df.index, df[\"F\"])\n",
    "plt.show()"
   ]
  },
  {
   "cell_type": "code",
   "execution_count": null,
   "metadata": {},
   "outputs": [],
   "source": [
    "# bar chart of a series\n",
    "plt.bar(bar_series.index, bar_series)\n",
    "plt.show()"
   ]
  },
  {
   "cell_type": "code",
   "execution_count": null,
   "metadata": {},
   "outputs": [],
   "source": [
    "# staked bar chart\n",
    "# ############################\n",
    "# plot df's F,G columns as bar chart, via matplotlib\n",
    "plt.bar(df.index, df[\"F\"], label=\"F\")\n",
    "plt.bar(df.index, df[\"G\"], label=\"G\", bottom=df[\"F\"])\n",
    "plt.bar(df.index, df[\"H\"], label=\"H\", bottom=df[\"F\"] + df[\"G\"])\n",
    "plt.legend()\n",
    "plt.show()"
   ]
  },
  {
   "cell_type": "code",
   "execution_count": null,
   "metadata": {},
   "outputs": [],
   "source": [
    "# bar chart from a dictionary of 5 numbers\n",
    "# ############################\n",
    "dic = {\"A\": 1, \"B\": 2, \"C\": 3, \"D\": 4, \"E\": 5}\n",
    "plt.bar(dic.keys(), dic.values())\n",
    "plt.show()"
   ]
  },
  {
   "cell_type": "code",
   "execution_count": null,
   "metadata": {},
   "outputs": [],
   "source": [
    "# bar chart from a dictionary of 5 numbers, with a list of colors\n",
    "# ############################\n",
    "dic = {\"A\": 1, \"B\": 2, \"C\": 3, \"D\": 4, \"E\": 5}\n",
    "plt.bar(dic.keys(), dic.values(), color=[\"red\", \"green\", \"blue\", \"yellow\", \"orange\"])\n",
    "plt.show()"
   ]
  },
  {
   "cell_type": "code",
   "execution_count": null,
   "metadata": {},
   "outputs": [],
   "source": [
    "# stacked bar chart from a dictionary of 5 numbers\n",
    "# ############################\n",
    "dic = {\"A\": 1, \"B\": 2, \"C\": 3, \"D\": 4, \"E\": 5}\n",
    "dic2 = {\"A\": 1, \"B\": 2, \"C\": 3, \"D\": 4, \"E\": 5}"
   ]
  },
  {
   "cell_type": "code",
   "execution_count": null,
   "metadata": {},
   "outputs": [],
   "source": [
    "# convert to df of 2 cols\n",
    "index = list(dic.keys())\n",
    "col1 = list(dic.values())\n",
    "col2 = list(dic2.values())\n",
    "df = pd.DataFrame({\"col1\": col1, \"col2\": col2}, index=index)\n",
    "df"
   ]
  },
  {
   "cell_type": "code",
   "execution_count": null,
   "metadata": {},
   "outputs": [],
   "source": [
    "# plot\n",
    "plt.bar(df.index, df[\"col1\"], label=\"col1\")\n",
    "plt.bar(df.index, df[\"col2\"], label=\"col2\", bottom=df[\"col1\"])\n",
    "plt.legend()\n",
    "plt.show()"
   ]
  },
  {
   "cell_type": "markdown",
   "metadata": {},
   "source": [
    "### via pd"
   ]
  },
  {
   "cell_type": "code",
   "execution_count": null,
   "metadata": {},
   "outputs": [],
   "source": [
    "# example data, has string characters as index and float as cols\n",
    "df = pd.DataFrame(np.abs(np.random.randn(5, 5)) * 1000, columns=list(\"FGHIJ\"))\n",
    "df.set_index(pd.Series([\"A\", \"B\", \"C\", \"D\", \"E\"]), inplace=True)\n",
    "index_name = \"summary\"\n",
    "df.index.name = index_name\n",
    "\n",
    "df"
   ]
  },
  {
   "cell_type": "code",
   "execution_count": null,
   "metadata": {},
   "outputs": [],
   "source": [
    "# dodged bar plot\n",
    "##############################\n",
    "fig, ax = plt.subplots()\n",
    "df.plot(kind=\"bar\", ax=ax)\n",
    "ax.set_title(\"Bar plot\")\n",
    "ax.set_xlabel(\"X label\")\n",
    "ax.set_ylabel(\"Y label\")\n",
    "ax.legend(loc=\"upper left\")\n",
    "plt.show()"
   ]
  },
  {
   "cell_type": "code",
   "execution_count": null,
   "metadata": {},
   "outputs": [],
   "source": [
    "# stacked bar plot\n",
    "##############################\n",
    "fig, ax = plt.subplots()\n",
    "df.plot(kind=\"bar\", stacked=True, ax=ax)\n",
    "ax.set_title(\"Stacked bar plot\")\n",
    "ax.set_xlabel(\"X label\")\n",
    "ax.set_ylabel(\"Y label\")\n",
    "ax.legend(loc=\"upper left\")\n",
    "plt.show()"
   ]
  },
  {
   "cell_type": "code",
   "execution_count": null,
   "metadata": {},
   "outputs": [],
   "source": [
    "# horizontal bar plot\n",
    "##############################\n",
    "fig, ax = plt.subplots()\n",
    "df.plot(kind=\"barh\", ax=ax)\n",
    "ax.set_title(\"Horizontal bar plot\")\n",
    "ax.set_xlabel(\"X label\")\n",
    "ax.set_ylabel(\"Y label\")\n",
    "ax.legend(loc=\"upper left\")\n",
    "plt.show()"
   ]
  },
  {
   "cell_type": "code",
   "execution_count": null,
   "metadata": {},
   "outputs": [],
   "source": [
    "# legend position\n",
    "##############################\n",
    "fig, ax = plt.subplots()\n",
    "df.plot(kind=\"barh\", ax=ax)\n",
    "ax.set_title(\"Horizontal bar plot\")\n",
    "ax.set_xlabel(\"X label\")\n",
    "ax.set_ylabel(\"Y label\")\n",
    "# legend outside of plot area\n",
    "ax.legend(loc=\"upper center\", bbox_to_anchor=(0.5, -0.1))\n",
    "plt.tight_layout()\n",
    "plt.show()"
   ]
  },
  {
   "cell_type": "code",
   "execution_count": null,
   "metadata": {},
   "outputs": [],
   "source": [
    "# legend position\n",
    "##############################\n",
    "plt.gcf().clear()  # clear current figure\n",
    "x = np.arange(-2 * np.pi, 2 * np.pi, 0.1)\n",
    "fig = plt.figure(1)\n",
    "ax = fig.add_subplot(111)\n",
    "ax.plot(x, np.sin(x), label=\"Sine\")\n",
    "ax.plot(x, np.cos(x), label=\"Cosine\")\n",
    "ax.plot(x, np.arctan(x), label=\"Inverse tan\")\n",
    "handles, labels = ax.get_legend_handles_labels()\n",
    "ax.legend(handles, labels, loc=\"upper center\", bbox_to_anchor=(0.5, -0.1))\n",
    "ax.text(-0.2, 1.05, \"Aribitrary text\", transform=ax.transAxes)\n",
    "ax.set_title(\"Trigonometry\")\n",
    "ax.grid(\"on\")\n",
    "plt.tight_layout()\n",
    "plt.show()"
   ]
  }
 ],
 "metadata": {
  "kernelspec": {
   "display_name": "Python 3",
   "language": "python",
   "name": "python3"
  },
  "language_info": {
   "codemirror_mode": {
    "name": "ipython",
    "version": 3
   },
   "file_extension": ".py",
   "mimetype": "text/x-python",
   "name": "python",
   "nbconvert_exporter": "python",
   "pygments_lexer": "ipython3",
   "version": "3.12.1"
  }
 },
 "nbformat": 4,
 "nbformat_minor": 2
}
