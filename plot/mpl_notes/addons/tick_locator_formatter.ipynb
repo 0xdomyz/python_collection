{
 "cells": [
  {
   "cell_type": "code",
   "execution_count": null,
   "id": "5664736b",
   "metadata": {},
   "outputs": [],
   "source": [
    "import numpy as np\n",
    "import pandas as pd\n",
    "import matplotlib.pyplot as plt\n",
    "import matplotlib as mpl"
   ]
  },
  {
   "cell_type": "markdown",
   "id": "61c1561f",
   "metadata": {},
   "source": [
    "### example"
   ]
  },
  {
   "cell_type": "code",
   "execution_count": null,
   "id": "4c25bb7e",
   "metadata": {},
   "outputs": [],
   "source": []
  },
  {
   "cell_type": "code",
   "execution_count": null,
   "id": "6b02af1b",
   "metadata": {},
   "outputs": [],
   "source": [
    "fig, ax = plt.subplots(1, 1, figsize=(12, 6))"
   ]
  },
  {
   "cell_type": "markdown",
   "id": "a677a7dd",
   "metadata": {},
   "source": [
    "### locator, formatter"
   ]
  },
  {
   "cell_type": "code",
   "execution_count": null,
   "id": "bd4a976e",
   "metadata": {},
   "outputs": [],
   "source": [
    "ax.yaxis.set_major_locator(mpl.ticker.MaxNLocator(nbins=5))\n",
    "ax.yaxis.set_major_formatter(mpl.ticker.PercentFormatter(1.0, decimals=0))"
   ]
  },
  {
   "cell_type": "code",
   "execution_count": null,
   "id": "787e1b7f",
   "metadata": {},
   "outputs": [],
   "source": [
    "# axis formatting\n",
    "ax.set_xlabel(\"Date\")\n",
    "ax.xaxis.set_major_locator(mpl.dates.YearLocator())\n",
    "ax.xaxis.set_major_formatter(mpl.dates.DateFormatter(\"%Y-%m-%d\"))\n",
    "ax.xaxis.set_minor_locator(mpl.ticker.AutoMinorLocator(2))\n",
    "ax.tick_params(\"x\", rotation=45)\n",
    "\n",
    "ax.set_ylabel(\"Counts\")\n",
    "ax.yaxis.set_major_locator(mpl.ticker.MultipleLocator(100))\n",
    "ax.yaxis.set_minor_locator(mpl.ticker.AutoMinorLocator(2))\n",
    "\n",
    "fig"
   ]
  },
  {
   "cell_type": "code",
   "execution_count": null,
   "id": "1440df25",
   "metadata": {},
   "outputs": [],
   "source": []
  }
 ],
 "metadata": {
  "language_info": {
   "name": "python"
  }
 },
 "nbformat": 4,
 "nbformat_minor": 5
}
