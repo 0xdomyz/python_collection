{
 "cells": [
  {
   "cell_type": "code",
   "execution_count": 1,
   "id": "59e6785c",
   "metadata": {},
   "outputs": [],
   "source": [
    "import numpy as np\n",
    "import pandas as pd\n",
    "import matplotlib.pyplot as plt\n",
    "import matplotlib as mpl"
   ]
  },
  {
   "cell_type": "markdown",
   "id": "a00dca2e",
   "metadata": {},
   "source": [
    "### set up data"
   ]
  },
  {
   "cell_type": "code",
   "execution_count": 2,
   "id": "1f26b3f4",
   "metadata": {},
   "outputs": [
    {
     "name": "stdout",
     "output_type": "stream",
     "text": [
      "   survived  pclass     sex   age  sibsp  parch     fare embarked  class    who  adult_male deck  embark_town alive  alone\n",
      "0         0       3    male  22.0      1      0   7.2500        S  Third    man        True  NaN  Southampton    no  False\n",
      "1         1       1  female  38.0      1      0  71.2833        C  First  woman       False    C    Cherbourg   yes  False\n",
      "2         1       3  female  26.0      0      0   7.9250        S  Third  woman       False  NaN  Southampton   yes   True\n",
      "3         1       1  female  35.0      1      0  53.1000        S  First  woman       False    C  Southampton   yes  False\n",
      "4         0       3    male  35.0      0      0   8.0500        S  Third    man        True  NaN  Southampton    no   True\n"
     ]
    }
   ],
   "source": [
    "df = pd.read_csv(\"data/titanic.csv\")\n",
    "df.shape\n",
    "print(df.head().to_string())"
   ]
  },
  {
   "cell_type": "code",
   "execution_count": 3,
   "id": "92e41ee0",
   "metadata": {},
   "outputs": [
    {
     "name": "stdout",
     "output_type": "stream",
     "text": [
      "         age_bin   n  survival_rate  survival_rate_man  survival_rate_woman  survival_rate_child\n",
      "0  (0.419, 14.0]  77       0.584416                NaN                  NaN             0.584416\n",
      "1   (14.0, 19.0]  87       0.390805           0.102041             0.781250             0.666667\n",
      "2   (19.0, 22.0]  67       0.283582           0.108696             0.666667                  NaN\n",
      "3   (22.0, 25.0]  70       0.371429           0.136364             0.769231                  NaN\n",
      "4   (25.0, 28.0]  61       0.393443           0.255814             0.722222                  NaN\n"
     ]
    }
   ],
   "source": [
    "df[\"age_bin\"] = pd.qcut(df[\"age\"], q=10)\n",
    "\n",
    "grp_dict = {\n",
    "    \"n\": (\"age_bin\", \"size\"),\n",
    "    \"survival_rate\": (\"survived\", \"mean\"),\n",
    "}\n",
    "for who in df[\"who\"].unique():\n",
    "    grp_dict[f\"survival_rate_{who}\"] = (\n",
    "        \"survived\",\n",
    "        lambda x, w=who: df.loc[x.index]\n",
    "        .loc[lambda y: y[\"who\"] == w, \"survived\"]\n",
    "        .mean(),\n",
    "    )\n",
    "\n",
    "pdf = df.groupby(\"age_bin\", observed=False, as_index=False).agg(**grp_dict)\n",
    "print(pdf.head().to_string())"
   ]
  },
  {
   "cell_type": "markdown",
   "id": "f5dc12ee",
   "metadata": {},
   "source": [
    "### content"
   ]
  },
  {
   "cell_type": "code",
   "execution_count": null,
   "id": "8fcd6330",
   "metadata": {},
   "outputs": [],
   "source": [
    "# annotations\n",
    "for i, row in ts_g.iterrows():\n",
    "    ax.annotate(\n",
    "        f\"{row['max_n_date'].strftime('%Y-%m-%d')}\",\n",
    "        xy=(row[\"max_n_date\"], row[\"max_n\"]),\n",
    "        xytext=(row[\"max_n_date\"], row[\"max_n\"] + 50),\n",
    "        arrowprops=dict(arrowstyle=\"->\", color=\"blue\"),\n",
    "        fontsize=9,\n",
    "        color=\"blue\",\n",
    "    )\n",
    "    ax.annotate(\n",
    "        f\"{row['min_n_date'].strftime('%Y-%m-%d')}\",\n",
    "        xy=(row[\"min_n_date\"], row[\"min_n\"]),\n",
    "        xytext=(row[\"min_n_date\"], row[\"min_n\"] - 50),\n",
    "        arrowprops=dict(arrowstyle=\"->\", color=\"orange\"),\n",
    "        fontsize=9,\n",
    "        color=\"orange\",\n",
    "    )\n",
    "fig"
   ]
  },
  {
   "cell_type": "code",
   "execution_count": null,
   "id": "3194040f",
   "metadata": {},
   "outputs": [],
   "source": []
  },
  {
   "cell_type": "code",
   "execution_count": null,
   "id": "e490090b",
   "metadata": {},
   "outputs": [],
   "source": []
  }
 ],
 "metadata": {
  "kernelspec": {
   "display_name": "Python 3",
   "language": "python",
   "name": "python3"
  },
  "language_info": {
   "codemirror_mode": {
    "name": "ipython",
    "version": 3
   },
   "file_extension": ".py",
   "mimetype": "text/x-python",
   "name": "python",
   "nbconvert_exporter": "python",
   "pygments_lexer": "ipython3",
   "version": "3.13.2"
  }
 },
 "nbformat": 4,
 "nbformat_minor": 5
}
