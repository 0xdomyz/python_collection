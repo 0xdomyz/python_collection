{
 "cells": [
  {
   "cell_type": "code",
   "execution_count": 1,
   "id": "2301f4ca",
   "metadata": {},
   "outputs": [],
   "source": [
    "import matplotlib.pyplot as plt\n",
    "import matplotlib as mpl\n",
    "import numpy as np\n",
    "import pandas as pd\n",
    "import statsmodels.api as sm\n",
    "from scipy import stats"
   ]
  },
  {
   "cell_type": "markdown",
   "id": "8cc44cd5",
   "metadata": {},
   "source": [
    "### func"
   ]
  },
  {
   "cell_type": "code",
   "execution_count": 81,
   "id": "46bdca95",
   "metadata": {},
   "outputs": [],
   "source": [
    "def plot_transition_matrix(transition_matrix_df: pd.DataFrame, title, display_transition_rates=True, text_formatter=lambda x: f\"{x:.0f}\", ax=None):\n",
    "\n",
    "    pdf = transition_matrix_df.copy()\n",
    "    pdf_color = pdf.div(pdf.sum(axis=1), axis=0)\n",
    "\n",
    "    if ax is None:\n",
    "        fig, ax = plt.subplots()# figsize = (6, 5)\n",
    "    else:\n",
    "        fig = ax.figure\n",
    "\n",
    "    yticks, yticklabels, ylabel = range(len(pdf.index)), pdf.index, pdf.index.name\n",
    "    xticks, xticklabels, xlabel = range(len(pdf.columns)), pdf.columns, pdf.columns.name\n",
    "\n",
    "    cax = ax.imshow(pdf_color.values, cmap=\"Blues\")\n",
    "    color_threshold = pdf_color.values.max() / 2\n",
    "\n",
    "    for i in yticks:\n",
    "        for j in xticks:\n",
    "            color_value = pdf_color.values[i, j]\n",
    "            text_color = \"white\" if color_value > color_threshold else \"black\"\n",
    "\n",
    "            va = \"bottom\" if display_transition_rates else \"center\"\n",
    "            ax.text(j, i, text_formatter(pdf.iloc[i, j]), ha=\"center\", va=va, color=text_color)\n",
    "\n",
    "            if display_transition_rates:\n",
    "                ax.text(j, i, f\"({color_value:.2%})\", ha=\"center\", va=\"top\", color=text_color)\n",
    "\n",
    "    ax.set_yticks(yticks)\n",
    "    ax.set_yticklabels(yticklabels)\n",
    "    ax.set_ylabel(ylabel)\n",
    "    ax.set_xticks(xticks)\n",
    "    ax.set_xticklabels(xticklabels)\n",
    "    ax.set_xlabel(xlabel)\n",
    "\n",
    "    ax.set_title(title)\n",
    "    # from matplotlib import ticker as mticker\n",
    "    # fig.colorbar(cax, label=\"Transition Rate\", format=mticker.FuncFormatter(lambda x, _: f\"{x*100:.0f}%\"))\n",
    "\n",
    "    return fig, ax\n"
   ]
  },
  {
   "cell_type": "markdown",
   "id": "d78767c4",
   "metadata": {},
   "source": [
    "### data"
   ]
  },
  {
   "cell_type": "code",
   "execution_count": 2,
   "id": "c28cf7a0",
   "metadata": {},
   "outputs": [
    {
     "name": "stdout",
     "output_type": "stream",
     "text": [
      "df.shape = (6433, 14)\n"
     ]
    },
    {
     "data": {
      "application/vnd.microsoft.datawrangler.viewer.v0+json": {
       "columns": [
        {
         "name": "index",
         "rawType": "int64",
         "type": "integer"
        },
        {
         "name": "pickup",
         "rawType": "object",
         "type": "string"
        },
        {
         "name": "dropoff",
         "rawType": "object",
         "type": "string"
        },
        {
         "name": "passengers",
         "rawType": "int64",
         "type": "integer"
        },
        {
         "name": "distance",
         "rawType": "float64",
         "type": "float"
        },
        {
         "name": "fare",
         "rawType": "float64",
         "type": "float"
        },
        {
         "name": "tip",
         "rawType": "float64",
         "type": "float"
        },
        {
         "name": "tolls",
         "rawType": "float64",
         "type": "float"
        },
        {
         "name": "total",
         "rawType": "float64",
         "type": "float"
        },
        {
         "name": "color",
         "rawType": "object",
         "type": "string"
        },
        {
         "name": "payment",
         "rawType": "object",
         "type": "string"
        },
        {
         "name": "pickup_zone",
         "rawType": "object",
         "type": "string"
        },
        {
         "name": "dropoff_zone",
         "rawType": "object",
         "type": "string"
        },
        {
         "name": "pickup_borough",
         "rawType": "object",
         "type": "string"
        },
        {
         "name": "dropoff_borough",
         "rawType": "object",
         "type": "string"
        }
       ],
       "ref": "ae8a5589-9889-4164-bf22-0767ad8b992d",
       "rows": [
        [
         "0",
         "2019-03-23 20:21:09",
         "2019-03-23 20:27:24",
         "1",
         "1.6",
         "7.0",
         "2.15",
         "0.0",
         "12.95",
         "yellow",
         "credit card",
         "Lenox Hill West",
         "UN/Turtle Bay South",
         "Manhattan",
         "Manhattan"
        ],
        [
         "1",
         "2019-03-04 16:11:55",
         "2019-03-04 16:19:00",
         "1",
         "0.79",
         "5.0",
         "0.0",
         "0.0",
         "9.3",
         "yellow",
         "cash",
         "Upper West Side South",
         "Upper West Side South",
         "Manhattan",
         "Manhattan"
        ],
        [
         "2",
         "2019-03-27 17:53:01",
         "2019-03-27 18:00:25",
         "1",
         "1.37",
         "7.5",
         "2.36",
         "0.0",
         "14.16",
         "yellow",
         "credit card",
         "Alphabet City",
         "West Village",
         "Manhattan",
         "Manhattan"
        ],
        [
         "3",
         "2019-03-10 01:23:59",
         "2019-03-10 01:49:51",
         "1",
         "7.7",
         "27.0",
         "6.15",
         "0.0",
         "36.95",
         "yellow",
         "credit card",
         "Hudson Sq",
         "Yorkville West",
         "Manhattan",
         "Manhattan"
        ],
        [
         "4",
         "2019-03-30 13:27:42",
         "2019-03-30 13:37:14",
         "3",
         "2.16",
         "9.0",
         "1.1",
         "0.0",
         "13.4",
         "yellow",
         "credit card",
         "Midtown East",
         "Yorkville West",
         "Manhattan",
         "Manhattan"
        ]
       ],
       "shape": {
        "columns": 14,
        "rows": 5
       }
      },
      "text/html": [
       "<div>\n",
       "<style scoped>\n",
       "    .dataframe tbody tr th:only-of-type {\n",
       "        vertical-align: middle;\n",
       "    }\n",
       "\n",
       "    .dataframe tbody tr th {\n",
       "        vertical-align: top;\n",
       "    }\n",
       "\n",
       "    .dataframe thead th {\n",
       "        text-align: right;\n",
       "    }\n",
       "</style>\n",
       "<table border=\"1\" class=\"dataframe\">\n",
       "  <thead>\n",
       "    <tr style=\"text-align: right;\">\n",
       "      <th></th>\n",
       "      <th>pickup</th>\n",
       "      <th>dropoff</th>\n",
       "      <th>passengers</th>\n",
       "      <th>distance</th>\n",
       "      <th>fare</th>\n",
       "      <th>tip</th>\n",
       "      <th>tolls</th>\n",
       "      <th>total</th>\n",
       "      <th>color</th>\n",
       "      <th>payment</th>\n",
       "      <th>pickup_zone</th>\n",
       "      <th>dropoff_zone</th>\n",
       "      <th>pickup_borough</th>\n",
       "      <th>dropoff_borough</th>\n",
       "    </tr>\n",
       "  </thead>\n",
       "  <tbody>\n",
       "    <tr>\n",
       "      <th>0</th>\n",
       "      <td>2019-03-23 20:21:09</td>\n",
       "      <td>2019-03-23 20:27:24</td>\n",
       "      <td>1</td>\n",
       "      <td>1.60</td>\n",
       "      <td>7.0</td>\n",
       "      <td>2.15</td>\n",
       "      <td>0.0</td>\n",
       "      <td>12.95</td>\n",
       "      <td>yellow</td>\n",
       "      <td>credit card</td>\n",
       "      <td>Lenox Hill West</td>\n",
       "      <td>UN/Turtle Bay South</td>\n",
       "      <td>Manhattan</td>\n",
       "      <td>Manhattan</td>\n",
       "    </tr>\n",
       "    <tr>\n",
       "      <th>1</th>\n",
       "      <td>2019-03-04 16:11:55</td>\n",
       "      <td>2019-03-04 16:19:00</td>\n",
       "      <td>1</td>\n",
       "      <td>0.79</td>\n",
       "      <td>5.0</td>\n",
       "      <td>0.00</td>\n",
       "      <td>0.0</td>\n",
       "      <td>9.30</td>\n",
       "      <td>yellow</td>\n",
       "      <td>cash</td>\n",
       "      <td>Upper West Side South</td>\n",
       "      <td>Upper West Side South</td>\n",
       "      <td>Manhattan</td>\n",
       "      <td>Manhattan</td>\n",
       "    </tr>\n",
       "    <tr>\n",
       "      <th>2</th>\n",
       "      <td>2019-03-27 17:53:01</td>\n",
       "      <td>2019-03-27 18:00:25</td>\n",
       "      <td>1</td>\n",
       "      <td>1.37</td>\n",
       "      <td>7.5</td>\n",
       "      <td>2.36</td>\n",
       "      <td>0.0</td>\n",
       "      <td>14.16</td>\n",
       "      <td>yellow</td>\n",
       "      <td>credit card</td>\n",
       "      <td>Alphabet City</td>\n",
       "      <td>West Village</td>\n",
       "      <td>Manhattan</td>\n",
       "      <td>Manhattan</td>\n",
       "    </tr>\n",
       "    <tr>\n",
       "      <th>3</th>\n",
       "      <td>2019-03-10 01:23:59</td>\n",
       "      <td>2019-03-10 01:49:51</td>\n",
       "      <td>1</td>\n",
       "      <td>7.70</td>\n",
       "      <td>27.0</td>\n",
       "      <td>6.15</td>\n",
       "      <td>0.0</td>\n",
       "      <td>36.95</td>\n",
       "      <td>yellow</td>\n",
       "      <td>credit card</td>\n",
       "      <td>Hudson Sq</td>\n",
       "      <td>Yorkville West</td>\n",
       "      <td>Manhattan</td>\n",
       "      <td>Manhattan</td>\n",
       "    </tr>\n",
       "    <tr>\n",
       "      <th>4</th>\n",
       "      <td>2019-03-30 13:27:42</td>\n",
       "      <td>2019-03-30 13:37:14</td>\n",
       "      <td>3</td>\n",
       "      <td>2.16</td>\n",
       "      <td>9.0</td>\n",
       "      <td>1.10</td>\n",
       "      <td>0.0</td>\n",
       "      <td>13.40</td>\n",
       "      <td>yellow</td>\n",
       "      <td>credit card</td>\n",
       "      <td>Midtown East</td>\n",
       "      <td>Yorkville West</td>\n",
       "      <td>Manhattan</td>\n",
       "      <td>Manhattan</td>\n",
       "    </tr>\n",
       "  </tbody>\n",
       "</table>\n",
       "</div>"
      ],
      "text/plain": [
       "                pickup              dropoff  passengers  distance  fare   tip  \\\n",
       "0  2019-03-23 20:21:09  2019-03-23 20:27:24           1      1.60   7.0  2.15   \n",
       "1  2019-03-04 16:11:55  2019-03-04 16:19:00           1      0.79   5.0  0.00   \n",
       "2  2019-03-27 17:53:01  2019-03-27 18:00:25           1      1.37   7.5  2.36   \n",
       "3  2019-03-10 01:23:59  2019-03-10 01:49:51           1      7.70  27.0  6.15   \n",
       "4  2019-03-30 13:27:42  2019-03-30 13:37:14           3      2.16   9.0  1.10   \n",
       "\n",
       "   tolls  total   color      payment            pickup_zone  \\\n",
       "0    0.0  12.95  yellow  credit card        Lenox Hill West   \n",
       "1    0.0   9.30  yellow         cash  Upper West Side South   \n",
       "2    0.0  14.16  yellow  credit card          Alphabet City   \n",
       "3    0.0  36.95  yellow  credit card              Hudson Sq   \n",
       "4    0.0  13.40  yellow  credit card           Midtown East   \n",
       "\n",
       "            dropoff_zone pickup_borough dropoff_borough  \n",
       "0    UN/Turtle Bay South      Manhattan       Manhattan  \n",
       "1  Upper West Side South      Manhattan       Manhattan  \n",
       "2           West Village      Manhattan       Manhattan  \n",
       "3         Yorkville West      Manhattan       Manhattan  \n",
       "4         Yorkville West      Manhattan       Manhattan  "
      ]
     },
     "execution_count": 2,
     "metadata": {},
     "output_type": "execute_result"
    }
   ],
   "source": [
    "df = pd.read_csv(\"taxis.csv\")\n",
    "print(f\"{df.shape = }\")\n",
    "df.head()"
   ]
  },
  {
   "cell_type": "code",
   "execution_count": 17,
   "id": "6f1cc36b",
   "metadata": {},
   "outputs": [
    {
     "data": {
      "application/vnd.microsoft.datawrangler.viewer.v0+json": {
       "columns": [
        {
         "name": "index",
         "rawType": "int64",
         "type": "integer"
        },
        {
         "name": "pickup_borough",
         "rawType": "object",
         "type": "string"
        },
        {
         "name": "pickup_borough_code",
         "rawType": "int8",
         "type": "integer"
        },
        {
         "name": "dropoff_borough",
         "rawType": "object",
         "type": "string"
        },
        {
         "name": "dropoff_borough_code",
         "rawType": "int8",
         "type": "integer"
        },
        {
         "name": "count",
         "rawType": "int64",
         "type": "integer"
        }
       ],
       "ref": "d614d561-2e88-40a7-9c81-73a005c48fbb",
       "rows": [
        [
         "0",
         "Manhattan",
         "2",
         "Manhattan",
         "2",
         "4885"
        ],
        [
         "1",
         "Queens",
         "3",
         "Queens",
         "3",
         "349"
        ],
        [
         "2",
         "Brooklyn",
         "1",
         "Brooklyn",
         "1",
         "282"
        ],
        [
         "3",
         "Queens",
         "3",
         "Manhattan",
         "2",
         "224"
        ],
        [
         "4",
         "Manhattan",
         "2",
         "Queens",
         "3",
         "163"
        ],
        [
         "5",
         "Manhattan",
         "2",
         "Brooklyn",
         "1",
         "153"
        ],
        [
         "6",
         "Brooklyn",
         "1",
         "Manhattan",
         "2",
         "67"
        ],
        [
         "7",
         "Bronx",
         "0",
         "Bronx",
         "0",
         "66"
        ],
        [
         "8",
         "Queens",
         "3",
         "Brooklyn",
         "1",
         "62"
        ],
        [
         "9",
         "Manhattan",
         "2",
         "Bronx",
         "0",
         "55"
        ],
        [
         "10",
         "Brooklyn",
         "1",
         "Queens",
         "3",
         "26"
        ],
        [
         "11",
         "Bronx",
         "0",
         "Manhattan",
         "2",
         "25"
        ],
        [
         "12",
         "Queens",
         "3",
         "Bronx",
         "0",
         "11"
        ],
        [
         "13",
         "Brooklyn",
         "1",
         "Bronx",
         "0",
         "5"
        ],
        [
         "14",
         "Bronx",
         "0",
         "Queens",
         "3",
         "4"
        ],
        [
         "15",
         "Bronx",
         "0",
         "Brooklyn",
         "1",
         "4"
        ],
        [
         "16",
         "Manhattan",
         "2",
         "Staten Island",
         "4",
         "2"
        ]
       ],
       "shape": {
        "columns": 5,
        "rows": 17
       }
      },
      "text/html": [
       "<div>\n",
       "<style scoped>\n",
       "    .dataframe tbody tr th:only-of-type {\n",
       "        vertical-align: middle;\n",
       "    }\n",
       "\n",
       "    .dataframe tbody tr th {\n",
       "        vertical-align: top;\n",
       "    }\n",
       "\n",
       "    .dataframe thead th {\n",
       "        text-align: right;\n",
       "    }\n",
       "</style>\n",
       "<table border=\"1\" class=\"dataframe\">\n",
       "  <thead>\n",
       "    <tr style=\"text-align: right;\">\n",
       "      <th></th>\n",
       "      <th>pickup_borough</th>\n",
       "      <th>pickup_borough_code</th>\n",
       "      <th>dropoff_borough</th>\n",
       "      <th>dropoff_borough_code</th>\n",
       "      <th>count</th>\n",
       "    </tr>\n",
       "  </thead>\n",
       "  <tbody>\n",
       "    <tr>\n",
       "      <th>0</th>\n",
       "      <td>Manhattan</td>\n",
       "      <td>2</td>\n",
       "      <td>Manhattan</td>\n",
       "      <td>2</td>\n",
       "      <td>4885</td>\n",
       "    </tr>\n",
       "    <tr>\n",
       "      <th>1</th>\n",
       "      <td>Queens</td>\n",
       "      <td>3</td>\n",
       "      <td>Queens</td>\n",
       "      <td>3</td>\n",
       "      <td>349</td>\n",
       "    </tr>\n",
       "    <tr>\n",
       "      <th>2</th>\n",
       "      <td>Brooklyn</td>\n",
       "      <td>1</td>\n",
       "      <td>Brooklyn</td>\n",
       "      <td>1</td>\n",
       "      <td>282</td>\n",
       "    </tr>\n",
       "    <tr>\n",
       "      <th>3</th>\n",
       "      <td>Queens</td>\n",
       "      <td>3</td>\n",
       "      <td>Manhattan</td>\n",
       "      <td>2</td>\n",
       "      <td>224</td>\n",
       "    </tr>\n",
       "    <tr>\n",
       "      <th>4</th>\n",
       "      <td>Manhattan</td>\n",
       "      <td>2</td>\n",
       "      <td>Queens</td>\n",
       "      <td>3</td>\n",
       "      <td>163</td>\n",
       "    </tr>\n",
       "    <tr>\n",
       "      <th>5</th>\n",
       "      <td>Manhattan</td>\n",
       "      <td>2</td>\n",
       "      <td>Brooklyn</td>\n",
       "      <td>1</td>\n",
       "      <td>153</td>\n",
       "    </tr>\n",
       "    <tr>\n",
       "      <th>6</th>\n",
       "      <td>Brooklyn</td>\n",
       "      <td>1</td>\n",
       "      <td>Manhattan</td>\n",
       "      <td>2</td>\n",
       "      <td>67</td>\n",
       "    </tr>\n",
       "    <tr>\n",
       "      <th>7</th>\n",
       "      <td>Bronx</td>\n",
       "      <td>0</td>\n",
       "      <td>Bronx</td>\n",
       "      <td>0</td>\n",
       "      <td>66</td>\n",
       "    </tr>\n",
       "    <tr>\n",
       "      <th>8</th>\n",
       "      <td>Queens</td>\n",
       "      <td>3</td>\n",
       "      <td>Brooklyn</td>\n",
       "      <td>1</td>\n",
       "      <td>62</td>\n",
       "    </tr>\n",
       "    <tr>\n",
       "      <th>9</th>\n",
       "      <td>Manhattan</td>\n",
       "      <td>2</td>\n",
       "      <td>Bronx</td>\n",
       "      <td>0</td>\n",
       "      <td>55</td>\n",
       "    </tr>\n",
       "    <tr>\n",
       "      <th>10</th>\n",
       "      <td>Brooklyn</td>\n",
       "      <td>1</td>\n",
       "      <td>Queens</td>\n",
       "      <td>3</td>\n",
       "      <td>26</td>\n",
       "    </tr>\n",
       "    <tr>\n",
       "      <th>11</th>\n",
       "      <td>Bronx</td>\n",
       "      <td>0</td>\n",
       "      <td>Manhattan</td>\n",
       "      <td>2</td>\n",
       "      <td>25</td>\n",
       "    </tr>\n",
       "    <tr>\n",
       "      <th>12</th>\n",
       "      <td>Queens</td>\n",
       "      <td>3</td>\n",
       "      <td>Bronx</td>\n",
       "      <td>0</td>\n",
       "      <td>11</td>\n",
       "    </tr>\n",
       "    <tr>\n",
       "      <th>13</th>\n",
       "      <td>Brooklyn</td>\n",
       "      <td>1</td>\n",
       "      <td>Bronx</td>\n",
       "      <td>0</td>\n",
       "      <td>5</td>\n",
       "    </tr>\n",
       "    <tr>\n",
       "      <th>14</th>\n",
       "      <td>Bronx</td>\n",
       "      <td>0</td>\n",
       "      <td>Queens</td>\n",
       "      <td>3</td>\n",
       "      <td>4</td>\n",
       "    </tr>\n",
       "    <tr>\n",
       "      <th>15</th>\n",
       "      <td>Bronx</td>\n",
       "      <td>0</td>\n",
       "      <td>Brooklyn</td>\n",
       "      <td>1</td>\n",
       "      <td>4</td>\n",
       "    </tr>\n",
       "    <tr>\n",
       "      <th>16</th>\n",
       "      <td>Manhattan</td>\n",
       "      <td>2</td>\n",
       "      <td>Staten Island</td>\n",
       "      <td>4</td>\n",
       "      <td>2</td>\n",
       "    </tr>\n",
       "  </tbody>\n",
       "</table>\n",
       "</div>"
      ],
      "text/plain": [
       "   pickup_borough  pickup_borough_code dropoff_borough  dropoff_borough_code  \\\n",
       "0       Manhattan                    2       Manhattan                     2   \n",
       "1          Queens                    3          Queens                     3   \n",
       "2        Brooklyn                    1        Brooklyn                     1   \n",
       "3          Queens                    3       Manhattan                     2   \n",
       "4       Manhattan                    2          Queens                     3   \n",
       "5       Manhattan                    2        Brooklyn                     1   \n",
       "6        Brooklyn                    1       Manhattan                     2   \n",
       "7           Bronx                    0           Bronx                     0   \n",
       "8          Queens                    3        Brooklyn                     1   \n",
       "9       Manhattan                    2           Bronx                     0   \n",
       "10       Brooklyn                    1          Queens                     3   \n",
       "11          Bronx                    0       Manhattan                     2   \n",
       "12         Queens                    3           Bronx                     0   \n",
       "13       Brooklyn                    1           Bronx                     0   \n",
       "14          Bronx                    0          Queens                     3   \n",
       "15          Bronx                    0        Brooklyn                     1   \n",
       "16      Manhattan                    2   Staten Island                     4   \n",
       "\n",
       "    count  \n",
       "0    4885  \n",
       "1     349  \n",
       "2     282  \n",
       "3     224  \n",
       "4     163  \n",
       "5     153  \n",
       "6      67  \n",
       "7      66  \n",
       "8      62  \n",
       "9      55  \n",
       "10     26  \n",
       "11     25  \n",
       "12     11  \n",
       "13      5  \n",
       "14      4  \n",
       "15      4  \n",
       "16      2  "
      ]
     },
     "execution_count": 17,
     "metadata": {},
     "output_type": "execute_result"
    }
   ],
   "source": [
    "_ = pd.Categorical(df['pickup_borough'])\n",
    "_ = pd.Categorical(df['dropoff_borough'])\n",
    "df['pickup_borough_code'] = pd.Categorical(df['pickup_borough']).codes\n",
    "df['dropoff_borough_code'] = pd.Categorical(df['dropoff_borough']).codes\n",
    "\n",
    "df[['pickup_borough','pickup_borough_code', 'dropoff_borough','dropoff_borough_code']].value_counts().reset_index()"
   ]
  },
  {
   "cell_type": "code",
   "execution_count": 23,
   "id": "69924307",
   "metadata": {},
   "outputs": [
    {
     "data": {
      "application/vnd.microsoft.datawrangler.viewer.v0+json": {
       "columns": [
        {
         "name": "('pickup_borough', 'dropoff_borough')",
         "rawType": "object",
         "type": "unknown"
        },
        {
         "name": "n",
         "rawType": "int64",
         "type": "integer"
        }
       ],
       "ref": "9e68c2bc-9dac-4b51-95c6-0959337d71ee",
       "rows": [
        [
         "('Manhattan', 'Manhattan')",
         "4885"
        ],
        [
         "('Queens', 'Queens')",
         "349"
        ],
        [
         "('Brooklyn', 'Brooklyn')",
         "282"
        ],
        [
         "('Queens', 'Manhattan')",
         "224"
        ],
        [
         "('Manhattan', 'Queens')",
         "163"
        ]
       ],
       "shape": {
        "columns": 1,
        "rows": 5
       }
      },
      "text/html": [
       "<div>\n",
       "<style scoped>\n",
       "    .dataframe tbody tr th:only-of-type {\n",
       "        vertical-align: middle;\n",
       "    }\n",
       "\n",
       "    .dataframe tbody tr th {\n",
       "        vertical-align: top;\n",
       "    }\n",
       "\n",
       "    .dataframe thead th {\n",
       "        text-align: right;\n",
       "    }\n",
       "</style>\n",
       "<table border=\"1\" class=\"dataframe\">\n",
       "  <thead>\n",
       "    <tr style=\"text-align: right;\">\n",
       "      <th></th>\n",
       "      <th></th>\n",
       "      <th>n</th>\n",
       "    </tr>\n",
       "    <tr>\n",
       "      <th>pickup_borough</th>\n",
       "      <th>dropoff_borough</th>\n",
       "      <th></th>\n",
       "    </tr>\n",
       "  </thead>\n",
       "  <tbody>\n",
       "    <tr>\n",
       "      <th>Manhattan</th>\n",
       "      <th>Manhattan</th>\n",
       "      <td>4885</td>\n",
       "    </tr>\n",
       "    <tr>\n",
       "      <th>Queens</th>\n",
       "      <th>Queens</th>\n",
       "      <td>349</td>\n",
       "    </tr>\n",
       "    <tr>\n",
       "      <th>Brooklyn</th>\n",
       "      <th>Brooklyn</th>\n",
       "      <td>282</td>\n",
       "    </tr>\n",
       "    <tr>\n",
       "      <th>Queens</th>\n",
       "      <th>Manhattan</th>\n",
       "      <td>224</td>\n",
       "    </tr>\n",
       "    <tr>\n",
       "      <th>Manhattan</th>\n",
       "      <th>Queens</th>\n",
       "      <td>163</td>\n",
       "    </tr>\n",
       "  </tbody>\n",
       "</table>\n",
       "</div>"
      ],
      "text/plain": [
       "                                   n\n",
       "pickup_borough dropoff_borough      \n",
       "Manhattan      Manhattan        4885\n",
       "Queens         Queens            349\n",
       "Brooklyn       Brooklyn          282\n",
       "Queens         Manhattan         224\n",
       "Manhattan      Queens            163"
      ]
     },
     "execution_count": 23,
     "metadata": {},
     "output_type": "execute_result"
    }
   ],
   "source": [
    "gdf = df.groupby([\"pickup_borough\", \"dropoff_borough\"], dropna=False, observed=False).agg(\n",
    "    **{\n",
    "        \"n\": (\"pickup_borough\", \"size\"),\n",
    "    }\n",
    ")\n",
    "gdf.sort_values(by=\"n\", ascending=False).head()"
   ]
  },
  {
   "cell_type": "code",
   "execution_count": 24,
   "id": "e297abdc",
   "metadata": {},
   "outputs": [
    {
     "data": {
      "application/vnd.microsoft.datawrangler.viewer.v0+json": {
       "columns": [
        {
         "name": "pickup_borough",
         "rawType": "object",
         "type": "string"
        },
        {
         "name": "Bronx",
         "rawType": "float64",
         "type": "float"
        },
        {
         "name": "Brooklyn",
         "rawType": "float64",
         "type": "float"
        },
        {
         "name": "Manhattan",
         "rawType": "float64",
         "type": "float"
        },
        {
         "name": "Queens",
         "rawType": "float64",
         "type": "float"
        },
        {
         "name": "Staten Island",
         "rawType": "float64",
         "type": "float"
        }
       ],
       "ref": "6c46fcea-8186-47d6-915c-40cbd25cfad1",
       "rows": [
        [
         "Bronx",
         "66.0",
         "4.0",
         "25.0",
         "4.0",
         "0.0"
        ],
        [
         "Brooklyn",
         "5.0",
         "282.0",
         "67.0",
         "26.0",
         "0.0"
        ],
        [
         "Manhattan",
         "55.0",
         "153.0",
         "4885.0",
         "163.0",
         "2.0"
        ],
        [
         "Queens",
         "11.0",
         "62.0",
         "224.0",
         "349.0",
         "0.0"
        ]
       ],
       "shape": {
        "columns": 5,
        "rows": 4
       }
      },
      "text/html": [
       "<div>\n",
       "<style scoped>\n",
       "    .dataframe tbody tr th:only-of-type {\n",
       "        vertical-align: middle;\n",
       "    }\n",
       "\n",
       "    .dataframe tbody tr th {\n",
       "        vertical-align: top;\n",
       "    }\n",
       "\n",
       "    .dataframe thead th {\n",
       "        text-align: right;\n",
       "    }\n",
       "</style>\n",
       "<table border=\"1\" class=\"dataframe\">\n",
       "  <thead>\n",
       "    <tr style=\"text-align: right;\">\n",
       "      <th>dropoff_borough</th>\n",
       "      <th>Bronx</th>\n",
       "      <th>Brooklyn</th>\n",
       "      <th>Manhattan</th>\n",
       "      <th>Queens</th>\n",
       "      <th>Staten Island</th>\n",
       "    </tr>\n",
       "    <tr>\n",
       "      <th>pickup_borough</th>\n",
       "      <th></th>\n",
       "      <th></th>\n",
       "      <th></th>\n",
       "      <th></th>\n",
       "      <th></th>\n",
       "    </tr>\n",
       "  </thead>\n",
       "  <tbody>\n",
       "    <tr>\n",
       "      <th>Bronx</th>\n",
       "      <td>66.0</td>\n",
       "      <td>4.0</td>\n",
       "      <td>25.0</td>\n",
       "      <td>4.0</td>\n",
       "      <td>0.0</td>\n",
       "    </tr>\n",
       "    <tr>\n",
       "      <th>Brooklyn</th>\n",
       "      <td>5.0</td>\n",
       "      <td>282.0</td>\n",
       "      <td>67.0</td>\n",
       "      <td>26.0</td>\n",
       "      <td>0.0</td>\n",
       "    </tr>\n",
       "    <tr>\n",
       "      <th>Manhattan</th>\n",
       "      <td>55.0</td>\n",
       "      <td>153.0</td>\n",
       "      <td>4885.0</td>\n",
       "      <td>163.0</td>\n",
       "      <td>2.0</td>\n",
       "    </tr>\n",
       "    <tr>\n",
       "      <th>Queens</th>\n",
       "      <td>11.0</td>\n",
       "      <td>62.0</td>\n",
       "      <td>224.0</td>\n",
       "      <td>349.0</td>\n",
       "      <td>0.0</td>\n",
       "    </tr>\n",
       "  </tbody>\n",
       "</table>\n",
       "</div>"
      ],
      "text/plain": [
       "dropoff_borough  Bronx  Brooklyn  Manhattan  Queens  Staten Island\n",
       "pickup_borough                                                    \n",
       "Bronx             66.0       4.0       25.0     4.0            0.0\n",
       "Brooklyn           5.0     282.0       67.0    26.0            0.0\n",
       "Manhattan         55.0     153.0     4885.0   163.0            2.0\n",
       "Queens            11.0      62.0      224.0   349.0            0.0"
      ]
     },
     "execution_count": 24,
     "metadata": {},
     "output_type": "execute_result"
    }
   ],
   "source": [
    "pdf = df.groupby([\"pickup_borough\", \"dropoff_borough\"], dropna=False, observed=False).agg(\n",
    "    **{\n",
    "        \"n\": (\"pickup_borough\", \"size\"),\n",
    "    }\n",
    ").pivot_table(index=\"pickup_borough\", columns=\"dropoff_borough\", values=\"n\", fill_value=0)\n",
    "pdf"
   ]
  },
  {
   "cell_type": "code",
   "execution_count": 50,
   "id": "7fa32ef4",
   "metadata": {},
   "outputs": [
    {
     "data": {
      "application/vnd.microsoft.datawrangler.viewer.v0+json": {
       "columns": [
        {
         "name": "pickup_borough",
         "rawType": "object",
         "type": "string"
        },
        {
         "name": "Bronx",
         "rawType": "float64",
         "type": "float"
        },
        {
         "name": "Brooklyn",
         "rawType": "float64",
         "type": "float"
        },
        {
         "name": "Manhattan",
         "rawType": "float64",
         "type": "float"
        },
        {
         "name": "Queens",
         "rawType": "float64",
         "type": "float"
        },
        {
         "name": "Staten Island",
         "rawType": "float64",
         "type": "float"
        }
       ],
       "ref": "f5d66a0c-b86d-4380-bce4-3eeff16c2323",
       "rows": [
        [
         "Bronx",
         "0.6666666666666666",
         "0.04040404040404041",
         "0.25252525252525254",
         "0.04040404040404041",
         "0.0"
        ],
        [
         "Brooklyn",
         "0.013157894736842105",
         "0.7421052631578947",
         "0.1763157894736842",
         "0.06842105263157895",
         "0.0"
        ],
        [
         "Manhattan",
         "0.010460251046025104",
         "0.02909851654621529",
         "0.9290604792696843",
         "0.03100038037276531",
         "0.0003803727653100038"
        ],
        [
         "Queens",
         "0.017027863777089782",
         "0.09597523219814241",
         "0.34674922600619196",
         "0.5402476780185759",
         "0.0"
        ]
       ],
       "shape": {
        "columns": 5,
        "rows": 4
       }
      },
      "text/html": [
       "<div>\n",
       "<style scoped>\n",
       "    .dataframe tbody tr th:only-of-type {\n",
       "        vertical-align: middle;\n",
       "    }\n",
       "\n",
       "    .dataframe tbody tr th {\n",
       "        vertical-align: top;\n",
       "    }\n",
       "\n",
       "    .dataframe thead th {\n",
       "        text-align: right;\n",
       "    }\n",
       "</style>\n",
       "<table border=\"1\" class=\"dataframe\">\n",
       "  <thead>\n",
       "    <tr style=\"text-align: right;\">\n",
       "      <th>dropoff_borough</th>\n",
       "      <th>Bronx</th>\n",
       "      <th>Brooklyn</th>\n",
       "      <th>Manhattan</th>\n",
       "      <th>Queens</th>\n",
       "      <th>Staten Island</th>\n",
       "    </tr>\n",
       "    <tr>\n",
       "      <th>pickup_borough</th>\n",
       "      <th></th>\n",
       "      <th></th>\n",
       "      <th></th>\n",
       "      <th></th>\n",
       "      <th></th>\n",
       "    </tr>\n",
       "  </thead>\n",
       "  <tbody>\n",
       "    <tr>\n",
       "      <th>Bronx</th>\n",
       "      <td>0.666667</td>\n",
       "      <td>0.040404</td>\n",
       "      <td>0.252525</td>\n",
       "      <td>0.040404</td>\n",
       "      <td>0.00000</td>\n",
       "    </tr>\n",
       "    <tr>\n",
       "      <th>Brooklyn</th>\n",
       "      <td>0.013158</td>\n",
       "      <td>0.742105</td>\n",
       "      <td>0.176316</td>\n",
       "      <td>0.068421</td>\n",
       "      <td>0.00000</td>\n",
       "    </tr>\n",
       "    <tr>\n",
       "      <th>Manhattan</th>\n",
       "      <td>0.010460</td>\n",
       "      <td>0.029099</td>\n",
       "      <td>0.929060</td>\n",
       "      <td>0.031000</td>\n",
       "      <td>0.00038</td>\n",
       "    </tr>\n",
       "    <tr>\n",
       "      <th>Queens</th>\n",
       "      <td>0.017028</td>\n",
       "      <td>0.095975</td>\n",
       "      <td>0.346749</td>\n",
       "      <td>0.540248</td>\n",
       "      <td>0.00000</td>\n",
       "    </tr>\n",
       "  </tbody>\n",
       "</table>\n",
       "</div>"
      ],
      "text/plain": [
       "dropoff_borough     Bronx  Brooklyn  Manhattan    Queens  Staten Island\n",
       "pickup_borough                                                         \n",
       "Bronx            0.666667  0.040404   0.252525  0.040404        0.00000\n",
       "Brooklyn         0.013158  0.742105   0.176316  0.068421        0.00000\n",
       "Manhattan        0.010460  0.029099   0.929060  0.031000        0.00038\n",
       "Queens           0.017028  0.095975   0.346749  0.540248        0.00000"
      ]
     },
     "execution_count": 50,
     "metadata": {},
     "output_type": "execute_result"
    }
   ],
   "source": [
    "pdf_color = pdf.div(pdf.sum(axis=1), axis=0)\n",
    "pdf_color"
   ]
  },
  {
   "cell_type": "markdown",
   "id": "b22dab0b",
   "metadata": {},
   "source": [
    "### plot"
   ]
  },
  {
   "cell_type": "code",
   "execution_count": 80,
   "id": "1b22efa7",
   "metadata": {},
   "outputs": [
    {
     "data": {
      "image/png": "[encoded data removed]",
      "text/plain": [
       "<Figure size 640x480 with 1 Axes>"
      ]
     },
     "metadata": {},
     "output_type": "display_data"
    }
   ],
   "source": [
    "\n",
    "plot_transition_matrix(\n",
    "    transition_matrix_df=pdf,\n",
    "    title=\"State Transition Matrix Volume (Transition %)\",\n",
    ")\n",
    "\n",
    "plt.tight_layout()\n",
    "plt.show()\n"
   ]
  },
  {
   "cell_type": "code",
   "execution_count": null,
   "id": "e762a6f5",
   "metadata": {},
   "outputs": [],
   "source": []
  },
  {
   "cell_type": "code",
   "execution_count": null,
   "id": "23f82291",
   "metadata": {},
   "outputs": [],
   "source": []
  }
 ],
 "metadata": {
  "kernelspec": {
   "display_name": "Python 3",
   "language": "python",
   "name": "python3"
  },
  "language_info": {
   "codemirror_mode": {
    "name": "ipython",
    "version": 3
   },
   "file_extension": ".py",
   "mimetype": "text/x-python",
   "name": "python",
   "nbconvert_exporter": "python",
   "pygments_lexer": "ipython3",
   "version": "3.13.2"
  }
 },
 "nbformat": 4,
 "nbformat_minor": 5
}
