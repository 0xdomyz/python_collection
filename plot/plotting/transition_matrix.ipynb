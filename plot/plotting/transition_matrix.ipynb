{
 "cells": [
  {
   "cell_type": "code",
   "execution_count": 1,
   "id": "2301f4ca",
   "metadata": {},
   "outputs": [],
   "source": [
    "import matplotlib.pyplot as plt\n",
    "import matplotlib as mpl\n",
    "import numpy as np\n",
    "import pandas as pd\n",
    "import statsmodels.api as sm\n",
    "from scipy import stats"
   ]
  },
  {
   "cell_type": "markdown",
   "id": "8cc44cd5",
   "metadata": {},
   "source": [
    "### func"
   ]
  },
  {
   "cell_type": "code",
   "execution_count": 2,
   "id": "7b898459",
   "metadata": {},
   "outputs": [],
   "source": [
    "from matplotlib import ticker as mticker\n",
    "\n",
    "def plot_transition_matrix(\n",
    "    transition_matrix_df: pd.DataFrame,\n",
    "    color_transition_matrix_df: pd.DataFrame = None,\n",
    "    title=\"\",\n",
    "    display_transition_rates=True,\n",
    "    ax=None,\n",
    "    figsize=(6, 5),\n",
    "    fontsize=5,\n",
    "    colorbar_label=None,\n",
    "):\n",
    "\n",
    "    def text_formatter(x):\n",
    "        if x == 0:\n",
    "            return \"\"\n",
    "        else:\n",
    "            return f\"{x:.0f}\"\n",
    "\n",
    "    def pct_formatter(x):\n",
    "        if x == 0:\n",
    "            return \"\"\n",
    "        else:\n",
    "            return f\"{x:.2%}\"\n",
    "\n",
    "    pdf = transition_matrix_df.copy()\n",
    "    pdf_color = color_transition_matrix_df.copy() if color_transition_matrix_df is not None else pdf.div(pdf.sum(axis=1), axis=0)\n",
    "    assert pdf.shape == pdf_color.shape, f\"Transition matrix and color transition matrix must have the same shape, they are: {pdf.shape} vs {pdf_color.shape}\"\n",
    "\n",
    "    if ax is None:\n",
    "        fig, ax = plt.subplots(figsize = figsize)\n",
    "    else:\n",
    "        fig = ax.figure\n",
    "\n",
    "    yticks, yticklabels, ylabel = range(len(pdf.index)), pdf.index, pdf.index.name\n",
    "    xticks, xticklabels, xlabel = range(len(pdf.columns)), pdf.columns, pdf.columns.name\n",
    "\n",
    "    cax = ax.imshow(pdf_color.values, cmap=\"Blues\")\n",
    "    color_threshold = pdf_color.values.max() / 2\n",
    "\n",
    "    for i in yticks:\n",
    "        for j in xticks:\n",
    "            color_value = pdf_color.values[i, j]\n",
    "            text_color = \"white\" if color_value > color_threshold else \"black\"\n",
    "\n",
    "            va = \"bottom\" if display_transition_rates else \"center\"\n",
    "            ax.text(j, i, text_formatter(pdf.iloc[i, j]), ha=\"center\", va=va, color=text_color, fontsize=fontsize)\n",
    "\n",
    "            if display_transition_rates:\n",
    "                ax.text(j, i, pct_formatter(color_value), ha=\"center\", va=\"top\", color=text_color, fontsize=fontsize)\n",
    "\n",
    "    ax.plot([0, max(xticks)], [0, max(yticks)], color=\"black\", linewidth=0.5, linestyle=\"--\")\n",
    "\n",
    "    ax.set_yticks(yticks)\n",
    "    ax.set_yticklabels(yticklabels)\n",
    "    ax.set_ylabel(ylabel)\n",
    "    ax.set_xticks(xticks)\n",
    "    ax.set_xticklabels(xticklabels)\n",
    "    ax.set_xlabel(xlabel)\n",
    "\n",
    "    ax.set_title(title)\n",
    "\n",
    "    # Add minor ticks at halfway points\n",
    "    ax.set_xticks(np.arange(-0.5, len(xticks), 1), minor=True)\n",
    "    ax.set_yticks(np.arange(-0.5, len(yticks), 1), minor=True)\n",
    "\n",
    "    # Show grid at minor ticks (halfway points between cells)\n",
    "    ax.grid(which='minor', color='gray', linestyle='--', linewidth=0.5)\n",
    "\n",
    "    if colorbar_label:\n",
    "        fig.colorbar(\n",
    "            cax, \n",
    "            label=colorbar_label,\n",
    "            format=mticker.FuncFormatter(lambda x, _: f\"{x*100:.0f}%\"), \n",
    "            orientation=\"vertical\", pad=0.02\n",
    "        )\n",
    "\n",
    "    return fig, ax\n"
   ]
  },
  {
   "cell_type": "markdown",
   "id": "d78767c4",
   "metadata": {},
   "source": [
    "### data"
   ]
  },
  {
   "cell_type": "code",
   "execution_count": 3,
   "id": "c28cf7a0",
   "metadata": {},
   "outputs": [
    {
     "name": "stdout",
     "output_type": "stream",
     "text": [
      "df.shape = (6433, 14)\n"
     ]
    },
    {
     "data": {
      "application/vnd.microsoft.datawrangler.viewer.v0+json": {
       "columns": [
        {
         "name": "index",
         "rawType": "int64",
         "type": "integer"
        },
        {
         "name": "pickup",
         "rawType": "object",
         "type": "string"
        },
        {
         "name": "dropoff",
         "rawType": "object",
         "type": "string"
        },
        {
         "name": "passengers",
         "rawType": "int64",
         "type": "integer"
        },
        {
         "name": "distance",
         "rawType": "float64",
         "type": "float"
        },
        {
         "name": "fare",
         "rawType": "float64",
         "type": "float"
        },
        {
         "name": "tip",
         "rawType": "float64",
         "type": "float"
        },
        {
         "name": "tolls",
         "rawType": "float64",
         "type": "float"
        },
        {
         "name": "total",
         "rawType": "float64",
         "type": "float"
        },
        {
         "name": "color",
         "rawType": "object",
         "type": "string"
        },
        {
         "name": "payment",
         "rawType": "object",
         "type": "string"
        },
        {
         "name": "pickup_zone",
         "rawType": "object",
         "type": "string"
        },
        {
         "name": "dropoff_zone",
         "rawType": "object",
         "type": "string"
        },
        {
         "name": "pickup_borough",
         "rawType": "object",
         "type": "string"
        },
        {
         "name": "dropoff_borough",
         "rawType": "object",
         "type": "string"
        }
       ],
       "ref": "4d1c3722-acd1-4844-a782-7892f8422166",
       "rows": [
        [
         "0",
         "2019-03-23 20:21:09",
         "2019-03-23 20:27:24",
         "1",
         "1.6",
         "7.0",
         "2.15",
         "0.0",
         "12.95",
         "yellow",
         "credit card",
         "Lenox Hill West",
         "UN/Turtle Bay South",
         "Manhattan",
         "Manhattan"
        ],
        [
         "1",
         "2019-03-04 16:11:55",
         "2019-03-04 16:19:00",
         "1",
         "0.79",
         "5.0",
         "0.0",
         "0.0",
         "9.3",
         "yellow",
         "cash",
         "Upper West Side South",
         "Upper West Side South",
         "Manhattan",
         "Manhattan"
        ],
        [
         "2",
         "2019-03-27 17:53:01",
         "2019-03-27 18:00:25",
         "1",
         "1.37",
         "7.5",
         "2.36",
         "0.0",
         "14.16",
         "yellow",
         "credit card",
         "Alphabet City",
         "West Village",
         "Manhattan",
         "Manhattan"
        ],
        [
         "3",
         "2019-03-10 01:23:59",
         "2019-03-10 01:49:51",
         "1",
         "7.7",
         "27.0",
         "6.15",
         "0.0",
         "36.95",
         "yellow",
         "credit card",
         "Hudson Sq",
         "Yorkville West",
         "Manhattan",
         "Manhattan"
        ],
        [
         "4",
         "2019-03-30 13:27:42",
         "2019-03-30 13:37:14",
         "3",
         "2.16",
         "9.0",
         "1.1",
         "0.0",
         "13.4",
         "yellow",
         "credit card",
         "Midtown East",
         "Yorkville West",
         "Manhattan",
         "Manhattan"
        ]
       ],
       "shape": {
        "columns": 14,
        "rows": 5
       }
      },
      "text/html": [
       "<div>\n",
       "<style scoped>\n",
       "    .dataframe tbody tr th:only-of-type {\n",
       "        vertical-align: middle;\n",
       "    }\n",
       "\n",
       "    .dataframe tbody tr th {\n",
       "        vertical-align: top;\n",
       "    }\n",
       "\n",
       "    .dataframe thead th {\n",
       "        text-align: right;\n",
       "    }\n",
       "</style>\n",
       "<table border=\"1\" class=\"dataframe\">\n",
       "  <thead>\n",
       "    <tr style=\"text-align: right;\">\n",
       "      <th></th>\n",
       "      <th>pickup</th>\n",
       "      <th>dropoff</th>\n",
       "      <th>passengers</th>\n",
       "      <th>distance</th>\n",
       "      <th>fare</th>\n",
       "      <th>tip</th>\n",
       "      <th>tolls</th>\n",
       "      <th>total</th>\n",
       "      <th>color</th>\n",
       "      <th>payment</th>\n",
       "      <th>pickup_zone</th>\n",
       "      <th>dropoff_zone</th>\n",
       "      <th>pickup_borough</th>\n",
       "      <th>dropoff_borough</th>\n",
       "    </tr>\n",
       "  </thead>\n",
       "  <tbody>\n",
       "    <tr>\n",
       "      <th>0</th>\n",
       "      <td>2019-03-23 20:21:09</td>\n",
       "      <td>2019-03-23 20:27:24</td>\n",
       "      <td>1</td>\n",
       "      <td>1.60</td>\n",
       "      <td>7.0</td>\n",
       "      <td>2.15</td>\n",
       "      <td>0.0</td>\n",
       "      <td>12.95</td>\n",
       "      <td>yellow</td>\n",
       "      <td>credit card</td>\n",
       "      <td>Lenox Hill West</td>\n",
       "      <td>UN/Turtle Bay South</td>\n",
       "      <td>Manhattan</td>\n",
       "      <td>Manhattan</td>\n",
       "    </tr>\n",
       "    <tr>\n",
       "      <th>1</th>\n",
       "      <td>2019-03-04 16:11:55</td>\n",
       "      <td>2019-03-04 16:19:00</td>\n",
       "      <td>1</td>\n",
       "      <td>0.79</td>\n",
       "      <td>5.0</td>\n",
       "      <td>0.00</td>\n",
       "      <td>0.0</td>\n",
       "      <td>9.30</td>\n",
       "      <td>yellow</td>\n",
       "      <td>cash</td>\n",
       "      <td>Upper West Side South</td>\n",
       "      <td>Upper West Side South</td>\n",
       "      <td>Manhattan</td>\n",
       "      <td>Manhattan</td>\n",
       "    </tr>\n",
       "    <tr>\n",
       "      <th>2</th>\n",
       "      <td>2019-03-27 17:53:01</td>\n",
       "      <td>2019-03-27 18:00:25</td>\n",
       "      <td>1</td>\n",
       "      <td>1.37</td>\n",
       "      <td>7.5</td>\n",
       "      <td>2.36</td>\n",
       "      <td>0.0</td>\n",
       "      <td>14.16</td>\n",
       "      <td>yellow</td>\n",
       "      <td>credit card</td>\n",
       "      <td>Alphabet City</td>\n",
       "      <td>West Village</td>\n",
       "      <td>Manhattan</td>\n",
       "      <td>Manhattan</td>\n",
       "    </tr>\n",
       "    <tr>\n",
       "      <th>3</th>\n",
       "      <td>2019-03-10 01:23:59</td>\n",
       "      <td>2019-03-10 01:49:51</td>\n",
       "      <td>1</td>\n",
       "      <td>7.70</td>\n",
       "      <td>27.0</td>\n",
       "      <td>6.15</td>\n",
       "      <td>0.0</td>\n",
       "      <td>36.95</td>\n",
       "      <td>yellow</td>\n",
       "      <td>credit card</td>\n",
       "      <td>Hudson Sq</td>\n",
       "      <td>Yorkville West</td>\n",
       "      <td>Manhattan</td>\n",
       "      <td>Manhattan</td>\n",
       "    </tr>\n",
       "    <tr>\n",
       "      <th>4</th>\n",
       "      <td>2019-03-30 13:27:42</td>\n",
       "      <td>2019-03-30 13:37:14</td>\n",
       "      <td>3</td>\n",
       "      <td>2.16</td>\n",
       "      <td>9.0</td>\n",
       "      <td>1.10</td>\n",
       "      <td>0.0</td>\n",
       "      <td>13.40</td>\n",
       "      <td>yellow</td>\n",
       "      <td>credit card</td>\n",
       "      <td>Midtown East</td>\n",
       "      <td>Yorkville West</td>\n",
       "      <td>Manhattan</td>\n",
       "      <td>Manhattan</td>\n",
       "    </tr>\n",
       "  </tbody>\n",
       "</table>\n",
       "</div>"
      ],
      "text/plain": [
       "                pickup              dropoff  passengers  distance  fare   tip  \\\n",
       "0  2019-03-23 20:21:09  2019-03-23 20:27:24           1      1.60   7.0  2.15   \n",
       "1  2019-03-04 16:11:55  2019-03-04 16:19:00           1      0.79   5.0  0.00   \n",
       "2  2019-03-27 17:53:01  2019-03-27 18:00:25           1      1.37   7.5  2.36   \n",
       "3  2019-03-10 01:23:59  2019-03-10 01:49:51           1      7.70  27.0  6.15   \n",
       "4  2019-03-30 13:27:42  2019-03-30 13:37:14           3      2.16   9.0  1.10   \n",
       "\n",
       "   tolls  total   color      payment            pickup_zone  \\\n",
       "0    0.0  12.95  yellow  credit card        Lenox Hill West   \n",
       "1    0.0   9.30  yellow         cash  Upper West Side South   \n",
       "2    0.0  14.16  yellow  credit card          Alphabet City   \n",
       "3    0.0  36.95  yellow  credit card              Hudson Sq   \n",
       "4    0.0  13.40  yellow  credit card           Midtown East   \n",
       "\n",
       "            dropoff_zone pickup_borough dropoff_borough  \n",
       "0    UN/Turtle Bay South      Manhattan       Manhattan  \n",
       "1  Upper West Side South      Manhattan       Manhattan  \n",
       "2           West Village      Manhattan       Manhattan  \n",
       "3         Yorkville West      Manhattan       Manhattan  \n",
       "4         Yorkville West      Manhattan       Manhattan  "
      ]
     },
     "execution_count": 3,
     "metadata": {},
     "output_type": "execute_result"
    }
   ],
   "source": [
    "df = pd.read_csv(\"taxis.csv\")\n",
    "print(f\"{df.shape = }\")\n",
    "df.head()"
   ]
  },
  {
   "cell_type": "code",
   "execution_count": 4,
   "id": "6f1cc36b",
   "metadata": {},
   "outputs": [],
   "source": [
    "df['pickup_time_braket'] = pd.to_datetime(df['pickup']).dt.hour // 2\n",
    "df['dropoff_time_braket'] = pd.to_datetime(df['dropoff']).dt.hour // 2\n",
    "\n",
    "_ = pd.Categorical(df['pickup_borough'])\n",
    "_ = pd.Categorical(df['dropoff_borough'])\n",
    "df['pickup_borough_code'] = pd.Categorical(df['pickup_borough']).codes\n",
    "df['dropoff_borough_code'] = pd.Categorical(df['dropoff_borough']).codes"
   ]
  },
  {
   "cell_type": "code",
   "execution_count": 5,
   "id": "e6c1cf3c",
   "metadata": {},
   "outputs": [],
   "source": [
    "col_from, col_to = \"pickup_time_braket\", \"dropoff_time_braket\""
   ]
  },
  {
   "cell_type": "code",
   "execution_count": null,
   "id": "07610eb2",
   "metadata": {},
   "outputs": [
    {
     "data": {
      "application/vnd.microsoft.datawrangler.viewer.v0+json": {
       "columns": [
        {
         "name": "index",
         "rawType": "int64",
         "type": "integer"
        },
        {
         "name": "pickup_time_braket",
         "rawType": "int32",
         "type": "integer"
        },
        {
         "name": "dropoff_time_braket",
         "rawType": "int32",
         "type": "integer"
        }
       ],
       "ref": "8f7d543f-fabf-4d74-b28d-7d51ab4f5c8f",
       "rows": [
        [
         "0",
         "0",
         "0"
        ],
        [
         "1",
         "0",
         "1"
        ],
        [
         "2",
         "0",
         "2"
        ],
        [
         "3",
         "0",
         "3"
        ],
        [
         "4",
         "0",
         "4"
        ],
        [
         "5",
         "0",
         "5"
        ],
        [
         "6",
         "0",
         "6"
        ],
        [
         "7",
         "0",
         "7"
        ],
        [
         "8",
         "0",
         "8"
        ],
        [
         "9",
         "0",
         "9"
        ],
        [
         "10",
         "0",
         "10"
        ],
        [
         "11",
         "0",
         "11"
        ],
        [
         "12",
         "1",
         "0"
        ],
        [
         "13",
         "1",
         "1"
        ],
        [
         "14",
         "1",
         "2"
        ],
        [
         "15",
         "1",
         "3"
        ],
        [
         "16",
         "1",
         "4"
        ],
        [
         "17",
         "1",
         "5"
        ],
        [
         "18",
         "1",
         "6"
        ],
        [
         "19",
         "1",
         "7"
        ],
        [
         "20",
         "1",
         "8"
        ],
        [
         "21",
         "1",
         "9"
        ],
        [
         "22",
         "1",
         "10"
        ],
        [
         "23",
         "1",
         "11"
        ],
        [
         "24",
         "2",
         "0"
        ],
        [
         "25",
         "2",
         "1"
        ],
        [
         "26",
         "2",
         "2"
        ],
        [
         "27",
         "2",
         "3"
        ],
        [
         "28",
         "2",
         "4"
        ],
        [
         "29",
         "2",
         "5"
        ],
        [
         "30",
         "2",
         "6"
        ],
        [
         "31",
         "2",
         "7"
        ],
        [
         "32",
         "2",
         "8"
        ],
        [
         "33",
         "2",
         "9"
        ],
        [
         "34",
         "2",
         "10"
        ],
        [
         "35",
         "2",
         "11"
        ],
        [
         "36",
         "3",
         "0"
        ],
        [
         "37",
         "3",
         "1"
        ],
        [
         "38",
         "3",
         "2"
        ],
        [
         "39",
         "3",
         "3"
        ],
        [
         "40",
         "3",
         "4"
        ],
        [
         "41",
         "3",
         "5"
        ],
        [
         "42",
         "3",
         "6"
        ],
        [
         "43",
         "3",
         "7"
        ],
        [
         "44",
         "3",
         "8"
        ],
        [
         "45",
         "3",
         "9"
        ],
        [
         "46",
         "3",
         "10"
        ],
        [
         "47",
         "3",
         "11"
        ],
        [
         "48",
         "4",
         "0"
        ],
        [
         "49",
         "4",
         "1"
        ]
       ],
       "shape": {
        "columns": 2,
        "rows": 144
       }
      },
      "text/html": [
       "<div>\n",
       "<style scoped>\n",
       "    .dataframe tbody tr th:only-of-type {\n",
       "        vertical-align: middle;\n",
       "    }\n",
       "\n",
       "    .dataframe tbody tr th {\n",
       "        vertical-align: top;\n",
       "    }\n",
       "\n",
       "    .dataframe thead th {\n",
       "        text-align: right;\n",
       "    }\n",
       "</style>\n",
       "<table border=\"1\" class=\"dataframe\">\n",
       "  <thead>\n",
       "    <tr style=\"text-align: right;\">\n",
       "      <th></th>\n",
       "      <th>pickup_time_braket</th>\n",
       "      <th>dropoff_time_braket</th>\n",
       "    </tr>\n",
       "  </thead>\n",
       "  <tbody>\n",
       "    <tr>\n",
       "      <th>0</th>\n",
       "      <td>0</td>\n",
       "      <td>0</td>\n",
       "    </tr>\n",
       "    <tr>\n",
       "      <th>1</th>\n",
       "      <td>0</td>\n",
       "      <td>1</td>\n",
       "    </tr>\n",
       "    <tr>\n",
       "      <th>2</th>\n",
       "      <td>0</td>\n",
       "      <td>2</td>\n",
       "    </tr>\n",
       "    <tr>\n",
       "      <th>3</th>\n",
       "      <td>0</td>\n",
       "      <td>3</td>\n",
       "    </tr>\n",
       "    <tr>\n",
       "      <th>4</th>\n",
       "      <td>0</td>\n",
       "      <td>4</td>\n",
       "    </tr>\n",
       "    <tr>\n",
       "      <th>...</th>\n",
       "      <td>...</td>\n",
       "      <td>...</td>\n",
       "    </tr>\n",
       "    <tr>\n",
       "      <th>139</th>\n",
       "      <td>11</td>\n",
       "      <td>7</td>\n",
       "    </tr>\n",
       "    <tr>\n",
       "      <th>140</th>\n",
       "      <td>11</td>\n",
       "      <td>8</td>\n",
       "    </tr>\n",
       "    <tr>\n",
       "      <th>141</th>\n",
       "      <td>11</td>\n",
       "      <td>9</td>\n",
       "    </tr>\n",
       "    <tr>\n",
       "      <th>142</th>\n",
       "      <td>11</td>\n",
       "      <td>10</td>\n",
       "    </tr>\n",
       "    <tr>\n",
       "      <th>143</th>\n",
       "      <td>11</td>\n",
       "      <td>11</td>\n",
       "    </tr>\n",
       "  </tbody>\n",
       "</table>\n",
       "<p>144 rows × 2 columns</p>\n",
       "</div>"
      ],
      "text/plain": [
       "     pickup_time_braket  dropoff_time_braket\n",
       "0                     0                    0\n",
       "1                     0                    1\n",
       "2                     0                    2\n",
       "3                     0                    3\n",
       "4                     0                    4\n",
       "..                  ...                  ...\n",
       "139                  11                    7\n",
       "140                  11                    8\n",
       "141                  11                    9\n",
       "142                  11                   10\n",
       "143                  11                   11\n",
       "\n",
       "[144 rows x 2 columns]"
      ]
     },
     "execution_count": 6,
     "metadata": {},
     "output_type": "execute_result"
    }
   ],
   "source": [
    "from_vals = sorted(df[col_from].unique())\n",
    "to_vals = sorted(df[col_to].unique())\n",
    "\n",
    "# hardcode it\n",
    "# from_vals = list(range(12))\n",
    "# to_vals = list(range(12))\n",
    "\n",
    "spine = pd.MultiIndex.from_product(\n",
    "    [from_vals, to_vals],\n",
    "    names=[col_from, col_to]\n",
    ").to_frame(index=False)\n",
    "spine"
   ]
  },
  {
   "cell_type": "code",
   "execution_count": 11,
   "id": "e297abdc",
   "metadata": {},
   "outputs": [
    {
     "data": {
      "application/vnd.microsoft.datawrangler.viewer.v0+json": {
       "columns": [
        {
         "name": "index",
         "rawType": "int64",
         "type": "integer"
        },
        {
         "name": "pickup_time_braket",
         "rawType": "int64",
         "type": "integer"
        },
        {
         "name": "dropoff_time_braket",
         "rawType": "int64",
         "type": "integer"
        },
        {
         "name": "n",
         "rawType": "float64",
         "type": "float"
        },
        {
         "name": "tip",
         "rawType": "float64",
         "type": "float"
        }
       ],
       "ref": "6b980448-1376-4272-b0be-84e22a2a111a",
       "rows": [
        [
         "0",
         "0",
         "0",
         null,
         null
        ],
        [
         "1",
         "0",
         "1",
         null,
         null
        ],
        [
         "2",
         "0",
         "2",
         null,
         null
        ],
        [
         "3",
         "0",
         "3",
         null,
         null
        ],
        [
         "4",
         "0",
         "4",
         null,
         null
        ],
        [
         "5",
         "0",
         "5",
         null,
         null
        ],
        [
         "6",
         "0",
         "6",
         null,
         null
        ],
        [
         "7",
         "0",
         "7",
         null,
         null
        ],
        [
         "8",
         "0",
         "8",
         null,
         null
        ],
        [
         "9",
         "0",
         "9",
         null,
         null
        ],
        [
         "10",
         "0",
         "10",
         null,
         null
        ],
        [
         "11",
         "0",
         "11",
         null,
         null
        ],
        [
         "12",
         "1",
         "0",
         null,
         null
        ],
        [
         "13",
         "1",
         "1",
         null,
         null
        ],
        [
         "14",
         "1",
         "2",
         null,
         null
        ],
        [
         "15",
         "1",
         "3",
         null,
         null
        ],
        [
         "16",
         "1",
         "4",
         null,
         null
        ],
        [
         "17",
         "1",
         "5",
         null,
         null
        ],
        [
         "18",
         "1",
         "6",
         null,
         null
        ],
        [
         "19",
         "1",
         "7",
         null,
         null
        ],
        [
         "20",
         "1",
         "8",
         null,
         null
        ],
        [
         "21",
         "1",
         "9",
         null,
         null
        ],
        [
         "22",
         "1",
         "10",
         null,
         null
        ],
        [
         "23",
         "1",
         "11",
         null,
         null
        ],
        [
         "24",
         "2",
         "0",
         null,
         null
        ],
        [
         "25",
         "2",
         "1",
         null,
         null
        ],
        [
         "26",
         "2",
         "2",
         null,
         null
        ],
        [
         "27",
         "2",
         "3",
         null,
         null
        ],
        [
         "28",
         "2",
         "4",
         null,
         null
        ],
        [
         "29",
         "2",
         "5",
         null,
         null
        ],
        [
         "30",
         "2",
         "6",
         null,
         null
        ],
        [
         "31",
         "2",
         "7",
         null,
         null
        ],
        [
         "32",
         "2",
         "8",
         null,
         null
        ],
        [
         "33",
         "2",
         "9",
         null,
         null
        ],
        [
         "34",
         "2",
         "10",
         null,
         null
        ],
        [
         "35",
         "2",
         "11",
         null,
         null
        ],
        [
         "36",
         "3",
         "0",
         null,
         null
        ],
        [
         "37",
         "3",
         "1",
         null,
         null
        ],
        [
         "38",
         "3",
         "2",
         null,
         null
        ],
        [
         "39",
         "3",
         "3",
         null,
         null
        ],
        [
         "40",
         "3",
         "4",
         null,
         null
        ],
        [
         "41",
         "3",
         "5",
         null,
         null
        ],
        [
         "42",
         "3",
         "6",
         null,
         null
        ],
        [
         "43",
         "3",
         "7",
         null,
         null
        ],
        [
         "44",
         "3",
         "8",
         null,
         null
        ],
        [
         "45",
         "3",
         "9",
         null,
         null
        ],
        [
         "46",
         "3",
         "10",
         null,
         null
        ],
        [
         "47",
         "3",
         "11",
         null,
         null
        ],
        [
         "48",
         "4",
         "0",
         null,
         null
        ],
        [
         "49",
         "4",
         "1",
         null,
         null
        ]
       ],
       "shape": {
        "columns": 4,
        "rows": 144
       }
      },
      "text/html": [
       "<div>\n",
       "<style scoped>\n",
       "    .dataframe tbody tr th:only-of-type {\n",
       "        vertical-align: middle;\n",
       "    }\n",
       "\n",
       "    .dataframe tbody tr th {\n",
       "        vertical-align: top;\n",
       "    }\n",
       "\n",
       "    .dataframe thead th {\n",
       "        text-align: right;\n",
       "    }\n",
       "</style>\n",
       "<table border=\"1\" class=\"dataframe\">\n",
       "  <thead>\n",
       "    <tr style=\"text-align: right;\">\n",
       "      <th></th>\n",
       "      <th>pickup_time_braket</th>\n",
       "      <th>dropoff_time_braket</th>\n",
       "      <th>n</th>\n",
       "      <th>tip</th>\n",
       "    </tr>\n",
       "  </thead>\n",
       "  <tbody>\n",
       "    <tr>\n",
       "      <th>0</th>\n",
       "      <td>0</td>\n",
       "      <td>0</td>\n",
       "      <td>NaN</td>\n",
       "      <td>NaN</td>\n",
       "    </tr>\n",
       "    <tr>\n",
       "      <th>1</th>\n",
       "      <td>0</td>\n",
       "      <td>1</td>\n",
       "      <td>NaN</td>\n",
       "      <td>NaN</td>\n",
       "    </tr>\n",
       "    <tr>\n",
       "      <th>2</th>\n",
       "      <td>0</td>\n",
       "      <td>2</td>\n",
       "      <td>NaN</td>\n",
       "      <td>NaN</td>\n",
       "    </tr>\n",
       "    <tr>\n",
       "      <th>3</th>\n",
       "      <td>0</td>\n",
       "      <td>3</td>\n",
       "      <td>NaN</td>\n",
       "      <td>NaN</td>\n",
       "    </tr>\n",
       "    <tr>\n",
       "      <th>4</th>\n",
       "      <td>0</td>\n",
       "      <td>4</td>\n",
       "      <td>NaN</td>\n",
       "      <td>NaN</td>\n",
       "    </tr>\n",
       "    <tr>\n",
       "      <th>...</th>\n",
       "      <td>...</td>\n",
       "      <td>...</td>\n",
       "      <td>...</td>\n",
       "      <td>...</td>\n",
       "    </tr>\n",
       "    <tr>\n",
       "      <th>139</th>\n",
       "      <td>11</td>\n",
       "      <td>7</td>\n",
       "      <td>NaN</td>\n",
       "      <td>NaN</td>\n",
       "    </tr>\n",
       "    <tr>\n",
       "      <th>140</th>\n",
       "      <td>11</td>\n",
       "      <td>8</td>\n",
       "      <td>NaN</td>\n",
       "      <td>NaN</td>\n",
       "    </tr>\n",
       "    <tr>\n",
       "      <th>141</th>\n",
       "      <td>11</td>\n",
       "      <td>9</td>\n",
       "      <td>NaN</td>\n",
       "      <td>NaN</td>\n",
       "    </tr>\n",
       "    <tr>\n",
       "      <th>142</th>\n",
       "      <td>11</td>\n",
       "      <td>10</td>\n",
       "      <td>NaN</td>\n",
       "      <td>NaN</td>\n",
       "    </tr>\n",
       "    <tr>\n",
       "      <th>143</th>\n",
       "      <td>11</td>\n",
       "      <td>11</td>\n",
       "      <td>567.0</td>\n",
       "      <td>0.175916</td>\n",
       "    </tr>\n",
       "  </tbody>\n",
       "</table>\n",
       "<p>144 rows × 4 columns</p>\n",
       "</div>"
      ],
      "text/plain": [
       "     pickup_time_braket  dropoff_time_braket      n       tip\n",
       "0                     0                    0    NaN       NaN\n",
       "1                     0                    1    NaN       NaN\n",
       "2                     0                    2    NaN       NaN\n",
       "3                     0                    3    NaN       NaN\n",
       "4                     0                    4    NaN       NaN\n",
       "..                  ...                  ...    ...       ...\n",
       "139                  11                    7    NaN       NaN\n",
       "140                  11                    8    NaN       NaN\n",
       "141                  11                    9    NaN       NaN\n",
       "142                  11                   10    NaN       NaN\n",
       "143                  11                   11  567.0  0.175916\n",
       "\n",
       "[144 rows x 4 columns]"
      ]
     },
     "execution_count": 11,
     "metadata": {},
     "output_type": "execute_result"
    }
   ],
   "source": [
    "gdf = (\n",
    "    df\n",
    "    .loc[lambda x: x[col_from].isin([9,10,11]),:]\n",
    "    .groupby([col_from, col_to], dropna=False, observed=False, as_index=False)\n",
    "    .agg(\n",
    "        **{\n",
    "            \"n\": (col_from, \"size\"),\n",
    "            'tip': (col_from, lambda x: df.loc[x.index, 'tip'].sum()/df.loc[x.index, 'fare'].sum()),\n",
    "        }\n",
    "    )\n",
    ")\n",
    "gdf = spine.merge(gdf, on=[col_from, col_to], how=\"left\")\n",
    "\n",
    "gdf"
   ]
  },
  {
   "cell_type": "code",
   "execution_count": 12,
   "id": "b6a00565",
   "metadata": {},
   "outputs": [
    {
     "data": {
      "application/vnd.microsoft.datawrangler.viewer.v0+json": {
       "columns": [
        {
         "name": "pickup_time_braket",
         "rawType": "int64",
         "type": "integer"
        },
        {
         "name": "0",
         "rawType": "float64",
         "type": "float"
        },
        {
         "name": "1",
         "rawType": "float64",
         "type": "float"
        },
        {
         "name": "2",
         "rawType": "float64",
         "type": "float"
        },
        {
         "name": "3",
         "rawType": "float64",
         "type": "float"
        },
        {
         "name": "4",
         "rawType": "float64",
         "type": "float"
        },
        {
         "name": "5",
         "rawType": "float64",
         "type": "float"
        },
        {
         "name": "6",
         "rawType": "float64",
         "type": "float"
        },
        {
         "name": "7",
         "rawType": "float64",
         "type": "float"
        },
        {
         "name": "8",
         "rawType": "float64",
         "type": "float"
        },
        {
         "name": "9",
         "rawType": "float64",
         "type": "float"
        },
        {
         "name": "10",
         "rawType": "float64",
         "type": "float"
        },
        {
         "name": "11",
         "rawType": "float64",
         "type": "float"
        }
       ],
       "ref": "dd80619a-0052-415a-a9ca-01fcf60e4d18",
       "rows": [
        [
         "0",
         "0.0",
         "0.0",
         "0.0",
         "0.0",
         "0.0",
         "0.0",
         "0.0",
         "0.0",
         "0.0",
         "0.0",
         "0.0",
         "0.0"
        ],
        [
         "1",
         "0.0",
         "0.0",
         "0.0",
         "0.0",
         "0.0",
         "0.0",
         "0.0",
         "0.0",
         "0.0",
         "0.0",
         "0.0",
         "0.0"
        ],
        [
         "2",
         "0.0",
         "0.0",
         "0.0",
         "0.0",
         "0.0",
         "0.0",
         "0.0",
         "0.0",
         "0.0",
         "0.0",
         "0.0",
         "0.0"
        ],
        [
         "3",
         "0.0",
         "0.0",
         "0.0",
         "0.0",
         "0.0",
         "0.0",
         "0.0",
         "0.0",
         "0.0",
         "0.0",
         "0.0",
         "0.0"
        ],
        [
         "4",
         "0.0",
         "0.0",
         "0.0",
         "0.0",
         "0.0",
         "0.0",
         "0.0",
         "0.0",
         "0.0",
         "0.0",
         "0.0",
         "0.0"
        ]
       ],
       "shape": {
        "columns": 12,
        "rows": 5
       }
      },
      "text/html": [
       "<div>\n",
       "<style scoped>\n",
       "    .dataframe tbody tr th:only-of-type {\n",
       "        vertical-align: middle;\n",
       "    }\n",
       "\n",
       "    .dataframe tbody tr th {\n",
       "        vertical-align: top;\n",
       "    }\n",
       "\n",
       "    .dataframe thead th {\n",
       "        text-align: right;\n",
       "    }\n",
       "</style>\n",
       "<table border=\"1\" class=\"dataframe\">\n",
       "  <thead>\n",
       "    <tr style=\"text-align: right;\">\n",
       "      <th>dropoff_time_braket</th>\n",
       "      <th>0</th>\n",
       "      <th>1</th>\n",
       "      <th>2</th>\n",
       "      <th>3</th>\n",
       "      <th>4</th>\n",
       "      <th>5</th>\n",
       "      <th>6</th>\n",
       "      <th>7</th>\n",
       "      <th>8</th>\n",
       "      <th>9</th>\n",
       "      <th>10</th>\n",
       "      <th>11</th>\n",
       "    </tr>\n",
       "    <tr>\n",
       "      <th>pickup_time_braket</th>\n",
       "      <th></th>\n",
       "      <th></th>\n",
       "      <th></th>\n",
       "      <th></th>\n",
       "      <th></th>\n",
       "      <th></th>\n",
       "      <th></th>\n",
       "      <th></th>\n",
       "      <th></th>\n",
       "      <th></th>\n",
       "      <th></th>\n",
       "      <th></th>\n",
       "    </tr>\n",
       "  </thead>\n",
       "  <tbody>\n",
       "    <tr>\n",
       "      <th>0</th>\n",
       "      <td>0.0</td>\n",
       "      <td>0.0</td>\n",
       "      <td>0.0</td>\n",
       "      <td>0.0</td>\n",
       "      <td>0.0</td>\n",
       "      <td>0.0</td>\n",
       "      <td>0.0</td>\n",
       "      <td>0.0</td>\n",
       "      <td>0.0</td>\n",
       "      <td>0.0</td>\n",
       "      <td>0.0</td>\n",
       "      <td>0.0</td>\n",
       "    </tr>\n",
       "    <tr>\n",
       "      <th>1</th>\n",
       "      <td>0.0</td>\n",
       "      <td>0.0</td>\n",
       "      <td>0.0</td>\n",
       "      <td>0.0</td>\n",
       "      <td>0.0</td>\n",
       "      <td>0.0</td>\n",
       "      <td>0.0</td>\n",
       "      <td>0.0</td>\n",
       "      <td>0.0</td>\n",
       "      <td>0.0</td>\n",
       "      <td>0.0</td>\n",
       "      <td>0.0</td>\n",
       "    </tr>\n",
       "    <tr>\n",
       "      <th>2</th>\n",
       "      <td>0.0</td>\n",
       "      <td>0.0</td>\n",
       "      <td>0.0</td>\n",
       "      <td>0.0</td>\n",
       "      <td>0.0</td>\n",
       "      <td>0.0</td>\n",
       "      <td>0.0</td>\n",
       "      <td>0.0</td>\n",
       "      <td>0.0</td>\n",
       "      <td>0.0</td>\n",
       "      <td>0.0</td>\n",
       "      <td>0.0</td>\n",
       "    </tr>\n",
       "    <tr>\n",
       "      <th>3</th>\n",
       "      <td>0.0</td>\n",
       "      <td>0.0</td>\n",
       "      <td>0.0</td>\n",
       "      <td>0.0</td>\n",
       "      <td>0.0</td>\n",
       "      <td>0.0</td>\n",
       "      <td>0.0</td>\n",
       "      <td>0.0</td>\n",
       "      <td>0.0</td>\n",
       "      <td>0.0</td>\n",
       "      <td>0.0</td>\n",
       "      <td>0.0</td>\n",
       "    </tr>\n",
       "    <tr>\n",
       "      <th>4</th>\n",
       "      <td>0.0</td>\n",
       "      <td>0.0</td>\n",
       "      <td>0.0</td>\n",
       "      <td>0.0</td>\n",
       "      <td>0.0</td>\n",
       "      <td>0.0</td>\n",
       "      <td>0.0</td>\n",
       "      <td>0.0</td>\n",
       "      <td>0.0</td>\n",
       "      <td>0.0</td>\n",
       "      <td>0.0</td>\n",
       "      <td>0.0</td>\n",
       "    </tr>\n",
       "  </tbody>\n",
       "</table>\n",
       "</div>"
      ],
      "text/plain": [
       "dropoff_time_braket   0    1    2    3    4    5    6    7    8    9    10  \\\n",
       "pickup_time_braket                                                           \n",
       "0                    0.0  0.0  0.0  0.0  0.0  0.0  0.0  0.0  0.0  0.0  0.0   \n",
       "1                    0.0  0.0  0.0  0.0  0.0  0.0  0.0  0.0  0.0  0.0  0.0   \n",
       "2                    0.0  0.0  0.0  0.0  0.0  0.0  0.0  0.0  0.0  0.0  0.0   \n",
       "3                    0.0  0.0  0.0  0.0  0.0  0.0  0.0  0.0  0.0  0.0  0.0   \n",
       "4                    0.0  0.0  0.0  0.0  0.0  0.0  0.0  0.0  0.0  0.0  0.0   \n",
       "\n",
       "dropoff_time_braket   11  \n",
       "pickup_time_braket        \n",
       "0                    0.0  \n",
       "1                    0.0  \n",
       "2                    0.0  \n",
       "3                    0.0  \n",
       "4                    0.0  "
      ]
     },
     "execution_count": 12,
     "metadata": {},
     "output_type": "execute_result"
    }
   ],
   "source": [
    "pdf = gdf.pivot_table(index=col_from, columns=col_to, values=\"n\", fill_value=0, dropna=False)\n",
    "pdf.head()"
   ]
  },
  {
   "cell_type": "code",
   "execution_count": 13,
   "id": "129f9050",
   "metadata": {},
   "outputs": [
    {
     "data": {
      "application/vnd.microsoft.datawrangler.viewer.v0+json": {
       "columns": [
        {
         "name": "pickup_time_braket",
         "rawType": "int64",
         "type": "integer"
        },
        {
         "name": "0",
         "rawType": "float64",
         "type": "float"
        },
        {
         "name": "1",
         "rawType": "float64",
         "type": "float"
        },
        {
         "name": "2",
         "rawType": "float64",
         "type": "float"
        },
        {
         "name": "3",
         "rawType": "float64",
         "type": "float"
        },
        {
         "name": "4",
         "rawType": "float64",
         "type": "float"
        },
        {
         "name": "5",
         "rawType": "float64",
         "type": "float"
        },
        {
         "name": "6",
         "rawType": "float64",
         "type": "float"
        },
        {
         "name": "7",
         "rawType": "float64",
         "type": "float"
        },
        {
         "name": "8",
         "rawType": "float64",
         "type": "float"
        },
        {
         "name": "9",
         "rawType": "float64",
         "type": "float"
        },
        {
         "name": "10",
         "rawType": "float64",
         "type": "float"
        },
        {
         "name": "11",
         "rawType": "float64",
         "type": "float"
        }
       ],
       "ref": "f87acf63-a2bb-406a-aa57-da1cd10e005e",
       "rows": [
        [
         "0",
         "0.0",
         "0.0",
         "0.0",
         "0.0",
         "0.0",
         "0.0",
         "0.0",
         "0.0",
         "0.0",
         "0.0",
         "0.0",
         "0.0"
        ],
        [
         "1",
         "0.0",
         "0.0",
         "0.0",
         "0.0",
         "0.0",
         "0.0",
         "0.0",
         "0.0",
         "0.0",
         "0.0",
         "0.0",
         "0.0"
        ],
        [
         "2",
         "0.0",
         "0.0",
         "0.0",
         "0.0",
         "0.0",
         "0.0",
         "0.0",
         "0.0",
         "0.0",
         "0.0",
         "0.0",
         "0.0"
        ],
        [
         "3",
         "0.0",
         "0.0",
         "0.0",
         "0.0",
         "0.0",
         "0.0",
         "0.0",
         "0.0",
         "0.0",
         "0.0",
         "0.0",
         "0.0"
        ],
        [
         "4",
         "0.0",
         "0.0",
         "0.0",
         "0.0",
         "0.0",
         "0.0",
         "0.0",
         "0.0",
         "0.0",
         "0.0",
         "0.0",
         "0.0"
        ]
       ],
       "shape": {
        "columns": 12,
        "rows": 5
       }
      },
      "text/html": [
       "<div>\n",
       "<style scoped>\n",
       "    .dataframe tbody tr th:only-of-type {\n",
       "        vertical-align: middle;\n",
       "    }\n",
       "\n",
       "    .dataframe tbody tr th {\n",
       "        vertical-align: top;\n",
       "    }\n",
       "\n",
       "    .dataframe thead th {\n",
       "        text-align: right;\n",
       "    }\n",
       "</style>\n",
       "<table border=\"1\" class=\"dataframe\">\n",
       "  <thead>\n",
       "    <tr style=\"text-align: right;\">\n",
       "      <th>dropoff_time_braket</th>\n",
       "      <th>0</th>\n",
       "      <th>1</th>\n",
       "      <th>2</th>\n",
       "      <th>3</th>\n",
       "      <th>4</th>\n",
       "      <th>5</th>\n",
       "      <th>6</th>\n",
       "      <th>7</th>\n",
       "      <th>8</th>\n",
       "      <th>9</th>\n",
       "      <th>10</th>\n",
       "      <th>11</th>\n",
       "    </tr>\n",
       "    <tr>\n",
       "      <th>pickup_time_braket</th>\n",
       "      <th></th>\n",
       "      <th></th>\n",
       "      <th></th>\n",
       "      <th></th>\n",
       "      <th></th>\n",
       "      <th></th>\n",
       "      <th></th>\n",
       "      <th></th>\n",
       "      <th></th>\n",
       "      <th></th>\n",
       "      <th></th>\n",
       "      <th></th>\n",
       "    </tr>\n",
       "  </thead>\n",
       "  <tbody>\n",
       "    <tr>\n",
       "      <th>0</th>\n",
       "      <td>0.0</td>\n",
       "      <td>0.0</td>\n",
       "      <td>0.0</td>\n",
       "      <td>0.0</td>\n",
       "      <td>0.0</td>\n",
       "      <td>0.0</td>\n",
       "      <td>0.0</td>\n",
       "      <td>0.0</td>\n",
       "      <td>0.0</td>\n",
       "      <td>0.0</td>\n",
       "      <td>0.0</td>\n",
       "      <td>0.0</td>\n",
       "    </tr>\n",
       "    <tr>\n",
       "      <th>1</th>\n",
       "      <td>0.0</td>\n",
       "      <td>0.0</td>\n",
       "      <td>0.0</td>\n",
       "      <td>0.0</td>\n",
       "      <td>0.0</td>\n",
       "      <td>0.0</td>\n",
       "      <td>0.0</td>\n",
       "      <td>0.0</td>\n",
       "      <td>0.0</td>\n",
       "      <td>0.0</td>\n",
       "      <td>0.0</td>\n",
       "      <td>0.0</td>\n",
       "    </tr>\n",
       "    <tr>\n",
       "      <th>2</th>\n",
       "      <td>0.0</td>\n",
       "      <td>0.0</td>\n",
       "      <td>0.0</td>\n",
       "      <td>0.0</td>\n",
       "      <td>0.0</td>\n",
       "      <td>0.0</td>\n",
       "      <td>0.0</td>\n",
       "      <td>0.0</td>\n",
       "      <td>0.0</td>\n",
       "      <td>0.0</td>\n",
       "      <td>0.0</td>\n",
       "      <td>0.0</td>\n",
       "    </tr>\n",
       "    <tr>\n",
       "      <th>3</th>\n",
       "      <td>0.0</td>\n",
       "      <td>0.0</td>\n",
       "      <td>0.0</td>\n",
       "      <td>0.0</td>\n",
       "      <td>0.0</td>\n",
       "      <td>0.0</td>\n",
       "      <td>0.0</td>\n",
       "      <td>0.0</td>\n",
       "      <td>0.0</td>\n",
       "      <td>0.0</td>\n",
       "      <td>0.0</td>\n",
       "      <td>0.0</td>\n",
       "    </tr>\n",
       "    <tr>\n",
       "      <th>4</th>\n",
       "      <td>0.0</td>\n",
       "      <td>0.0</td>\n",
       "      <td>0.0</td>\n",
       "      <td>0.0</td>\n",
       "      <td>0.0</td>\n",
       "      <td>0.0</td>\n",
       "      <td>0.0</td>\n",
       "      <td>0.0</td>\n",
       "      <td>0.0</td>\n",
       "      <td>0.0</td>\n",
       "      <td>0.0</td>\n",
       "      <td>0.0</td>\n",
       "    </tr>\n",
       "  </tbody>\n",
       "</table>\n",
       "</div>"
      ],
      "text/plain": [
       "dropoff_time_braket   0    1    2    3    4    5    6    7    8    9    10  \\\n",
       "pickup_time_braket                                                           \n",
       "0                    0.0  0.0  0.0  0.0  0.0  0.0  0.0  0.0  0.0  0.0  0.0   \n",
       "1                    0.0  0.0  0.0  0.0  0.0  0.0  0.0  0.0  0.0  0.0  0.0   \n",
       "2                    0.0  0.0  0.0  0.0  0.0  0.0  0.0  0.0  0.0  0.0  0.0   \n",
       "3                    0.0  0.0  0.0  0.0  0.0  0.0  0.0  0.0  0.0  0.0  0.0   \n",
       "4                    0.0  0.0  0.0  0.0  0.0  0.0  0.0  0.0  0.0  0.0  0.0   \n",
       "\n",
       "dropoff_time_braket   11  \n",
       "pickup_time_braket        \n",
       "0                    0.0  \n",
       "1                    0.0  \n",
       "2                    0.0  \n",
       "3                    0.0  \n",
       "4                    0.0  "
      ]
     },
     "execution_count": 13,
     "metadata": {},
     "output_type": "execute_result"
    }
   ],
   "source": [
    "pdf_color_tip = gdf.pivot_table(index=col_from, columns=col_to, values=\"tip\", fill_value=0, dropna=False)\n",
    "pdf_color_tip.head()"
   ]
  },
  {
   "cell_type": "code",
   "execution_count": 14,
   "id": "7fa32ef4",
   "metadata": {},
   "outputs": [
    {
     "data": {
      "application/vnd.microsoft.datawrangler.viewer.v0+json": {
       "columns": [
        {
         "name": "pickup_time_braket",
         "rawType": "int64",
         "type": "integer"
        },
        {
         "name": "0",
         "rawType": "float64",
         "type": "float"
        },
        {
         "name": "1",
         "rawType": "float64",
         "type": "float"
        },
        {
         "name": "2",
         "rawType": "float64",
         "type": "float"
        },
        {
         "name": "3",
         "rawType": "float64",
         "type": "float"
        },
        {
         "name": "4",
         "rawType": "float64",
         "type": "float"
        },
        {
         "name": "5",
         "rawType": "float64",
         "type": "float"
        },
        {
         "name": "6",
         "rawType": "float64",
         "type": "float"
        },
        {
         "name": "7",
         "rawType": "float64",
         "type": "float"
        },
        {
         "name": "8",
         "rawType": "float64",
         "type": "float"
        },
        {
         "name": "9",
         "rawType": "float64",
         "type": "float"
        },
        {
         "name": "10",
         "rawType": "float64",
         "type": "float"
        },
        {
         "name": "11",
         "rawType": "float64",
         "type": "float"
        }
       ],
       "ref": "375cfbf1-bb2d-4ec1-916e-0523c94f9c61",
       "rows": [
        [
         "0",
         null,
         null,
         null,
         null,
         null,
         null,
         null,
         null,
         null,
         null,
         null,
         null
        ],
        [
         "1",
         null,
         null,
         null,
         null,
         null,
         null,
         null,
         null,
         null,
         null,
         null,
         null
        ],
        [
         "2",
         null,
         null,
         null,
         null,
         null,
         null,
         null,
         null,
         null,
         null,
         null,
         null
        ],
        [
         "3",
         null,
         null,
         null,
         null,
         null,
         null,
         null,
         null,
         null,
         null,
         null,
         null
        ],
        [
         "4",
         null,
         null,
         null,
         null,
         null,
         null,
         null,
         null,
         null,
         null,
         null,
         null
        ],
        [
         "5",
         null,
         null,
         null,
         null,
         null,
         null,
         null,
         null,
         null,
         null,
         null,
         null
        ],
        [
         "6",
         null,
         null,
         null,
         null,
         null,
         null,
         null,
         null,
         null,
         null,
         null,
         null
        ],
        [
         "7",
         null,
         null,
         null,
         null,
         null,
         null,
         null,
         null,
         null,
         null,
         null,
         null
        ],
        [
         "8",
         null,
         null,
         null,
         null,
         null,
         null,
         null,
         null,
         null,
         null,
         null,
         null
        ],
        [
         "9",
         "0.0",
         "0.0",
         "0.0",
         "0.0",
         "0.0",
         "0.0",
         "0.0",
         "0.0",
         "0.0",
         "0.8979343863912516",
         "0.10206561360874848",
         "0.0"
        ],
        [
         "10",
         "0.0",
         "0.0",
         "0.0",
         "0.0",
         "0.0",
         "0.0",
         "0.0",
         "0.0",
         "0.0",
         "0.0",
         "0.8948824343015215",
         "0.10511756569847856"
        ],
        [
         "11",
         "0.08103727714748785",
         "0.0",
         "0.0",
         "0.0",
         "0.0",
         "0.0",
         "0.0",
         "0.0",
         "0.0",
         "0.0",
         "0.0",
         "0.9189627228525121"
        ]
       ],
       "shape": {
        "columns": 12,
        "rows": 12
       }
      },
      "text/html": [
       "<div>\n",
       "<style scoped>\n",
       "    .dataframe tbody tr th:only-of-type {\n",
       "        vertical-align: middle;\n",
       "    }\n",
       "\n",
       "    .dataframe tbody tr th {\n",
       "        vertical-align: top;\n",
       "    }\n",
       "\n",
       "    .dataframe thead th {\n",
       "        text-align: right;\n",
       "    }\n",
       "</style>\n",
       "<table border=\"1\" class=\"dataframe\">\n",
       "  <thead>\n",
       "    <tr style=\"text-align: right;\">\n",
       "      <th>dropoff_time_braket</th>\n",
       "      <th>0</th>\n",
       "      <th>1</th>\n",
       "      <th>2</th>\n",
       "      <th>3</th>\n",
       "      <th>4</th>\n",
       "      <th>5</th>\n",
       "      <th>6</th>\n",
       "      <th>7</th>\n",
       "      <th>8</th>\n",
       "      <th>9</th>\n",
       "      <th>10</th>\n",
       "      <th>11</th>\n",
       "    </tr>\n",
       "    <tr>\n",
       "      <th>pickup_time_braket</th>\n",
       "      <th></th>\n",
       "      <th></th>\n",
       "      <th></th>\n",
       "      <th></th>\n",
       "      <th></th>\n",
       "      <th></th>\n",
       "      <th></th>\n",
       "      <th></th>\n",
       "      <th></th>\n",
       "      <th></th>\n",
       "      <th></th>\n",
       "      <th></th>\n",
       "    </tr>\n",
       "  </thead>\n",
       "  <tbody>\n",
       "    <tr>\n",
       "      <th>0</th>\n",
       "      <td>NaN</td>\n",
       "      <td>NaN</td>\n",
       "      <td>NaN</td>\n",
       "      <td>NaN</td>\n",
       "      <td>NaN</td>\n",
       "      <td>NaN</td>\n",
       "      <td>NaN</td>\n",
       "      <td>NaN</td>\n",
       "      <td>NaN</td>\n",
       "      <td>NaN</td>\n",
       "      <td>NaN</td>\n",
       "      <td>NaN</td>\n",
       "    </tr>\n",
       "    <tr>\n",
       "      <th>1</th>\n",
       "      <td>NaN</td>\n",
       "      <td>NaN</td>\n",
       "      <td>NaN</td>\n",
       "      <td>NaN</td>\n",
       "      <td>NaN</td>\n",
       "      <td>NaN</td>\n",
       "      <td>NaN</td>\n",
       "      <td>NaN</td>\n",
       "      <td>NaN</td>\n",
       "      <td>NaN</td>\n",
       "      <td>NaN</td>\n",
       "      <td>NaN</td>\n",
       "    </tr>\n",
       "    <tr>\n",
       "      <th>2</th>\n",
       "      <td>NaN</td>\n",
       "      <td>NaN</td>\n",
       "      <td>NaN</td>\n",
       "      <td>NaN</td>\n",
       "      <td>NaN</td>\n",
       "      <td>NaN</td>\n",
       "      <td>NaN</td>\n",
       "      <td>NaN</td>\n",
       "      <td>NaN</td>\n",
       "      <td>NaN</td>\n",
       "      <td>NaN</td>\n",
       "      <td>NaN</td>\n",
       "    </tr>\n",
       "    <tr>\n",
       "      <th>3</th>\n",
       "      <td>NaN</td>\n",
       "      <td>NaN</td>\n",
       "      <td>NaN</td>\n",
       "      <td>NaN</td>\n",
       "      <td>NaN</td>\n",
       "      <td>NaN</td>\n",
       "      <td>NaN</td>\n",
       "      <td>NaN</td>\n",
       "      <td>NaN</td>\n",
       "      <td>NaN</td>\n",
       "      <td>NaN</td>\n",
       "      <td>NaN</td>\n",
       "    </tr>\n",
       "    <tr>\n",
       "      <th>4</th>\n",
       "      <td>NaN</td>\n",
       "      <td>NaN</td>\n",
       "      <td>NaN</td>\n",
       "      <td>NaN</td>\n",
       "      <td>NaN</td>\n",
       "      <td>NaN</td>\n",
       "      <td>NaN</td>\n",
       "      <td>NaN</td>\n",
       "      <td>NaN</td>\n",
       "      <td>NaN</td>\n",
       "      <td>NaN</td>\n",
       "      <td>NaN</td>\n",
       "    </tr>\n",
       "    <tr>\n",
       "      <th>5</th>\n",
       "      <td>NaN</td>\n",
       "      <td>NaN</td>\n",
       "      <td>NaN</td>\n",
       "      <td>NaN</td>\n",
       "      <td>NaN</td>\n",
       "      <td>NaN</td>\n",
       "      <td>NaN</td>\n",
       "      <td>NaN</td>\n",
       "      <td>NaN</td>\n",
       "      <td>NaN</td>\n",
       "      <td>NaN</td>\n",
       "      <td>NaN</td>\n",
       "    </tr>\n",
       "    <tr>\n",
       "      <th>6</th>\n",
       "      <td>NaN</td>\n",
       "      <td>NaN</td>\n",
       "      <td>NaN</td>\n",
       "      <td>NaN</td>\n",
       "      <td>NaN</td>\n",
       "      <td>NaN</td>\n",
       "      <td>NaN</td>\n",
       "      <td>NaN</td>\n",
       "      <td>NaN</td>\n",
       "      <td>NaN</td>\n",
       "      <td>NaN</td>\n",
       "      <td>NaN</td>\n",
       "    </tr>\n",
       "    <tr>\n",
       "      <th>7</th>\n",
       "      <td>NaN</td>\n",
       "      <td>NaN</td>\n",
       "      <td>NaN</td>\n",
       "      <td>NaN</td>\n",
       "      <td>NaN</td>\n",
       "      <td>NaN</td>\n",
       "      <td>NaN</td>\n",
       "      <td>NaN</td>\n",
       "      <td>NaN</td>\n",
       "      <td>NaN</td>\n",
       "      <td>NaN</td>\n",
       "      <td>NaN</td>\n",
       "    </tr>\n",
       "    <tr>\n",
       "      <th>8</th>\n",
       "      <td>NaN</td>\n",
       "      <td>NaN</td>\n",
       "      <td>NaN</td>\n",
       "      <td>NaN</td>\n",
       "      <td>NaN</td>\n",
       "      <td>NaN</td>\n",
       "      <td>NaN</td>\n",
       "      <td>NaN</td>\n",
       "      <td>NaN</td>\n",
       "      <td>NaN</td>\n",
       "      <td>NaN</td>\n",
       "      <td>NaN</td>\n",
       "    </tr>\n",
       "    <tr>\n",
       "      <th>9</th>\n",
       "      <td>0.000000</td>\n",
       "      <td>0.0</td>\n",
       "      <td>0.0</td>\n",
       "      <td>0.0</td>\n",
       "      <td>0.0</td>\n",
       "      <td>0.0</td>\n",
       "      <td>0.0</td>\n",
       "      <td>0.0</td>\n",
       "      <td>0.0</td>\n",
       "      <td>0.897934</td>\n",
       "      <td>0.102066</td>\n",
       "      <td>0.000000</td>\n",
       "    </tr>\n",
       "    <tr>\n",
       "      <th>10</th>\n",
       "      <td>0.000000</td>\n",
       "      <td>0.0</td>\n",
       "      <td>0.0</td>\n",
       "      <td>0.0</td>\n",
       "      <td>0.0</td>\n",
       "      <td>0.0</td>\n",
       "      <td>0.0</td>\n",
       "      <td>0.0</td>\n",
       "      <td>0.0</td>\n",
       "      <td>0.000000</td>\n",
       "      <td>0.894882</td>\n",
       "      <td>0.105118</td>\n",
       "    </tr>\n",
       "    <tr>\n",
       "      <th>11</th>\n",
       "      <td>0.081037</td>\n",
       "      <td>0.0</td>\n",
       "      <td>0.0</td>\n",
       "      <td>0.0</td>\n",
       "      <td>0.0</td>\n",
       "      <td>0.0</td>\n",
       "      <td>0.0</td>\n",
       "      <td>0.0</td>\n",
       "      <td>0.0</td>\n",
       "      <td>0.000000</td>\n",
       "      <td>0.000000</td>\n",
       "      <td>0.918963</td>\n",
       "    </tr>\n",
       "  </tbody>\n",
       "</table>\n",
       "</div>"
      ],
      "text/plain": [
       "dropoff_time_braket        0    1    2    3    4    5    6    7    8   \\\n",
       "pickup_time_braket                                                      \n",
       "0                         NaN  NaN  NaN  NaN  NaN  NaN  NaN  NaN  NaN   \n",
       "1                         NaN  NaN  NaN  NaN  NaN  NaN  NaN  NaN  NaN   \n",
       "2                         NaN  NaN  NaN  NaN  NaN  NaN  NaN  NaN  NaN   \n",
       "3                         NaN  NaN  NaN  NaN  NaN  NaN  NaN  NaN  NaN   \n",
       "4                         NaN  NaN  NaN  NaN  NaN  NaN  NaN  NaN  NaN   \n",
       "5                         NaN  NaN  NaN  NaN  NaN  NaN  NaN  NaN  NaN   \n",
       "6                         NaN  NaN  NaN  NaN  NaN  NaN  NaN  NaN  NaN   \n",
       "7                         NaN  NaN  NaN  NaN  NaN  NaN  NaN  NaN  NaN   \n",
       "8                         NaN  NaN  NaN  NaN  NaN  NaN  NaN  NaN  NaN   \n",
       "9                    0.000000  0.0  0.0  0.0  0.0  0.0  0.0  0.0  0.0   \n",
       "10                   0.000000  0.0  0.0  0.0  0.0  0.0  0.0  0.0  0.0   \n",
       "11                   0.081037  0.0  0.0  0.0  0.0  0.0  0.0  0.0  0.0   \n",
       "\n",
       "dropoff_time_braket        9         10        11  \n",
       "pickup_time_braket                                 \n",
       "0                         NaN       NaN       NaN  \n",
       "1                         NaN       NaN       NaN  \n",
       "2                         NaN       NaN       NaN  \n",
       "3                         NaN       NaN       NaN  \n",
       "4                         NaN       NaN       NaN  \n",
       "5                         NaN       NaN       NaN  \n",
       "6                         NaN       NaN       NaN  \n",
       "7                         NaN       NaN       NaN  \n",
       "8                         NaN       NaN       NaN  \n",
       "9                    0.897934  0.102066  0.000000  \n",
       "10                   0.000000  0.894882  0.105118  \n",
       "11                   0.000000  0.000000  0.918963  "
      ]
     },
     "execution_count": 14,
     "metadata": {},
     "output_type": "execute_result"
    }
   ],
   "source": [
    "pdf_color_horizontal_pct = pdf.div(pdf.sum(axis=1), axis=0)\n",
    "pdf_color_horizontal_pct"
   ]
  },
  {
   "cell_type": "markdown",
   "id": "b22dab0b",
   "metadata": {},
   "source": [
    "### plot"
   ]
  },
  {
   "cell_type": "code",
   "execution_count": 15,
   "id": "ffa9115b",
   "metadata": {},
   "outputs": [
    {
     "data": {
      "image/png": "[encoded data removed]",
      "text/plain": [
       "<Figure size 800x800 with 2 Axes>"
      ]
     },
     "metadata": {},
     "output_type": "display_data"
    }
   ],
   "source": [
    "plot_transition_matrix(\n",
    "    transition_matrix_df=pdf,\n",
    "    color_transition_matrix_df=pdf_color_tip,\n",
    "    title=\"State Transition Matrix Volume (Tip Rate %)\",\n",
    "    display_transition_rates=True,\n",
    "    ax=None,\n",
    "    figsize=(8, 8),\n",
    "    fontsize=9,\n",
    "    colorbar_label=\"Tip Rate (%)\"\n",
    ")\n",
    "\n",
    "plt.tight_layout()"
   ]
  },
  {
   "cell_type": "code",
   "execution_count": null,
   "id": "23f82291",
   "metadata": {},
   "outputs": [],
   "source": []
  }
 ],
 "metadata": {
  "kernelspec": {
   "display_name": "Python 3",
   "language": "python",
   "name": "python3"
  },
  "language_info": {
   "codemirror_mode": {
    "name": "ipython",
    "version": 3
   },
   "file_extension": ".py",
   "mimetype": "text/x-python",
   "name": "python",
   "nbconvert_exporter": "python",
   "pygments_lexer": "ipython3",
   "version": "3.13.2"
  }
 },
 "nbformat": 4,
 "nbformat_minor": 5
}
