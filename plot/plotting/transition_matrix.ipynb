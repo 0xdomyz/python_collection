{
 "cells": [
  {
   "cell_type": "code",
   "execution_count": 1,
   "id": "2301f4ca",
   "metadata": {},
   "outputs": [],
   "source": [
    "import matplotlib.pyplot as plt\n",
    "import matplotlib as mpl\n",
    "import numpy as np\n",
    "import pandas as pd\n",
    "import statsmodels.api as sm\n",
    "from scipy import stats"
   ]
  },
  {
   "cell_type": "code",
   "execution_count": 2,
   "id": "06c261f2",
   "metadata": {},
   "outputs": [],
   "source": [
    "from pylibs.transition_matrix import plot_transition_matrix"
   ]
  },
  {
   "cell_type": "markdown",
   "id": "8cc44cd5",
   "metadata": {},
   "source": [
    "### func"
   ]
  },
  {
   "cell_type": "code",
   "execution_count": null,
   "id": "bd648561",
   "metadata": {},
   "outputs": [],
   "source": [
    "def make_spine(from_vals:list, to_vals:list, from_col:str = \"from\", to_col:str = \"to\") -> pd.DataFrame:\n",
    "\n",
    "    # hardcode version\n",
    "    # from_vals = list(range(12))\n",
    "    # to_vals = list(range(12))\n",
    "\n",
    "    spine = pd.MultiIndex.from_product(\n",
    "        [from_vals, to_vals],\n",
    "        names=[from_col, to_col]\n",
    "    ).to_frame(index=False)\n",
    "    return spine"
   ]
  },
  {
   "cell_type": "code",
   "execution_count": null,
   "id": "7b898459",
   "metadata": {},
   "outputs": [],
   "source": []
  },
  {
   "cell_type": "markdown",
   "id": "d78767c4",
   "metadata": {},
   "source": [
    "### data"
   ]
  },
  {
   "cell_type": "code",
   "execution_count": 12,
   "id": "c28cf7a0",
   "metadata": {},
   "outputs": [
    {
     "name": "stdout",
     "output_type": "stream",
     "text": [
      "df.shape = (6433, 16)\n",
      "                                       0\n",
      "pickup               2019-03-23 20:21:09\n",
      "dropoff              2019-03-23 20:27:24\n",
      "passengers                             1\n",
      "distance                             1.6\n",
      "fare                                 7.0\n",
      "tip                                 2.15\n",
      "tolls                                0.0\n",
      "total                              12.95\n",
      "color                             yellow\n",
      "payment                      credit card\n",
      "pickup_zone              Lenox Hill West\n",
      "dropoff_zone         UN/Turtle Bay South\n",
      "pickup_borough                 Manhattan\n",
      "dropoff_borough                Manhattan\n",
      "pickup_time_braket                    10\n",
      "dropoff_time_braket                   10\n"
     ]
    }
   ],
   "source": [
    "df = pd.read_csv(\"taxis.csv\")\n",
    "df['pickup_time_braket'] = pd.to_datetime(df['pickup']).dt.hour // 2\n",
    "df['dropoff_time_braket'] = pd.to_datetime(df['dropoff']).dt.hour // 2\n",
    "print(f\"{df.shape = }\")\n",
    "print(df.head(1).T.to_string())"
   ]
  },
  {
   "cell_type": "markdown",
   "id": "4736b216",
   "metadata": {},
   "source": [
    "### data prep"
   ]
  },
  {
   "cell_type": "code",
   "execution_count": null,
   "id": "6c39c1ab",
   "metadata": {},
   "outputs": [],
   "source": [
    "col_from, col_to = \"pickup_time_braket\", \"dropoff_time_braket\""
   ]
  },
  {
   "cell_type": "code",
   "execution_count": 24,
   "id": "dfb95f25",
   "metadata": {},
   "outputs": [
    {
     "data": {
      "application/vnd.microsoft.datawrangler.viewer.v0+json": {
       "columns": [
        {
         "name": "index",
         "rawType": "int64",
         "type": "integer"
        },
        {
         "name": "pickup_time_braket",
         "rawType": "int32",
         "type": "integer"
        },
        {
         "name": "dropoff_time_braket",
         "rawType": "int32",
         "type": "integer"
        }
       ],
       "ref": "0968cffd-69f8-40b0-86fb-d7f703bd7ceb",
       "rows": [
        [
         "0",
         "10",
         "10"
        ],
        [
         "1",
         "10",
         "8"
        ],
        [
         "2",
         "10",
         "9"
        ],
        [
         "3",
         "10",
         "0"
        ],
        [
         "4",
         "10",
         "6"
        ]
       ],
       "shape": {
        "columns": 2,
        "rows": 5
       }
      },
      "text/html": [
       "<div>\n",
       "<style scoped>\n",
       "    .dataframe tbody tr th:only-of-type {\n",
       "        vertical-align: middle;\n",
       "    }\n",
       "\n",
       "    .dataframe tbody tr th {\n",
       "        vertical-align: top;\n",
       "    }\n",
       "\n",
       "    .dataframe thead th {\n",
       "        text-align: right;\n",
       "    }\n",
       "</style>\n",
       "<table border=\"1\" class=\"dataframe\">\n",
       "  <thead>\n",
       "    <tr style=\"text-align: right;\">\n",
       "      <th></th>\n",
       "      <th>pickup_time_braket</th>\n",
       "      <th>dropoff_time_braket</th>\n",
       "    </tr>\n",
       "  </thead>\n",
       "  <tbody>\n",
       "    <tr>\n",
       "      <th>0</th>\n",
       "      <td>10</td>\n",
       "      <td>10</td>\n",
       "    </tr>\n",
       "    <tr>\n",
       "      <th>1</th>\n",
       "      <td>10</td>\n",
       "      <td>8</td>\n",
       "    </tr>\n",
       "    <tr>\n",
       "      <th>2</th>\n",
       "      <td>10</td>\n",
       "      <td>9</td>\n",
       "    </tr>\n",
       "    <tr>\n",
       "      <th>3</th>\n",
       "      <td>10</td>\n",
       "      <td>0</td>\n",
       "    </tr>\n",
       "    <tr>\n",
       "      <th>4</th>\n",
       "      <td>10</td>\n",
       "      <td>6</td>\n",
       "    </tr>\n",
       "  </tbody>\n",
       "</table>\n",
       "</div>"
      ],
      "text/plain": [
       "   pickup_time_braket  dropoff_time_braket\n",
       "0                  10                   10\n",
       "1                  10                    8\n",
       "2                  10                    9\n",
       "3                  10                    0\n",
       "4                  10                    6"
      ]
     },
     "execution_count": 24,
     "metadata": {},
     "output_type": "execute_result"
    }
   ],
   "source": [
    "spine = make_spine(\n",
    "    df['pickup_time_braket'].unique(), \n",
    "    df['dropoff_time_braket'].unique(),\n",
    "    col_from, col_to\n",
    ")\n",
    "spine.head()"
   ]
  },
  {
   "cell_type": "code",
   "execution_count": 34,
   "id": "e297abdc",
   "metadata": {},
   "outputs": [
    {
     "data": {
      "application/vnd.microsoft.datawrangler.viewer.v0+json": {
       "columns": [
        {
         "name": "index",
         "rawType": "int64",
         "type": "integer"
        },
        {
         "name": "pickup_time_braket",
         "rawType": "int32",
         "type": "integer"
        },
        {
         "name": "dropoff_time_braket",
         "rawType": "int32",
         "type": "integer"
        },
        {
         "name": "n",
         "rawType": "float64",
         "type": "float"
        },
        {
         "name": "tip_pct",
         "rawType": "float64",
         "type": "float"
        },
        {
         "name": "avg_distance",
         "rawType": "float64",
         "type": "float"
        },
        {
         "name": "payment_first",
         "rawType": "object",
         "type": "unknown"
        }
       ],
       "ref": "6131fdb4-0454-437a-9812-f8a266c2c4fd",
       "rows": [
        [
         "0",
         "10",
         "10",
         "647.0",
         "0.16700938334633295",
         "2.754404945904173",
         "credit card"
        ],
        [
         "1",
         "10",
         "8",
         null,
         null,
         null,
         null
        ],
        [
         "2",
         "10",
         "9",
         null,
         null,
         null,
         null
        ],
        [
         "3",
         "10",
         "0",
         null,
         null,
         null,
         null
        ],
        [
         "4",
         "10",
         "6",
         null,
         null,
         null,
         null
        ],
        [
         "5",
         "10",
         "5",
         null,
         null,
         null,
         null
        ],
        [
         "6",
         "10",
         "4",
         null,
         null,
         null,
         null
        ],
        [
         "7",
         "10",
         "3",
         null,
         null,
         null,
         null
        ],
        [
         "8",
         "10",
         "11",
         "76.0",
         "0.1625128380691544",
         "5.331447368421053",
         "cash"
        ],
        [
         "9",
         "10",
         "1",
         null,
         null,
         null,
         null
        ],
        [
         "10",
         "10",
         "7",
         null,
         null,
         null,
         null
        ],
        [
         "11",
         "10",
         "2",
         null,
         null,
         null,
         null
        ],
        [
         "12",
         "8",
         "10",
         null,
         null,
         null,
         null
        ],
        [
         "13",
         "8",
         "8",
         null,
         null,
         null,
         null
        ],
        [
         "14",
         "8",
         "9",
         null,
         null,
         null,
         null
        ],
        [
         "15",
         "8",
         "0",
         null,
         null,
         null,
         null
        ],
        [
         "16",
         "8",
         "6",
         null,
         null,
         null,
         null
        ],
        [
         "17",
         "8",
         "5",
         null,
         null,
         null,
         null
        ],
        [
         "18",
         "8",
         "4",
         null,
         null,
         null,
         null
        ],
        [
         "19",
         "8",
         "3",
         null,
         null,
         null,
         null
        ],
        [
         "20",
         "8",
         "11",
         null,
         null,
         null,
         null
        ],
        [
         "21",
         "8",
         "1",
         null,
         null,
         null,
         null
        ],
        [
         "22",
         "8",
         "7",
         null,
         null,
         null,
         null
        ],
        [
         "23",
         "8",
         "2",
         null,
         null,
         null,
         null
        ],
        [
         "24",
         "0",
         "10",
         null,
         null,
         null,
         null
        ],
        [
         "25",
         "0",
         "8",
         null,
         null,
         null,
         null
        ],
        [
         "26",
         "0",
         "9",
         null,
         null,
         null,
         null
        ],
        [
         "27",
         "0",
         "0",
         null,
         null,
         null,
         null
        ],
        [
         "28",
         "0",
         "6",
         null,
         null,
         null,
         null
        ],
        [
         "29",
         "0",
         "5",
         null,
         null,
         null,
         null
        ],
        [
         "30",
         "0",
         "4",
         null,
         null,
         null,
         null
        ],
        [
         "31",
         "0",
         "3",
         null,
         null,
         null,
         null
        ],
        [
         "32",
         "0",
         "11",
         null,
         null,
         null,
         null
        ],
        [
         "33",
         "0",
         "1",
         null,
         null,
         null,
         null
        ],
        [
         "34",
         "0",
         "7",
         null,
         null,
         null,
         null
        ],
        [
         "35",
         "0",
         "2",
         null,
         null,
         null,
         null
        ],
        [
         "36",
         "6",
         "10",
         null,
         null,
         null,
         null
        ],
        [
         "37",
         "6",
         "8",
         null,
         null,
         null,
         null
        ],
        [
         "38",
         "6",
         "9",
         null,
         null,
         null,
         null
        ],
        [
         "39",
         "6",
         "0",
         null,
         null,
         null,
         null
        ],
        [
         "40",
         "6",
         "6",
         null,
         null,
         null,
         null
        ],
        [
         "41",
         "6",
         "5",
         null,
         null,
         null,
         null
        ],
        [
         "42",
         "6",
         "4",
         null,
         null,
         null,
         null
        ],
        [
         "43",
         "6",
         "3",
         null,
         null,
         null,
         null
        ],
        [
         "44",
         "6",
         "11",
         null,
         null,
         null,
         null
        ],
        [
         "45",
         "6",
         "1",
         null,
         null,
         null,
         null
        ],
        [
         "46",
         "6",
         "7",
         null,
         null,
         null,
         null
        ],
        [
         "47",
         "6",
         "2",
         null,
         null,
         null,
         null
        ],
        [
         "48",
         "5",
         "10",
         null,
         null,
         null,
         null
        ],
        [
         "49",
         "5",
         "8",
         null,
         null,
         null,
         null
        ]
       ],
       "shape": {
        "columns": 6,
        "rows": 144
       }
      },
      "text/html": [
       "<div>\n",
       "<style scoped>\n",
       "    .dataframe tbody tr th:only-of-type {\n",
       "        vertical-align: middle;\n",
       "    }\n",
       "\n",
       "    .dataframe tbody tr th {\n",
       "        vertical-align: top;\n",
       "    }\n",
       "\n",
       "    .dataframe thead th {\n",
       "        text-align: right;\n",
       "    }\n",
       "</style>\n",
       "<table border=\"1\" class=\"dataframe\">\n",
       "  <thead>\n",
       "    <tr style=\"text-align: right;\">\n",
       "      <th></th>\n",
       "      <th>pickup_time_braket</th>\n",
       "      <th>dropoff_time_braket</th>\n",
       "      <th>n</th>\n",
       "      <th>tip_pct</th>\n",
       "      <th>avg_distance</th>\n",
       "      <th>payment_first</th>\n",
       "    </tr>\n",
       "  </thead>\n",
       "  <tbody>\n",
       "    <tr>\n",
       "      <th>0</th>\n",
       "      <td>10</td>\n",
       "      <td>10</td>\n",
       "      <td>647.0</td>\n",
       "      <td>0.167009</td>\n",
       "      <td>2.754405</td>\n",
       "      <td>credit card</td>\n",
       "    </tr>\n",
       "    <tr>\n",
       "      <th>1</th>\n",
       "      <td>10</td>\n",
       "      <td>8</td>\n",
       "      <td>NaN</td>\n",
       "      <td>NaN</td>\n",
       "      <td>NaN</td>\n",
       "      <td>NaN</td>\n",
       "    </tr>\n",
       "    <tr>\n",
       "      <th>2</th>\n",
       "      <td>10</td>\n",
       "      <td>9</td>\n",
       "      <td>NaN</td>\n",
       "      <td>NaN</td>\n",
       "      <td>NaN</td>\n",
       "      <td>NaN</td>\n",
       "    </tr>\n",
       "    <tr>\n",
       "      <th>3</th>\n",
       "      <td>10</td>\n",
       "      <td>0</td>\n",
       "      <td>NaN</td>\n",
       "      <td>NaN</td>\n",
       "      <td>NaN</td>\n",
       "      <td>NaN</td>\n",
       "    </tr>\n",
       "    <tr>\n",
       "      <th>4</th>\n",
       "      <td>10</td>\n",
       "      <td>6</td>\n",
       "      <td>NaN</td>\n",
       "      <td>NaN</td>\n",
       "      <td>NaN</td>\n",
       "      <td>NaN</td>\n",
       "    </tr>\n",
       "    <tr>\n",
       "      <th>...</th>\n",
       "      <td>...</td>\n",
       "      <td>...</td>\n",
       "      <td>...</td>\n",
       "      <td>...</td>\n",
       "      <td>...</td>\n",
       "      <td>...</td>\n",
       "    </tr>\n",
       "    <tr>\n",
       "      <th>139</th>\n",
       "      <td>2</td>\n",
       "      <td>3</td>\n",
       "      <td>11.0</td>\n",
       "      <td>0.155017</td>\n",
       "      <td>8.927273</td>\n",
       "      <td>credit card</td>\n",
       "    </tr>\n",
       "    <tr>\n",
       "      <th>140</th>\n",
       "      <td>2</td>\n",
       "      <td>11</td>\n",
       "      <td>NaN</td>\n",
       "      <td>NaN</td>\n",
       "      <td>NaN</td>\n",
       "      <td>NaN</td>\n",
       "    </tr>\n",
       "    <tr>\n",
       "      <th>141</th>\n",
       "      <td>2</td>\n",
       "      <td>1</td>\n",
       "      <td>NaN</td>\n",
       "      <td>NaN</td>\n",
       "      <td>NaN</td>\n",
       "      <td>NaN</td>\n",
       "    </tr>\n",
       "    <tr>\n",
       "      <th>142</th>\n",
       "      <td>2</td>\n",
       "      <td>7</td>\n",
       "      <td>NaN</td>\n",
       "      <td>NaN</td>\n",
       "      <td>NaN</td>\n",
       "      <td>NaN</td>\n",
       "    </tr>\n",
       "    <tr>\n",
       "      <th>143</th>\n",
       "      <td>2</td>\n",
       "      <td>2</td>\n",
       "      <td>97.0</td>\n",
       "      <td>0.166032</td>\n",
       "      <td>4.286289</td>\n",
       "      <td>cash</td>\n",
       "    </tr>\n",
       "  </tbody>\n",
       "</table>\n",
       "<p>144 rows × 6 columns</p>\n",
       "</div>"
      ],
      "text/plain": [
       "     pickup_time_braket  dropoff_time_braket  ...  avg_distance  payment_first\n",
       "0                    10                   10  ...      2.754405    credit card\n",
       "1                    10                    8  ...           NaN            NaN\n",
       "2                    10                    9  ...           NaN            NaN\n",
       "3                    10                    0  ...           NaN            NaN\n",
       "4                    10                    6  ...           NaN            NaN\n",
       "..                  ...                  ...  ...           ...            ...\n",
       "139                   2                    3  ...      8.927273    credit card\n",
       "140                   2                   11  ...           NaN            NaN\n",
       "141                   2                    1  ...           NaN            NaN\n",
       "142                   2                    7  ...           NaN            NaN\n",
       "143                   2                    2  ...      4.286289           cash\n",
       "\n",
       "[144 rows x 6 columns]"
      ]
     },
     "execution_count": 34,
     "metadata": {},
     "output_type": "execute_result"
    }
   ],
   "source": [
    "gdf = (\n",
    "    df\n",
    "    .loc[lambda x: x[col_from].isin([1,2,3,4,5,9,10,11]),:]\n",
    "    .groupby([col_from, col_to], dropna=False, observed=False, as_index=False)\n",
    "    .agg(\n",
    "        **{\n",
    "            \"n\": (col_from, \"size\"),\n",
    "            'tip_pct': (col_from, lambda x: df.loc[x.index, 'tip'].sum()/df.loc[x.index, 'fare'].sum()),\n",
    "            'avg_distance': ('distance', 'mean'),\n",
    "            'payment_first': ('payment', lambda x: x.iloc[0]),\n",
    "        }\n",
    "    )\n",
    ")\n",
    "gdf = spine.merge(gdf, on=[col_from, col_to], how=\"left\")\n",
    "\n",
    "gdf"
   ]
  },
  {
   "cell_type": "code",
   "execution_count": 41,
   "id": "b6a00565",
   "metadata": {},
   "outputs": [
    {
     "name": "stdout",
     "output_type": "stream",
     "text": [
      "dropoff_time_braket   0    1    2    3    4    5    6    7    8    9    10   11\n",
      "pickup_time_braket                                                             \n",
      "0                    0.0  0.0  0.0  0.0  0.0  0.0  0.0  0.0  0.0  0.0  0.0  0.0\n"
     ]
    }
   ],
   "source": [
    "pdf = gdf.pivot_table(index=col_from, columns=col_to, values=\"n\", fill_value=0, dropna=False)\n",
    "print(pdf.head(1).to_string())"
   ]
  },
  {
   "cell_type": "code",
   "execution_count": 42,
   "id": "129f9050",
   "metadata": {},
   "outputs": [
    {
     "name": "stdout",
     "output_type": "stream",
     "text": [
      "dropoff_time_braket   0    1    2    3    4    5    6    7    8    9    10   11\n",
      "pickup_time_braket                                                             \n",
      "0                    0.0  0.0  0.0  0.0  0.0  0.0  0.0  0.0  0.0  0.0  0.0  0.0\n"
     ]
    }
   ],
   "source": [
    "pdf_tip_pct = gdf.pivot_table(index=col_from, columns=col_to, values=\"tip_pct\", fill_value=0, dropna=False)\n",
    "print(pdf_tip_pct.head(1).to_string())"
   ]
  },
  {
   "cell_type": "code",
   "execution_count": 43,
   "id": "cf73e4c0",
   "metadata": {},
   "outputs": [
    {
     "name": "stdout",
     "output_type": "stream",
     "text": [
      "dropoff_time_braket   0    1    2    3    4    5    6    7    8    9    10   11\n",
      "pickup_time_braket                                                             \n",
      "0                    0.0  0.0  0.0  0.0  0.0  0.0  0.0  0.0  0.0  0.0  0.0  0.0\n"
     ]
    }
   ],
   "source": [
    "pdf_avg_distance = gdf.pivot_table(index=col_from, columns=col_to, values=\"avg_distance\", fill_value=0, dropna=False)\n",
    "print(pdf_avg_distance.head(1).to_string())"
   ]
  },
  {
   "cell_type": "code",
   "execution_count": 47,
   "id": "b2dd0ed2",
   "metadata": {},
   "outputs": [
    {
     "name": "stdout",
     "output_type": "stream",
     "text": [
      "dropoff_time_braket   0            1     2    3    4    5    6    7    8    9    10   11\n",
      "pickup_time_braket                                                                      \n",
      "0                    NaN          NaN   NaN  NaN  NaN  NaN  NaN  NaN  NaN  NaN  NaN  NaN\n",
      "1                    NaN  credit card  cash  NaN  NaN  NaN  NaN  NaN  NaN  NaN  NaN  NaN\n"
     ]
    }
   ],
   "source": [
    "pdf_payment_first = gdf.pivot(index=col_from, columns=col_to, values=\"payment_first\")\n",
    "print(pdf_payment_first.head(2).to_string())"
   ]
  },
  {
   "cell_type": "code",
   "execution_count": 46,
   "id": "7fa32ef4",
   "metadata": {},
   "outputs": [
    {
     "name": "stdout",
     "output_type": "stream",
     "text": [
      "dropoff_time_braket   0         1         2    3    4    5    6    7    8    9    10   11\n",
      "pickup_time_braket                                                                       \n",
      "0                    NaN       NaN       NaN  NaN  NaN  NaN  NaN  NaN  NaN  NaN  NaN  NaN\n",
      "1                    0.0  0.952381  0.047619  0.0  0.0  0.0  0.0  0.0  0.0  0.0  0.0  0.0\n"
     ]
    }
   ],
   "source": [
    "pdf_hori_distn_pct = pdf.div(pdf.sum(axis=1), axis=0)\n",
    "print(pdf_hori_distn_pct.head(2).to_string())"
   ]
  },
  {
   "cell_type": "markdown",
   "id": "b22dab0b",
   "metadata": {},
   "source": [
    "### plot"
   ]
  },
  {
   "cell_type": "code",
   "execution_count": null,
   "id": "ffa9115b",
   "metadata": {},
   "outputs": [
    {
     "data": {
      "image/png": "[encoded data removed]",
      "text/plain": [
       "<Figure size 800x800 with 2 Axes>"
      ]
     },
     "metadata": {},
     "output_type": "display_data"
    }
   ],
   "source": [
    "plot_transition_matrix(\n",
    "    transition_matrix_df=pdf.sort_index(ascending=False),\n",
    "    color_transition_matrix_df=pdf_tip_pct.sort_index(ascending=False),\n",
    "    title=\"State Transition Matrix Volume (Tip Rate %)\",\n",
    "    display_transition_rates=True,\n",
    "    ax=None,\n",
    "    figsize=(8, 8),\n",
    "    fontsize=9,\n",
    "    colorbar_label=\"Tip Rate (%)\"\n",
    ")\n",
    "plt.tight_layout()"
   ]
  },
  {
   "cell_type": "code",
   "execution_count": null,
   "id": "23f82291",
   "metadata": {},
   "outputs": [],
   "source": []
  }
 ],
 "metadata": {
  "kernelspec": {
   "display_name": "Python 3",
   "language": "python",
   "name": "python3"
  },
  "language_info": {
   "codemirror_mode": {
    "name": "ipython",
    "version": 3
   },
   "file_extension": ".py",
   "mimetype": "text/x-python",
   "name": "python",
   "nbconvert_exporter": "python",
   "pygments_lexer": "ipython3",
   "version": "3.13.2"
  }
 },
 "nbformat": 4,
 "nbformat_minor": 5
}
