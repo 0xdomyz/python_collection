{
 "cells": [
  {
   "cell_type": "markdown",
   "id": "cb258c55",
   "metadata": {},
   "source": [
    "### output"
   ]
  },
  {
   "cell_type": "code",
   "execution_count": null,
   "id": "8d8a0cbc",
   "metadata": {},
   "outputs": [],
   "source": [
    "# png in folder"
   ]
  },
  {
   "cell_type": "code",
   "execution_count": null,
   "id": "5c9793c5",
   "metadata": {},
   "outputs": [],
   "source": [
    "# excel"
   ]
  },
  {
   "cell_type": "code",
   "execution_count": null,
   "id": "196a64ce",
   "metadata": {},
   "outputs": [],
   "source": [
    "# slides"
   ]
  },
  {
   "cell_type": "code",
   "execution_count": null,
   "id": "f3a46884",
   "metadata": {},
   "outputs": [],
   "source": []
  }
 ],
 "metadata": {
  "kernelspec": {
   "display_name": "Python 3",
   "language": "python",
   "name": "python3"
  },
  "language_info": {
   "codemirror_mode": {
    "name": "ipython",
    "version": 3
   },
   "file_extension": ".py",
   "mimetype": "text/x-python",
   "name": "python",
   "nbconvert_exporter": "python",
   "pygments_lexer": "ipython3",
   "version": "3.13.2"
  }
 },
 "nbformat": 4,
 "nbformat_minor": 5
}
