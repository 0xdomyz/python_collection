{
 "cells": [
  {
   "cell_type": "code",
   "execution_count": null,
   "id": "5664736b",
   "metadata": {},
   "outputs": [],
   "source": [
    "import numpy as np\n",
    "import pandas as pd\n",
    "import matplotlib.pyplot as plt\n",
    "import matplotlib as mpl"
   ]
  },
  {
   "cell_type": "markdown",
   "id": "61c1561f",
   "metadata": {},
   "source": [
    "### example"
   ]
  },
  {
   "cell_type": "code",
   "execution_count": null,
   "id": "4c25bb7e",
   "metadata": {},
   "outputs": [],
   "source": []
  },
  {
   "cell_type": "code",
   "execution_count": null,
   "id": "6b02af1b",
   "metadata": {},
   "outputs": [],
   "source": [
    "fig, ax = plt.subplots(1, 1, figsize=(12, 6))"
   ]
  },
  {
   "cell_type": "markdown",
   "id": "622ef340",
   "metadata": {},
   "source": [
    "### ticks, ticklabels, tickparams"
   ]
  },
  {
   "cell_type": "code",
   "execution_count": null,
   "id": "bf505565",
   "metadata": {},
   "outputs": [],
   "source": [
    "ax.set_yticks(yticks)\n",
    "ax.set_yticks(np.arange(-0.5, len(yticks), 1), minor=True)\n",
    "ax.set_yticklabels(yticklabels)\n",
    "ax.set_ylabel(ylabel)\n",
    "\n",
    "ax.set_xticks(xticks)\n",
    "ax.set_xticks(np.arange(-0.5, len(xticks), 1), minor=True)\n",
    "ax.set_xticklabels(xticklabels)\n",
    "ax.set_xlabel(xlabel)"
   ]
  },
  {
   "cell_type": "code",
   "execution_count": null,
   "id": "77a9e307",
   "metadata": {},
   "outputs": [],
   "source": [
    "x = pdf[\"age_bin\"].astype(str)\n",
    "ax.set_xticks(range(len(x)))\n",
    "ax.set_xticklabels(x, rotation=45, ha=\"right\")"
   ]
  },
  {
   "cell_type": "code",
   "execution_count": null,
   "id": "bd4a976e",
   "metadata": {},
   "outputs": [],
   "source": [
    "ax.yaxis.set_major_locator(mpl.ticker.MaxNLocator(nbins=5))\n",
    "ax.yaxis.set_major_formatter(mpl.ticker.PercentFormatter(1.0, decimals=0))"
   ]
  },
  {
   "cell_type": "markdown",
   "id": "a677a7dd",
   "metadata": {},
   "source": [
    "### locator, formatter"
   ]
  },
  {
   "cell_type": "code",
   "execution_count": null,
   "id": "787e1b7f",
   "metadata": {},
   "outputs": [],
   "source": [
    "# axis formatting\n",
    "ax.set_xlabel(\"Date\")\n",
    "ax.xaxis.set_major_locator(mpl.dates.YearLocator())\n",
    "ax.xaxis.set_major_formatter(mpl.dates.DateFormatter(\"%Y-%m-%d\"))\n",
    "ax.xaxis.set_minor_locator(mpl.ticker.AutoMinorLocator(2))\n",
    "ax.tick_params(\"x\", rotation=45)\n",
    "\n",
    "ax.set_ylabel(\"Counts\")\n",
    "ax.yaxis.set_major_locator(mpl.ticker.MultipleLocator(100))\n",
    "ax.yaxis.set_minor_locator(mpl.ticker.AutoMinorLocator(2))\n",
    "\n",
    "fig"
   ]
  },
  {
   "cell_type": "code",
   "execution_count": null,
   "id": "1440df25",
   "metadata": {},
   "outputs": [],
   "source": []
  },
  {
   "cell_type": "markdown",
   "id": "9ba3c4f6",
   "metadata": {},
   "source": [
    "### title, legend, grid, spines, layout\n"
   ]
  },
  {
   "cell_type": "code",
   "execution_count": null,
   "id": "d4a5ea86",
   "metadata": {},
   "outputs": [],
   "source": [
    "ax.set_title(f\"Passenger by time\", fontsize=15, fontweight=\"bold\")\n",
    "ax.legend(loc=\"upper left\", fontsize=10, frameon=False)\n",
    "ax.grid(True, linestyle=\"--\", alpha=0.5)\n",
    "ax.spines[\"top\"].set_visible(False)\n",
    "ax.spines[\"right\"].set_visible(False)\n",
    "plt.tight_layout()\n",
    "fig"
   ]
  },
  {
   "cell_type": "markdown",
   "id": "20d872a7",
   "metadata": {},
   "source": [
    "### text, annotations"
   ]
  },
  {
   "cell_type": "code",
   "execution_count": null,
   "id": "183d41b2",
   "metadata": {},
   "outputs": [],
   "source": [
    "# ax.text(\n",
    "#                 j,\n",
    "#                 i,\n",
    "#                 n_formatter(n_values[i, j]),\n",
    "#                 ha=\"center\",\n",
    "#                 va=\"center\" if s_values is None else \"bottom\",\n",
    "#                 color=text_color,\n",
    "#                 fontsize=n_fontsize,\n",
    "# )"
   ]
  },
  {
   "cell_type": "code",
   "execution_count": null,
   "id": "bccf2118",
   "metadata": {},
   "outputs": [],
   "source": [
    "# annotations\n",
    "for i, row in ts_g.iterrows():\n",
    "    ax.annotate(\n",
    "        f\"{row['max_n_date'].strftime('%Y-%m-%d')}\",\n",
    "        xy=(row[\"max_n_date\"], row[\"max_n\"]),\n",
    "        xytext=(row[\"max_n_date\"], row[\"max_n\"] + 50),\n",
    "        arrowprops=dict(arrowstyle=\"->\", color=\"blue\"),\n",
    "        fontsize=9,\n",
    "        color=\"blue\",\n",
    "    )\n",
    "    ax.annotate(\n",
    "        f\"{row['min_n_date'].strftime('%Y-%m-%d')}\",\n",
    "        xy=(row[\"min_n_date\"], row[\"min_n\"]),\n",
    "        xytext=(row[\"min_n_date\"], row[\"min_n\"] - 50),\n",
    "        arrowprops=dict(arrowstyle=\"->\", color=\"orange\"),\n",
    "        fontsize=9,\n",
    "        color=\"orange\",\n",
    "    )\n",
    "fig"
   ]
  },
  {
   "cell_type": "markdown",
   "id": "2868bb4c",
   "metadata": {},
   "source": [
    "### misc"
   ]
  },
  {
   "cell_type": "code",
   "execution_count": null,
   "id": "76fabc99",
   "metadata": {},
   "outputs": [],
   "source": [
    "# fig.colorbar(\n",
    "#             cax,\n",
    "#             label=colorbar_label,\n",
    "#             format=mticker.FuncFormatter(colorbar_formatter),\n",
    "#             orientation=\"vertical\",\n",
    "#             pad=0.02,\n",
    "#         )"
   ]
  },
  {
   "cell_type": "code",
   "execution_count": null,
   "id": "f4051ef1",
   "metadata": {},
   "outputs": [],
   "source": []
  }
 ],
 "metadata": {
  "language_info": {
   "name": "python"
  }
 },
 "nbformat": 4,
 "nbformat_minor": 5
}
