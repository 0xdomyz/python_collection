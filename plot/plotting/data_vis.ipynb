{
 "cells": [
  {
   "cell_type": "code",
   "execution_count": 1,
   "id": "680847fe",
   "metadata": {},
   "outputs": [],
   "source": [
    "import matplotlib.pyplot as plt\n",
    "import matplotlib as mpl\n",
    "import numpy as np\n",
    "import pandas as pd\n",
    "import statsmodels.api as sm\n",
    "from scipy import stats"
   ]
  },
  {
   "cell_type": "code",
   "execution_count": 6,
   "id": "60a6427d",
   "metadata": {},
   "outputs": [
    {
     "data": {
      "application/vnd.microsoft.datawrangler.viewer.v0+json": {
       "columns": [
        {
         "name": "index",
         "rawType": "int64",
         "type": "integer"
        },
        {
         "name": "date",
         "rawType": "datetime64[ns]",
         "type": "datetime"
        },
        {
         "name": "id",
         "rawType": "int64",
         "type": "integer"
        },
        {
         "name": "target",
         "rawType": "int64",
         "type": "integer"
        },
        {
         "name": "measure",
         "rawType": "int64",
         "type": "integer"
        }
       ],
       "ref": "276fce8d-5be6-44f3-be12-ba981b4ed8fc",
       "rows": [
        [
         "0",
         "2023-01-01 00:00:00",
         "1",
         "0",
         "1"
        ],
        [
         "1",
         "2023-02-01 00:00:00",
         "1",
         "0",
         "1"
        ],
        [
         "2",
         "2023-03-01 00:00:00",
         "1",
         "0",
         "2"
        ],
        [
         "3",
         "2023-04-01 00:00:00",
         "1",
         "1",
         "2"
        ]
       ],
       "shape": {
        "columns": 4,
        "rows": 4
       }
      },
      "text/html": [
       "<div>\n",
       "<style scoped>\n",
       "    .dataframe tbody tr th:only-of-type {\n",
       "        vertical-align: middle;\n",
       "    }\n",
       "\n",
       "    .dataframe tbody tr th {\n",
       "        vertical-align: top;\n",
       "    }\n",
       "\n",
       "    .dataframe thead th {\n",
       "        text-align: right;\n",
       "    }\n",
       "</style>\n",
       "<table border=\"1\" class=\"dataframe\">\n",
       "  <thead>\n",
       "    <tr style=\"text-align: right;\">\n",
       "      <th></th>\n",
       "      <th>date</th>\n",
       "      <th>id</th>\n",
       "      <th>target</th>\n",
       "      <th>measure</th>\n",
       "    </tr>\n",
       "  </thead>\n",
       "  <tbody>\n",
       "    <tr>\n",
       "      <th>0</th>\n",
       "      <td>2023-01-01</td>\n",
       "      <td>1</td>\n",
       "      <td>0</td>\n",
       "      <td>1</td>\n",
       "    </tr>\n",
       "    <tr>\n",
       "      <th>1</th>\n",
       "      <td>2023-02-01</td>\n",
       "      <td>1</td>\n",
       "      <td>0</td>\n",
       "      <td>1</td>\n",
       "    </tr>\n",
       "    <tr>\n",
       "      <th>2</th>\n",
       "      <td>2023-03-01</td>\n",
       "      <td>1</td>\n",
       "      <td>0</td>\n",
       "      <td>2</td>\n",
       "    </tr>\n",
       "    <tr>\n",
       "      <th>3</th>\n",
       "      <td>2023-04-01</td>\n",
       "      <td>1</td>\n",
       "      <td>1</td>\n",
       "      <td>2</td>\n",
       "    </tr>\n",
       "  </tbody>\n",
       "</table>\n",
       "</div>"
      ],
      "text/plain": [
       "        date  id  target  measure\n",
       "0 2023-01-01   1       0        1\n",
       "1 2023-02-01   1       0        1\n",
       "2 2023-03-01   1       0        2\n",
       "3 2023-04-01   1       1        2"
      ]
     },
     "execution_count": 6,
     "metadata": {},
     "output_type": "execute_result"
    }
   ],
   "source": [
    "from io import StringIO\n",
    "\n",
    "data_csv = StringIO(\"\"\"\n",
    "date,id,target,measure\n",
    "2023-01-01,1,0,1\n",
    "2023-02-01,1,0,1\n",
    "2023-03-01,1,0,2\n",
    "2023-04-01,1,1,2\n",
    "\"\"\")\n",
    "\n",
    "df = pd.read_csv(data_csv, parse_dates=['date'])\n",
    "df.head()"
   ]
  },
  {
   "cell_type": "code",
   "execution_count": 8,
   "id": "90bc2ae7",
   "metadata": {},
   "outputs": [
    {
     "data": {
      "image/png": "[encoded data removed]",
      "text/plain": [
       "<Figure size 800x200 with 1 Axes>"
      ]
     },
     "metadata": {},
     "output_type": "display_data"
    }
   ],
   "source": [
    "import matplotlib.pyplot as plt\n",
    "\n",
    "fig, ax = plt.subplots(figsize=(8, 2))\n",
    "\n",
    "# Calculate bar width to nearly cover the distance between x-ticks\n",
    "dates_ord = [d.toordinal() for d in df['date']]\n",
    "if len(dates_ord) > 1:\n",
    "    min_gap = min(np.diff(sorted(dates_ord)))\n",
    "    bar_width = min_gap * 0.95  # 95% of the gap\n",
    "else:\n",
    "    bar_width = 1  # fallback for single date\n",
    "\n",
    "# Plot each observation as a rectangle\n",
    "for _, row in df.iterrows():\n",
    "    ax.broken_barh(\n",
    "        [(row['date'].toordinal() - bar_width/2, bar_width)],  # center the bar\n",
    "        (row['id'] - 0.4, 0.8),\n",
    "        facecolors=plt.cm.viridis(row['measure'] / df['measure'].max())\n",
    "    )\n",
    "\n",
    "ax.set_yticks(df['id'].unique())\n",
    "ax.set_yticklabels(df['id'].unique())\n",
    "ax.set_xlabel('Date')\n",
    "ax.set_ylabel('ID')\n",
    "ax.set_xticks(dates_ord)\n",
    "ax.set_xticklabels(df['date'].dt.strftime('%Y-%m-%d'), rotation=45)\n",
    "plt.tight_layout()\n",
    "plt.show()"
   ]
  },
  {
   "cell_type": "code",
   "execution_count": 14,
   "id": "2a986fea",
   "metadata": {},
   "outputs": [
    {
     "data": {
      "image/png": "[encoded data removed]",
      "text/plain": [
       "<Figure size 800x400 with 1 Axes>"
      ]
     },
     "metadata": {},
     "output_type": "display_data"
    }
   ],
   "source": [
    "import matplotlib.patches as mpatches\n",
    "import matplotlib.pyplot as plt\n",
    "\n",
    "fig, ax = plt.subplots(figsize=(8, 4))\n",
    "\n",
    "# Calculate bar width to nearly cover the distance between x-ticks\n",
    "dates_ord = [d.toordinal() for d in df['date']]\n",
    "if len(dates_ord) > 1:\n",
    "    min_gap = min(np.diff(sorted(dates_ord)))\n",
    "    bar_width = min_gap * 0.95  # 95% of the gap\n",
    "else:\n",
    "    bar_width = 1  # fallback for single date\n",
    "\n",
    "# Plot each observation as a rectangle, y axis is measure\n",
    "for _, row in df.iterrows():\n",
    "    # Main measure bar\n",
    "    ax.broken_barh(\n",
    "        [(row['date'].toordinal() - bar_width/2, bar_width)],\n",
    "        (row['measure'] - 0.4, 0.8),\n",
    "        facecolors=plt.cm.viridis(row['measure'] / df['measure'].max()),\n",
    "        label='Measure' if _ == 0 else None\n",
    "    )\n",
    "    # Target status bar at special y=-1\n",
    "    ax.broken_barh(\n",
    "        [(row['date'].toordinal() - bar_width/2, bar_width)],\n",
    "        (-1 - 0.3, 0.6),\n",
    "        facecolors='tab:blue' if row['target'] else 'tab:gray',\n",
    "        label=None\n",
    "    )\n",
    "\n",
    "# Set y-ticks: add special \"Target\" level at the bottom\n",
    "yticks = [-1] + sorted(df['measure'].unique())\n",
    "yticklabels = ['Target'] + [str(m) for m in sorted(df['measure'].unique())]\n",
    "ax.set_yticks(yticks)\n",
    "ax.set_yticklabels(yticklabels)\n",
    "\n",
    "ax.set_xlabel('Date')\n",
    "ax.set_ylabel('')\n",
    "\n",
    "ax.set_xticks(dates_ord)\n",
    "ax.set_xticklabels(df['date'].dt.strftime('%Y-%m-%d'), rotation=45)\n",
    "\n",
    "# Make ylim larger for clarity\n",
    "ax.set_ylim(-2, max(df['measure']) + 1)\n",
    "\n",
    "# Add legends\n",
    "# measure_patch = mpatches.Patch(color=plt.cm.viridis(0.8), label='Measure')\n",
    "target_patch = mpatches.Patch(color='tab:blue', label='Target=1')\n",
    "notarget_patch = mpatches.Patch(color='tab:gray', label='Target=0')\n",
    "ax.legend(handles=[target_patch, notarget_patch], loc='upper left')\n",
    "\n",
    "plt.tight_layout()"
   ]
  },
  {
   "cell_type": "code",
   "execution_count": null,
   "id": "62a5f995",
   "metadata": {},
   "outputs": [],
   "source": []
  }
 ],
 "metadata": {
  "kernelspec": {
   "display_name": "Python 3",
   "language": "python",
   "name": "python3"
  },
  "language_info": {
   "codemirror_mode": {
    "name": "ipython",
    "version": 3
   },
   "file_extension": ".py",
   "mimetype": "text/x-python",
   "name": "python",
   "nbconvert_exporter": "python",
   "pygments_lexer": "ipython3",
   "version": "3.13.2"
  }
 },
 "nbformat": 4,
 "nbformat_minor": 5
}
