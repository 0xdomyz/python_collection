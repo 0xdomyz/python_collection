{
 "cells": [
  {
   "cell_type": "code",
   "execution_count": null,
   "metadata": {},
   "outputs": [],
   "source": [
    "import matplotlib.pyplot as plt\n",
    "import numpy as np\n",
    "import pandas as pd\n",
    "\n",
    "# set seed\n",
    "np.random.seed(123)\n",
    "\n"
   ]
  },
  {
   "cell_type": "code",
   "execution_count": null,
   "metadata": {},
   "outputs": [],
   "source": [
    "# time series df\n",
    "df = pd.DataFrame(np.abs(np.random.randn(10, 5)) * 1000, columns=list(\"ABCDE\"))\n",
    "df.set_index(pd.date_range(\"1/1/2000\", periods=10), inplace=True)\n",
    "df\n"
   ]
  },
  {
   "cell_type": "code",
   "execution_count": null,
   "metadata": {},
   "outputs": [],
   "source": [
    "\n",
    "# quarterly time series df\n",
    "df_q = pd.DataFrame(np.abs(np.random.randn(10, 5)) * 1000, columns=list(\"ABCDE\"))\n",
    "df_q.set_index(pd.date_range(\"1/1/2000\", periods=10, freq=\"Q\"), inplace=True)\n",
    "df_q\n",
    "\n",
    "\n"
   ]
  },
  {
   "cell_type": "code",
   "execution_count": null,
   "metadata": {},
   "outputs": [],
   "source": [
    "# percentage ts df\n",
    "df2 = pd.DataFrame(np.abs(np.random.randn(10, 5)) * 0.1, columns=list(\"ABCDE\"))\n",
    "df2.set_index(pd.date_range(\"1/1/2000\", periods=10), inplace=True)\n",
    "df2\n"
   ]
  },
  {
   "cell_type": "code",
   "execution_count": null,
   "metadata": {},
   "outputs": [],
   "source": [
    "\n",
    "# plot ts line charts\n",
    "df.plot()\n",
    "plt.savefig(\"test.png\")\n",
    "plt.close()\n",
    "plt.savefig(\"test.png\")\n",
    "plt.close()\n",
    "plt.close()\n",
    "\n"
   ]
  },
  {
   "cell_type": "code",
   "execution_count": null,
   "metadata": {},
   "outputs": [],
   "source": [
    "# plot ts line charts for selected columns\n",
    "df[[\"A\", \"B\", \"C\"]].plot()\n",
    "plt.savefig(\"test.png\")\n",
    "plt.close()\n",
    "\n"
   ]
  },
  {
   "cell_type": "code",
   "execution_count": null,
   "metadata": {},
   "outputs": [],
   "source": [
    "# datetime index series\n",
    "#########################\n",
    "srs_a = pd.Series(np.random.randn(10))\n",
    "srs_a.index = pd.Series(pd.date_range(\"2000-03-04\", periods=10))\n",
    "srs_b = pd.Series(np.random.randn(10))\n",
    "# different index but have overlap periods\n",
    "srs_b.index = pd.Series(pd.date_range(\"2000-03-07\", periods=10))\n",
    "\n"
   ]
  },
  {
   "cell_type": "code",
   "execution_count": null,
   "metadata": {},
   "outputs": [],
   "source": [
    "srs_a\n",
    "srs_b\n",
    "srs_a + srs_b  # has values in overlap periods\n",
    "\n"
   ]
  },
  {
   "cell_type": "code",
   "execution_count": null,
   "metadata": {},
   "outputs": [],
   "source": [
    "# union of srs_a.index and srs_b.index\n",
    "np.union1d(srs_a.index, srs_b.index)\n",
    "union = (srs_a + srs_b).index\n",
    "union\n",
    "\n"
   ]
  },
  {
   "cell_type": "code",
   "execution_count": null,
   "metadata": {},
   "outputs": [],
   "source": [
    "# diff of index\n",
    "pd.Series(sorted(list(set(srs_a.index) - set(srs_b.index))))\n",
    "\n"
   ]
  },
  {
   "cell_type": "code",
   "execution_count": null,
   "metadata": {},
   "outputs": [],
   "source": [
    "# join 2 datetime series with diff index\n",
    "df = pd.DataFrame({\"srs_a\": srs_a, \"srs_b\": srs_b})\n",
    "df\n",
    "\n"
   ]
  },
  {
   "cell_type": "code",
   "execution_count": null,
   "metadata": {},
   "outputs": [],
   "source": [
    "# join srs_a list of datetime series with diff index\n",
    "serieses = [srs_a, srs_b]\n",
    "names = [\"srs_a\", \"srs_b\"]\n",
    "df = pd.concat(serieses, axis=1, keys=names)\n",
    "df.plot()\n",
    "plt.savefig(\"test.png\")\n",
    "plt.close()\n",
    "\n"
   ]
  },
  {
   "cell_type": "code",
   "execution_count": null,
   "metadata": {},
   "outputs": [],
   "source": [
    "# time series line chart with custom tickers, grid lines, title\n",
    "###################################################################\n",
    "df = pd.DataFrame(np.abs(np.random.randn(10, 5)) * 1000, columns=list(\"ABCDE\"))\n",
    "df.set_index(pd.date_range(\"1/1/2000\", periods=10, freq=\"Q\"), inplace=True)\n",
    "df\n",
    "\n"
   ]
  },
  {
   "cell_type": "code",
   "execution_count": null,
   "metadata": {},
   "outputs": [],
   "source": [
    "# plot df's A,B,C columns as time series line charts, via matplotlib\n",
    "# horizontal axis tickers less dense\n",
    "# vertical axis tickers less dense\n",
    "# grid lines\n",
    "# title\n",
    "plt.plot(df.index, df[\"A\"], label=\"A\")\n",
    "plt.plot(df.index, df[\"B\"], label=\"B\")\n",
    "plt.plot(df.index, df[\"C\"], label=\"C\")\n",
    "plt.legend()\n",
    "plt.xticks(df.index[::2])\n",
    "plt.yticks(np.arange(0, 3000, 500))\n",
    "plt.grid()\n",
    "plt.title(\"Time Series Plot\")\n",
    "plt.savefig(\"test.png\")\n",
    "plt.close()\n",
    "\n"
   ]
  },
  {
   "cell_type": "code",
   "execution_count": null,
   "metadata": {},
   "outputs": [],
   "source": [
    "# time series stacked line chart\n",
    "####################################\n",
    "df = pd.DataFrame(np.abs(np.random.randn(10, 5)) * 1000, columns=list(\"ABCDE\"))\n",
    "df.set_index(pd.date_range(\"1/1/2000\", periods=10, freq=\"Q\"), inplace=True)\n",
    "df.index = df.index.strftime(\"%Y-%m-%d\")\n",
    "df\n",
    "\n"
   ]
  },
  {
   "cell_type": "code",
   "execution_count": null,
   "metadata": {},
   "outputs": [],
   "source": [
    "# legend text show A, A+B, A+B+C\n",
    "plt.plot(df.index, df[\"A\"], label=\"A\")\n",
    "plt.plot(df.index, df[\"B\"] + df[\"A\"], label=\"B\")\n",
    "plt.plot(df.index, df[\"C\"] + df[\"B\"] + df[\"A\"], label=\"C\")\n",
    "text = [\"A\", \"A+B\", \"A+B+C\"]\n",
    "plt.legend(text)\n",
    "plt.xticks(df.index[::2])\n",
    "plt.yticks(np.arange(0, 3000, 500))\n",
    "plt.grid()\n",
    "plt.title(\"Time Series Stacked Plot\")\n",
    "plt.savefig(\"test.png\")\n",
    "plt.close()\n",
    "\n",
    "\n"
   ]
  },
  {
   "cell_type": "code",
   "execution_count": null,
   "metadata": {},
   "outputs": [],
   "source": [
    "# time series stacked bar chart\n",
    "####################################\n",
    "df = pd.DataFrame(np.abs(np.random.randn(10, 5)) * 1000, columns=list(\"ABCDE\"))\n",
    "df.set_index(pd.date_range(\"1/1/2000\", periods=10, freq=\"Q\"), inplace=True)\n",
    "df.index = df.index.strftime(\"%Y-%m-%d\")\n",
    "df\n",
    "\n"
   ]
  },
  {
   "cell_type": "code",
   "execution_count": null,
   "metadata": {},
   "outputs": [],
   "source": [
    "# plot df's A,B,C columns as time series stacked bar charts, via matplotlib\n",
    "# horizontal axis tickers less dense\n",
    "plt.bar(df.index, df[\"A\"], label=\"A\", color=\"red\")\n",
    "plt.bar(df.index, df[\"B\"], label=\"B\", color=\"green\", bottom=df[\"A\"])\n",
    "plt.bar(df.index, df[\"C\"], label=\"C\", color=\"blue\", bottom=df[\"B\"] + df[\"A\"])\n",
    "plt.legend()\n",
    "plt.xticks(df.index[::2])\n",
    "plt.savefig(\"test.png\")\n",
    "plt.close()\n",
    "\n"
   ]
  },
  {
   "cell_type": "code",
   "execution_count": null,
   "metadata": {},
   "outputs": [],
   "source": [
    "# same as above, but more automated\n",
    "cols = [\"A\", \"B\", \"C\"]\n",
    "bottom = np.zeros(len(df.index))\n",
    "for col in cols:\n",
    "    plt.bar(df.index, df[col], label=col, bottom=bottom)\n",
    "    bottom += df[col]\n",
    "plt.legend()\n",
    "plt.xticks(df.index[::2])\n",
    "plt.savefig(\"test.png\")\n",
    "plt.close()\n",
    "\n",
    "\n"
   ]
  },
  {
   "cell_type": "code",
   "execution_count": null,
   "metadata": {},
   "outputs": [],
   "source": [
    "# time series stacked bar with line in secondary axis chart\n",
    "###########################################################\n",
    "# plot df's A,B,C columns as time series bar charts, via matplotlib\n",
    "# add df2's A,B,C columns as time series line charts, in secondary y-axis\n",
    "plt.bar(df.index, df[\"A\"], label=\"A\", color=\"red\")\n",
    "plt.bar(df.index, df[\"B\"], label=\"B\", color=\"green\", bottom=df[\"A\"])\n",
    "plt.bar(df.index, df[\"C\"], label=\"C\", color=\"blue\", bottom=df[\"B\"] + df[\"A\"])\n",
    "# secondary y-axis\n",
    "plt.twinx()\n",
    "plt.plot(df2.index, df2[\"A\"], label=\"A\", color=\"red\", linestyle=\"--\")\n",
    "plt.plot(df2.index, df2[\"B\"], label=\"B\", color=\"green\", linestyle=\"--\")\n",
    "plt.plot(df2.index, df2[\"C\"], label=\"C\", color=\"blue\", linestyle=\"--\")\n",
    "plt.xticks(df.index[::2])\n",
    "plt.savefig(\"test.png\")\n",
    "plt.close()\n",
    "\n"
   ]
  },
  {
   "cell_type": "code",
   "execution_count": null,
   "metadata": {},
   "outputs": [],
   "source": [
    "# time series bar with line in secondary axis chart\n",
    "###########################################################\n",
    "# plot df's A columns as time series bar charts, via matplotlib\n",
    "# add df2's A columns as time series line charts, in secondary y-axis\n",
    "plt.bar(df.index, df[\"A\"], label=\"A\", color=\"red\")\n",
    "# secondary y-axis\n",
    "plt.twinx()\n",
    "plt.plot(df2.index, df2[\"A\"], label=\"A\", color=\"black\", linestyle=\"--\")\n",
    "plt.xticks(df.index[::2])\n",
    "plt.savefig(\"test.png\")\n",
    "plt.close()\n",
    "\n"
   ]
  },
  {
   "cell_type": "code",
   "execution_count": null,
   "metadata": {},
   "outputs": [],
   "source": [
    "# bar plot and line on second axis where dates are far apart\n",
    "#####################################\n",
    "# plot df_q's A column as time series bar charts, via matplotlib\n",
    "x_pos = range(len(df_q.index))\n",
    "plt.bar(x_pos, df_q[\"A\"], label=\"A\", color=\"gray\")\n",
    "plt.legend(loc=\"upper left\")\n",
    "# secondary axis\n",
    "plt.twinx()\n",
    "plt.plot(x_pos, df2[\"B\"], label=\"B_pct\", color=\"red\", linestyle=\"-\")\n",
    "# xticks less dense and show as date\n",
    "index_as_date_str = df_q.index.strftime(\"%Y-%m-%d\")\n",
    "plt.xticks(x_pos[::2], index_as_date_str[::2], rotation=45)\n",
    "# x axis from after 2001-03-31\n",
    "left_pos = df_q.index.get_loc(\"2001-03-31\")\n",
    "plt.xlim(left=left_pos)\n",
    "# title\n",
    "plt.title(\"Bar and Line\")\n",
    "\n",
    "# legend show line\n",
    "plt.legend(loc=\"upper right\")\n",
    "\n",
    "# tight layout\n",
    "plt.tight_layout()\n",
    "plt.savefig(\"test.png\")\n",
    "plt.close()\n",
    "\n",
    "# save figure instead of showing\n",
    "plt.savefig(\"bar_and_line.png\")\n",
    "\n"
   ]
  },
  {
   "cell_type": "code",
   "execution_count": null,
   "metadata": {},
   "outputs": [],
   "source": [
    "# time series line chart with two subplots\n",
    "############################################\n",
    "# up and down figures in same chart\n",
    "# up is df's A,B,C columns as time series line charts\n",
    "# down is df2's A,B,C columns as time series line charts\n",
    "fig, ax = plt.subplots(2, 1, sharex=True)\n",
    "ax[0].plot(df.index, df[\"A\"], label=\"A\", color=\"red\")\n",
    "ax[0].plot(df.index, df[\"B\"], label=\"B\", color=\"green\")\n",
    "ax[0].plot(df.index, df[\"C\"], label=\"C\", color=\"blue\")\n",
    "ax[1].plot(df2.index, df2[\"A\"], label=\"A\", color=\"red\", linestyle=\"--\")\n",
    "ax[1].plot(df2.index, df2[\"B\"], label=\"B\", color=\"green\", linestyle=\"--\")\n",
    "ax[1].plot(df2.index, df2[\"C\"], label=\"C\", color=\"blue\", linestyle=\"--\")\n",
    "plt.xticks(df.index[::2])\n",
    "plt.savefig(\"test.png\")\n",
    "plt.close()\n",
    "\n",
    "\n"
   ]
  },
  {
   "cell_type": "code",
   "execution_count": null,
   "metadata": {},
   "outputs": [],
   "source": [
    "# ts line chart on 4 subplots, vertically arranged\n",
    "###################################################\n",
    "df = pd.DataFrame(\n",
    "    {\"series1\": [1, 2, 3], \"series2\": [4, 5, 6], \"series3\": [7, 8, 9]},\n",
    "    index=pd.date_range(\"20220101\", periods=3),\n",
    ")\n",
    "\n"
   ]
  },
  {
   "cell_type": "code",
   "execution_count": null,
   "metadata": {},
   "outputs": [],
   "source": [
    "fig, axs = plt.subplots(3)\n",
    "df[\"series1\"].plot(ax=axs[0])\n",
    "df[\"series2\"].plot(ax=axs[1])\n",
    "df[\"series3\"].plot(ax=axs[2])\n",
    "\n"
   ]
  },
  {
   "cell_type": "code",
   "execution_count": null,
   "metadata": {},
   "outputs": [],
   "source": [
    "plt.savefig(\"test.png\")\n",
    "plt.close()\n"
   ]
  },
  {
   "cell_type": "code",
   "execution_count": null,
   "metadata": {},
   "outputs": [],
   "source": [
    "\n",
    "# same as above, y axis shared as well\n",
    "fig, axs = plt.subplots(3, sharey=True)\n",
    "df[\"series1\"].plot(ax=axs[0])\n",
    "df[\"series2\"].plot(ax=axs[1])\n",
    "df[\"series3\"].plot(ax=axs[2])\n"
   ]
  },
  {
   "cell_type": "code",
   "execution_count": null,
   "metadata": {},
   "outputs": [],
   "source": [
    "\n",
    "plt.savefig(\"test.png\")\n",
    "plt.close()\n"
   ]
  },
  {
   "cell_type": "code",
   "execution_count": null,
   "metadata": {},
   "outputs": [],
   "source": []
  }
 ],
 "metadata": {
  "kernelspec": {
   "display_name": "Python 3",
   "language": "python",
   "name": "python3"
  },
  "language_info": {
   "codemirror_mode": {
    "name": "ipython",
    "version": 3
   },
   "file_extension": ".py",
   "mimetype": "text/x-python",
   "name": "python",
   "nbconvert_exporter": "python",
   "pygments_lexer": "ipython3",
   "version": "3.12.1"
  }
 },
 "nbformat": 4,
 "nbformat_minor": 2
}
