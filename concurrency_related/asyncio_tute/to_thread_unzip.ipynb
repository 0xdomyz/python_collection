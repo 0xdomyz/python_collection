{
 "cells": [
  {
   "cell_type": "code",
   "execution_count": 1,
   "id": "d2831a4f",
   "metadata": {},
   "outputs": [],
   "source": [
    "import asyncio\n",
    "import zipfile\n",
    "from pathlib import Path"
   ]
  },
  {
   "cell_type": "code",
   "execution_count": 58,
   "id": "20ad8690",
   "metadata": {},
   "outputs": [],
   "source": [
    "# set up and clean up the folders\n",
    "folders = [Path(\".\") / \"data\" / \"zip\", Path(\".\") / \"data\" / \"unzip\"]\n",
    "import shutil\n",
    "\n",
    "for folder in folders:\n",
    "    if not folder.exists():\n",
    "        folder.mkdir()\n",
    "    else:\n",
    "        shutil.rmtree(folder)\n",
    "        folder.mkdir()"
   ]
  },
  {
   "cell_type": "code",
   "execution_count": 59,
   "id": "a7bfb707",
   "metadata": {},
   "outputs": [],
   "source": [
    "# make many zip files\n",
    "source = Path(\".\") / \"data\" / \"zip_10MB.zip\"\n",
    "location = Path(\".\") / \"data\" / \"zip\"\n",
    "\n",
    "for i in range(10):\n",
    "    with zipfile.ZipFile(source, \"r\") as zin, zipfile.ZipFile(\n",
    "        location / f\"zip_{i}.zip\", \"w\"\n",
    "    ) as zout:\n",
    "        for item in zin.infolist():\n",
    "            # Split the path into parts\n",
    "            parts = item.filename.split(\"/\")\n",
    "            if parts[0]:  # If there's a top-level folder\n",
    "                parts[0] = f\"{parts[0]}_{i}\"\n",
    "            new_filename = \"/\".join(parts)\n",
    "            # Create a new ZipInfo object with the new filename\n",
    "            new_item = zipfile.ZipInfo(new_filename)\n",
    "            # Copy over date_time and external_attr (permissions)\n",
    "            new_item.date_time = item.date_time\n",
    "            new_item.external_attr = item.external_attr\n",
    "            if item.is_dir():\n",
    "                zout.writestr(new_item, b\"\")  # Create directory entry\n",
    "            else:\n",
    "                buffer = zin.read(item.filename)\n",
    "                zout.writestr(new_item, buffer)"
   ]
  },
  {
   "cell_type": "markdown",
   "id": "7bdfb6b9",
   "metadata": {},
   "source": [
    "### process"
   ]
  },
  {
   "cell_type": "code",
   "execution_count": 55,
   "id": "e544d50c",
   "metadata": {},
   "outputs": [],
   "source": [
    "def unzip_file(zip_path, extract_to):\n",
    "    with zipfile.ZipFile(zip_path, \"r\") as zip_ref:\n",
    "        zip_ref.extractall(extract_to)\n",
    "    print(f\"Unzipped {zip_path} to {extract_to}\")\n",
    "\n",
    "\n",
    "async def async_unzip(zip_path, extract_to):\n",
    "    await asyncio.to_thread(unzip_file, zip_path, extract_to)"
   ]
  },
  {
   "cell_type": "code",
   "execution_count": 56,
   "id": "5e318d97",
   "metadata": {},
   "outputs": [],
   "source": [
    "async def process_zip_files(zip_files, extract_to):\n",
    "    tasks = []\n",
    "    for zip_file in zip_files:\n",
    "        tasks.append(async_unzip(zip_file, extract_to))\n",
    "    await asyncio.gather(*tasks)"
   ]
  },
  {
   "cell_type": "code",
   "execution_count": 61,
   "id": "3d8ecf65",
   "metadata": {},
   "outputs": [
    {
     "name": "stdout",
     "output_type": "stream",
     "text": [
      "Unzipped data\\zip\\zip_0.zip to data\\unzip\n",
      "Unzipped data\\zip\\zip_1.zip to data\\unzip\n",
      "Unzipped data\\zip\\zip_2.zip to data\\unzip\n",
      "Unzipped data\\zip\\zip_3.zip to data\\unzip\n",
      "Unzipped data\\zip\\zip_4.zip to data\\unzip\n",
      "Unzipped data\\zip\\zip_5.zip to data\\unzip\n",
      "Unzipped data\\zip\\zip_6.zip to data\\unzip\n",
      "Unzipped data\\zip\\zip_7.zip to data\\unzip\n",
      "Unzipped data\\zip\\zip_8.zip to data\\unzip\n",
      "Unzipped data\\zip\\zip_9.zip to data\\unzip\n"
     ]
    }
   ],
   "source": [
    "zip_files = list((Path(\".\") / \"data\" / \"zip\").glob(\"*.zip\"))\n",
    "extract_to = Path(\".\") / \"data\" / \"unzip\"\n",
    "for file in zip_files:\n",
    "    with zipfile.ZipFile(file, \"r\") as zip_ref:\n",
    "        zip_ref.extractall(extract_to)\n",
    "    print(f\"Unzipped {file} to {extract_to}\")"
   ]
  },
  {
   "cell_type": "code",
   "execution_count": 62,
   "id": "1913c304",
   "metadata": {},
   "outputs": [
    {
     "name": "stdout",
     "output_type": "stream",
     "text": [
      "Unzipped data\\zip\\zip_8.zip to data\\unzip\n",
      "Unzipped data\\zip\\zip_2.zip to data\\unzip\n",
      "Unzipped data\\zip\\zip_6.zip to data\\unzip\n",
      "Unzipped data\\zip\\zip_1.zip to data\\unzip\n",
      "Unzipped data\\zip\\zip_7.zip to data\\unzip\n",
      "Unzipped data\\zip\\zip_9.zip to data\\unzip\n",
      "Unzipped data\\zip\\zip_0.zip to data\\unzip\n",
      "Unzipped data\\zip\\zip_3.zip to data\\unzip\n",
      "Unzipped data\\zip\\zip_5.zip to data\\unzip\n",
      "Unzipped data\\zip\\zip_4.zip to data\\unzip\n"
     ]
    }
   ],
   "source": [
    "await process_zip_files(zip_files, extract_to)"
   ]
  },
  {
   "cell_type": "code",
   "execution_count": 63,
   "id": "d6a7be1f",
   "metadata": {},
   "outputs": [],
   "source": [
    "# set up and clean up the folders\n",
    "folders = [Path(\".\") / \"data\" / \"zip\", Path(\".\") / \"data\" / \"unzip\"]\n",
    "import shutil\n",
    "\n",
    "for folder in folders:\n",
    "    if not folder.exists():\n",
    "        folder.mkdir()\n",
    "    else:\n",
    "        shutil.rmtree(folder)\n",
    "        folder.mkdir()"
   ]
  }
 ],
 "metadata": {
  "kernelspec": {
   "display_name": "Python 3",
   "language": "python",
   "name": "python3"
  },
  "language_info": {
   "codemirror_mode": {
    "name": "ipython",
    "version": 3
   },
   "file_extension": ".py",
   "mimetype": "text/x-python",
   "name": "python",
   "nbconvert_exporter": "python",
   "pygments_lexer": "ipython3",
   "version": "3.13.2"
  }
 },
 "nbformat": 4,
 "nbformat_minor": 5
}
