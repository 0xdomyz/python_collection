{
 "cells": [
  {
   "cell_type": "code",
   "execution_count": 7,
   "id": "c738062e",
   "metadata": {},
   "outputs": [],
   "source": [
    "import asyncio\n",
    "import random\n",
    "import time"
   ]
  },
  {
   "cell_type": "code",
   "execution_count": null,
   "id": "77fe6951",
   "metadata": {},
   "outputs": [],
   "source": [
    "# worker coro that takes queue as input\n",
    "async def worker(name, queue: asyncio.Queue):\n",
    "    while True:\n",
    "        # step 1: Get a \"work item\" out of the queue.\n",
    "        sleep_for = await queue.get()\n",
    "\n",
    "        # step 2: process the work item\n",
    "        await asyncio.sleep(sleep_for)\n",
    "\n",
    "        # step 3: notify done and log\n",
    "        queue.task_done()\n",
    "        print(f'{name} has slept for {sleep_for:.2f} seconds')\n",
    "\n",
    "\n",
    "async def main():\n",
    "    # work items \n",
    "    total_sleep_times = []\n",
    "    for _ in range(20):\n",
    "        sleep_for = random.uniform(0.05, 1.0)\n",
    "        total_sleep_times.append(sleep_for)\n",
    "\n",
    "    # queue\n",
    "    queue = asyncio.Queue()\n",
    "    for sleep_for in total_sleep_times:\n",
    "        queue.put_nowait(sleep_for)\n",
    "\n",
    "    # worker tasks\n",
    "    tasks = []\n",
    "    for i in range(3):\n",
    "        task = asyncio.create_task(worker(f'worker-{i}', queue))\n",
    "        tasks.append(task)\n",
    "\n",
    "    # exec\n",
    "    started_at = time.monotonic()\n",
    "\n",
    "    await queue.join()\n",
    "    for task in tasks\n",
    "        task.cancel()# to cancel infinite tasks, schedule cancelled error to be thrown at next await\n",
    "    await asyncio.gather(*tasks, return_exceptions=True) # wait until all tasks are cancelled\n",
    "\n",
    "    total_slept_for = time.monotonic() - started_at\n",
    "\n",
    "    # log\n",
    "    print('====')\n",
    "    print(f'3 workers slept in parallel for {total_slept_for:.2f} seconds')\n",
    "    print(f'total expected sleep time: {sum(total_sleep_times):.2f} seconds')\n"
   ]
  },
  {
   "cell_type": "code",
   "execution_count": null,
   "id": "d92465c9",
   "metadata": {},
   "outputs": [
    {
     "name": "stdout",
     "output_type": "stream",
     "text": [
      "worker-2 has slept for 0.06 seconds\n",
      "worker-1 has slept for 0.27 seconds\n",
      "worker-2 has slept for 0.41 seconds\n",
      "worker-0 has slept for 0.59 seconds\n",
      "worker-1 has slept for 0.98 seconds\n",
      "worker-0 has slept for 0.72 seconds\n",
      "worker-2 has slept for 0.93 seconds\n",
      "worker-1 has slept for 0.18 seconds\n",
      "worker-0 has slept for 0.39 seconds\n",
      "worker-0 has slept for 0.10 seconds\n",
      "worker-0 has slept for 0.06 seconds\n",
      "worker-2 has slept for 0.62 seconds\n",
      "worker-1 has slept for 0.70 seconds\n",
      "worker-2 has slept for 0.16 seconds\n",
      "worker-1 has slept for 0.10 seconds\n",
      "worker-2 has slept for 0.19 seconds\n",
      "worker-0 has slept for 0.62 seconds\n",
      "worker-0 has slept for 0.23 seconds\n",
      "worker-2 has slept for 0.42 seconds\n",
      "worker-1 has slept for 0.60 seconds\n",
      "====\n",
      "3 workers slept in parallel for 2.83 seconds\n",
      "total expected sleep time: 8.32 seconds\n"
     ]
    }
   ],
   "source": [
    "await main()"
   ]
  },
  {
   "cell_type": "code",
   "execution_count": null,
   "id": "446f9709",
   "metadata": {},
   "outputs": [],
   "source": []
  }
 ],
 "metadata": {
  "kernelspec": {
   "display_name": "pyenv",
   "language": "python",
   "name": "python3"
  },
  "language_info": {
   "codemirror_mode": {
    "name": "ipython",
    "version": 3
   },
   "file_extension": ".py",
   "mimetype": "text/x-python",
   "name": "python",
   "nbconvert_exporter": "python",
   "pygments_lexer": "ipython3",
   "version": "3.12.3"
  }
 },
 "nbformat": 4,
 "nbformat_minor": 5
}
