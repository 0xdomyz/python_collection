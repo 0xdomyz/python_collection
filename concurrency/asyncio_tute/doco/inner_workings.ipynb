{
 "cells": [
  {
   "cell_type": "code",
   "execution_count": 8,
   "id": "637e8eaa",
   "metadata": {},
   "outputs": [],
   "source": [
    "import asyncio\n",
    "import datetime\n",
    "import time"
   ]
  },
  {
   "cell_type": "markdown",
   "id": "8fc31708",
   "metadata": {},
   "source": [
    "### how coro and await works"
   ]
  },
  {
   "cell_type": "code",
   "execution_count": 1,
   "id": "f1522d56",
   "metadata": {},
   "outputs": [
    {
     "name": "stdout",
     "output_type": "stream",
     "text": [
      "Beginning coroutine main().\n",
      "Awaiting rock...\n",
      "Coroutine paused and returned intermediate value: 7.\n",
      "Resuming coroutine and sending in value: 42.\n",
      "Rock.__await__ resuming with value: 42.\n",
      "Coroutine received value: 42 from rock.\n",
      "Coroutine main() finished and provided value: 23.\n"
     ]
    }
   ],
   "source": [
    "class Rock:\n",
    "    def __await__(self):\n",
    "        value_sent_in = yield 7\n",
    "        print(f\"Rock.__await__ resuming with value: {value_sent_in}.\")\n",
    "        return value_sent_in\n",
    "\n",
    "async def main():\n",
    "    print(\"Beginning coroutine main().\")\n",
    "    rock = Rock()\n",
    "    print(\"Awaiting rock...\")\n",
    "    value_from_rock = await rock\n",
    "    print(f\"Coroutine received value: {value_from_rock} from rock.\")\n",
    "    return 23\n",
    "\n",
    "coroutine = main()\n",
    "intermediate_result = coroutine.send(None)\n",
    "print(f\"Coroutine paused and returned intermediate value: {intermediate_result}.\")\n",
    "\n",
    "print(f\"Resuming coroutine and sending in value: 42.\")\n",
    "try:\n",
    "    coroutine.send(42)\n",
    "except StopIteration as e:\n",
    "    returned_value = e.value\n",
    "print(f\"Coroutine main() finished and provided value: {returned_value}.\")"
   ]
  },
  {
   "cell_type": "markdown",
   "id": "9860e93b",
   "metadata": {},
   "source": [
    "### using future"
   ]
  },
  {
   "cell_type": "code",
   "execution_count": 14,
   "id": "defc60de",
   "metadata": {},
   "outputs": [
    {
     "name": "stdout",
     "output_type": "stream",
     "text": [
      "Beginning asynchronous sleep at time: 16:45:31.\n",
      "I like work. Work work.\n",
      "I like work. Work work.\n",
      "I like work. Work work.\n",
      "Done asynchronous sleep at time: 16:45:34.\n",
      "I like long work. Work work.\n"
     ]
    }
   ],
   "source": [
    "async def other_work():\n",
    "    print(\"I like work. Work work.\")\n",
    "\n",
    "async def other_long_work():\n",
    "    await asyncio.sleep(5)\n",
    "    print(\"I like long work. Work work.\")\n",
    "\n",
    "async def async_sleep(seconds: float):\n",
    "    future = asyncio.Future()\n",
    "    time_to_wake = time.time() + seconds\n",
    "    # Add the watcher-task to the event loop.\n",
    "    watcher_task = asyncio.create_task(_sleep_watcher(future, time_to_wake))\n",
    "    # Block until the future is marked as done.\n",
    "    await future\n",
    "\n",
    "class YieldToEventLoop:\n",
    "    def __await__(self):\n",
    "        yield\n",
    "\n",
    "async def _sleep_watcher(future, time_to_wake):\n",
    "    while True:\n",
    "        if time.time() >= time_to_wake:\n",
    "            # This marks the future as done.\n",
    "            future.set_result(None)\n",
    "            break\n",
    "        else:\n",
    "            await YieldToEventLoop()\n",
    "\n",
    "async def main():\n",
    "    # Add a few other tasks to the event loop, so there's something\n",
    "    # to do while asynchronously sleeping.\n",
    "    work_tasks = [\n",
    "        asyncio.create_task(other_work()),\n",
    "        asyncio.create_task(other_work()),\n",
    "        asyncio.create_task(other_work()),\n",
    "        asyncio.create_task(other_long_work()),\n",
    "    ]\n",
    "    \n",
    "    print(\n",
    "        \"Beginning asynchronous sleep at time: \"\n",
    "        f\"{datetime.datetime.now().strftime(\"%H:%M:%S\")}.\"\n",
    "    )\n",
    "    await asyncio.create_task(async_sleep(3))\n",
    "    print(\n",
    "        \"Done asynchronous sleep at time: \"\n",
    "        f\"{datetime.datetime.now().strftime(\"%H:%M:%S\")}.\"\n",
    "    )\n",
    "\n",
    "    # asyncio.gather effectively awaits each task in the collection.\n",
    "    await asyncio.gather(*work_tasks)\n",
    "\n",
    "await main()"
   ]
  },
  {
   "cell_type": "code",
   "execution_count": null,
   "id": "76b080b1",
   "metadata": {},
   "outputs": [],
   "source": []
  }
 ],
 "metadata": {
  "kernelspec": {
   "display_name": "pyenv",
   "language": "python",
   "name": "python3"
  },
  "language_info": {
   "codemirror_mode": {
    "name": "ipython",
    "version": 3
   },
   "file_extension": ".py",
   "mimetype": "text/x-python",
   "name": "python",
   "nbconvert_exporter": "python",
   "pygments_lexer": "ipython3",
   "version": "3.12.3"
  }
 },
 "nbformat": 4,
 "nbformat_minor": 5
}
