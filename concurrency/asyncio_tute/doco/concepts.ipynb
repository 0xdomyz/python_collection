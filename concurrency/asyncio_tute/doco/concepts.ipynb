{
 "cells": [
  {
   "cell_type": "markdown",
   "id": "9b0ef62f",
   "metadata": {},
   "source": [
    "### event loop\n",
    "\n",
    "- contains collection of jobs\n",
    "- invokes one, run till pause or complete, then invokes another, ...\n",
    "- use asyncio.run to manage event loop and ensure coro finishes"
   ]
  },
  {
   "cell_type": "markdown",
   "id": "81267f28",
   "metadata": {},
   "source": [
    "### coro\n",
    "\n",
    "- coro func is defined by `async def`, which allows `await`, `async for`, and `async with` to be used within\n",
    "- coro obj is created by running coro function, it can then be started, suspended, and resumed\n",
    "- docu: https://docs.python.org/3/reference/compound_stmts.html#async-def\n",
    "- details:\n",
    "    - coro.send(None) to start for first time\n",
    "    - cede control by await obj that yields in `__await__`\n",
    "    - coro.send(arg) used as return value of the yield that originally paused exec, then continue exec\n",
    "    - raise StopIteration to signal completion, return in value attri"
   ]
  },
  {
   "cell_type": "markdown",
   "id": "e63ae880",
   "metadata": {},
   "source": [
    "### Tasks\n",
    "\n",
    "- coro tied to event loop\n",
    "- maintains list of callback funcs?\n",
    "- created by asyncio.create_task(), which also schedules for exec by adding a callback to task to event loop\n",
    "- gathered in a collection to have strong ref for avoiding gc"
   ]
  },
  {
   "cell_type": "markdown",
   "id": "92f9fd3f",
   "metadata": {},
   "source": [
    "### await\n",
    "\n",
    "- coro\n",
    "    - invoke the coro func content\n",
    "- task\n",
    "    - cede control, then when awaited task finish, original task/coro is added back to event loop\n",
    "    - details:\n",
    "        - await add callback (which resume original) to task's callbacks\n",
    "        - cede control to event loop\n",
    "        - when finish, add callbacks to event loop\n",
    "- other\n",
    "    - https://docs.python.org/3/reference/expressions.html#await\n",
    "- details:\n",
    "    - calls `__await__` method on awaitable\n",
    "    - propagates the yield up call chain\n",
    "    - yield: pauses exec and return contorl to caller"
   ]
  },
  {
   "cell_type": "markdown",
   "id": "bbae33eb",
   "metadata": {},
   "source": [
    "### for and with\n",
    "\n",
    "async for\n",
    "- allow iteration ovr async iter, which has async code in `__anext__` method\n",
    "\n",
    "async with\n",
    "- use async CM, which can suspend exec in enter and exit\n"
   ]
  },
  {
   "cell_type": "code",
   "execution_count": null,
   "id": "8f149ea6",
   "metadata": {},
   "outputs": [],
   "source": []
  }
 ],
 "metadata": {
  "kernelspec": {
   "display_name": "pyenv",
   "language": "python",
   "name": "python3"
  },
  "language_info": {
   "name": "python",
   "version": "3.12.3"
  }
 },
 "nbformat": 4,
 "nbformat_minor": 5
}
