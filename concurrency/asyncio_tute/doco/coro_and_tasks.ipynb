{
 "cells": [
  {
   "cell_type": "code",
   "execution_count": 1,
   "id": "d65a8ca4",
   "metadata": {},
   "outputs": [],
   "source": [
    "import asyncio"
   ]
  },
  {
   "cell_type": "markdown",
   "id": "d78115c8",
   "metadata": {},
   "source": [
    "### declare coro by async def and await"
   ]
  },
  {
   "cell_type": "code",
   "execution_count": null,
   "id": "4b0f186b",
   "metadata": {},
   "outputs": [
    {
     "name": "stdout",
     "output_type": "stream",
     "text": [
      "hello\n",
      "world\n"
     ]
    }
   ],
   "source": [
    "async def main():\n",
    "    print(\"hello\")\n",
    "    await asyncio.sleep(1)\n",
    "    print(\"world\")\n",
    "\n",
    "\n",
    "await main()"
   ]
  },
  {
   "cell_type": "markdown",
   "id": "0051dc70",
   "metadata": {},
   "source": [
    "### run via asyncio.run(), await, or tasks"
   ]
  },
  {
   "cell_type": "code",
   "execution_count": null,
   "id": "70390a98",
   "metadata": {},
   "outputs": [
    {
     "name": "stdout",
     "output_type": "stream",
     "text": [
      "started at 19:27:19\n",
      "hello\n",
      "world\n",
      "finished at 19:27:22\n"
     ]
    }
   ],
   "source": [
    "# await a coro\n",
    "import time\n",
    "\n",
    "\n",
    "async def say_after(delay, what):\n",
    "    await asyncio.sleep(delay)\n",
    "    print(what)\n",
    "\n",
    "\n",
    "async def main():\n",
    "    print(f\"started at {time.strftime('%X')}\")\n",
    "    await say_after(1, \"hello\")  # non-concurrent\n",
    "    await say_after(2, \"world\")\n",
    "    print(f\"finished at {time.strftime('%X')}\")\n",
    "\n",
    "\n",
    "# asyncio.run(main())\n",
    "await main()"
   ]
  },
  {
   "cell_type": "code",
   "execution_count": 18,
   "id": "11906e53",
   "metadata": {},
   "outputs": [
    {
     "name": "stdout",
     "output_type": "stream",
     "text": [
      "started at 18:48:16\n",
      "hello\n",
      "world\n",
      "finished at 18:48:18\n"
     ]
    }
   ],
   "source": [
    "# tasks\n",
    "async def main():\n",
    "    task1 = asyncio.create_task(say_after(1, \"hello\"))\n",
    "    task2 = asyncio.create_task(say_after(2, \"world\"))\n",
    "\n",
    "    print(f\"started at {time.strftime('%X')}\")\n",
    "    # await asyncio.gather(task1, task2)\n",
    "    await task1\n",
    "    await task2\n",
    "    print(f\"finished at {time.strftime('%X')}\")\n",
    "\n",
    "\n",
    "await main()"
   ]
  },
  {
   "cell_type": "markdown",
   "id": "50ceca6d",
   "metadata": {},
   "source": [
    "### awaitables - coro, task, fut"
   ]
  },
  {
   "cell_type": "code",
   "execution_count": 13,
   "id": "131d79ba",
   "metadata": {},
   "outputs": [
    {
     "name": "stdout",
     "output_type": "stream",
     "text": [
      "42\n"
     ]
    }
   ],
   "source": [
    "async def nested():\n",
    "    return 42\n",
    "\n",
    "\n",
    "async def main():\n",
    "    print(await nested())\n",
    "\n",
    "\n",
    "await main()"
   ]
  },
  {
   "cell_type": "code",
   "execution_count": 12,
   "id": "ef786d64",
   "metadata": {},
   "outputs": [
    {
     "name": "stdout",
     "output_type": "stream",
     "text": [
      "42\n"
     ]
    }
   ],
   "source": [
    "async def nested():\n",
    "    return 42\n",
    "\n",
    "\n",
    "async def main():\n",
    "    task = asyncio.create_task(nested())\n",
    "    res = await task\n",
    "    print(res)\n",
    "\n",
    "\n",
    "await main()"
   ]
  },
  {
   "cell_type": "markdown",
   "id": "a86fe1bb",
   "metadata": {},
   "source": [
    "### create task via asyncio.create_task()"
   ]
  },
  {
   "cell_type": "code",
   "execution_count": 30,
   "id": "2ec01a76",
   "metadata": {},
   "outputs": [
    {
     "name": "stdout",
     "output_type": "stream",
     "text": [
      "0\n",
      "1\n",
      "2\n",
      "3\n",
      "4\n",
      "5\n",
      "6\n",
      "7\n",
      "8\n",
      "9\n"
     ]
    }
   ],
   "source": [
    "background_tasks = set()\n",
    "\n",
    "\n",
    "async def some_coro(param):\n",
    "    # Do something with param.\n",
    "    await asyncio.sleep(2)\n",
    "    print(param)\n",
    "\n",
    "\n",
    "async def main():\n",
    "    for i in range(10):\n",
    "        task = asyncio.create_task(some_coro(param=i))\n",
    "\n",
    "        # Add task to the set. This creates a strong reference.\n",
    "        background_tasks.add(task)\n",
    "\n",
    "        # await task # not concurrent\n",
    "\n",
    "        # To prevent keeping references to finished tasks forever,\n",
    "        # make each task remove its own reference from the set after\n",
    "        # completion:\n",
    "        # task.add_done_callback(background_tasks.discard)\n",
    "\n",
    "    # await asyncio.gather(*background_tasks)\n",
    "\n",
    "    for task in background_tasks:\n",
    "        await task\n",
    "\n",
    "\n",
    "await main()"
   ]
  },
  {
   "cell_type": "markdown",
   "id": "ad9c9480",
   "metadata": {},
   "source": [
    "### asyncio.sleep to suspend coro\n"
   ]
  },
  {
   "cell_type": "code",
   "execution_count": 25,
   "id": "31f6c83b",
   "metadata": {},
   "outputs": [
    {
     "name": "stdout",
     "output_type": "stream",
     "text": [
      "2025-08-25 19:22:50.244168\n",
      "2025-08-25 19:22:51.245723\n",
      "2025-08-25 19:22:52.247346\n",
      "2025-08-25 19:22:53.248856\n",
      "2025-08-25 19:22:54.250420\n"
     ]
    }
   ],
   "source": [
    "import asyncio\n",
    "import datetime\n",
    "\n",
    "\n",
    "async def display_date():\n",
    "    loop = asyncio.get_running_loop()\n",
    "    end_time = loop.time() + 5.0\n",
    "    while True:\n",
    "        print(datetime.datetime.now())\n",
    "        if (loop.time() + 1.0) >= end_time:\n",
    "            break\n",
    "        await asyncio.sleep(1)  # block/pause curr coro, give back control\n",
    "\n",
    "\n",
    "await display_date()"
   ]
  },
  {
   "cell_type": "markdown",
   "id": "10aefa05",
   "metadata": {},
   "source": [
    "### use gather for concurrent runnig\n"
   ]
  },
  {
   "cell_type": "code",
   "execution_count": null,
   "id": "2d14da66",
   "metadata": {},
   "outputs": [
    {
     "name": "stdout",
     "output_type": "stream",
     "text": [
      "Task A: Compute factorial(2), currently i=2...\n",
      "Task B: Compute factorial(3), currently i=2...\n",
      "Task C: Compute factorial(4), currently i=2...\n",
      "Task A: factorial(2) = 2\n",
      "Task B: Compute factorial(3), currently i=3...\n",
      "Task C: Compute factorial(4), currently i=3...\n",
      "Task B: factorial(3) = 6\n",
      "Task C: Compute factorial(4), currently i=4...\n",
      "Task C: factorial(4) = 24\n",
      "[2, 6, 24]\n"
     ]
    }
   ],
   "source": [
    "async def factorial(name, number):\n",
    "    f = 1\n",
    "    for i in range(2, number + 1):\n",
    "        print(f\"Task {name}: Compute factorial({number}), currently i={i}...\")\n",
    "        await asyncio.sleep(1)\n",
    "        f *= i\n",
    "    print(f\"Task {name}: factorial({number}) = {f}\")\n",
    "    return f\n",
    "\n",
    "\n",
    "async def main():\n",
    "    # auto schedule coros as tasks and wait for completion\n",
    "    L = await asyncio.gather(\n",
    "        factorial(\"A\", 2),\n",
    "        factorial(\"B\", 3),\n",
    "        factorial(\"C\", 4),\n",
    "    )\n",
    "    print(L)\n",
    "\n",
    "\n",
    "await main()"
   ]
  },
  {
   "cell_type": "markdown",
   "id": "31995e01",
   "metadata": {},
   "source": [
    "### wait_for timeout\n"
   ]
  },
  {
   "cell_type": "code",
   "execution_count": null,
   "id": "bd88857b",
   "metadata": {},
   "outputs": [
    {
     "name": "stdout",
     "output_type": "stream",
     "text": [
      "timeout!\n"
     ]
    }
   ],
   "source": [
    "async def eternity():\n",
    "    # Sleep for one hour\n",
    "    await asyncio.sleep(3600)\n",
    "    print(\"yay!\")\n",
    "\n",
    "\n",
    "async def main():\n",
    "    # Wait for at most 1 second\n",
    "    try:\n",
    "        await asyncio.wait_for(eternity(), timeout=1.0)  # auto schedule coro as task\n",
    "    except asyncio.TimeoutError:\n",
    "        print(\"timeout!\")\n",
    "\n",
    "\n",
    "await main()"
   ]
  },
  {
   "cell_type": "markdown",
   "id": "bfaed106",
   "metadata": {},
   "source": [
    "### to thread is only good for io bound funcs (due to GIL)\n"
   ]
  },
  {
   "cell_type": "code",
   "execution_count": null,
   "id": "772f7884",
   "metadata": {},
   "outputs": [
    {
     "name": "stdout",
     "output_type": "stream",
     "text": [
      "started main at 19:47:04\n",
      "start blocking_io at 19:47:04\n",
      "start blocking_io at 19:47:04\n",
      "start blocking_io at 19:47:04\n",
      "blocking_io complete at 19:47:05blocking_io complete at 19:47:05\n",
      "\n",
      "blocking_io complete at 19:47:05\n",
      "finished main at 19:47:05\n"
     ]
    }
   ],
   "source": [
    "def blocking_io():\n",
    "    print(f\"start blocking_io at {time.strftime('%X')}\")\n",
    "    time.sleep(1)\n",
    "    print(f\"blocking_io complete at {time.strftime('%X')}\")\n",
    "\n",
    "\n",
    "async def main():\n",
    "    print(f\"started main at {time.strftime('%X')}\")\n",
    "\n",
    "    await asyncio.gather(\n",
    "        asyncio.to_thread(\n",
    "            blocking_io\n",
    "        ),  # return coro, which is auto scheduled as task by gather\n",
    "        asyncio.to_thread(blocking_io),\n",
    "        asyncio.to_thread(blocking_io),\n",
    "        asyncio.sleep(1),\n",
    "    )\n",
    "\n",
    "    print(f\"finished main at {time.strftime('%X')}\")\n",
    "\n",
    "\n",
    "await main()"
   ]
  },
  {
   "cell_type": "markdown",
   "id": "3e3aa46e",
   "metadata": {},
   "source": [
    "### task cancel"
   ]
  },
  {
   "cell_type": "code",
   "execution_count": 33,
   "id": "d500bdb1",
   "metadata": {},
   "outputs": [
    {
     "name": "stdout",
     "output_type": "stream",
     "text": [
      "cancel_me(): before sleep\n",
      "cancel_me(): cancel sleep\n",
      "cancel_me(): after sleep\n",
      "main(): cancel_me is cancelled now\n"
     ]
    }
   ],
   "source": [
    "async def cancel_me():\n",
    "    print(\"cancel_me(): before sleep\")\n",
    "\n",
    "    try:\n",
    "        # Wait for 1 hour\n",
    "        await asyncio.sleep(3600)\n",
    "    except asyncio.CancelledError:\n",
    "        print(\"cancel_me(): cancel sleep\")\n",
    "        raise\n",
    "    finally:\n",
    "        print(\"cancel_me(): after sleep\")\n",
    "\n",
    "\n",
    "async def main():\n",
    "    # Create a \"cancel_me\" Task\n",
    "    task = asyncio.create_task(cancel_me())\n",
    "\n",
    "    # Wait for 1 second\n",
    "    await asyncio.sleep(1)\n",
    "\n",
    "    task.cancel()\n",
    "    try:\n",
    "        await task\n",
    "    except asyncio.CancelledError:\n",
    "        print(\"main(): cancel_me is cancelled now\")\n",
    "\n",
    "\n",
    "await main()"
   ]
  },
  {
   "cell_type": "code",
   "execution_count": null,
   "id": "749c51bc",
   "metadata": {},
   "outputs": [],
   "source": []
  }
 ],
 "metadata": {
  "kernelspec": {
   "display_name": "pyenv",
   "language": "python",
   "name": "python3"
  },
  "language_info": {
   "codemirror_mode": {
    "name": "ipython",
    "version": 3
   },
   "file_extension": ".py",
   "mimetype": "text/x-python",
   "name": "python",
   "nbconvert_exporter": "python",
   "pygments_lexer": "ipython3",
   "version": "3.12.3"
  }
 },
 "nbformat": 4,
 "nbformat_minor": 5
}
