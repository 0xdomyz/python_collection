{
 "cells": [
  {
   "cell_type": "code",
   "execution_count": 14,
   "metadata": {},
   "outputs": [
    {
     "name": "stdout",
     "output_type": "stream",
     "text": [
      "toydata/anagrams.csv\n",
      "toydata/anscombe.csv\n",
      "toydata/attention.csv\n",
      "toydata/brain_networks.csv\n",
      "toydata/car_crashes.csv\n",
      "toydata/diabetes.csv\n",
      "toydata/diamonds.csv\n",
      "toydata/dots.csv\n",
      "toydata/exercise.csv\n",
      "toydata/flights.csv\n",
      "toydata/fmri.csv\n",
      "toydata/gammas.csv\n",
      "toydata/geyser.csv\n",
      "toydata/iris.csv\n",
      "toydata/mpg.csv\n",
      "toydata/penguins.csv\n",
      "toydata/planets.csv\n",
      "toydata/taxis.csv\n",
      "toydata/tips.csv\n",
      "toydata/titanic.csv\n",
      "toydata/wine.csv\n"
     ]
    }
   ],
   "source": [
    "from pathlib import Path\n",
    "import pandas as pd\n",
    "\n",
    "# Define the path to your directory\n",
    "dir_path = Path(\"toydata\")\n",
    "\n",
    "files = dir_path.glob(\"*.csv\")\n",
    "for file in files:\n",
    "    print(file.as_posix())"
   ]
  },
  {
   "cell_type": "code",
   "execution_count": 13,
   "metadata": {},
   "outputs": [],
   "source": [
    "def examine_file(file):\n",
    "    df = pd.read_csv(file)\n",
    "    print(f\"{df.shape}\\n\")\n",
    "    print(df.head())\n",
    "    return df"
   ]
  },
  {
   "cell_type": "code",
   "execution_count": 15,
   "metadata": {},
   "outputs": [
    {
     "name": "stdout",
     "output_type": "stream",
     "text": [
      "(20, 5)\n",
      "\n",
      "   subidr    attnr  num1  num2  num3\n",
      "0       1  divided     2   4.0     7\n",
      "1       2  divided     3   4.0     5\n",
      "2       3  divided     3   5.0     6\n",
      "3       4  divided     5   7.0     5\n",
      "4       5  divided     4   5.0     8\n"
     ]
    }
   ],
   "source": [
    "df = examine_file(file=\"toydata/anagrams.csv\")"
   ]
  },
  {
   "cell_type": "code",
   "execution_count": 16,
   "metadata": {},
   "outputs": [
    {
     "name": "stdout",
     "output_type": "stream",
     "text": [
      "(44, 3)\n",
      "\n",
      "  dataset     x     y\n",
      "0       I  10.0  8.04\n",
      "1       I   8.0  6.95\n",
      "2       I  13.0  7.58\n",
      "3       I   9.0  8.81\n",
      "4       I  11.0  8.33\n"
     ]
    }
   ],
   "source": [
    "df = examine_file(file=\"toydata/anscombe.csv\")"
   ]
  },
  {
   "cell_type": "code",
   "execution_count": 17,
   "metadata": {},
   "outputs": [
    {
     "name": "stdout",
     "output_type": "stream",
     "text": [
      "(60, 5)\n",
      "\n",
      "   Unnamed: 0  subject attention  solutions  score\n",
      "0           0        1   divided          1    2.0\n",
      "1           1        2   divided          1    3.0\n",
      "2           2        3   divided          1    3.0\n",
      "3           3        4   divided          1    5.0\n",
      "4           4        5   divided          1    4.0\n"
     ]
    }
   ],
   "source": [
    "df = examine_file(file=\"toydata/attention.csv\")"
   ]
  },
  {
   "cell_type": "code",
   "execution_count": 18,
   "metadata": {},
   "outputs": [
    {
     "name": "stdout",
     "output_type": "stream",
     "text": [
      "(923, 63)\n",
      "\n",
      "  network                  1                1.1                   2  \\\n",
      "0    node                  1                  1                   1   \n",
      "1    hemi                 lh                 rh                  lh   \n",
      "2     NaN                NaN                NaN                 NaN   \n",
      "3       0  56.05574417114258  92.03103637695312   3.391575574874878   \n",
      "4       1   55.5472526550293   43.6900749206543  -65.49598693847656   \n",
      "\n",
      "                   2.1                   3                 3.1  \\\n",
      "0                    1                   1                   1   \n",
      "1                   rh                  lh                  rh   \n",
      "2                  NaN                 NaN                 NaN   \n",
      "3    38.65968322753906  26.203819274902344  -49.71556854248047   \n",
      "4  -13.974522590637207  -28.27496337890625  -39.05012893676758   \n",
      "\n",
      "                     4                  4.1                    5  ...  \\\n",
      "0                    1                    1                    1  ...   \n",
      "1                   lh                   rh                   lh  ...   \n",
      "2                  NaN                  NaN                  NaN  ...   \n",
      "3     47.4610366821289   26.746612548828125  -35.898860931396484  ...   \n",
      "4  -1.2106596231460571  -19.012897491455078   19.568010330200195  ...   \n",
      "\n",
      "                 16.5                16.6                16.7  \\\n",
      "0                   3                   4                   4   \n",
      "1                  rh                  lh                  rh   \n",
      "2                 NaN                 NaN                 NaN   \n",
      "3  0.6079040169715881  -70.27054595947266   77.36577606201172   \n",
      "4   57.49507141113281  -76.39321899414062  127.26136016845705   \n",
      "\n",
      "                    17                17.1                 17.2  \\\n",
      "0                    1                   1                    2   \n",
      "1                   lh                  rh                   lh   \n",
      "2                  NaN                 NaN                  NaN   \n",
      "3   -21.73455047607422  1.0282527208328247   7.7917842864990225   \n",
      "4  -13.035799026489258    46.3818244934082  -15.752449989318848   \n",
      "\n",
      "                17.3                 17.4                17.5  \\\n",
      "0                  2                    3                   3   \n",
      "1                 rh                   lh                  rh   \n",
      "2                NaN                  NaN                 NaN   \n",
      "3  68.90372467041016  -10.520872116088867  120.49046325683594   \n",
      "4  31.00033187866211  -39.607521057128906   24.76401138305664   \n",
      "\n",
      "                  17.6  \n",
      "0                    4  \n",
      "1                   lh  \n",
      "2                  NaN  \n",
      "3  -39.686431884765625  \n",
      "4    -36.7710075378418  \n",
      "\n",
      "[5 rows x 63 columns]\n"
     ]
    }
   ],
   "source": [
    "df = examine_file(file=\"toydata/brain_networks.csv\")"
   ]
  },
  {
   "cell_type": "code",
   "execution_count": 19,
   "metadata": {},
   "outputs": [
    {
     "name": "stdout",
     "output_type": "stream",
     "text": [
      "(51, 8)\n",
      "\n",
      "   total  speeding  alcohol  not_distracted  no_previous  ins_premium  \\\n",
      "0   18.8     7.332    5.640          18.048       15.040       784.55   \n",
      "1   18.1     7.421    4.525          16.290       17.014      1053.48   \n",
      "2   18.6     6.510    5.208          15.624       17.856       899.47   \n",
      "3   22.4     4.032    5.824          21.056       21.280       827.34   \n",
      "4   12.0     4.200    3.360          10.920       10.680       878.41   \n",
      "\n",
      "   ins_losses abbrev  \n",
      "0      145.08     AL  \n",
      "1      133.93     AK  \n",
      "2      110.35     AZ  \n",
      "3      142.39     AR  \n",
      "4      165.63     CA  \n"
     ]
    }
   ],
   "source": [
    "df = examine_file(file=\"toydata/car_crashes.csv\")"
   ]
  },
  {
   "cell_type": "code",
   "execution_count": 20,
   "metadata": {},
   "outputs": [
    {
     "name": "stdout",
     "output_type": "stream",
     "text": [
      "(442, 11)\n",
      "\n",
      "        age       sex       bmi        bp        s1        s2        s3  \\\n",
      "0  0.038076  0.050680  0.061696  0.021872 -0.044223 -0.034821 -0.043401   \n",
      "1 -0.001882 -0.044642 -0.051474 -0.026328 -0.008449 -0.019163  0.074412   \n",
      "2  0.085299  0.050680  0.044451 -0.005670 -0.045599 -0.034194 -0.032356   \n",
      "3 -0.089063 -0.044642 -0.011595 -0.036656  0.012191  0.024991 -0.036038   \n",
      "4  0.005383 -0.044642 -0.036385  0.021872  0.003935  0.015596  0.008142   \n",
      "\n",
      "         s4        s5        s6  target  \n",
      "0 -0.002592  0.019907 -0.017646   151.0  \n",
      "1 -0.039493 -0.068332 -0.092204    75.0  \n",
      "2 -0.002592  0.002861 -0.025930   141.0  \n",
      "3  0.034309  0.022688 -0.009362   206.0  \n",
      "4 -0.002592 -0.031988 -0.046641   135.0  \n"
     ]
    }
   ],
   "source": [
    "df = examine_file(file=\"toydata/diabetes.csv\")"
   ]
  },
  {
   "cell_type": "code",
   "execution_count": 21,
   "metadata": {},
   "outputs": [
    {
     "name": "stdout",
     "output_type": "stream",
     "text": [
      "(53940, 10)\n",
      "\n",
      "   carat      cut color clarity  depth  table  price     x     y     z\n",
      "0   0.23    Ideal     E     SI2   61.5   55.0    326  3.95  3.98  2.43\n",
      "1   0.21  Premium     E     SI1   59.8   61.0    326  3.89  3.84  2.31\n",
      "2   0.23     Good     E     VS1   56.9   65.0    327  4.05  4.07  2.31\n",
      "3   0.29  Premium     I     VS2   62.4   58.0    334  4.20  4.23  2.63\n",
      "4   0.31     Good     J     SI2   63.3   58.0    335  4.34  4.35  2.75\n"
     ]
    }
   ],
   "source": [
    "df = examine_file(file=\"toydata/diamonds.csv\")"
   ]
  },
  {
   "cell_type": "code",
   "execution_count": 22,
   "metadata": {},
   "outputs": [
    {
     "name": "stdout",
     "output_type": "stream",
     "text": [
      "(848, 5)\n",
      "\n",
      "  align choice  time  coherence  firing_rate\n",
      "0  dots     T1   -80        0.0    33.189967\n",
      "1  dots     T1   -80        3.2    31.691726\n",
      "2  dots     T1   -80        6.4    34.279840\n",
      "3  dots     T1   -80       12.8    32.631874\n",
      "4  dots     T1   -80       25.6    35.060487\n"
     ]
    }
   ],
   "source": [
    "df = examine_file(file=\"toydata/dots.csv\")"
   ]
  },
  {
   "cell_type": "code",
   "execution_count": 23,
   "metadata": {},
   "outputs": [
    {
     "name": "stdout",
     "output_type": "stream",
     "text": [
      "(90, 6)\n",
      "\n",
      "   Unnamed: 0  id     diet  pulse    time  kind\n",
      "0           0   1  low fat     85   1 min  rest\n",
      "1           1   1  low fat     85  15 min  rest\n",
      "2           2   1  low fat     88  30 min  rest\n",
      "3           3   2  low fat     90   1 min  rest\n",
      "4           4   2  low fat     92  15 min  rest\n"
     ]
    }
   ],
   "source": [
    "df = examine_file(file=\"toydata/exercise.csv\")"
   ]
  },
  {
   "cell_type": "code",
   "execution_count": 24,
   "metadata": {},
   "outputs": [
    {
     "name": "stdout",
     "output_type": "stream",
     "text": [
      "(144, 3)\n",
      "\n",
      "   year month  passengers\n",
      "0  1949   Jan         112\n",
      "1  1949   Feb         118\n",
      "2  1949   Mar         132\n",
      "3  1949   Apr         129\n",
      "4  1949   May         121\n"
     ]
    }
   ],
   "source": [
    "df = examine_file(file=\"toydata/flights.csv\")"
   ]
  },
  {
   "cell_type": "code",
   "execution_count": 25,
   "metadata": {},
   "outputs": [
    {
     "name": "stdout",
     "output_type": "stream",
     "text": [
      "(1064, 5)\n",
      "\n",
      "  subject  timepoint event    region    signal\n",
      "0     s13         18  stim  parietal -0.017552\n",
      "1      s5         14  stim  parietal -0.080883\n",
      "2     s12         18  stim  parietal -0.081033\n",
      "3     s11         18  stim  parietal -0.046134\n",
      "4     s10         18  stim  parietal -0.037970\n"
     ]
    }
   ],
   "source": [
    "df = examine_file(file=\"toydata/fmri.csv\")"
   ]
  },
  {
   "cell_type": "code",
   "execution_count": 26,
   "metadata": {},
   "outputs": [
    {
     "name": "stdout",
     "output_type": "stream",
     "text": [
      "(6000, 4)\n",
      "\n",
      "   timepoint  ROI  subject  BOLD signal\n",
      "0        0.0  IPS        0     0.513433\n",
      "1        0.0  IPS        1    -0.414368\n",
      "2        0.0  IPS        2     0.214695\n",
      "3        0.0  IPS        3     0.814809\n",
      "4        0.0  IPS        4    -0.894992\n"
     ]
    }
   ],
   "source": [
    "df = examine_file(file=\"toydata/gammas.csv\")"
   ]
  },
  {
   "cell_type": "code",
   "execution_count": 27,
   "metadata": {},
   "outputs": [
    {
     "name": "stdout",
     "output_type": "stream",
     "text": [
      "(272, 3)\n",
      "\n",
      "   duration  waiting   kind\n",
      "0     3.600       79   long\n",
      "1     1.800       54  short\n",
      "2     3.333       74   long\n",
      "3     2.283       62  short\n",
      "4     4.533       85   long\n"
     ]
    }
   ],
   "source": [
    "df = examine_file(file=\"toydata/geyser.csv\")"
   ]
  },
  {
   "cell_type": "code",
   "execution_count": 28,
   "metadata": {},
   "outputs": [
    {
     "name": "stdout",
     "output_type": "stream",
     "text": [
      "(150, 5)\n",
      "\n",
      "   sepal length (cm)  sepal width (cm)  petal length (cm)  petal width (cm)  \\\n",
      "0                5.1               3.5                1.4               0.2   \n",
      "1                4.9               3.0                1.4               0.2   \n",
      "2                4.7               3.2                1.3               0.2   \n",
      "3                4.6               3.1                1.5               0.2   \n",
      "4                5.0               3.6                1.4               0.2   \n",
      "\n",
      "   target  \n",
      "0       0  \n",
      "1       0  \n",
      "2       0  \n",
      "3       0  \n",
      "4       0  \n"
     ]
    }
   ],
   "source": [
    "df = examine_file(file=\"toydata/iris.csv\")"
   ]
  },
  {
   "cell_type": "code",
   "execution_count": 29,
   "metadata": {},
   "outputs": [
    {
     "name": "stdout",
     "output_type": "stream",
     "text": [
      "(398, 9)\n",
      "\n",
      "    mpg  cylinders  displacement  horsepower  weight  acceleration  \\\n",
      "0  18.0          8         307.0       130.0    3504          12.0   \n",
      "1  15.0          8         350.0       165.0    3693          11.5   \n",
      "2  18.0          8         318.0       150.0    3436          11.0   \n",
      "3  16.0          8         304.0       150.0    3433          12.0   \n",
      "4  17.0          8         302.0       140.0    3449          10.5   \n",
      "\n",
      "   model_year origin                       name  \n",
      "0          70    usa  chevrolet chevelle malibu  \n",
      "1          70    usa          buick skylark 320  \n",
      "2          70    usa         plymouth satellite  \n",
      "3          70    usa              amc rebel sst  \n",
      "4          70    usa                ford torino  \n"
     ]
    }
   ],
   "source": [
    "df = examine_file(file=\"toydata/mpg.csv\")"
   ]
  },
  {
   "cell_type": "code",
   "execution_count": 30,
   "metadata": {},
   "outputs": [
    {
     "name": "stdout",
     "output_type": "stream",
     "text": [
      "(344, 7)\n",
      "\n",
      "  species     island  bill_length_mm  bill_depth_mm  flipper_length_mm  \\\n",
      "0  Adelie  Torgersen            39.1           18.7              181.0   \n",
      "1  Adelie  Torgersen            39.5           17.4              186.0   \n",
      "2  Adelie  Torgersen            40.3           18.0              195.0   \n",
      "3  Adelie  Torgersen             NaN            NaN                NaN   \n",
      "4  Adelie  Torgersen            36.7           19.3              193.0   \n",
      "\n",
      "   body_mass_g     sex  \n",
      "0       3750.0    Male  \n",
      "1       3800.0  Female  \n",
      "2       3250.0  Female  \n",
      "3          NaN     NaN  \n",
      "4       3450.0  Female  \n"
     ]
    }
   ],
   "source": [
    "df = examine_file(file=\"toydata/penguins.csv\")"
   ]
  },
  {
   "cell_type": "code",
   "execution_count": 31,
   "metadata": {},
   "outputs": [
    {
     "name": "stdout",
     "output_type": "stream",
     "text": [
      "(1035, 6)\n",
      "\n",
      "            method  number  orbital_period   mass  distance  year\n",
      "0  Radial Velocity       1         269.300   7.10     77.40  2006\n",
      "1  Radial Velocity       1         874.774   2.21     56.95  2008\n",
      "2  Radial Velocity       1         763.000   2.60     19.84  2011\n",
      "3  Radial Velocity       1         326.030  19.40    110.62  2007\n",
      "4  Radial Velocity       1         516.220  10.50    119.47  2009\n"
     ]
    }
   ],
   "source": [
    "df = examine_file(file=\"toydata/planets.csv\")"
   ]
  },
  {
   "cell_type": "code",
   "execution_count": 32,
   "metadata": {},
   "outputs": [
    {
     "name": "stdout",
     "output_type": "stream",
     "text": [
      "(6433, 14)\n",
      "\n",
      "                pickup              dropoff  passengers  distance  fare   tip  \\\n",
      "0  2019-03-23 20:21:09  2019-03-23 20:27:24           1      1.60   7.0  2.15   \n",
      "1  2019-03-04 16:11:55  2019-03-04 16:19:00           1      0.79   5.0  0.00   \n",
      "2  2019-03-27 17:53:01  2019-03-27 18:00:25           1      1.37   7.5  2.36   \n",
      "3  2019-03-10 01:23:59  2019-03-10 01:49:51           1      7.70  27.0  6.15   \n",
      "4  2019-03-30 13:27:42  2019-03-30 13:37:14           3      2.16   9.0  1.10   \n",
      "\n",
      "   tolls  total   color      payment            pickup_zone  \\\n",
      "0    0.0  12.95  yellow  credit card        Lenox Hill West   \n",
      "1    0.0   9.30  yellow         cash  Upper West Side South   \n",
      "2    0.0  14.16  yellow  credit card          Alphabet City   \n",
      "3    0.0  36.95  yellow  credit card              Hudson Sq   \n",
      "4    0.0  13.40  yellow  credit card           Midtown East   \n",
      "\n",
      "            dropoff_zone pickup_borough dropoff_borough  \n",
      "0    UN/Turtle Bay South      Manhattan       Manhattan  \n",
      "1  Upper West Side South      Manhattan       Manhattan  \n",
      "2           West Village      Manhattan       Manhattan  \n",
      "3         Yorkville West      Manhattan       Manhattan  \n",
      "4         Yorkville West      Manhattan       Manhattan  \n"
     ]
    }
   ],
   "source": [
    "df = examine_file(file=\"toydata/taxis.csv\")"
   ]
  },
  {
   "cell_type": "code",
   "execution_count": 33,
   "metadata": {},
   "outputs": [
    {
     "name": "stdout",
     "output_type": "stream",
     "text": [
      "(244, 7)\n",
      "\n",
      "   total_bill   tip     sex smoker  day    time  size\n",
      "0       16.99  1.01  Female     No  Sun  Dinner     2\n",
      "1       10.34  1.66    Male     No  Sun  Dinner     3\n",
      "2       21.01  3.50    Male     No  Sun  Dinner     3\n",
      "3       23.68  3.31    Male     No  Sun  Dinner     2\n",
      "4       24.59  3.61  Female     No  Sun  Dinner     4\n"
     ]
    }
   ],
   "source": [
    "df = examine_file(file=\"toydata/tips.csv\")"
   ]
  },
  {
   "cell_type": "code",
   "execution_count": 34,
   "metadata": {},
   "outputs": [
    {
     "name": "stdout",
     "output_type": "stream",
     "text": [
      "(891, 15)\n",
      "\n",
      "   survived  pclass     sex   age  sibsp  parch     fare embarked  class  \\\n",
      "0         0       3    male  22.0      1      0   7.2500        S  Third   \n",
      "1         1       1  female  38.0      1      0  71.2833        C  First   \n",
      "2         1       3  female  26.0      0      0   7.9250        S  Third   \n",
      "3         1       1  female  35.0      1      0  53.1000        S  First   \n",
      "4         0       3    male  35.0      0      0   8.0500        S  Third   \n",
      "\n",
      "     who  adult_male deck  embark_town alive  alone  \n",
      "0    man        True  NaN  Southampton    no  False  \n",
      "1  woman       False    C    Cherbourg   yes  False  \n",
      "2  woman       False  NaN  Southampton   yes   True  \n",
      "3  woman       False    C  Southampton   yes  False  \n",
      "4    man        True  NaN  Southampton    no   True  \n"
     ]
    }
   ],
   "source": [
    "df = examine_file(file=\"toydata/titanic.csv\")"
   ]
  },
  {
   "cell_type": "code",
   "execution_count": 35,
   "metadata": {},
   "outputs": [
    {
     "name": "stdout",
     "output_type": "stream",
     "text": [
      "(178, 14)\n",
      "\n",
      "   alcohol  malic_acid   ash  alcalinity_of_ash  magnesium  total_phenols  \\\n",
      "0    14.23        1.71  2.43               15.6      127.0           2.80   \n",
      "1    13.20        1.78  2.14               11.2      100.0           2.65   \n",
      "2    13.16        2.36  2.67               18.6      101.0           2.80   \n",
      "3    14.37        1.95  2.50               16.8      113.0           3.85   \n",
      "4    13.24        2.59  2.87               21.0      118.0           2.80   \n",
      "\n",
      "   flavanoids  nonflavanoid_phenols  proanthocyanins  color_intensity   hue  \\\n",
      "0        3.06                  0.28             2.29             5.64  1.04   \n",
      "1        2.76                  0.26             1.28             4.38  1.05   \n",
      "2        3.24                  0.30             2.81             5.68  1.03   \n",
      "3        3.49                  0.24             2.18             7.80  0.86   \n",
      "4        2.69                  0.39             1.82             4.32  1.04   \n",
      "\n",
      "   od280/od315_of_diluted_wines  proline  target  \n",
      "0                          3.92   1065.0       0  \n",
      "1                          3.40   1050.0       0  \n",
      "2                          3.17   1185.0       0  \n",
      "3                          3.45   1480.0       0  \n",
      "4                          2.93    735.0       0  \n"
     ]
    }
   ],
   "source": [
    "df = examine_file(file=\"toydata/wine.csv\")"
   ]
  },
  {
   "cell_type": "code",
   "execution_count": null,
   "metadata": {},
   "outputs": [],
   "source": []
  },
  {
   "cell_type": "code",
   "execution_count": null,
   "metadata": {},
   "outputs": [],
   "source": []
  }
 ],
 "metadata": {
  "kernelspec": {
   "display_name": "Python 3",
   "language": "python",
   "name": "python3"
  },
  "language_info": {
   "codemirror_mode": {
    "name": "ipython",
    "version": 3
   },
   "file_extension": ".py",
   "mimetype": "text/x-python",
   "name": "python",
   "nbconvert_exporter": "python",
   "pygments_lexer": "ipython3",
   "version": "3.12.1"
  }
 },
 "nbformat": 4,
 "nbformat_minor": 2
}
