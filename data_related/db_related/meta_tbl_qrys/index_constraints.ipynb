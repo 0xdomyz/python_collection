{
 "cells": [
  {
   "cell_type": "code",
   "execution_count": null,
   "id": "7c567ed8",
   "metadata": {},
   "outputs": [],
   "source": [
    "import sqlalchemy as sa\n",
    "import pandas as pd\n",
    "import os\n",
    "\n",
    "# add run method to engine\n",
    "def run(self: sa.engine.Engine, sql:str) -> pd.DataFrame | None:\n",
    "    with self.begin() as conn:\n",
    "        res = conn.execute(sa.text(sql))\n",
    "        if res.returns_rows:\n",
    "            return pd.DataFrame(res.all(), columns=res.keys())\n",
    "\n",
    "sa.engine.Engine.run = run\n"
   ]
  },
  {
   "cell_type": "markdown",
   "id": "70f44612",
   "metadata": {},
   "source": [
    "### pg"
   ]
  },
  {
   "cell_type": "code",
   "execution_count": null,
   "id": "560150f9",
   "metadata": {},
   "outputs": [],
   "source": [
    "connection_string = f\"://:{os.environ['password']}@\"\n",
    "eng = sa.create_engine(connection_string)"
   ]
  },
  {
   "cell_type": "code",
   "execution_count": null,
   "id": "518cff68",
   "metadata": {},
   "outputs": [],
   "source": [
    "qry = f\"\"\"\n",
    "SELECT \n",
    "    tc.table_schema,\n",
    "    tc.table_name,\n",
    "    kcu.column_name,\n",
    "    tc.constraint_name,\n",
    "    tc.constraint_type\n",
    "FROM information_schema.table_constraints tc\n",
    "JOIN information_schema.key_column_usage kcu \n",
    "    ON tc.constraint_name = kcu.constraint_name\n",
    "    AND tc.table_schema = kcu.table_schema\n",
    "WHERE tc.constraint_type = 'PRIMARY KEY'\n",
    "    AND tc.table_schema = 'kraken'\n",
    "    AND tc.table_name = 'trades_history'\n",
    "ORDER BY kcu.ordinal_position;\n",
    "\"\"\"\n",
    "\n",
    "df = eng.run(qry)\n",
    "df"
   ]
  },
  {
   "cell_type": "markdown",
   "id": "52fa3cfe",
   "metadata": {},
   "source": [
    "### tera"
   ]
  },
  {
   "cell_type": "code",
   "execution_count": null,
   "id": "fad7b2e4",
   "metadata": {},
   "outputs": [],
   "source": [
    "# Teradata query for table constraints and indexes\n",
    "qry = f\"\"\"\n",
    "SELECT \n",
    "    d.DatabaseName as table_schema,\n",
    "    t.TableName as table_name,\n",
    "    i.ColumnName as column_name,\n",
    "    i.IndexName as constraint_name,\n",
    "    CASE \n",
    "        WHEN i.UniqueFlag = 'Y' THEN 'UNIQUE'\n",
    "        WHEN i.IndexType = 'P' THEN 'PRIMARY KEY'\n",
    "        WHEN i.IndexType = 'S' THEN 'SECONDARY INDEX'\n",
    "        WHEN i.IndexType = 'J' THEN 'JOIN INDEX'\n",
    "        ELSE 'INDEX'\n",
    "    END as constraint_type,\n",
    "    i.IndexType,\n",
    "    i.UniqueFlag,\n",
    "    i.ColumnPosition\n",
    "FROM DBC.IndicesV i\n",
    "JOIN DBC.TablesV t ON i.DatabaseName = t.DatabaseName AND i.TableName = t.TableName\n",
    "JOIN DBC.DatabasesV d ON i.DatabaseName = d.DatabaseName\n",
    "WHERE i.DatabaseName = 'your_database_name'\n",
    "    AND i.TableName = 'your_table_name'\n",
    "    AND t.TableKind = 'T'  -- Only tables, not views\n",
    "ORDER BY i.IndexName, i.ColumnPosition;\n",
    "\"\"\"\n",
    "\n",
    "df = eng.run(qry)\n",
    "df"
   ]
  },
  {
   "cell_type": "code",
   "execution_count": null,
   "id": "4c8dc7ca",
   "metadata": {},
   "outputs": [],
   "source": []
  },
  {
   "cell_type": "code",
   "execution_count": null,
   "id": "6bde5e09",
   "metadata": {},
   "outputs": [],
   "source": []
  }
 ],
 "metadata": {
  "language_info": {
   "name": "python"
  }
 },
 "nbformat": 4,
 "nbformat_minor": 5
}
