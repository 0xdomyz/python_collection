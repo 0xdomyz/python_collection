{
 "cells": [
  {
   "cell_type": "code",
   "execution_count": 2,
   "id": "71ccceea",
   "metadata": {},
   "outputs": [
    {
     "data": {
      "text/plain": [
       "'tree.png'"
      ]
     },
     "execution_count": 2,
     "metadata": {},
     "output_type": "execute_result"
    }
   ],
   "source": [
    "from graphviz import Digraph\n",
    "\n",
    "\n",
    "class Node:\n",
    "    def __init__(self, name, parent=None):\n",
    "        self.name = name\n",
    "        self.parent = parent\n",
    "        self.children = []\n",
    "\n",
    "    def add_child(self, child_node):\n",
    "        child_node.parent = self\n",
    "        self.children.append(child_node)\n",
    "\n",
    "\n",
    "# Build the tree\n",
    "root = Node(\"grandparent\")\n",
    "parent = Node(\"parent\")\n",
    "child = Node(\"child\")\n",
    "grandchild = Node(\"grandchild\")\n",
    "\n",
    "root.add_child(parent)\n",
    "parent.add_child(child)\n",
    "child.add_child(grandchild)\n",
    "\n",
    "\n",
    "# Visualization function\n",
    "def visualize_tree(node, graph=None):\n",
    "    if graph is None:\n",
    "        graph = Digraph()\n",
    "    for child in node.children:\n",
    "        graph.edge(node.name, child.name)\n",
    "        visualize_tree(child, graph)\n",
    "    return graph\n",
    "\n",
    "\n",
    "# Create and render the graph\n",
    "dot = visualize_tree(root)\n",
    "dot.render(\"tree\", view=True, format=\"png\")  # This will create and open 'tree.png'"
   ]
  },
  {
   "cell_type": "code",
   "execution_count": null,
   "id": "3b9487cf",
   "metadata": {},
   "outputs": [],
   "source": []
  }
 ],
 "metadata": {
  "kernelspec": {
   "display_name": "Python 3",
   "language": "python",
   "name": "python3"
  },
  "language_info": {
   "codemirror_mode": {
    "name": "ipython",
    "version": 3
   },
   "file_extension": ".py",
   "mimetype": "text/x-python",
   "name": "python",
   "nbconvert_exporter": "python",
   "pygments_lexer": "ipython3",
   "version": "3.13.2"
  }
 },
 "nbformat": 4,
 "nbformat_minor": 5
}
