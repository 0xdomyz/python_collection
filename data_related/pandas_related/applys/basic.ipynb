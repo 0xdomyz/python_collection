{
 "cells": [
  {
   "cell_type": "markdown",
   "metadata": {},
   "source": [
    "### libs"
   ]
  },
  {
   "cell_type": "code",
   "execution_count": 1,
   "metadata": {},
   "outputs": [],
   "source": [
    "import numpy as np\n",
    "import pandas as pd\n",
    "import matplotlib.pyplot as plt\n",
    "import matplotlib as mpl"
   ]
  },
  {
   "cell_type": "markdown",
   "metadata": {},
   "source": [
    "### data"
   ]
  },
  {
   "cell_type": "code",
   "execution_count": 2,
   "metadata": {},
   "outputs": [
    {
     "name": "stdout",
     "output_type": "stream",
     "text": [
      "df.shape = (891, 4)\n",
      "   survived    who   age     fare\n",
      "0         0    man  22.0   7.2500\n",
      "1         1  woman  38.0  71.2833\n",
      "2         1  woman  26.0   7.9250\n",
      "3         1  woman  35.0  53.1000\n",
      "4         0    man  35.0   8.0500\n"
     ]
    }
   ],
   "source": [
    "import seaborn as sns\n",
    "\n",
    "df = sns.load_dataset('titanic')[['survived', 'who','age','fare']]\n",
    "print(f\"{df.shape = }\")\n",
    "print(df.head().to_string())"
   ]
  },
  {
   "cell_type": "markdown",
   "metadata": {},
   "source": [
    "### Different return types from apply()\n"
   ]
  },
  {
   "cell_type": "code",
   "execution_count": 7,
   "metadata": {},
   "outputs": [
    {
     "name": "stdout",
     "output_type": "stream",
     "text": [
      "Scalar return:\n",
      "Type: <class 'pandas.core.series.Series'>, Shape: (3,)\n"
     ]
    },
    {
     "data": {
      "application/vnd.microsoft.datawrangler.viewer.v0+json": {
       "columns": [
        {
         "name": "who",
         "rawType": "object",
         "type": "string"
        },
        {
         "name": "0",
         "rawType": "int64",
         "type": "integer"
        }
       ],
       "ref": "16c7793a-0793-4f5b-a71f-5ca8e2dfe237",
       "rows": [
        [
         "child",
         "83"
        ],
        [
         "man",
         "537"
        ],
        [
         "woman",
         "271"
        ]
       ],
       "shape": {
        "columns": 1,
        "rows": 3
       }
      },
      "text/plain": [
       "who\n",
       "child     83\n",
       "man      537\n",
       "woman    271\n",
       "dtype: int64"
      ]
     },
     "execution_count": 7,
     "metadata": {},
     "output_type": "execute_result"
    }
   ],
   "source": [
    "print(\"Scalar return:\")\n",
    "result1 = df.groupby('who').apply(lambda x: len(x), include_groups=False)\n",
    "print(f\"Type: {type(result1)}, Shape: {result1.shape}\")\n",
    "result1"
   ]
  },
  {
   "cell_type": "code",
   "execution_count": 8,
   "metadata": {},
   "outputs": [
    {
     "name": "stdout",
     "output_type": "stream",
     "text": [
      "\n",
      "Series return (your case):\n",
      "Type: <class 'pandas.core.series.Series'>, Index levels: 2\n"
     ]
    },
    {
     "data": {
      "application/vnd.microsoft.datawrangler.viewer.v0+json": {
       "columns": [
        {
         "name": "('who', None)",
         "rawType": "object",
         "type": "unknown"
        },
        {
         "name": "0",
         "rawType": "int64",
         "type": "integer"
        }
       ],
       "ref": "4ef43419-44da-4a69-8f55-124d43c53be0",
       "rows": [
        [
         "('child', np.int64(7))",
         "0"
        ],
        [
         "('child', np.int64(9))",
         "1"
        ],
        [
         "('child', np.int64(10))",
         "2"
        ],
        [
         "('child', np.int64(14))",
         "3"
        ],
        [
         "('child', np.int64(16))",
         "4"
        ],
        [
         "('child', np.int64(22))",
         "5"
        ],
        [
         "('child', np.int64(24))",
         "6"
        ],
        [
         "('child', np.int64(39))",
         "7"
        ],
        [
         "('child', np.int64(43))",
         "8"
        ],
        [
         "('child', np.int64(50))",
         "9"
        ],
        [
         "('child', np.int64(58))",
         "10"
        ],
        [
         "('child', np.int64(59))",
         "11"
        ],
        [
         "('child', np.int64(63))",
         "12"
        ],
        [
         "('child', np.int64(78))",
         "13"
        ],
        [
         "('child', np.int64(111))",
         "14"
        ],
        [
         "('child', np.int64(119))",
         "15"
        ],
        [
         "('child', np.int64(125))",
         "16"
        ],
        [
         "('child', np.int64(147))",
         "17"
        ],
        [
         "('child', np.int64(164))",
         "18"
        ],
        [
         "('child', np.int64(165))",
         "19"
        ],
        [
         "('child', np.int64(171))",
         "20"
        ],
        [
         "('child', np.int64(172))",
         "21"
        ],
        [
         "('child', np.int64(182))",
         "22"
        ],
        [
         "('child', np.int64(183))",
         "23"
        ],
        [
         "('child', np.int64(184))",
         "24"
        ],
        [
         "('child', np.int64(193))",
         "25"
        ],
        [
         "('child', np.int64(205))",
         "26"
        ],
        [
         "('child', np.int64(233))",
         "27"
        ],
        [
         "('child', np.int64(237))",
         "28"
        ],
        [
         "('child', np.int64(261))",
         "29"
        ],
        [
         "('child', np.int64(278))",
         "30"
        ],
        [
         "('child', np.int64(297))",
         "31"
        ],
        [
         "('child', np.int64(305))",
         "32"
        ],
        [
         "('child', np.int64(340))",
         "33"
        ],
        [
         "('child', np.int64(348))",
         "34"
        ],
        [
         "('child', np.int64(352))",
         "35"
        ],
        [
         "('child', np.int64(374))",
         "36"
        ],
        [
         "('child', np.int64(381))",
         "37"
        ],
        [
         "('child', np.int64(386))",
         "38"
        ],
        [
         "('child', np.int64(407))",
         "39"
        ],
        [
         "('child', np.int64(419))",
         "40"
        ],
        [
         "('child', np.int64(435))",
         "41"
        ],
        [
         "('child', np.int64(445))",
         "42"
        ],
        [
         "('child', np.int64(446))",
         "43"
        ],
        [
         "('child', np.int64(448))",
         "44"
        ],
        [
         "('child', np.int64(469))",
         "45"
        ],
        [
         "('child', np.int64(479))",
         "46"
        ],
        [
         "('child', np.int64(480))",
         "47"
        ],
        [
         "('child', np.int64(489))",
         "48"
        ],
        [
         "('child', np.int64(530))",
         "49"
        ]
       ],
       "shape": {
        "columns": 1,
        "rows": 891
       }
      },
      "text/plain": [
       "who       \n",
       "child  7        0\n",
       "       9        1\n",
       "       10       2\n",
       "       14       3\n",
       "       16       4\n",
       "             ... \n",
       "woman  880    266\n",
       "       882    267\n",
       "       885    268\n",
       "       887    269\n",
       "       888    270\n",
       "Length: 891, dtype: int64"
      ]
     },
     "execution_count": 8,
     "metadata": {},
     "output_type": "execute_result"
    }
   ],
   "source": [
    "print(\"\\nSeries return (your case):\")\n",
    "result2 = df.groupby('who').apply(lambda x: pd.Series(np.arange(len(x)), x.index), include_groups=False)\n",
    "print(f\"Type: {type(result2)}, Index levels: {result2.index.nlevels}\")\n",
    "result2"
   ]
  },
  {
   "cell_type": "code",
   "execution_count": 9,
   "metadata": {},
   "outputs": [
    {
     "name": "stdout",
     "output_type": "stream",
     "text": [
      "\n",
      "DataFrame return:\n",
      "Type: <class 'pandas.core.frame.DataFrame'>, Index levels: 2\n"
     ]
    },
    {
     "data": {
      "application/vnd.microsoft.datawrangler.viewer.v0+json": {
       "columns": [
        {
         "name": "('who', None)",
         "rawType": "object",
         "type": "unknown"
        },
        {
         "name": "age",
         "rawType": "float64",
         "type": "float"
        },
        {
         "name": "fare",
         "rawType": "float64",
         "type": "float"
        }
       ],
       "ref": "1efc2cb0-7a50-49d8-932c-13a3097c9c5a",
       "rows": [
        [
         "('child', np.int64(7))",
         "2.0",
         "21.075"
        ],
        [
         "('child', np.int64(9))",
         "14.0",
         "30.0708"
        ],
        [
         "('man', np.int64(0))",
         "22.0",
         "7.25"
        ],
        [
         "('man', np.int64(4))",
         "35.0",
         "8.05"
        ],
        [
         "('woman', np.int64(1))",
         "38.0",
         "71.2833"
        ],
        [
         "('woman', np.int64(2))",
         "26.0",
         "7.925"
        ]
       ],
       "shape": {
        "columns": 2,
        "rows": 6
       }
      },
      "text/html": [
       "<div>\n",
       "<style scoped>\n",
       "    .dataframe tbody tr th:only-of-type {\n",
       "        vertical-align: middle;\n",
       "    }\n",
       "\n",
       "    .dataframe tbody tr th {\n",
       "        vertical-align: top;\n",
       "    }\n",
       "\n",
       "    .dataframe thead th {\n",
       "        text-align: right;\n",
       "    }\n",
       "</style>\n",
       "<table border=\"1\" class=\"dataframe\">\n",
       "  <thead>\n",
       "    <tr style=\"text-align: right;\">\n",
       "      <th></th>\n",
       "      <th></th>\n",
       "      <th>age</th>\n",
       "      <th>fare</th>\n",
       "    </tr>\n",
       "    <tr>\n",
       "      <th>who</th>\n",
       "      <th></th>\n",
       "      <th></th>\n",
       "      <th></th>\n",
       "    </tr>\n",
       "  </thead>\n",
       "  <tbody>\n",
       "    <tr>\n",
       "      <th rowspan=\"2\" valign=\"top\">child</th>\n",
       "      <th>7</th>\n",
       "      <td>2.0</td>\n",
       "      <td>21.0750</td>\n",
       "    </tr>\n",
       "    <tr>\n",
       "      <th>9</th>\n",
       "      <td>14.0</td>\n",
       "      <td>30.0708</td>\n",
       "    </tr>\n",
       "    <tr>\n",
       "      <th rowspan=\"2\" valign=\"top\">man</th>\n",
       "      <th>0</th>\n",
       "      <td>22.0</td>\n",
       "      <td>7.2500</td>\n",
       "    </tr>\n",
       "    <tr>\n",
       "      <th>4</th>\n",
       "      <td>35.0</td>\n",
       "      <td>8.0500</td>\n",
       "    </tr>\n",
       "    <tr>\n",
       "      <th rowspan=\"2\" valign=\"top\">woman</th>\n",
       "      <th>1</th>\n",
       "      <td>38.0</td>\n",
       "      <td>71.2833</td>\n",
       "    </tr>\n",
       "    <tr>\n",
       "      <th>2</th>\n",
       "      <td>26.0</td>\n",
       "      <td>7.9250</td>\n",
       "    </tr>\n",
       "  </tbody>\n",
       "</table>\n",
       "</div>"
      ],
      "text/plain": [
       "          age     fare\n",
       "who                   \n",
       "child 7   2.0  21.0750\n",
       "      9  14.0  30.0708\n",
       "man   0  22.0   7.2500\n",
       "      4  35.0   8.0500\n",
       "woman 1  38.0  71.2833\n",
       "      2  26.0   7.9250"
      ]
     },
     "execution_count": 9,
     "metadata": {},
     "output_type": "execute_result"
    }
   ],
   "source": [
    "print(\"\\nDataFrame return:\")\n",
    "result3 = df.groupby('who').apply(lambda x: x[['age', 'fare']].head(2), include_groups=False)\n",
    "print(f\"Type: {type(result3)}, Index levels: {result3.index.nlevels}\")\n",
    "result3"
   ]
  },
  {
   "cell_type": "code",
   "execution_count": null,
   "metadata": {},
   "outputs": [],
   "source": []
  },
  {
   "cell_type": "code",
   "execution_count": null,
   "metadata": {},
   "outputs": [],
   "source": []
  },
  {
   "cell_type": "code",
   "execution_count": 3,
   "metadata": {},
   "outputs": [
    {
     "name": "stdout",
     "output_type": "stream",
     "text": [
      "   size\n",
      "0    1G\n",
      "1  500M\n",
      "2  750M\n",
      "3  100K\n",
      "4   50K\n"
     ]
    }
   ],
   "source": [
    "import pandas as pd\n",
    "\n",
    "# Create a list of file sizes\n",
    "file_sizes = [\"1G\", \"500M\", \"750M\", \"100K\", \"50K\"]\n",
    "\n",
    "# Create a DataFrame with the file sizes\n",
    "df = pd.DataFrame({\"size\": file_sizes})\n",
    "\n",
    "# Display the DataFrame\n",
    "print(df)"
   ]
  },
  {
   "cell_type": "code",
   "execution_count": 4,
   "metadata": {},
   "outputs": [],
   "source": [
    "def parse_size(size_str):\n",
    "    units = {\"G\": 1e9, \"M\": 1e6, \"K\": 1e3}\n",
    "    size = float(size_str[:-1])\n",
    "    unit = size_str[-1]\n",
    "    return size * units[unit]\n",
    "\n",
    "\n",
    "def handle_size(size_str):\n",
    "    try:\n",
    "        return parse_size(size_str)\n",
    "    except:\n",
    "        return None\n",
    "\n",
    "\n",
    "df[\"size\"] = df[\"size\"].apply(handle_size)\n",
    "df[\"size_mb\"] = df[\"size\"] / 1e6"
   ]
  },
  {
   "cell_type": "code",
   "execution_count": 5,
   "metadata": {},
   "outputs": [
    {
     "data": {
      "text/html": [
       "<div>\n",
       "<style scoped>\n",
       "    .dataframe tbody tr th:only-of-type {\n",
       "        vertical-align: middle;\n",
       "    }\n",
       "\n",
       "    .dataframe tbody tr th {\n",
       "        vertical-align: top;\n",
       "    }\n",
       "\n",
       "    .dataframe thead th {\n",
       "        text-align: right;\n",
       "    }\n",
       "</style>\n",
       "<table border=\"1\" class=\"dataframe\">\n",
       "  <thead>\n",
       "    <tr style=\"text-align: right;\">\n",
       "      <th></th>\n",
       "      <th>size</th>\n",
       "      <th>size_mb</th>\n",
       "    </tr>\n",
       "  </thead>\n",
       "  <tbody>\n",
       "    <tr>\n",
       "      <th>0</th>\n",
       "      <td>1.000000e+09</td>\n",
       "      <td>1000.00</td>\n",
       "    </tr>\n",
       "    <tr>\n",
       "      <th>1</th>\n",
       "      <td>5.000000e+08</td>\n",
       "      <td>500.00</td>\n",
       "    </tr>\n",
       "    <tr>\n",
       "      <th>2</th>\n",
       "      <td>7.500000e+08</td>\n",
       "      <td>750.00</td>\n",
       "    </tr>\n",
       "    <tr>\n",
       "      <th>3</th>\n",
       "      <td>1.000000e+05</td>\n",
       "      <td>0.10</td>\n",
       "    </tr>\n",
       "    <tr>\n",
       "      <th>4</th>\n",
       "      <td>5.000000e+04</td>\n",
       "      <td>0.05</td>\n",
       "    </tr>\n",
       "  </tbody>\n",
       "</table>\n",
       "</div>"
      ],
      "text/plain": [
       "           size  size_mb\n",
       "0  1.000000e+09  1000.00\n",
       "1  5.000000e+08   500.00\n",
       "2  7.500000e+08   750.00\n",
       "3  1.000000e+05     0.10\n",
       "4  5.000000e+04     0.05"
      ]
     },
     "execution_count": 5,
     "metadata": {},
     "output_type": "execute_result"
    }
   ],
   "source": [
    "df"
   ]
  },
  {
   "cell_type": "code",
   "execution_count": null,
   "metadata": {},
   "outputs": [],
   "source": []
  }
 ],
 "metadata": {
  "kernelspec": {
   "display_name": "Python 3",
   "language": "python",
   "name": "python3"
  },
  "language_info": {
   "codemirror_mode": {
    "name": "ipython",
    "version": 3
   },
   "file_extension": ".py",
   "mimetype": "text/x-python",
   "name": "python",
   "nbconvert_exporter": "python",
   "pygments_lexer": "ipython3",
   "version": "3.13.2"
  }
 },
 "nbformat": 4,
 "nbformat_minor": 2
}
