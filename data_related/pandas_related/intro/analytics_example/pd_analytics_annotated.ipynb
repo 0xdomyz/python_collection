{
 "cells": [
  {
   "cell_type": "markdown",
   "id": "b4a2e354",
   "metadata": {},
   "source": [
    "### libs"
   ]
  },
  {
   "cell_type": "code",
   "execution_count": 1,
   "id": "3e74e0c3",
   "metadata": {},
   "outputs": [],
   "source": [
    "import numpy as np\n",
    "import pandas as pd\n",
    "import matplotlib.pyplot as plt\n",
    "import matplotlib as mpl"
   ]
  },
  {
   "cell_type": "code",
   "execution_count": 2,
   "id": "29bdcb2d",
   "metadata": {},
   "outputs": [],
   "source": [
    "def make_bins(df: pd.DataFrame, col, bins: list) -> pd.Series:\n",
    "\n",
    "    res = pd.Series(index=df.index, dtype=object)\n",
    "\n",
    "    for i, bin_edge in enumerate(bins):\n",
    "        if i == 0:\n",
    "            res.loc[df[col] < bin_edge] = f\"[-Inf, {bin_edge})\"\n",
    "        else:\n",
    "            res.loc[(df[col] >= bins[i - 1]) & (df[col] < bin_edge)] = (\n",
    "                f\"[{bins[i-1]},{bin_edge})\"\n",
    "            )\n",
    "    res.loc[df[col] >= bins[-1]] = f\"[{bins[-1]},Inf)\"\n",
    "    return res"
   ]
  },
  {
   "cell_type": "markdown",
   "id": "016ff2ad",
   "metadata": {},
   "source": [
    "### data"
   ]
  },
  {
   "cell_type": "code",
   "execution_count": 3,
   "id": "71e4bca3",
   "metadata": {},
   "outputs": [
    {
     "name": "stdout",
     "output_type": "stream",
     "text": [
      "df.shape = (891, 4)\n",
      "   survived    who   age     fare\n",
      "0         0    man  22.0   7.2500\n",
      "1         1  woman  38.0  71.2833\n",
      "2         1  woman  26.0   7.9250\n",
      "3         1  woman  35.0  53.1000\n",
      "4         0    man  35.0   8.0500\n"
     ]
    }
   ],
   "source": [
    "import seaborn as sns\n",
    "\n",
    "df = sns.load_dataset(\"titanic\")[[\"survived\", \"who\", \"age\", \"fare\"]]\n",
    "print(f\"{df.shape = }\")\n",
    "print(df.head().to_string())"
   ]
  },
  {
   "cell_type": "code",
   "execution_count": 4,
   "id": "1853ad54",
   "metadata": {},
   "outputs": [],
   "source": [
    "# # expand df by 10000 times\n",
    "# df = pd.concat([df] * 10000, ignore_index=True)\n",
    "# df = df.sample(frac=1, random_state=42).reset_index(drop=True)\n",
    "# print(f\"{df.shape = }\")"
   ]
  },
  {
   "cell_type": "markdown",
   "id": "a97a649d",
   "metadata": {},
   "source": [
    "### step by step"
   ]
  },
  {
   "cell_type": "code",
   "execution_count": 5,
   "id": "15bb50b8",
   "metadata": {},
   "outputs": [],
   "source": [
    "df2 = df.copy()"
   ]
  },
  {
   "cell_type": "code",
   "execution_count": 6,
   "id": "0818d638",
   "metadata": {},
   "outputs": [],
   "source": [
    "df2[\"id\"] = range(1, len(df2) + 1)"
   ]
  },
  {
   "cell_type": "markdown",
   "id": "c140bdda",
   "metadata": {},
   "source": [
    "#### avg age in who"
   ]
  },
  {
   "cell_type": "code",
   "execution_count": 7,
   "id": "dfcb9c56",
   "metadata": {},
   "outputs": [],
   "source": [
    "df2[\"avg_age_in_who\"] = df2.groupby(\"who\", dropna=False)[\"age\"].transform(\"mean\")"
   ]
  },
  {
   "cell_type": "code",
   "execution_count": 8,
   "id": "f45bb466",
   "metadata": {},
   "outputs": [
    {
     "data": {
      "application/vnd.microsoft.datawrangler.viewer.v0+json": {
       "columns": [
        {
         "name": "index",
         "rawType": "int64",
         "type": "integer"
        },
        {
         "name": "who",
         "rawType": "object",
         "type": "string"
        }
       ],
       "ref": "0b8e2646-211b-43e3-90a8-0e44c7032eb6",
       "rows": [
        [
         "0",
         "man"
        ],
        [
         "1",
         "woman"
        ],
        [
         "2",
         "woman"
        ],
        [
         "3",
         "woman"
        ],
        [
         "4",
         "man"
        ],
        [
         "5",
         "man"
        ],
        [
         "6",
         "man"
        ],
        [
         "7",
         "child"
        ],
        [
         "8",
         "woman"
        ],
        [
         "9",
         "child"
        ],
        [
         "10",
         "child"
        ],
        [
         "11",
         "woman"
        ],
        [
         "12",
         "man"
        ],
        [
         "13",
         "man"
        ],
        [
         "14",
         "child"
        ],
        [
         "15",
         "woman"
        ],
        [
         "16",
         "child"
        ],
        [
         "17",
         "man"
        ],
        [
         "18",
         "woman"
        ],
        [
         "19",
         "woman"
        ],
        [
         "20",
         "man"
        ],
        [
         "21",
         "man"
        ],
        [
         "22",
         "child"
        ],
        [
         "23",
         "man"
        ],
        [
         "24",
         "child"
        ],
        [
         "25",
         "woman"
        ],
        [
         "26",
         "man"
        ],
        [
         "27",
         "man"
        ],
        [
         "28",
         "woman"
        ],
        [
         "29",
         "man"
        ],
        [
         "30",
         "man"
        ],
        [
         "31",
         "woman"
        ],
        [
         "32",
         "woman"
        ],
        [
         "33",
         "man"
        ],
        [
         "34",
         "man"
        ],
        [
         "35",
         "man"
        ],
        [
         "36",
         "man"
        ],
        [
         "37",
         "man"
        ],
        [
         "38",
         "woman"
        ],
        [
         "39",
         "child"
        ],
        [
         "40",
         "woman"
        ],
        [
         "41",
         "woman"
        ],
        [
         "42",
         "man"
        ],
        [
         "43",
         "child"
        ],
        [
         "44",
         "woman"
        ],
        [
         "45",
         "man"
        ],
        [
         "46",
         "man"
        ],
        [
         "47",
         "woman"
        ],
        [
         "48",
         "man"
        ],
        [
         "49",
         "woman"
        ]
       ],
       "shape": {
        "columns": 1,
        "rows": 891
       }
      },
      "text/plain": [
       "0        man\n",
       "1      woman\n",
       "2      woman\n",
       "3      woman\n",
       "4        man\n",
       "       ...  \n",
       "886      man\n",
       "887    woman\n",
       "888    woman\n",
       "889      man\n",
       "890      man\n",
       "Name: who, Length: 891, dtype: object"
      ]
     },
     "execution_count": 8,
     "metadata": {},
     "output_type": "execute_result"
    }
   ],
   "source": [
    "df2['who']# A"
   ]
  },
  {
   "cell_type": "code",
   "execution_count": 9,
   "id": "b66b7848",
   "metadata": {},
   "outputs": [
    {
     "name": "stdout",
     "output_type": "stream",
     "text": [
      "i = 'child'\n",
      "grp.shape = (83, 6)\n",
      "grp.max()['age'] = np.float64(15.0)\n",
      "type(grp) = <class 'pandas.core.frame.DataFrame'>\n",
      " \n",
      "i = 'man'\n",
      "grp.shape = (537, 6)\n",
      "grp.max()['age'] = np.float64(80.0)\n",
      "type(grp) = <class 'pandas.core.frame.DataFrame'>\n",
      " \n",
      "i = 'woman'\n",
      "grp.shape = (271, 6)\n",
      "grp.max()['age'] = np.float64(63.0)\n",
      "type(grp) = <class 'pandas.core.frame.DataFrame'>\n",
      " \n"
     ]
    }
   ],
   "source": [
    "for i, grp in df2.groupby(\"who\", dropna=False):\n",
    "    print(f\"{i = }\")\n",
    "    print(f\"{grp.shape = }\")\n",
    "    print(f\"{grp.max()['age'] = }\")\n",
    "    print(f\"{type(grp) = }\")\n",
    "    print(f\"{\" \"}\")"
   ]
  },
  {
   "cell_type": "code",
   "execution_count": 10,
   "id": "339ea19a",
   "metadata": {},
   "outputs": [
    {
     "data": {
      "application/vnd.microsoft.datawrangler.viewer.v0+json": {
       "columns": [
        {
         "name": "index",
         "rawType": "int64",
         "type": "integer"
        },
        {
         "name": "age",
         "rawType": "float64",
         "type": "float"
        }
       ],
       "ref": "f53ee8bd-77fc-4715-9d58-b2fd6555309b",
       "rows": [
        [
         "0",
         "80.0"
        ],
        [
         "1",
         "63.0"
        ],
        [
         "2",
         "63.0"
        ],
        [
         "3",
         "63.0"
        ],
        [
         "4",
         "80.0"
        ],
        [
         "5",
         "80.0"
        ],
        [
         "6",
         "80.0"
        ],
        [
         "7",
         "15.0"
        ],
        [
         "8",
         "63.0"
        ],
        [
         "9",
         "15.0"
        ],
        [
         "10",
         "15.0"
        ],
        [
         "11",
         "63.0"
        ],
        [
         "12",
         "80.0"
        ],
        [
         "13",
         "80.0"
        ],
        [
         "14",
         "15.0"
        ],
        [
         "15",
         "63.0"
        ],
        [
         "16",
         "15.0"
        ],
        [
         "17",
         "80.0"
        ],
        [
         "18",
         "63.0"
        ],
        [
         "19",
         "63.0"
        ],
        [
         "20",
         "80.0"
        ],
        [
         "21",
         "80.0"
        ],
        [
         "22",
         "15.0"
        ],
        [
         "23",
         "80.0"
        ],
        [
         "24",
         "15.0"
        ],
        [
         "25",
         "63.0"
        ],
        [
         "26",
         "80.0"
        ],
        [
         "27",
         "80.0"
        ],
        [
         "28",
         "63.0"
        ],
        [
         "29",
         "80.0"
        ],
        [
         "30",
         "80.0"
        ],
        [
         "31",
         "63.0"
        ],
        [
         "32",
         "63.0"
        ],
        [
         "33",
         "80.0"
        ],
        [
         "34",
         "80.0"
        ],
        [
         "35",
         "80.0"
        ],
        [
         "36",
         "80.0"
        ],
        [
         "37",
         "80.0"
        ],
        [
         "38",
         "63.0"
        ],
        [
         "39",
         "15.0"
        ],
        [
         "40",
         "63.0"
        ],
        [
         "41",
         "63.0"
        ],
        [
         "42",
         "80.0"
        ],
        [
         "43",
         "15.0"
        ],
        [
         "44",
         "63.0"
        ],
        [
         "45",
         "80.0"
        ],
        [
         "46",
         "80.0"
        ],
        [
         "47",
         "63.0"
        ],
        [
         "48",
         "80.0"
        ],
        [
         "49",
         "63.0"
        ]
       ],
       "shape": {
        "columns": 1,
        "rows": 891
       }
      },
      "text/plain": [
       "0      80.0\n",
       "1      63.0\n",
       "2      63.0\n",
       "3      63.0\n",
       "4      80.0\n",
       "       ... \n",
       "886    80.0\n",
       "887    63.0\n",
       "888    63.0\n",
       "889    80.0\n",
       "890    80.0\n",
       "Name: age, Length: 891, dtype: float64"
      ]
     },
     "execution_count": 10,
     "metadata": {},
     "output_type": "execute_result"
    }
   ],
   "source": [
    "df2.groupby(\"who\", dropna=False)['age'].transform('max')# B"
   ]
  },
  {
   "cell_type": "code",
   "execution_count": 41,
   "id": "0804c5c7",
   "metadata": {},
   "outputs": [
    {
     "name": "stdout",
     "output_type": "stream",
     "text": [
      "i = 'child'\n",
      "grp.shape = (83, 11)\n",
      "wavg = np.float64(6.698837714393651)\n",
      "i = 'man'\n",
      "grp.shape = (537, 11)\n",
      "wavg = np.float64(29.626678530548862)\n",
      "i = 'woman'\n",
      "grp.shape = (271, 11)\n",
      "wavg = np.float64(29.67760581225263)\n"
     ]
    }
   ],
   "source": [
    "for i, grp in df2.groupby(\"who\", dropna=False):\n",
    "    print(f\"{i = }\")\n",
    "    print(f\"{grp.shape = }\")\n",
    "    wavg = (grp['age'] * grp['fare']).sum() / grp['fare'].sum()\n",
    "    print(f\"{wavg = }\")"
   ]
  },
  {
   "cell_type": "code",
   "execution_count": null,
   "id": "b27e0e84",
   "metadata": {},
   "outputs": [
    {
     "data": {
      "application/vnd.microsoft.datawrangler.viewer.v0+json": {
       "columns": [
        {
         "name": "index",
         "rawType": "int64",
         "type": "integer"
        },
        {
         "name": "age",
         "rawType": "float64",
         "type": "float"
        }
       ],
       "ref": "9766efdd-a51a-40be-9d7a-f979108bb7e9",
       "rows": [
        [
         "0",
         "29.626678530548862"
        ],
        [
         "1",
         "29.67760581225263"
        ],
        [
         "2",
         "29.67760581225263"
        ],
        [
         "3",
         "29.67760581225263"
        ],
        [
         "4",
         "29.626678530548862"
        ],
        [
         "5",
         "29.626678530548862"
        ],
        [
         "6",
         "29.626678530548862"
        ],
        [
         "7",
         "6.698837714393651"
        ],
        [
         "8",
         "29.67760581225263"
        ],
        [
         "9",
         "6.698837714393651"
        ],
        [
         "10",
         "6.698837714393651"
        ],
        [
         "11",
         "29.67760581225263"
        ],
        [
         "12",
         "29.626678530548862"
        ],
        [
         "13",
         "29.626678530548862"
        ],
        [
         "14",
         "6.698837714393651"
        ],
        [
         "15",
         "29.67760581225263"
        ],
        [
         "16",
         "6.698837714393651"
        ],
        [
         "17",
         "29.626678530548862"
        ],
        [
         "18",
         "29.67760581225263"
        ],
        [
         "19",
         "29.67760581225263"
        ],
        [
         "20",
         "29.626678530548862"
        ],
        [
         "21",
         "29.626678530548862"
        ],
        [
         "22",
         "6.698837714393651"
        ],
        [
         "23",
         "29.626678530548862"
        ],
        [
         "24",
         "6.698837714393651"
        ],
        [
         "25",
         "29.67760581225263"
        ],
        [
         "26",
         "29.626678530548862"
        ],
        [
         "27",
         "29.626678530548862"
        ],
        [
         "28",
         "29.67760581225263"
        ],
        [
         "29",
         "29.626678530548862"
        ],
        [
         "30",
         "29.626678530548862"
        ],
        [
         "31",
         "29.67760581225263"
        ],
        [
         "32",
         "29.67760581225263"
        ],
        [
         "33",
         "29.626678530548862"
        ],
        [
         "34",
         "29.626678530548862"
        ],
        [
         "35",
         "29.626678530548862"
        ],
        [
         "36",
         "29.626678530548862"
        ],
        [
         "37",
         "29.626678530548862"
        ],
        [
         "38",
         "29.67760581225263"
        ],
        [
         "39",
         "6.698837714393651"
        ],
        [
         "40",
         "29.67760581225263"
        ],
        [
         "41",
         "29.67760581225263"
        ],
        [
         "42",
         "29.626678530548862"
        ],
        [
         "43",
         "6.698837714393651"
        ],
        [
         "44",
         "29.67760581225263"
        ],
        [
         "45",
         "29.626678530548862"
        ],
        [
         "46",
         "29.626678530548862"
        ],
        [
         "47",
         "29.67760581225263"
        ],
        [
         "48",
         "29.626678530548862"
        ],
        [
         "49",
         "29.67760581225263"
        ]
       ],
       "shape": {
        "columns": 1,
        "rows": 891
       }
      },
      "text/plain": [
       "0      29.626679\n",
       "1      29.677606\n",
       "2      29.677606\n",
       "3      29.677606\n",
       "4      29.626679\n",
       "         ...    \n",
       "886    29.626679\n",
       "887    29.677606\n",
       "888    29.677606\n",
       "889    29.626679\n",
       "890    29.626679\n",
       "Name: age, Length: 891, dtype: float64"
      ]
     },
     "execution_count": 40,
     "metadata": {},
     "output_type": "execute_result"
    }
   ],
   "source": [
    "(\n",
    "    df2\n",
    "    .groupby(\"who\", dropna=False)['age']\n",
    "    .transform(lambda x: (x * df2.loc[x.index,'fare']).sum() / df2.loc[x.index,'fare'].sum())\n",
    ")\n"
   ]
  },
  {
   "cell_type": "code",
   "execution_count": 51,
   "id": "c271bb48",
   "metadata": {},
   "outputs": [
    {
     "name": "stdout",
     "output_type": "stream",
     "text": [
      "type(x) = <class 'pandas.core.series.Series'>, x.shape = (83,), x.head(1) = 7    2.0\n",
      "Name: child, dtype: float64\n",
      "type(x) = <class 'pandas.core.series.Series'>, x.shape = (537,), x.head(1) = 0    22.0\n",
      "Name: man, dtype: float64\n",
      "type(x) = <class 'pandas.core.series.Series'>, x.shape = (271,), x.head(1) = 1    38.0\n",
      "Name: woman, dtype: float64\n"
     ]
    },
    {
     "data": {
      "application/vnd.microsoft.datawrangler.viewer.v0+json": {
       "columns": [
        {
         "name": "index",
         "rawType": "int64",
         "type": "integer"
        },
        {
         "name": "age",
         "rawType": "float64",
         "type": "float"
        }
       ],
       "ref": "5e0f85b2-bd5c-4730-ba5d-92fecf7d1aee",
       "rows": [
        [
         "0",
         null
        ],
        [
         "1",
         null
        ],
        [
         "2",
         null
        ],
        [
         "3",
         null
        ],
        [
         "4",
         null
        ],
        [
         "5",
         null
        ],
        [
         "6",
         null
        ],
        [
         "7",
         null
        ],
        [
         "8",
         null
        ],
        [
         "9",
         null
        ],
        [
         "10",
         null
        ],
        [
         "11",
         null
        ],
        [
         "12",
         null
        ],
        [
         "13",
         null
        ],
        [
         "14",
         null
        ],
        [
         "15",
         null
        ],
        [
         "16",
         null
        ],
        [
         "17",
         null
        ],
        [
         "18",
         null
        ],
        [
         "19",
         null
        ],
        [
         "20",
         null
        ],
        [
         "21",
         null
        ],
        [
         "22",
         null
        ],
        [
         "23",
         null
        ],
        [
         "24",
         null
        ],
        [
         "25",
         null
        ],
        [
         "26",
         null
        ],
        [
         "27",
         null
        ],
        [
         "28",
         null
        ],
        [
         "29",
         null
        ],
        [
         "30",
         null
        ],
        [
         "31",
         null
        ],
        [
         "32",
         null
        ],
        [
         "33",
         null
        ],
        [
         "34",
         null
        ],
        [
         "35",
         null
        ],
        [
         "36",
         null
        ],
        [
         "37",
         null
        ],
        [
         "38",
         null
        ],
        [
         "39",
         null
        ],
        [
         "40",
         null
        ],
        [
         "41",
         null
        ],
        [
         "42",
         null
        ],
        [
         "43",
         null
        ],
        [
         "44",
         null
        ],
        [
         "45",
         null
        ],
        [
         "46",
         null
        ],
        [
         "47",
         null
        ],
        [
         "48",
         null
        ],
        [
         "49",
         null
        ]
       ],
       "shape": {
        "columns": 1,
        "rows": 891
       }
      },
      "text/plain": [
       "0     NaN\n",
       "1     NaN\n",
       "2     NaN\n",
       "3     NaN\n",
       "4     NaN\n",
       "       ..\n",
       "886   NaN\n",
       "887   NaN\n",
       "888   NaN\n",
       "889   NaN\n",
       "890   NaN\n",
       "Name: age, Length: 891, dtype: float64"
      ]
     },
     "execution_count": 51,
     "metadata": {},
     "output_type": "execute_result"
    }
   ],
   "source": [
    "(\n",
    "    df2\n",
    "    .groupby(\"who\", dropna=False)['age']\n",
    "    .transform(lambda x: print(f\"{type(x) = }, {x.shape = }, {x.head(1) = }\"))\n",
    ")"
   ]
  },
  {
   "cell_type": "code",
   "execution_count": 43,
   "id": "795be2fc",
   "metadata": {},
   "outputs": [
    {
     "name": "stderr",
     "output_type": "stream",
     "text": [
      "C:\\Users\\yzdom\\AppData\\Local\\Temp\\ipykernel_24480\\1868038047.py:5: FutureWarning: DataFrameGroupBy.apply operated on the grouping columns. This behavior is deprecated, and in a future version of pandas the grouping columns will be excluded from the operation. Either pass `include_groups=False` to exclude the groupings or explicitly select the grouping columns after groupby to silence this warning.\n",
      "  wavg_by_who = df2.groupby(\"who\", dropna=False).apply(weighted_avg)\n"
     ]
    },
    {
     "data": {
      "application/vnd.microsoft.datawrangler.viewer.v0+json": {
       "columns": [
        {
         "name": "index",
         "rawType": "int64",
         "type": "integer"
        },
        {
         "name": "weighted_avg_age_in_who",
         "rawType": "float64",
         "type": "float"
        }
       ],
       "ref": "ba1f46e3-c03f-4fdc-9f6b-d6e9a6feca15",
       "rows": [
        [
         "0",
         "29.626678530548862"
        ],
        [
         "1",
         "29.67760581225263"
        ],
        [
         "2",
         "29.67760581225263"
        ],
        [
         "3",
         "29.67760581225263"
        ],
        [
         "4",
         "29.626678530548862"
        ],
        [
         "5",
         "29.626678530548862"
        ],
        [
         "6",
         "29.626678530548862"
        ],
        [
         "7",
         "6.698837714393651"
        ],
        [
         "8",
         "29.67760581225263"
        ],
        [
         "9",
         "6.698837714393651"
        ],
        [
         "10",
         "6.698837714393651"
        ],
        [
         "11",
         "29.67760581225263"
        ],
        [
         "12",
         "29.626678530548862"
        ],
        [
         "13",
         "29.626678530548862"
        ],
        [
         "14",
         "6.698837714393651"
        ],
        [
         "15",
         "29.67760581225263"
        ],
        [
         "16",
         "6.698837714393651"
        ],
        [
         "17",
         "29.626678530548862"
        ],
        [
         "18",
         "29.67760581225263"
        ],
        [
         "19",
         "29.67760581225263"
        ],
        [
         "20",
         "29.626678530548862"
        ],
        [
         "21",
         "29.626678530548862"
        ],
        [
         "22",
         "6.698837714393651"
        ],
        [
         "23",
         "29.626678530548862"
        ],
        [
         "24",
         "6.698837714393651"
        ],
        [
         "25",
         "29.67760581225263"
        ],
        [
         "26",
         "29.626678530548862"
        ],
        [
         "27",
         "29.626678530548862"
        ],
        [
         "28",
         "29.67760581225263"
        ],
        [
         "29",
         "29.626678530548862"
        ],
        [
         "30",
         "29.626678530548862"
        ],
        [
         "31",
         "29.67760581225263"
        ],
        [
         "32",
         "29.67760581225263"
        ],
        [
         "33",
         "29.626678530548862"
        ],
        [
         "34",
         "29.626678530548862"
        ],
        [
         "35",
         "29.626678530548862"
        ],
        [
         "36",
         "29.626678530548862"
        ],
        [
         "37",
         "29.626678530548862"
        ],
        [
         "38",
         "29.67760581225263"
        ],
        [
         "39",
         "6.698837714393651"
        ],
        [
         "40",
         "29.67760581225263"
        ],
        [
         "41",
         "29.67760581225263"
        ],
        [
         "42",
         "29.626678530548862"
        ],
        [
         "43",
         "6.698837714393651"
        ],
        [
         "44",
         "29.67760581225263"
        ],
        [
         "45",
         "29.626678530548862"
        ],
        [
         "46",
         "29.626678530548862"
        ],
        [
         "47",
         "29.67760581225263"
        ],
        [
         "48",
         "29.626678530548862"
        ],
        [
         "49",
         "29.67760581225263"
        ]
       ],
       "shape": {
        "columns": 1,
        "rows": 891
       }
      },
      "text/plain": [
       "0      29.626679\n",
       "1      29.677606\n",
       "2      29.677606\n",
       "3      29.677606\n",
       "4      29.626679\n",
       "         ...    \n",
       "886    29.626679\n",
       "887    29.677606\n",
       "888    29.677606\n",
       "889    29.626679\n",
       "890    29.626679\n",
       "Name: weighted_avg_age_in_who, Length: 891, dtype: float64"
      ]
     },
     "execution_count": 43,
     "metadata": {},
     "output_type": "execute_result"
    }
   ],
   "source": [
    "def weighted_avg(group):\n",
    "    return (group[\"age\"] * group[\"fare\"]).sum() / group[\"fare\"].sum()\n",
    "\n",
    "# compute weighted average per group and map it back to each row\n",
    "wavg_by_who = df2.groupby(\"who\", dropna=False).apply(weighted_avg)\n",
    "df2[\"weighted_avg_age_in_who\"] = df2[\"who\"].map(wavg_by_who)\n",
    "\n",
    "# show the resulting per-row series\n",
    "df2[\"weighted_avg_age_in_who\"]"
   ]
  },
  {
   "cell_type": "markdown",
   "id": "13820d8d",
   "metadata": {},
   "source": [
    "#### the other 2 transforms/applies"
   ]
  },
  {
   "cell_type": "code",
   "execution_count": 11,
   "id": "2a85333a",
   "metadata": {},
   "outputs": [],
   "source": [
    "df2[\"cumcount_in_who_by_fare\"] = (\n",
    "    df2.sort_values([\"fare\", \"id\"], na_position=\"last\")\n",
    "    .groupby(\"who\", dropna=False)\n",
    "    .cumcount()\n",
    "    + 1\n",
    ")"
   ]
  },
  {
   "cell_type": "code",
   "execution_count": 12,
   "id": "0b9cb3e0",
   "metadata": {},
   "outputs": [],
   "source": [
    "df2[\"age_of_lowest_fare_in_who\"] = (\n",
    "    df2.sort_values([\"fare\", \"id\"], na_position=\"last\")\n",
    "    .groupby(\"who\", dropna=False)[\"age\"]\n",
    "    .transform(\"first\")\n",
    ")"
   ]
  },
  {
   "cell_type": "markdown",
   "id": "44bcd1d4",
   "metadata": {},
   "source": [
    "#### case when lambda "
   ]
  },
  {
   "cell_type": "code",
   "execution_count": 13,
   "id": "64740891",
   "metadata": {},
   "outputs": [],
   "source": [
    "src_col = \"fare\"\n",
    "col = \"fare_bin\"\n",
    "\n",
    "df2.loc[lambda x: x[src_col] < 0, col] = \"[-Inf, 0)\"\n",
    "df2.loc[lambda x: (x[src_col] >= 0) & (x[src_col] < 10), col] = \"[0,10)\"\n",
    "df2.loc[lambda x: (x[src_col] >= 10) & (x[src_col] < 20), col] = \"[10,20)\"\n",
    "df2.loc[lambda x: (x[src_col] >= 20) & (x[src_col] < 30), col] = \"[20,30)\"\n",
    "df2.loc[lambda x: (x[src_col] >= 30) & (x[src_col] < 100), col] = \"[30,100)\"\n",
    "df2.loc[lambda x: x[src_col] >= 100, col] = \"[100,Inf)\""
   ]
  },
  {
   "cell_type": "code",
   "execution_count": 14,
   "id": "3e184061",
   "metadata": {},
   "outputs": [
    {
     "data": {
      "text/plain": [
       "function"
      ]
     },
     "execution_count": 14,
     "metadata": {},
     "output_type": "execute_result"
    }
   ],
   "source": [
    "type(lambda x:x)"
   ]
  },
  {
   "cell_type": "code",
   "execution_count": 15,
   "id": "6d4aec2f",
   "metadata": {},
   "outputs": [
    {
     "data": {
      "text/plain": [
       "2"
      ]
     },
     "execution_count": 15,
     "metadata": {},
     "output_type": "execute_result"
    }
   ],
   "source": [
    "(lambda x: x+1)(1)"
   ]
  },
  {
   "cell_type": "code",
   "execution_count": 16,
   "id": "4aa85618",
   "metadata": {},
   "outputs": [],
   "source": [
    "func = (lambda x: x+1)"
   ]
  },
  {
   "cell_type": "code",
   "execution_count": 17,
   "id": "5d841324",
   "metadata": {},
   "outputs": [
    {
     "data": {
      "text/plain": [
       "2"
      ]
     },
     "execution_count": 17,
     "metadata": {},
     "output_type": "execute_result"
    }
   ],
   "source": [
    "func(1)"
   ]
  },
  {
   "cell_type": "code",
   "execution_count": 18,
   "id": "b4609867",
   "metadata": {},
   "outputs": [
    {
     "data": {
      "text/plain": [
       "2"
      ]
     },
     "execution_count": 18,
     "metadata": {},
     "output_type": "execute_result"
    }
   ],
   "source": [
    "def func(x):\n",
    "    return x + 1\n",
    "func(1)"
   ]
  },
  {
   "cell_type": "code",
   "execution_count": 19,
   "id": "2ecd36f1",
   "metadata": {},
   "outputs": [
    {
     "data": {
      "application/vnd.microsoft.datawrangler.viewer.v0+json": {
       "columns": [
        {
         "name": "index",
         "rawType": "int64",
         "type": "integer"
        },
        {
         "name": "survived",
         "rawType": "int64",
         "type": "integer"
        },
        {
         "name": "who",
         "rawType": "object",
         "type": "string"
        },
        {
         "name": "age",
         "rawType": "float64",
         "type": "float"
        },
        {
         "name": "fare",
         "rawType": "float64",
         "type": "float"
        },
        {
         "name": "id",
         "rawType": "int64",
         "type": "integer"
        },
        {
         "name": "avg_age_in_who",
         "rawType": "float64",
         "type": "float"
        },
        {
         "name": "cumcount_in_who_by_fare",
         "rawType": "int64",
         "type": "integer"
        },
        {
         "name": "age_of_lowest_fare_in_who",
         "rawType": "float64",
         "type": "float"
        },
        {
         "name": "fare_bin",
         "rawType": "object",
         "type": "string"
        }
       ],
       "ref": "549c0e56-7c4a-4217-b2e0-4137df1f52f6",
       "rows": [
        [
         "0",
         "0",
         "man",
         "22.0",
         "7.25",
         "1",
         "33.17312348668281",
         "65",
         "36.0",
         "[0,10)"
        ],
        [
         "2",
         "1",
         "woman",
         "26.0",
         "7.925",
         "3",
         "32.0",
         "41",
         "18.0",
         "[0,10)"
        ],
        [
         "4",
         "0",
         "man",
         "35.0",
         "8.05",
         "5",
         "33.17312348668281",
         "193",
         "36.0",
         "[0,10)"
        ],
        [
         "5",
         "0",
         "man",
         null,
         "8.4583",
         "6",
         "33.17312348668281",
         "240",
         "36.0",
         "[0,10)"
        ],
        [
         "12",
         "0",
         "man",
         "20.0",
         "8.05",
         "13",
         "33.17312348668281",
         "194",
         "36.0",
         "[0,10)"
        ],
        [
         "14",
         "0",
         "child",
         "14.0",
         "7.8542",
         "15",
         "6.369518072289156",
         "4",
         "15.0",
         "[0,10)"
        ],
        [
         "19",
         "1",
         "woman",
         null,
         "7.225",
         "20",
         "32.0",
         "2",
         "18.0",
         "[0,10)"
        ],
        [
         "22",
         "1",
         "child",
         "15.0",
         "8.0292",
         "23",
         "6.369518072289156",
         "5",
         "15.0",
         "[0,10)"
        ],
        [
         "26",
         "0",
         "man",
         null,
         "7.225",
         "27",
         "33.17312348668281",
         "43",
         "36.0",
         "[0,10)"
        ],
        [
         "28",
         "1",
         "woman",
         null,
         "7.8792",
         "29",
         "32.0",
         "36",
         "18.0",
         "[0,10)"
        ],
        [
         "29",
         "0",
         "man",
         null,
         "7.8958",
         "30",
         "33.17312348668281",
         "143",
         "36.0",
         "[0,10)"
        ],
        [
         "32",
         "1",
         "woman",
         null,
         "7.75",
         "33",
         "32.0",
         "13",
         "18.0",
         "[0,10)"
        ],
        [
         "36",
         "1",
         "man",
         null,
         "7.2292",
         "37",
         "33.17312348668281",
         "53",
         "36.0",
         "[0,10)"
        ],
        [
         "37",
         "0",
         "man",
         "21.0",
         "8.05",
         "38",
         "33.17312348668281",
         "195",
         "36.0",
         "[0,10)"
        ],
        [
         "40",
         "0",
         "woman",
         "40.0",
         "9.475",
         "41",
         "32.0",
         "54",
         "18.0",
         "[0,10)"
        ],
        [
         "42",
         "0",
         "man",
         null,
         "7.8958",
         "43",
         "33.17312348668281",
         "144",
         "36.0",
         "[0,10)"
        ],
        [
         "44",
         "1",
         "woman",
         "19.0",
         "7.8792",
         "45",
         "32.0",
         "37",
         "18.0",
         "[0,10)"
        ],
        [
         "45",
         "0",
         "man",
         null,
         "8.05",
         "46",
         "33.17312348668281",
         "196",
         "36.0",
         "[0,10)"
        ],
        [
         "47",
         "1",
         "woman",
         null,
         "7.75",
         "48",
         "32.0",
         "14",
         "18.0",
         "[0,10)"
        ],
        [
         "51",
         "0",
         "man",
         "21.0",
         "7.8",
         "52",
         "33.17312348668281",
         "130",
         "36.0",
         "[0,10)"
        ],
        [
         "57",
         "0",
         "man",
         "28.5",
         "7.2292",
         "58",
         "33.17312348668281",
         "54",
         "36.0",
         "[0,10)"
        ],
        [
         "60",
         "0",
         "man",
         "22.0",
         "7.2292",
         "61",
         "33.17312348668281",
         "55",
         "36.0",
         "[0,10)"
        ],
        [
         "67",
         "0",
         "man",
         "19.0",
         "8.1583",
         "68",
         "33.17312348668281",
         "235",
         "36.0",
         "[0,10)"
        ],
        [
         "68",
         "1",
         "woman",
         "17.0",
         "7.925",
         "69",
         "32.0",
         "42",
         "18.0",
         "[0,10)"
        ],
        [
         "69",
         "0",
         "man",
         "26.0",
         "8.6625",
         "70",
         "33.17312348668281",
         "242",
         "36.0",
         "[0,10)"
        ],
        [
         "75",
         "0",
         "man",
         "25.0",
         "7.65",
         "76",
         "33.17312348668281",
         "83",
         "36.0",
         "[0,10)"
        ],
        [
         "76",
         "0",
         "man",
         null,
         "7.8958",
         "77",
         "33.17312348668281",
         "145",
         "36.0",
         "[0,10)"
        ],
        [
         "77",
         "0",
         "man",
         null,
         "8.05",
         "78",
         "33.17312348668281",
         "197",
         "36.0",
         "[0,10)"
        ],
        [
         "80",
         "0",
         "man",
         "22.0",
         "9.0",
         "81",
         "33.17312348668281",
         "254",
         "36.0",
         "[0,10)"
        ],
        [
         "81",
         "1",
         "man",
         "29.0",
         "9.5",
         "82",
         "33.17312348668281",
         "261",
         "36.0",
         "[0,10)"
        ],
        [
         "82",
         "1",
         "woman",
         null,
         "7.7875",
         "83",
         "32.0",
         "31",
         "18.0",
         "[0,10)"
        ],
        [
         "87",
         "0",
         "man",
         null,
         "8.05",
         "88",
         "33.17312348668281",
         "198",
         "36.0",
         "[0,10)"
        ],
        [
         "89",
         "0",
         "man",
         "24.0",
         "8.05",
         "90",
         "33.17312348668281",
         "199",
         "36.0",
         "[0,10)"
        ],
        [
         "90",
         "0",
         "man",
         "29.0",
         "8.05",
         "91",
         "33.17312348668281",
         "200",
         "36.0",
         "[0,10)"
        ],
        [
         "91",
         "0",
         "man",
         "20.0",
         "7.8542",
         "92",
         "33.17312348668281",
         "132",
         "36.0",
         "[0,10)"
        ],
        [
         "94",
         "0",
         "man",
         "59.0",
         "7.25",
         "95",
         "33.17312348668281",
         "66",
         "36.0",
         "[0,10)"
        ],
        [
         "95",
         "0",
         "man",
         null,
         "8.05",
         "96",
         "33.17312348668281",
         "201",
         "36.0",
         "[0,10)"
        ],
        [
         "100",
         "0",
         "woman",
         "28.0",
         "7.8958",
         "101",
         "32.0",
         "40",
         "18.0",
         "[0,10)"
        ],
        [
         "101",
         "0",
         "man",
         null,
         "7.8958",
         "102",
         "33.17312348668281",
         "146",
         "36.0",
         "[0,10)"
        ],
        [
         "103",
         "0",
         "man",
         "33.0",
         "8.6542",
         "104",
         "33.17312348668281",
         "241",
         "36.0",
         "[0,10)"
        ],
        [
         "104",
         "0",
         "man",
         "37.0",
         "7.925",
         "105",
         "33.17312348668281",
         "180",
         "36.0",
         "[0,10)"
        ],
        [
         "105",
         "0",
         "man",
         "28.0",
         "7.8958",
         "106",
         "33.17312348668281",
         "147",
         "36.0",
         "[0,10)"
        ],
        [
         "106",
         "1",
         "woman",
         "21.0",
         "7.65",
         "107",
         "32.0",
         "9",
         "18.0",
         "[0,10)"
        ],
        [
         "107",
         "1",
         "man",
         null,
         "7.775",
         "108",
         "33.17312348668281",
         "111",
         "36.0",
         "[0,10)"
        ],
        [
         "108",
         "0",
         "man",
         "38.0",
         "7.8958",
         "109",
         "33.17312348668281",
         "148",
         "36.0",
         "[0,10)"
        ],
        [
         "112",
         "0",
         "man",
         "22.0",
         "8.05",
         "113",
         "33.17312348668281",
         "202",
         "36.0",
         "[0,10)"
        ],
        [
         "113",
         "0",
         "woman",
         "20.0",
         "9.825",
         "114",
         "32.0",
         "57",
         "18.0",
         "[0,10)"
        ],
        [
         "115",
         "0",
         "man",
         "21.0",
         "7.925",
         "116",
         "33.17312348668281",
         "181",
         "36.0",
         "[0,10)"
        ],
        [
         "116",
         "0",
         "man",
         "70.5",
         "7.75",
         "117",
         "33.17312348668281",
         "92",
         "36.0",
         "[0,10)"
        ],
        [
         "121",
         "0",
         "man",
         null,
         "8.05",
         "122",
         "33.17312348668281",
         "203",
         "36.0",
         "[0,10)"
        ]
       ],
       "shape": {
        "columns": 9,
        "rows": 336
       }
      },
      "text/html": [
       "<div>\n",
       "<style scoped>\n",
       "    .dataframe tbody tr th:only-of-type {\n",
       "        vertical-align: middle;\n",
       "    }\n",
       "\n",
       "    .dataframe tbody tr th {\n",
       "        vertical-align: top;\n",
       "    }\n",
       "\n",
       "    .dataframe thead th {\n",
       "        text-align: right;\n",
       "    }\n",
       "</style>\n",
       "<table border=\"1\" class=\"dataframe\">\n",
       "  <thead>\n",
       "    <tr style=\"text-align: right;\">\n",
       "      <th></th>\n",
       "      <th>survived</th>\n",
       "      <th>who</th>\n",
       "      <th>age</th>\n",
       "      <th>fare</th>\n",
       "      <th>id</th>\n",
       "      <th>avg_age_in_who</th>\n",
       "      <th>cumcount_in_who_by_fare</th>\n",
       "      <th>age_of_lowest_fare_in_who</th>\n",
       "      <th>fare_bin</th>\n",
       "    </tr>\n",
       "  </thead>\n",
       "  <tbody>\n",
       "    <tr>\n",
       "      <th>0</th>\n",
       "      <td>0</td>\n",
       "      <td>man</td>\n",
       "      <td>22.0</td>\n",
       "      <td>7.2500</td>\n",
       "      <td>1</td>\n",
       "      <td>33.173123</td>\n",
       "      <td>65</td>\n",
       "      <td>36.0</td>\n",
       "      <td>[0,10)</td>\n",
       "    </tr>\n",
       "    <tr>\n",
       "      <th>2</th>\n",
       "      <td>1</td>\n",
       "      <td>woman</td>\n",
       "      <td>26.0</td>\n",
       "      <td>7.9250</td>\n",
       "      <td>3</td>\n",
       "      <td>32.000000</td>\n",
       "      <td>41</td>\n",
       "      <td>18.0</td>\n",
       "      <td>[0,10)</td>\n",
       "    </tr>\n",
       "    <tr>\n",
       "      <th>4</th>\n",
       "      <td>0</td>\n",
       "      <td>man</td>\n",
       "      <td>35.0</td>\n",
       "      <td>8.0500</td>\n",
       "      <td>5</td>\n",
       "      <td>33.173123</td>\n",
       "      <td>193</td>\n",
       "      <td>36.0</td>\n",
       "      <td>[0,10)</td>\n",
       "    </tr>\n",
       "    <tr>\n",
       "      <th>5</th>\n",
       "      <td>0</td>\n",
       "      <td>man</td>\n",
       "      <td>NaN</td>\n",
       "      <td>8.4583</td>\n",
       "      <td>6</td>\n",
       "      <td>33.173123</td>\n",
       "      <td>240</td>\n",
       "      <td>36.0</td>\n",
       "      <td>[0,10)</td>\n",
       "    </tr>\n",
       "    <tr>\n",
       "      <th>12</th>\n",
       "      <td>0</td>\n",
       "      <td>man</td>\n",
       "      <td>20.0</td>\n",
       "      <td>8.0500</td>\n",
       "      <td>13</td>\n",
       "      <td>33.173123</td>\n",
       "      <td>194</td>\n",
       "      <td>36.0</td>\n",
       "      <td>[0,10)</td>\n",
       "    </tr>\n",
       "    <tr>\n",
       "      <th>...</th>\n",
       "      <td>...</td>\n",
       "      <td>...</td>\n",
       "      <td>...</td>\n",
       "      <td>...</td>\n",
       "      <td>...</td>\n",
       "      <td>...</td>\n",
       "      <td>...</td>\n",
       "      <td>...</td>\n",
       "      <td>...</td>\n",
       "    </tr>\n",
       "    <tr>\n",
       "      <th>877</th>\n",
       "      <td>0</td>\n",
       "      <td>man</td>\n",
       "      <td>19.0</td>\n",
       "      <td>7.8958</td>\n",
       "      <td>878</td>\n",
       "      <td>33.173123</td>\n",
       "      <td>177</td>\n",
       "      <td>36.0</td>\n",
       "      <td>[0,10)</td>\n",
       "    </tr>\n",
       "    <tr>\n",
       "      <th>878</th>\n",
       "      <td>0</td>\n",
       "      <td>man</td>\n",
       "      <td>NaN</td>\n",
       "      <td>7.8958</td>\n",
       "      <td>879</td>\n",
       "      <td>33.173123</td>\n",
       "      <td>178</td>\n",
       "      <td>36.0</td>\n",
       "      <td>[0,10)</td>\n",
       "    </tr>\n",
       "    <tr>\n",
       "      <th>881</th>\n",
       "      <td>0</td>\n",
       "      <td>man</td>\n",
       "      <td>33.0</td>\n",
       "      <td>7.8958</td>\n",
       "      <td>882</td>\n",
       "      <td>33.173123</td>\n",
       "      <td>179</td>\n",
       "      <td>36.0</td>\n",
       "      <td>[0,10)</td>\n",
       "    </tr>\n",
       "    <tr>\n",
       "      <th>884</th>\n",
       "      <td>0</td>\n",
       "      <td>man</td>\n",
       "      <td>25.0</td>\n",
       "      <td>7.0500</td>\n",
       "      <td>885</td>\n",
       "      <td>33.173123</td>\n",
       "      <td>35</td>\n",
       "      <td>36.0</td>\n",
       "      <td>[0,10)</td>\n",
       "    </tr>\n",
       "    <tr>\n",
       "      <th>890</th>\n",
       "      <td>0</td>\n",
       "      <td>man</td>\n",
       "      <td>32.0</td>\n",
       "      <td>7.7500</td>\n",
       "      <td>891</td>\n",
       "      <td>33.173123</td>\n",
       "      <td>110</td>\n",
       "      <td>36.0</td>\n",
       "      <td>[0,10)</td>\n",
       "    </tr>\n",
       "  </tbody>\n",
       "</table>\n",
       "<p>336 rows × 9 columns</p>\n",
       "</div>"
      ],
      "text/plain": [
       "     survived    who   age    fare   id  avg_age_in_who  \\\n",
       "0           0    man  22.0  7.2500    1       33.173123   \n",
       "2           1  woman  26.0  7.9250    3       32.000000   \n",
       "4           0    man  35.0  8.0500    5       33.173123   \n",
       "5           0    man   NaN  8.4583    6       33.173123   \n",
       "12          0    man  20.0  8.0500   13       33.173123   \n",
       "..        ...    ...   ...     ...  ...             ...   \n",
       "877         0    man  19.0  7.8958  878       33.173123   \n",
       "878         0    man   NaN  7.8958  879       33.173123   \n",
       "881         0    man  33.0  7.8958  882       33.173123   \n",
       "884         0    man  25.0  7.0500  885       33.173123   \n",
       "890         0    man  32.0  7.7500  891       33.173123   \n",
       "\n",
       "     cumcount_in_who_by_fare  age_of_lowest_fare_in_who fare_bin  \n",
       "0                         65                       36.0   [0,10)  \n",
       "2                         41                       18.0   [0,10)  \n",
       "4                        193                       36.0   [0,10)  \n",
       "5                        240                       36.0   [0,10)  \n",
       "12                       194                       36.0   [0,10)  \n",
       "..                       ...                        ...      ...  \n",
       "877                      177                       36.0   [0,10)  \n",
       "878                      178                       36.0   [0,10)  \n",
       "881                      179                       36.0   [0,10)  \n",
       "884                       35                       36.0   [0,10)  \n",
       "890                      110                       36.0   [0,10)  \n",
       "\n",
       "[336 rows x 9 columns]"
      ]
     },
     "execution_count": 19,
     "metadata": {},
     "output_type": "execute_result"
    }
   ],
   "source": [
    "df2.loc[df['fare'] < 10]"
   ]
  },
  {
   "cell_type": "code",
   "execution_count": 20,
   "id": "f17a2c17",
   "metadata": {},
   "outputs": [
    {
     "data": {
      "application/vnd.microsoft.datawrangler.viewer.v0+json": {
       "columns": [
        {
         "name": "index",
         "rawType": "int64",
         "type": "integer"
        },
        {
         "name": "fare",
         "rawType": "bool",
         "type": "boolean"
        }
       ],
       "ref": "4a8711b4-b418-4f63-aae5-f10a67d925f8",
       "rows": [
        [
         "0",
         "True"
        ],
        [
         "1",
         "False"
        ],
        [
         "2",
         "True"
        ],
        [
         "3",
         "False"
        ],
        [
         "4",
         "True"
        ],
        [
         "5",
         "True"
        ],
        [
         "6",
         "False"
        ],
        [
         "7",
         "False"
        ],
        [
         "8",
         "False"
        ],
        [
         "9",
         "False"
        ],
        [
         "10",
         "False"
        ],
        [
         "11",
         "False"
        ],
        [
         "12",
         "True"
        ],
        [
         "13",
         "False"
        ],
        [
         "14",
         "True"
        ],
        [
         "15",
         "False"
        ],
        [
         "16",
         "False"
        ],
        [
         "17",
         "False"
        ],
        [
         "18",
         "False"
        ],
        [
         "19",
         "True"
        ],
        [
         "20",
         "False"
        ],
        [
         "21",
         "False"
        ],
        [
         "22",
         "True"
        ],
        [
         "23",
         "False"
        ],
        [
         "24",
         "False"
        ],
        [
         "25",
         "False"
        ],
        [
         "26",
         "True"
        ],
        [
         "27",
         "False"
        ],
        [
         "28",
         "True"
        ],
        [
         "29",
         "True"
        ],
        [
         "30",
         "False"
        ],
        [
         "31",
         "False"
        ],
        [
         "32",
         "True"
        ],
        [
         "33",
         "False"
        ],
        [
         "34",
         "False"
        ],
        [
         "35",
         "False"
        ],
        [
         "36",
         "True"
        ],
        [
         "37",
         "True"
        ],
        [
         "38",
         "False"
        ],
        [
         "39",
         "False"
        ],
        [
         "40",
         "True"
        ],
        [
         "41",
         "False"
        ],
        [
         "42",
         "True"
        ],
        [
         "43",
         "False"
        ],
        [
         "44",
         "True"
        ],
        [
         "45",
         "True"
        ],
        [
         "46",
         "False"
        ],
        [
         "47",
         "True"
        ],
        [
         "48",
         "False"
        ],
        [
         "49",
         "False"
        ]
       ],
       "shape": {
        "columns": 1,
        "rows": 891
       }
      },
      "text/plain": [
       "0       True\n",
       "1      False\n",
       "2       True\n",
       "3      False\n",
       "4       True\n",
       "       ...  \n",
       "886    False\n",
       "887    False\n",
       "888    False\n",
       "889    False\n",
       "890     True\n",
       "Name: fare, Length: 891, dtype: bool"
      ]
     },
     "execution_count": 20,
     "metadata": {},
     "output_type": "execute_result"
    }
   ],
   "source": [
    "df['fare'] < 10"
   ]
  },
  {
   "cell_type": "code",
   "execution_count": 21,
   "id": "2aca910f",
   "metadata": {},
   "outputs": [
    {
     "data": {
      "application/vnd.microsoft.datawrangler.viewer.v0+json": {
       "columns": [
        {
         "name": "index",
         "rawType": "int64",
         "type": "integer"
        },
        {
         "name": "survived",
         "rawType": "int64",
         "type": "integer"
        },
        {
         "name": "who",
         "rawType": "object",
         "type": "string"
        },
        {
         "name": "age",
         "rawType": "float64",
         "type": "float"
        },
        {
         "name": "fare",
         "rawType": "float64",
         "type": "float"
        },
        {
         "name": "id",
         "rawType": "int64",
         "type": "integer"
        },
        {
         "name": "avg_age_in_who",
         "rawType": "float64",
         "type": "float"
        },
        {
         "name": "cumcount_in_who_by_fare",
         "rawType": "int64",
         "type": "integer"
        },
        {
         "name": "age_of_lowest_fare_in_who",
         "rawType": "float64",
         "type": "float"
        },
        {
         "name": "fare_bin",
         "rawType": "object",
         "type": "string"
        }
       ],
       "ref": "5f0859c5-d9c1-4e36-bd30-391edcc464c8",
       "rows": [
        [
         "0",
         "0",
         "man",
         "22.0",
         "7.25",
         "1",
         "33.17312348668281",
         "65",
         "36.0",
         "[0,10)"
        ],
        [
         "2",
         "1",
         "woman",
         "26.0",
         "7.925",
         "3",
         "32.0",
         "41",
         "18.0",
         "[0,10)"
        ],
        [
         "4",
         "0",
         "man",
         "35.0",
         "8.05",
         "5",
         "33.17312348668281",
         "193",
         "36.0",
         "[0,10)"
        ],
        [
         "5",
         "0",
         "man",
         null,
         "8.4583",
         "6",
         "33.17312348668281",
         "240",
         "36.0",
         "[0,10)"
        ],
        [
         "12",
         "0",
         "man",
         "20.0",
         "8.05",
         "13",
         "33.17312348668281",
         "194",
         "36.0",
         "[0,10)"
        ],
        [
         "14",
         "0",
         "child",
         "14.0",
         "7.8542",
         "15",
         "6.369518072289156",
         "4",
         "15.0",
         "[0,10)"
        ],
        [
         "19",
         "1",
         "woman",
         null,
         "7.225",
         "20",
         "32.0",
         "2",
         "18.0",
         "[0,10)"
        ],
        [
         "22",
         "1",
         "child",
         "15.0",
         "8.0292",
         "23",
         "6.369518072289156",
         "5",
         "15.0",
         "[0,10)"
        ],
        [
         "26",
         "0",
         "man",
         null,
         "7.225",
         "27",
         "33.17312348668281",
         "43",
         "36.0",
         "[0,10)"
        ],
        [
         "28",
         "1",
         "woman",
         null,
         "7.8792",
         "29",
         "32.0",
         "36",
         "18.0",
         "[0,10)"
        ],
        [
         "29",
         "0",
         "man",
         null,
         "7.8958",
         "30",
         "33.17312348668281",
         "143",
         "36.0",
         "[0,10)"
        ],
        [
         "32",
         "1",
         "woman",
         null,
         "7.75",
         "33",
         "32.0",
         "13",
         "18.0",
         "[0,10)"
        ],
        [
         "36",
         "1",
         "man",
         null,
         "7.2292",
         "37",
         "33.17312348668281",
         "53",
         "36.0",
         "[0,10)"
        ],
        [
         "37",
         "0",
         "man",
         "21.0",
         "8.05",
         "38",
         "33.17312348668281",
         "195",
         "36.0",
         "[0,10)"
        ],
        [
         "40",
         "0",
         "woman",
         "40.0",
         "9.475",
         "41",
         "32.0",
         "54",
         "18.0",
         "[0,10)"
        ],
        [
         "42",
         "0",
         "man",
         null,
         "7.8958",
         "43",
         "33.17312348668281",
         "144",
         "36.0",
         "[0,10)"
        ],
        [
         "44",
         "1",
         "woman",
         "19.0",
         "7.8792",
         "45",
         "32.0",
         "37",
         "18.0",
         "[0,10)"
        ],
        [
         "45",
         "0",
         "man",
         null,
         "8.05",
         "46",
         "33.17312348668281",
         "196",
         "36.0",
         "[0,10)"
        ],
        [
         "47",
         "1",
         "woman",
         null,
         "7.75",
         "48",
         "32.0",
         "14",
         "18.0",
         "[0,10)"
        ],
        [
         "51",
         "0",
         "man",
         "21.0",
         "7.8",
         "52",
         "33.17312348668281",
         "130",
         "36.0",
         "[0,10)"
        ],
        [
         "57",
         "0",
         "man",
         "28.5",
         "7.2292",
         "58",
         "33.17312348668281",
         "54",
         "36.0",
         "[0,10)"
        ],
        [
         "60",
         "0",
         "man",
         "22.0",
         "7.2292",
         "61",
         "33.17312348668281",
         "55",
         "36.0",
         "[0,10)"
        ],
        [
         "67",
         "0",
         "man",
         "19.0",
         "8.1583",
         "68",
         "33.17312348668281",
         "235",
         "36.0",
         "[0,10)"
        ],
        [
         "68",
         "1",
         "woman",
         "17.0",
         "7.925",
         "69",
         "32.0",
         "42",
         "18.0",
         "[0,10)"
        ],
        [
         "69",
         "0",
         "man",
         "26.0",
         "8.6625",
         "70",
         "33.17312348668281",
         "242",
         "36.0",
         "[0,10)"
        ],
        [
         "75",
         "0",
         "man",
         "25.0",
         "7.65",
         "76",
         "33.17312348668281",
         "83",
         "36.0",
         "[0,10)"
        ],
        [
         "76",
         "0",
         "man",
         null,
         "7.8958",
         "77",
         "33.17312348668281",
         "145",
         "36.0",
         "[0,10)"
        ],
        [
         "77",
         "0",
         "man",
         null,
         "8.05",
         "78",
         "33.17312348668281",
         "197",
         "36.0",
         "[0,10)"
        ],
        [
         "80",
         "0",
         "man",
         "22.0",
         "9.0",
         "81",
         "33.17312348668281",
         "254",
         "36.0",
         "[0,10)"
        ],
        [
         "81",
         "1",
         "man",
         "29.0",
         "9.5",
         "82",
         "33.17312348668281",
         "261",
         "36.0",
         "[0,10)"
        ],
        [
         "82",
         "1",
         "woman",
         null,
         "7.7875",
         "83",
         "32.0",
         "31",
         "18.0",
         "[0,10)"
        ],
        [
         "87",
         "0",
         "man",
         null,
         "8.05",
         "88",
         "33.17312348668281",
         "198",
         "36.0",
         "[0,10)"
        ],
        [
         "89",
         "0",
         "man",
         "24.0",
         "8.05",
         "90",
         "33.17312348668281",
         "199",
         "36.0",
         "[0,10)"
        ],
        [
         "90",
         "0",
         "man",
         "29.0",
         "8.05",
         "91",
         "33.17312348668281",
         "200",
         "36.0",
         "[0,10)"
        ],
        [
         "91",
         "0",
         "man",
         "20.0",
         "7.8542",
         "92",
         "33.17312348668281",
         "132",
         "36.0",
         "[0,10)"
        ],
        [
         "94",
         "0",
         "man",
         "59.0",
         "7.25",
         "95",
         "33.17312348668281",
         "66",
         "36.0",
         "[0,10)"
        ],
        [
         "95",
         "0",
         "man",
         null,
         "8.05",
         "96",
         "33.17312348668281",
         "201",
         "36.0",
         "[0,10)"
        ],
        [
         "100",
         "0",
         "woman",
         "28.0",
         "7.8958",
         "101",
         "32.0",
         "40",
         "18.0",
         "[0,10)"
        ],
        [
         "101",
         "0",
         "man",
         null,
         "7.8958",
         "102",
         "33.17312348668281",
         "146",
         "36.0",
         "[0,10)"
        ],
        [
         "103",
         "0",
         "man",
         "33.0",
         "8.6542",
         "104",
         "33.17312348668281",
         "241",
         "36.0",
         "[0,10)"
        ],
        [
         "104",
         "0",
         "man",
         "37.0",
         "7.925",
         "105",
         "33.17312348668281",
         "180",
         "36.0",
         "[0,10)"
        ],
        [
         "105",
         "0",
         "man",
         "28.0",
         "7.8958",
         "106",
         "33.17312348668281",
         "147",
         "36.0",
         "[0,10)"
        ],
        [
         "106",
         "1",
         "woman",
         "21.0",
         "7.65",
         "107",
         "32.0",
         "9",
         "18.0",
         "[0,10)"
        ],
        [
         "107",
         "1",
         "man",
         null,
         "7.775",
         "108",
         "33.17312348668281",
         "111",
         "36.0",
         "[0,10)"
        ],
        [
         "108",
         "0",
         "man",
         "38.0",
         "7.8958",
         "109",
         "33.17312348668281",
         "148",
         "36.0",
         "[0,10)"
        ],
        [
         "112",
         "0",
         "man",
         "22.0",
         "8.05",
         "113",
         "33.17312348668281",
         "202",
         "36.0",
         "[0,10)"
        ],
        [
         "113",
         "0",
         "woman",
         "20.0",
         "9.825",
         "114",
         "32.0",
         "57",
         "18.0",
         "[0,10)"
        ],
        [
         "115",
         "0",
         "man",
         "21.0",
         "7.925",
         "116",
         "33.17312348668281",
         "181",
         "36.0",
         "[0,10)"
        ],
        [
         "116",
         "0",
         "man",
         "70.5",
         "7.75",
         "117",
         "33.17312348668281",
         "92",
         "36.0",
         "[0,10)"
        ],
        [
         "121",
         "0",
         "man",
         null,
         "8.05",
         "122",
         "33.17312348668281",
         "203",
         "36.0",
         "[0,10)"
        ]
       ],
       "shape": {
        "columns": 9,
        "rows": 336
       }
      },
      "text/html": [
       "<div>\n",
       "<style scoped>\n",
       "    .dataframe tbody tr th:only-of-type {\n",
       "        vertical-align: middle;\n",
       "    }\n",
       "\n",
       "    .dataframe tbody tr th {\n",
       "        vertical-align: top;\n",
       "    }\n",
       "\n",
       "    .dataframe thead th {\n",
       "        text-align: right;\n",
       "    }\n",
       "</style>\n",
       "<table border=\"1\" class=\"dataframe\">\n",
       "  <thead>\n",
       "    <tr style=\"text-align: right;\">\n",
       "      <th></th>\n",
       "      <th>survived</th>\n",
       "      <th>who</th>\n",
       "      <th>age</th>\n",
       "      <th>fare</th>\n",
       "      <th>id</th>\n",
       "      <th>avg_age_in_who</th>\n",
       "      <th>cumcount_in_who_by_fare</th>\n",
       "      <th>age_of_lowest_fare_in_who</th>\n",
       "      <th>fare_bin</th>\n",
       "    </tr>\n",
       "  </thead>\n",
       "  <tbody>\n",
       "    <tr>\n",
       "      <th>0</th>\n",
       "      <td>0</td>\n",
       "      <td>man</td>\n",
       "      <td>22.0</td>\n",
       "      <td>7.2500</td>\n",
       "      <td>1</td>\n",
       "      <td>33.173123</td>\n",
       "      <td>65</td>\n",
       "      <td>36.0</td>\n",
       "      <td>[0,10)</td>\n",
       "    </tr>\n",
       "    <tr>\n",
       "      <th>2</th>\n",
       "      <td>1</td>\n",
       "      <td>woman</td>\n",
       "      <td>26.0</td>\n",
       "      <td>7.9250</td>\n",
       "      <td>3</td>\n",
       "      <td>32.000000</td>\n",
       "      <td>41</td>\n",
       "      <td>18.0</td>\n",
       "      <td>[0,10)</td>\n",
       "    </tr>\n",
       "    <tr>\n",
       "      <th>4</th>\n",
       "      <td>0</td>\n",
       "      <td>man</td>\n",
       "      <td>35.0</td>\n",
       "      <td>8.0500</td>\n",
       "      <td>5</td>\n",
       "      <td>33.173123</td>\n",
       "      <td>193</td>\n",
       "      <td>36.0</td>\n",
       "      <td>[0,10)</td>\n",
       "    </tr>\n",
       "    <tr>\n",
       "      <th>5</th>\n",
       "      <td>0</td>\n",
       "      <td>man</td>\n",
       "      <td>NaN</td>\n",
       "      <td>8.4583</td>\n",
       "      <td>6</td>\n",
       "      <td>33.173123</td>\n",
       "      <td>240</td>\n",
       "      <td>36.0</td>\n",
       "      <td>[0,10)</td>\n",
       "    </tr>\n",
       "    <tr>\n",
       "      <th>12</th>\n",
       "      <td>0</td>\n",
       "      <td>man</td>\n",
       "      <td>20.0</td>\n",
       "      <td>8.0500</td>\n",
       "      <td>13</td>\n",
       "      <td>33.173123</td>\n",
       "      <td>194</td>\n",
       "      <td>36.0</td>\n",
       "      <td>[0,10)</td>\n",
       "    </tr>\n",
       "    <tr>\n",
       "      <th>...</th>\n",
       "      <td>...</td>\n",
       "      <td>...</td>\n",
       "      <td>...</td>\n",
       "      <td>...</td>\n",
       "      <td>...</td>\n",
       "      <td>...</td>\n",
       "      <td>...</td>\n",
       "      <td>...</td>\n",
       "      <td>...</td>\n",
       "    </tr>\n",
       "    <tr>\n",
       "      <th>877</th>\n",
       "      <td>0</td>\n",
       "      <td>man</td>\n",
       "      <td>19.0</td>\n",
       "      <td>7.8958</td>\n",
       "      <td>878</td>\n",
       "      <td>33.173123</td>\n",
       "      <td>177</td>\n",
       "      <td>36.0</td>\n",
       "      <td>[0,10)</td>\n",
       "    </tr>\n",
       "    <tr>\n",
       "      <th>878</th>\n",
       "      <td>0</td>\n",
       "      <td>man</td>\n",
       "      <td>NaN</td>\n",
       "      <td>7.8958</td>\n",
       "      <td>879</td>\n",
       "      <td>33.173123</td>\n",
       "      <td>178</td>\n",
       "      <td>36.0</td>\n",
       "      <td>[0,10)</td>\n",
       "    </tr>\n",
       "    <tr>\n",
       "      <th>881</th>\n",
       "      <td>0</td>\n",
       "      <td>man</td>\n",
       "      <td>33.0</td>\n",
       "      <td>7.8958</td>\n",
       "      <td>882</td>\n",
       "      <td>33.173123</td>\n",
       "      <td>179</td>\n",
       "      <td>36.0</td>\n",
       "      <td>[0,10)</td>\n",
       "    </tr>\n",
       "    <tr>\n",
       "      <th>884</th>\n",
       "      <td>0</td>\n",
       "      <td>man</td>\n",
       "      <td>25.0</td>\n",
       "      <td>7.0500</td>\n",
       "      <td>885</td>\n",
       "      <td>33.173123</td>\n",
       "      <td>35</td>\n",
       "      <td>36.0</td>\n",
       "      <td>[0,10)</td>\n",
       "    </tr>\n",
       "    <tr>\n",
       "      <th>890</th>\n",
       "      <td>0</td>\n",
       "      <td>man</td>\n",
       "      <td>32.0</td>\n",
       "      <td>7.7500</td>\n",
       "      <td>891</td>\n",
       "      <td>33.173123</td>\n",
       "      <td>110</td>\n",
       "      <td>36.0</td>\n",
       "      <td>[0,10)</td>\n",
       "    </tr>\n",
       "  </tbody>\n",
       "</table>\n",
       "<p>336 rows × 9 columns</p>\n",
       "</div>"
      ],
      "text/plain": [
       "     survived    who   age    fare   id  avg_age_in_who  \\\n",
       "0           0    man  22.0  7.2500    1       33.173123   \n",
       "2           1  woman  26.0  7.9250    3       32.000000   \n",
       "4           0    man  35.0  8.0500    5       33.173123   \n",
       "5           0    man   NaN  8.4583    6       33.173123   \n",
       "12          0    man  20.0  8.0500   13       33.173123   \n",
       "..        ...    ...   ...     ...  ...             ...   \n",
       "877         0    man  19.0  7.8958  878       33.173123   \n",
       "878         0    man   NaN  7.8958  879       33.173123   \n",
       "881         0    man  33.0  7.8958  882       33.173123   \n",
       "884         0    man  25.0  7.0500  885       33.173123   \n",
       "890         0    man  32.0  7.7500  891       33.173123   \n",
       "\n",
       "     cumcount_in_who_by_fare  age_of_lowest_fare_in_who fare_bin  \n",
       "0                         65                       36.0   [0,10)  \n",
       "2                         41                       18.0   [0,10)  \n",
       "4                        193                       36.0   [0,10)  \n",
       "5                        240                       36.0   [0,10)  \n",
       "12                       194                       36.0   [0,10)  \n",
       "..                       ...                        ...      ...  \n",
       "877                      177                       36.0   [0,10)  \n",
       "878                      178                       36.0   [0,10)  \n",
       "881                      179                       36.0   [0,10)  \n",
       "884                       35                       36.0   [0,10)  \n",
       "890                      110                       36.0   [0,10)  \n",
       "\n",
       "[336 rows x 9 columns]"
      ]
     },
     "execution_count": 21,
     "metadata": {},
     "output_type": "execute_result"
    }
   ],
   "source": [
    "df2.loc[lambda x: x['fare'] < 10 ,:]"
   ]
  },
  {
   "cell_type": "markdown",
   "id": "ab8bc360",
   "metadata": {},
   "source": [
    "#### case when loop"
   ]
  },
  {
   "cell_type": "code",
   "execution_count": 22,
   "id": "4380e3d3",
   "metadata": {},
   "outputs": [
    {
     "name": "stdout",
     "output_type": "stream",
     "text": [
      "i = 0, bin_edge = 0\n",
      "bins[i] = 0\n",
      "bins[i-1] = 100\n",
      "\n",
      "i = 1, bin_edge = 10\n",
      "bins[i] = 10\n",
      "bins[i-1] = 0\n",
      "\n",
      "i = 2, bin_edge = 20\n",
      "bins[i] = 20\n",
      "bins[i-1] = 10\n",
      "\n",
      "i = 3, bin_edge = 30\n",
      "bins[i] = 30\n",
      "bins[i-1] = 20\n",
      "\n",
      "i = 4, bin_edge = 100\n",
      "bins[i] = 100\n",
      "bins[i-1] = 30\n",
      "\n"
     ]
    },
    {
     "data": {
      "application/vnd.microsoft.datawrangler.viewer.v0+json": {
       "columns": [
        {
         "name": "index",
         "rawType": "int64",
         "type": "integer"
        },
        {
         "name": "0",
         "rawType": "object",
         "type": "unknown"
        }
       ],
       "ref": "0b9128cd-3b91-4d5b-a439-716cf3b31dcd",
       "rows": [
        [
         "0",
         null
        ],
        [
         "1",
         null
        ],
        [
         "2",
         null
        ],
        [
         "3",
         null
        ],
        [
         "4",
         null
        ],
        [
         "5",
         null
        ],
        [
         "6",
         null
        ],
        [
         "7",
         null
        ],
        [
         "8",
         null
        ],
        [
         "9",
         null
        ],
        [
         "10",
         null
        ],
        [
         "11",
         null
        ],
        [
         "12",
         null
        ],
        [
         "13",
         null
        ],
        [
         "14",
         null
        ],
        [
         "15",
         null
        ],
        [
         "16",
         null
        ],
        [
         "17",
         null
        ],
        [
         "18",
         null
        ],
        [
         "19",
         null
        ],
        [
         "20",
         null
        ],
        [
         "21",
         null
        ],
        [
         "22",
         null
        ],
        [
         "23",
         null
        ],
        [
         "24",
         null
        ],
        [
         "25",
         null
        ],
        [
         "26",
         null
        ],
        [
         "27",
         null
        ],
        [
         "28",
         null
        ],
        [
         "29",
         null
        ],
        [
         "30",
         null
        ],
        [
         "31",
         null
        ],
        [
         "32",
         null
        ],
        [
         "33",
         null
        ],
        [
         "34",
         null
        ],
        [
         "35",
         null
        ],
        [
         "36",
         null
        ],
        [
         "37",
         null
        ],
        [
         "38",
         null
        ],
        [
         "39",
         null
        ],
        [
         "40",
         null
        ],
        [
         "41",
         null
        ],
        [
         "42",
         null
        ],
        [
         "43",
         null
        ],
        [
         "44",
         null
        ],
        [
         "45",
         null
        ],
        [
         "46",
         null
        ],
        [
         "47",
         null
        ],
        [
         "48",
         null
        ],
        [
         "49",
         null
        ]
       ],
       "shape": {
        "columns": 1,
        "rows": 891
       }
      },
      "text/plain": [
       "0      NaN\n",
       "1      NaN\n",
       "2      NaN\n",
       "3      NaN\n",
       "4      NaN\n",
       "      ... \n",
       "886    NaN\n",
       "887    NaN\n",
       "888    NaN\n",
       "889    NaN\n",
       "890    NaN\n",
       "Length: 891, dtype: object"
      ]
     },
     "execution_count": 22,
     "metadata": {},
     "output_type": "execute_result"
    }
   ],
   "source": [
    "col = 'fare'\n",
    "bins = [0, 10, 20, 30, 100]\n",
    "\n",
    "res = pd.Series(index=df.index, dtype=object)\n",
    "\n",
    "for i, bin_edge in enumerate(bins):\n",
    "    print(f\"{i = }, {bin_edge = }\")\n",
    "    print(f\"{bins[i] = }\")\n",
    "    print(f\"{bins[i-1] = }\")\n",
    "    print()\n",
    "    # if i == 0:\n",
    "    #     res.loc[df[col] < bin_edge] = f\"[-Inf, {bin_edge})\"\n",
    "    # else:\n",
    "    #     res.loc[(df[col] >= bins[i - 1]) & (df[col] < bin_edge)] = (\n",
    "    #         f\"[{bins[i-1]},{bin_edge})\"\n",
    "    #     )\n",
    "    \n",
    "# res.loc[df[col] >= bins[-1]] = f\"[{bins[-1]},Inf)\"\n",
    "\n",
    "res"
   ]
  },
  {
   "cell_type": "code",
   "execution_count": 24,
   "id": "90ff4b1a",
   "metadata": {},
   "outputs": [
    {
     "data": {
      "application/vnd.microsoft.datawrangler.viewer.v0+json": {
       "columns": [
        {
         "name": "index",
         "rawType": "int64",
         "type": "integer"
        },
        {
         "name": "0",
         "rawType": "object",
         "type": "string"
        }
       ],
       "ref": "87a18195-1886-46e2-8f86-c17dd04687cb",
       "rows": [
        [
         "0",
         "[0,10)"
        ],
        [
         "1",
         "[30,100)"
        ],
        [
         "2",
         "[0,10)"
        ],
        [
         "3",
         "[30,100)"
        ],
        [
         "4",
         "[0,10)"
        ],
        [
         "5",
         "[0,10)"
        ],
        [
         "6",
         "[30,100)"
        ],
        [
         "7",
         "[20,30)"
        ],
        [
         "8",
         "[10,20)"
        ],
        [
         "9",
         "[30,100)"
        ],
        [
         "10",
         "[10,20)"
        ],
        [
         "11",
         "[20,30)"
        ],
        [
         "12",
         "[0,10)"
        ],
        [
         "13",
         "[30,100)"
        ],
        [
         "14",
         "[0,10)"
        ],
        [
         "15",
         "[10,20)"
        ],
        [
         "16",
         "[20,30)"
        ],
        [
         "17",
         "[10,20)"
        ],
        [
         "18",
         "[10,20)"
        ],
        [
         "19",
         "[0,10)"
        ],
        [
         "20",
         "[20,30)"
        ],
        [
         "21",
         "[10,20)"
        ],
        [
         "22",
         "[0,10)"
        ],
        [
         "23",
         "[30,100)"
        ],
        [
         "24",
         "[20,30)"
        ],
        [
         "25",
         "[30,100)"
        ],
        [
         "26",
         "[0,10)"
        ],
        [
         "27",
         "[100,Inf)"
        ],
        [
         "28",
         "[0,10)"
        ],
        [
         "29",
         "[0,10)"
        ],
        [
         "30",
         "[20,30)"
        ],
        [
         "31",
         "[100,Inf)"
        ],
        [
         "32",
         "[0,10)"
        ],
        [
         "33",
         "[10,20)"
        ],
        [
         "34",
         "[30,100)"
        ],
        [
         "35",
         "[30,100)"
        ],
        [
         "36",
         "[0,10)"
        ],
        [
         "37",
         "[0,10)"
        ],
        [
         "38",
         "[10,20)"
        ],
        [
         "39",
         "[10,20)"
        ],
        [
         "40",
         "[0,10)"
        ],
        [
         "41",
         "[20,30)"
        ],
        [
         "42",
         "[0,10)"
        ],
        [
         "43",
         "[30,100)"
        ],
        [
         "44",
         "[0,10)"
        ],
        [
         "45",
         "[0,10)"
        ],
        [
         "46",
         "[10,20)"
        ],
        [
         "47",
         "[0,10)"
        ],
        [
         "48",
         "[20,30)"
        ],
        [
         "49",
         "[10,20)"
        ]
       ],
       "shape": {
        "columns": 1,
        "rows": 891
       }
      },
      "text/plain": [
       "0        [0,10)\n",
       "1      [30,100)\n",
       "2        [0,10)\n",
       "3      [30,100)\n",
       "4        [0,10)\n",
       "         ...   \n",
       "886     [10,20)\n",
       "887    [30,100)\n",
       "888     [20,30)\n",
       "889    [30,100)\n",
       "890      [0,10)\n",
       "Length: 891, dtype: object"
      ]
     },
     "execution_count": 24,
     "metadata": {},
     "output_type": "execute_result"
    }
   ],
   "source": [
    "make_bins(df2, \"fare\", bins=[0, 10, 20, 30, 100])"
   ]
  },
  {
   "cell_type": "markdown",
   "id": "22a1fe0a",
   "metadata": {},
   "source": [
    "#### stats"
   ]
  },
  {
   "cell_type": "code",
   "execution_count": 25,
   "id": "80affdd9",
   "metadata": {},
   "outputs": [],
   "source": [
    "import scipy.stats as stats\n",
    "\n",
    "np.random.seed(42)\n",
    "\n",
    "df2[\"fare_adj\"] = np.clip(\n",
    "    df2[\"fare\"] + stats.norm.rvs(loc=2, scale=5, size=len(df2.index)),\n",
    "    a_min=0,\n",
    "    a_max=None,\n",
    ")"
   ]
  },
  {
   "cell_type": "code",
   "execution_count": 26,
   "id": "9f5fe189",
   "metadata": {},
   "outputs": [
    {
     "data": {
      "application/vnd.microsoft.datawrangler.viewer.v0+json": {
       "columns": [
        {
         "name": "index",
         "rawType": "int64",
         "type": "integer"
        },
        {
         "name": "0",
         "rawType": "int64",
         "type": "integer"
        }
       ],
       "ref": "06f605e7-11cd-4114-af4b-8e4759dfed56",
       "rows": [
        [
         "0",
         "0"
        ],
        [
         "1",
         "3"
        ],
        [
         "2",
         "5"
        ]
       ],
       "shape": {
        "columns": 1,
        "rows": 3
       }
      },
      "text/plain": [
       "0    0\n",
       "1    3\n",
       "2    5\n",
       "dtype: int64"
      ]
     },
     "execution_count": 26,
     "metadata": {},
     "output_type": "execute_result"
    }
   ],
   "source": [
    "np.clip(\n",
    "    pd.Series([-1, 3, 5]),\n",
    "    a_min=0,\n",
    "    a_max=None,\n",
    ")"
   ]
  },
  {
   "cell_type": "code",
   "execution_count": 27,
   "id": "329e44ab",
   "metadata": {},
   "outputs": [
    {
     "data": {
      "text/plain": [
       "numpy.ndarray"
      ]
     },
     "execution_count": 27,
     "metadata": {},
     "output_type": "execute_result"
    }
   ],
   "source": [
    "type(stats.norm.rvs(loc=2, scale=5, size=3))"
   ]
  },
  {
   "cell_type": "code",
   "execution_count": 28,
   "id": "d44ec44f",
   "metadata": {},
   "outputs": [
    {
     "data": {
      "text/plain": [
       "np.float64(0.5)"
      ]
     },
     "execution_count": 28,
     "metadata": {},
     "output_type": "execute_result"
    }
   ],
   "source": [
    "stats.norm.cdf(0)"
   ]
  },
  {
   "cell_type": "code",
   "execution_count": 29,
   "id": "e79453e3",
   "metadata": {},
   "outputs": [
    {
     "data": {
      "text/plain": [
       "(np.float64(0.0), np.float64(0.408248290463863))"
      ]
     },
     "execution_count": 29,
     "metadata": {},
     "output_type": "execute_result"
    }
   ],
   "source": [
    "stats.norm.fit([-0.5,0,0.5])"
   ]
  },
  {
   "cell_type": "code",
   "execution_count": 30,
   "id": "0eb1a455",
   "metadata": {},
   "outputs": [],
   "source": [
    "df2[\"fare_adj_bin\"] = make_bins(df2, \"fare_adj\", bins=[0, 10, 20, 30, 100])"
   ]
  },
  {
   "cell_type": "code",
   "execution_count": 73,
   "id": "b561ee12",
   "metadata": {},
   "outputs": [
    {
     "data": {
      "text/plain": [
       "array([[-1.02995023, -2.7138762 ],\n",
       "       [ 0.46211305, -2.8387617 ],\n",
       "       [ 4.82249102, -3.8087565 ],\n",
       "       ...,\n",
       "       [-2.13245688, -2.33486728],\n",
       "       [ 2.21512243,  7.33733926],\n",
       "       [ 0.26005225, -9.26266757]], shape=(891, 2))"
      ]
     },
     "execution_count": 73,
     "metadata": {},
     "output_type": "execute_result"
    }
   ],
   "source": [
    "n_cols = 2\n",
    "stats.norm.rvs(loc=2, scale=5, size=df.shape[0] * n_cols).reshape(df.shape[0], n_cols)"
   ]
  },
  {
   "cell_type": "code",
   "execution_count": 72,
   "id": "2d51fd8d",
   "metadata": {},
   "outputs": [
    {
     "data": {
      "application/vnd.microsoft.datawrangler.viewer.v0+json": {
       "columns": [
        {
         "name": "index",
         "rawType": "int64",
         "type": "integer"
        },
        {
         "name": "rv_1",
         "rawType": "float64",
         "type": "float"
        },
        {
         "name": "rv_2",
         "rawType": "float64",
         "type": "float"
        },
        {
         "name": "rv_3",
         "rawType": "float64",
         "type": "float"
        }
       ],
       "ref": "c8db0221-8df2-49a5-b50c-2a43a398b26b",
       "rows": [
        [
         "0",
         "3.4101810523111027",
         "1.2357250409288727",
         "4.167812300959397"
        ],
        [
         "1",
         "10.814898262686995",
         "-0.5385838457485694",
         "-6.575899853517102"
        ],
        [
         "2",
         "6.129617915153266",
         "10.416572879637648",
         "3.963841815255622"
        ],
        [
         "3",
         "-3.4387433767683397",
         "1.3805381838239952",
         "-3.5926174210581614"
        ],
        [
         "4",
         "5.214277469814738",
         "-4.756452013492172",
         "0.49935606585900016"
        ]
       ],
       "shape": {
        "columns": 3,
        "rows": 5
       }
      },
      "text/html": [
       "<div>\n",
       "<style scoped>\n",
       "    .dataframe tbody tr th:only-of-type {\n",
       "        vertical-align: middle;\n",
       "    }\n",
       "\n",
       "    .dataframe tbody tr th {\n",
       "        vertical-align: top;\n",
       "    }\n",
       "\n",
       "    .dataframe thead th {\n",
       "        text-align: right;\n",
       "    }\n",
       "</style>\n",
       "<table border=\"1\" class=\"dataframe\">\n",
       "  <thead>\n",
       "    <tr style=\"text-align: right;\">\n",
       "      <th></th>\n",
       "      <th>rv_1</th>\n",
       "      <th>rv_2</th>\n",
       "      <th>rv_3</th>\n",
       "    </tr>\n",
       "  </thead>\n",
       "  <tbody>\n",
       "    <tr>\n",
       "      <th>0</th>\n",
       "      <td>3.410181</td>\n",
       "      <td>1.235725</td>\n",
       "      <td>4.167812</td>\n",
       "    </tr>\n",
       "    <tr>\n",
       "      <th>1</th>\n",
       "      <td>10.814898</td>\n",
       "      <td>-0.538584</td>\n",
       "      <td>-6.575900</td>\n",
       "    </tr>\n",
       "    <tr>\n",
       "      <th>2</th>\n",
       "      <td>6.129618</td>\n",
       "      <td>10.416573</td>\n",
       "      <td>3.963842</td>\n",
       "    </tr>\n",
       "    <tr>\n",
       "      <th>3</th>\n",
       "      <td>-3.438743</td>\n",
       "      <td>1.380538</td>\n",
       "      <td>-3.592617</td>\n",
       "    </tr>\n",
       "    <tr>\n",
       "      <th>4</th>\n",
       "      <td>5.214277</td>\n",
       "      <td>-4.756452</td>\n",
       "      <td>0.499356</td>\n",
       "    </tr>\n",
       "  </tbody>\n",
       "</table>\n",
       "</div>"
      ],
      "text/plain": [
       "        rv_1       rv_2      rv_3\n",
       "0   3.410181   1.235725  4.167812\n",
       "1  10.814898  -0.538584 -6.575900\n",
       "2   6.129618  10.416573  3.963842\n",
       "3  -3.438743   1.380538 -3.592617\n",
       "4   5.214277  -4.756452  0.499356"
      ]
     },
     "execution_count": 72,
     "metadata": {},
     "output_type": "execute_result"
    }
   ],
   "source": [
    "n_cols = 3\n",
    "colnames = [f\"rv_{i}\" for i in range(1, n_cols + 1)]\n",
    "df[colnames] = stats.norm.rvs(loc=2, scale=5, size=df.shape[0] * n_cols).reshape(df.shape[0], n_cols)\n",
    "df[colnames].head()"
   ]
  },
  {
   "cell_type": "markdown",
   "id": "7d401dfb",
   "metadata": {},
   "source": [
    "#### loc and select"
   ]
  },
  {
   "cell_type": "code",
   "execution_count": null,
   "id": "d4f9795d",
   "metadata": {},
   "outputs": [],
   "source": [
    "df2 = df2.loc[\n",
    "    lambda x: x[\"fare\"] < 50,\n",
    "    [\n",
    "        \"id\",\n",
    "        \"who\",\n",
    "        \"age\",\n",
    "        \"fare\",\n",
    "        \"fare_adj\",\n",
    "        \"fare_bin\",\n",
    "        \"fare_adj_bin\",\n",
    "        \"avg_age_in_who\",\n",
    "        \"cumcount_in_who_by_fare\",\n",
    "        \"age_of_lowest_fare_in_who\",\n",
    "    ],\n",
    "]"
   ]
  },
  {
   "cell_type": "code",
   "execution_count": null,
   "id": "2feadd41",
   "metadata": {},
   "outputs": [
    {
     "name": "stdout",
     "output_type": "stream",
     "text": [
      "df2.shape = (7300000, 10)\n",
      "   id    who   age     fare   fare_adj fare_bin fare_adj_bin  avg_age_in_who  cumcount_in_who_by_fare  age_of_lowest_fare_in_who\n",
      "1   2    man  48.0   7.8542   9.162878   [0,10)       [0,10)       33.173123                  1310001                       36.0\n",
      "2   3  woman  26.0   7.9250  13.163443   [0,10)      [10,20)       32.000000                   400001                       18.0\n",
      "4   5    man  30.0  24.0000  24.829233  [20,30)      [20,30)       33.173123                  3730001                       36.0\n",
      "5   6  woman  28.0   7.8958   8.725115   [0,10)       [0,10)       32.000000                   390001                       18.0\n",
      "6   7    man  31.0  13.0000  22.896064  [10,20)      [20,30)       33.173123                  2950001                       36.0\n"
     ]
    }
   ],
   "source": [
    "print(f\"{df2.shape = }\")\n",
    "print(df2.head().to_string())"
   ]
  },
  {
   "cell_type": "markdown",
   "id": "1e791971",
   "metadata": {},
   "source": [
    "### in one go with funcs"
   ]
  },
  {
   "cell_type": "code",
   "execution_count": 35,
   "id": "c805bd23",
   "metadata": {},
   "outputs": [
    {
     "name": "stdout",
     "output_type": "stream",
     "text": [
      "df2_2.shape = (7300000, 10)\n",
      "   id    who   age     fare   fare_adj fare_bin fare_adj_bin  avg_age_in_who  cumcount_in_who_by_fare  age_of_lowest_fare_in_who\n",
      "1   2    man  48.0   7.8542   9.162878   [0,10)       [0,10)       33.173123                  1310001                       36.0\n",
      "2   3  woman  26.0   7.9250  13.163443   [0,10)      [10,20)       32.000000                   400001                       18.0\n",
      "4   5    man  30.0  24.0000  24.829233  [20,30)      [20,30)       33.173123                  3730001                       36.0\n",
      "5   6  woman  28.0   7.8958   8.725115   [0,10)       [0,10)       32.000000                   390001                       18.0\n",
      "6   7    man  31.0  13.0000  22.896064  [10,20)      [20,30)       33.173123                  2950001                       36.0\n"
     ]
    }
   ],
   "source": [
    "bins = [0, 10, 20, 30, 100]\n",
    "np.random.seed(42)\n",
    "\n",
    "df2_2 = df.assign(\n",
    "    id=lambda x: range(1, len(x) + 1),\n",
    "    avg_age_in_who=lambda x: x.groupby(\"who\", dropna=False)[\"age\"].transform(\"mean\"),\n",
    "    cumcount_in_who_by_fare=lambda x: x.sort_values([\"fare\", \"id\"], na_position=\"last\")\n",
    "    .groupby(\"who\", dropna=False)\n",
    "    .cumcount()\n",
    "    + 1,\n",
    "    age_of_lowest_fare_in_who=lambda x: x.sort_values(\n",
    "        [\"fare\", \"id\"], na_position=\"last\"\n",
    "    )\n",
    "    .groupby(\"who\", dropna=False)[\"age\"]\n",
    "    .transform(\"first\"),\n",
    "    fare_bin=lambda x: make_bins(x, \"fare\", bins=bins),\n",
    "    fare_adj=lambda x: np.clip(\n",
    "        x[\"fare\"] + stats.norm.rvs(loc=2, scale=5, size=len(x.index)),\n",
    "        a_min=0,\n",
    "        a_max=None,\n",
    "    ),\n",
    "    fare_adj_bin=lambda x: make_bins(x, \"fare_adj\", bins=bins),\n",
    ").loc[\n",
    "    lambda x: x[\"fare\"] < 50,\n",
    "    [\n",
    "        \"id\",\n",
    "        \"who\",\n",
    "        \"age\",\n",
    "        \"fare\",\n",
    "        \"fare_adj\",\n",
    "        \"fare_bin\",\n",
    "        \"fare_adj_bin\",\n",
    "        \"avg_age_in_who\",\n",
    "        \"cumcount_in_who_by_fare\",\n",
    "        \"age_of_lowest_fare_in_who\",\n",
    "    ],\n",
    "]\n",
    "print(f\"{df2_2.shape = }\")\n",
    "print(df2_2.head().to_string())"
   ]
  },
  {
   "cell_type": "code",
   "execution_count": 155,
   "id": "f636126a",
   "metadata": {},
   "outputs": [
    {
     "data": {
      "text/plain": [
       "6"
      ]
     },
     "execution_count": 155,
     "metadata": {},
     "output_type": "execute_result"
    }
   ],
   "source": [
    "func = lambda x,y,z: x + y + z\n",
    "\n",
    "func(1,2,3)"
   ]
  },
  {
   "cell_type": "code",
   "execution_count": 158,
   "id": "4c2652b2",
   "metadata": {},
   "outputs": [
    {
     "data": {
      "text/plain": [
       "6"
      ]
     },
     "execution_count": 158,
     "metadata": {},
     "output_type": "execute_result"
    }
   ],
   "source": [
    "func(*[1,2,3])"
   ]
  },
  {
   "cell_type": "code",
   "execution_count": 36,
   "id": "7e056b94",
   "metadata": {},
   "outputs": [],
   "source": [
    "assert df2.compare(df2_2).empty, \"DataFrames are not equal!\""
   ]
  },
  {
   "cell_type": "markdown",
   "id": "9bc9a057",
   "metadata": {},
   "source": [
    "### check results while using aggs"
   ]
  },
  {
   "cell_type": "code",
   "execution_count": 37,
   "id": "4ebdbea9",
   "metadata": {},
   "outputs": [
    {
     "data": {
      "application/vnd.microsoft.datawrangler.viewer.v0+json": {
       "columns": [
        {
         "name": "who",
         "rawType": "object",
         "type": "string"
        },
        {
         "name": "n",
         "rawType": "int64",
         "type": "integer"
        },
        {
         "name": "avg_age",
         "rawType": "float64",
         "type": "float"
        },
        {
         "name": "max_avg_age_in_who",
         "rawType": "float64",
         "type": "float"
        },
        {
         "name": "equal",
         "rawType": "bool",
         "type": "boolean"
        }
       ],
       "ref": "f45072ef-bae2-499e-b1d0-4ffbd5aa15a5",
       "rows": [
        [
         "child",
         "770000",
         "6.2564935064935066",
         "6.369518072289156",
         "False"
        ],
        [
         "man",
         "4660000",
         "32.5",
         "33.17312348668281",
         "False"
        ],
        [
         "woman",
         "1870000",
         "30.273972602739725",
         "32.0",
         "False"
        ]
       ],
       "shape": {
        "columns": 4,
        "rows": 3
       }
      },
      "text/html": [
       "<div>\n",
       "<style scoped>\n",
       "    .dataframe tbody tr th:only-of-type {\n",
       "        vertical-align: middle;\n",
       "    }\n",
       "\n",
       "    .dataframe tbody tr th {\n",
       "        vertical-align: top;\n",
       "    }\n",
       "\n",
       "    .dataframe thead th {\n",
       "        text-align: right;\n",
       "    }\n",
       "</style>\n",
       "<table border=\"1\" class=\"dataframe\">\n",
       "  <thead>\n",
       "    <tr style=\"text-align: right;\">\n",
       "      <th></th>\n",
       "      <th>n</th>\n",
       "      <th>avg_age</th>\n",
       "      <th>max_avg_age_in_who</th>\n",
       "      <th>equal</th>\n",
       "    </tr>\n",
       "    <tr>\n",
       "      <th>who</th>\n",
       "      <th></th>\n",
       "      <th></th>\n",
       "      <th></th>\n",
       "      <th></th>\n",
       "    </tr>\n",
       "  </thead>\n",
       "  <tbody>\n",
       "    <tr>\n",
       "      <th>child</th>\n",
       "      <td>770000</td>\n",
       "      <td>6.256494</td>\n",
       "      <td>6.369518</td>\n",
       "      <td>False</td>\n",
       "    </tr>\n",
       "    <tr>\n",
       "      <th>man</th>\n",
       "      <td>4660000</td>\n",
       "      <td>32.500000</td>\n",
       "      <td>33.173123</td>\n",
       "      <td>False</td>\n",
       "    </tr>\n",
       "    <tr>\n",
       "      <th>woman</th>\n",
       "      <td>1870000</td>\n",
       "      <td>30.273973</td>\n",
       "      <td>32.000000</td>\n",
       "      <td>False</td>\n",
       "    </tr>\n",
       "  </tbody>\n",
       "</table>\n",
       "</div>"
      ],
      "text/plain": [
       "             n    avg_age  max_avg_age_in_who  equal\n",
       "who                                                 \n",
       "child   770000   6.256494            6.369518  False\n",
       "man    4660000  32.500000           33.173123  False\n",
       "woman  1870000  30.273973           32.000000  False"
      ]
     },
     "execution_count": 37,
     "metadata": {},
     "output_type": "execute_result"
    }
   ],
   "source": [
    "df2.groupby([\"who\"], dropna=False).agg(\n",
    "    **{\n",
    "        \"n\": (\"who\", \"size\"),\n",
    "        \"avg_age\": (\"age\", \"mean\"),\n",
    "        \"max_avg_age_in_who\": (\"avg_age_in_who\", \"max\"),\n",
    "    }\n",
    ").assign(\n",
    "    equal=lambda x: np.where(\n",
    "        np.abs(x[\"avg_age\"] - x[\"max_avg_age_in_who\"]) < 0.01, True, False\n",
    "    )\n",
    ")"
   ]
  },
  {
   "cell_type": "code",
   "execution_count": 40,
   "id": "0bb6d639",
   "metadata": {},
   "outputs": [
    {
     "data": {
      "application/vnd.microsoft.datawrangler.viewer.v0+json": {
       "columns": [
        {
         "name": "index",
         "rawType": "int64",
         "type": "integer"
        },
        {
         "name": "id",
         "rawType": "int64",
         "type": "integer"
        },
        {
         "name": "who",
         "rawType": "object",
         "type": "string"
        },
        {
         "name": "fare",
         "rawType": "float64",
         "type": "float"
        },
        {
         "name": "cumcount_in_who_by_fare",
         "rawType": "int64",
         "type": "integer"
        }
       ],
       "ref": "d32deb10-64c8-4b9a-8007-087607081a3c",
       "rows": [
        [
         "116",
         "117",
         "child",
         "7.225",
         "1"
        ],
        [
         "331",
         "332",
         "child",
         "7.225",
         "2"
        ],
        [
         "1631",
         "1632",
         "child",
         "7.225",
         "3"
        ],
        [
         "2317",
         "2318",
         "child",
         "7.225",
         "4"
        ],
        [
         "2673",
         "2674",
         "child",
         "7.225",
         "5"
        ],
        [
         "3223",
         "3224",
         "child",
         "7.225",
         "6"
        ],
        [
         "6341",
         "6342",
         "child",
         "7.225",
         "7"
        ],
        [
         "7972",
         "7973",
         "child",
         "7.225",
         "8"
        ],
        [
         "8565",
         "8566",
         "child",
         "7.225",
         "9"
        ],
        [
         "10343",
         "10344",
         "child",
         "7.225",
         "10"
        ],
        [
         "14270",
         "14271",
         "child",
         "7.225",
         "11"
        ],
        [
         "15101",
         "15102",
         "child",
         "7.225",
         "12"
        ],
        [
         "16320",
         "16321",
         "child",
         "7.225",
         "13"
        ],
        [
         "17053",
         "17054",
         "child",
         "7.225",
         "14"
        ],
        [
         "19612",
         "19613",
         "child",
         "7.225",
         "15"
        ],
        [
         "19857",
         "19858",
         "child",
         "7.225",
         "16"
        ],
        [
         "21008",
         "21009",
         "child",
         "7.225",
         "17"
        ],
        [
         "21598",
         "21599",
         "child",
         "7.225",
         "18"
        ],
        [
         "21936",
         "21937",
         "child",
         "7.225",
         "19"
        ],
        [
         "21960",
         "21961",
         "child",
         "7.225",
         "20"
        ]
       ],
       "shape": {
        "columns": 4,
        "rows": 20
       }
      },
      "text/html": [
       "<div>\n",
       "<style scoped>\n",
       "    .dataframe tbody tr th:only-of-type {\n",
       "        vertical-align: middle;\n",
       "    }\n",
       "\n",
       "    .dataframe tbody tr th {\n",
       "        vertical-align: top;\n",
       "    }\n",
       "\n",
       "    .dataframe thead th {\n",
       "        text-align: right;\n",
       "    }\n",
       "</style>\n",
       "<table border=\"1\" class=\"dataframe\">\n",
       "  <thead>\n",
       "    <tr style=\"text-align: right;\">\n",
       "      <th></th>\n",
       "      <th>id</th>\n",
       "      <th>who</th>\n",
       "      <th>fare</th>\n",
       "      <th>cumcount_in_who_by_fare</th>\n",
       "    </tr>\n",
       "  </thead>\n",
       "  <tbody>\n",
       "    <tr>\n",
       "      <th>116</th>\n",
       "      <td>117</td>\n",
       "      <td>child</td>\n",
       "      <td>7.225</td>\n",
       "      <td>1</td>\n",
       "    </tr>\n",
       "    <tr>\n",
       "      <th>331</th>\n",
       "      <td>332</td>\n",
       "      <td>child</td>\n",
       "      <td>7.225</td>\n",
       "      <td>2</td>\n",
       "    </tr>\n",
       "    <tr>\n",
       "      <th>1631</th>\n",
       "      <td>1632</td>\n",
       "      <td>child</td>\n",
       "      <td>7.225</td>\n",
       "      <td>3</td>\n",
       "    </tr>\n",
       "    <tr>\n",
       "      <th>2317</th>\n",
       "      <td>2318</td>\n",
       "      <td>child</td>\n",
       "      <td>7.225</td>\n",
       "      <td>4</td>\n",
       "    </tr>\n",
       "    <tr>\n",
       "      <th>2673</th>\n",
       "      <td>2674</td>\n",
       "      <td>child</td>\n",
       "      <td>7.225</td>\n",
       "      <td>5</td>\n",
       "    </tr>\n",
       "    <tr>\n",
       "      <th>3223</th>\n",
       "      <td>3224</td>\n",
       "      <td>child</td>\n",
       "      <td>7.225</td>\n",
       "      <td>6</td>\n",
       "    </tr>\n",
       "    <tr>\n",
       "      <th>6341</th>\n",
       "      <td>6342</td>\n",
       "      <td>child</td>\n",
       "      <td>7.225</td>\n",
       "      <td>7</td>\n",
       "    </tr>\n",
       "    <tr>\n",
       "      <th>7972</th>\n",
       "      <td>7973</td>\n",
       "      <td>child</td>\n",
       "      <td>7.225</td>\n",
       "      <td>8</td>\n",
       "    </tr>\n",
       "    <tr>\n",
       "      <th>8565</th>\n",
       "      <td>8566</td>\n",
       "      <td>child</td>\n",
       "      <td>7.225</td>\n",
       "      <td>9</td>\n",
       "    </tr>\n",
       "    <tr>\n",
       "      <th>10343</th>\n",
       "      <td>10344</td>\n",
       "      <td>child</td>\n",
       "      <td>7.225</td>\n",
       "      <td>10</td>\n",
       "    </tr>\n",
       "    <tr>\n",
       "      <th>14270</th>\n",
       "      <td>14271</td>\n",
       "      <td>child</td>\n",
       "      <td>7.225</td>\n",
       "      <td>11</td>\n",
       "    </tr>\n",
       "    <tr>\n",
       "      <th>15101</th>\n",
       "      <td>15102</td>\n",
       "      <td>child</td>\n",
       "      <td>7.225</td>\n",
       "      <td>12</td>\n",
       "    </tr>\n",
       "    <tr>\n",
       "      <th>16320</th>\n",
       "      <td>16321</td>\n",
       "      <td>child</td>\n",
       "      <td>7.225</td>\n",
       "      <td>13</td>\n",
       "    </tr>\n",
       "    <tr>\n",
       "      <th>17053</th>\n",
       "      <td>17054</td>\n",
       "      <td>child</td>\n",
       "      <td>7.225</td>\n",
       "      <td>14</td>\n",
       "    </tr>\n",
       "    <tr>\n",
       "      <th>19612</th>\n",
       "      <td>19613</td>\n",
       "      <td>child</td>\n",
       "      <td>7.225</td>\n",
       "      <td>15</td>\n",
       "    </tr>\n",
       "    <tr>\n",
       "      <th>19857</th>\n",
       "      <td>19858</td>\n",
       "      <td>child</td>\n",
       "      <td>7.225</td>\n",
       "      <td>16</td>\n",
       "    </tr>\n",
       "    <tr>\n",
       "      <th>21008</th>\n",
       "      <td>21009</td>\n",
       "      <td>child</td>\n",
       "      <td>7.225</td>\n",
       "      <td>17</td>\n",
       "    </tr>\n",
       "    <tr>\n",
       "      <th>21598</th>\n",
       "      <td>21599</td>\n",
       "      <td>child</td>\n",
       "      <td>7.225</td>\n",
       "      <td>18</td>\n",
       "    </tr>\n",
       "    <tr>\n",
       "      <th>21936</th>\n",
       "      <td>21937</td>\n",
       "      <td>child</td>\n",
       "      <td>7.225</td>\n",
       "      <td>19</td>\n",
       "    </tr>\n",
       "    <tr>\n",
       "      <th>21960</th>\n",
       "      <td>21961</td>\n",
       "      <td>child</td>\n",
       "      <td>7.225</td>\n",
       "      <td>20</td>\n",
       "    </tr>\n",
       "  </tbody>\n",
       "</table>\n",
       "</div>"
      ],
      "text/plain": [
       "          id    who   fare  cumcount_in_who_by_fare\n",
       "116      117  child  7.225                        1\n",
       "331      332  child  7.225                        2\n",
       "1631    1632  child  7.225                        3\n",
       "2317    2318  child  7.225                        4\n",
       "2673    2674  child  7.225                        5\n",
       "3223    3224  child  7.225                        6\n",
       "6341    6342  child  7.225                        7\n",
       "7972    7973  child  7.225                        8\n",
       "8565    8566  child  7.225                        9\n",
       "10343  10344  child  7.225                       10\n",
       "14270  14271  child  7.225                       11\n",
       "15101  15102  child  7.225                       12\n",
       "16320  16321  child  7.225                       13\n",
       "17053  17054  child  7.225                       14\n",
       "19612  19613  child  7.225                       15\n",
       "19857  19858  child  7.225                       16\n",
       "21008  21009  child  7.225                       17\n",
       "21598  21599  child  7.225                       18\n",
       "21936  21937  child  7.225                       19\n",
       "21960  21961  child  7.225                       20"
      ]
     },
     "execution_count": 40,
     "metadata": {},
     "output_type": "execute_result"
    }
   ],
   "source": [
    "df2.loc[\n",
    "    lambda x: x[\"who\"] == \"child\", [\"id\", \"who\", \"fare\", \"cumcount_in_who_by_fare\"]\n",
    "].sort_values([\"fare\", \"id\"]).head(20)"
   ]
  },
  {
   "cell_type": "code",
   "execution_count": 41,
   "id": "e2f65aeb",
   "metadata": {},
   "outputs": [
    {
     "data": {
      "application/vnd.microsoft.datawrangler.viewer.v0+json": {
       "columns": [
        {
         "name": "index",
         "rawType": "int64",
         "type": "integer"
        },
        {
         "name": "id",
         "rawType": "int64",
         "type": "integer"
        },
        {
         "name": "who",
         "rawType": "object",
         "type": "string"
        },
        {
         "name": "fare",
         "rawType": "float64",
         "type": "float"
        },
        {
         "name": "cumcount_in_who_by_fare",
         "rawType": "int64",
         "type": "integer"
        }
       ],
       "ref": "faa3153c-9f87-4b4a-976f-9ca2a9e69311",
       "rows": [
        [
         "227",
         "228",
         "man",
         "0.0",
         "1"
        ],
        [
         "252",
         "253",
         "man",
         "0.0",
         "2"
        ],
        [
         "309",
         "310",
         "man",
         "0.0",
         "3"
        ],
        [
         "324",
         "325",
         "man",
         "0.0",
         "4"
        ],
        [
         "344",
         "345",
         "man",
         "0.0",
         "5"
        ],
        [
         "352",
         "353",
         "man",
         "0.0",
         "6"
        ],
        [
         "556",
         "557",
         "man",
         "0.0",
         "7"
        ],
        [
         "565",
         "566",
         "man",
         "0.0",
         "8"
        ],
        [
         "603",
         "604",
         "man",
         "0.0",
         "9"
        ],
        [
         "664",
         "665",
         "man",
         "0.0",
         "10"
        ],
        [
         "692",
         "693",
         "man",
         "0.0",
         "11"
        ],
        [
         "717",
         "718",
         "man",
         "0.0",
         "12"
        ],
        [
         "718",
         "719",
         "man",
         "0.0",
         "13"
        ],
        [
         "755",
         "756",
         "man",
         "0.0",
         "14"
        ],
        [
         "896",
         "897",
         "man",
         "0.0",
         "15"
        ],
        [
         "995",
         "996",
         "man",
         "0.0",
         "16"
        ],
        [
         "1002",
         "1003",
         "man",
         "0.0",
         "17"
        ],
        [
         "1008",
         "1009",
         "man",
         "0.0",
         "18"
        ],
        [
         "1058",
         "1059",
         "man",
         "0.0",
         "19"
        ],
        [
         "1136",
         "1137",
         "man",
         "0.0",
         "20"
        ]
       ],
       "shape": {
        "columns": 4,
        "rows": 20
       }
      },
      "text/html": [
       "<div>\n",
       "<style scoped>\n",
       "    .dataframe tbody tr th:only-of-type {\n",
       "        vertical-align: middle;\n",
       "    }\n",
       "\n",
       "    .dataframe tbody tr th {\n",
       "        vertical-align: top;\n",
       "    }\n",
       "\n",
       "    .dataframe thead th {\n",
       "        text-align: right;\n",
       "    }\n",
       "</style>\n",
       "<table border=\"1\" class=\"dataframe\">\n",
       "  <thead>\n",
       "    <tr style=\"text-align: right;\">\n",
       "      <th></th>\n",
       "      <th>id</th>\n",
       "      <th>who</th>\n",
       "      <th>fare</th>\n",
       "      <th>cumcount_in_who_by_fare</th>\n",
       "    </tr>\n",
       "  </thead>\n",
       "  <tbody>\n",
       "    <tr>\n",
       "      <th>227</th>\n",
       "      <td>228</td>\n",
       "      <td>man</td>\n",
       "      <td>0.0</td>\n",
       "      <td>1</td>\n",
       "    </tr>\n",
       "    <tr>\n",
       "      <th>252</th>\n",
       "      <td>253</td>\n",
       "      <td>man</td>\n",
       "      <td>0.0</td>\n",
       "      <td>2</td>\n",
       "    </tr>\n",
       "    <tr>\n",
       "      <th>309</th>\n",
       "      <td>310</td>\n",
       "      <td>man</td>\n",
       "      <td>0.0</td>\n",
       "      <td>3</td>\n",
       "    </tr>\n",
       "    <tr>\n",
       "      <th>324</th>\n",
       "      <td>325</td>\n",
       "      <td>man</td>\n",
       "      <td>0.0</td>\n",
       "      <td>4</td>\n",
       "    </tr>\n",
       "    <tr>\n",
       "      <th>344</th>\n",
       "      <td>345</td>\n",
       "      <td>man</td>\n",
       "      <td>0.0</td>\n",
       "      <td>5</td>\n",
       "    </tr>\n",
       "    <tr>\n",
       "      <th>352</th>\n",
       "      <td>353</td>\n",
       "      <td>man</td>\n",
       "      <td>0.0</td>\n",
       "      <td>6</td>\n",
       "    </tr>\n",
       "    <tr>\n",
       "      <th>556</th>\n",
       "      <td>557</td>\n",
       "      <td>man</td>\n",
       "      <td>0.0</td>\n",
       "      <td>7</td>\n",
       "    </tr>\n",
       "    <tr>\n",
       "      <th>565</th>\n",
       "      <td>566</td>\n",
       "      <td>man</td>\n",
       "      <td>0.0</td>\n",
       "      <td>8</td>\n",
       "    </tr>\n",
       "    <tr>\n",
       "      <th>603</th>\n",
       "      <td>604</td>\n",
       "      <td>man</td>\n",
       "      <td>0.0</td>\n",
       "      <td>9</td>\n",
       "    </tr>\n",
       "    <tr>\n",
       "      <th>664</th>\n",
       "      <td>665</td>\n",
       "      <td>man</td>\n",
       "      <td>0.0</td>\n",
       "      <td>10</td>\n",
       "    </tr>\n",
       "    <tr>\n",
       "      <th>692</th>\n",
       "      <td>693</td>\n",
       "      <td>man</td>\n",
       "      <td>0.0</td>\n",
       "      <td>11</td>\n",
       "    </tr>\n",
       "    <tr>\n",
       "      <th>717</th>\n",
       "      <td>718</td>\n",
       "      <td>man</td>\n",
       "      <td>0.0</td>\n",
       "      <td>12</td>\n",
       "    </tr>\n",
       "    <tr>\n",
       "      <th>718</th>\n",
       "      <td>719</td>\n",
       "      <td>man</td>\n",
       "      <td>0.0</td>\n",
       "      <td>13</td>\n",
       "    </tr>\n",
       "    <tr>\n",
       "      <th>755</th>\n",
       "      <td>756</td>\n",
       "      <td>man</td>\n",
       "      <td>0.0</td>\n",
       "      <td>14</td>\n",
       "    </tr>\n",
       "    <tr>\n",
       "      <th>896</th>\n",
       "      <td>897</td>\n",
       "      <td>man</td>\n",
       "      <td>0.0</td>\n",
       "      <td>15</td>\n",
       "    </tr>\n",
       "    <tr>\n",
       "      <th>995</th>\n",
       "      <td>996</td>\n",
       "      <td>man</td>\n",
       "      <td>0.0</td>\n",
       "      <td>16</td>\n",
       "    </tr>\n",
       "    <tr>\n",
       "      <th>1002</th>\n",
       "      <td>1003</td>\n",
       "      <td>man</td>\n",
       "      <td>0.0</td>\n",
       "      <td>17</td>\n",
       "    </tr>\n",
       "    <tr>\n",
       "      <th>1008</th>\n",
       "      <td>1009</td>\n",
       "      <td>man</td>\n",
       "      <td>0.0</td>\n",
       "      <td>18</td>\n",
       "    </tr>\n",
       "    <tr>\n",
       "      <th>1058</th>\n",
       "      <td>1059</td>\n",
       "      <td>man</td>\n",
       "      <td>0.0</td>\n",
       "      <td>19</td>\n",
       "    </tr>\n",
       "    <tr>\n",
       "      <th>1136</th>\n",
       "      <td>1137</td>\n",
       "      <td>man</td>\n",
       "      <td>0.0</td>\n",
       "      <td>20</td>\n",
       "    </tr>\n",
       "  </tbody>\n",
       "</table>\n",
       "</div>"
      ],
      "text/plain": [
       "        id  who  fare  cumcount_in_who_by_fare\n",
       "227    228  man   0.0                        1\n",
       "252    253  man   0.0                        2\n",
       "309    310  man   0.0                        3\n",
       "324    325  man   0.0                        4\n",
       "344    345  man   0.0                        5\n",
       "352    353  man   0.0                        6\n",
       "556    557  man   0.0                        7\n",
       "565    566  man   0.0                        8\n",
       "603    604  man   0.0                        9\n",
       "664    665  man   0.0                       10\n",
       "692    693  man   0.0                       11\n",
       "717    718  man   0.0                       12\n",
       "718    719  man   0.0                       13\n",
       "755    756  man   0.0                       14\n",
       "896    897  man   0.0                       15\n",
       "995    996  man   0.0                       16\n",
       "1002  1003  man   0.0                       17\n",
       "1008  1009  man   0.0                       18\n",
       "1058  1059  man   0.0                       19\n",
       "1136  1137  man   0.0                       20"
      ]
     },
     "execution_count": 41,
     "metadata": {},
     "output_type": "execute_result"
    }
   ],
   "source": [
    "df2.loc[\n",
    "    lambda x: x[\"who\"] == \"man\", [\"id\", \"who\", \"fare\", \"cumcount_in_who_by_fare\"]\n",
    "].sort_values([\"fare\", \"id\"]).head(20)"
   ]
  },
  {
   "cell_type": "code",
   "execution_count": 43,
   "id": "2cc60954",
   "metadata": {},
   "outputs": [
    {
     "data": {
      "application/vnd.microsoft.datawrangler.viewer.v0+json": {
       "columns": [
        {
         "name": "index",
         "rawType": "int64",
         "type": "integer"
        },
        {
         "name": "fare",
         "rawType": "float64",
         "type": "float"
        },
        {
         "name": "fare_bin",
         "rawType": "object",
         "type": "string"
        },
        {
         "name": "fare_adj",
         "rawType": "float64",
         "type": "float"
        },
        {
         "name": "fare_adj_bin",
         "rawType": "object",
         "type": "string"
        }
       ],
       "ref": "47b5553c-12d0-47b2-b937-7c61fbd0ee10",
       "rows": [
        [
         "2",
         "7.925",
         "[0,10)",
         "13.163442690503462",
         "[10,20)"
        ],
        [
         "6",
         "13.0",
         "[10,20)",
         "22.896064077536955",
         "[20,30)"
        ],
        [
         "7",
         "18.0",
         "[10,20)",
         "23.837173645764544",
         "[20,30)"
        ],
        [
         "9",
         "7.8958",
         "[0,10)",
         "12.608600217929823",
         "[10,20)"
        ],
        [
         "24",
         "30.0708",
         "[30,100)",
         "29.348886377374086",
         "[20,30)"
        ],
        [
         "27",
         "9.825",
         "[0,10)",
         "13.703490091728359",
         "[10,20)"
        ],
        [
         "31",
         "7.2292",
         "[0,10)",
         "18.490590922544687",
         "[10,20)"
        ],
        [
         "34",
         "27.0",
         "[20,30)",
         "33.11272456051594",
         "[30,100)"
        ],
        [
         "36",
         "7.925",
         "[0,10)",
         "10.969317975023777",
         "[10,20)"
        ],
        [
         "39",
         "7.125",
         "[0,10)",
         "10.109306179345618",
         "[10,20)"
        ],
        [
         "40",
         "7.8958",
         "[0,10)",
         "13.588132899977053",
         "[10,20)"
        ],
        [
         "50",
         "7.25",
         "[0,10)",
         "10.870419846973975",
         "[10,20)"
        ],
        [
         "53",
         "6.8583",
         "[0,10)",
         "11.91668144420434",
         "[10,20)"
        ],
        [
         "59",
         "15.5",
         "[10,20)",
         "22.377725635611796",
         "[20,30)"
        ],
        [
         "67",
         "9.4833",
         "[0,10)",
         "16.50096448946012",
         "[10,20)"
        ],
        [
         "69",
         "30.5",
         "[30,100)",
         "29.27440122697438",
         "[20,30)"
        ],
        [
         "71",
         "13.0",
         "[10,20)",
         "22.690182832329846",
         "[20,30)"
        ],
        [
         "73",
         "19.2583",
         "[10,20)",
         "29.08151827907003",
         "[20,30)"
        ],
        [
         "75",
         "26.55",
         "[20,30)",
         "32.65951252187612",
         "[30,100)"
        ],
        [
         "86",
         "7.775",
         "[0,10)",
         "14.352010588510371",
         "[10,20)"
        ]
       ],
       "shape": {
        "columns": 4,
        "rows": 20
       }
      },
      "text/html": [
       "<div>\n",
       "<style scoped>\n",
       "    .dataframe tbody tr th:only-of-type {\n",
       "        vertical-align: middle;\n",
       "    }\n",
       "\n",
       "    .dataframe tbody tr th {\n",
       "        vertical-align: top;\n",
       "    }\n",
       "\n",
       "    .dataframe thead th {\n",
       "        text-align: right;\n",
       "    }\n",
       "</style>\n",
       "<table border=\"1\" class=\"dataframe\">\n",
       "  <thead>\n",
       "    <tr style=\"text-align: right;\">\n",
       "      <th></th>\n",
       "      <th>fare</th>\n",
       "      <th>fare_bin</th>\n",
       "      <th>fare_adj</th>\n",
       "      <th>fare_adj_bin</th>\n",
       "    </tr>\n",
       "  </thead>\n",
       "  <tbody>\n",
       "    <tr>\n",
       "      <th>2</th>\n",
       "      <td>7.9250</td>\n",
       "      <td>[0,10)</td>\n",
       "      <td>13.163443</td>\n",
       "      <td>[10,20)</td>\n",
       "    </tr>\n",
       "    <tr>\n",
       "      <th>6</th>\n",
       "      <td>13.0000</td>\n",
       "      <td>[10,20)</td>\n",
       "      <td>22.896064</td>\n",
       "      <td>[20,30)</td>\n",
       "    </tr>\n",
       "    <tr>\n",
       "      <th>7</th>\n",
       "      <td>18.0000</td>\n",
       "      <td>[10,20)</td>\n",
       "      <td>23.837174</td>\n",
       "      <td>[20,30)</td>\n",
       "    </tr>\n",
       "    <tr>\n",
       "      <th>9</th>\n",
       "      <td>7.8958</td>\n",
       "      <td>[0,10)</td>\n",
       "      <td>12.608600</td>\n",
       "      <td>[10,20)</td>\n",
       "    </tr>\n",
       "    <tr>\n",
       "      <th>24</th>\n",
       "      <td>30.0708</td>\n",
       "      <td>[30,100)</td>\n",
       "      <td>29.348886</td>\n",
       "      <td>[20,30)</td>\n",
       "    </tr>\n",
       "    <tr>\n",
       "      <th>27</th>\n",
       "      <td>9.8250</td>\n",
       "      <td>[0,10)</td>\n",
       "      <td>13.703490</td>\n",
       "      <td>[10,20)</td>\n",
       "    </tr>\n",
       "    <tr>\n",
       "      <th>31</th>\n",
       "      <td>7.2292</td>\n",
       "      <td>[0,10)</td>\n",
       "      <td>18.490591</td>\n",
       "      <td>[10,20)</td>\n",
       "    </tr>\n",
       "    <tr>\n",
       "      <th>34</th>\n",
       "      <td>27.0000</td>\n",
       "      <td>[20,30)</td>\n",
       "      <td>33.112725</td>\n",
       "      <td>[30,100)</td>\n",
       "    </tr>\n",
       "    <tr>\n",
       "      <th>36</th>\n",
       "      <td>7.9250</td>\n",
       "      <td>[0,10)</td>\n",
       "      <td>10.969318</td>\n",
       "      <td>[10,20)</td>\n",
       "    </tr>\n",
       "    <tr>\n",
       "      <th>39</th>\n",
       "      <td>7.1250</td>\n",
       "      <td>[0,10)</td>\n",
       "      <td>10.109306</td>\n",
       "      <td>[10,20)</td>\n",
       "    </tr>\n",
       "    <tr>\n",
       "      <th>40</th>\n",
       "      <td>7.8958</td>\n",
       "      <td>[0,10)</td>\n",
       "      <td>13.588133</td>\n",
       "      <td>[10,20)</td>\n",
       "    </tr>\n",
       "    <tr>\n",
       "      <th>50</th>\n",
       "      <td>7.2500</td>\n",
       "      <td>[0,10)</td>\n",
       "      <td>10.870420</td>\n",
       "      <td>[10,20)</td>\n",
       "    </tr>\n",
       "    <tr>\n",
       "      <th>53</th>\n",
       "      <td>6.8583</td>\n",
       "      <td>[0,10)</td>\n",
       "      <td>11.916681</td>\n",
       "      <td>[10,20)</td>\n",
       "    </tr>\n",
       "    <tr>\n",
       "      <th>59</th>\n",
       "      <td>15.5000</td>\n",
       "      <td>[10,20)</td>\n",
       "      <td>22.377726</td>\n",
       "      <td>[20,30)</td>\n",
       "    </tr>\n",
       "    <tr>\n",
       "      <th>67</th>\n",
       "      <td>9.4833</td>\n",
       "      <td>[0,10)</td>\n",
       "      <td>16.500964</td>\n",
       "      <td>[10,20)</td>\n",
       "    </tr>\n",
       "    <tr>\n",
       "      <th>69</th>\n",
       "      <td>30.5000</td>\n",
       "      <td>[30,100)</td>\n",
       "      <td>29.274401</td>\n",
       "      <td>[20,30)</td>\n",
       "    </tr>\n",
       "    <tr>\n",
       "      <th>71</th>\n",
       "      <td>13.0000</td>\n",
       "      <td>[10,20)</td>\n",
       "      <td>22.690183</td>\n",
       "      <td>[20,30)</td>\n",
       "    </tr>\n",
       "    <tr>\n",
       "      <th>73</th>\n",
       "      <td>19.2583</td>\n",
       "      <td>[10,20)</td>\n",
       "      <td>29.081518</td>\n",
       "      <td>[20,30)</td>\n",
       "    </tr>\n",
       "    <tr>\n",
       "      <th>75</th>\n",
       "      <td>26.5500</td>\n",
       "      <td>[20,30)</td>\n",
       "      <td>32.659513</td>\n",
       "      <td>[30,100)</td>\n",
       "    </tr>\n",
       "    <tr>\n",
       "      <th>86</th>\n",
       "      <td>7.7750</td>\n",
       "      <td>[0,10)</td>\n",
       "      <td>14.352011</td>\n",
       "      <td>[10,20)</td>\n",
       "    </tr>\n",
       "  </tbody>\n",
       "</table>\n",
       "</div>"
      ],
      "text/plain": [
       "       fare  fare_bin   fare_adj fare_adj_bin\n",
       "2    7.9250    [0,10)  13.163443      [10,20)\n",
       "6   13.0000   [10,20)  22.896064      [20,30)\n",
       "7   18.0000   [10,20)  23.837174      [20,30)\n",
       "9    7.8958    [0,10)  12.608600      [10,20)\n",
       "24  30.0708  [30,100)  29.348886      [20,30)\n",
       "27   9.8250    [0,10)  13.703490      [10,20)\n",
       "31   7.2292    [0,10)  18.490591      [10,20)\n",
       "34  27.0000   [20,30)  33.112725     [30,100)\n",
       "36   7.9250    [0,10)  10.969318      [10,20)\n",
       "39   7.1250    [0,10)  10.109306      [10,20)\n",
       "40   7.8958    [0,10)  13.588133      [10,20)\n",
       "50   7.2500    [0,10)  10.870420      [10,20)\n",
       "53   6.8583    [0,10)  11.916681      [10,20)\n",
       "59  15.5000   [10,20)  22.377726      [20,30)\n",
       "67   9.4833    [0,10)  16.500964      [10,20)\n",
       "69  30.5000  [30,100)  29.274401      [20,30)\n",
       "71  13.0000   [10,20)  22.690183      [20,30)\n",
       "73  19.2583   [10,20)  29.081518      [20,30)\n",
       "75  26.5500   [20,30)  32.659513     [30,100)\n",
       "86   7.7750    [0,10)  14.352011      [10,20)"
      ]
     },
     "execution_count": 43,
     "metadata": {},
     "output_type": "execute_result"
    }
   ],
   "source": [
    "df2.loc[\n",
    "    lambda x: x[\"fare_bin\"] != x[\"fare_adj_bin\"],\n",
    "    [\"fare\", \"fare_bin\", \"fare_adj\", \"fare_adj_bin\"],\n",
    "].head(20)"
   ]
  },
  {
   "cell_type": "code",
   "execution_count": 44,
   "id": "e55a6c95",
   "metadata": {},
   "outputs": [
    {
     "name": "stdout",
     "output_type": "stream",
     "text": [
      "        id    who   fare   age  cumcount_in_who_by_fare  age_of_lowest_fare_in_who\n",
      "116    117  child  7.225  15.0                        1                       15.0\n",
      "227    228    man  0.000   NaN                        1                       36.0\n",
      "2194  2195  woman  6.750  18.0                        1                       18.0\n"
     ]
    }
   ],
   "source": [
    "_ = df2.loc[\n",
    "    lambda x: x[\"cumcount_in_who_by_fare\"] == 1,\n",
    "    [\n",
    "        \"id\",\n",
    "        \"who\",\n",
    "        \"fare\",\n",
    "        \"age\",\n",
    "        \"cumcount_in_who_by_fare\",\n",
    "        \"age_of_lowest_fare_in_who\",\n",
    "    ],\n",
    "]\n",
    "print(_.head().to_string())"
   ]
  },
  {
   "cell_type": "code",
   "execution_count": null,
   "id": "7bc70b80",
   "metadata": {},
   "outputs": [],
   "source": []
  },
  {
   "cell_type": "code",
   "execution_count": null,
   "id": "9c7d7c12",
   "metadata": {},
   "outputs": [],
   "source": []
  }
 ],
 "metadata": {
  "kernelspec": {
   "display_name": "Python 3",
   "language": "python",
   "name": "python3"
  },
  "language_info": {
   "codemirror_mode": {
    "name": "ipython",
    "version": 3
   },
   "file_extension": ".py",
   "mimetype": "text/x-python",
   "name": "python",
   "nbconvert_exporter": "python",
   "pygments_lexer": "ipython3",
   "version": "3.13.2"
  }
 },
 "nbformat": 4,
 "nbformat_minor": 5
}
