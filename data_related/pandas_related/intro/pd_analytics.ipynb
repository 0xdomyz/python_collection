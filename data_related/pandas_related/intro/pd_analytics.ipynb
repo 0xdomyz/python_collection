{
 "cells": [
  {
   "cell_type": "markdown",
   "id": "b4a2e354",
   "metadata": {},
   "source": [
    "### libs"
   ]
  },
  {
   "cell_type": "code",
   "execution_count": 1,
   "id": "3e74e0c3",
   "metadata": {},
   "outputs": [],
   "source": [
    "import numpy as np\n",
    "import pandas as pd\n",
    "import matplotlib.pyplot as plt\n",
    "import matplotlib as mpl"
   ]
  },
  {
   "cell_type": "code",
   "execution_count": 78,
   "id": "29bdcb2d",
   "metadata": {},
   "outputs": [],
   "source": [
    "def make_bins(df: pd.DataFrame, col, bins: list) -> pd.Series:\n",
    "\n",
    "    res = pd.Series(index=df.index, dtype=object)\n",
    "\n",
    "    for i, bin_edge in enumerate(bins):\n",
    "        if i == 0:\n",
    "            res.loc[df[col] < bin_edge] = f\"[-Inf, {bin_edge})\"\n",
    "        else:\n",
    "            res.loc[(df[col] >= bins[i - 1]) & (df[col] < bin_edge)] = (\n",
    "                f\"[{bins[i-1]},{bin_edge})\"\n",
    "            )\n",
    "    res.loc[df[col] >= bins[-1]] = f\"[{bins[-1]},Inf)\"\n",
    "    return res"
   ]
  },
  {
   "cell_type": "code",
   "execution_count": 94,
   "id": "6822ff17",
   "metadata": {},
   "outputs": [],
   "source": [
    "def cumcount_in_group_by_order(\n",
    "    df: pd.DataFrame, group_cols: list, order_cols: list, na_position: str = \"last\"\n",
    ") -> pd.Series:\n",
    "    srs = (\n",
    "        df.groupby(group_cols, dropna=False)\n",
    "        .apply(\n",
    "            lambda x: pd.Series(\n",
    "                range(1, len(x) + 1),\n",
    "                index=x.sort_values(order_cols, na_position=na_position).index,\n",
    "            ),\n",
    "            include_groups=False,\n",
    "        )\n",
    "        .reset_index(level=0, drop=True)\n",
    "    )\n",
    "    return srs"
   ]
  },
  {
   "cell_type": "markdown",
   "id": "016ff2ad",
   "metadata": {},
   "source": [
    "### data"
   ]
  },
  {
   "cell_type": "code",
   "execution_count": 8,
   "id": "71e4bca3",
   "metadata": {},
   "outputs": [
    {
     "name": "stdout",
     "output_type": "stream",
     "text": [
      "df.shape = (891, 4)\n",
      "   survived    who   age     fare\n",
      "0         0    man  22.0   7.2500\n",
      "1         1  woman  38.0  71.2833\n",
      "2         1  woman  26.0   7.9250\n",
      "3         1  woman  35.0  53.1000\n",
      "4         0    man  35.0   8.0500\n"
     ]
    }
   ],
   "source": [
    "import seaborn as sns\n",
    "\n",
    "df = sns.load_dataset(\"titanic\")[[\"survived\", \"who\", \"age\", \"fare\"]]\n",
    "print(f\"{df.shape = }\")\n",
    "print(df.head().to_string())"
   ]
  },
  {
   "cell_type": "markdown",
   "id": "a97a649d",
   "metadata": {},
   "source": [
    "### items"
   ]
  },
  {
   "cell_type": "code",
   "execution_count": 82,
   "id": "15bb50b8",
   "metadata": {},
   "outputs": [],
   "source": [
    "df2 = df.copy()"
   ]
  },
  {
   "cell_type": "code",
   "execution_count": 83,
   "id": "0818d638",
   "metadata": {},
   "outputs": [],
   "source": [
    "df2[\"id\"] = range(1, len(df2) + 1)"
   ]
  },
  {
   "cell_type": "code",
   "execution_count": 84,
   "id": "dfcb9c56",
   "metadata": {},
   "outputs": [],
   "source": [
    "df2[\"avg_age_in_who\"] = df2.groupby(\"who\", dropna=False)[\"age\"].transform(\"mean\")"
   ]
  },
  {
   "cell_type": "code",
   "execution_count": 85,
   "id": "2a85333a",
   "metadata": {},
   "outputs": [],
   "source": [
    "df2[\"cumcount_in_who_by_fare\"] = (\n",
    "    df2.groupby([\"who\"], dropna=False)\n",
    "    .apply(\n",
    "        lambda x: pd.Series(\n",
    "            range(1, len(x) + 1),\n",
    "            index=x.sort_values([\"fare\", \"id\"], na_position=\"last\").index,\n",
    "        ),\n",
    "        include_groups=False,\n",
    "    )\n",
    "    .reset_index(level=0, drop=True)\n",
    ")"
   ]
  },
  {
   "cell_type": "code",
   "execution_count": 86,
   "id": "64740891",
   "metadata": {},
   "outputs": [],
   "source": [
    "src_col = \"fare\"\n",
    "col = \"fare_bin\"\n",
    "\n",
    "df2.loc[lambda x: x[src_col] < 0, col] = \"[-Inf, 0)\"\n",
    "df2.loc[lambda x: (x[src_col] >= 0) & (x[src_col] < 10), col] = \"[0,10)\"\n",
    "df2.loc[lambda x: (x[src_col] >= 10) & (x[src_col] < 20), col] = \"[10,20)\"\n",
    "df2.loc[lambda x: (x[src_col] >= 20) & (x[src_col] < 30), col] = \"[20,30)\"\n",
    "df2.loc[lambda x: (x[src_col] >= 30) & (x[src_col] < 100), col] = \"[30,100)\"\n",
    "df2.loc[lambda x: x[src_col] >= 100, col] = \"[100,Inf)\""
   ]
  },
  {
   "cell_type": "code",
   "execution_count": 90,
   "id": "80affdd9",
   "metadata": {},
   "outputs": [],
   "source": [
    "import scipy.stats as stats\n",
    "\n",
    "df2[\"fare_adj\"] = np.clip(\n",
    "    df2[\"fare\"] + stats.norm.rvs(loc=0, scale=1, size=len(df2.index)),\n",
    "    a_min=0,\n",
    "    a_max=None,\n",
    ")"
   ]
  },
  {
   "cell_type": "code",
   "execution_count": 91,
   "id": "0eb1a455",
   "metadata": {},
   "outputs": [],
   "source": [
    "df2[\"fare_adj_bin\"] = make_bins(df2, \"fare_adj\", bins=[0, 10, 20, 30, 100])"
   ]
  },
  {
   "cell_type": "code",
   "execution_count": 92,
   "id": "d4f9795d",
   "metadata": {},
   "outputs": [],
   "source": [
    "df2 = df2.loc[\n",
    "    lambda x: x[\"fare\"] > 5,\n",
    "    [\n",
    "        \"id\",\n",
    "        \"who\",\n",
    "        \"age\",\n",
    "        \"fare\",\n",
    "        \"fare_adj\",\n",
    "        \"fare_bin\",\n",
    "        \"fare_adj_bin\",\n",
    "        \"avg_age_in_who\",\n",
    "        \"cumcount_in_who_by_fare\",\n",
    "    ],\n",
    "]"
   ]
  },
  {
   "cell_type": "markdown",
   "id": "1e791971",
   "metadata": {},
   "source": [
    "### in one go"
   ]
  },
  {
   "cell_type": "code",
   "execution_count": 113,
   "id": "c805bd23",
   "metadata": {},
   "outputs": [
    {
     "data": {
      "application/vnd.microsoft.datawrangler.viewer.v0+json": {
       "columns": [
        {
         "name": "index",
         "rawType": "int64",
         "type": "integer"
        },
        {
         "name": "id",
         "rawType": "int64",
         "type": "integer"
        },
        {
         "name": "who",
         "rawType": "object",
         "type": "string"
        },
        {
         "name": "age",
         "rawType": "float64",
         "type": "float"
        },
        {
         "name": "fare",
         "rawType": "float64",
         "type": "float"
        },
        {
         "name": "fare_adj",
         "rawType": "float64",
         "type": "float"
        },
        {
         "name": "fare_bin",
         "rawType": "object",
         "type": "string"
        },
        {
         "name": "fare_adj_bin",
         "rawType": "object",
         "type": "string"
        },
        {
         "name": "avg_age_in_who",
         "rawType": "float64",
         "type": "float"
        },
        {
         "name": "cumcount_in_who_by_fare",
         "rawType": "int64",
         "type": "integer"
        }
       ],
       "ref": "464c6ea9-2b50-41bd-b188-3382d7d0b1bb",
       "rows": [
        [
         "0",
         "1",
         "man",
         "22.0",
         "7.25",
         "8.094078872762717",
         "[0,10)",
         "[0,10)",
         "33.17312348668281",
         "65"
        ],
        [
         "1",
         "2",
         "woman",
         "38.0",
         "71.2833",
         "69.47820567085432",
         "[30,100)",
         "[30,100)",
         "32.0",
         "212"
        ],
        [
         "2",
         "3",
         "woman",
         "26.0",
         "7.925",
         "8.971495278374096",
         "[0,10)",
         "[0,10)",
         "32.0",
         "41"
        ],
        [
         "3",
         "4",
         "woman",
         "35.0",
         "53.1",
         "52.37610121987739",
         "[30,100)",
         "[30,100)",
         "32.0",
         "193"
        ],
        [
         "4",
         "5",
         "man",
         "35.0",
         "8.05",
         "6.062056090046081",
         "[0,10)",
         "[0,10)",
         "33.17312348668281",
         "193"
        ],
        [
         "5",
         "6",
         "man",
         null,
         "8.4583",
         "8.800960253431818",
         "[0,10)",
         "[0,10)",
         "33.17312348668281",
         "240"
        ],
        [
         "6",
         "7",
         "man",
         "54.0",
         "51.8625",
         "53.17897779173761",
         "[30,100)",
         "[30,100)",
         "33.17312348668281",
         "469"
        ],
        [
         "7",
         "8",
         "child",
         "2.0",
         "21.075",
         "20.909130725359116",
         "[20,30)",
         "[20,30)",
         "6.369518072289156",
         "33"
        ],
        [
         "8",
         "9",
         "woman",
         "27.0",
         "11.1333",
         "11.21633228107055",
         "[10,20)",
         "[10,20)",
         "32.0",
         "71"
        ],
        [
         "9",
         "10",
         "child",
         "14.0",
         "30.0708",
         "30.576316522422278",
         "[30,100)",
         "[30,100)",
         "6.369518072289156",
         "54"
        ],
        [
         "10",
         "11",
         "child",
         "4.0",
         "16.7",
         "16.711932502727375",
         "[10,20)",
         "[10,20)",
         "6.369518072289156",
         "23"
        ],
        [
         "11",
         "12",
         "woman",
         "58.0",
         "26.55",
         "27.458065618091986",
         "[20,30)",
         "[20,30)",
         "32.0",
         "162"
        ],
        [
         "12",
         "13",
         "man",
         "20.0",
         "8.05",
         "8.732988056920423",
         "[0,10)",
         "[0,10)",
         "33.17312348668281",
         "194"
        ],
        [
         "13",
         "14",
         "man",
         "39.0",
         "31.275",
         "32.737753554797784",
         "[30,100)",
         "[30,100)",
         "33.17312348668281",
         "444"
        ],
        [
         "14",
         "15",
         "child",
         "14.0",
         "7.8542",
         "7.129235954888905",
         "[0,10)",
         "[0,10)",
         "6.369518072289156",
         "4"
        ],
        [
         "15",
         "16",
         "woman",
         "55.0",
         "16.0",
         "15.798322735643069",
         "[10,20)",
         "[10,20)",
         "32.0",
         "112"
        ],
        [
         "16",
         "17",
         "child",
         "2.0",
         "29.125",
         "27.936992498835917",
         "[20,30)",
         "[20,30)",
         "6.369518072289156",
         "50"
        ],
        [
         "17",
         "18",
         "man",
         null,
         "13.0",
         "12.614007212529941",
         "[10,20)",
         "[10,20)",
         "33.17312348668281",
         "296"
        ],
        [
         "18",
         "19",
         "woman",
         "31.0",
         "18.0",
         "19.060276978308533",
         "[10,20)",
         "[10,20)",
         "32.0",
         "119"
        ],
        [
         "19",
         "20",
         "woman",
         null,
         "7.225",
         "7.223360620068639",
         "[0,10)",
         "[0,10)",
         "32.0",
         "2"
        ],
        [
         "20",
         "21",
         "man",
         "35.0",
         "26.0",
         "25.730630004250298",
         "[20,30)",
         "[20,30)",
         "33.17312348668281",
         "383"
        ],
        [
         "21",
         "22",
         "man",
         "34.0",
         "13.0",
         "11.680972413544369",
         "[10,20)",
         "[10,20)",
         "33.17312348668281",
         "297"
        ],
        [
         "22",
         "23",
         "child",
         "15.0",
         "8.0292",
         "10.464932374381437",
         "[0,10)",
         "[10,20)",
         "6.369518072289156",
         "5"
        ],
        [
         "23",
         "24",
         "man",
         "28.0",
         "35.5",
         "35.87962263590749",
         "[30,100)",
         "[30,100)",
         "33.17312348668281",
         "452"
        ],
        [
         "24",
         "25",
         "child",
         "8.0",
         "21.075",
         "21.908852014877926",
         "[20,30)",
         "[20,30)",
         "6.369518072289156",
         "34"
        ],
        [
         "25",
         "26",
         "woman",
         "38.0",
         "31.3875",
         "31.240707743459033",
         "[30,100)",
         "[30,100)",
         "32.0",
         "174"
        ],
        [
         "26",
         "27",
         "man",
         null,
         "7.225",
         "8.24766125613681",
         "[0,10)",
         "[0,10)",
         "33.17312348668281",
         "43"
        ],
        [
         "27",
         "28",
         "man",
         "19.0",
         "263.0",
         "264.10714607537847",
         "[100,Inf)",
         "[100,Inf)",
         "33.17312348668281",
         "534"
        ],
        [
         "28",
         "29",
         "woman",
         null,
         "7.8792",
         "5.560154728727589",
         "[0,10)",
         "[0,10)",
         "32.0",
         "36"
        ],
        [
         "29",
         "30",
         "man",
         null,
         "7.8958",
         "6.815600596039843",
         "[0,10)",
         "[0,10)",
         "33.17312348668281",
         "143"
        ],
        [
         "30",
         "31",
         "man",
         "40.0",
         "27.7208",
         "27.611331847652327",
         "[20,30)",
         "[20,30)",
         "33.17312348668281",
         "419"
        ],
        [
         "31",
         "32",
         "woman",
         null,
         "146.5208",
         "143.7707772921887",
         "[100,Inf)",
         "[100,Inf)",
         "32.0",
         "253"
        ],
        [
         "32",
         "33",
         "woman",
         null,
         "7.75",
         "7.901910808568109",
         "[0,10)",
         "[0,10)",
         "32.0",
         "13"
        ],
        [
         "33",
         "34",
         "man",
         "66.0",
         "10.5",
         "9.309016795004418",
         "[10,20)",
         "[0,10)",
         "33.17312348668281",
         "272"
        ],
        [
         "34",
         "35",
         "man",
         "28.0",
         "82.1708",
         "81.38411728657331",
         "[30,100)",
         "[30,100)",
         "33.17312348668281",
         "515"
        ],
        [
         "35",
         "36",
         "man",
         "42.0",
         "52.0",
         "53.23160946658596",
         "[30,100)",
         "[30,100)",
         "33.17312348668281",
         "470"
        ],
        [
         "36",
         "37",
         "man",
         null,
         "7.2292",
         "7.31314559347579",
         "[0,10)",
         "[0,10)",
         "33.17312348668281",
         "53"
        ],
        [
         "37",
         "38",
         "man",
         "21.0",
         "8.05",
         "8.308495332192768",
         "[0,10)",
         "[0,10)",
         "33.17312348668281",
         "195"
        ],
        [
         "38",
         "39",
         "woman",
         "18.0",
         "18.0",
         "19.63975910785712",
         "[10,20)",
         "[10,20)",
         "32.0",
         "120"
        ],
        [
         "39",
         "40",
         "child",
         "14.0",
         "11.2417",
         "10.09851046192466",
         "[10,20)",
         "[10,20)",
         "6.369518072289156",
         "10"
        ],
        [
         "40",
         "41",
         "woman",
         "40.0",
         "9.475",
         "9.111922680085712",
         "[0,10)",
         "[0,10)",
         "32.0",
         "54"
        ],
        [
         "41",
         "42",
         "woman",
         "27.0",
         "21.0",
         "22.387113657209447",
         "[20,30)",
         "[20,30)",
         "32.0",
         "127"
        ],
        [
         "42",
         "43",
         "man",
         null,
         "7.8958",
         "7.068435132836609",
         "[0,10)",
         "[0,10)",
         "33.17312348668281",
         "144"
        ],
        [
         "43",
         "44",
         "child",
         "3.0",
         "41.5792",
         "41.89217275856648",
         "[30,100)",
         "[30,100)",
         "6.369518072289156",
         "73"
        ],
        [
         "44",
         "45",
         "woman",
         "19.0",
         "7.8792",
         "7.5069377508003665",
         "[0,10)",
         "[0,10)",
         "32.0",
         "37"
        ],
        [
         "45",
         "46",
         "man",
         null,
         "8.05",
         "9.620398944370496",
         "[0,10)",
         "[0,10)",
         "33.17312348668281",
         "196"
        ],
        [
         "46",
         "47",
         "man",
         null,
         "15.5",
         "14.385093738512106",
         "[10,20)",
         "[10,20)",
         "33.17312348668281",
         "344"
        ],
        [
         "47",
         "48",
         "woman",
         null,
         "7.75",
         "7.976466772585813",
         "[0,10)",
         "[0,10)",
         "32.0",
         "14"
        ],
        [
         "48",
         "49",
         "man",
         null,
         "21.6792",
         "21.00031354768404",
         "[20,30)",
         "[20,30)",
         "33.17312348668281",
         "370"
        ],
        [
         "49",
         "50",
         "woman",
         "18.0",
         "17.8",
         "18.366383086190325",
         "[10,20)",
         "[10,20)",
         "32.0",
         "118"
        ]
       ],
       "shape": {
        "columns": 9,
        "rows": 874
       }
      },
      "text/html": [
       "<div>\n",
       "<style scoped>\n",
       "    .dataframe tbody tr th:only-of-type {\n",
       "        vertical-align: middle;\n",
       "    }\n",
       "\n",
       "    .dataframe tbody tr th {\n",
       "        vertical-align: top;\n",
       "    }\n",
       "\n",
       "    .dataframe thead th {\n",
       "        text-align: right;\n",
       "    }\n",
       "</style>\n",
       "<table border=\"1\" class=\"dataframe\">\n",
       "  <thead>\n",
       "    <tr style=\"text-align: right;\">\n",
       "      <th></th>\n",
       "      <th>id</th>\n",
       "      <th>who</th>\n",
       "      <th>age</th>\n",
       "      <th>fare</th>\n",
       "      <th>fare_adj</th>\n",
       "      <th>fare_bin</th>\n",
       "      <th>fare_adj_bin</th>\n",
       "      <th>avg_age_in_who</th>\n",
       "      <th>cumcount_in_who_by_fare</th>\n",
       "    </tr>\n",
       "  </thead>\n",
       "  <tbody>\n",
       "    <tr>\n",
       "      <th>0</th>\n",
       "      <td>1</td>\n",
       "      <td>man</td>\n",
       "      <td>22.0</td>\n",
       "      <td>7.2500</td>\n",
       "      <td>8.094079</td>\n",
       "      <td>[0,10)</td>\n",
       "      <td>[0,10)</td>\n",
       "      <td>33.173123</td>\n",
       "      <td>65</td>\n",
       "    </tr>\n",
       "    <tr>\n",
       "      <th>1</th>\n",
       "      <td>2</td>\n",
       "      <td>woman</td>\n",
       "      <td>38.0</td>\n",
       "      <td>71.2833</td>\n",
       "      <td>69.478206</td>\n",
       "      <td>[30,100)</td>\n",
       "      <td>[30,100)</td>\n",
       "      <td>32.000000</td>\n",
       "      <td>212</td>\n",
       "    </tr>\n",
       "    <tr>\n",
       "      <th>2</th>\n",
       "      <td>3</td>\n",
       "      <td>woman</td>\n",
       "      <td>26.0</td>\n",
       "      <td>7.9250</td>\n",
       "      <td>8.971495</td>\n",
       "      <td>[0,10)</td>\n",
       "      <td>[0,10)</td>\n",
       "      <td>32.000000</td>\n",
       "      <td>41</td>\n",
       "    </tr>\n",
       "    <tr>\n",
       "      <th>3</th>\n",
       "      <td>4</td>\n",
       "      <td>woman</td>\n",
       "      <td>35.0</td>\n",
       "      <td>53.1000</td>\n",
       "      <td>52.376101</td>\n",
       "      <td>[30,100)</td>\n",
       "      <td>[30,100)</td>\n",
       "      <td>32.000000</td>\n",
       "      <td>193</td>\n",
       "    </tr>\n",
       "    <tr>\n",
       "      <th>4</th>\n",
       "      <td>5</td>\n",
       "      <td>man</td>\n",
       "      <td>35.0</td>\n",
       "      <td>8.0500</td>\n",
       "      <td>6.062056</td>\n",
       "      <td>[0,10)</td>\n",
       "      <td>[0,10)</td>\n",
       "      <td>33.173123</td>\n",
       "      <td>193</td>\n",
       "    </tr>\n",
       "    <tr>\n",
       "      <th>...</th>\n",
       "      <td>...</td>\n",
       "      <td>...</td>\n",
       "      <td>...</td>\n",
       "      <td>...</td>\n",
       "      <td>...</td>\n",
       "      <td>...</td>\n",
       "      <td>...</td>\n",
       "      <td>...</td>\n",
       "      <td>...</td>\n",
       "    </tr>\n",
       "    <tr>\n",
       "      <th>886</th>\n",
       "      <td>887</td>\n",
       "      <td>man</td>\n",
       "      <td>27.0</td>\n",
       "      <td>13.0000</td>\n",
       "      <td>13.783107</td>\n",
       "      <td>[10,20)</td>\n",
       "      <td>[10,20)</td>\n",
       "      <td>33.173123</td>\n",
       "      <td>323</td>\n",
       "    </tr>\n",
       "    <tr>\n",
       "      <th>887</th>\n",
       "      <td>888</td>\n",
       "      <td>woman</td>\n",
       "      <td>19.0</td>\n",
       "      <td>30.0000</td>\n",
       "      <td>28.761113</td>\n",
       "      <td>[30,100)</td>\n",
       "      <td>[20,30)</td>\n",
       "      <td>32.000000</td>\n",
       "      <td>171</td>\n",
       "    </tr>\n",
       "    <tr>\n",
       "      <th>888</th>\n",
       "      <td>889</td>\n",
       "      <td>woman</td>\n",
       "      <td>NaN</td>\n",
       "      <td>23.4500</td>\n",
       "      <td>23.632788</td>\n",
       "      <td>[20,30)</td>\n",
       "      <td>[20,30)</td>\n",
       "      <td>32.000000</td>\n",
       "      <td>137</td>\n",
       "    </tr>\n",
       "    <tr>\n",
       "      <th>889</th>\n",
       "      <td>890</td>\n",
       "      <td>man</td>\n",
       "      <td>26.0</td>\n",
       "      <td>30.0000</td>\n",
       "      <td>30.864439</td>\n",
       "      <td>[30,100)</td>\n",
       "      <td>[30,100)</td>\n",
       "      <td>33.173123</td>\n",
       "      <td>433</td>\n",
       "    </tr>\n",
       "    <tr>\n",
       "      <th>890</th>\n",
       "      <td>891</td>\n",
       "      <td>man</td>\n",
       "      <td>32.0</td>\n",
       "      <td>7.7500</td>\n",
       "      <td>6.391984</td>\n",
       "      <td>[0,10)</td>\n",
       "      <td>[0,10)</td>\n",
       "      <td>33.173123</td>\n",
       "      <td>110</td>\n",
       "    </tr>\n",
       "  </tbody>\n",
       "</table>\n",
       "<p>874 rows × 9 columns</p>\n",
       "</div>"
      ],
      "text/plain": [
       "      id    who   age     fare   fare_adj  fare_bin fare_adj_bin  \\\n",
       "0      1    man  22.0   7.2500   8.094079    [0,10)       [0,10)   \n",
       "1      2  woman  38.0  71.2833  69.478206  [30,100)     [30,100)   \n",
       "2      3  woman  26.0   7.9250   8.971495    [0,10)       [0,10)   \n",
       "3      4  woman  35.0  53.1000  52.376101  [30,100)     [30,100)   \n",
       "4      5    man  35.0   8.0500   6.062056    [0,10)       [0,10)   \n",
       "..   ...    ...   ...      ...        ...       ...          ...   \n",
       "886  887    man  27.0  13.0000  13.783107   [10,20)      [10,20)   \n",
       "887  888  woman  19.0  30.0000  28.761113  [30,100)      [20,30)   \n",
       "888  889  woman   NaN  23.4500  23.632788   [20,30)      [20,30)   \n",
       "889  890    man  26.0  30.0000  30.864439  [30,100)     [30,100)   \n",
       "890  891    man  32.0   7.7500   6.391984    [0,10)       [0,10)   \n",
       "\n",
       "     avg_age_in_who  cumcount_in_who_by_fare  \n",
       "0         33.173123                       65  \n",
       "1         32.000000                      212  \n",
       "2         32.000000                       41  \n",
       "3         32.000000                      193  \n",
       "4         33.173123                      193  \n",
       "..              ...                      ...  \n",
       "886       33.173123                      323  \n",
       "887       32.000000                      171  \n",
       "888       32.000000                      137  \n",
       "889       33.173123                      433  \n",
       "890       33.173123                      110  \n",
       "\n",
       "[874 rows x 9 columns]"
      ]
     },
     "execution_count": 113,
     "metadata": {},
     "output_type": "execute_result"
    }
   ],
   "source": [
    "bins = [0, 10, 20, 30, 100]\n",
    "\n",
    "df2_2 = df.assign(\n",
    "    id=lambda x: range(1, len(x) + 1),\n",
    "    avg_age_in_who=lambda x: x.groupby(\"who\", dropna=False)[\"age\"].transform(\"mean\"),\n",
    "    cumcount_in_who_by_fare=lambda x: cumcount_in_group_by_order(\n",
    "        x, group_cols=[\"who\"], order_cols=[\"fare\", \"id\"], na_position=\"last\"\n",
    "    ),\n",
    "    fare_bin=lambda x: make_bins(x, \"fare\", bins=bins),\n",
    "    fare_adj=lambda x: np.clip(\n",
    "        x[\"fare\"] + stats.norm.rvs(loc=0, scale=1, size=len(x.index)),\n",
    "        a_min=0,\n",
    "        a_max=None,\n",
    "    ),\n",
    "    fare_adj_bin=lambda x: make_bins(x, \"fare_adj\", bins=bins),\n",
    ").loc[\n",
    "    lambda x: x[\"fare\"] > 5,\n",
    "    [\n",
    "        \"id\",\n",
    "        \"who\",\n",
    "        \"age\",\n",
    "        \"fare\",\n",
    "        \"fare_adj\",\n",
    "        \"fare_bin\",\n",
    "        \"fare_adj_bin\",\n",
    "        \"avg_age_in_who\",\n",
    "        \"cumcount_in_who_by_fare\",\n",
    "    ],\n",
    "]\n",
    "df2_2"
   ]
  },
  {
   "cell_type": "code",
   "execution_count": 93,
   "id": "97c2095c",
   "metadata": {},
   "outputs": [
    {
     "name": "stdout",
     "output_type": "stream",
     "text": [
      "   id    who   age     fare   fare_adj  fare_bin fare_adj_bin  avg_age_in_who  cumcount_in_who_by_fare\n",
      "0   1    man  22.0   7.2500   7.653517    [0,10)       [0,10)       33.173123                       65\n",
      "1   2  woman  38.0  71.2833  70.589449  [30,100)     [30,100)       32.000000                      212\n",
      "2   3  woman  26.0   7.9250   7.351425    [0,10)       [0,10)       32.000000                       41\n",
      "3   4  woman  35.0  53.1000  53.861728  [30,100)     [30,100)       32.000000                      193\n",
      "4   5    man  35.0   8.0500   9.050229    [0,10)       [0,10)       33.173123                      193\n"
     ]
    }
   ],
   "source": [
    "print(df2.head().to_string())"
   ]
  },
  {
   "cell_type": "markdown",
   "id": "9bc9a057",
   "metadata": {},
   "source": [
    "### results"
   ]
  },
  {
   "cell_type": "code",
   "execution_count": 117,
   "id": "4ebdbea9",
   "metadata": {},
   "outputs": [
    {
     "data": {
      "application/vnd.microsoft.datawrangler.viewer.v0+json": {
       "columns": [
        {
         "name": "who",
         "rawType": "object",
         "type": "string"
        },
        {
         "name": "n",
         "rawType": "int64",
         "type": "integer"
        },
        {
         "name": "avg_age",
         "rawType": "float64",
         "type": "float"
        },
        {
         "name": "max_avg_age_in_who",
         "rawType": "float64",
         "type": "float"
        },
        {
         "name": "equal",
         "rawType": "bool",
         "type": "boolean"
        }
       ],
       "ref": "5031d180-05ef-4cba-9867-dd79730693f1",
       "rows": [
        [
         "child",
         "83",
         "6.369518072289156",
         "6.369518072289156",
         "True"
        ],
        [
         "man",
         "520",
         "33.1720297029703",
         "33.17312348668281",
         "True"
        ],
        [
         "woman",
         "271",
         "32.0",
         "32.0",
         "True"
        ]
       ],
       "shape": {
        "columns": 4,
        "rows": 3
       }
      },
      "text/html": [
       "<div>\n",
       "<style scoped>\n",
       "    .dataframe tbody tr th:only-of-type {\n",
       "        vertical-align: middle;\n",
       "    }\n",
       "\n",
       "    .dataframe tbody tr th {\n",
       "        vertical-align: top;\n",
       "    }\n",
       "\n",
       "    .dataframe thead th {\n",
       "        text-align: right;\n",
       "    }\n",
       "</style>\n",
       "<table border=\"1\" class=\"dataframe\">\n",
       "  <thead>\n",
       "    <tr style=\"text-align: right;\">\n",
       "      <th></th>\n",
       "      <th>n</th>\n",
       "      <th>avg_age</th>\n",
       "      <th>max_avg_age_in_who</th>\n",
       "      <th>equal</th>\n",
       "    </tr>\n",
       "    <tr>\n",
       "      <th>who</th>\n",
       "      <th></th>\n",
       "      <th></th>\n",
       "      <th></th>\n",
       "      <th></th>\n",
       "    </tr>\n",
       "  </thead>\n",
       "  <tbody>\n",
       "    <tr>\n",
       "      <th>child</th>\n",
       "      <td>83</td>\n",
       "      <td>6.369518</td>\n",
       "      <td>6.369518</td>\n",
       "      <td>True</td>\n",
       "    </tr>\n",
       "    <tr>\n",
       "      <th>man</th>\n",
       "      <td>520</td>\n",
       "      <td>33.172030</td>\n",
       "      <td>33.173123</td>\n",
       "      <td>True</td>\n",
       "    </tr>\n",
       "    <tr>\n",
       "      <th>woman</th>\n",
       "      <td>271</td>\n",
       "      <td>32.000000</td>\n",
       "      <td>32.000000</td>\n",
       "      <td>True</td>\n",
       "    </tr>\n",
       "  </tbody>\n",
       "</table>\n",
       "</div>"
      ],
      "text/plain": [
       "         n    avg_age  max_avg_age_in_who  equal\n",
       "who                                             \n",
       "child   83   6.369518            6.369518   True\n",
       "man    520  33.172030           33.173123   True\n",
       "woman  271  32.000000           32.000000   True"
      ]
     },
     "execution_count": 117,
     "metadata": {},
     "output_type": "execute_result"
    }
   ],
   "source": [
    "df2.groupby([\"who\"], dropna=False).agg(\n",
    "    **{\n",
    "        \"n\": (\"who\", \"size\"),\n",
    "        \"avg_age\": (\"age\", \"mean\"),\n",
    "        \"max_avg_age_in_who\": (\"avg_age_in_who\", \"max\"),\n",
    "    }\n",
    ").assign(\n",
    "    equal = lambda x: np.where(np.abs(x[\"avg_age\"] - x[\"max_avg_age_in_who\"]) < 0.01, True, False)\n",
    ")"
   ]
  },
  {
   "cell_type": "code",
   "execution_count": 118,
   "id": "0bb6d639",
   "metadata": {},
   "outputs": [
    {
     "data": {
      "application/vnd.microsoft.datawrangler.viewer.v0+json": {
       "columns": [
        {
         "name": "index",
         "rawType": "int64",
         "type": "integer"
        },
        {
         "name": "id",
         "rawType": "int64",
         "type": "integer"
        },
        {
         "name": "who",
         "rawType": "object",
         "type": "string"
        },
        {
         "name": "fare",
         "rawType": "float64",
         "type": "float"
        },
        {
         "name": "cumcount_in_who_by_fare",
         "rawType": "int64",
         "type": "integer"
        }
       ],
       "ref": "df7e36de-cb61-45fe-a158-9dc2e096c887",
       "rows": [
        [
         "875",
         "876",
         "child",
         "7.225",
         "1"
        ],
        [
         "352",
         "353",
         "child",
         "7.2292",
         "2"
        ],
        [
         "780",
         "781",
         "child",
         "7.2292",
         "3"
        ],
        [
         "14",
         "15",
         "child",
         "7.8542",
         "4"
        ],
        [
         "22",
         "23",
         "child",
         "8.0292",
         "5"
        ],
        [
         "803",
         "804",
         "child",
         "8.5167",
         "6"
        ],
        [
         "205",
         "206",
         "child",
         "10.4625",
         "7"
        ],
        [
         "172",
         "173",
         "child",
         "11.1333",
         "8"
        ],
        [
         "869",
         "870",
         "child",
         "11.1333",
         "9"
        ],
        [
         "39",
         "40",
         "child",
         "11.2417",
         "10"
        ],
        [
         "125",
         "126",
         "child",
         "11.2417",
         "11"
        ],
        [
         "479",
         "480",
         "child",
         "12.2875",
         "12"
        ],
        [
         "751",
         "752",
         "child",
         "12.475",
         "13"
        ],
        [
         "777",
         "778",
         "child",
         "12.475",
         "14"
        ],
        [
         "691",
         "692",
         "child",
         "13.4167",
         "15"
        ],
        [
         "111",
         "112",
         "child",
         "14.4542",
         "16"
        ],
        [
         "830",
         "831",
         "child",
         "14.4542",
         "17"
        ],
        [
         "755",
         "756",
         "child",
         "14.5",
         "18"
        ],
        [
         "852",
         "853",
         "child",
         "15.2458",
         "19"
        ],
        [
         "381",
         "382",
         "child",
         "15.7417",
         "20"
        ],
        [
         "348",
         "349",
         "child",
         "15.9",
         "21"
        ],
        [
         "489",
         "490",
         "child",
         "15.9",
         "22"
        ],
        [
         "10",
         "11",
         "child",
         "16.7",
         "23"
        ],
        [
         "407",
         "408",
         "child",
         "18.75",
         "24"
        ],
        [
         "831",
         "832",
         "child",
         "18.75",
         "25"
        ],
        [
         "731",
         "732",
         "child",
         "18.7875",
         "26"
        ],
        [
         "448",
         "449",
         "child",
         "19.2583",
         "27"
        ],
        [
         "469",
         "470",
         "child",
         "19.2583",
         "28"
        ],
        [
         "644",
         "645",
         "child",
         "19.2583",
         "29"
        ],
        [
         "446",
         "447",
         "child",
         "19.5",
         "30"
        ],
        [
         "165",
         "166",
         "child",
         "20.525",
         "31"
        ],
        [
         "788",
         "789",
         "child",
         "20.575",
         "32"
        ],
        [
         "7",
         "8",
         "child",
         "21.075",
         "33"
        ],
        [
         "24",
         "25",
         "child",
         "21.075",
         "34"
        ],
        [
         "374",
         "375",
         "child",
         "21.075",
         "35"
        ],
        [
         "184",
         "185",
         "child",
         "22.025",
         "36"
        ],
        [
         "750",
         "751",
         "child",
         "23.0",
         "37"
        ],
        [
         "419",
         "420",
         "child",
         "24.15",
         "38"
        ],
        [
         "193",
         "194",
         "child",
         "26.0",
         "39"
        ],
        [
         "340",
         "341",
         "child",
         "26.0",
         "40"
        ],
        [
         "530",
         "531",
         "child",
         "26.0",
         "41"
        ],
        [
         "237",
         "238",
         "child",
         "26.25",
         "42"
        ],
        [
         "535",
         "536",
         "child",
         "26.25",
         "43"
        ],
        [
         "58",
         "59",
         "child",
         "27.75",
         "44"
        ],
        [
         "63",
         "64",
         "child",
         "27.9",
         "45"
        ],
        [
         "634",
         "635",
         "child",
         "27.9",
         "46"
        ],
        [
         "642",
         "643",
         "child",
         "27.9",
         "47"
        ],
        [
         "819",
         "820",
         "child",
         "27.9",
         "48"
        ],
        [
         "78",
         "79",
         "child",
         "29.0",
         "49"
        ],
        [
         "16",
         "17",
         "child",
         "29.125",
         "50"
        ]
       ],
       "shape": {
        "columns": 4,
        "rows": 83
       }
      },
      "text/html": [
       "<div>\n",
       "<style scoped>\n",
       "    .dataframe tbody tr th:only-of-type {\n",
       "        vertical-align: middle;\n",
       "    }\n",
       "\n",
       "    .dataframe tbody tr th {\n",
       "        vertical-align: top;\n",
       "    }\n",
       "\n",
       "    .dataframe thead th {\n",
       "        text-align: right;\n",
       "    }\n",
       "</style>\n",
       "<table border=\"1\" class=\"dataframe\">\n",
       "  <thead>\n",
       "    <tr style=\"text-align: right;\">\n",
       "      <th></th>\n",
       "      <th>id</th>\n",
       "      <th>who</th>\n",
       "      <th>fare</th>\n",
       "      <th>cumcount_in_who_by_fare</th>\n",
       "    </tr>\n",
       "  </thead>\n",
       "  <tbody>\n",
       "    <tr>\n",
       "      <th>875</th>\n",
       "      <td>876</td>\n",
       "      <td>child</td>\n",
       "      <td>7.2250</td>\n",
       "      <td>1</td>\n",
       "    </tr>\n",
       "    <tr>\n",
       "      <th>352</th>\n",
       "      <td>353</td>\n",
       "      <td>child</td>\n",
       "      <td>7.2292</td>\n",
       "      <td>2</td>\n",
       "    </tr>\n",
       "    <tr>\n",
       "      <th>780</th>\n",
       "      <td>781</td>\n",
       "      <td>child</td>\n",
       "      <td>7.2292</td>\n",
       "      <td>3</td>\n",
       "    </tr>\n",
       "    <tr>\n",
       "      <th>14</th>\n",
       "      <td>15</td>\n",
       "      <td>child</td>\n",
       "      <td>7.8542</td>\n",
       "      <td>4</td>\n",
       "    </tr>\n",
       "    <tr>\n",
       "      <th>22</th>\n",
       "      <td>23</td>\n",
       "      <td>child</td>\n",
       "      <td>8.0292</td>\n",
       "      <td>5</td>\n",
       "    </tr>\n",
       "    <tr>\n",
       "      <th>...</th>\n",
       "      <td>...</td>\n",
       "      <td>...</td>\n",
       "      <td>...</td>\n",
       "      <td>...</td>\n",
       "    </tr>\n",
       "    <tr>\n",
       "      <th>435</th>\n",
       "      <td>436</td>\n",
       "      <td>child</td>\n",
       "      <td>120.0000</td>\n",
       "      <td>79</td>\n",
       "    </tr>\n",
       "    <tr>\n",
       "      <th>802</th>\n",
       "      <td>803</td>\n",
       "      <td>child</td>\n",
       "      <td>120.0000</td>\n",
       "      <td>80</td>\n",
       "    </tr>\n",
       "    <tr>\n",
       "      <th>297</th>\n",
       "      <td>298</td>\n",
       "      <td>child</td>\n",
       "      <td>151.5500</td>\n",
       "      <td>81</td>\n",
       "    </tr>\n",
       "    <tr>\n",
       "      <th>305</th>\n",
       "      <td>306</td>\n",
       "      <td>child</td>\n",
       "      <td>151.5500</td>\n",
       "      <td>82</td>\n",
       "    </tr>\n",
       "    <tr>\n",
       "      <th>689</th>\n",
       "      <td>690</td>\n",
       "      <td>child</td>\n",
       "      <td>211.3375</td>\n",
       "      <td>83</td>\n",
       "    </tr>\n",
       "  </tbody>\n",
       "</table>\n",
       "<p>83 rows × 4 columns</p>\n",
       "</div>"
      ],
      "text/plain": [
       "      id    who      fare  cumcount_in_who_by_fare\n",
       "875  876  child    7.2250                        1\n",
       "352  353  child    7.2292                        2\n",
       "780  781  child    7.2292                        3\n",
       "14    15  child    7.8542                        4\n",
       "22    23  child    8.0292                        5\n",
       "..   ...    ...       ...                      ...\n",
       "435  436  child  120.0000                       79\n",
       "802  803  child  120.0000                       80\n",
       "297  298  child  151.5500                       81\n",
       "305  306  child  151.5500                       82\n",
       "689  690  child  211.3375                       83\n",
       "\n",
       "[83 rows x 4 columns]"
      ]
     },
     "execution_count": 118,
     "metadata": {},
     "output_type": "execute_result"
    }
   ],
   "source": [
    "df2.loc[lambda x:x['who'] == 'child', ['id','who','fare','cumcount_in_who_by_fare']].sort_values(['fare','id'])"
   ]
  },
  {
   "cell_type": "code",
   "execution_count": 119,
   "id": "2cc60954",
   "metadata": {},
   "outputs": [
    {
     "data": {
      "application/vnd.microsoft.datawrangler.viewer.v0+json": {
       "columns": [
        {
         "name": "index",
         "rawType": "int64",
         "type": "integer"
        },
        {
         "name": "fare",
         "rawType": "float64",
         "type": "float"
        },
        {
         "name": "fare_bin",
         "rawType": "object",
         "type": "string"
        },
        {
         "name": "fare_adj",
         "rawType": "float64",
         "type": "float"
        },
        {
         "name": "fare_adj_bin",
         "rawType": "object",
         "type": "string"
        }
       ],
       "ref": "9be8ecdc-54a3-451e-9d9d-c8c485bac16c",
       "rows": [
        [
         "7",
         "21.075",
         "[20,30)",
         "19.075083319242303",
         "[10,20)"
        ],
        [
         "9",
         "30.0708",
         "[30,100)",
         "29.246011628959952",
         "[20,30)"
        ],
        [
         "33",
         "10.5",
         "[10,20)",
         "9.228760855922063",
         "[0,10)"
        ],
        [
         "78",
         "29.0",
         "[20,30)",
         "31.60557040459646",
         "[30,100)"
        ],
        [
         "101",
         "7.8958",
         "[0,10)",
         "10.010542777219467",
         "[10,20)"
        ],
        [
         "113",
         "9.825",
         "[0,10)",
         "10.955410392855935",
         "[10,20)"
        ],
        [
         "122",
         "30.0708",
         "[30,100)",
         "28.39948560483613",
         "[20,30)"
        ],
        [
         "172",
         "11.1333",
         "[10,20)",
         "9.999703134571092",
         "[0,10)"
        ],
        [
         "207",
         "18.7875",
         "[10,20)",
         "20.242437127823788",
         "[20,30)"
        ],
        [
         "209",
         "31.0",
         "[30,100)",
         "29.613598678741972",
         "[20,30)"
        ],
        [
         "279",
         "20.25",
         "[20,30)",
         "19.287606353835116",
         "[10,20)"
        ],
        [
         "286",
         "9.5",
         "[0,10)",
         "10.111815363077906",
         "[10,20)"
        ],
        [
         "389",
         "12.0",
         "[10,20)",
         "9.95121623714865",
         "[0,10)"
        ],
        [
         "398",
         "10.5",
         "[10,20)",
         "9.6558626585117",
         "[0,10)"
        ],
        [
         "400",
         "7.925",
         "[0,10)",
         "10.29629361028273",
         "[10,20)"
        ],
        [
         "405",
         "21.0",
         "[20,30)",
         "19.726074524484094",
         "[10,20)"
        ],
        [
         "407",
         "18.75",
         "[10,20)",
         "20.11918132303637",
         "[20,30)"
        ],
        [
         "441",
         "9.5",
         "[0,10)",
         "11.609681721791064",
         "[10,20)"
        ],
        [
         "448",
         "19.2583",
         "[10,20)",
         "20.37983627042113",
         "[20,30)"
        ],
        [
         "451",
         "19.9667",
         "[10,20)",
         "20.778505173006874",
         "[20,30)"
        ],
        [
         "483",
         "9.5875",
         "[0,10)",
         "11.188485803112242",
         "[10,20)"
        ],
        [
         "490",
         "19.9667",
         "[10,20)",
         "21.200750810862232",
         "[20,30)"
        ],
        [
         "516",
         "10.5",
         "[10,20)",
         "9.815731944465421",
         "[0,10)"
        ],
        [
         "526",
         "10.5",
         "[10,20)",
         "9.681033145916048",
         "[0,10)"
        ],
        [
         "570",
         "10.5",
         "[10,20)",
         "8.219587422965137",
         "[0,10)"
        ],
        [
         "589",
         "8.05",
         "[0,10)",
         "10.29865929130367",
         "[10,20)"
        ],
        [
         "630",
         "30.0",
         "[30,100)",
         "29.402643077814506",
         "[20,30)"
        ],
        [
         "677",
         "9.8417",
         "[0,10)",
         "10.026717890392085",
         "[10,20)"
        ],
        [
         "687",
         "10.1708",
         "[10,20)",
         "9.871647306002458",
         "[0,10)"
        ],
        [
         "740",
         "30.0",
         "[30,100)",
         "29.46706015481745",
         "[20,30)"
        ],
        [
         "787",
         "29.125",
         "[20,30)",
         "31.374345382749148",
         "[30,100)"
        ],
        [
         "883",
         "10.5",
         "[10,20)",
         "9.2576612518052",
         "[0,10)"
        ],
        [
         "889",
         "30.0",
         "[30,100)",
         "29.56197150242927",
         "[20,30)"
        ]
       ],
       "shape": {
        "columns": 4,
        "rows": 33
       }
      },
      "text/html": [
       "<div>\n",
       "<style scoped>\n",
       "    .dataframe tbody tr th:only-of-type {\n",
       "        vertical-align: middle;\n",
       "    }\n",
       "\n",
       "    .dataframe tbody tr th {\n",
       "        vertical-align: top;\n",
       "    }\n",
       "\n",
       "    .dataframe thead th {\n",
       "        text-align: right;\n",
       "    }\n",
       "</style>\n",
       "<table border=\"1\" class=\"dataframe\">\n",
       "  <thead>\n",
       "    <tr style=\"text-align: right;\">\n",
       "      <th></th>\n",
       "      <th>fare</th>\n",
       "      <th>fare_bin</th>\n",
       "      <th>fare_adj</th>\n",
       "      <th>fare_adj_bin</th>\n",
       "    </tr>\n",
       "  </thead>\n",
       "  <tbody>\n",
       "    <tr>\n",
       "      <th>7</th>\n",
       "      <td>21.0750</td>\n",
       "      <td>[20,30)</td>\n",
       "      <td>19.075083</td>\n",
       "      <td>[10,20)</td>\n",
       "    </tr>\n",
       "    <tr>\n",
       "      <th>9</th>\n",
       "      <td>30.0708</td>\n",
       "      <td>[30,100)</td>\n",
       "      <td>29.246012</td>\n",
       "      <td>[20,30)</td>\n",
       "    </tr>\n",
       "    <tr>\n",
       "      <th>33</th>\n",
       "      <td>10.5000</td>\n",
       "      <td>[10,20)</td>\n",
       "      <td>9.228761</td>\n",
       "      <td>[0,10)</td>\n",
       "    </tr>\n",
       "    <tr>\n",
       "      <th>78</th>\n",
       "      <td>29.0000</td>\n",
       "      <td>[20,30)</td>\n",
       "      <td>31.605570</td>\n",
       "      <td>[30,100)</td>\n",
       "    </tr>\n",
       "    <tr>\n",
       "      <th>101</th>\n",
       "      <td>7.8958</td>\n",
       "      <td>[0,10)</td>\n",
       "      <td>10.010543</td>\n",
       "      <td>[10,20)</td>\n",
       "    </tr>\n",
       "    <tr>\n",
       "      <th>113</th>\n",
       "      <td>9.8250</td>\n",
       "      <td>[0,10)</td>\n",
       "      <td>10.955410</td>\n",
       "      <td>[10,20)</td>\n",
       "    </tr>\n",
       "    <tr>\n",
       "      <th>122</th>\n",
       "      <td>30.0708</td>\n",
       "      <td>[30,100)</td>\n",
       "      <td>28.399486</td>\n",
       "      <td>[20,30)</td>\n",
       "    </tr>\n",
       "    <tr>\n",
       "      <th>172</th>\n",
       "      <td>11.1333</td>\n",
       "      <td>[10,20)</td>\n",
       "      <td>9.999703</td>\n",
       "      <td>[0,10)</td>\n",
       "    </tr>\n",
       "    <tr>\n",
       "      <th>207</th>\n",
       "      <td>18.7875</td>\n",
       "      <td>[10,20)</td>\n",
       "      <td>20.242437</td>\n",
       "      <td>[20,30)</td>\n",
       "    </tr>\n",
       "    <tr>\n",
       "      <th>209</th>\n",
       "      <td>31.0000</td>\n",
       "      <td>[30,100)</td>\n",
       "      <td>29.613599</td>\n",
       "      <td>[20,30)</td>\n",
       "    </tr>\n",
       "    <tr>\n",
       "      <th>279</th>\n",
       "      <td>20.2500</td>\n",
       "      <td>[20,30)</td>\n",
       "      <td>19.287606</td>\n",
       "      <td>[10,20)</td>\n",
       "    </tr>\n",
       "    <tr>\n",
       "      <th>286</th>\n",
       "      <td>9.5000</td>\n",
       "      <td>[0,10)</td>\n",
       "      <td>10.111815</td>\n",
       "      <td>[10,20)</td>\n",
       "    </tr>\n",
       "    <tr>\n",
       "      <th>389</th>\n",
       "      <td>12.0000</td>\n",
       "      <td>[10,20)</td>\n",
       "      <td>9.951216</td>\n",
       "      <td>[0,10)</td>\n",
       "    </tr>\n",
       "    <tr>\n",
       "      <th>398</th>\n",
       "      <td>10.5000</td>\n",
       "      <td>[10,20)</td>\n",
       "      <td>9.655863</td>\n",
       "      <td>[0,10)</td>\n",
       "    </tr>\n",
       "    <tr>\n",
       "      <th>400</th>\n",
       "      <td>7.9250</td>\n",
       "      <td>[0,10)</td>\n",
       "      <td>10.296294</td>\n",
       "      <td>[10,20)</td>\n",
       "    </tr>\n",
       "    <tr>\n",
       "      <th>405</th>\n",
       "      <td>21.0000</td>\n",
       "      <td>[20,30)</td>\n",
       "      <td>19.726075</td>\n",
       "      <td>[10,20)</td>\n",
       "    </tr>\n",
       "    <tr>\n",
       "      <th>407</th>\n",
       "      <td>18.7500</td>\n",
       "      <td>[10,20)</td>\n",
       "      <td>20.119181</td>\n",
       "      <td>[20,30)</td>\n",
       "    </tr>\n",
       "    <tr>\n",
       "      <th>441</th>\n",
       "      <td>9.5000</td>\n",
       "      <td>[0,10)</td>\n",
       "      <td>11.609682</td>\n",
       "      <td>[10,20)</td>\n",
       "    </tr>\n",
       "    <tr>\n",
       "      <th>448</th>\n",
       "      <td>19.2583</td>\n",
       "      <td>[10,20)</td>\n",
       "      <td>20.379836</td>\n",
       "      <td>[20,30)</td>\n",
       "    </tr>\n",
       "    <tr>\n",
       "      <th>451</th>\n",
       "      <td>19.9667</td>\n",
       "      <td>[10,20)</td>\n",
       "      <td>20.778505</td>\n",
       "      <td>[20,30)</td>\n",
       "    </tr>\n",
       "    <tr>\n",
       "      <th>483</th>\n",
       "      <td>9.5875</td>\n",
       "      <td>[0,10)</td>\n",
       "      <td>11.188486</td>\n",
       "      <td>[10,20)</td>\n",
       "    </tr>\n",
       "    <tr>\n",
       "      <th>490</th>\n",
       "      <td>19.9667</td>\n",
       "      <td>[10,20)</td>\n",
       "      <td>21.200751</td>\n",
       "      <td>[20,30)</td>\n",
       "    </tr>\n",
       "    <tr>\n",
       "      <th>516</th>\n",
       "      <td>10.5000</td>\n",
       "      <td>[10,20)</td>\n",
       "      <td>9.815732</td>\n",
       "      <td>[0,10)</td>\n",
       "    </tr>\n",
       "    <tr>\n",
       "      <th>526</th>\n",
       "      <td>10.5000</td>\n",
       "      <td>[10,20)</td>\n",
       "      <td>9.681033</td>\n",
       "      <td>[0,10)</td>\n",
       "    </tr>\n",
       "    <tr>\n",
       "      <th>570</th>\n",
       "      <td>10.5000</td>\n",
       "      <td>[10,20)</td>\n",
       "      <td>8.219587</td>\n",
       "      <td>[0,10)</td>\n",
       "    </tr>\n",
       "    <tr>\n",
       "      <th>589</th>\n",
       "      <td>8.0500</td>\n",
       "      <td>[0,10)</td>\n",
       "      <td>10.298659</td>\n",
       "      <td>[10,20)</td>\n",
       "    </tr>\n",
       "    <tr>\n",
       "      <th>630</th>\n",
       "      <td>30.0000</td>\n",
       "      <td>[30,100)</td>\n",
       "      <td>29.402643</td>\n",
       "      <td>[20,30)</td>\n",
       "    </tr>\n",
       "    <tr>\n",
       "      <th>677</th>\n",
       "      <td>9.8417</td>\n",
       "      <td>[0,10)</td>\n",
       "      <td>10.026718</td>\n",
       "      <td>[10,20)</td>\n",
       "    </tr>\n",
       "    <tr>\n",
       "      <th>687</th>\n",
       "      <td>10.1708</td>\n",
       "      <td>[10,20)</td>\n",
       "      <td>9.871647</td>\n",
       "      <td>[0,10)</td>\n",
       "    </tr>\n",
       "    <tr>\n",
       "      <th>740</th>\n",
       "      <td>30.0000</td>\n",
       "      <td>[30,100)</td>\n",
       "      <td>29.467060</td>\n",
       "      <td>[20,30)</td>\n",
       "    </tr>\n",
       "    <tr>\n",
       "      <th>787</th>\n",
       "      <td>29.1250</td>\n",
       "      <td>[20,30)</td>\n",
       "      <td>31.374345</td>\n",
       "      <td>[30,100)</td>\n",
       "    </tr>\n",
       "    <tr>\n",
       "      <th>883</th>\n",
       "      <td>10.5000</td>\n",
       "      <td>[10,20)</td>\n",
       "      <td>9.257661</td>\n",
       "      <td>[0,10)</td>\n",
       "    </tr>\n",
       "    <tr>\n",
       "      <th>889</th>\n",
       "      <td>30.0000</td>\n",
       "      <td>[30,100)</td>\n",
       "      <td>29.561972</td>\n",
       "      <td>[20,30)</td>\n",
       "    </tr>\n",
       "  </tbody>\n",
       "</table>\n",
       "</div>"
      ],
      "text/plain": [
       "        fare  fare_bin   fare_adj fare_adj_bin\n",
       "7    21.0750   [20,30)  19.075083      [10,20)\n",
       "9    30.0708  [30,100)  29.246012      [20,30)\n",
       "33   10.5000   [10,20)   9.228761       [0,10)\n",
       "78   29.0000   [20,30)  31.605570     [30,100)\n",
       "101   7.8958    [0,10)  10.010543      [10,20)\n",
       "113   9.8250    [0,10)  10.955410      [10,20)\n",
       "122  30.0708  [30,100)  28.399486      [20,30)\n",
       "172  11.1333   [10,20)   9.999703       [0,10)\n",
       "207  18.7875   [10,20)  20.242437      [20,30)\n",
       "209  31.0000  [30,100)  29.613599      [20,30)\n",
       "279  20.2500   [20,30)  19.287606      [10,20)\n",
       "286   9.5000    [0,10)  10.111815      [10,20)\n",
       "389  12.0000   [10,20)   9.951216       [0,10)\n",
       "398  10.5000   [10,20)   9.655863       [0,10)\n",
       "400   7.9250    [0,10)  10.296294      [10,20)\n",
       "405  21.0000   [20,30)  19.726075      [10,20)\n",
       "407  18.7500   [10,20)  20.119181      [20,30)\n",
       "441   9.5000    [0,10)  11.609682      [10,20)\n",
       "448  19.2583   [10,20)  20.379836      [20,30)\n",
       "451  19.9667   [10,20)  20.778505      [20,30)\n",
       "483   9.5875    [0,10)  11.188486      [10,20)\n",
       "490  19.9667   [10,20)  21.200751      [20,30)\n",
       "516  10.5000   [10,20)   9.815732       [0,10)\n",
       "526  10.5000   [10,20)   9.681033       [0,10)\n",
       "570  10.5000   [10,20)   8.219587       [0,10)\n",
       "589   8.0500    [0,10)  10.298659      [10,20)\n",
       "630  30.0000  [30,100)  29.402643      [20,30)\n",
       "677   9.8417    [0,10)  10.026718      [10,20)\n",
       "687  10.1708   [10,20)   9.871647       [0,10)\n",
       "740  30.0000  [30,100)  29.467060      [20,30)\n",
       "787  29.1250   [20,30)  31.374345     [30,100)\n",
       "883  10.5000   [10,20)   9.257661       [0,10)\n",
       "889  30.0000  [30,100)  29.561972      [20,30)"
      ]
     },
     "execution_count": 119,
     "metadata": {},
     "output_type": "execute_result"
    }
   ],
   "source": [
    "df2.loc[lambda x:x['fare_bin'] != x['fare_adj_bin'],['fare','fare_bin','fare_adj','fare_adj_bin']]"
   ]
  },
  {
   "cell_type": "code",
   "execution_count": null,
   "id": "7bc70b80",
   "metadata": {},
   "outputs": [],
   "source": []
  },
  {
   "cell_type": "code",
   "execution_count": null,
   "id": "9c7d7c12",
   "metadata": {},
   "outputs": [],
   "source": []
  }
 ],
 "metadata": {
  "kernelspec": {
   "display_name": "Python 3",
   "language": "python",
   "name": "python3"
  },
  "language_info": {
   "codemirror_mode": {
    "name": "ipython",
    "version": 3
   },
   "file_extension": ".py",
   "mimetype": "text/x-python",
   "name": "python",
   "nbconvert_exporter": "python",
   "pygments_lexer": "ipython3",
   "version": "3.13.2"
  }
 },
 "nbformat": 4,
 "nbformat_minor": 5
}
