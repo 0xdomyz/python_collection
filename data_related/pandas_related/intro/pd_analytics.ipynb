{
 "cells": [
  {
   "cell_type": "markdown",
   "id": "b4a2e354",
   "metadata": {},
   "source": [
    "### libs"
   ]
  },
  {
   "cell_type": "code",
   "execution_count": 1,
   "id": "3e74e0c3",
   "metadata": {},
   "outputs": [],
   "source": [
    "import numpy as np\n",
    "import pandas as pd\n",
    "import matplotlib.pyplot as plt\n",
    "import matplotlib as mpl"
   ]
  },
  {
   "cell_type": "code",
   "execution_count": 2,
   "id": "29bdcb2d",
   "metadata": {},
   "outputs": [],
   "source": [
    "def make_bins(df: pd.DataFrame, col, bins: list) -> pd.Series:\n",
    "\n",
    "    res = pd.Series(index=df.index, dtype=object)\n",
    "\n",
    "    for i, bin_edge in enumerate(bins):\n",
    "        if i == 0:\n",
    "            res.loc[df[col] < bin_edge] = f\"[-Inf, {bin_edge})\"\n",
    "        else:\n",
    "            res.loc[(df[col] >= bins[i - 1]) & (df[col] < bin_edge)] = (\n",
    "                f\"[{bins[i-1]},{bin_edge})\"\n",
    "            )\n",
    "    res.loc[df[col] >= bins[-1]] = f\"[{bins[-1]},Inf)\"\n",
    "    return res"
   ]
  },
  {
   "cell_type": "code",
   "execution_count": 3,
   "id": "6822ff17",
   "metadata": {},
   "outputs": [],
   "source": [
    "def cumcount_in_group_by_order(\n",
    "    df: pd.DataFrame, group_cols: list, order_cols: list, na_position: str = \"last\"\n",
    ") -> pd.Series:\n",
    "    srs = (\n",
    "        df.groupby(group_cols, dropna=False)\n",
    "        .apply(\n",
    "            lambda x: pd.Series(\n",
    "                range(1, len(x) + 1),\n",
    "                index=x.sort_values(order_cols, na_position=na_position).index,\n",
    "            ),\n",
    "            include_groups=False,\n",
    "        )\n",
    "        .reset_index(level=0, drop=True)\n",
    "    )\n",
    "    return srs"
   ]
  },
  {
   "cell_type": "code",
   "execution_count": 4,
   "id": "4780dd78",
   "metadata": {},
   "outputs": [],
   "source": [
    "def value_of_extreme_in_group_by_order(\n",
    "    df: pd.DataFrame,\n",
    "    group_cols: list,\n",
    "    order_cols: list,\n",
    "    target_col: str,\n",
    "    order_func: callable,\n",
    "    na_position: str = \"last\",\n",
    ") -> pd.Series:\n",
    "    \"\"\"callable sig: func(x: pd.DataFrame) -> pd.Series\"\"\"\n",
    "\n",
    "    def func(x: pd.DataFrame) -> pd.Series:\n",
    "        sorted_x = x.sort_values(order_cols, na_position=na_position)\n",
    "        return pd.Series(\n",
    "            np.repeat(sorted_x.head(1)[target_col].values, len(x)),\n",
    "            index=sorted_x.index,\n",
    "        )\n",
    "\n",
    "    if order_func is None:\n",
    "        order_func = func\n",
    "\n",
    "    res = (\n",
    "        df.groupby(group_cols, dropna=False)\n",
    "        .apply(order_func, include_groups=False)\n",
    "        .reset_index(level=0, drop=True)\n",
    "    )\n",
    "\n",
    "    return res"
   ]
  },
  {
   "cell_type": "markdown",
   "id": "016ff2ad",
   "metadata": {},
   "source": [
    "### data"
   ]
  },
  {
   "cell_type": "code",
   "execution_count": 5,
   "id": "71e4bca3",
   "metadata": {},
   "outputs": [
    {
     "name": "stdout",
     "output_type": "stream",
     "text": [
      "df.shape = (891, 4)\n",
      "   survived    who   age     fare\n",
      "0         0    man  22.0   7.2500\n",
      "1         1  woman  38.0  71.2833\n",
      "2         1  woman  26.0   7.9250\n",
      "3         1  woman  35.0  53.1000\n",
      "4         0    man  35.0   8.0500\n"
     ]
    }
   ],
   "source": [
    "import seaborn as sns\n",
    "\n",
    "df = sns.load_dataset(\"titanic\")[[\"survived\", \"who\", \"age\", \"fare\"]]\n",
    "print(f\"{df.shape = }\")\n",
    "print(df.head().to_string())"
   ]
  },
  {
   "cell_type": "markdown",
   "id": "a97a649d",
   "metadata": {},
   "source": [
    "### step by step"
   ]
  },
  {
   "cell_type": "code",
   "execution_count": 6,
   "id": "15bb50b8",
   "metadata": {},
   "outputs": [],
   "source": [
    "df2 = df.copy()"
   ]
  },
  {
   "cell_type": "code",
   "execution_count": 7,
   "id": "0818d638",
   "metadata": {},
   "outputs": [],
   "source": [
    "df2[\"id\"] = range(1, len(df2) + 1)"
   ]
  },
  {
   "cell_type": "code",
   "execution_count": 8,
   "id": "dfcb9c56",
   "metadata": {},
   "outputs": [],
   "source": [
    "df2[\"avg_age_in_who\"] = df2.groupby(\"who\", dropna=False)[\"age\"].transform(\"mean\")"
   ]
  },
  {
   "cell_type": "code",
   "execution_count": 9,
   "id": "2a85333a",
   "metadata": {},
   "outputs": [],
   "source": [
    "df2[\"cumcount_in_who_by_fare\"] = (\n",
    "    df2.groupby([\"who\"], dropna=False)\n",
    "    .apply(\n",
    "        lambda x: pd.Series(\n",
    "            range(1, len(x) + 1),\n",
    "            index=x.sort_values([\"fare\", \"id\"], na_position=\"last\").index,\n",
    "        ),\n",
    "        include_groups=False,\n",
    "    )\n",
    "    .reset_index(level=0, drop=True)\n",
    ")"
   ]
  },
  {
   "cell_type": "code",
   "execution_count": 10,
   "id": "0b9cb3e0",
   "metadata": {},
   "outputs": [],
   "source": [
    "def func(x: pd.DataFrame) -> pd.Series:\n",
    "    sorted_x = x.sort_values([\"fare\", \"id\"], na_position=\"last\")\n",
    "    return pd.Series(\n",
    "        np.repeat(sorted_x.head(1)[\"age\"].values, len(x)),\n",
    "        index=sorted_x.index,\n",
    "    )\n",
    "\n",
    "\n",
    "df2[\"age_of_lowest_fare_in_who\"] = (\n",
    "    df2.groupby([\"who\"], dropna=False)\n",
    "    .apply(func, include_groups=False)\n",
    "    .reset_index(level=0, drop=True)\n",
    ")"
   ]
  },
  {
   "cell_type": "code",
   "execution_count": 11,
   "id": "64740891",
   "metadata": {},
   "outputs": [],
   "source": [
    "src_col = \"fare\"\n",
    "col = \"fare_bin\"\n",
    "\n",
    "df2.loc[lambda x: x[src_col] < 0, col] = \"[-Inf, 0)\"\n",
    "df2.loc[lambda x: (x[src_col] >= 0) & (x[src_col] < 10), col] = \"[0,10)\"\n",
    "df2.loc[lambda x: (x[src_col] >= 10) & (x[src_col] < 20), col] = \"[10,20)\"\n",
    "df2.loc[lambda x: (x[src_col] >= 20) & (x[src_col] < 30), col] = \"[20,30)\"\n",
    "df2.loc[lambda x: (x[src_col] >= 30) & (x[src_col] < 100), col] = \"[30,100)\"\n",
    "df2.loc[lambda x: x[src_col] >= 100, col] = \"[100,Inf)\""
   ]
  },
  {
   "cell_type": "code",
   "execution_count": 12,
   "id": "80affdd9",
   "metadata": {},
   "outputs": [],
   "source": [
    "import scipy.stats as stats\n",
    "\n",
    "np.random.seed(42)\n",
    "\n",
    "df2[\"fare_adj\"] = np.clip(\n",
    "    df2[\"fare\"] + stats.norm.rvs(loc=2, scale=5, size=len(df2.index)),\n",
    "    a_min=0,\n",
    "    a_max=None,\n",
    ")"
   ]
  },
  {
   "cell_type": "code",
   "execution_count": 13,
   "id": "0eb1a455",
   "metadata": {},
   "outputs": [],
   "source": [
    "df2[\"fare_adj_bin\"] = make_bins(df2, \"fare_adj\", bins=[0, 10, 20, 30, 100])"
   ]
  },
  {
   "cell_type": "code",
   "execution_count": 14,
   "id": "d4f9795d",
   "metadata": {},
   "outputs": [],
   "source": [
    "df2 = df2.loc[\n",
    "    lambda x: x[\"fare\"] < 50,\n",
    "    [\n",
    "        \"id\",\n",
    "        \"who\",\n",
    "        \"age\",\n",
    "        \"fare\",\n",
    "        \"fare_adj\",\n",
    "        \"fare_bin\",\n",
    "        \"fare_adj_bin\",\n",
    "        \"avg_age_in_who\",\n",
    "        \"cumcount_in_who_by_fare\",\n",
    "        \"age_of_lowest_fare_in_who\",\n",
    "    ],\n",
    "]"
   ]
  },
  {
   "cell_type": "code",
   "execution_count": 15,
   "id": "2feadd41",
   "metadata": {},
   "outputs": [
    {
     "name": "stdout",
     "output_type": "stream",
     "text": [
      "df2.shape = (730, 10)\n",
      "   id    who   age     fare   fare_adj fare_bin fare_adj_bin  avg_age_in_who  cumcount_in_who_by_fare  age_of_lowest_fare_in_who\n",
      "0   1    man  22.0   7.2500  11.733571   [0,10)      [10,20)       33.173123                       65                       36.0\n",
      "2   3  woman  26.0   7.9250  13.163443   [0,10)      [10,20)       32.000000                       41                       18.0\n",
      "4   5    man  35.0   8.0500   8.879233   [0,10)       [0,10)       33.173123                      193                       36.0\n",
      "5   6    man   NaN   8.4583   9.287615   [0,10)       [0,10)       33.173123                      240                       36.0\n",
      "7   8  child   2.0  21.0750  26.912174  [20,30)      [20,30)        6.369518                       33                       15.0\n"
     ]
    }
   ],
   "source": [
    "print(f\"{df2.shape = }\")\n",
    "print(df2.head().to_string())"
   ]
  },
  {
   "cell_type": "markdown",
   "id": "1e791971",
   "metadata": {},
   "source": [
    "### in one go with funcs"
   ]
  },
  {
   "cell_type": "code",
   "execution_count": null,
   "id": "c805bd23",
   "metadata": {},
   "outputs": [
    {
     "name": "stdout",
     "output_type": "stream",
     "text": [
      "df2_2.shape = (730, 10)\n",
      "   id    who   age     fare   fare_adj fare_bin fare_adj_bin  avg_age_in_who  cumcount_in_who_by_fare  age_of_lowest_fare_in_who\n",
      "0   1    man  22.0   7.2500  11.733571   [0,10)      [10,20)       33.173123                       65                       36.0\n",
      "2   3  woman  26.0   7.9250  13.163443   [0,10)      [10,20)       32.000000                       41                       18.0\n",
      "4   5    man  35.0   8.0500   8.879233   [0,10)       [0,10)       33.173123                      193                       36.0\n",
      "5   6    man   NaN   8.4583   9.287615   [0,10)       [0,10)       33.173123                      240                       36.0\n",
      "7   8  child   2.0  21.0750  26.912174  [20,30)      [20,30)        6.369518                       33                       15.0\n"
     ]
    }
   ],
   "source": [
    "bins = [0, 10, 20, 30, 100]\n",
    "np.random.seed(42)\n",
    "\n",
    "df2_2 = df.assign(\n",
    "    id=lambda x: range(1, len(x) + 1),\n",
    "    avg_age_in_who=lambda x: x.groupby(\"who\", dropna=False)[\"age\"].transform(\"mean\"),\n",
    "    cumcount_in_who_by_fare=lambda x: cumcount_in_group_by_order(\n",
    "        x, group_cols=[\"who\"], order_cols=[\"fare\", \"id\"], na_position=\"last\"\n",
    "    ),\n",
    "    age_of_lowest_fare_in_who=lambda x: value_of_extreme_in_group_by_order(\n",
    "        x,\n",
    "        group_cols=[\"who\"],\n",
    "        order_cols=[\"fare\", \"id\"],\n",
    "        target_col=\"age\",\n",
    "    ),\n",
    "    fare_bin=lambda x: make_bins(x, \"fare\", bins=bins),\n",
    "    fare_adj=lambda x: np.clip(\n",
    "        x[\"fare\"] + stats.norm.rvs(loc=2, scale=5, size=len(x.index)),\n",
    "        a_min=0,\n",
    "        a_max=None,\n",
    "    ),\n",
    "    fare_adj_bin=lambda x: make_bins(x, \"fare_adj\", bins=bins),\n",
    ").loc[\n",
    "    lambda x: x[\"fare\"] < 50,\n",
    "    [\n",
    "        \"id\",\n",
    "        \"who\",\n",
    "        \"age\",\n",
    "        \"fare\",\n",
    "        \"fare_adj\",\n",
    "        \"fare_bin\",\n",
    "        \"fare_adj_bin\",\n",
    "        \"avg_age_in_who\",\n",
    "        \"cumcount_in_who_by_fare\",\n",
    "        \"age_of_lowest_fare_in_who\",\n",
    "    ],\n",
    "]\n",
    "print(f\"{df2_2.shape = }\")\n",
    "print(df2_2.head().to_string())"
   ]
  },
  {
   "cell_type": "code",
   "execution_count": 25,
   "id": "7e056b94",
   "metadata": {},
   "outputs": [],
   "source": [
    "assert df2.compare(df2_2).empty, \"DataFrames are not equal!\""
   ]
  },
  {
   "cell_type": "markdown",
   "id": "9bc9a057",
   "metadata": {},
   "source": [
    "### check results while using aggs"
   ]
  },
  {
   "cell_type": "code",
   "execution_count": 17,
   "id": "4ebdbea9",
   "metadata": {},
   "outputs": [
    {
     "data": {
      "application/vnd.microsoft.datawrangler.viewer.v0+json": {
       "columns": [
        {
         "name": "who",
         "rawType": "object",
         "type": "string"
        },
        {
         "name": "n",
         "rawType": "int64",
         "type": "integer"
        },
        {
         "name": "avg_age",
         "rawType": "float64",
         "type": "float"
        },
        {
         "name": "max_avg_age_in_who",
         "rawType": "float64",
         "type": "float"
        },
        {
         "name": "equal",
         "rawType": "bool",
         "type": "boolean"
        }
       ],
       "ref": "5b005ca8-7d5c-4ea0-a43b-920fe61ed7b7",
       "rows": [
        [
         "child",
         "77",
         "6.2564935064935066",
         "6.369518072289156",
         "False"
        ],
        [
         "man",
         "466",
         "32.5",
         "33.17312348668281",
         "False"
        ],
        [
         "woman",
         "187",
         "30.273972602739725",
         "32.0",
         "False"
        ]
       ],
       "shape": {
        "columns": 4,
        "rows": 3
       }
      },
      "text/html": [
       "<div>\n",
       "<style scoped>\n",
       "    .dataframe tbody tr th:only-of-type {\n",
       "        vertical-align: middle;\n",
       "    }\n",
       "\n",
       "    .dataframe tbody tr th {\n",
       "        vertical-align: top;\n",
       "    }\n",
       "\n",
       "    .dataframe thead th {\n",
       "        text-align: right;\n",
       "    }\n",
       "</style>\n",
       "<table border=\"1\" class=\"dataframe\">\n",
       "  <thead>\n",
       "    <tr style=\"text-align: right;\">\n",
       "      <th></th>\n",
       "      <th>n</th>\n",
       "      <th>avg_age</th>\n",
       "      <th>max_avg_age_in_who</th>\n",
       "      <th>equal</th>\n",
       "    </tr>\n",
       "    <tr>\n",
       "      <th>who</th>\n",
       "      <th></th>\n",
       "      <th></th>\n",
       "      <th></th>\n",
       "      <th></th>\n",
       "    </tr>\n",
       "  </thead>\n",
       "  <tbody>\n",
       "    <tr>\n",
       "      <th>child</th>\n",
       "      <td>77</td>\n",
       "      <td>6.256494</td>\n",
       "      <td>6.369518</td>\n",
       "      <td>False</td>\n",
       "    </tr>\n",
       "    <tr>\n",
       "      <th>man</th>\n",
       "      <td>466</td>\n",
       "      <td>32.500000</td>\n",
       "      <td>33.173123</td>\n",
       "      <td>False</td>\n",
       "    </tr>\n",
       "    <tr>\n",
       "      <th>woman</th>\n",
       "      <td>187</td>\n",
       "      <td>30.273973</td>\n",
       "      <td>32.000000</td>\n",
       "      <td>False</td>\n",
       "    </tr>\n",
       "  </tbody>\n",
       "</table>\n",
       "</div>"
      ],
      "text/plain": [
       "         n    avg_age  max_avg_age_in_who  equal\n",
       "who                                             \n",
       "child   77   6.256494            6.369518  False\n",
       "man    466  32.500000           33.173123  False\n",
       "woman  187  30.273973           32.000000  False"
      ]
     },
     "execution_count": 17,
     "metadata": {},
     "output_type": "execute_result"
    }
   ],
   "source": [
    "df2.groupby([\"who\"], dropna=False).agg(\n",
    "    **{\n",
    "        \"n\": (\"who\", \"size\"),\n",
    "        \"avg_age\": (\"age\", \"mean\"),\n",
    "        \"max_avg_age_in_who\": (\"avg_age_in_who\", \"max\"),\n",
    "    }\n",
    ").assign(\n",
    "    equal=lambda x: np.where(\n",
    "        np.abs(x[\"avg_age\"] - x[\"max_avg_age_in_who\"]) < 0.01, True, False\n",
    "    )\n",
    ")"
   ]
  },
  {
   "cell_type": "code",
   "execution_count": 18,
   "id": "0bb6d639",
   "metadata": {},
   "outputs": [
    {
     "data": {
      "application/vnd.microsoft.datawrangler.viewer.v0+json": {
       "columns": [
        {
         "name": "index",
         "rawType": "int64",
         "type": "integer"
        },
        {
         "name": "id",
         "rawType": "int64",
         "type": "integer"
        },
        {
         "name": "who",
         "rawType": "object",
         "type": "string"
        },
        {
         "name": "fare",
         "rawType": "float64",
         "type": "float"
        },
        {
         "name": "cumcount_in_who_by_fare",
         "rawType": "int64",
         "type": "integer"
        }
       ],
       "ref": "a55d9de0-31ac-45a5-9f79-1d9c310a28ae",
       "rows": [
        [
         "875",
         "876",
         "child",
         "7.225",
         "1"
        ],
        [
         "352",
         "353",
         "child",
         "7.2292",
         "2"
        ],
        [
         "780",
         "781",
         "child",
         "7.2292",
         "3"
        ],
        [
         "14",
         "15",
         "child",
         "7.8542",
         "4"
        ],
        [
         "22",
         "23",
         "child",
         "8.0292",
         "5"
        ],
        [
         "803",
         "804",
         "child",
         "8.5167",
         "6"
        ],
        [
         "205",
         "206",
         "child",
         "10.4625",
         "7"
        ],
        [
         "172",
         "173",
         "child",
         "11.1333",
         "8"
        ],
        [
         "869",
         "870",
         "child",
         "11.1333",
         "9"
        ],
        [
         "39",
         "40",
         "child",
         "11.2417",
         "10"
        ],
        [
         "125",
         "126",
         "child",
         "11.2417",
         "11"
        ],
        [
         "479",
         "480",
         "child",
         "12.2875",
         "12"
        ],
        [
         "751",
         "752",
         "child",
         "12.475",
         "13"
        ],
        [
         "777",
         "778",
         "child",
         "12.475",
         "14"
        ],
        [
         "691",
         "692",
         "child",
         "13.4167",
         "15"
        ],
        [
         "111",
         "112",
         "child",
         "14.4542",
         "16"
        ],
        [
         "830",
         "831",
         "child",
         "14.4542",
         "17"
        ],
        [
         "755",
         "756",
         "child",
         "14.5",
         "18"
        ],
        [
         "852",
         "853",
         "child",
         "15.2458",
         "19"
        ],
        [
         "381",
         "382",
         "child",
         "15.7417",
         "20"
        ],
        [
         "348",
         "349",
         "child",
         "15.9",
         "21"
        ],
        [
         "489",
         "490",
         "child",
         "15.9",
         "22"
        ],
        [
         "10",
         "11",
         "child",
         "16.7",
         "23"
        ],
        [
         "407",
         "408",
         "child",
         "18.75",
         "24"
        ],
        [
         "831",
         "832",
         "child",
         "18.75",
         "25"
        ],
        [
         "731",
         "732",
         "child",
         "18.7875",
         "26"
        ],
        [
         "448",
         "449",
         "child",
         "19.2583",
         "27"
        ],
        [
         "469",
         "470",
         "child",
         "19.2583",
         "28"
        ],
        [
         "644",
         "645",
         "child",
         "19.2583",
         "29"
        ],
        [
         "446",
         "447",
         "child",
         "19.5",
         "30"
        ],
        [
         "165",
         "166",
         "child",
         "20.525",
         "31"
        ],
        [
         "788",
         "789",
         "child",
         "20.575",
         "32"
        ],
        [
         "7",
         "8",
         "child",
         "21.075",
         "33"
        ],
        [
         "24",
         "25",
         "child",
         "21.075",
         "34"
        ],
        [
         "374",
         "375",
         "child",
         "21.075",
         "35"
        ],
        [
         "184",
         "185",
         "child",
         "22.025",
         "36"
        ],
        [
         "750",
         "751",
         "child",
         "23.0",
         "37"
        ],
        [
         "419",
         "420",
         "child",
         "24.15",
         "38"
        ],
        [
         "193",
         "194",
         "child",
         "26.0",
         "39"
        ],
        [
         "340",
         "341",
         "child",
         "26.0",
         "40"
        ],
        [
         "530",
         "531",
         "child",
         "26.0",
         "41"
        ],
        [
         "237",
         "238",
         "child",
         "26.25",
         "42"
        ],
        [
         "535",
         "536",
         "child",
         "26.25",
         "43"
        ],
        [
         "58",
         "59",
         "child",
         "27.75",
         "44"
        ],
        [
         "63",
         "64",
         "child",
         "27.9",
         "45"
        ],
        [
         "634",
         "635",
         "child",
         "27.9",
         "46"
        ],
        [
         "642",
         "643",
         "child",
         "27.9",
         "47"
        ],
        [
         "819",
         "820",
         "child",
         "27.9",
         "48"
        ],
        [
         "78",
         "79",
         "child",
         "29.0",
         "49"
        ],
        [
         "16",
         "17",
         "child",
         "29.125",
         "50"
        ]
       ],
       "shape": {
        "columns": 4,
        "rows": 77
       }
      },
      "text/html": [
       "<div>\n",
       "<style scoped>\n",
       "    .dataframe tbody tr th:only-of-type {\n",
       "        vertical-align: middle;\n",
       "    }\n",
       "\n",
       "    .dataframe tbody tr th {\n",
       "        vertical-align: top;\n",
       "    }\n",
       "\n",
       "    .dataframe thead th {\n",
       "        text-align: right;\n",
       "    }\n",
       "</style>\n",
       "<table border=\"1\" class=\"dataframe\">\n",
       "  <thead>\n",
       "    <tr style=\"text-align: right;\">\n",
       "      <th></th>\n",
       "      <th>id</th>\n",
       "      <th>who</th>\n",
       "      <th>fare</th>\n",
       "      <th>cumcount_in_who_by_fare</th>\n",
       "    </tr>\n",
       "  </thead>\n",
       "  <tbody>\n",
       "    <tr>\n",
       "      <th>875</th>\n",
       "      <td>876</td>\n",
       "      <td>child</td>\n",
       "      <td>7.2250</td>\n",
       "      <td>1</td>\n",
       "    </tr>\n",
       "    <tr>\n",
       "      <th>352</th>\n",
       "      <td>353</td>\n",
       "      <td>child</td>\n",
       "      <td>7.2292</td>\n",
       "      <td>2</td>\n",
       "    </tr>\n",
       "    <tr>\n",
       "      <th>780</th>\n",
       "      <td>781</td>\n",
       "      <td>child</td>\n",
       "      <td>7.2292</td>\n",
       "      <td>3</td>\n",
       "    </tr>\n",
       "    <tr>\n",
       "      <th>14</th>\n",
       "      <td>15</td>\n",
       "      <td>child</td>\n",
       "      <td>7.8542</td>\n",
       "      <td>4</td>\n",
       "    </tr>\n",
       "    <tr>\n",
       "      <th>22</th>\n",
       "      <td>23</td>\n",
       "      <td>child</td>\n",
       "      <td>8.0292</td>\n",
       "      <td>5</td>\n",
       "    </tr>\n",
       "    <tr>\n",
       "      <th>...</th>\n",
       "      <td>...</td>\n",
       "      <td>...</td>\n",
       "      <td>...</td>\n",
       "      <td>...</td>\n",
       "    </tr>\n",
       "    <tr>\n",
       "      <th>43</th>\n",
       "      <td>44</td>\n",
       "      <td>child</td>\n",
       "      <td>41.5792</td>\n",
       "      <td>73</td>\n",
       "    </tr>\n",
       "    <tr>\n",
       "      <th>59</th>\n",
       "      <td>60</td>\n",
       "      <td>child</td>\n",
       "      <td>46.9000</td>\n",
       "      <td>74</td>\n",
       "    </tr>\n",
       "    <tr>\n",
       "      <th>386</th>\n",
       "      <td>387</td>\n",
       "      <td>child</td>\n",
       "      <td>46.9000</td>\n",
       "      <td>75</td>\n",
       "    </tr>\n",
       "    <tr>\n",
       "      <th>480</th>\n",
       "      <td>481</td>\n",
       "      <td>child</td>\n",
       "      <td>46.9000</td>\n",
       "      <td>76</td>\n",
       "    </tr>\n",
       "    <tr>\n",
       "      <th>683</th>\n",
       "      <td>684</td>\n",
       "      <td>child</td>\n",
       "      <td>46.9000</td>\n",
       "      <td>77</td>\n",
       "    </tr>\n",
       "  </tbody>\n",
       "</table>\n",
       "<p>77 rows × 4 columns</p>\n",
       "</div>"
      ],
      "text/plain": [
       "      id    who     fare  cumcount_in_who_by_fare\n",
       "875  876  child   7.2250                        1\n",
       "352  353  child   7.2292                        2\n",
       "780  781  child   7.2292                        3\n",
       "14    15  child   7.8542                        4\n",
       "22    23  child   8.0292                        5\n",
       "..   ...    ...      ...                      ...\n",
       "43    44  child  41.5792                       73\n",
       "59    60  child  46.9000                       74\n",
       "386  387  child  46.9000                       75\n",
       "480  481  child  46.9000                       76\n",
       "683  684  child  46.9000                       77\n",
       "\n",
       "[77 rows x 4 columns]"
      ]
     },
     "execution_count": 18,
     "metadata": {},
     "output_type": "execute_result"
    }
   ],
   "source": [
    "df2.loc[\n",
    "    lambda x: x[\"who\"] == \"child\", [\"id\", \"who\", \"fare\", \"cumcount_in_who_by_fare\"]\n",
    "].sort_values([\"fare\", \"id\"])"
   ]
  },
  {
   "cell_type": "code",
   "execution_count": 19,
   "id": "e2f65aeb",
   "metadata": {},
   "outputs": [
    {
     "data": {
      "application/vnd.microsoft.datawrangler.viewer.v0+json": {
       "columns": [
        {
         "name": "index",
         "rawType": "int64",
         "type": "integer"
        },
        {
         "name": "id",
         "rawType": "int64",
         "type": "integer"
        },
        {
         "name": "who",
         "rawType": "object",
         "type": "string"
        },
        {
         "name": "fare",
         "rawType": "float64",
         "type": "float"
        },
        {
         "name": "cumcount_in_who_by_fare",
         "rawType": "int64",
         "type": "integer"
        }
       ],
       "ref": "562cfc05-a0b5-47b2-bf10-1d92d9ec6b52",
       "rows": [
        [
         "179",
         "180",
         "man",
         "0.0",
         "1"
        ],
        [
         "263",
         "264",
         "man",
         "0.0",
         "2"
        ],
        [
         "271",
         "272",
         "man",
         "0.0",
         "3"
        ],
        [
         "277",
         "278",
         "man",
         "0.0",
         "4"
        ],
        [
         "302",
         "303",
         "man",
         "0.0",
         "5"
        ],
        [
         "413",
         "414",
         "man",
         "0.0",
         "6"
        ],
        [
         "466",
         "467",
         "man",
         "0.0",
         "7"
        ],
        [
         "481",
         "482",
         "man",
         "0.0",
         "8"
        ],
        [
         "597",
         "598",
         "man",
         "0.0",
         "9"
        ],
        [
         "633",
         "634",
         "man",
         "0.0",
         "10"
        ],
        [
         "674",
         "675",
         "man",
         "0.0",
         "11"
        ],
        [
         "732",
         "733",
         "man",
         "0.0",
         "12"
        ],
        [
         "806",
         "807",
         "man",
         "0.0",
         "13"
        ],
        [
         "815",
         "816",
         "man",
         "0.0",
         "14"
        ],
        [
         "822",
         "823",
         "man",
         "0.0",
         "15"
        ],
        [
         "378",
         "379",
         "man",
         "4.0125",
         "16"
        ],
        [
         "872",
         "873",
         "man",
         "5.0",
         "17"
        ],
        [
         "326",
         "327",
         "man",
         "6.2375",
         "18"
        ],
        [
         "843",
         "844",
         "man",
         "6.4375",
         "19"
        ],
        [
         "818",
         "819",
         "man",
         "6.45",
         "20"
        ],
        [
         "202",
         "203",
         "man",
         "6.4958",
         "21"
        ],
        [
         "371",
         "372",
         "man",
         "6.4958",
         "22"
        ],
        [
         "143",
         "144",
         "man",
         "6.75",
         "23"
        ],
        [
         "411",
         "412",
         "man",
         "6.8583",
         "24"
        ],
        [
         "825",
         "826",
         "man",
         "6.95",
         "25"
        ],
        [
         "129",
         "130",
         "man",
         "6.975",
         "26"
        ],
        [
         "804",
         "805",
         "man",
         "6.975",
         "27"
        ],
        [
         "477",
         "478",
         "man",
         "7.0458",
         "28"
        ],
        [
         "131",
         "132",
         "man",
         "7.05",
         "29"
        ],
        [
         "210",
         "211",
         "man",
         "7.05",
         "30"
        ],
        [
         "363",
         "364",
         "man",
         "7.05",
         "31"
        ],
        [
         "465",
         "466",
         "man",
         "7.05",
         "32"
        ],
        [
         "611",
         "612",
         "man",
         "7.05",
         "33"
        ],
        [
         "784",
         "785",
         "man",
         "7.05",
         "34"
        ],
        [
         "884",
         "885",
         "man",
         "7.05",
         "35"
        ],
        [
         "631",
         "632",
         "man",
         "7.0542",
         "36"
        ],
        [
         "721",
         "722",
         "man",
         "7.0542",
         "37"
        ],
        [
         "243",
         "244",
         "man",
         "7.125",
         "38"
        ],
        [
         "433",
         "434",
         "man",
         "7.125",
         "39"
        ],
        [
         "590",
         "591",
         "man",
         "7.125",
         "40"
        ],
        [
         "761",
         "762",
         "man",
         "7.125",
         "41"
        ],
        [
         "127",
         "128",
         "man",
         "7.1417",
         "42"
        ],
        [
         "26",
         "27",
         "man",
         "7.225",
         "43"
        ],
        [
         "203",
         "204",
         "man",
         "7.225",
         "44"
        ],
        [
         "244",
         "245",
         "man",
         "7.225",
         "45"
        ],
        [
         "354",
         "355",
         "man",
         "7.225",
         "46"
        ],
        [
         "522",
         "523",
         "man",
         "7.225",
         "47"
        ],
        [
         "553",
         "554",
         "man",
         "7.225",
         "48"
        ],
        [
         "598",
         "599",
         "man",
         "7.225",
         "49"
        ],
        [
         "661",
         "662",
         "man",
         "7.225",
         "50"
        ]
       ],
       "shape": {
        "columns": 4,
        "rows": 466
       }
      },
      "text/html": [
       "<div>\n",
       "<style scoped>\n",
       "    .dataframe tbody tr th:only-of-type {\n",
       "        vertical-align: middle;\n",
       "    }\n",
       "\n",
       "    .dataframe tbody tr th {\n",
       "        vertical-align: top;\n",
       "    }\n",
       "\n",
       "    .dataframe thead th {\n",
       "        text-align: right;\n",
       "    }\n",
       "</style>\n",
       "<table border=\"1\" class=\"dataframe\">\n",
       "  <thead>\n",
       "    <tr style=\"text-align: right;\">\n",
       "      <th></th>\n",
       "      <th>id</th>\n",
       "      <th>who</th>\n",
       "      <th>fare</th>\n",
       "      <th>cumcount_in_who_by_fare</th>\n",
       "    </tr>\n",
       "  </thead>\n",
       "  <tbody>\n",
       "    <tr>\n",
       "      <th>179</th>\n",
       "      <td>180</td>\n",
       "      <td>man</td>\n",
       "      <td>0.0000</td>\n",
       "      <td>1</td>\n",
       "    </tr>\n",
       "    <tr>\n",
       "      <th>263</th>\n",
       "      <td>264</td>\n",
       "      <td>man</td>\n",
       "      <td>0.0000</td>\n",
       "      <td>2</td>\n",
       "    </tr>\n",
       "    <tr>\n",
       "      <th>271</th>\n",
       "      <td>272</td>\n",
       "      <td>man</td>\n",
       "      <td>0.0000</td>\n",
       "      <td>3</td>\n",
       "    </tr>\n",
       "    <tr>\n",
       "      <th>277</th>\n",
       "      <td>278</td>\n",
       "      <td>man</td>\n",
       "      <td>0.0000</td>\n",
       "      <td>4</td>\n",
       "    </tr>\n",
       "    <tr>\n",
       "      <th>302</th>\n",
       "      <td>303</td>\n",
       "      <td>man</td>\n",
       "      <td>0.0000</td>\n",
       "      <td>5</td>\n",
       "    </tr>\n",
       "    <tr>\n",
       "      <th>...</th>\n",
       "      <td>...</td>\n",
       "      <td>...</td>\n",
       "      <td>...</td>\n",
       "      <td>...</td>\n",
       "    </tr>\n",
       "    <tr>\n",
       "      <th>583</th>\n",
       "      <td>584</td>\n",
       "      <td>man</td>\n",
       "      <td>40.1250</td>\n",
       "      <td>462</td>\n",
       "    </tr>\n",
       "    <tr>\n",
       "      <th>685</th>\n",
       "      <td>686</td>\n",
       "      <td>man</td>\n",
       "      <td>41.5792</td>\n",
       "      <td>463</td>\n",
       "    </tr>\n",
       "    <tr>\n",
       "      <th>602</th>\n",
       "      <td>603</td>\n",
       "      <td>man</td>\n",
       "      <td>42.4000</td>\n",
       "      <td>464</td>\n",
       "    </tr>\n",
       "    <tr>\n",
       "      <th>83</th>\n",
       "      <td>84</td>\n",
       "      <td>man</td>\n",
       "      <td>47.1000</td>\n",
       "      <td>465</td>\n",
       "    </tr>\n",
       "    <tr>\n",
       "      <th>493</th>\n",
       "      <td>494</td>\n",
       "      <td>man</td>\n",
       "      <td>49.5042</td>\n",
       "      <td>466</td>\n",
       "    </tr>\n",
       "  </tbody>\n",
       "</table>\n",
       "<p>466 rows × 4 columns</p>\n",
       "</div>"
      ],
      "text/plain": [
       "      id  who     fare  cumcount_in_who_by_fare\n",
       "179  180  man   0.0000                        1\n",
       "263  264  man   0.0000                        2\n",
       "271  272  man   0.0000                        3\n",
       "277  278  man   0.0000                        4\n",
       "302  303  man   0.0000                        5\n",
       "..   ...  ...      ...                      ...\n",
       "583  584  man  40.1250                      462\n",
       "685  686  man  41.5792                      463\n",
       "602  603  man  42.4000                      464\n",
       "83    84  man  47.1000                      465\n",
       "493  494  man  49.5042                      466\n",
       "\n",
       "[466 rows x 4 columns]"
      ]
     },
     "execution_count": 19,
     "metadata": {},
     "output_type": "execute_result"
    }
   ],
   "source": [
    "df2.loc[\n",
    "    lambda x: x[\"who\"] == \"man\", [\"id\", \"who\", \"fare\", \"cumcount_in_who_by_fare\"]\n",
    "].sort_values([\"fare\", \"id\"])"
   ]
  },
  {
   "cell_type": "code",
   "execution_count": 20,
   "id": "2cc60954",
   "metadata": {},
   "outputs": [
    {
     "data": {
      "application/vnd.microsoft.datawrangler.viewer.v0+json": {
       "columns": [
        {
         "name": "index",
         "rawType": "int64",
         "type": "integer"
        },
        {
         "name": "fare",
         "rawType": "float64",
         "type": "float"
        },
        {
         "name": "fare_bin",
         "rawType": "object",
         "type": "string"
        },
        {
         "name": "fare_adj",
         "rawType": "float64",
         "type": "float"
        },
        {
         "name": "fare_adj_bin",
         "rawType": "object",
         "type": "string"
        }
       ],
       "ref": "bee7a824-1281-4e4b-bbd1-7ca75ca7d6b2",
       "rows": [
        [
         "0",
         "7.25",
         "[0,10)",
         "11.733570765056164",
         "[10,20)"
        ],
        [
         "2",
         "7.925",
         "[0,10)",
         "13.163442690503462",
         "[10,20)"
        ],
        [
         "12",
         "8.05",
         "[0,10)",
         "11.259811357830172",
         "[10,20)"
        ],
        [
         "13",
         "31.275",
         "[30,100)",
         "23.708598776711007",
         "[20,30)"
        ],
        [
         "20",
         "26.0",
         "[20,30)",
         "35.32824384460777",
         "[30,100)"
        ],
        [
         "22",
         "8.0292",
         "[0,10)",
         "10.366841023439619",
         "[10,20)"
        ],
        [
         "33",
         "10.5",
         "[10,20)",
         "7.211445355220498",
         "[0,10)"
        ],
        [
         "36",
         "7.2292",
         "[0,10)",
         "10.273517975023776",
         "[10,20)"
        ],
        [
         "40",
         "9.475",
         "[0,10)",
         "15.167332899977051",
         "[10,20)"
        ],
        [
         "47",
         "7.75",
         "[0,10)",
         "15.035611131094578",
         "[10,20)"
        ],
        [
         "53",
         "26.0",
         "[20,30)",
         "31.05838144420434",
         "[30,100)"
        ],
        [
         "56",
         "10.5",
         "[10,20)",
         "8.303912383886807",
         "[0,10)"
        ],
        [
         "58",
         "27.75",
         "[20,30)",
         "31.40631715701782",
         "[30,100)"
        ],
        [
         "64",
         "27.7208",
         "[20,30)",
         "33.78342911197099",
         "[30,100)"
        ],
        [
         "65",
         "15.2458",
         "[10,20)",
         "24.027000142854114",
         "[20,30)"
        ],
        [
         "67",
         "8.1583",
         "[0,10)",
         "15.17596448946012",
         "[10,20)"
        ],
        [
         "68",
         "7.925",
         "[0,10)",
         "11.73318012523817",
         "[10,20)"
        ],
        [
         "73",
         "14.4542",
         "[10,20)",
         "24.27741827907003",
         "[20,30)"
        ],
        [
         "75",
         "7.65",
         "[0,10)",
         "13.759512521876118",
         "[10,20)"
        ],
        [
         "76",
         "7.8958",
         "[0,10)",
         "10.331035341190857",
         "[10,20)"
        ],
        [
         "78",
         "29.0",
         "[20,30)",
         "31.45880388267751",
         "[30,100)"
        ],
        [
         "79",
         "12.475",
         "[10,20)",
         "4.537155426995536",
         "[0,10)"
        ],
        [
         "81",
         "9.5",
         "[0,10)",
         "13.285562857558732",
         "[10,20)"
        ],
        [
         "82",
         "7.7875",
         "[0,10)",
         "17.176970223707578",
         "[10,20)"
        ],
        [
         "84",
         "10.5",
         "[10,20)",
         "8.457531985534061",
         "[0,10)"
        ],
        [
         "87",
         "8.05",
         "[0,10)",
         "11.693755548298423",
         "[10,20)"
        ],
        [
         "89",
         "8.05",
         "[0,10)",
         "12.616337165566781",
         "[10,20)"
        ],
        [
         "90",
         "8.05",
         "[0,10)",
         "10.535387746740202",
         "[10,20)"
        ],
        [
         "91",
         "7.8542",
         "[0,10)",
         "14.697424952664445",
         "[10,20)"
        ],
        [
         "105",
         "7.8958",
         "[0,10)",
         "11.916054284072693",
         "[10,20)"
        ],
        [
         "106",
         "7.65",
         "[0,10)",
         "19.08092950605265",
         "[10,20)"
        ],
        [
         "107",
         "7.775",
         "[0,10)",
         "10.647889064159195",
         "[10,20)"
        ],
        [
         "108",
         "7.8958",
         "[0,10)",
         "11.183551953613822",
         "[10,20)"
        ],
        [
         "112",
         "8.05",
         "[0,10)",
         "10.351151049705134",
         "[10,20)"
        ],
        [
         "113",
         "9.825",
         "[0,10)",
         "24.14121056242643",
         "[20,30)"
        ],
        [
         "115",
         "7.925",
         "[0,10)",
         "11.432736711668062",
         "[10,20)"
        ],
        [
         "117",
         "21.0",
         "[20,30)",
         "17.15660981190234",
         "[10,20)"
        ],
        [
         "123",
         "13.0",
         "[10,20)",
         "7.990744686038596",
         "[0,10)"
        ],
        [
         "125",
         "11.2417",
         "[10,20)",
         "24.193978129049892",
         "[20,30)"
        ],
        [
         "133",
         "26.0",
         "[20,30)",
         "30.36796215317591",
         "[30,100)"
        ],
        [
         "135",
         "15.0458",
         "[10,20)",
         "24.795472025087697",
         "[20,30)"
        ],
        [
         "138",
         "9.2167",
         "[0,10)",
         "15.284286086848347",
         "[10,20)"
        ],
        [
         "141",
         "7.75",
         "[0,10)",
         "16.28571377141214",
         "[10,20)"
        ],
        [
         "142",
         "15.85",
         "[10,20)",
         "9.812583827193862",
         "[0,10)"
        ],
        [
         "147",
         "34.375",
         "[30,100)",
         "29.772716934578618",
         "[20,30)"
        ],
        [
         "148",
         "26.0",
         "[20,30)",
         "30.60970782808449",
         "[30,100)"
        ],
        [
         "154",
         "7.3125",
         "[0,10)",
         "10.777862366493405",
         "[10,20)"
        ],
        [
         "156",
         "7.7333",
         "[0,10)",
         "19.062172555723784",
         "[10,20)"
        ],
        [
         "157",
         "8.05",
         "[0,10)",
         "12.419164604558938",
         "[10,20)"
        ],
        [
         "161",
         "15.75",
         "[10,20)",
         "21.68542301871226",
         "[20,30)"
        ]
       ],
       "shape": {
        "columns": 4,
        "rows": 290
       }
      },
      "text/html": [
       "<div>\n",
       "<style scoped>\n",
       "    .dataframe tbody tr th:only-of-type {\n",
       "        vertical-align: middle;\n",
       "    }\n",
       "\n",
       "    .dataframe tbody tr th {\n",
       "        vertical-align: top;\n",
       "    }\n",
       "\n",
       "    .dataframe thead th {\n",
       "        text-align: right;\n",
       "    }\n",
       "</style>\n",
       "<table border=\"1\" class=\"dataframe\">\n",
       "  <thead>\n",
       "    <tr style=\"text-align: right;\">\n",
       "      <th></th>\n",
       "      <th>fare</th>\n",
       "      <th>fare_bin</th>\n",
       "      <th>fare_adj</th>\n",
       "      <th>fare_adj_bin</th>\n",
       "    </tr>\n",
       "  </thead>\n",
       "  <tbody>\n",
       "    <tr>\n",
       "      <th>0</th>\n",
       "      <td>7.2500</td>\n",
       "      <td>[0,10)</td>\n",
       "      <td>11.733571</td>\n",
       "      <td>[10,20)</td>\n",
       "    </tr>\n",
       "    <tr>\n",
       "      <th>2</th>\n",
       "      <td>7.9250</td>\n",
       "      <td>[0,10)</td>\n",
       "      <td>13.163443</td>\n",
       "      <td>[10,20)</td>\n",
       "    </tr>\n",
       "    <tr>\n",
       "      <th>12</th>\n",
       "      <td>8.0500</td>\n",
       "      <td>[0,10)</td>\n",
       "      <td>11.259811</td>\n",
       "      <td>[10,20)</td>\n",
       "    </tr>\n",
       "    <tr>\n",
       "      <th>13</th>\n",
       "      <td>31.2750</td>\n",
       "      <td>[30,100)</td>\n",
       "      <td>23.708599</td>\n",
       "      <td>[20,30)</td>\n",
       "    </tr>\n",
       "    <tr>\n",
       "      <th>20</th>\n",
       "      <td>26.0000</td>\n",
       "      <td>[20,30)</td>\n",
       "      <td>35.328244</td>\n",
       "      <td>[30,100)</td>\n",
       "    </tr>\n",
       "    <tr>\n",
       "      <th>...</th>\n",
       "      <td>...</td>\n",
       "      <td>...</td>\n",
       "      <td>...</td>\n",
       "      <td>...</td>\n",
       "    </tr>\n",
       "    <tr>\n",
       "      <th>877</th>\n",
       "      <td>7.8958</td>\n",
       "      <td>[0,10)</td>\n",
       "      <td>11.014740</td>\n",
       "      <td>[10,20)</td>\n",
       "    </tr>\n",
       "    <tr>\n",
       "      <th>880</th>\n",
       "      <td>26.0000</td>\n",
       "      <td>[20,30)</td>\n",
       "      <td>40.634662</td>\n",
       "      <td>[30,100)</td>\n",
       "    </tr>\n",
       "    <tr>\n",
       "      <th>884</th>\n",
       "      <td>7.0500</td>\n",
       "      <td>[0,10)</td>\n",
       "      <td>12.459457</td>\n",
       "      <td>[10,20)</td>\n",
       "    </tr>\n",
       "    <tr>\n",
       "      <th>885</th>\n",
       "      <td>29.1250</td>\n",
       "      <td>[20,30)</td>\n",
       "      <td>40.358537</td>\n",
       "      <td>[30,100)</td>\n",
       "    </tr>\n",
       "    <tr>\n",
       "      <th>890</th>\n",
       "      <td>7.7500</td>\n",
       "      <td>[0,10)</td>\n",
       "      <td>13.852411</td>\n",
       "      <td>[10,20)</td>\n",
       "    </tr>\n",
       "  </tbody>\n",
       "</table>\n",
       "<p>290 rows × 4 columns</p>\n",
       "</div>"
      ],
      "text/plain": [
       "        fare  fare_bin   fare_adj fare_adj_bin\n",
       "0     7.2500    [0,10)  11.733571      [10,20)\n",
       "2     7.9250    [0,10)  13.163443      [10,20)\n",
       "12    8.0500    [0,10)  11.259811      [10,20)\n",
       "13   31.2750  [30,100)  23.708599      [20,30)\n",
       "20   26.0000   [20,30)  35.328244     [30,100)\n",
       "..       ...       ...        ...          ...\n",
       "877   7.8958    [0,10)  11.014740      [10,20)\n",
       "880  26.0000   [20,30)  40.634662     [30,100)\n",
       "884   7.0500    [0,10)  12.459457      [10,20)\n",
       "885  29.1250   [20,30)  40.358537     [30,100)\n",
       "890   7.7500    [0,10)  13.852411      [10,20)\n",
       "\n",
       "[290 rows x 4 columns]"
      ]
     },
     "execution_count": 20,
     "metadata": {},
     "output_type": "execute_result"
    }
   ],
   "source": [
    "df2.loc[\n",
    "    lambda x: x[\"fare_bin\"] != x[\"fare_adj_bin\"],\n",
    "    [\"fare\", \"fare_bin\", \"fare_adj\", \"fare_adj_bin\"],\n",
    "]"
   ]
  },
  {
   "cell_type": "code",
   "execution_count": 23,
   "id": "e55a6c95",
   "metadata": {},
   "outputs": [
    {
     "name": "stdout",
     "output_type": "stream",
     "text": [
      "      id    who   fare   age  cumcount_in_who_by_fare  age_of_lowest_fare_in_who\n",
      "179  180    man  0.000  36.0                        1                       36.0\n",
      "654  655  woman  6.750  18.0                        1                       18.0\n",
      "875  876  child  7.225  15.0                        1                       15.0\n"
     ]
    }
   ],
   "source": [
    "_ = df2.loc[\n",
    "    lambda x: x[\"cumcount_in_who_by_fare\"] == 1,\n",
    "    [\n",
    "        \"id\",\n",
    "        \"who\",\n",
    "        \"fare\",\n",
    "        \"age\",\n",
    "        \"cumcount_in_who_by_fare\",\n",
    "        \"age_of_lowest_fare_in_who\",\n",
    "    ],\n",
    "]\n",
    "print(_.head().to_string())"
   ]
  },
  {
   "cell_type": "code",
   "execution_count": null,
   "id": "7bc70b80",
   "metadata": {},
   "outputs": [],
   "source": []
  },
  {
   "cell_type": "code",
   "execution_count": null,
   "id": "9c7d7c12",
   "metadata": {},
   "outputs": [],
   "source": []
  }
 ],
 "metadata": {
  "kernelspec": {
   "display_name": "Python 3",
   "language": "python",
   "name": "python3"
  },
  "language_info": {
   "codemirror_mode": {
    "name": "ipython",
    "version": 3
   },
   "file_extension": ".py",
   "mimetype": "text/x-python",
   "name": "python",
   "nbconvert_exporter": "python",
   "pygments_lexer": "ipython3",
   "version": "3.13.2"
  }
 },
 "nbformat": 4,
 "nbformat_minor": 5
}
