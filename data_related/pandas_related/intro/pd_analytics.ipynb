{
 "cells": [
  {
   "cell_type": "markdown",
   "id": "b4a2e354",
   "metadata": {},
   "source": [
    "### libs"
   ]
  },
  {
   "cell_type": "code",
   "execution_count": 1,
   "id": "3e74e0c3",
   "metadata": {},
   "outputs": [],
   "source": [
    "import numpy as np\n",
    "import pandas as pd\n",
    "import matplotlib.pyplot as plt\n",
    "import matplotlib as mpl"
   ]
  },
  {
   "cell_type": "code",
   "execution_count": 2,
   "id": "29bdcb2d",
   "metadata": {},
   "outputs": [],
   "source": [
    "def make_bins(df: pd.DataFrame, col, bins: list) -> pd.Series:\n",
    "\n",
    "    res = pd.Series(index=df.index, dtype=object)\n",
    "\n",
    "    for i, bin_edge in enumerate(bins):\n",
    "        if i == 0:\n",
    "            res.loc[df[col] < bin_edge] = f\"[-Inf, {bin_edge})\"\n",
    "        else:\n",
    "            res.loc[(df[col] >= bins[i - 1]) & (df[col] < bin_edge)] = (\n",
    "                f\"[{bins[i-1]},{bin_edge})\"\n",
    "            )\n",
    "    res.loc[df[col] >= bins[-1]] = f\"[{bins[-1]},Inf)\"\n",
    "    return res"
   ]
  },
  {
   "cell_type": "markdown",
   "id": "016ff2ad",
   "metadata": {},
   "source": [
    "### data"
   ]
  },
  {
   "cell_type": "code",
   "execution_count": 23,
   "id": "71e4bca3",
   "metadata": {},
   "outputs": [
    {
     "name": "stdout",
     "output_type": "stream",
     "text": [
      "df.shape = (891, 4)\n",
      "   survived    who   age     fare\n",
      "0         0    man  22.0   7.2500\n",
      "1         1  woman  38.0  71.2833\n",
      "2         1  woman  26.0   7.9250\n",
      "3         1  woman  35.0  53.1000\n",
      "4         0    man  35.0   8.0500\n"
     ]
    }
   ],
   "source": [
    "import seaborn as sns\n",
    "\n",
    "df = sns.load_dataset(\"titanic\")[[\"survived\", \"who\", \"age\", \"fare\"]]\n",
    "print(f\"{df.shape = }\")\n",
    "print(df.head().to_string())"
   ]
  },
  {
   "cell_type": "code",
   "execution_count": 24,
   "id": "1853ad54",
   "metadata": {},
   "outputs": [
    {
     "name": "stdout",
     "output_type": "stream",
     "text": [
      "df.shape = (8910000, 4)\n"
     ]
    }
   ],
   "source": [
    "# expand df by 10000 times\n",
    "df = pd.concat([df] * 10000, ignore_index=True)\n",
    "df = df.sample(frac=1, random_state=42).reset_index(drop=True)\n",
    "print(f\"{df.shape = }\")"
   ]
  },
  {
   "cell_type": "markdown",
   "id": "a97a649d",
   "metadata": {},
   "source": [
    "### step by step"
   ]
  },
  {
   "cell_type": "code",
   "execution_count": 25,
   "id": "15bb50b8",
   "metadata": {},
   "outputs": [],
   "source": [
    "df2 = df.copy()"
   ]
  },
  {
   "cell_type": "code",
   "execution_count": 26,
   "id": "0818d638",
   "metadata": {},
   "outputs": [],
   "source": [
    "df2[\"id\"] = range(1, len(df2) + 1)"
   ]
  },
  {
   "cell_type": "code",
   "execution_count": 27,
   "id": "dfcb9c56",
   "metadata": {},
   "outputs": [],
   "source": [
    "df2[\"avg_age_in_who\"] = df2.groupby(\"who\", dropna=False)[\"age\"].transform(\"mean\")"
   ]
  },
  {
   "cell_type": "code",
   "execution_count": 28,
   "id": "2a85333a",
   "metadata": {},
   "outputs": [],
   "source": [
    "df2[\"cumcount_in_who_by_fare\"] = (\n",
    "    df2.sort_values([\"fare\", \"id\"], na_position=\"last\")\n",
    "    .groupby(\"who\", dropna=False)\n",
    "    .cumcount()\n",
    "    + 1\n",
    ")"
   ]
  },
  {
   "cell_type": "code",
   "execution_count": 29,
   "id": "0b9cb3e0",
   "metadata": {},
   "outputs": [],
   "source": [
    "df2[\"age_of_lowest_fare_in_who\"] = (\n",
    "    df2.sort_values([\"fare\", \"id\"], na_position=\"last\")\n",
    "    .groupby(\"who\", dropna=False)[\"age\"]\n",
    "    .transform(\"first\")\n",
    ")"
   ]
  },
  {
   "cell_type": "code",
   "execution_count": 30,
   "id": "64740891",
   "metadata": {},
   "outputs": [],
   "source": [
    "src_col = \"fare\"\n",
    "col = \"fare_bin\"\n",
    "\n",
    "df2.loc[lambda x: x[src_col] < 0, col] = \"[-Inf, 0)\"\n",
    "df2.loc[lambda x: (x[src_col] >= 0) & (x[src_col] < 10), col] = \"[0,10)\"\n",
    "df2.loc[lambda x: (x[src_col] >= 10) & (x[src_col] < 20), col] = \"[10,20)\"\n",
    "df2.loc[lambda x: (x[src_col] >= 20) & (x[src_col] < 30), col] = \"[20,30)\"\n",
    "df2.loc[lambda x: (x[src_col] >= 30) & (x[src_col] < 100), col] = \"[30,100)\"\n",
    "df2.loc[lambda x: x[src_col] >= 100, col] = \"[100,Inf)\""
   ]
  },
  {
   "cell_type": "code",
   "execution_count": 31,
   "id": "80affdd9",
   "metadata": {},
   "outputs": [],
   "source": [
    "import scipy.stats as stats\n",
    "\n",
    "np.random.seed(42)\n",
    "\n",
    "df2[\"fare_adj\"] = np.clip(\n",
    "    df2[\"fare\"] + stats.norm.rvs(loc=2, scale=5, size=len(df2.index)),\n",
    "    a_min=0,\n",
    "    a_max=None,\n",
    ")"
   ]
  },
  {
   "cell_type": "code",
   "execution_count": 32,
   "id": "0eb1a455",
   "metadata": {},
   "outputs": [],
   "source": [
    "df2[\"fare_adj_bin\"] = make_bins(df2, \"fare_adj\", bins=[0, 10, 20, 30, 100])"
   ]
  },
  {
   "cell_type": "code",
   "execution_count": 33,
   "id": "d4f9795d",
   "metadata": {},
   "outputs": [],
   "source": [
    "df2 = df2.loc[\n",
    "    lambda x: x[\"fare\"] < 50,\n",
    "    [\n",
    "        \"id\",\n",
    "        \"who\",\n",
    "        \"age\",\n",
    "        \"fare\",\n",
    "        \"fare_adj\",\n",
    "        \"fare_bin\",\n",
    "        \"fare_adj_bin\",\n",
    "        \"avg_age_in_who\",\n",
    "        \"cumcount_in_who_by_fare\",\n",
    "        \"age_of_lowest_fare_in_who\",\n",
    "    ],\n",
    "]"
   ]
  },
  {
   "cell_type": "code",
   "execution_count": 34,
   "id": "2feadd41",
   "metadata": {},
   "outputs": [
    {
     "name": "stdout",
     "output_type": "stream",
     "text": [
      "df2.shape = (7300000, 10)\n",
      "   id    who   age     fare   fare_adj fare_bin fare_adj_bin  avg_age_in_who  cumcount_in_who_by_fare  age_of_lowest_fare_in_who\n",
      "1   2    man  48.0   7.8542   9.162878   [0,10)       [0,10)       33.173123                  1310001                       36.0\n",
      "2   3  woman  26.0   7.9250  13.163443   [0,10)      [10,20)       32.000000                   400001                       18.0\n",
      "4   5    man  30.0  24.0000  24.829233  [20,30)      [20,30)       33.173123                  3730001                       36.0\n",
      "5   6  woman  28.0   7.8958   8.725115   [0,10)       [0,10)       32.000000                   390001                       18.0\n",
      "6   7    man  31.0  13.0000  22.896064  [10,20)      [20,30)       33.173123                  2950001                       36.0\n"
     ]
    }
   ],
   "source": [
    "print(f\"{df2.shape = }\")\n",
    "print(df2.head().to_string())"
   ]
  },
  {
   "cell_type": "markdown",
   "id": "1e791971",
   "metadata": {},
   "source": [
    "### in one go with funcs"
   ]
  },
  {
   "cell_type": "code",
   "execution_count": 35,
   "id": "c805bd23",
   "metadata": {},
   "outputs": [
    {
     "name": "stdout",
     "output_type": "stream",
     "text": [
      "df2_2.shape = (7300000, 10)\n",
      "   id    who   age     fare   fare_adj fare_bin fare_adj_bin  avg_age_in_who  cumcount_in_who_by_fare  age_of_lowest_fare_in_who\n",
      "1   2    man  48.0   7.8542   9.162878   [0,10)       [0,10)       33.173123                  1310001                       36.0\n",
      "2   3  woman  26.0   7.9250  13.163443   [0,10)      [10,20)       32.000000                   400001                       18.0\n",
      "4   5    man  30.0  24.0000  24.829233  [20,30)      [20,30)       33.173123                  3730001                       36.0\n",
      "5   6  woman  28.0   7.8958   8.725115   [0,10)       [0,10)       32.000000                   390001                       18.0\n",
      "6   7    man  31.0  13.0000  22.896064  [10,20)      [20,30)       33.173123                  2950001                       36.0\n"
     ]
    }
   ],
   "source": [
    "bins = [0, 10, 20, 30, 100]\n",
    "np.random.seed(42)\n",
    "\n",
    "df2_2 = df.assign(\n",
    "    id=lambda x: range(1, len(x) + 1),\n",
    "    avg_age_in_who=lambda x: x.groupby(\"who\", dropna=False)[\"age\"].transform(\"mean\"),\n",
    "    cumcount_in_who_by_fare=lambda x: x.sort_values([\"fare\", \"id\"], na_position=\"last\")\n",
    "    .groupby(\"who\", dropna=False)\n",
    "    .cumcount()\n",
    "    + 1,\n",
    "    age_of_lowest_fare_in_who=lambda x: x.sort_values(\n",
    "        [\"fare\", \"id\"], na_position=\"last\"\n",
    "    )\n",
    "    .groupby(\"who\", dropna=False)[\"age\"]\n",
    "    .transform(\"first\"),\n",
    "    fare_bin=lambda x: make_bins(x, \"fare\", bins=bins),\n",
    "    fare_adj=lambda x: np.clip(\n",
    "        x[\"fare\"] + stats.norm.rvs(loc=2, scale=5, size=len(x.index)),\n",
    "        a_min=0,\n",
    "        a_max=None,\n",
    "    ),\n",
    "    fare_adj_bin=lambda x: make_bins(x, \"fare_adj\", bins=bins),\n",
    ").loc[\n",
    "    lambda x: x[\"fare\"] < 50,\n",
    "    [\n",
    "        \"id\",\n",
    "        \"who\",\n",
    "        \"age\",\n",
    "        \"fare\",\n",
    "        \"fare_adj\",\n",
    "        \"fare_bin\",\n",
    "        \"fare_adj_bin\",\n",
    "        \"avg_age_in_who\",\n",
    "        \"cumcount_in_who_by_fare\",\n",
    "        \"age_of_lowest_fare_in_who\",\n",
    "    ],\n",
    "]\n",
    "print(f\"{df2_2.shape = }\")\n",
    "print(df2_2.head().to_string())"
   ]
  },
  {
   "cell_type": "code",
   "execution_count": 36,
   "id": "7e056b94",
   "metadata": {},
   "outputs": [],
   "source": [
    "assert df2.compare(df2_2).empty, \"DataFrames are not equal!\""
   ]
  },
  {
   "cell_type": "markdown",
   "id": "9bc9a057",
   "metadata": {},
   "source": [
    "### check results while using aggs"
   ]
  },
  {
   "cell_type": "code",
   "execution_count": 37,
   "id": "4ebdbea9",
   "metadata": {},
   "outputs": [
    {
     "data": {
      "application/vnd.microsoft.datawrangler.viewer.v0+json": {
       "columns": [
        {
         "name": "who",
         "rawType": "object",
         "type": "string"
        },
        {
         "name": "n",
         "rawType": "int64",
         "type": "integer"
        },
        {
         "name": "avg_age",
         "rawType": "float64",
         "type": "float"
        },
        {
         "name": "max_avg_age_in_who",
         "rawType": "float64",
         "type": "float"
        },
        {
         "name": "equal",
         "rawType": "bool",
         "type": "boolean"
        }
       ],
       "ref": "f45072ef-bae2-499e-b1d0-4ffbd5aa15a5",
       "rows": [
        [
         "child",
         "770000",
         "6.2564935064935066",
         "6.369518072289156",
         "False"
        ],
        [
         "man",
         "4660000",
         "32.5",
         "33.17312348668281",
         "False"
        ],
        [
         "woman",
         "1870000",
         "30.273972602739725",
         "32.0",
         "False"
        ]
       ],
       "shape": {
        "columns": 4,
        "rows": 3
       }
      },
      "text/html": [
       "<div>\n",
       "<style scoped>\n",
       "    .dataframe tbody tr th:only-of-type {\n",
       "        vertical-align: middle;\n",
       "    }\n",
       "\n",
       "    .dataframe tbody tr th {\n",
       "        vertical-align: top;\n",
       "    }\n",
       "\n",
       "    .dataframe thead th {\n",
       "        text-align: right;\n",
       "    }\n",
       "</style>\n",
       "<table border=\"1\" class=\"dataframe\">\n",
       "  <thead>\n",
       "    <tr style=\"text-align: right;\">\n",
       "      <th></th>\n",
       "      <th>n</th>\n",
       "      <th>avg_age</th>\n",
       "      <th>max_avg_age_in_who</th>\n",
       "      <th>equal</th>\n",
       "    </tr>\n",
       "    <tr>\n",
       "      <th>who</th>\n",
       "      <th></th>\n",
       "      <th></th>\n",
       "      <th></th>\n",
       "      <th></th>\n",
       "    </tr>\n",
       "  </thead>\n",
       "  <tbody>\n",
       "    <tr>\n",
       "      <th>child</th>\n",
       "      <td>770000</td>\n",
       "      <td>6.256494</td>\n",
       "      <td>6.369518</td>\n",
       "      <td>False</td>\n",
       "    </tr>\n",
       "    <tr>\n",
       "      <th>man</th>\n",
       "      <td>4660000</td>\n",
       "      <td>32.500000</td>\n",
       "      <td>33.173123</td>\n",
       "      <td>False</td>\n",
       "    </tr>\n",
       "    <tr>\n",
       "      <th>woman</th>\n",
       "      <td>1870000</td>\n",
       "      <td>30.273973</td>\n",
       "      <td>32.000000</td>\n",
       "      <td>False</td>\n",
       "    </tr>\n",
       "  </tbody>\n",
       "</table>\n",
       "</div>"
      ],
      "text/plain": [
       "             n    avg_age  max_avg_age_in_who  equal\n",
       "who                                                 \n",
       "child   770000   6.256494            6.369518  False\n",
       "man    4660000  32.500000           33.173123  False\n",
       "woman  1870000  30.273973           32.000000  False"
      ]
     },
     "execution_count": 37,
     "metadata": {},
     "output_type": "execute_result"
    }
   ],
   "source": [
    "df2.groupby([\"who\"], dropna=False).agg(\n",
    "    **{\n",
    "        \"n\": (\"who\", \"size\"),\n",
    "        \"avg_age\": (\"age\", \"mean\"),\n",
    "        \"max_avg_age_in_who\": (\"avg_age_in_who\", \"max\"),\n",
    "    }\n",
    ").assign(\n",
    "    equal=lambda x: np.where(\n",
    "        np.abs(x[\"avg_age\"] - x[\"max_avg_age_in_who\"]) < 0.01, True, False\n",
    "    )\n",
    ")"
   ]
  },
  {
   "cell_type": "code",
   "execution_count": 40,
   "id": "0bb6d639",
   "metadata": {},
   "outputs": [
    {
     "data": {
      "application/vnd.microsoft.datawrangler.viewer.v0+json": {
       "columns": [
        {
         "name": "index",
         "rawType": "int64",
         "type": "integer"
        },
        {
         "name": "id",
         "rawType": "int64",
         "type": "integer"
        },
        {
         "name": "who",
         "rawType": "object",
         "type": "string"
        },
        {
         "name": "fare",
         "rawType": "float64",
         "type": "float"
        },
        {
         "name": "cumcount_in_who_by_fare",
         "rawType": "int64",
         "type": "integer"
        }
       ],
       "ref": "d32deb10-64c8-4b9a-8007-087607081a3c",
       "rows": [
        [
         "116",
         "117",
         "child",
         "7.225",
         "1"
        ],
        [
         "331",
         "332",
         "child",
         "7.225",
         "2"
        ],
        [
         "1631",
         "1632",
         "child",
         "7.225",
         "3"
        ],
        [
         "2317",
         "2318",
         "child",
         "7.225",
         "4"
        ],
        [
         "2673",
         "2674",
         "child",
         "7.225",
         "5"
        ],
        [
         "3223",
         "3224",
         "child",
         "7.225",
         "6"
        ],
        [
         "6341",
         "6342",
         "child",
         "7.225",
         "7"
        ],
        [
         "7972",
         "7973",
         "child",
         "7.225",
         "8"
        ],
        [
         "8565",
         "8566",
         "child",
         "7.225",
         "9"
        ],
        [
         "10343",
         "10344",
         "child",
         "7.225",
         "10"
        ],
        [
         "14270",
         "14271",
         "child",
         "7.225",
         "11"
        ],
        [
         "15101",
         "15102",
         "child",
         "7.225",
         "12"
        ],
        [
         "16320",
         "16321",
         "child",
         "7.225",
         "13"
        ],
        [
         "17053",
         "17054",
         "child",
         "7.225",
         "14"
        ],
        [
         "19612",
         "19613",
         "child",
         "7.225",
         "15"
        ],
        [
         "19857",
         "19858",
         "child",
         "7.225",
         "16"
        ],
        [
         "21008",
         "21009",
         "child",
         "7.225",
         "17"
        ],
        [
         "21598",
         "21599",
         "child",
         "7.225",
         "18"
        ],
        [
         "21936",
         "21937",
         "child",
         "7.225",
         "19"
        ],
        [
         "21960",
         "21961",
         "child",
         "7.225",
         "20"
        ]
       ],
       "shape": {
        "columns": 4,
        "rows": 20
       }
      },
      "text/html": [
       "<div>\n",
       "<style scoped>\n",
       "    .dataframe tbody tr th:only-of-type {\n",
       "        vertical-align: middle;\n",
       "    }\n",
       "\n",
       "    .dataframe tbody tr th {\n",
       "        vertical-align: top;\n",
       "    }\n",
       "\n",
       "    .dataframe thead th {\n",
       "        text-align: right;\n",
       "    }\n",
       "</style>\n",
       "<table border=\"1\" class=\"dataframe\">\n",
       "  <thead>\n",
       "    <tr style=\"text-align: right;\">\n",
       "      <th></th>\n",
       "      <th>id</th>\n",
       "      <th>who</th>\n",
       "      <th>fare</th>\n",
       "      <th>cumcount_in_who_by_fare</th>\n",
       "    </tr>\n",
       "  </thead>\n",
       "  <tbody>\n",
       "    <tr>\n",
       "      <th>116</th>\n",
       "      <td>117</td>\n",
       "      <td>child</td>\n",
       "      <td>7.225</td>\n",
       "      <td>1</td>\n",
       "    </tr>\n",
       "    <tr>\n",
       "      <th>331</th>\n",
       "      <td>332</td>\n",
       "      <td>child</td>\n",
       "      <td>7.225</td>\n",
       "      <td>2</td>\n",
       "    </tr>\n",
       "    <tr>\n",
       "      <th>1631</th>\n",
       "      <td>1632</td>\n",
       "      <td>child</td>\n",
       "      <td>7.225</td>\n",
       "      <td>3</td>\n",
       "    </tr>\n",
       "    <tr>\n",
       "      <th>2317</th>\n",
       "      <td>2318</td>\n",
       "      <td>child</td>\n",
       "      <td>7.225</td>\n",
       "      <td>4</td>\n",
       "    </tr>\n",
       "    <tr>\n",
       "      <th>2673</th>\n",
       "      <td>2674</td>\n",
       "      <td>child</td>\n",
       "      <td>7.225</td>\n",
       "      <td>5</td>\n",
       "    </tr>\n",
       "    <tr>\n",
       "      <th>3223</th>\n",
       "      <td>3224</td>\n",
       "      <td>child</td>\n",
       "      <td>7.225</td>\n",
       "      <td>6</td>\n",
       "    </tr>\n",
       "    <tr>\n",
       "      <th>6341</th>\n",
       "      <td>6342</td>\n",
       "      <td>child</td>\n",
       "      <td>7.225</td>\n",
       "      <td>7</td>\n",
       "    </tr>\n",
       "    <tr>\n",
       "      <th>7972</th>\n",
       "      <td>7973</td>\n",
       "      <td>child</td>\n",
       "      <td>7.225</td>\n",
       "      <td>8</td>\n",
       "    </tr>\n",
       "    <tr>\n",
       "      <th>8565</th>\n",
       "      <td>8566</td>\n",
       "      <td>child</td>\n",
       "      <td>7.225</td>\n",
       "      <td>9</td>\n",
       "    </tr>\n",
       "    <tr>\n",
       "      <th>10343</th>\n",
       "      <td>10344</td>\n",
       "      <td>child</td>\n",
       "      <td>7.225</td>\n",
       "      <td>10</td>\n",
       "    </tr>\n",
       "    <tr>\n",
       "      <th>14270</th>\n",
       "      <td>14271</td>\n",
       "      <td>child</td>\n",
       "      <td>7.225</td>\n",
       "      <td>11</td>\n",
       "    </tr>\n",
       "    <tr>\n",
       "      <th>15101</th>\n",
       "      <td>15102</td>\n",
       "      <td>child</td>\n",
       "      <td>7.225</td>\n",
       "      <td>12</td>\n",
       "    </tr>\n",
       "    <tr>\n",
       "      <th>16320</th>\n",
       "      <td>16321</td>\n",
       "      <td>child</td>\n",
       "      <td>7.225</td>\n",
       "      <td>13</td>\n",
       "    </tr>\n",
       "    <tr>\n",
       "      <th>17053</th>\n",
       "      <td>17054</td>\n",
       "      <td>child</td>\n",
       "      <td>7.225</td>\n",
       "      <td>14</td>\n",
       "    </tr>\n",
       "    <tr>\n",
       "      <th>19612</th>\n",
       "      <td>19613</td>\n",
       "      <td>child</td>\n",
       "      <td>7.225</td>\n",
       "      <td>15</td>\n",
       "    </tr>\n",
       "    <tr>\n",
       "      <th>19857</th>\n",
       "      <td>19858</td>\n",
       "      <td>child</td>\n",
       "      <td>7.225</td>\n",
       "      <td>16</td>\n",
       "    </tr>\n",
       "    <tr>\n",
       "      <th>21008</th>\n",
       "      <td>21009</td>\n",
       "      <td>child</td>\n",
       "      <td>7.225</td>\n",
       "      <td>17</td>\n",
       "    </tr>\n",
       "    <tr>\n",
       "      <th>21598</th>\n",
       "      <td>21599</td>\n",
       "      <td>child</td>\n",
       "      <td>7.225</td>\n",
       "      <td>18</td>\n",
       "    </tr>\n",
       "    <tr>\n",
       "      <th>21936</th>\n",
       "      <td>21937</td>\n",
       "      <td>child</td>\n",
       "      <td>7.225</td>\n",
       "      <td>19</td>\n",
       "    </tr>\n",
       "    <tr>\n",
       "      <th>21960</th>\n",
       "      <td>21961</td>\n",
       "      <td>child</td>\n",
       "      <td>7.225</td>\n",
       "      <td>20</td>\n",
       "    </tr>\n",
       "  </tbody>\n",
       "</table>\n",
       "</div>"
      ],
      "text/plain": [
       "          id    who   fare  cumcount_in_who_by_fare\n",
       "116      117  child  7.225                        1\n",
       "331      332  child  7.225                        2\n",
       "1631    1632  child  7.225                        3\n",
       "2317    2318  child  7.225                        4\n",
       "2673    2674  child  7.225                        5\n",
       "3223    3224  child  7.225                        6\n",
       "6341    6342  child  7.225                        7\n",
       "7972    7973  child  7.225                        8\n",
       "8565    8566  child  7.225                        9\n",
       "10343  10344  child  7.225                       10\n",
       "14270  14271  child  7.225                       11\n",
       "15101  15102  child  7.225                       12\n",
       "16320  16321  child  7.225                       13\n",
       "17053  17054  child  7.225                       14\n",
       "19612  19613  child  7.225                       15\n",
       "19857  19858  child  7.225                       16\n",
       "21008  21009  child  7.225                       17\n",
       "21598  21599  child  7.225                       18\n",
       "21936  21937  child  7.225                       19\n",
       "21960  21961  child  7.225                       20"
      ]
     },
     "execution_count": 40,
     "metadata": {},
     "output_type": "execute_result"
    }
   ],
   "source": [
    "df2.loc[\n",
    "    lambda x: x[\"who\"] == \"child\", [\"id\", \"who\", \"fare\", \"cumcount_in_who_by_fare\"]\n",
    "].sort_values([\"fare\", \"id\"]).head(20)"
   ]
  },
  {
   "cell_type": "code",
   "execution_count": 41,
   "id": "e2f65aeb",
   "metadata": {},
   "outputs": [
    {
     "data": {
      "application/vnd.microsoft.datawrangler.viewer.v0+json": {
       "columns": [
        {
         "name": "index",
         "rawType": "int64",
         "type": "integer"
        },
        {
         "name": "id",
         "rawType": "int64",
         "type": "integer"
        },
        {
         "name": "who",
         "rawType": "object",
         "type": "string"
        },
        {
         "name": "fare",
         "rawType": "float64",
         "type": "float"
        },
        {
         "name": "cumcount_in_who_by_fare",
         "rawType": "int64",
         "type": "integer"
        }
       ],
       "ref": "faa3153c-9f87-4b4a-976f-9ca2a9e69311",
       "rows": [
        [
         "227",
         "228",
         "man",
         "0.0",
         "1"
        ],
        [
         "252",
         "253",
         "man",
         "0.0",
         "2"
        ],
        [
         "309",
         "310",
         "man",
         "0.0",
         "3"
        ],
        [
         "324",
         "325",
         "man",
         "0.0",
         "4"
        ],
        [
         "344",
         "345",
         "man",
         "0.0",
         "5"
        ],
        [
         "352",
         "353",
         "man",
         "0.0",
         "6"
        ],
        [
         "556",
         "557",
         "man",
         "0.0",
         "7"
        ],
        [
         "565",
         "566",
         "man",
         "0.0",
         "8"
        ],
        [
         "603",
         "604",
         "man",
         "0.0",
         "9"
        ],
        [
         "664",
         "665",
         "man",
         "0.0",
         "10"
        ],
        [
         "692",
         "693",
         "man",
         "0.0",
         "11"
        ],
        [
         "717",
         "718",
         "man",
         "0.0",
         "12"
        ],
        [
         "718",
         "719",
         "man",
         "0.0",
         "13"
        ],
        [
         "755",
         "756",
         "man",
         "0.0",
         "14"
        ],
        [
         "896",
         "897",
         "man",
         "0.0",
         "15"
        ],
        [
         "995",
         "996",
         "man",
         "0.0",
         "16"
        ],
        [
         "1002",
         "1003",
         "man",
         "0.0",
         "17"
        ],
        [
         "1008",
         "1009",
         "man",
         "0.0",
         "18"
        ],
        [
         "1058",
         "1059",
         "man",
         "0.0",
         "19"
        ],
        [
         "1136",
         "1137",
         "man",
         "0.0",
         "20"
        ]
       ],
       "shape": {
        "columns": 4,
        "rows": 20
       }
      },
      "text/html": [
       "<div>\n",
       "<style scoped>\n",
       "    .dataframe tbody tr th:only-of-type {\n",
       "        vertical-align: middle;\n",
       "    }\n",
       "\n",
       "    .dataframe tbody tr th {\n",
       "        vertical-align: top;\n",
       "    }\n",
       "\n",
       "    .dataframe thead th {\n",
       "        text-align: right;\n",
       "    }\n",
       "</style>\n",
       "<table border=\"1\" class=\"dataframe\">\n",
       "  <thead>\n",
       "    <tr style=\"text-align: right;\">\n",
       "      <th></th>\n",
       "      <th>id</th>\n",
       "      <th>who</th>\n",
       "      <th>fare</th>\n",
       "      <th>cumcount_in_who_by_fare</th>\n",
       "    </tr>\n",
       "  </thead>\n",
       "  <tbody>\n",
       "    <tr>\n",
       "      <th>227</th>\n",
       "      <td>228</td>\n",
       "      <td>man</td>\n",
       "      <td>0.0</td>\n",
       "      <td>1</td>\n",
       "    </tr>\n",
       "    <tr>\n",
       "      <th>252</th>\n",
       "      <td>253</td>\n",
       "      <td>man</td>\n",
       "      <td>0.0</td>\n",
       "      <td>2</td>\n",
       "    </tr>\n",
       "    <tr>\n",
       "      <th>309</th>\n",
       "      <td>310</td>\n",
       "      <td>man</td>\n",
       "      <td>0.0</td>\n",
       "      <td>3</td>\n",
       "    </tr>\n",
       "    <tr>\n",
       "      <th>324</th>\n",
       "      <td>325</td>\n",
       "      <td>man</td>\n",
       "      <td>0.0</td>\n",
       "      <td>4</td>\n",
       "    </tr>\n",
       "    <tr>\n",
       "      <th>344</th>\n",
       "      <td>345</td>\n",
       "      <td>man</td>\n",
       "      <td>0.0</td>\n",
       "      <td>5</td>\n",
       "    </tr>\n",
       "    <tr>\n",
       "      <th>352</th>\n",
       "      <td>353</td>\n",
       "      <td>man</td>\n",
       "      <td>0.0</td>\n",
       "      <td>6</td>\n",
       "    </tr>\n",
       "    <tr>\n",
       "      <th>556</th>\n",
       "      <td>557</td>\n",
       "      <td>man</td>\n",
       "      <td>0.0</td>\n",
       "      <td>7</td>\n",
       "    </tr>\n",
       "    <tr>\n",
       "      <th>565</th>\n",
       "      <td>566</td>\n",
       "      <td>man</td>\n",
       "      <td>0.0</td>\n",
       "      <td>8</td>\n",
       "    </tr>\n",
       "    <tr>\n",
       "      <th>603</th>\n",
       "      <td>604</td>\n",
       "      <td>man</td>\n",
       "      <td>0.0</td>\n",
       "      <td>9</td>\n",
       "    </tr>\n",
       "    <tr>\n",
       "      <th>664</th>\n",
       "      <td>665</td>\n",
       "      <td>man</td>\n",
       "      <td>0.0</td>\n",
       "      <td>10</td>\n",
       "    </tr>\n",
       "    <tr>\n",
       "      <th>692</th>\n",
       "      <td>693</td>\n",
       "      <td>man</td>\n",
       "      <td>0.0</td>\n",
       "      <td>11</td>\n",
       "    </tr>\n",
       "    <tr>\n",
       "      <th>717</th>\n",
       "      <td>718</td>\n",
       "      <td>man</td>\n",
       "      <td>0.0</td>\n",
       "      <td>12</td>\n",
       "    </tr>\n",
       "    <tr>\n",
       "      <th>718</th>\n",
       "      <td>719</td>\n",
       "      <td>man</td>\n",
       "      <td>0.0</td>\n",
       "      <td>13</td>\n",
       "    </tr>\n",
       "    <tr>\n",
       "      <th>755</th>\n",
       "      <td>756</td>\n",
       "      <td>man</td>\n",
       "      <td>0.0</td>\n",
       "      <td>14</td>\n",
       "    </tr>\n",
       "    <tr>\n",
       "      <th>896</th>\n",
       "      <td>897</td>\n",
       "      <td>man</td>\n",
       "      <td>0.0</td>\n",
       "      <td>15</td>\n",
       "    </tr>\n",
       "    <tr>\n",
       "      <th>995</th>\n",
       "      <td>996</td>\n",
       "      <td>man</td>\n",
       "      <td>0.0</td>\n",
       "      <td>16</td>\n",
       "    </tr>\n",
       "    <tr>\n",
       "      <th>1002</th>\n",
       "      <td>1003</td>\n",
       "      <td>man</td>\n",
       "      <td>0.0</td>\n",
       "      <td>17</td>\n",
       "    </tr>\n",
       "    <tr>\n",
       "      <th>1008</th>\n",
       "      <td>1009</td>\n",
       "      <td>man</td>\n",
       "      <td>0.0</td>\n",
       "      <td>18</td>\n",
       "    </tr>\n",
       "    <tr>\n",
       "      <th>1058</th>\n",
       "      <td>1059</td>\n",
       "      <td>man</td>\n",
       "      <td>0.0</td>\n",
       "      <td>19</td>\n",
       "    </tr>\n",
       "    <tr>\n",
       "      <th>1136</th>\n",
       "      <td>1137</td>\n",
       "      <td>man</td>\n",
       "      <td>0.0</td>\n",
       "      <td>20</td>\n",
       "    </tr>\n",
       "  </tbody>\n",
       "</table>\n",
       "</div>"
      ],
      "text/plain": [
       "        id  who  fare  cumcount_in_who_by_fare\n",
       "227    228  man   0.0                        1\n",
       "252    253  man   0.0                        2\n",
       "309    310  man   0.0                        3\n",
       "324    325  man   0.0                        4\n",
       "344    345  man   0.0                        5\n",
       "352    353  man   0.0                        6\n",
       "556    557  man   0.0                        7\n",
       "565    566  man   0.0                        8\n",
       "603    604  man   0.0                        9\n",
       "664    665  man   0.0                       10\n",
       "692    693  man   0.0                       11\n",
       "717    718  man   0.0                       12\n",
       "718    719  man   0.0                       13\n",
       "755    756  man   0.0                       14\n",
       "896    897  man   0.0                       15\n",
       "995    996  man   0.0                       16\n",
       "1002  1003  man   0.0                       17\n",
       "1008  1009  man   0.0                       18\n",
       "1058  1059  man   0.0                       19\n",
       "1136  1137  man   0.0                       20"
      ]
     },
     "execution_count": 41,
     "metadata": {},
     "output_type": "execute_result"
    }
   ],
   "source": [
    "df2.loc[\n",
    "    lambda x: x[\"who\"] == \"man\", [\"id\", \"who\", \"fare\", \"cumcount_in_who_by_fare\"]\n",
    "].sort_values([\"fare\", \"id\"]).head(20)"
   ]
  },
  {
   "cell_type": "code",
   "execution_count": 43,
   "id": "2cc60954",
   "metadata": {},
   "outputs": [
    {
     "data": {
      "application/vnd.microsoft.datawrangler.viewer.v0+json": {
       "columns": [
        {
         "name": "index",
         "rawType": "int64",
         "type": "integer"
        },
        {
         "name": "fare",
         "rawType": "float64",
         "type": "float"
        },
        {
         "name": "fare_bin",
         "rawType": "object",
         "type": "string"
        },
        {
         "name": "fare_adj",
         "rawType": "float64",
         "type": "float"
        },
        {
         "name": "fare_adj_bin",
         "rawType": "object",
         "type": "string"
        }
       ],
       "ref": "47b5553c-12d0-47b2-b937-7c61fbd0ee10",
       "rows": [
        [
         "2",
         "7.925",
         "[0,10)",
         "13.163442690503462",
         "[10,20)"
        ],
        [
         "6",
         "13.0",
         "[10,20)",
         "22.896064077536955",
         "[20,30)"
        ],
        [
         "7",
         "18.0",
         "[10,20)",
         "23.837173645764544",
         "[20,30)"
        ],
        [
         "9",
         "7.8958",
         "[0,10)",
         "12.608600217929823",
         "[10,20)"
        ],
        [
         "24",
         "30.0708",
         "[30,100)",
         "29.348886377374086",
         "[20,30)"
        ],
        [
         "27",
         "9.825",
         "[0,10)",
         "13.703490091728359",
         "[10,20)"
        ],
        [
         "31",
         "7.2292",
         "[0,10)",
         "18.490590922544687",
         "[10,20)"
        ],
        [
         "34",
         "27.0",
         "[20,30)",
         "33.11272456051594",
         "[30,100)"
        ],
        [
         "36",
         "7.925",
         "[0,10)",
         "10.969317975023777",
         "[10,20)"
        ],
        [
         "39",
         "7.125",
         "[0,10)",
         "10.109306179345618",
         "[10,20)"
        ],
        [
         "40",
         "7.8958",
         "[0,10)",
         "13.588132899977053",
         "[10,20)"
        ],
        [
         "50",
         "7.25",
         "[0,10)",
         "10.870419846973975",
         "[10,20)"
        ],
        [
         "53",
         "6.8583",
         "[0,10)",
         "11.91668144420434",
         "[10,20)"
        ],
        [
         "59",
         "15.5",
         "[10,20)",
         "22.377725635611796",
         "[20,30)"
        ],
        [
         "67",
         "9.4833",
         "[0,10)",
         "16.50096448946012",
         "[10,20)"
        ],
        [
         "69",
         "30.5",
         "[30,100)",
         "29.27440122697438",
         "[20,30)"
        ],
        [
         "71",
         "13.0",
         "[10,20)",
         "22.690182832329846",
         "[20,30)"
        ],
        [
         "73",
         "19.2583",
         "[10,20)",
         "29.08151827907003",
         "[20,30)"
        ],
        [
         "75",
         "26.55",
         "[20,30)",
         "32.65951252187612",
         "[30,100)"
        ],
        [
         "86",
         "7.775",
         "[0,10)",
         "14.352010588510371",
         "[10,20)"
        ]
       ],
       "shape": {
        "columns": 4,
        "rows": 20
       }
      },
      "text/html": [
       "<div>\n",
       "<style scoped>\n",
       "    .dataframe tbody tr th:only-of-type {\n",
       "        vertical-align: middle;\n",
       "    }\n",
       "\n",
       "    .dataframe tbody tr th {\n",
       "        vertical-align: top;\n",
       "    }\n",
       "\n",
       "    .dataframe thead th {\n",
       "        text-align: right;\n",
       "    }\n",
       "</style>\n",
       "<table border=\"1\" class=\"dataframe\">\n",
       "  <thead>\n",
       "    <tr style=\"text-align: right;\">\n",
       "      <th></th>\n",
       "      <th>fare</th>\n",
       "      <th>fare_bin</th>\n",
       "      <th>fare_adj</th>\n",
       "      <th>fare_adj_bin</th>\n",
       "    </tr>\n",
       "  </thead>\n",
       "  <tbody>\n",
       "    <tr>\n",
       "      <th>2</th>\n",
       "      <td>7.9250</td>\n",
       "      <td>[0,10)</td>\n",
       "      <td>13.163443</td>\n",
       "      <td>[10,20)</td>\n",
       "    </tr>\n",
       "    <tr>\n",
       "      <th>6</th>\n",
       "      <td>13.0000</td>\n",
       "      <td>[10,20)</td>\n",
       "      <td>22.896064</td>\n",
       "      <td>[20,30)</td>\n",
       "    </tr>\n",
       "    <tr>\n",
       "      <th>7</th>\n",
       "      <td>18.0000</td>\n",
       "      <td>[10,20)</td>\n",
       "      <td>23.837174</td>\n",
       "      <td>[20,30)</td>\n",
       "    </tr>\n",
       "    <tr>\n",
       "      <th>9</th>\n",
       "      <td>7.8958</td>\n",
       "      <td>[0,10)</td>\n",
       "      <td>12.608600</td>\n",
       "      <td>[10,20)</td>\n",
       "    </tr>\n",
       "    <tr>\n",
       "      <th>24</th>\n",
       "      <td>30.0708</td>\n",
       "      <td>[30,100)</td>\n",
       "      <td>29.348886</td>\n",
       "      <td>[20,30)</td>\n",
       "    </tr>\n",
       "    <tr>\n",
       "      <th>27</th>\n",
       "      <td>9.8250</td>\n",
       "      <td>[0,10)</td>\n",
       "      <td>13.703490</td>\n",
       "      <td>[10,20)</td>\n",
       "    </tr>\n",
       "    <tr>\n",
       "      <th>31</th>\n",
       "      <td>7.2292</td>\n",
       "      <td>[0,10)</td>\n",
       "      <td>18.490591</td>\n",
       "      <td>[10,20)</td>\n",
       "    </tr>\n",
       "    <tr>\n",
       "      <th>34</th>\n",
       "      <td>27.0000</td>\n",
       "      <td>[20,30)</td>\n",
       "      <td>33.112725</td>\n",
       "      <td>[30,100)</td>\n",
       "    </tr>\n",
       "    <tr>\n",
       "      <th>36</th>\n",
       "      <td>7.9250</td>\n",
       "      <td>[0,10)</td>\n",
       "      <td>10.969318</td>\n",
       "      <td>[10,20)</td>\n",
       "    </tr>\n",
       "    <tr>\n",
       "      <th>39</th>\n",
       "      <td>7.1250</td>\n",
       "      <td>[0,10)</td>\n",
       "      <td>10.109306</td>\n",
       "      <td>[10,20)</td>\n",
       "    </tr>\n",
       "    <tr>\n",
       "      <th>40</th>\n",
       "      <td>7.8958</td>\n",
       "      <td>[0,10)</td>\n",
       "      <td>13.588133</td>\n",
       "      <td>[10,20)</td>\n",
       "    </tr>\n",
       "    <tr>\n",
       "      <th>50</th>\n",
       "      <td>7.2500</td>\n",
       "      <td>[0,10)</td>\n",
       "      <td>10.870420</td>\n",
       "      <td>[10,20)</td>\n",
       "    </tr>\n",
       "    <tr>\n",
       "      <th>53</th>\n",
       "      <td>6.8583</td>\n",
       "      <td>[0,10)</td>\n",
       "      <td>11.916681</td>\n",
       "      <td>[10,20)</td>\n",
       "    </tr>\n",
       "    <tr>\n",
       "      <th>59</th>\n",
       "      <td>15.5000</td>\n",
       "      <td>[10,20)</td>\n",
       "      <td>22.377726</td>\n",
       "      <td>[20,30)</td>\n",
       "    </tr>\n",
       "    <tr>\n",
       "      <th>67</th>\n",
       "      <td>9.4833</td>\n",
       "      <td>[0,10)</td>\n",
       "      <td>16.500964</td>\n",
       "      <td>[10,20)</td>\n",
       "    </tr>\n",
       "    <tr>\n",
       "      <th>69</th>\n",
       "      <td>30.5000</td>\n",
       "      <td>[30,100)</td>\n",
       "      <td>29.274401</td>\n",
       "      <td>[20,30)</td>\n",
       "    </tr>\n",
       "    <tr>\n",
       "      <th>71</th>\n",
       "      <td>13.0000</td>\n",
       "      <td>[10,20)</td>\n",
       "      <td>22.690183</td>\n",
       "      <td>[20,30)</td>\n",
       "    </tr>\n",
       "    <tr>\n",
       "      <th>73</th>\n",
       "      <td>19.2583</td>\n",
       "      <td>[10,20)</td>\n",
       "      <td>29.081518</td>\n",
       "      <td>[20,30)</td>\n",
       "    </tr>\n",
       "    <tr>\n",
       "      <th>75</th>\n",
       "      <td>26.5500</td>\n",
       "      <td>[20,30)</td>\n",
       "      <td>32.659513</td>\n",
       "      <td>[30,100)</td>\n",
       "    </tr>\n",
       "    <tr>\n",
       "      <th>86</th>\n",
       "      <td>7.7750</td>\n",
       "      <td>[0,10)</td>\n",
       "      <td>14.352011</td>\n",
       "      <td>[10,20)</td>\n",
       "    </tr>\n",
       "  </tbody>\n",
       "</table>\n",
       "</div>"
      ],
      "text/plain": [
       "       fare  fare_bin   fare_adj fare_adj_bin\n",
       "2    7.9250    [0,10)  13.163443      [10,20)\n",
       "6   13.0000   [10,20)  22.896064      [20,30)\n",
       "7   18.0000   [10,20)  23.837174      [20,30)\n",
       "9    7.8958    [0,10)  12.608600      [10,20)\n",
       "24  30.0708  [30,100)  29.348886      [20,30)\n",
       "27   9.8250    [0,10)  13.703490      [10,20)\n",
       "31   7.2292    [0,10)  18.490591      [10,20)\n",
       "34  27.0000   [20,30)  33.112725     [30,100)\n",
       "36   7.9250    [0,10)  10.969318      [10,20)\n",
       "39   7.1250    [0,10)  10.109306      [10,20)\n",
       "40   7.8958    [0,10)  13.588133      [10,20)\n",
       "50   7.2500    [0,10)  10.870420      [10,20)\n",
       "53   6.8583    [0,10)  11.916681      [10,20)\n",
       "59  15.5000   [10,20)  22.377726      [20,30)\n",
       "67   9.4833    [0,10)  16.500964      [10,20)\n",
       "69  30.5000  [30,100)  29.274401      [20,30)\n",
       "71  13.0000   [10,20)  22.690183      [20,30)\n",
       "73  19.2583   [10,20)  29.081518      [20,30)\n",
       "75  26.5500   [20,30)  32.659513     [30,100)\n",
       "86   7.7750    [0,10)  14.352011      [10,20)"
      ]
     },
     "execution_count": 43,
     "metadata": {},
     "output_type": "execute_result"
    }
   ],
   "source": [
    "df2.loc[\n",
    "    lambda x: x[\"fare_bin\"] != x[\"fare_adj_bin\"],\n",
    "    [\"fare\", \"fare_bin\", \"fare_adj\", \"fare_adj_bin\"],\n",
    "].head(20)"
   ]
  },
  {
   "cell_type": "code",
   "execution_count": 44,
   "id": "e55a6c95",
   "metadata": {},
   "outputs": [
    {
     "name": "stdout",
     "output_type": "stream",
     "text": [
      "        id    who   fare   age  cumcount_in_who_by_fare  age_of_lowest_fare_in_who\n",
      "116    117  child  7.225  15.0                        1                       15.0\n",
      "227    228    man  0.000   NaN                        1                       36.0\n",
      "2194  2195  woman  6.750  18.0                        1                       18.0\n"
     ]
    }
   ],
   "source": [
    "_ = df2.loc[\n",
    "    lambda x: x[\"cumcount_in_who_by_fare\"] == 1,\n",
    "    [\n",
    "        \"id\",\n",
    "        \"who\",\n",
    "        \"fare\",\n",
    "        \"age\",\n",
    "        \"cumcount_in_who_by_fare\",\n",
    "        \"age_of_lowest_fare_in_who\",\n",
    "    ],\n",
    "]\n",
    "print(_.head().to_string())"
   ]
  },
  {
   "cell_type": "code",
   "execution_count": null,
   "id": "7bc70b80",
   "metadata": {},
   "outputs": [],
   "source": []
  },
  {
   "cell_type": "code",
   "execution_count": null,
   "id": "9c7d7c12",
   "metadata": {},
   "outputs": [],
   "source": []
  }
 ],
 "metadata": {
  "kernelspec": {
   "display_name": "Python 3",
   "language": "python",
   "name": "python3"
  },
  "language_info": {
   "codemirror_mode": {
    "name": "ipython",
    "version": 3
   },
   "file_extension": ".py",
   "mimetype": "text/x-python",
   "name": "python",
   "nbconvert_exporter": "python",
   "pygments_lexer": "ipython3",
   "version": "3.13.2"
  }
 },
 "nbformat": 4,
 "nbformat_minor": 5
}
