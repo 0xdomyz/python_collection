{
 "cells": [
  {
   "cell_type": "code",
   "execution_count": 1,
   "metadata": {},
   "outputs": [],
   "source": [
    "import pandas as pd"
   ]
  },
  {
   "cell_type": "code",
   "execution_count": 138,
   "metadata": {},
   "outputs": [
    {
     "data": {
      "text/plain": [
       "(891, 15)"
      ]
     },
     "execution_count": 138,
     "metadata": {},
     "output_type": "execute_result"
    }
   ],
   "source": [
    "df = pd.read_csv(\"titanic.csv\")\n",
    "df.shape"
   ]
  },
  {
   "cell_type": "code",
   "execution_count": 139,
   "metadata": {},
   "outputs": [
    {
     "data": {
      "application/vnd.microsoft.datawrangler.viewer.v0+json": {
       "columns": [
        {
         "name": "index",
         "rawType": "object",
         "type": "string"
        },
        {
         "name": "0",
         "rawType": "object",
         "type": "unknown"
        },
        {
         "name": "1",
         "rawType": "object",
         "type": "unknown"
        },
        {
         "name": "2",
         "rawType": "object",
         "type": "unknown"
        },
        {
         "name": "3",
         "rawType": "object",
         "type": "unknown"
        },
        {
         "name": "4",
         "rawType": "object",
         "type": "unknown"
        }
       ],
       "ref": "51e37e43-edae-4314-bdb9-f1159e0b21ca",
       "rows": [
        [
         "survived",
         "0",
         "1",
         "1",
         "1",
         "0"
        ],
        [
         "pclass",
         "3",
         "1",
         "3",
         "1",
         "3"
        ],
        [
         "sex",
         "male",
         "female",
         "female",
         "female",
         "male"
        ],
        [
         "age",
         "22.0",
         "38.0",
         "26.0",
         "35.0",
         "35.0"
        ],
        [
         "sibsp",
         "1",
         "1",
         "0",
         "1",
         "0"
        ],
        [
         "parch",
         "0",
         "0",
         "0",
         "0",
         "0"
        ],
        [
         "fare",
         "7.25",
         "71.2833",
         "7.925",
         "53.1",
         "8.05"
        ],
        [
         "embarked",
         "S",
         "C",
         "S",
         "S",
         "S"
        ],
        [
         "class",
         "Third",
         "First",
         "Third",
         "First",
         "Third"
        ],
        [
         "who",
         "man",
         "woman",
         "woman",
         "woman",
         "man"
        ],
        [
         "adult_male",
         "True",
         "False",
         "False",
         "False",
         "True"
        ],
        [
         "deck",
         null,
         "C",
         null,
         "C",
         null
        ],
        [
         "embark_town",
         "Southampton",
         "Cherbourg",
         "Southampton",
         "Southampton",
         "Southampton"
        ],
        [
         "alive",
         "no",
         "yes",
         "yes",
         "yes",
         "no"
        ],
        [
         "alone",
         "False",
         "False",
         "True",
         "False",
         "True"
        ]
       ],
       "shape": {
        "columns": 5,
        "rows": 15
       }
      },
      "text/html": [
       "<div>\n",
       "<style scoped>\n",
       "    .dataframe tbody tr th:only-of-type {\n",
       "        vertical-align: middle;\n",
       "    }\n",
       "\n",
       "    .dataframe tbody tr th {\n",
       "        vertical-align: top;\n",
       "    }\n",
       "\n",
       "    .dataframe thead th {\n",
       "        text-align: right;\n",
       "    }\n",
       "</style>\n",
       "<table border=\"1\" class=\"dataframe\">\n",
       "  <thead>\n",
       "    <tr style=\"text-align: right;\">\n",
       "      <th></th>\n",
       "      <th>0</th>\n",
       "      <th>1</th>\n",
       "      <th>2</th>\n",
       "      <th>3</th>\n",
       "      <th>4</th>\n",
       "    </tr>\n",
       "  </thead>\n",
       "  <tbody>\n",
       "    <tr>\n",
       "      <th>survived</th>\n",
       "      <td>0</td>\n",
       "      <td>1</td>\n",
       "      <td>1</td>\n",
       "      <td>1</td>\n",
       "      <td>0</td>\n",
       "    </tr>\n",
       "    <tr>\n",
       "      <th>pclass</th>\n",
       "      <td>3</td>\n",
       "      <td>1</td>\n",
       "      <td>3</td>\n",
       "      <td>1</td>\n",
       "      <td>3</td>\n",
       "    </tr>\n",
       "    <tr>\n",
       "      <th>sex</th>\n",
       "      <td>male</td>\n",
       "      <td>female</td>\n",
       "      <td>female</td>\n",
       "      <td>female</td>\n",
       "      <td>male</td>\n",
       "    </tr>\n",
       "    <tr>\n",
       "      <th>age</th>\n",
       "      <td>22.0</td>\n",
       "      <td>38.0</td>\n",
       "      <td>26.0</td>\n",
       "      <td>35.0</td>\n",
       "      <td>35.0</td>\n",
       "    </tr>\n",
       "    <tr>\n",
       "      <th>sibsp</th>\n",
       "      <td>1</td>\n",
       "      <td>1</td>\n",
       "      <td>0</td>\n",
       "      <td>1</td>\n",
       "      <td>0</td>\n",
       "    </tr>\n",
       "    <tr>\n",
       "      <th>parch</th>\n",
       "      <td>0</td>\n",
       "      <td>0</td>\n",
       "      <td>0</td>\n",
       "      <td>0</td>\n",
       "      <td>0</td>\n",
       "    </tr>\n",
       "    <tr>\n",
       "      <th>fare</th>\n",
       "      <td>7.25</td>\n",
       "      <td>71.2833</td>\n",
       "      <td>7.925</td>\n",
       "      <td>53.1</td>\n",
       "      <td>8.05</td>\n",
       "    </tr>\n",
       "    <tr>\n",
       "      <th>embarked</th>\n",
       "      <td>S</td>\n",
       "      <td>C</td>\n",
       "      <td>S</td>\n",
       "      <td>S</td>\n",
       "      <td>S</td>\n",
       "    </tr>\n",
       "    <tr>\n",
       "      <th>class</th>\n",
       "      <td>Third</td>\n",
       "      <td>First</td>\n",
       "      <td>Third</td>\n",
       "      <td>First</td>\n",
       "      <td>Third</td>\n",
       "    </tr>\n",
       "    <tr>\n",
       "      <th>who</th>\n",
       "      <td>man</td>\n",
       "      <td>woman</td>\n",
       "      <td>woman</td>\n",
       "      <td>woman</td>\n",
       "      <td>man</td>\n",
       "    </tr>\n",
       "    <tr>\n",
       "      <th>adult_male</th>\n",
       "      <td>True</td>\n",
       "      <td>False</td>\n",
       "      <td>False</td>\n",
       "      <td>False</td>\n",
       "      <td>True</td>\n",
       "    </tr>\n",
       "    <tr>\n",
       "      <th>deck</th>\n",
       "      <td>NaN</td>\n",
       "      <td>C</td>\n",
       "      <td>NaN</td>\n",
       "      <td>C</td>\n",
       "      <td>NaN</td>\n",
       "    </tr>\n",
       "    <tr>\n",
       "      <th>embark_town</th>\n",
       "      <td>Southampton</td>\n",
       "      <td>Cherbourg</td>\n",
       "      <td>Southampton</td>\n",
       "      <td>Southampton</td>\n",
       "      <td>Southampton</td>\n",
       "    </tr>\n",
       "    <tr>\n",
       "      <th>alive</th>\n",
       "      <td>no</td>\n",
       "      <td>yes</td>\n",
       "      <td>yes</td>\n",
       "      <td>yes</td>\n",
       "      <td>no</td>\n",
       "    </tr>\n",
       "    <tr>\n",
       "      <th>alone</th>\n",
       "      <td>False</td>\n",
       "      <td>False</td>\n",
       "      <td>True</td>\n",
       "      <td>False</td>\n",
       "      <td>True</td>\n",
       "    </tr>\n",
       "  </tbody>\n",
       "</table>\n",
       "</div>"
      ],
      "text/plain": [
       "                       0          1            2            3            4\n",
       "survived               0          1            1            1            0\n",
       "pclass                 3          1            3            1            3\n",
       "sex                 male     female       female       female         male\n",
       "age                 22.0       38.0         26.0         35.0         35.0\n",
       "sibsp                  1          1            0            1            0\n",
       "parch                  0          0            0            0            0\n",
       "fare                7.25    71.2833        7.925         53.1         8.05\n",
       "embarked               S          C            S            S            S\n",
       "class              Third      First        Third        First        Third\n",
       "who                  man      woman        woman        woman          man\n",
       "adult_male          True      False        False        False         True\n",
       "deck                 NaN          C          NaN            C          NaN\n",
       "embark_town  Southampton  Cherbourg  Southampton  Southampton  Southampton\n",
       "alive                 no        yes          yes          yes           no\n",
       "alone              False      False         True        False         True"
      ]
     },
     "execution_count": 139,
     "metadata": {},
     "output_type": "execute_result"
    }
   ],
   "source": [
    "df.head().T"
   ]
  },
  {
   "cell_type": "code",
   "execution_count": 140,
   "metadata": {},
   "outputs": [
    {
     "data": {
      "application/vnd.microsoft.datawrangler.viewer.v0+json": {
       "columns": [
        {
         "name": "('sex', 'age')",
         "rawType": "object",
         "type": "unknown"
        },
        {
         "name": "('survived', 'size')",
         "rawType": "int64",
         "type": "integer"
        },
        {
         "name": "('survived', 'mean')",
         "rawType": "float64",
         "type": "float"
        },
        {
         "name": "('fare', 'mean')",
         "rawType": "float64",
         "type": "float"
        },
        {
         "name": "('embarked', 'first')",
         "rawType": "object",
         "type": "unknown"
        },
        {
         "name": "('embarked', 'last')",
         "rawType": "object",
         "type": "unknown"
        },
        {
         "name": "('embarked', 'nunique')",
         "rawType": "int64",
         "type": "integer"
        }
       ],
       "ref": "80b92e53-650c-417d-a357-36e01a7d6f9d",
       "rows": [
        [
         "('female', np.float64(0.75))",
         "2",
         "1.0",
         "19.2583",
         "C",
         "C",
         "1"
        ],
        [
         "('female', np.float64(1.0))",
         "2",
         "1.0",
         "13.4375",
         "S",
         "C",
         "2"
        ],
        [
         "('female', np.float64(2.0))",
         "6",
         "0.3333333333333333",
         "43.24583333333334",
         "S",
         "S",
         "1"
        ],
        [
         "('female', np.float64(3.0))",
         "2",
         "0.5",
         "31.3271",
         "C",
         "S",
         "2"
        ],
        [
         "('female', np.float64(4.0))",
         "5",
         "1.0",
         "22.828339999999997",
         "S",
         "S",
         "2"
        ],
        [
         "('female', np.float64(5.0))",
         "4",
         "1.0",
         "22.7177",
         "S",
         "S",
         "2"
        ],
        [
         "('female', np.float64(6.0))",
         "2",
         "0.5",
         "32.1375",
         "S",
         "S",
         "1"
        ],
        [
         "('female', np.float64(7.0))",
         "1",
         "1.0",
         "26.25",
         "S",
         "S",
         "1"
        ],
        [
         "('female', np.float64(8.0))",
         "2",
         "0.5",
         "23.6625",
         "S",
         "S",
         "1"
        ],
        [
         "('female', np.float64(9.0))",
         "4",
         "0.0",
         "27.19895",
         "S",
         "C",
         "2"
        ],
        [
         "('female', np.float64(10.0))",
         "1",
         "0.0",
         "24.15",
         "S",
         "S",
         "1"
        ],
        [
         "('female', np.float64(11.0))",
         "1",
         "0.0",
         "31.275",
         "S",
         "S",
         "1"
        ],
        [
         "('female', np.float64(13.0))",
         "2",
         "1.0",
         "13.3646",
         "S",
         "C",
         "2"
        ],
        [
         "('female', np.float64(14.0))",
         "4",
         "0.75",
         "42.291675",
         "C",
         "S",
         "2"
        ],
        [
         "('female', np.float64(14.5))",
         "1",
         "0.0",
         "14.4542",
         "C",
         "C",
         "1"
        ],
        [
         "('female', np.float64(15.0))",
         "4",
         "1.0",
         "60.261475000000004",
         "Q",
         "C",
         "3"
        ],
        [
         "('female', np.float64(16.0))",
         "6",
         "0.8333333333333334",
         "41.043749999999996",
         "S",
         "S",
         "3"
        ],
        [
         "('female', np.float64(17.0))",
         "6",
         "0.8333333333333334",
         "35.13055",
         "S",
         "S",
         "2"
        ],
        [
         "('female', np.float64(18.0))",
         "13",
         "0.6153846153846154",
         "53.61666923076923",
         "S",
         "S",
         "3"
        ],
        [
         "('female', np.float64(19.0))",
         "7",
         "1.0",
         "30.727985714285715",
         "Q",
         "S",
         "3"
        ],
        [
         "('female', np.float64(20.0))",
         "2",
         "0.0",
         "9.243749999999999",
         "S",
         "S",
         "1"
        ],
        [
         "('female', np.float64(21.0))",
         "7",
         "0.5714285714285714",
         "58.63332857142858",
         "S",
         "C",
         "3"
        ],
        [
         "('female', np.float64(22.0))",
         "12",
         "0.8333333333333334",
         "37.009033333333335",
         "S",
         "S",
         "3"
        ],
        [
         "('female', np.float64(23.0))",
         "5",
         "0.8",
         "81.10834",
         "S",
         "S",
         "2"
        ],
        [
         "('female', np.float64(24.0))",
         "16",
         "0.875",
         "48.260675",
         "S",
         "C",
         "2"
        ],
        [
         "('female', np.float64(25.0))",
         "5",
         "0.4",
         "44.650000000000006",
         "S",
         "S",
         "1"
        ],
        [
         "('female', np.float64(26.0))",
         "5",
         "0.6",
         "27.34584",
         "S",
         "S",
         "1"
        ],
        [
         "('female', np.float64(27.0))",
         "6",
         "0.8333333333333334",
         "12.815266666666666",
         "S",
         "C",
         "2"
        ],
        [
         "('female', np.float64(28.0))",
         "7",
         "0.7142857142857143",
         "15.849400000000001",
         "S",
         "C",
         "2"
        ],
        [
         "('female', np.float64(29.0))",
         "7",
         "0.7142857142857143",
         "45.80297142857143",
         "S",
         "S",
         "2"
        ],
        [
         "('female', np.float64(30.0))",
         "11",
         "0.8181818181818182",
         "42.36288181818182",
         "S",
         "C",
         "3"
        ],
        [
         "('female', np.float64(30.5))",
         "1",
         "0.0",
         "7.75",
         "Q",
         "Q",
         "1"
        ],
        [
         "('female', np.float64(31.0))",
         "7",
         "0.7142857142857143",
         "51.3506",
         "S",
         "S",
         "2"
        ],
        [
         "('female', np.float64(32.0))",
         "3",
         "0.6666666666666666",
         "34.93056666666667",
         "S",
         "Q",
         "3"
        ],
        [
         "('female', np.float64(32.5))",
         "1",
         "1.0",
         "13.0",
         "S",
         "S",
         "1"
        ],
        [
         "('female', np.float64(33.0))",
         "6",
         "1.0",
         "49.86666666666667",
         "S",
         "S",
         "2"
        ],
        [
         "('female', np.float64(34.0))",
         "4",
         "1.0",
         "19.75",
         "S",
         "S",
         "1"
        ],
        [
         "('female', np.float64(35.0))",
         "8",
         "1.0",
         "120.9734375",
         "S",
         "S",
         "2"
        ],
        [
         "('female', np.float64(36.0))",
         "7",
         "1.0",
         "56.576185714285714",
         "C",
         "S",
         "2"
        ],
        [
         "('female', np.float64(37.0))",
         "1",
         "0.0",
         "9.5875",
         "S",
         "S",
         "1"
        ],
        [
         "('female', np.float64(38.0))",
         "5",
         "0.8",
         "84.63916",
         "C",
         "C",
         "2"
        ],
        [
         "('female', np.float64(39.0))",
         "6",
         "0.6666666666666666",
         "64.9986",
         "S",
         "Q",
         "3"
        ],
        [
         "('female', np.float64(40.0))",
         "6",
         "0.8333333333333334",
         "60.864583333333336",
         "S",
         "S",
         "2"
        ],
        [
         "('female', np.float64(41.0))",
         "4",
         "0.5",
         "53.475",
         "S",
         "S",
         "2"
        ],
        [
         "('female', np.float64(42.0))",
         "3",
         "1.0",
         "88.84166666666665",
         "C",
         "S",
         "2"
        ],
        [
         "('female', np.float64(43.0))",
         "2",
         "0.5",
         "129.11875",
         "S",
         "S",
         "1"
        ],
        [
         "('female', np.float64(44.0))",
         "3",
         "0.6666666666666666",
         "37.23333333333333",
         "C",
         "S",
         "2"
        ],
        [
         "('female', np.float64(45.0))",
         "6",
         "0.5",
         "42.45348333333333",
         "S",
         "S",
         "2"
        ],
        [
         "('female', np.float64(47.0))",
         "2",
         "0.5",
         "33.527100000000004",
         "S",
         "S",
         "1"
        ],
        [
         "('female', np.float64(48.0))",
         "4",
         "0.75",
         "41.22605",
         "C",
         "S",
         "2"
        ]
       ],
       "shape": {
        "columns": 6,
        "rows": 147
       }
      },
      "text/html": [
       "<div>\n",
       "<style scoped>\n",
       "    .dataframe tbody tr th:only-of-type {\n",
       "        vertical-align: middle;\n",
       "    }\n",
       "\n",
       "    .dataframe tbody tr th {\n",
       "        vertical-align: top;\n",
       "    }\n",
       "\n",
       "    .dataframe thead tr th {\n",
       "        text-align: left;\n",
       "    }\n",
       "\n",
       "    .dataframe thead tr:last-of-type th {\n",
       "        text-align: right;\n",
       "    }\n",
       "</style>\n",
       "<table border=\"1\" class=\"dataframe\">\n",
       "  <thead>\n",
       "    <tr>\n",
       "      <th></th>\n",
       "      <th></th>\n",
       "      <th colspan=\"2\" halign=\"left\">survived</th>\n",
       "      <th>fare</th>\n",
       "      <th colspan=\"3\" halign=\"left\">embarked</th>\n",
       "    </tr>\n",
       "    <tr>\n",
       "      <th></th>\n",
       "      <th></th>\n",
       "      <th>size</th>\n",
       "      <th>mean</th>\n",
       "      <th>mean</th>\n",
       "      <th>first</th>\n",
       "      <th>last</th>\n",
       "      <th>nunique</th>\n",
       "    </tr>\n",
       "    <tr>\n",
       "      <th>sex</th>\n",
       "      <th>age</th>\n",
       "      <th></th>\n",
       "      <th></th>\n",
       "      <th></th>\n",
       "      <th></th>\n",
       "      <th></th>\n",
       "      <th></th>\n",
       "    </tr>\n",
       "  </thead>\n",
       "  <tbody>\n",
       "    <tr>\n",
       "      <th rowspan=\"5\" valign=\"top\">female</th>\n",
       "      <th>0.75</th>\n",
       "      <td>2</td>\n",
       "      <td>1.000000</td>\n",
       "      <td>19.258300</td>\n",
       "      <td>C</td>\n",
       "      <td>C</td>\n",
       "      <td>1</td>\n",
       "    </tr>\n",
       "    <tr>\n",
       "      <th>1.00</th>\n",
       "      <td>2</td>\n",
       "      <td>1.000000</td>\n",
       "      <td>13.437500</td>\n",
       "      <td>S</td>\n",
       "      <td>C</td>\n",
       "      <td>2</td>\n",
       "    </tr>\n",
       "    <tr>\n",
       "      <th>2.00</th>\n",
       "      <td>6</td>\n",
       "      <td>0.333333</td>\n",
       "      <td>43.245833</td>\n",
       "      <td>S</td>\n",
       "      <td>S</td>\n",
       "      <td>1</td>\n",
       "    </tr>\n",
       "    <tr>\n",
       "      <th>3.00</th>\n",
       "      <td>2</td>\n",
       "      <td>0.500000</td>\n",
       "      <td>31.327100</td>\n",
       "      <td>C</td>\n",
       "      <td>S</td>\n",
       "      <td>2</td>\n",
       "    </tr>\n",
       "    <tr>\n",
       "      <th>4.00</th>\n",
       "      <td>5</td>\n",
       "      <td>1.000000</td>\n",
       "      <td>22.828340</td>\n",
       "      <td>S</td>\n",
       "      <td>S</td>\n",
       "      <td>2</td>\n",
       "    </tr>\n",
       "    <tr>\n",
       "      <th>...</th>\n",
       "      <th>...</th>\n",
       "      <td>...</td>\n",
       "      <td>...</td>\n",
       "      <td>...</td>\n",
       "      <td>...</td>\n",
       "      <td>...</td>\n",
       "      <td>...</td>\n",
       "    </tr>\n",
       "    <tr>\n",
       "      <th rowspan=\"5\" valign=\"top\">male</th>\n",
       "      <th>70.50</th>\n",
       "      <td>1</td>\n",
       "      <td>0.000000</td>\n",
       "      <td>7.750000</td>\n",
       "      <td>Q</td>\n",
       "      <td>Q</td>\n",
       "      <td>1</td>\n",
       "    </tr>\n",
       "    <tr>\n",
       "      <th>71.00</th>\n",
       "      <td>2</td>\n",
       "      <td>0.000000</td>\n",
       "      <td>42.079200</td>\n",
       "      <td>C</td>\n",
       "      <td>C</td>\n",
       "      <td>1</td>\n",
       "    </tr>\n",
       "    <tr>\n",
       "      <th>74.00</th>\n",
       "      <td>1</td>\n",
       "      <td>0.000000</td>\n",
       "      <td>7.775000</td>\n",
       "      <td>S</td>\n",
       "      <td>S</td>\n",
       "      <td>1</td>\n",
       "    </tr>\n",
       "    <tr>\n",
       "      <th>80.00</th>\n",
       "      <td>1</td>\n",
       "      <td>1.000000</td>\n",
       "      <td>30.000000</td>\n",
       "      <td>S</td>\n",
       "      <td>S</td>\n",
       "      <td>1</td>\n",
       "    </tr>\n",
       "    <tr>\n",
       "      <th>NaN</th>\n",
       "      <td>124</td>\n",
       "      <td>0.129032</td>\n",
       "      <td>19.149223</td>\n",
       "      <td>Q</td>\n",
       "      <td>S</td>\n",
       "      <td>3</td>\n",
       "    </tr>\n",
       "  </tbody>\n",
       "</table>\n",
       "<p>147 rows × 6 columns</p>\n",
       "</div>"
      ],
      "text/plain": [
       "             survived                 fare embarked             \n",
       "                 size      mean       mean    first last nunique\n",
       "sex    age                                                      \n",
       "female 0.75         2  1.000000  19.258300        C    C       1\n",
       "       1.00         2  1.000000  13.437500        S    C       2\n",
       "       2.00         6  0.333333  43.245833        S    S       1\n",
       "       3.00         2  0.500000  31.327100        C    S       2\n",
       "       4.00         5  1.000000  22.828340        S    S       2\n",
       "...               ...       ...        ...      ...  ...     ...\n",
       "male   70.50        1  0.000000   7.750000        Q    Q       1\n",
       "       71.00        2  0.000000  42.079200        C    C       1\n",
       "       74.00        1  0.000000   7.775000        S    S       1\n",
       "       80.00        1  1.000000  30.000000        S    S       1\n",
       "       NaN        124  0.129032  19.149223        Q    S       3\n",
       "\n",
       "[147 rows x 6 columns]"
      ]
     },
     "execution_count": 140,
     "metadata": {},
     "output_type": "execute_result"
    }
   ],
   "source": [
    "df2 = df.groupby([\"sex\", \"age\"], dropna=False, observed=False).agg(\n",
    "    {\n",
    "        \"survived\": [\"size\", \"mean\"],\n",
    "        \"fare\": \"mean\",\n",
    "        \"embarked\": [\"first\", \"last\", \"nunique\"],\n",
    "    }\n",
    ")\n",
    "df2"
   ]
  },
  {
   "cell_type": "code",
   "execution_count": 189,
   "metadata": {},
   "outputs": [
    {
     "name": "stdout",
     "output_type": "stream",
     "text": [
      "parse_res(df.iloc[0,0]) = 'int64'\n",
      "parse_res(df[df.columns[0]]) = 'Series, 891'\n",
      "parse_res(df[1:3]) = 'DataFrame, (2, 15)'\n"
     ]
    }
   ],
   "source": [
    "def parse_res(res):\n",
    "    type_name = type(res).__name__\n",
    "    if type_name == \"Series\":\n",
    "        extra_info = f\", {len(res.index)}\"\n",
    "    elif type_name == \"DataFrame\":\n",
    "        extra_info = f\", {res.shape}\"\n",
    "    else:\n",
    "        extra_info = \"\"\n",
    "    return f\"{type_name}{extra_info}\"\n",
    "\n",
    "\n",
    "# test\n",
    "print(f\"{parse_res(df.iloc[0,0]) = }\")\n",
    "print(f\"{parse_res(df[df.columns[0]]) = }\")\n",
    "print(f\"{parse_res(df[1:3]) = }\")"
   ]
  },
  {
   "cell_type": "markdown",
   "metadata": {},
   "source": [
    "### index operator `[]`\n",
    "\n",
    "inputs:\n",
    "- label\n",
    "- list of labels\n",
    "- slice object\n",
    "- boolean array\n"
   ]
  },
  {
   "cell_type": "code",
   "execution_count": 190,
   "metadata": {},
   "outputs": [
    {
     "data": {
      "application/vnd.microsoft.datawrangler.viewer.v0+json": {
       "columns": [
        {
         "name": "fare",
         "rawType": "float64",
         "type": "float"
        },
        {
         "name": "survived",
         "rawType": "int64",
         "type": "integer"
        }
       ],
       "ref": "75872fa8-a204-486d-b468-3e7f0063fdaa",
       "rows": [
        [
         "7.25",
         "0"
        ],
        [
         "71.2833",
         "1"
        ],
        [
         "7.925",
         "1"
        ],
        [
         "53.1",
         "1"
        ],
        [
         "8.05",
         "0"
        ],
        [
         "8.4583",
         "0"
        ],
        [
         "51.8625",
         "0"
        ],
        [
         "21.075",
         "0"
        ],
        [
         "11.1333",
         "1"
        ],
        [
         "30.0708",
         "1"
        ],
        [
         "16.7",
         "1"
        ],
        [
         "26.55",
         "1"
        ],
        [
         "8.05",
         "0"
        ],
        [
         "31.275",
         "0"
        ],
        [
         "7.8542",
         "0"
        ],
        [
         "16.0",
         "1"
        ],
        [
         "29.125",
         "0"
        ],
        [
         "13.0",
         "1"
        ],
        [
         "18.0",
         "0"
        ],
        [
         "7.225",
         "1"
        ],
        [
         "26.0",
         "0"
        ],
        [
         "13.0",
         "1"
        ],
        [
         "8.0292",
         "1"
        ],
        [
         "35.5",
         "1"
        ],
        [
         "21.075",
         "0"
        ],
        [
         "31.3875",
         "1"
        ],
        [
         "7.225",
         "0"
        ],
        [
         "263.0",
         "0"
        ],
        [
         "7.8792",
         "1"
        ],
        [
         "7.8958",
         "0"
        ],
        [
         "27.7208",
         "0"
        ],
        [
         "146.5208",
         "1"
        ],
        [
         "7.75",
         "1"
        ],
        [
         "10.5",
         "0"
        ],
        [
         "82.1708",
         "0"
        ],
        [
         "52.0",
         "0"
        ],
        [
         "7.2292",
         "1"
        ],
        [
         "8.05",
         "0"
        ],
        [
         "18.0",
         "0"
        ],
        [
         "11.2417",
         "1"
        ],
        [
         "9.475",
         "0"
        ],
        [
         "21.0",
         "0"
        ],
        [
         "7.8958",
         "0"
        ],
        [
         "41.5792",
         "1"
        ],
        [
         "7.8792",
         "1"
        ],
        [
         "8.05",
         "0"
        ],
        [
         "15.5",
         "0"
        ],
        [
         "7.75",
         "1"
        ],
        [
         "21.6792",
         "0"
        ],
        [
         "17.8",
         "0"
        ]
       ],
       "shape": {
        "columns": 1,
        "rows": 891
       }
      },
      "text/plain": [
       "fare\n",
       "7.2500     0\n",
       "71.2833    1\n",
       "7.9250     1\n",
       "53.1000    1\n",
       "8.0500     0\n",
       "          ..\n",
       "13.0000    0\n",
       "30.0000    1\n",
       "23.4500    0\n",
       "30.0000    1\n",
       "7.7500     0\n",
       "Name: survived, Length: 891, dtype: int64"
      ]
     },
     "execution_count": 190,
     "metadata": {},
     "output_type": "execute_result"
    }
   ],
   "source": [
    "# index operator on srs\n",
    "srs = df[\"survived\"]\n",
    "srs.index = df[\"fare\"]\n",
    "srs"
   ]
  },
  {
   "cell_type": "code",
   "execution_count": 191,
   "metadata": {},
   "outputs": [
    {
     "name": "stdout",
     "output_type": "stream",
     "text": [
      "parse_res(srs[0]) = 'Series, 15'\n",
      "parse_res(srs[211.5]) = 'int64'\n",
      "parse_res(srs[[211.5,0]]) = 'Series, 16'\n",
      "parse_res(srs[:5]) = 'Series, 873'\n",
      "parse_res(srs[srs >0.5]) = 'Series, 342'\n"
     ]
    },
    {
     "name": "stderr",
     "output_type": "stream",
     "text": [
      "C:\\Users\\yzdom\\AppData\\Local\\Temp\\ipykernel_24640\\4212083029.py:6: FutureWarning: The behavior of obj[i:j] with a float-dtype index is deprecated. In a future version, this will be treated as positional instead of label-based. For label-based slicing, use obj.loc[i:j] instead\n",
      "  print(f\"{parse_res(srs[:5]) = }\") # slice\n"
     ]
    }
   ],
   "source": [
    "print(f\"{parse_res(srs[0]) = }\")  # label\n",
    "print(f\"{parse_res(srs[211.5]) = }\")  # unique label\n",
    "\n",
    "print(f\"{parse_res(srs[[211.5,0]]) = }\")  # list of labels\n",
    "\n",
    "print(f\"{parse_res(srs[:5]) = }\")  # slice\n",
    "\n",
    "print(f\"{parse_res(srs[srs >0.5]) = }\")  # boolean array"
   ]
  },
  {
   "cell_type": "code",
   "execution_count": 192,
   "metadata": {},
   "outputs": [
    {
     "name": "stdout",
     "output_type": "stream",
     "text": [
      "parse_res(df['survived']) = 'Series, 891'\n",
      "parse_res(df[[i for i in df.columns if i.startswith('s')]]) = 'DataFrame, (891, 3)'\n",
      "parse_res(df[df['age']>15]) = 'DataFrame, (631, 15)'\n",
      "parse_res(df[1:3]) = 'DataFrame, (2, 15)'\n"
     ]
    }
   ],
   "source": [
    "# index operator\n",
    "print(f\"{parse_res(df['survived']) = }\")  # label\n",
    "\n",
    "print(\n",
    "    f\"{parse_res(df[[i for i in df.columns if i.startswith('s')]]) = }\"\n",
    ")  # list of labels\n",
    "\n",
    "print(f\"{parse_res(df[df['age']>15]) = }\")  # boolean array\n",
    "\n",
    "print(f\"{parse_res(df[1:3]) = }\")  # integer slice"
   ]
  },
  {
   "cell_type": "code",
   "execution_count": 193,
   "metadata": {},
   "outputs": [
    {
     "name": "stdout",
     "output_type": "stream",
     "text": [
      "parse_res(df2['survived']) = 'DataFrame, (147, 2)'\n",
      "parse_res(df2[('survived','size')]) = 'Series, 147'\n",
      "parse_res(df2[[i for i in df2.columns if i[0] == 'embarked']]) = 'DataFrame, (147, 3)'\n",
      "parse_res(df2[1:3]) = 'DataFrame, (2, 6)'\n"
     ]
    }
   ],
   "source": [
    "# index operator on multi-index df\n",
    "print(f\"{parse_res(df2['survived']) = }\")  # level 0 label\n",
    "\n",
    "print(f\"{parse_res(df2[('survived','size')]) = }\")  # label\n",
    "\n",
    "print(\n",
    "    f\"{parse_res(df2[[i for i in df2.columns if i[0] == 'embarked']]) = }\"\n",
    ")  # list of label\n",
    "\n",
    "print(f\"{parse_res(df2[1:3]) = }\")  # integer slice"
   ]
  },
  {
   "cell_type": "markdown",
   "metadata": {},
   "source": [
    "\n",
    "### index operator on the attribute `.loc[]`\n",
    "\n",
    "inputs:\n",
    "- label\n",
    "- list of labels\n",
    "- slice obj w/ labels\n",
    "- boolean array\n",
    "- tuple of above\n",
    "- missing axes' inputs assumed to be the null slice\n",
    "\n",
    "Note: index operator on the attribute `.iloc[]`, inputs:\n",
    "- same as above, but integer based"
   ]
  },
  {
   "cell_type": "code",
   "execution_count": 194,
   "metadata": {},
   "outputs": [
    {
     "data": {
      "application/vnd.microsoft.datawrangler.viewer.v0+json": {
       "columns": [
        {
         "name": "fare",
         "rawType": "float64",
         "type": "float"
        },
        {
         "name": "survived",
         "rawType": "int64",
         "type": "integer"
        }
       ],
       "ref": "3c4be985-a766-4a5e-989c-dea529dd5cbc",
       "rows": [
        [
         "7.25",
         "0"
        ],
        [
         "71.2833",
         "1"
        ],
        [
         "7.925",
         "1"
        ],
        [
         "53.1",
         "1"
        ],
        [
         "8.05",
         "0"
        ],
        [
         "8.4583",
         "0"
        ],
        [
         "51.8625",
         "0"
        ],
        [
         "21.075",
         "0"
        ],
        [
         "11.1333",
         "1"
        ],
        [
         "30.0708",
         "1"
        ],
        [
         "16.7",
         "1"
        ],
        [
         "26.55",
         "1"
        ],
        [
         "8.05",
         "0"
        ],
        [
         "31.275",
         "0"
        ],
        [
         "7.8542",
         "0"
        ],
        [
         "16.0",
         "1"
        ],
        [
         "29.125",
         "0"
        ],
        [
         "13.0",
         "1"
        ],
        [
         "18.0",
         "0"
        ],
        [
         "7.225",
         "1"
        ],
        [
         "26.0",
         "0"
        ],
        [
         "13.0",
         "1"
        ],
        [
         "8.0292",
         "1"
        ],
        [
         "35.5",
         "1"
        ],
        [
         "21.075",
         "0"
        ],
        [
         "31.3875",
         "1"
        ],
        [
         "7.225",
         "0"
        ],
        [
         "263.0",
         "0"
        ],
        [
         "7.8792",
         "1"
        ],
        [
         "7.8958",
         "0"
        ],
        [
         "27.7208",
         "0"
        ],
        [
         "146.5208",
         "1"
        ],
        [
         "7.75",
         "1"
        ],
        [
         "10.5",
         "0"
        ],
        [
         "82.1708",
         "0"
        ],
        [
         "52.0",
         "0"
        ],
        [
         "7.2292",
         "1"
        ],
        [
         "8.05",
         "0"
        ],
        [
         "18.0",
         "0"
        ],
        [
         "11.2417",
         "1"
        ],
        [
         "9.475",
         "0"
        ],
        [
         "21.0",
         "0"
        ],
        [
         "7.8958",
         "0"
        ],
        [
         "41.5792",
         "1"
        ],
        [
         "7.8792",
         "1"
        ],
        [
         "8.05",
         "0"
        ],
        [
         "15.5",
         "0"
        ],
        [
         "7.75",
         "1"
        ],
        [
         "21.6792",
         "0"
        ],
        [
         "17.8",
         "0"
        ]
       ],
       "shape": {
        "columns": 1,
        "rows": 891
       }
      },
      "text/plain": [
       "fare\n",
       "7.2500     0\n",
       "71.2833    1\n",
       "7.9250     1\n",
       "53.1000    1\n",
       "8.0500     0\n",
       "          ..\n",
       "13.0000    0\n",
       "30.0000    1\n",
       "23.4500    0\n",
       "30.0000    1\n",
       "7.7500     0\n",
       "Name: survived, Length: 891, dtype: int64"
      ]
     },
     "execution_count": 194,
     "metadata": {},
     "output_type": "execute_result"
    }
   ],
   "source": [
    "# series\n",
    "srs = df[\"survived\"]\n",
    "srs.index = df[\"fare\"]\n",
    "srs"
   ]
  },
  {
   "cell_type": "code",
   "execution_count": 195,
   "metadata": {},
   "outputs": [
    {
     "name": "stdout",
     "output_type": "stream",
     "text": [
      "parse_res(srs.loc) = '_LocIndexer'\n",
      "parse_res(srs.loc[0]) = 'Series, 15'\n",
      "parse_res(srs.loc[6.8583]) = 'int64'\n",
      "KeyError: -1\n",
      "parse_res(srs.loc[srs.index[0]]) = 'Series, 13'\n",
      "parse_res(srs.loc[[0,211.5]]) = 'Series, 16'\n",
      "parse_res(srs.loc[6.8583:35.0]) = 'Series, 0'\n",
      "parse_res(srs.loc[srs > 6]) = 'Series, 0'\n",
      "parse_res(srs2.loc[('male','First')]) = 'Series, 1'\n"
     ]
    }
   ],
   "source": [
    "print(f\"{parse_res(srs.loc) = }\")  # loc attr\n",
    "\n",
    "print(f\"{parse_res(srs.loc[0]) = }\")  # label\n",
    "print(f\"{parse_res(srs.loc[6.8583]) = }\")\n",
    "\n",
    "try:\n",
    "    print(f\"{parse_res(srs.loc[-1]) = }\")\n",
    "except KeyError as e:\n",
    "    print(f\"KeyError: {e}\")\n",
    "\n",
    "print(f\"{parse_res(srs.loc[srs.index[0]]) = }\")  # label from integer location\n",
    "\n",
    "print(f\"{parse_res(srs.loc[[0,211.5]]) = }\")  # list of label\n",
    "\n",
    "print(f\"{parse_res(srs.loc[6.8583:35.0]) = }\")  # slice\n",
    "\n",
    "print(f\"{parse_res(srs.loc[srs > 6]) = }\")  # boolean array\n",
    "\n",
    "srs2 = df.groupby([\"sex\", \"class\"]).agg({\"survived\": \"mean\"})\n",
    "print(f\"{parse_res(srs2.loc[('male','First')]) = }\")  # tuple of above"
   ]
  },
  {
   "cell_type": "code",
   "execution_count": 196,
   "metadata": {},
   "outputs": [
    {
     "name": "stdout",
     "output_type": "stream",
     "text": [
      "parse_res(df.loc) = '_LocIndexer'\n",
      "parse_res(df.loc[0]) = 'Series, 15'\n",
      "parse_res(df.loc[[0,1]]) = 'DataFrame, (2, 15)'\n",
      "parse_res(df.loc[1:2]) = 'DataFrame, (2, 15)'\n",
      "parse_res(df.loc[df['age'] > 6]) = 'DataFrame, (667, 15)'\n",
      "parse_res(df3.loc[('male','First')]) = 'Series, 1'\n"
     ]
    }
   ],
   "source": [
    "# df\n",
    "print(f\"{parse_res(df.loc) = }\")  # loc attr\n",
    "\n",
    "print(f\"{parse_res(df.loc[0]) = }\")  # index label\n",
    "\n",
    "print(f\"{parse_res(df.loc[[0,1]]) = }\")  # list of index label\n",
    "\n",
    "print(f\"{parse_res(df.loc[1:2]) = }\")  # slice\n",
    "\n",
    "print(f\"{parse_res(df.loc[df['age'] > 6]) = }\")  # boolean array\n",
    "\n",
    "df3 = df.groupby([\"sex\", \"class\"]).agg({\"survived\": \"mean\"})\n",
    "print(f\"{parse_res(df3.loc[('male','First')]) = }\")  # tuple of above"
   ]
  },
  {
   "cell_type": "markdown",
   "metadata": {},
   "source": [
    "### boolean indexing"
   ]
  },
  {
   "cell_type": "code",
   "execution_count": 144,
   "metadata": {},
   "outputs": [
    {
     "data": {
      "application/vnd.microsoft.datawrangler.viewer.v0+json": {
       "columns": [
        {
         "name": "class",
         "rawType": "object",
         "type": "string"
        },
        {
         "name": "('survived', 'size')",
         "rawType": "int64",
         "type": "integer"
        },
        {
         "name": "('survived', 'sum')",
         "rawType": "int64",
         "type": "integer"
        },
        {
         "name": "('survived', 'mean')",
         "rawType": "float64",
         "type": "float"
        }
       ],
       "ref": "0fda7a49-4553-4349-baea-eb23131689cf",
       "rows": [
        [
         "First",
         "216",
         "136",
         "0.6296296296296297"
        ],
        [
         "Second",
         "184",
         "87",
         "0.47282608695652173"
        ],
        [
         "Third",
         "491",
         "119",
         "0.24236252545824846"
        ]
       ],
       "shape": {
        "columns": 3,
        "rows": 3
       }
      },
      "text/html": [
       "<div>\n",
       "<style scoped>\n",
       "    .dataframe tbody tr th:only-of-type {\n",
       "        vertical-align: middle;\n",
       "    }\n",
       "\n",
       "    .dataframe tbody tr th {\n",
       "        vertical-align: top;\n",
       "    }\n",
       "\n",
       "    .dataframe thead tr th {\n",
       "        text-align: left;\n",
       "    }\n",
       "\n",
       "    .dataframe thead tr:last-of-type th {\n",
       "        text-align: right;\n",
       "    }\n",
       "</style>\n",
       "<table border=\"1\" class=\"dataframe\">\n",
       "  <thead>\n",
       "    <tr>\n",
       "      <th></th>\n",
       "      <th colspan=\"3\" halign=\"left\">survived</th>\n",
       "    </tr>\n",
       "    <tr>\n",
       "      <th></th>\n",
       "      <th>size</th>\n",
       "      <th>sum</th>\n",
       "      <th>mean</th>\n",
       "    </tr>\n",
       "    <tr>\n",
       "      <th>class</th>\n",
       "      <th></th>\n",
       "      <th></th>\n",
       "      <th></th>\n",
       "    </tr>\n",
       "  </thead>\n",
       "  <tbody>\n",
       "    <tr>\n",
       "      <th>First</th>\n",
       "      <td>216</td>\n",
       "      <td>136</td>\n",
       "      <td>0.629630</td>\n",
       "    </tr>\n",
       "    <tr>\n",
       "      <th>Second</th>\n",
       "      <td>184</td>\n",
       "      <td>87</td>\n",
       "      <td>0.472826</td>\n",
       "    </tr>\n",
       "    <tr>\n",
       "      <th>Third</th>\n",
       "      <td>491</td>\n",
       "      <td>119</td>\n",
       "      <td>0.242363</td>\n",
       "    </tr>\n",
       "  </tbody>\n",
       "</table>\n",
       "</div>"
      ],
      "text/plain": [
       "       survived               \n",
       "           size  sum      mean\n",
       "class                         \n",
       "First       216  136  0.629630\n",
       "Second      184   87  0.472826\n",
       "Third       491  119  0.242363"
      ]
     },
     "execution_count": 144,
     "metadata": {},
     "output_type": "execute_result"
    }
   ],
   "source": [
    "gdf = df.groupby(\"class\", dropna=False, observed=False).agg(\n",
    "    {\"survived\": [\"size\", \"sum\", \"mean\"]}\n",
    ")\n",
    "gdf"
   ]
  },
  {
   "cell_type": "code",
   "execution_count": 162,
   "metadata": {},
   "outputs": [
    {
     "data": {
      "text/plain": [
       "array([ True])"
      ]
     },
     "execution_count": 162,
     "metadata": {},
     "output_type": "execute_result"
    }
   ],
   "source": [
    "s = gdf[\"survived\"][\"mean\"]\n",
    "gdf.loc[(s > 0.7) | (s < 0.3)].index == gdf.loc[\n",
    "    ~((s <= 0.7) & (s >= 0.3))\n",
    "].index  # bracket is required for comparison"
   ]
  },
  {
   "cell_type": "markdown",
   "metadata": {},
   "source": [
    "### isin"
   ]
  },
  {
   "cell_type": "code",
   "execution_count": 167,
   "metadata": {},
   "outputs": [
    {
     "data": {
      "text/plain": [
       "Index(['male'], dtype='object', name='sex')"
      ]
     },
     "execution_count": 167,
     "metadata": {},
     "output_type": "execute_result"
    }
   ],
   "source": [
    "df2.loc[df2.index.isin([\"male\"], level=0)].index.get_level_values(\n",
    "    0\n",
    ").unique()  # level arg"
   ]
  },
  {
   "cell_type": "code",
   "execution_count": 175,
   "metadata": {},
   "outputs": [
    {
     "data": {
      "text/plain": [
       "469"
      ]
     },
     "execution_count": 175,
     "metadata": {},
     "output_type": "execute_result"
    }
   ],
   "source": [
    "_ = (\n",
    "    df[[\"class\", \"sex\"]]\n",
    "    .isin(  # df isin dict arg, then row wise agg logic\n",
    "        {\"class\": [\"First\", \"Third\"], \"sex\": [\"male\"]}\n",
    "    )\n",
    "    .all(axis=1)\n",
    ")\n",
    "\n",
    "df[_].pipe(len)"
   ]
  },
  {
   "cell_type": "markdown",
   "metadata": {},
   "source": [
    "### where"
   ]
  },
  {
   "cell_type": "code",
   "execution_count": 198,
   "metadata": {},
   "outputs": [
    {
     "data": {
      "text/plain": [
       "(891, 15)"
      ]
     },
     "execution_count": 198,
     "metadata": {},
     "output_type": "execute_result"
    }
   ],
   "source": [
    "df.where(df[\"age\"] > 50, axis=\"index\").shape  # keeps same shape"
   ]
  },
  {
   "cell_type": "markdown",
   "metadata": {},
   "source": [
    "### filter"
   ]
  },
  {
   "cell_type": "code",
   "execution_count": null,
   "metadata": {},
   "outputs": [],
   "source": [
    "# select columns based on column name string value\n",
    "df.filter(like=\"a_\")\n",
    "df.filter(regex=\"a_\")"
   ]
  },
  {
   "cell_type": "markdown",
   "metadata": {},
   "source": [
    "### str accessor"
   ]
  },
  {
   "cell_type": "code",
   "execution_count": null,
   "metadata": {},
   "outputs": [],
   "source": [
    "# select rows based on column string value\n",
    "df.loc[df.a_a.str.contains(\"a_\"), :]"
   ]
  },
  {
   "cell_type": "code",
   "execution_count": null,
   "metadata": {},
   "outputs": [],
   "source": []
  },
  {
   "cell_type": "code",
   "execution_count": null,
   "metadata": {},
   "outputs": [],
   "source": []
  }
 ],
 "metadata": {
  "kernelspec": {
   "display_name": "Python 3",
   "language": "python",
   "name": "python3"
  },
  "language_info": {
   "codemirror_mode": {
    "name": "ipython",
    "version": 3
   },
   "file_extension": ".py",
   "mimetype": "text/x-python",
   "name": "python",
   "nbconvert_exporter": "python",
   "pygments_lexer": "ipython3",
   "version": "3.13.2"
  }
 },
 "nbformat": 4,
 "nbformat_minor": 2
}
