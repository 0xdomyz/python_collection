{
 "cells": [
  {
   "cell_type": "code",
   "execution_count": 1,
   "metadata": {},
   "outputs": [],
   "source": [
    "import pandas as pd\n",
    "import numpy as np"
   ]
  },
  {
   "cell_type": "code",
   "execution_count": 4,
   "metadata": {},
   "outputs": [],
   "source": [
    "# cmap options\n",
    "# 'viridis', 'plasma', 'inferno', 'magma', 'cividis'\n",
    "# 'Greys', 'Purples', 'Blues', 'Greens', 'Oranges', 'Reds',\n",
    "# 'YlOrBr', 'YlOrRd', 'OrRd', 'PuRd', 'RdPu', 'BuPu',\n",
    "# 'GnBu', 'PuBu', 'YlGnBu', 'PuBuGn', 'BuGn', 'YlGn'"
   ]
  },
  {
   "cell_type": "markdown",
   "metadata": {},
   "source": [
    "### color some elements"
   ]
  },
  {
   "cell_type": "code",
   "execution_count": 6,
   "metadata": {},
   "outputs": [
    {
     "data": {
      "application/vnd.microsoft.datawrangler.viewer.v0+json": {
       "columns": [
        {
         "name": "index",
         "rawType": "object",
         "type": "string"
        },
        {
         "name": "Math",
         "rawType": "int64",
         "type": "integer"
        },
        {
         "name": "Science",
         "rawType": "int64",
         "type": "integer"
        },
        {
         "name": "English",
         "rawType": "int64",
         "type": "integer"
        }
       ],
       "ref": "f27efb39-eb98-45e7-9eb3-6886c9f425a2",
       "rows": [
        [
         "Alice",
         "90",
         "85",
         "88"
        ],
        [
         "Bob",
         "80",
         "75",
         "78"
        ],
        [
         "Charlie",
         "70",
         "65",
         "68"
        ]
       ],
       "shape": {
        "columns": 3,
        "rows": 3
       }
      },
      "text/html": [
       "<div>\n",
       "<style scoped>\n",
       "    .dataframe tbody tr th:only-of-type {\n",
       "        vertical-align: middle;\n",
       "    }\n",
       "\n",
       "    .dataframe tbody tr th {\n",
       "        vertical-align: top;\n",
       "    }\n",
       "\n",
       "    .dataframe thead th {\n",
       "        text-align: right;\n",
       "    }\n",
       "</style>\n",
       "<table border=\"1\" class=\"dataframe\">\n",
       "  <thead>\n",
       "    <tr style=\"text-align: right;\">\n",
       "      <th></th>\n",
       "      <th>Math</th>\n",
       "      <th>Science</th>\n",
       "      <th>English</th>\n",
       "    </tr>\n",
       "  </thead>\n",
       "  <tbody>\n",
       "    <tr>\n",
       "      <th>Alice</th>\n",
       "      <td>90</td>\n",
       "      <td>85</td>\n",
       "      <td>88</td>\n",
       "    </tr>\n",
       "    <tr>\n",
       "      <th>Bob</th>\n",
       "      <td>80</td>\n",
       "      <td>75</td>\n",
       "      <td>78</td>\n",
       "    </tr>\n",
       "    <tr>\n",
       "      <th>Charlie</th>\n",
       "      <td>70</td>\n",
       "      <td>65</td>\n",
       "      <td>68</td>\n",
       "    </tr>\n",
       "  </tbody>\n",
       "</table>\n",
       "</div>"
      ],
      "text/plain": [
       "         Math  Science  English\n",
       "Alice      90       85       88\n",
       "Bob        80       75       78\n",
       "Charlie    70       65       68"
      ]
     },
     "execution_count": 6,
     "metadata": {},
     "output_type": "execute_result"
    }
   ],
   "source": [
    "import pandas as pd\n",
    "\n",
    "# Sample DataFrame\n",
    "df = pd.DataFrame(\n",
    "    {\"Math\": [90, 80, 70], \"Science\": [85, 75, 65], \"English\": [88, 78, 68]},\n",
    "    index=[\"Alice\", \"Bob\", \"Charlie\"],\n",
    ")\n",
    "df"
   ]
  },
  {
   "cell_type": "code",
   "execution_count": 12,
   "metadata": {},
   "outputs": [
    {
     "data": {
      "text/html": [
       "<style type=\"text/css\">\n",
       "#T_a11c5 th.col_heading {\n",
       "  background-color: green;\n",
       "  color: black;\n",
       "}\n",
       "#T_a11c5 th.row_heading {\n",
       "  background-color: lightblue;\n",
       "  color: black;\n",
       "}\n",
       "#T_a11c5 td {\n",
       "  background-color: white;\n",
       "  color: black;\n",
       "}\n",
       "</style>\n",
       "<table id=\"T_a11c5\">\n",
       "  <thead>\n",
       "    <tr>\n",
       "      <th class=\"blank level0\" >&nbsp;</th>\n",
       "      <th id=\"T_a11c5_level0_col0\" class=\"col_heading level0 col0\" >Math</th>\n",
       "      <th id=\"T_a11c5_level0_col1\" class=\"col_heading level0 col1\" >Science</th>\n",
       "      <th id=\"T_a11c5_level0_col2\" class=\"col_heading level0 col2\" >English</th>\n",
       "    </tr>\n",
       "  </thead>\n",
       "  <tbody>\n",
       "    <tr>\n",
       "      <th id=\"T_a11c5_level0_row0\" class=\"row_heading level0 row0\" >Alice</th>\n",
       "      <td id=\"T_a11c5_row0_col0\" class=\"data row0 col0\" >90</td>\n",
       "      <td id=\"T_a11c5_row0_col1\" class=\"data row0 col1\" >85</td>\n",
       "      <td id=\"T_a11c5_row0_col2\" class=\"data row0 col2\" >88</td>\n",
       "    </tr>\n",
       "    <tr>\n",
       "      <th id=\"T_a11c5_level0_row1\" class=\"row_heading level0 row1\" >Bob</th>\n",
       "      <td id=\"T_a11c5_row1_col0\" class=\"data row1 col0\" >80</td>\n",
       "      <td id=\"T_a11c5_row1_col1\" class=\"data row1 col1\" >75</td>\n",
       "      <td id=\"T_a11c5_row1_col2\" class=\"data row1 col2\" >78</td>\n",
       "    </tr>\n",
       "    <tr>\n",
       "      <th id=\"T_a11c5_level0_row2\" class=\"row_heading level0 row2\" >Charlie</th>\n",
       "      <td id=\"T_a11c5_row2_col0\" class=\"data row2 col0\" >70</td>\n",
       "      <td id=\"T_a11c5_row2_col1\" class=\"data row2 col1\" >65</td>\n",
       "      <td id=\"T_a11c5_row2_col2\" class=\"data row2 col2\" >68</td>\n",
       "    </tr>\n",
       "  </tbody>\n",
       "</table>\n"
      ],
      "text/plain": [
       "<pandas.io.formats.style.Styler at 0x1d3c4a47250>"
      ]
     },
     "execution_count": 12,
     "metadata": {},
     "output_type": "execute_result"
    }
   ],
   "source": [
    "styled_df = df.style.set_table_styles(\n",
    "    [\n",
    "        {\n",
    "            \"selector\": \"th.col_heading\",\n",
    "            \"props\": [(\"background-color\", \"green\"), (\"color\", \"black\")],\n",
    "        },  # Header\n",
    "        {\n",
    "            \"selector\": \"th.row_heading\",\n",
    "            \"props\": [(\"background-color\", \"lightblue\"), (\"color\", \"black\")],\n",
    "        },  # Index\n",
    "        {\n",
    "            \"selector\": \"td\",\n",
    "            \"props\": [(\"background-color\", \"white\"), (\"color\", \"black\")],\n",
    "        },  # Data\n",
    "    ]\n",
    ")\n",
    "styled_df"
   ]
  },
  {
   "cell_type": "code",
   "execution_count": null,
   "metadata": {},
   "outputs": [
    {
     "data": {
      "text/html": [
       "<style type=\"text/css\">\n",
       "#T_d9889 th.col_heading {\n",
       "  background-color: #d1e7dd;\n",
       "  color: black;\n",
       "}\n",
       "#T_d9889 th.row_heading {\n",
       "  background-color: #f8d7da;\n",
       "  color: black;\n",
       "}\n",
       "#T_d9889 td {\n",
       "  background-color: #fff3cd;\n",
       "}\n",
       "</style>\n",
       "<table id=\"T_d9889\">\n",
       "  <caption>🎨 Styled Student Scores</caption>\n",
       "  <thead>\n",
       "    <tr>\n",
       "      <th class=\"blank level0\" >&nbsp;</th>\n",
       "      <th id=\"T_d9889_level0_col0\" class=\"col_heading level0 col0\" >Math</th>\n",
       "      <th id=\"T_d9889_level0_col1\" class=\"col_heading level0 col1\" >Science</th>\n",
       "      <th id=\"T_d9889_level0_col2\" class=\"col_heading level0 col2\" >English</th>\n",
       "    </tr>\n",
       "  </thead>\n",
       "  <tbody>\n",
       "    <tr>\n",
       "      <th id=\"T_d9889_level0_row0\" class=\"row_heading level0 row0\" >Alice</th>\n",
       "      <td id=\"T_d9889_row0_col0\" class=\"data row0 col0\" >90</td>\n",
       "      <td id=\"T_d9889_row0_col1\" class=\"data row0 col1\" >85</td>\n",
       "      <td id=\"T_d9889_row0_col2\" class=\"data row0 col2\" >88</td>\n",
       "    </tr>\n",
       "    <tr>\n",
       "      <th id=\"T_d9889_level0_row1\" class=\"row_heading level0 row1\" >Bob</th>\n",
       "      <td id=\"T_d9889_row1_col0\" class=\"data row1 col0\" >80</td>\n",
       "      <td id=\"T_d9889_row1_col1\" class=\"data row1 col1\" >75</td>\n",
       "      <td id=\"T_d9889_row1_col2\" class=\"data row1 col2\" >78</td>\n",
       "    </tr>\n",
       "    <tr>\n",
       "      <th id=\"T_d9889_level0_row2\" class=\"row_heading level0 row2\" >Charlie</th>\n",
       "      <td id=\"T_d9889_row2_col0\" class=\"data row2 col0\" >70</td>\n",
       "      <td id=\"T_d9889_row2_col1\" class=\"data row2 col1\" >65</td>\n",
       "      <td id=\"T_d9889_row2_col2\" class=\"data row2 col2\" >68</td>\n",
       "    </tr>\n",
       "  </tbody>\n",
       "</table>\n"
      ],
      "text/plain": [
       "<pandas.io.formats.style.Styler at 0x1d3c48016d0>"
      ]
     },
     "metadata": {},
     "output_type": "display_data"
    }
   ],
   "source": [
    "# Apply styling\n",
    "styled_df = df.style.set_table_styles(\n",
    "    [\n",
    "        {\n",
    "            \"selector\": \"th.col_heading\",\n",
    "            \"props\": [(\"background-color\", \"#d1e7dd\"), (\"color\", \"black\")],\n",
    "        },  # Header\n",
    "        {\n",
    "            \"selector\": \"th.row_heading\",\n",
    "            \"props\": [(\"background-color\", \"#f8d7da\"), (\"color\", \"black\")],\n",
    "        },  # Index\n",
    "        {\"selector\": \"td\", \"props\": [(\"background-color\", \"#fff3cd\")]},  # Data cells\n",
    "    ]\n",
    ").set_caption(\"🎨 Styled Student Scores\")\n",
    "\n",
    "styled_df"
   ]
  },
  {
   "cell_type": "markdown",
   "metadata": {},
   "source": [
    "### color fill"
   ]
  },
  {
   "cell_type": "code",
   "execution_count": 2,
   "metadata": {},
   "outputs": [],
   "source": [
    "df = pd.DataFrame(np.random.randn(5, 5))"
   ]
  },
  {
   "cell_type": "code",
   "execution_count": 3,
   "metadata": {},
   "outputs": [
    {
     "data": {
      "text/html": [
       "<style type=\"text/css\">\n",
       "#T_f0648_row0_col0 {\n",
       "  background-color: #dbe9f6;\n",
       "  color: #000000;\n",
       "}\n",
       "#T_f0648_row0_col1, #T_f0648_row0_col2, #T_f0648_row2_col0, #T_f0648_row4_col3, #T_f0648_row4_col4 {\n",
       "  background-color: #08306b;\n",
       "  color: #f1f1f1;\n",
       "}\n",
       "#T_f0648_row0_col3, #T_f0648_row3_col1, #T_f0648_row3_col2, #T_f0648_row3_col4, #T_f0648_row4_col0 {\n",
       "  background-color: #f7fbff;\n",
       "  color: #000000;\n",
       "}\n",
       "#T_f0648_row0_col4 {\n",
       "  background-color: #8cc0dd;\n",
       "  color: #000000;\n",
       "}\n",
       "#T_f0648_row1_col0 {\n",
       "  background-color: #eef5fc;\n",
       "  color: #000000;\n",
       "}\n",
       "#T_f0648_row1_col1 {\n",
       "  background-color: #eaf3fb;\n",
       "  color: #000000;\n",
       "}\n",
       "#T_f0648_row1_col2 {\n",
       "  background-color: #ccdff1;\n",
       "  color: #000000;\n",
       "}\n",
       "#T_f0648_row1_col3 {\n",
       "  background-color: #4f9bcb;\n",
       "  color: #f1f1f1;\n",
       "}\n",
       "#T_f0648_row1_col4 {\n",
       "  background-color: #2777b8;\n",
       "  color: #f1f1f1;\n",
       "}\n",
       "#T_f0648_row2_col1 {\n",
       "  background-color: #bcd7eb;\n",
       "  color: #000000;\n",
       "}\n",
       "#T_f0648_row2_col2 {\n",
       "  background-color: #08458a;\n",
       "  color: #f1f1f1;\n",
       "}\n",
       "#T_f0648_row2_col3 {\n",
       "  background-color: #3787c0;\n",
       "  color: #f1f1f1;\n",
       "}\n",
       "#T_f0648_row2_col4 {\n",
       "  background-color: #94c4df;\n",
       "  color: #000000;\n",
       "}\n",
       "#T_f0648_row3_col0 {\n",
       "  background-color: #2373b6;\n",
       "  color: #f1f1f1;\n",
       "}\n",
       "#T_f0648_row3_col3 {\n",
       "  background-color: #3585bf;\n",
       "  color: #f1f1f1;\n",
       "}\n",
       "#T_f0648_row4_col1 {\n",
       "  background-color: #92c4de;\n",
       "  color: #000000;\n",
       "}\n",
       "#T_f0648_row4_col2 {\n",
       "  background-color: #5da5d1;\n",
       "  color: #f1f1f1;\n",
       "}\n",
       "</style>\n",
       "<table id=\"T_f0648\">\n",
       "  <thead>\n",
       "    <tr>\n",
       "      <th class=\"blank level0\" >&nbsp;</th>\n",
       "      <th id=\"T_f0648_level0_col0\" class=\"col_heading level0 col0\" >0</th>\n",
       "      <th id=\"T_f0648_level0_col1\" class=\"col_heading level0 col1\" >1</th>\n",
       "      <th id=\"T_f0648_level0_col2\" class=\"col_heading level0 col2\" >2</th>\n",
       "      <th id=\"T_f0648_level0_col3\" class=\"col_heading level0 col3\" >3</th>\n",
       "      <th id=\"T_f0648_level0_col4\" class=\"col_heading level0 col4\" >4</th>\n",
       "    </tr>\n",
       "  </thead>\n",
       "  <tbody>\n",
       "    <tr>\n",
       "      <th id=\"T_f0648_level0_row0\" class=\"row_heading level0 row0\" >0</th>\n",
       "      <td id=\"T_f0648_row0_col0\" class=\"data row0 col0\" >-0.488220</td>\n",
       "      <td id=\"T_f0648_row0_col1\" class=\"data row0 col1\" >1.104904</td>\n",
       "      <td id=\"T_f0648_row0_col2\" class=\"data row0 col2\" >0.447301</td>\n",
       "      <td id=\"T_f0648_row0_col3\" class=\"data row0 col3\" >-1.449957</td>\n",
       "      <td id=\"T_f0648_row0_col4\" class=\"data row0 col4\" >0.167816</td>\n",
       "    </tr>\n",
       "    <tr>\n",
       "      <th id=\"T_f0648_level0_row1\" class=\"row_heading level0 row1\" >1</th>\n",
       "      <td id=\"T_f0648_row1_col0\" class=\"data row1 col0\" >-0.591239</td>\n",
       "      <td id=\"T_f0648_row1_col1\" class=\"data row1 col1\" >-1.486796</td>\n",
       "      <td id=\"T_f0648_row1_col2\" class=\"data row1 col2\" >-0.616270</td>\n",
       "      <td id=\"T_f0648_row1_col3\" class=\"data row1 col3\" >-0.296917</td>\n",
       "      <td id=\"T_f0648_row1_col4\" class=\"data row1 col4\" >0.973323</td>\n",
       "    </tr>\n",
       "    <tr>\n",
       "      <th id=\"T_f0648_level0_row2\" class=\"row_heading level0 row2\" >2</th>\n",
       "      <td id=\"T_f0648_row2_col0\" class=\"data row2 col0\" >0.461891</td>\n",
       "      <td id=\"T_f0648_row2_col1\" class=\"data row2 col1\" >-0.878964</td>\n",
       "      <td id=\"T_f0648_row2_col2\" class=\"data row2 col2\" >0.336974</td>\n",
       "      <td id=\"T_f0648_row2_col3\" class=\"data row2 col3\" >-0.130584</td>\n",
       "      <td id=\"T_f0648_row2_col4\" class=\"data row2 col4\" >0.111516</td>\n",
       "    </tr>\n",
       "    <tr>\n",
       "      <th id=\"T_f0648_level0_row3\" class=\"row_heading level0 row3\" >3</th>\n",
       "      <td id=\"T_f0648_row3_col0\" class=\"data row3 col0\" >0.176368</td>\n",
       "      <td id=\"T_f0648_row3_col1\" class=\"data row3 col1\" >-1.668205</td>\n",
       "      <td id=\"T_f0648_row3_col2\" class=\"data row3 col2\" >-0.919744</td>\n",
       "      <td id=\"T_f0648_row3_col3\" class=\"data row3 col3\" >-0.118019</td>\n",
       "      <td id=\"T_f0648_row3_col4\" class=\"data row3 col4\" >-0.937430</td>\n",
       "    </tr>\n",
       "    <tr>\n",
       "      <th id=\"T_f0648_level0_row4\" class=\"row_heading level0 row4\" >4</th>\n",
       "      <td id=\"T_f0648_row4_col0\" class=\"data row4 col0\" >-0.644532</td>\n",
       "      <td id=\"T_f0648_row4_col1\" class=\"data row4 col1\" >-0.550600</td>\n",
       "      <td id=\"T_f0648_row4_col2\" class=\"data row4 col2\" >-0.178803</td>\n",
       "      <td id=\"T_f0648_row4_col3\" class=\"data row4 col3\" >0.525715</td>\n",
       "      <td id=\"T_f0648_row4_col4\" class=\"data row4 col4\" >1.692737</td>\n",
       "    </tr>\n",
       "  </tbody>\n",
       "</table>\n"
      ],
      "text/plain": [
       "<pandas.io.formats.style.Styler at 0x1d3c47a2a50>"
      ]
     },
     "execution_count": 3,
     "metadata": {},
     "output_type": "execute_result"
    }
   ],
   "source": [
    "df.style.background_gradient(cmap=\"Blues\")"
   ]
  },
  {
   "cell_type": "code",
   "execution_count": 4,
   "metadata": {},
   "outputs": [
    {
     "data": {
      "text/html": [
       "<style type=\"text/css\">\n",
       "#T_bcca6_row0_col0 {\n",
       "  background-color: #e34933;\n",
       "  color: #f1f1f1;\n",
       "}\n",
       "#T_bcca6_row0_col1, #T_bcca6_row0_col2, #T_bcca6_row2_col0, #T_bcca6_row4_col3, #T_bcca6_row4_col4 {\n",
       "  background-color: #006837;\n",
       "  color: #f1f1f1;\n",
       "}\n",
       "#T_bcca6_row0_col3, #T_bcca6_row3_col1, #T_bcca6_row3_col2, #T_bcca6_row3_col4, #T_bcca6_row4_col0 {\n",
       "  background-color: #a50026;\n",
       "  color: #f1f1f1;\n",
       "}\n",
       "#T_bcca6_row0_col4 {\n",
       "  background-color: #fee695;\n",
       "  color: #000000;\n",
       "}\n",
       "#T_bcca6_row1_col0 {\n",
       "  background-color: #bd1726;\n",
       "  color: #f1f1f1;\n",
       "}\n",
       "#T_bcca6_row1_col1 {\n",
       "  background-color: #c41e27;\n",
       "  color: #f1f1f1;\n",
       "}\n",
       "#T_bcca6_row1_col2 {\n",
       "  background-color: #f67a49;\n",
       "  color: #f1f1f1;\n",
       "}\n",
       "#T_bcca6_row1_col3 {\n",
       "  background-color: #dff293;\n",
       "  color: #000000;\n",
       "}\n",
       "#T_bcca6_row1_col4 {\n",
       "  background-color: #96d268;\n",
       "  color: #000000;\n",
       "}\n",
       "#T_bcca6_row2_col1 {\n",
       "  background-color: #fba35c;\n",
       "  color: #000000;\n",
       "}\n",
       "#T_bcca6_row2_col2 {\n",
       "  background-color: #148e4b;\n",
       "  color: #f1f1f1;\n",
       "}\n",
       "#T_bcca6_row2_col3 {\n",
       "  background-color: #b7e075;\n",
       "  color: #000000;\n",
       "}\n",
       "#T_bcca6_row2_col4 {\n",
       "  background-color: #fee08b;\n",
       "  color: #000000;\n",
       "}\n",
       "#T_bcca6_row3_col0 {\n",
       "  background-color: #8ccd67;\n",
       "  color: #000000;\n",
       "}\n",
       "#T_bcca6_row3_col3 {\n",
       "  background-color: #b3df72;\n",
       "  color: #000000;\n",
       "}\n",
       "#T_bcca6_row4_col1 {\n",
       "  background-color: #fee18d;\n",
       "  color: #000000;\n",
       "}\n",
       "#T_bcca6_row4_col2 {\n",
       "  background-color: #eff8aa;\n",
       "  color: #000000;\n",
       "}\n",
       "</style>\n",
       "<table id=\"T_bcca6\">\n",
       "  <thead>\n",
       "    <tr>\n",
       "      <th class=\"blank level0\" >&nbsp;</th>\n",
       "      <th id=\"T_bcca6_level0_col0\" class=\"col_heading level0 col0\" >0</th>\n",
       "      <th id=\"T_bcca6_level0_col1\" class=\"col_heading level0 col1\" >1</th>\n",
       "      <th id=\"T_bcca6_level0_col2\" class=\"col_heading level0 col2\" >2</th>\n",
       "      <th id=\"T_bcca6_level0_col3\" class=\"col_heading level0 col3\" >3</th>\n",
       "      <th id=\"T_bcca6_level0_col4\" class=\"col_heading level0 col4\" >4</th>\n",
       "    </tr>\n",
       "  </thead>\n",
       "  <tbody>\n",
       "    <tr>\n",
       "      <th id=\"T_bcca6_level0_row0\" class=\"row_heading level0 row0\" >0</th>\n",
       "      <td id=\"T_bcca6_row0_col0\" class=\"data row0 col0\" >-0.488220</td>\n",
       "      <td id=\"T_bcca6_row0_col1\" class=\"data row0 col1\" >1.104904</td>\n",
       "      <td id=\"T_bcca6_row0_col2\" class=\"data row0 col2\" >0.447301</td>\n",
       "      <td id=\"T_bcca6_row0_col3\" class=\"data row0 col3\" >-1.449957</td>\n",
       "      <td id=\"T_bcca6_row0_col4\" class=\"data row0 col4\" >0.167816</td>\n",
       "    </tr>\n",
       "    <tr>\n",
       "      <th id=\"T_bcca6_level0_row1\" class=\"row_heading level0 row1\" >1</th>\n",
       "      <td id=\"T_bcca6_row1_col0\" class=\"data row1 col0\" >-0.591239</td>\n",
       "      <td id=\"T_bcca6_row1_col1\" class=\"data row1 col1\" >-1.486796</td>\n",
       "      <td id=\"T_bcca6_row1_col2\" class=\"data row1 col2\" >-0.616270</td>\n",
       "      <td id=\"T_bcca6_row1_col3\" class=\"data row1 col3\" >-0.296917</td>\n",
       "      <td id=\"T_bcca6_row1_col4\" class=\"data row1 col4\" >0.973323</td>\n",
       "    </tr>\n",
       "    <tr>\n",
       "      <th id=\"T_bcca6_level0_row2\" class=\"row_heading level0 row2\" >2</th>\n",
       "      <td id=\"T_bcca6_row2_col0\" class=\"data row2 col0\" >0.461891</td>\n",
       "      <td id=\"T_bcca6_row2_col1\" class=\"data row2 col1\" >-0.878964</td>\n",
       "      <td id=\"T_bcca6_row2_col2\" class=\"data row2 col2\" >0.336974</td>\n",
       "      <td id=\"T_bcca6_row2_col3\" class=\"data row2 col3\" >-0.130584</td>\n",
       "      <td id=\"T_bcca6_row2_col4\" class=\"data row2 col4\" >0.111516</td>\n",
       "    </tr>\n",
       "    <tr>\n",
       "      <th id=\"T_bcca6_level0_row3\" class=\"row_heading level0 row3\" >3</th>\n",
       "      <td id=\"T_bcca6_row3_col0\" class=\"data row3 col0\" >0.176368</td>\n",
       "      <td id=\"T_bcca6_row3_col1\" class=\"data row3 col1\" >-1.668205</td>\n",
       "      <td id=\"T_bcca6_row3_col2\" class=\"data row3 col2\" >-0.919744</td>\n",
       "      <td id=\"T_bcca6_row3_col3\" class=\"data row3 col3\" >-0.118019</td>\n",
       "      <td id=\"T_bcca6_row3_col4\" class=\"data row3 col4\" >-0.937430</td>\n",
       "    </tr>\n",
       "    <tr>\n",
       "      <th id=\"T_bcca6_level0_row4\" class=\"row_heading level0 row4\" >4</th>\n",
       "      <td id=\"T_bcca6_row4_col0\" class=\"data row4 col0\" >-0.644532</td>\n",
       "      <td id=\"T_bcca6_row4_col1\" class=\"data row4 col1\" >-0.550600</td>\n",
       "      <td id=\"T_bcca6_row4_col2\" class=\"data row4 col2\" >-0.178803</td>\n",
       "      <td id=\"T_bcca6_row4_col3\" class=\"data row4 col3\" >0.525715</td>\n",
       "      <td id=\"T_bcca6_row4_col4\" class=\"data row4 col4\" >1.692737</td>\n",
       "    </tr>\n",
       "  </tbody>\n",
       "</table>\n"
      ],
      "text/plain": [
       "<pandas.io.formats.style.Styler at 0x1d3c3e16ad0>"
      ]
     },
     "execution_count": 4,
     "metadata": {},
     "output_type": "execute_result"
    }
   ],
   "source": [
    "df.style.background_gradient(cmap=\"RdYlGn\")"
   ]
  },
  {
   "cell_type": "code",
   "execution_count": null,
   "metadata": {},
   "outputs": [],
   "source": []
  },
  {
   "cell_type": "code",
   "execution_count": null,
   "metadata": {},
   "outputs": [],
   "source": [
    "# example of pd set_option\n",
    "pd.set_option(\"display.max_rows\", 10)\n",
    "pd.set_option(\"display.max_columns\", 10)\n",
    "pd.set_option(\"display.width\", 1000)\n",
    "pd.set_option(\"display.max_colwidth\", 1000)\n",
    "pd.set_option(\"display.precision\", 2)\n",
    "pd.set_option(\"display.float_format\", \"{:,.2f}\".format)\n",
    "pd.set_option(\"display.show_dimensions\", True)\n",
    "pd.set_option(\"display.colheader_justify\", \"left\")\n",
    "pd.set_option(\"display.max_info_columns\", 10)\n",
    "pd.set_option(\"display.max_info_rows\", 10)\n",
    "pd.set_option(\"display.notebook_repr_html\", True)\n",
    "pd.set_option(\"display.html.border\", 1)\n",
    "pd.set_option(\"display.large_repr\", \"truncate\")\n",
    "pd.set_option(\"display.expand_frame_repr\", False)\n",
    "pd.set_option(\"display.max_seq_items\", 10)"
   ]
  },
  {
   "cell_type": "markdown",
   "metadata": {},
   "source": [
    "### html"
   ]
  },
  {
   "cell_type": "code",
   "execution_count": null,
   "metadata": {},
   "outputs": [],
   "source": [
    "# display table as html\n",
    "df = pd.DataFrame({\"a\": [1, 2, 3], \"b\": [4, 5, 6]})\n",
    "df.to_html(\"test.html\")"
   ]
  },
  {
   "cell_type": "code",
   "execution_count": null,
   "metadata": {},
   "outputs": [],
   "source": [
    "# display table as html with css\n",
    "df = pd.DataFrame({\"a\": [1, 2, 3], \"b\": [4, 5, 6]})\n",
    "df.to_html(\"test.html\", classes=\"table table-striped table-hover\")"
   ]
  },
  {
   "cell_type": "code",
   "execution_count": null,
   "metadata": {},
   "outputs": [],
   "source": [
    "# multiple dataframe on 1 html page\n",
    "#########################################\n",
    "df1 = pd.DataFrame(np.random.randn(20, 20))\n",
    "df2 = pd.DataFrame(np.random.randn(20, 20))\n",
    "df3 = pd.DataFrame(np.random.randn(20, 20))\n",
    "\n",
    "df1 = df1.style.background_gradient(cmap=\"RdYlGn\")\n",
    "df2 = df2.style.background_gradient(cmap=\"RdYlGn\")\n",
    "df3 = df3.style.background_gradient(cmap=\"RdYlGn\")\n",
    "\n",
    "html1 = df1.to_html()\n",
    "html2 = df2.to_html()\n",
    "html3 = df3.to_html()\n",
    "\n",
    "# combine html\n",
    "lst = [html1, html2, html3]\n",
    "html = \"<br>\".join(lst)\n",
    "\n",
    "# add title above each table\n",
    "html = (\n",
    "    \"<h1>Table 1</h1>\"\n",
    "    + html1\n",
    "    + \"<br><h1>Table 2</h1>\"\n",
    "    + html2\n",
    "    + \"<br><h1>Table 3</h1>\"\n",
    "    + html3\n",
    ")\n",
    "\n",
    "# save html\n",
    "with open(\"test.html\", \"w\") as f:\n",
    "    f.write(html)"
   ]
  },
  {
   "cell_type": "markdown",
   "metadata": {},
   "source": [
    "### setting "
   ]
  },
  {
   "cell_type": "code",
   "execution_count": null,
   "metadata": {},
   "outputs": [],
   "source": [
    "# Set the maximum number of rows displayed to 10\n",
    "pd.set_option(\"display.max_rows\", 10)\n",
    "\n",
    "# Set the maximum number of columns displayed to 10\n",
    "pd.set_option(\"display.max_columns\", 10)\n",
    "\n",
    "# Create a large DataFrame for demonstration\n",
    "df = pd.DataFrame(np.random.rand(100, 50))\n",
    "\n",
    "# Display the DataFrame\n",
    "df"
   ]
  },
  {
   "cell_type": "code",
   "execution_count": null,
   "metadata": {},
   "outputs": [],
   "source": []
  }
 ],
 "metadata": {
  "kernelspec": {
   "display_name": "Python 3",
   "language": "python",
   "name": "python3"
  },
  "language_info": {
   "codemirror_mode": {
    "name": "ipython",
    "version": 3
   },
   "file_extension": ".py",
   "mimetype": "text/x-python",
   "name": "python",
   "nbconvert_exporter": "python",
   "pygments_lexer": "ipython3",
   "version": "3.13.2"
  }
 },
 "nbformat": 4,
 "nbformat_minor": 2
}
