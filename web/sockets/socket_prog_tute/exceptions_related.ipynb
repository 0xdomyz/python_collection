{
 "cells": [
  {
   "cell_type": "markdown",
   "id": "fa0e4114",
   "metadata": {},
   "source": [
    "### exceptions\n",
    "\n",
    "https://docs.python.org/3/library/socket.html#exceptions"
   ]
  },
  {
   "cell_type": "code",
   "execution_count": 1,
   "id": "18010ec7",
   "metadata": {},
   "outputs": [
    {
     "data": {
      "text/plain": [
       "OSError"
      ]
     },
     "execution_count": 1,
     "metadata": {},
     "output_type": "execute_result"
    }
   ],
   "source": [
    "OSError"
   ]
  },
  {
   "cell_type": "code",
   "execution_count": 2,
   "id": "6b3eb7e3",
   "metadata": {},
   "outputs": [
    {
     "data": {
      "text/plain": [
       "TimeoutError"
      ]
     },
     "execution_count": 2,
     "metadata": {},
     "output_type": "execute_result"
    }
   ],
   "source": [
    "TimeoutError"
   ]
  },
  {
   "cell_type": "markdown",
   "id": "32671563",
   "metadata": {},
   "source": [
    "### debug"
   ]
  },
  {
   "cell_type": "markdown",
   "id": "41a03c6e",
   "metadata": {},
   "source": [
    "ping 127.0.0.1\n",
    "\n",
    "netstat -an | findstr 65432\n"
   ]
  },
  {
   "cell_type": "code",
   "execution_count": null,
   "id": "1b39b64e",
   "metadata": {},
   "outputs": [],
   "source": []
  }
 ],
 "metadata": {
  "kernelspec": {
   "display_name": "Python 3",
   "language": "python",
   "name": "python3"
  },
  "language_info": {
   "codemirror_mode": {
    "name": "ipython",
    "version": 3
   },
   "file_extension": ".py",
   "mimetype": "text/x-python",
   "name": "python",
   "nbconvert_exporter": "python",
   "pygments_lexer": "ipython3",
   "version": "3.13.2"
  }
 },
 "nbformat": 4,
 "nbformat_minor": 5
}
