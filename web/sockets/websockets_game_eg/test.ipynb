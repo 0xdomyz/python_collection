{
 "cells": [
  {
   "cell_type": "code",
   "execution_count": 4,
   "id": "e3463975",
   "metadata": {},
   "outputs": [],
   "source": [
    "from connect4 import Connect4, PLAYER1, PLAYER2\n",
    "\n",
    "game = Connect4()"
   ]
  },
  {
   "cell_type": "code",
   "execution_count": 5,
   "id": "be988e58",
   "metadata": {},
   "outputs": [
    {
     "data": {
      "text/plain": [
       "'yellow'"
      ]
     },
     "execution_count": 5,
     "metadata": {},
     "output_type": "execute_result"
    }
   ],
   "source": [
    "game.last_player"
   ]
  },
  {
   "cell_type": "code",
   "execution_count": 6,
   "id": "fb1865e9",
   "metadata": {},
   "outputs": [
    {
     "data": {
      "text/plain": [
       "0"
      ]
     },
     "execution_count": 6,
     "metadata": {},
     "output_type": "execute_result"
    }
   ],
   "source": [
    "game.play(PLAYER1 if game.last_player == PLAYER2 else PLAYER2, 3)"
   ]
  }
 ],
 "metadata": {
  "kernelspec": {
   "display_name": "pyenv",
   "language": "python",
   "name": "python3"
  },
  "language_info": {
   "codemirror_mode": {
    "name": "ipython",
    "version": 3
   },
   "file_extension": ".py",
   "mimetype": "text/x-python",
   "name": "python",
   "nbconvert_exporter": "python",
   "pygments_lexer": "ipython3",
   "version": "3.12.3"
  }
 },
 "nbformat": 4,
 "nbformat_minor": 5
}
