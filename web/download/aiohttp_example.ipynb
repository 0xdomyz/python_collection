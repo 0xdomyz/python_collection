{
 "cells": [
  {
   "cell_type": "markdown",
   "metadata": {},
   "source": [
    "### set up "
   ]
  },
  {
   "cell_type": "code",
   "execution_count": 8,
   "metadata": {},
   "outputs": [],
   "source": [
    "import aiohttp\n",
    "import asyncio\n",
    "import requests\n",
    "\n",
    "from bs4 import BeautifulSoup\n",
    "import re\n",
    "\n",
    "from pathlib import Path"
   ]
  },
  {
   "cell_type": "code",
   "execution_count": 4,
   "metadata": {},
   "outputs": [],
   "source": [
    "# temporary folder for data\n",
    "folder = Path(\".\") / \"data\"\n",
    "if not folder.exists():\n",
    "    folder.mkdir()\n",
    "else:\n",
    "    for file in folder.iterdir():\n",
    "        if file.is_file():\n",
    "            file.unlink()"
   ]
  },
  {
   "cell_type": "markdown",
   "metadata": {},
   "source": [
    "### define functions"
   ]
  },
  {
   "cell_type": "code",
   "execution_count": 18,
   "metadata": {},
   "outputs": [],
   "source": [
    "async def fetch(url):\n",
    "    async with aiohttp.ClientSession() as session:\n",
    "        async with session.get(url) as response:\n",
    "            response.raise_for_status()\n",
    "            content_type = response.headers.get('Content-Type', '')\n",
    "            print(f\"{content_type = }, {response.charset = }\")\n",
    "            return await response.read()"
   ]
  },
  {
   "cell_type": "code",
   "execution_count": 7,
   "metadata": {},
   "outputs": [],
   "source": [
    "async def download_binary_file(url, local_location, local_name):\n",
    "    \"\"\"Download a binary file from a URL and save it to a local location with a specified name using aiohttp.\"\"\"\n",
    "    async with aiohttp.ClientSession() as session:\n",
    "        async with session.get(url) as response:\n",
    "            response.raise_for_status()\n",
    "            content_type = response.headers.get('content-type')\n",
    "            print(f\"{content_type = }, {response.charset = }\")\n",
    "            \n",
    "            data = await response.read()\n",
    "            \n",
    "    file_path = local_location / local_name\n",
    "    with open(file_path, \"wb\") as f:\n",
    "        f.write(data)\n",
    "        print(f\"Saved to {file_path}\")\n"
   ]
  },
  {
   "cell_type": "code",
   "execution_count": 24,
   "metadata": {},
   "outputs": [],
   "source": [
    "async def process(url):\n",
    "    name = Path(url).name\n",
    "    name = Path(url).name\n",
    "    second_last_part = Path(url).parts[-2]\n",
    "\n",
    "    ## request and parse the HTML page\n",
    "    response = await fetch(url)\n",
    "    soup = BeautifulSoup(response, 'html.parser')\n",
    "    # print(soup.prettify())\n",
    "\n",
    "    ## find the resource URL\n",
    "    def find_resource_url(soup, pattern):\n",
    "        \"\"\"Find a resource URL in the HTML soup using a regex pattern.\"\"\"\n",
    "        match = re.search(pattern, str(soup))\n",
    "        if match:\n",
    "            return match.group(0)\n",
    "        return None\n",
    "\n",
    "    pattern = r'file-examples\\.com/storage/\\w+/'\n",
    "    matched_string = find_resource_url(soup, pattern)\n",
    "    print(f\"{matched_string = }\")\n",
    "\n",
    "    resource_url = f\"https://{matched_string}2017/{second_last_part}/{name}\"\n",
    "    print(f\"{resource_url = }\")\n",
    "\n",
    "    ## download the file\n",
    "    location = Path(\".\") / \"data\"\n",
    "\n",
    "    print(f\"calling download_binary_file with \\n    {resource_url = }\\n    {location = }\\n    {name = }\")\n",
    "    await download_binary_file(resource_url, location, name)\n"
   ]
  },
  {
   "cell_type": "markdown",
   "metadata": {},
   "source": [
    "### process"
   ]
  },
  {
   "cell_type": "code",
   "execution_count": 25,
   "metadata": {},
   "outputs": [
    {
     "name": "stdout",
     "output_type": "stream",
     "text": [
      "content_type = 'text/html; charset=UTF-8', response.charset = 'UTF-8'\n",
      "matched_string = 'file-examples.com/storage/fe0707c5116828d4b9ad356/'\n",
      "resource_url = 'https://file-examples.com/storage/fe0707c5116828d4b9ad356/2017/02/zip_2MB.zip'\n",
      "calling download_binary_file with \n",
      "    resource_url = 'https://file-examples.com/storage/fe0707c5116828d4b9ad356/2017/02/zip_2MB.zip'\n",
      "    location = WindowsPath('data')\n",
      "    name = 'zip_2MB.zip'\n",
      "content_type = 'application/zip', response.charset = None\n",
      "Saved to data\\zip_2MB.zip\n"
     ]
    }
   ],
   "source": [
    "url = \"https://file-examples.com/wp-content/storage/2017/02/zip_2MB.zip\"\n",
    "await process(url)"
   ]
  },
  {
   "cell_type": "markdown",
   "metadata": {},
   "source": [
    "### clean up"
   ]
  },
  {
   "cell_type": "code",
   "execution_count": 26,
   "metadata": {},
   "outputs": [],
   "source": [
    "# temporary folder for data\n",
    "folder = Path(\".\") / \"data\"\n",
    "if not folder.exists():\n",
    "    folder.mkdir()\n",
    "else:\n",
    "    for file in folder.iterdir():\n",
    "        if file.is_file():\n",
    "            file.unlink()"
   ]
  },
  {
   "cell_type": "code",
   "execution_count": null,
   "metadata": {},
   "outputs": [],
   "source": []
  },
  {
   "cell_type": "code",
   "execution_count": null,
   "metadata": {},
   "outputs": [],
   "source": []
  }
 ],
 "metadata": {
  "kernelspec": {
   "display_name": "Python 3",
   "language": "python",
   "name": "python3"
  },
  "language_info": {
   "codemirror_mode": {
    "name": "ipython",
    "version": 3
   },
   "file_extension": ".py",
   "mimetype": "text/x-python",
   "name": "python",
   "nbconvert_exporter": "python",
   "pygments_lexer": "ipython3",
   "version": "3.13.2"
  }
 },
 "nbformat": 4,
 "nbformat_minor": 2
}
