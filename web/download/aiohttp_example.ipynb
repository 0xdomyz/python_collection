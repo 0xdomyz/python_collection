{
 "cells": [
  {
   "cell_type": "markdown",
   "metadata": {},
   "source": [
    "### set up "
   ]
  },
  {
   "cell_type": "code",
   "execution_count": 1,
   "metadata": {},
   "outputs": [],
   "source": [
    "import aiohttp\n",
    "import asyncio\n",
    "import requests\n",
    "\n",
    "from bs4 import BeautifulSoup\n",
    "import re\n",
    "\n",
    "from pathlib import Path"
   ]
  },
  {
   "cell_type": "code",
   "execution_count": 2,
   "metadata": {},
   "outputs": [],
   "source": [
    "# temporary folder for data\n",
    "folder = Path(\".\") / \"data\"\n",
    "if not folder.exists():\n",
    "    folder.mkdir()\n",
    "else:\n",
    "    for file in folder.iterdir():\n",
    "        if file.is_file():\n",
    "            file.unlink()"
   ]
  },
  {
   "cell_type": "markdown",
   "metadata": {},
   "source": [
    "### define functions"
   ]
  },
  {
   "cell_type": "code",
   "execution_count": 18,
   "metadata": {},
   "outputs": [],
   "source": [
    "async def fetch(session, url):\n",
    "    async with session.get(url) as response:\n",
    "        response.raise_for_status()\n",
    "        print(f\"{url = }\")\n",
    "        return await response.read()"
   ]
  },
  {
   "cell_type": "code",
   "execution_count": 24,
   "metadata": {},
   "outputs": [],
   "source": [
    "async def process_many(urls):\n",
    "    async def process_one_file(session, url):\n",
    "\n",
    "        # request the base HTML page\n",
    "        name = Path(url).name\n",
    "        second_last_part = Path(url).parts[-2]\n",
    "        response = await fetch(session, url)\n",
    "\n",
    "        # find the resource URL\n",
    "        soup = BeautifulSoup(response, 'html.parser')\n",
    "        pattern = r'file-examples\\.com/storage/\\w+/'\n",
    "        matched_string = re.search(pattern, str(soup)).group(0)\n",
    "        resource_url = f\"https://{matched_string}2017/{second_last_part}/{name}\"\n",
    "\n",
    "        ## download the file\n",
    "        data = await fetch(session, resource_url)\n",
    "        \n",
    "        ## save the file\n",
    "        location = Path(\".\") / \"data\"\n",
    "        file_path = location / Path(url).name\n",
    "        with open(file_path, \"wb\") as f:\n",
    "            f.write(data)\n",
    "            print(f\"Saving {name}\")\n",
    "\n",
    "    async with aiohttp.ClientSession() as session:\n",
    "        tasks = [process_one_file(session, url) for url in urls]\n",
    "        await asyncio.gather(*tasks)\n"
   ]
  },
  {
   "cell_type": "markdown",
   "metadata": {},
   "source": [
    "### process"
   ]
  },
  {
   "cell_type": "code",
   "execution_count": 25,
   "metadata": {},
   "outputs": [
    {
     "name": "stdout",
     "output_type": "stream",
     "text": [
      "url = 'https://file-examples.com/wp-content/storage/2017/10/file-sample_150kB.pdf'\n",
      "url = 'https://file-examples.com/wp-content/storage/2017/02/index.html'\n",
      "url = 'https://file-examples.com/wp-content/storage/2017/02/file_example_JSON_1kb.json'\n",
      "url = 'https://file-examples.com/wp-content/storage/2017/02/file_example_XML_24kb.xml'\n",
      "url = 'https://file-examples.com/wp-content/storage/2017/02/zip_2MB.zip'\n",
      "url = 'https://file-examples.com/wp-content/storage/2017/02/file_example_CSV_5000.csv'\n",
      "url = 'https://file-examples.com/wp-content/storage/2017/02/file_example_XLSX_5000.xlsx'\n",
      "url = 'https://file-examples.com/storage/fe0707c5116828d4b9ad356/2017/02/file_example_XML_24kb.xml'\n",
      "Saving file_example_XML_24kb.xml\n",
      "url = 'https://file-examples.com/storage/fe0707c5116828d4b9ad356/2017/02/index.html'\n",
      "url = 'https://file-examples.com/storage/fe0707c5116828d4b9ad356/2017/02/file_example_JSON_1kb.json'\n",
      "Saving file_example_JSON_1kb.json\n",
      "url = 'https://file-examples.com/storage/fe0707c5116828d4b9ad356/2017/10/file-sample_150kB.pdf'\n",
      "url = 'https://file-examples.com/storage/fe0707c5116828d4b9ad356/2017/02/file_example_CSV_5000.csv'\n",
      "Saving file-sample_150kB.pdf\n",
      "url = 'https://file-examples.com/storage/fe0707c5116828d4b9ad356/2017/02/file_example_XLSX_5000.xlsx'\n",
      "url = 'https://file-examples.com/storage/fe0707c5116828d4b9ad356/2017/02/zip_2MB.zip'\n",
      "Saving file_example_CSV_5000.csv\n",
      "Saving index.html\n",
      "Saving file_example_XLSX_5000.xlsx\n",
      "Saving zip_2MB.zip\n"
     ]
    }
   ],
   "source": [
    "urls = [\n",
    "    \"https://file-examples.com/wp-content/storage/2017/02/zip_2MB.zip\",\n",
    "    \"https://file-examples.com/wp-content/storage/2017/10/file-sample_150kB.pdf\",\n",
    "    \"https://file-examples.com/wp-content/storage/2017/02/file_example_JSON_1kb.json\",\n",
    "    \"https://file-examples.com/wp-content/storage/2017/02/file_example_XML_24kb.xml\",\n",
    "    \"https://file-examples.com/wp-content/storage/2017/02/index.html\",\n",
    "    \"https://file-examples.com/wp-content/storage/2017/02/file_example_XLSX_5000.xlsx\",\n",
    "    \"https://file-examples.com/wp-content/storage/2017/02/file_example_CSV_5000.csv\",\n",
    "]\n",
    "\n",
    "await process_many(urls)"
   ]
  },
  {
   "cell_type": "markdown",
   "metadata": {},
   "source": [
    "### clean up"
   ]
  },
  {
   "cell_type": "code",
   "execution_count": 26,
   "metadata": {},
   "outputs": [],
   "source": [
    "# temporary folder for data\n",
    "folder = Path(\".\") / \"data\"\n",
    "if not folder.exists():\n",
    "    folder.mkdir()\n",
    "else:\n",
    "    for file in folder.iterdir():\n",
    "        if file.is_file():\n",
    "            file.unlink()"
   ]
  },
  {
   "cell_type": "code",
   "execution_count": null,
   "metadata": {},
   "outputs": [],
   "source": []
  },
  {
   "cell_type": "code",
   "execution_count": null,
   "metadata": {},
   "outputs": [],
   "source": []
  }
 ],
 "metadata": {
  "kernelspec": {
   "display_name": "Python 3",
   "language": "python",
   "name": "python3"
  },
  "language_info": {
   "codemirror_mode": {
    "name": "ipython",
    "version": 3
   },
   "file_extension": ".py",
   "mimetype": "text/x-python",
   "name": "python",
   "nbconvert_exporter": "python",
   "pygments_lexer": "ipython3",
   "version": "3.13.2"
  }
 },
 "nbformat": 4,
 "nbformat_minor": 2
}
