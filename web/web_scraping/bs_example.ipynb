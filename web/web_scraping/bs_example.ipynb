{
 "cells": [
  {
   "cell_type": "code",
   "execution_count": null,
   "id": "4b771826",
   "metadata": {},
   "outputs": [],
   "source": [
    "from pathlib import Path\n",
    "\n",
    "# __file__ = \"web/scrap_pi/scrap_pi.py\"\n",
    "here = Path(__file__).parent.absolute()\n",
    "\n",
    "# via requests\n",
    "###################\n",
    "import os\n",
    "import urllib.request\n",
    "\n",
    "import requests\n",
    "from bs4 import BeautifulSoup\n",
    "\n",
    "url = \"https://www.pinterest.com/search/pins/?q=food&rs=typed&term_meta[]=food%7Ctyped\"\n",
    "\n",
    "headers = {\n",
    "    \"User-Agent\": \"Mozilla/5.0 (X11; Linux x86_64) AppleWebKit/537.36 (KHTML, like Gecko) Chrome/80.0.3987.149 Safari/537.36\"\n",
    "}\n",
    "\n",
    "\n",
    "def scrap_pinterest(url):\n",
    "    page = requests.get(url, headers=headers)\n",
    "    soup = BeautifulSoup(page.content, \"html.parser\")\n",
    "\n",
    "    # layout structure of the soup object, write to a file\n",
    "    with open(\"soup.txt\", \"w\") as f:\n",
    "        f.write(soup.prettify())\n",
    "\n",
    "    images = soup.find_all(\"jpg\")\n",
    "    for image in images:\n",
    "        image_url = image[\"src\"]\n",
    "        # get image\n",
    "        urllib.request.urlretrieve(image_url, os.path.basename(image_url))\n",
    "\n",
    "\n",
    "scrap_pinterest(url)\n"
   ]
  },
  {
   "cell_type": "code",
   "execution_count": null,
   "id": "776a9735",
   "metadata": {},
   "outputs": [],
   "source": []
  },
  {
   "cell_type": "code",
   "execution_count": null,
   "id": "388cd918",
   "metadata": {},
   "outputs": [],
   "source": []
  },
  {
   "cell_type": "code",
   "execution_count": null,
   "id": "a642caea",
   "metadata": {},
   "outputs": [],
   "source": []
  }
 ],
 "metadata": {
  "kernelspec": {
   "display_name": "Python 3",
   "language": "python",
   "name": "python3"
  },
  "language_info": {
   "name": "python",
   "version": "3.13.2"
  }
 },
 "nbformat": 4,
 "nbformat_minor": 5
}
