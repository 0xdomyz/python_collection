{
 "cells": [
  {
   "cell_type": "code",
   "execution_count": 1,
   "id": "03035c24",
   "metadata": {},
   "outputs": [],
   "source": [
    "import time\n",
    "import requests\n",
    "from loguru import logger\n"
   ]
  },
  {
   "cell_type": "markdown",
   "id": "cb493fa0",
   "metadata": {},
   "source": [
    "### exponential backoff"
   ]
  },
  {
   "cell_type": "code",
   "execution_count": null,
   "id": "7b782a35",
   "metadata": {},
   "outputs": [],
   "source": [
    "class MaxRetriesExceeded(Exception):\n",
    "    pass\n",
    "\n",
    "def make_request_with_backoff(url, max_retries=3, base_delay=1):\n",
    "    \"\"\"\n",
    "    Makes a request to the given URL with exponential backoff on failure.\n",
    "    \"\"\"\n",
    "    attempt = 1\n",
    "    while True:\n",
    "        try:\n",
    "            response = requests.get(url)\n",
    "            response.raise_for_status()\n",
    "            return response\n",
    "        except requests.exceptions.RequestException as e:\n",
    "            \n",
    "            # terminating condition\n",
    "            if attempt >= max_retries:\n",
    "                logger.warning(f\"Request failed: {e}, Max retries {max_retries} exceeded.\")\n",
    "                raise MaxRetriesExceeded(f\"Max retries exceeded for URL: {url}\") from e\n",
    "            \n",
    "            # processing logic\n",
    "            delay = base_delay * (2 ** (attempt - 1))  # Exponential backoff\n",
    "            logger.warning(f\"Request failed: {e}, wait for {delay} seconds...\")\n",
    "            time.sleep(delay)\n",
    "        \n",
    "        attempt += 1\n"
   ]
  },
  {
   "cell_type": "code",
   "execution_count": 30,
   "id": "c94ccd3c",
   "metadata": {},
   "outputs": [
    {
     "name": "stderr",
     "output_type": "stream",
     "text": [
      "\u001b[32m2025-04-22 23:06:15.105\u001b[0m | \u001b[33m\u001b[1mWARNING \u001b[0m | \u001b[36m__main__\u001b[0m:\u001b[36mmake_request_with_backoff\u001b[0m:\u001b[36m20\u001b[0m - \u001b[33m\u001b[1mRequest failed: 429 Client Error: TOO MANY REQUESTS for url: https://httpbin.org/status/429, wait for 2 seconds...\u001b[0m\n",
      "\u001b[32m2025-04-22 23:06:23.502\u001b[0m | \u001b[33m\u001b[1mWARNING \u001b[0m | \u001b[36m__main__\u001b[0m:\u001b[36mmake_request_with_backoff\u001b[0m:\u001b[36m20\u001b[0m - \u001b[33m\u001b[1mRequest failed: 429 Client Error: TOO MANY REQUESTS for url: https://httpbin.org/status/429, wait for 4 seconds...\u001b[0m\n",
      "\u001b[32m2025-04-22 23:06:29.751\u001b[0m | \u001b[33m\u001b[1mWARNING \u001b[0m | \u001b[36m__main__\u001b[0m:\u001b[36mmake_request_with_backoff\u001b[0m:\u001b[36m15\u001b[0m - \u001b[33m\u001b[1mRequest failed: 429 Client Error: TOO MANY REQUESTS for url: https://httpbin.org/status/429, Max retries 3 exceeded.\u001b[0m\n",
      "\u001b[32m2025-04-22 23:06:29.753\u001b[0m | \u001b[31m\u001b[1mERROR   \u001b[0m | \u001b[36m__main__\u001b[0m:\u001b[36m<module>\u001b[0m:\u001b[36m5\u001b[0m - \u001b[31m\u001b[1mMax retries exceeded for URL: https://httpbin.org/status/429\u001b[0m\n"
     ]
    }
   ],
   "source": [
    "test_url = \"https://httpbin.org/status/429\"  # Simulates rate-limiting\n",
    "try:\n",
    "    response = make_request_with_backoff(test_url, max_retries=3, base_delay=2)\n",
    "except MaxRetriesExceeded as e:\n",
    "    logger.error(e)"
   ]
  },
  {
   "cell_type": "markdown",
   "id": "e85ed436",
   "metadata": {},
   "source": [
    "### decorator"
   ]
  },
  {
   "cell_type": "code",
   "execution_count": 5,
   "id": "14348a55",
   "metadata": {},
   "outputs": [],
   "source": [
    "import time\n",
    "import requests\n",
    "from loguru import logger\n",
    "from functools import wraps\n",
    "\n",
    "class MaxRetriesExceeded(Exception):\n",
    "    pass\n",
    "\n",
    "def with_exponential_backoff(max_retries=3, base_delay=1):\n",
    "    \"\"\"\n",
    "    A decorator to apply exponential backoff to any function.\n",
    "    \"\"\"\n",
    "    def decorator(func):\n",
    "        @wraps(func)\n",
    "        def wrapper(*args, **kwargs):\n",
    "            attempt = 1\n",
    "            while True:\n",
    "                try:\n",
    "                    return func(*args, **kwargs)\n",
    "                except Exception as e:\n",
    "                    if attempt == max_retries:# Terminating condition \n",
    "                        logger.warning(f\"{func.__name__} failed: {e}, reached max retries\")\n",
    "                        raise MaxRetriesExceeded(f\"Max retries {max_retries} exceeded for {func.__name__}\")\n",
    "                    else:\n",
    "                        # Processing logic\n",
    "                        delay = base_delay * (2 ** (attempt - 1))  # Exponential backoff\n",
    "                        logger.warning(f\"{func.__name__} failed: {e}, will retry in {delay} seconds...\")\n",
    "                        time.sleep(delay)\n",
    "                \n",
    "                attempt += 1\n",
    "\n",
    "        return wrapper\n",
    "    return decorator\n"
   ]
  },
  {
   "cell_type": "code",
   "execution_count": null,
   "id": "6b917b91",
   "metadata": {},
   "outputs": [
    {
     "name": "stderr",
     "output_type": "stream",
     "text": [
      "\u001b[32m2025-04-23 00:16:39.625\u001b[0m | \u001b[33m\u001b[1mWARNING \u001b[0m | \u001b[36m__main__\u001b[0m:\u001b[36mwrapper\u001b[0m:\u001b[36m27\u001b[0m - \u001b[33m\u001b[1mmake_request failed: 429 Client Error: TOO MANY REQUESTS for url: https://httpbin.org/status/429, will retry in 2 seconds...\u001b[0m\n",
      "\u001b[32m2025-04-23 00:16:42.902\u001b[0m | \u001b[33m\u001b[1mWARNING \u001b[0m | \u001b[36m__main__\u001b[0m:\u001b[36mwrapper\u001b[0m:\u001b[36m27\u001b[0m - \u001b[33m\u001b[1mmake_request failed: 429 Client Error: TOO MANY REQUESTS for url: https://httpbin.org/status/429, will retry in 4 seconds...\u001b[0m\n",
      "\u001b[32m2025-04-23 00:16:49.047\u001b[0m | \u001b[33m\u001b[1mWARNING \u001b[0m | \u001b[36m__main__\u001b[0m:\u001b[36mwrapper\u001b[0m:\u001b[36m22\u001b[0m - \u001b[33m\u001b[1mmake_request failed: 429 Client Error: TOO MANY REQUESTS for url: https://httpbin.org/status/429, reached max retries\u001b[0m\n",
      "\u001b[32m2025-04-23 00:16:49.050\u001b[0m | \u001b[31m\u001b[1mERROR   \u001b[0m | \u001b[36m__main__\u001b[0m:\u001b[36m<module>\u001b[0m:\u001b[36m18\u001b[0m - \u001b[31m\u001b[1mMax retries 3 exceeded for make_request\u001b[0m\n"
     ]
    }
   ],
   "source": [
    "\n",
    "# Example usage\n",
    "@with_exponential_backoff(max_retries=3, base_delay=2)\n",
    "def make_request(url):\n",
    "    \"\"\"\n",
    "    Makes a request to the given URL.\n",
    "    \"\"\"\n",
    "    response = requests.get(url)\n",
    "    response.raise_for_status()\n",
    "    return response\n",
    "\n",
    "test_url = \"https://httpbin.org/status/429\"  # Simulates rate-limiting\n",
    "try:\n",
    "    response = make_request(test_url)\n",
    "    print(\"Response:\", response.text)\n",
    "except MaxRetriesExceeded as e:\n",
    "    logger.error(e)"
   ]
  },
  {
   "cell_type": "code",
   "execution_count": null,
   "id": "6f721c18",
   "metadata": {},
   "outputs": [],
   "source": []
  },
  {
   "cell_type": "code",
   "execution_count": null,
   "id": "e2cec2c4",
   "metadata": {},
   "outputs": [],
   "source": []
  },
  {
   "cell_type": "code",
   "execution_count": null,
   "id": "be68b728",
   "metadata": {},
   "outputs": [],
   "source": []
  }
 ],
 "metadata": {
  "kernelspec": {
   "display_name": "Python 3",
   "language": "python",
   "name": "python3"
  },
  "language_info": {
   "codemirror_mode": {
    "name": "ipython",
    "version": 3
   },
   "file_extension": ".py",
   "mimetype": "text/x-python",
   "name": "python",
   "nbconvert_exporter": "python",
   "pygments_lexer": "ipython3",
   "version": "3.13.2"
  }
 },
 "nbformat": 4,
 "nbformat_minor": 5
}
