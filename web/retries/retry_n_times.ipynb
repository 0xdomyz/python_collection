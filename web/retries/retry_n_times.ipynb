{
 "cells": [
  {
   "cell_type": "markdown",
   "id": "b0e11776",
   "metadata": {},
   "source": [
    "## try n times decorator"
   ]
  },
  {
   "cell_type": "code",
   "execution_count": 39,
   "id": "376b16c9",
   "metadata": {},
   "outputs": [],
   "source": [
    "import functools\n",
    "import time\n",
    "from loguru import logger\n",
    "from typing import Callable, Any, Optional\n",
    "\n",
    "class MaxRetriesExceeded(Exception):\n",
    "    pass\n",
    "\n",
    "# request\n",
    "def try_n_times(\n",
    "    max_retries: int = 3, delay = 1, \n",
    "):\n",
    "    \"\"\"\n",
    "    Try to run a func for n times with pauses in between runs\n",
    "    \"\"\"\n",
    "\n",
    "    def decorate(func):\n",
    "        @functools.wraps(func)\n",
    "        def new_func(*args, **kwargs):\n",
    "            for _ in range(max_retries):\n",
    "                try:\n",
    "                    return func(*args, **kwargs)\n",
    "                except Exception as e:\n",
    "                    if _ == max_retries - 1: # terminal case\n",
    "                        logger.warning(f\"{func.__name__} failed with error: {e}, reached max retries\")\n",
    "                    else:\n",
    "                        # processing logic\n",
    "                        logger.warning(f\"{func.__name__} failed with error: {e}, will retry in {delay} seconds...\")\n",
    "                        time.sleep(delay)\n",
    "            raise MaxRetriesExceeded(\n",
    "                            f\"Max retries {max_retries} exceeded for {func.__name__}\"\n",
    "                        )\n",
    "        return new_func\n",
    "\n",
    "    return decorate\n",
    "\n"
   ]
  },
  {
   "cell_type": "code",
   "execution_count": 40,
   "id": "e2cec2c4",
   "metadata": {},
   "outputs": [],
   "source": [
    "@try_n_times(max_retries=3, delay=2)\n",
    "def unreliable_function(x):\n",
    "    \"\"\"\n",
    "    A function that raises an exception unless x > 5.\n",
    "    \"\"\"\n",
    "    if x <= 5:\n",
    "        raise ValueError(\"x must be greater than 5\")\n",
    "    return f\"Success with x = {x}\"\n"
   ]
  },
  {
   "cell_type": "code",
   "execution_count": 41,
   "id": "45370e66",
   "metadata": {},
   "outputs": [
    {
     "name": "stderr",
     "output_type": "stream",
     "text": [
      "\u001b[32m2025-04-23 00:17:04.296\u001b[0m | \u001b[33m\u001b[1mWARNING \u001b[0m | \u001b[36m__main__\u001b[0m:\u001b[36mnew_func\u001b[0m:\u001b[36m28\u001b[0m - \u001b[33m\u001b[1munreliable_function failed with error: x must be greater than 5, will retry in 2 seconds...\u001b[0m\n",
      "\u001b[32m2025-04-23 00:17:06.297\u001b[0m | \u001b[33m\u001b[1mWARNING \u001b[0m | \u001b[36m__main__\u001b[0m:\u001b[36mnew_func\u001b[0m:\u001b[36m28\u001b[0m - \u001b[33m\u001b[1munreliable_function failed with error: x must be greater than 5, will retry in 2 seconds...\u001b[0m\n",
      "\u001b[32m2025-04-23 00:17:08.300\u001b[0m | \u001b[33m\u001b[1mWARNING \u001b[0m | \u001b[36m__main__\u001b[0m:\u001b[36mnew_func\u001b[0m:\u001b[36m25\u001b[0m - \u001b[33m\u001b[1munreliable_function failed with error: x must be greater than 5, reached max retries\u001b[0m\n",
      "\u001b[32m2025-04-23 00:17:08.303\u001b[0m | \u001b[31m\u001b[1mERROR   \u001b[0m | \u001b[36m__main__\u001b[0m:\u001b[36m<module>\u001b[0m:\u001b[36m5\u001b[0m - \u001b[31m\u001b[1mMax retries 3 exceeded for unreliable_function\u001b[0m\n"
     ]
    }
   ],
   "source": [
    "\n",
    "# Test case 2: Function fails and returns fallback value\n",
    "try:\n",
    "    result = unreliable_function(4)\n",
    "except MaxRetriesExceeded as e:\n",
    "    logger.error(e)"
   ]
  },
  {
   "cell_type": "code",
   "execution_count": null,
   "id": "afe22672",
   "metadata": {},
   "outputs": [],
   "source": []
  }
 ],
 "metadata": {
  "kernelspec": {
   "display_name": "Python 3",
   "language": "python",
   "name": "python3"
  },
  "language_info": {
   "codemirror_mode": {
    "name": "ipython",
    "version": 3
   },
   "file_extension": ".py",
   "mimetype": "text/x-python",
   "name": "python",
   "nbconvert_exporter": "python",
   "pygments_lexer": "ipython3",
   "version": "3.13.2"
  }
 },
 "nbformat": 4,
 "nbformat_minor": 5
}
