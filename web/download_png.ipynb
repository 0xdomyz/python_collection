{
 "cells": [
  {
   "cell_type": "markdown",
   "metadata": {},
   "source": [
    "### download exmaple"
   ]
  },
  {
   "cell_type": "code",
   "execution_count": 5,
   "metadata": {},
   "outputs": [],
   "source": [
    "import requests\n",
    "from pathlib import Path\n",
    "import json"
   ]
  },
  {
   "cell_type": "code",
   "execution_count": 2,
   "metadata": {},
   "outputs": [],
   "source": [
    "url = \"https://EXAMPLE/exmaple.png\""
   ]
  },
  {
   "cell_type": "code",
   "execution_count": 4,
   "metadata": {},
   "outputs": [
    {
     "name": "stdout",
     "output_type": "stream",
     "text": [
      "Status code: 200\n",
      "Content length: 2968225\n",
      "Content type: image/png\n",
      "Content encoding: None\n"
     ]
    }
   ],
   "source": [
    "response = requests.get(url)\n",
    "print(f\"Status code: {response.status_code}\")\n",
    "print(f\"Content length: {len(response.content)}\")\n",
    "print(f\"Content type: {response.headers['content-type']}\")\n",
    "print(f\"Content encoding: {response.encoding}\")"
   ]
  },
  {
   "cell_type": "code",
   "execution_count": 8,
   "metadata": {},
   "outputs": [
    {
     "name": "stdout",
     "output_type": "stream",
     "text": [
      "Saved to wallpaper.png\n"
     ]
    }
   ],
   "source": [
    "location = Path(r\"\")\n",
    "name = \"wallpaper.png\"\n",
    "with open(location / name, \"wb\") as f:\n",
    "    f.write(response.content)\n",
    "    print(f\"Saved to {location / name}\")"
   ]
  },
  {
   "cell_type": "markdown",
   "metadata": {},
   "source": [
    "### func"
   ]
  },
  {
   "cell_type": "code",
   "execution_count": 9,
   "metadata": {},
   "outputs": [],
   "source": [
    "def download_pic(url: str, location: Path, name: str):\n",
    "    response = requests.get(url)\n",
    "    print(\n",
    "        f\"downloaded {name}, status code: {response.status_code},\"\n",
    "        f\" content type: {response.headers['content-type']}\"\n",
    "    )\n",
    "    if response.status_code != 200:\n",
    "        return\n",
    "    elif response.headers[\"content-type\"] != \"image/png\":\n",
    "        return\n",
    "    else:\n",
    "        with open(location / name, \"wb\") as f:\n",
    "            f.write(response.content)\n",
    "            print(f\"Saved to {location / name}\")"
   ]
  },
  {
   "cell_type": "code",
   "execution_count": 10,
   "metadata": {},
   "outputs": [
    {
     "name": "stdout",
     "output_type": "stream",
     "text": [
      "downloaded wallpaper.png, status code: 200, content type: image/png\n",
      "Saved to wallpaper.png\n"
     ]
    }
   ],
   "source": [
    "download_pic(\n",
    "    url=\"https://EXAMPLE/exmzaple.png\",\n",
    "    location=Path(r\"\"),\n",
    "    name=\"wallpaper.png\"\n",
    ")"
   ]
  },
  {
   "cell_type": "markdown",
   "metadata": {},
   "source": [
    "### url patterns"
   ]
  },
  {
   "cell_type": "code",
   "execution_count": null,
   "metadata": {},
   "outputs": [],
   "source": [
    "number = f\"0{18}\"\n",
    "target = f\"https://EXAMPLE/example{number}_rip/example.png\"\n",
    "print(target)\n"
   ]
  },
  {
   "cell_type": "markdown",
   "metadata": {},
   "source": [
    "### process"
   ]
  },
  {
   "cell_type": "code",
   "execution_count": null,
   "metadata": {},
   "outputs": [],
   "source": [
    "for i in range(32,40):\n",
    "    number = f\"0{i}\"\n",
    "    for j in [\"asdf\",\"awefewf\"]:\n",
    "        target = (\n",
    "            f\"https://EXAMPLE/example{number}_rip/{j}.png\"\n",
    "        )\n",
    "        name = f\"example{number}_{j}.png\"\n",
    "        print(target)\n",
    "        download_pic(\n",
    "            url=target,\n",
    "            location=Path(r\"E:\\wallpaper\"),\n",
    "            name=name\n",
    "        )\n",
    "    \n"
   ]
  },
  {
   "cell_type": "code",
   "execution_count": null,
   "metadata": {},
   "outputs": [],
   "source": []
  },
  {
   "cell_type": "code",
   "execution_count": null,
   "metadata": {},
   "outputs": [],
   "source": []
  },
  {
   "cell_type": "code",
   "execution_count": null,
   "metadata": {},
   "outputs": [],
   "source": []
  },
  {
   "cell_type": "code",
   "execution_count": null,
   "metadata": {},
   "outputs": [],
   "source": []
  }
 ],
 "metadata": {
  "kernelspec": {
   "display_name": "Python 3",
   "language": "python",
   "name": "python3"
  },
  "language_info": {
   "codemirror_mode": {
    "name": "ipython",
    "version": 3
   },
   "file_extension": ".py",
   "mimetype": "text/x-python",
   "name": "python",
   "nbconvert_exporter": "python",
   "pygments_lexer": "ipython3",
   "version": "3.11.4"
  }
 },
 "nbformat": 4,
 "nbformat_minor": 2
}
