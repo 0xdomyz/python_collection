{
 "cells": [
  {
   "cell_type": "code",
   "execution_count": 1,
   "id": "3145793b",
   "metadata": {},
   "outputs": [],
   "source": [
    "import numpy as np\n",
    "import pandas as pd"
   ]
  },
  {
   "cell_type": "code",
   "execution_count": 3,
   "id": "4779c309",
   "metadata": {},
   "outputs": [
    {
     "data": {
      "application/vnd.microsoft.datawrangler.viewer.v0+json": {
       "columns": [
        {
         "name": "index",
         "rawType": "int64",
         "type": "integer"
        },
        {
         "name": "A",
         "rawType": "int32",
         "type": "integer"
        },
        {
         "name": "B",
         "rawType": "float64",
         "type": "float"
        },
        {
         "name": "C",
         "rawType": "object",
         "type": "string"
        },
        {
         "name": "D",
         "rawType": "datetime64[ns]",
         "type": "datetime"
        },
        {
         "name": "E",
         "rawType": "bool",
         "type": "boolean"
        },
        {
         "name": "F",
         "rawType": "float64",
         "type": "float"
        },
        {
         "name": "G",
         "rawType": "int32",
         "type": "integer"
        },
        {
         "name": "H",
         "rawType": "object",
         "type": "string"
        },
        {
         "name": "I",
         "rawType": "int32",
         "type": "integer"
        },
        {
         "name": "J",
         "rawType": "object",
         "type": "string"
        }
       ],
       "ref": "6fe4d30e-e3bf-437c-bf6b-3e5fc5ae41cd",
       "rows": [
        [
         "0",
         "18",
         "0.1954671864243266",
         "foo",
         "2020-01-01 00:00:00",
         "False",
         "1.9160127818868204",
         "8",
         "apple",
         "1523",
         "z"
        ],
        [
         "1",
         "13",
         "0.09332069649087793",
         "foo",
         "2020-01-01 00:01:00",
         "False",
         "-0.9306601147833262",
         "6",
         "apple",
         "1458",
         "x"
        ],
        [
         "2",
         "84",
         "0.04736773633418734",
         "bar",
         "2020-01-01 00:02:00",
         "False",
         "0.6231596428703647",
         "8",
         "apple",
         "1330",
         "y"
        ],
        [
         "3",
         "17",
         "0.5244055736808151",
         "foo",
         "2020-01-01 00:03:00",
         "False",
         "0.5297677605659794",
         "7",
         "cherry",
         "1874",
         "z"
        ],
        [
         "4",
         "29",
         "0.260558273129031",
         "foo",
         "2020-01-01 00:04:00",
         "False",
         "-1.5848839352279036",
         "3",
         "apple",
         "1146",
         "x"
        ]
       ],
       "shape": {
        "columns": 10,
        "rows": 5
       }
      },
      "text/html": [
       "<div>\n",
       "<style scoped>\n",
       "    .dataframe tbody tr th:only-of-type {\n",
       "        vertical-align: middle;\n",
       "    }\n",
       "\n",
       "    .dataframe tbody tr th {\n",
       "        vertical-align: top;\n",
       "    }\n",
       "\n",
       "    .dataframe thead th {\n",
       "        text-align: right;\n",
       "    }\n",
       "</style>\n",
       "<table border=\"1\" class=\"dataframe\">\n",
       "  <thead>\n",
       "    <tr style=\"text-align: right;\">\n",
       "      <th></th>\n",
       "      <th>A</th>\n",
       "      <th>B</th>\n",
       "      <th>C</th>\n",
       "      <th>D</th>\n",
       "      <th>E</th>\n",
       "      <th>F</th>\n",
       "      <th>G</th>\n",
       "      <th>H</th>\n",
       "      <th>I</th>\n",
       "      <th>J</th>\n",
       "    </tr>\n",
       "  </thead>\n",
       "  <tbody>\n",
       "    <tr>\n",
       "      <th>0</th>\n",
       "      <td>18</td>\n",
       "      <td>0.195467</td>\n",
       "      <td>foo</td>\n",
       "      <td>2020-01-01 00:00:00</td>\n",
       "      <td>False</td>\n",
       "      <td>1.916013</td>\n",
       "      <td>8</td>\n",
       "      <td>apple</td>\n",
       "      <td>1523</td>\n",
       "      <td>z</td>\n",
       "    </tr>\n",
       "    <tr>\n",
       "      <th>1</th>\n",
       "      <td>13</td>\n",
       "      <td>0.093321</td>\n",
       "      <td>foo</td>\n",
       "      <td>2020-01-01 00:01:00</td>\n",
       "      <td>False</td>\n",
       "      <td>-0.930660</td>\n",
       "      <td>6</td>\n",
       "      <td>apple</td>\n",
       "      <td>1458</td>\n",
       "      <td>x</td>\n",
       "    </tr>\n",
       "    <tr>\n",
       "      <th>2</th>\n",
       "      <td>84</td>\n",
       "      <td>0.047368</td>\n",
       "      <td>bar</td>\n",
       "      <td>2020-01-01 00:02:00</td>\n",
       "      <td>False</td>\n",
       "      <td>0.623160</td>\n",
       "      <td>8</td>\n",
       "      <td>apple</td>\n",
       "      <td>1330</td>\n",
       "      <td>y</td>\n",
       "    </tr>\n",
       "    <tr>\n",
       "      <th>3</th>\n",
       "      <td>17</td>\n",
       "      <td>0.524406</td>\n",
       "      <td>foo</td>\n",
       "      <td>2020-01-01 00:03:00</td>\n",
       "      <td>False</td>\n",
       "      <td>0.529768</td>\n",
       "      <td>7</td>\n",
       "      <td>cherry</td>\n",
       "      <td>1874</td>\n",
       "      <td>z</td>\n",
       "    </tr>\n",
       "    <tr>\n",
       "      <th>4</th>\n",
       "      <td>29</td>\n",
       "      <td>0.260558</td>\n",
       "      <td>foo</td>\n",
       "      <td>2020-01-01 00:04:00</td>\n",
       "      <td>False</td>\n",
       "      <td>-1.584884</td>\n",
       "      <td>3</td>\n",
       "      <td>apple</td>\n",
       "      <td>1146</td>\n",
       "      <td>x</td>\n",
       "    </tr>\n",
       "  </tbody>\n",
       "</table>\n",
       "</div>"
      ],
      "text/plain": [
       "    A         B    C                   D      E         F  G       H     I  J\n",
       "0  18  0.195467  foo 2020-01-01 00:00:00  False  1.916013  8   apple  1523  z\n",
       "1  13  0.093321  foo 2020-01-01 00:01:00  False -0.930660  6   apple  1458  x\n",
       "2  84  0.047368  bar 2020-01-01 00:02:00  False  0.623160  8   apple  1330  y\n",
       "3  17  0.524406  foo 2020-01-01 00:03:00  False  0.529768  7  cherry  1874  z\n",
       "4  29  0.260558  foo 2020-01-01 00:04:00  False -1.584884  3   apple  1146  x"
      ]
     },
     "execution_count": 3,
     "metadata": {},
     "output_type": "execute_result"
    }
   ],
   "source": [
    "# example data with 1 million rows and 10 columns with various data types\n",
    "data = {\n",
    "    \"A\": np.random.randint(0, 100, size=1000000),\n",
    "    \"B\": np.random.rand(1000000),\n",
    "    \"C\": np.random.choice([\"foo\", \"bar\", \"baz\"], size=1000000),\n",
    "    \"D\": pd.date_range(\"2020-01-01\", periods=1000000, freq=\"min\"),\n",
    "    \"E\": np.random.choice([True, False], size=1000000),\n",
    "    \"F\": np.random.randn(1000000),\n",
    "    \"G\": np.random.randint(1, 10, size=1000000),\n",
    "    \"H\": np.random.choice([\"apple\", \"banana\", \"cherry\"], size=1000000),\n",
    "    \"I\": np.random.randint(1000, 2000, size=1000000),\n",
    "    \"J\": np.random.choice([\"x\", \"y\", \"z\"], size=1000000),\n",
    "}\n",
    "data = pd.DataFrame(data)\n",
    "data.head()"
   ]
  },
  {
   "cell_type": "markdown",
   "id": "08a3e043",
   "metadata": {},
   "source": [
    "### by loops"
   ]
  },
  {
   "cell_type": "code",
   "execution_count": 4,
   "id": "27feca17",
   "metadata": {},
   "outputs": [],
   "source": [
    "# simulate on this data structure, making new columns with random uniform 0-1, each time do summary on the new col and one of the existing columns, collecting summaries in a list\n",
    "def generate_random_column_and_summarize(df, col_name):\n",
    "    new_col_name = f\"random_{col_name}\"\n",
    "    df[new_col_name] = np.random.rand(len(df))\n",
    "\n",
    "    summary = {\n",
    "        \"column\": new_col_name,\n",
    "        \"mean\": df[new_col_name].mean(),\n",
    "        \"std\": df[new_col_name].std(),\n",
    "        \"min\": df[new_col_name].min(),\n",
    "        \"max\": df[new_col_name].max(),\n",
    "        \"count\": df[new_col_name].count(),\n",
    "    }\n",
    "\n",
    "    return summary"
   ]
  },
  {
   "cell_type": "code",
   "execution_count": 5,
   "id": "237fe596",
   "metadata": {},
   "outputs": [
    {
     "name": "stderr",
     "output_type": "stream",
     "text": [
      "C:\\Users\\yzdom\\AppData\\Local\\Temp\\ipykernel_18436\\462068771.py:4: PerformanceWarning: DataFrame is highly fragmented.  This is usually the result of calling `frame.insert` many times, which has poor performance.  Consider joining all columns at once using pd.concat(axis=1) instead. To get a de-fragmented frame, use `newframe = frame.copy()`\n",
      "  df[new_col_name] = np.random.rand(len(df))\n",
      "C:\\Users\\yzdom\\AppData\\Local\\Temp\\ipykernel_18436\\462068771.py:4: PerformanceWarning: DataFrame is highly fragmented.  This is usually the result of calling `frame.insert` many times, which has poor performance.  Consider joining all columns at once using pd.concat(axis=1) instead. To get a de-fragmented frame, use `newframe = frame.copy()`\n",
      "  df[new_col_name] = np.random.rand(len(df))\n",
      "C:\\Users\\yzdom\\AppData\\Local\\Temp\\ipykernel_18436\\462068771.py:4: PerformanceWarning: DataFrame is highly fragmented.  This is usually the result of calling `frame.insert` many times, which has poor performance.  Consider joining all columns at once using pd.concat(axis=1) instead. To get a de-fragmented frame, use `newframe = frame.copy()`\n",
      "  df[new_col_name] = np.random.rand(len(df))\n",
      "C:\\Users\\yzdom\\AppData\\Local\\Temp\\ipykernel_18436\\462068771.py:4: PerformanceWarning: DataFrame is highly fragmented.  This is usually the result of calling `frame.insert` many times, which has poor performance.  Consider joining all columns at once using pd.concat(axis=1) instead. To get a de-fragmented frame, use `newframe = frame.copy()`\n",
      "  df[new_col_name] = np.random.rand(len(df))\n",
      "C:\\Users\\yzdom\\AppData\\Local\\Temp\\ipykernel_18436\\462068771.py:4: PerformanceWarning: DataFrame is highly fragmented.  This is usually the result of calling `frame.insert` many times, which has poor performance.  Consider joining all columns at once using pd.concat(axis=1) instead. To get a de-fragmented frame, use `newframe = frame.copy()`\n",
      "  df[new_col_name] = np.random.rand(len(df))\n"
     ]
    },
    {
     "data": {
      "application/vnd.microsoft.datawrangler.viewer.v0+json": {
       "columns": [
        {
         "name": "index",
         "rawType": "int64",
         "type": "integer"
        },
        {
         "name": "column",
         "rawType": "object",
         "type": "string"
        },
        {
         "name": "mean",
         "rawType": "float64",
         "type": "float"
        },
        {
         "name": "std",
         "rawType": "float64",
         "type": "float"
        },
        {
         "name": "min",
         "rawType": "float64",
         "type": "float"
        },
        {
         "name": "max",
         "rawType": "float64",
         "type": "float"
        },
        {
         "name": "count",
         "rawType": "int64",
         "type": "integer"
        }
       ],
       "ref": "5380a855-9aba-4133-9692-ac9732d95044",
       "rows": [
        [
         "0",
         "random_0",
         "0.49956973955071804",
         "0.28871494484415683",
         "6.702491783805442e-08",
         "0.9999995740054513",
         "1000000"
        ],
        [
         "1",
         "random_1",
         "0.5002990111953879",
         "0.2887898954544441",
         "2.1147679918342988e-07",
         "0.9999983253281308",
         "1000000"
        ],
        [
         "2",
         "random_2",
         "0.5000318029777765",
         "0.2887293361962473",
         "5.351772777162367e-07",
         "0.9999999807727746",
         "1000000"
        ],
        [
         "3",
         "random_3",
         "0.5001582027370229",
         "0.28856631253971404",
         "7.07360515939115e-07",
         "0.9999987032411272",
         "1000000"
        ],
        [
         "4",
         "random_4",
         "0.49981293141685834",
         "0.28875465487613583",
         "5.068415199760423e-07",
         "0.9999999257675184",
         "1000000"
        ]
       ],
       "shape": {
        "columns": 6,
        "rows": 5
       }
      },
      "text/html": [
       "<div>\n",
       "<style scoped>\n",
       "    .dataframe tbody tr th:only-of-type {\n",
       "        vertical-align: middle;\n",
       "    }\n",
       "\n",
       "    .dataframe tbody tr th {\n",
       "        vertical-align: top;\n",
       "    }\n",
       "\n",
       "    .dataframe thead th {\n",
       "        text-align: right;\n",
       "    }\n",
       "</style>\n",
       "<table border=\"1\" class=\"dataframe\">\n",
       "  <thead>\n",
       "    <tr style=\"text-align: right;\">\n",
       "      <th></th>\n",
       "      <th>column</th>\n",
       "      <th>mean</th>\n",
       "      <th>std</th>\n",
       "      <th>min</th>\n",
       "      <th>max</th>\n",
       "      <th>count</th>\n",
       "    </tr>\n",
       "  </thead>\n",
       "  <tbody>\n",
       "    <tr>\n",
       "      <th>0</th>\n",
       "      <td>random_0</td>\n",
       "      <td>0.499570</td>\n",
       "      <td>0.288715</td>\n",
       "      <td>6.702492e-08</td>\n",
       "      <td>1.000000</td>\n",
       "      <td>1000000</td>\n",
       "    </tr>\n",
       "    <tr>\n",
       "      <th>1</th>\n",
       "      <td>random_1</td>\n",
       "      <td>0.500299</td>\n",
       "      <td>0.288790</td>\n",
       "      <td>2.114768e-07</td>\n",
       "      <td>0.999998</td>\n",
       "      <td>1000000</td>\n",
       "    </tr>\n",
       "    <tr>\n",
       "      <th>2</th>\n",
       "      <td>random_2</td>\n",
       "      <td>0.500032</td>\n",
       "      <td>0.288729</td>\n",
       "      <td>5.351773e-07</td>\n",
       "      <td>1.000000</td>\n",
       "      <td>1000000</td>\n",
       "    </tr>\n",
       "    <tr>\n",
       "      <th>3</th>\n",
       "      <td>random_3</td>\n",
       "      <td>0.500158</td>\n",
       "      <td>0.288566</td>\n",
       "      <td>7.073605e-07</td>\n",
       "      <td>0.999999</td>\n",
       "      <td>1000000</td>\n",
       "    </tr>\n",
       "    <tr>\n",
       "      <th>4</th>\n",
       "      <td>random_4</td>\n",
       "      <td>0.499813</td>\n",
       "      <td>0.288755</td>\n",
       "      <td>5.068415e-07</td>\n",
       "      <td>1.000000</td>\n",
       "      <td>1000000</td>\n",
       "    </tr>\n",
       "  </tbody>\n",
       "</table>\n",
       "</div>"
      ],
      "text/plain": [
       "     column      mean       std           min       max    count\n",
       "0  random_0  0.499570  0.288715  6.702492e-08  1.000000  1000000\n",
       "1  random_1  0.500299  0.288790  2.114768e-07  0.999998  1000000\n",
       "2  random_2  0.500032  0.288729  5.351773e-07  1.000000  1000000\n",
       "3  random_3  0.500158  0.288566  7.073605e-07  0.999999  1000000\n",
       "4  random_4  0.499813  0.288755  5.068415e-07  1.000000  1000000"
      ]
     },
     "execution_count": 5,
     "metadata": {},
     "output_type": "execute_result"
    }
   ],
   "source": [
    "# simulate 100 times\n",
    "summaries = []\n",
    "for col in range(100):\n",
    "    summary = generate_random_column_and_summarize(data, col)\n",
    "    summaries.append(summary)\n",
    "\n",
    "# Display the summaries\n",
    "sdf = pd.DataFrame(summaries, columns=[\"column\", \"mean\", \"std\", \"min\", \"max\", \"count\"])\n",
    "\n",
    "sdf.head()"
   ]
  },
  {
   "cell_type": "markdown",
   "id": "89c9c66b",
   "metadata": {},
   "source": [
    "### vectorized "
   ]
  },
  {
   "cell_type": "code",
   "execution_count": 8,
   "id": "8f16cadc",
   "metadata": {},
   "outputs": [
    {
     "name": "stdout",
     "output_type": "stream",
     "text": [
      "random_cols.shape=(1000000, 500)\n"
     ]
    },
    {
     "data": {
      "text/plain": [
       "array([[0.70314242, 0.22380397, 0.37443675, 0.47814453, 0.03532072],\n",
       "       [0.87337275, 0.14464855, 0.34109734, 0.93411117, 0.67949773],\n",
       "       [0.17674818, 0.75153754, 0.45394043, 0.72780007, 0.09674669],\n",
       "       [0.87418587, 0.67386422, 0.92692087, 0.58631969, 0.48498155],\n",
       "       [0.89181568, 0.73104451, 0.82865003, 0.29721189, 0.27377307]])"
      ]
     },
     "execution_count": 8,
     "metadata": {},
     "output_type": "execute_result"
    }
   ],
   "source": [
    "# make (len(df), 1000) numpy array with random uniform 0-1, and add it to the dataframe in one go\n",
    "random_cols = np.random.rand(len(data), 500)\n",
    "print(f\"{random_cols.shape=}\")\n",
    "random_cols[:5, :5]"
   ]
  },
  {
   "cell_type": "code",
   "execution_count": 9,
   "id": "50c056b6",
   "metadata": {},
   "outputs": [
    {
     "name": "stdout",
     "output_type": "stream",
     "text": [
      "Size of random_cols array: 3814.70 MB\n"
     ]
    }
   ],
   "source": [
    "import sys\n",
    "\n",
    "_ = sys.getsizeof(random_cols)  # size in bytes of the numpy array\n",
    "print(f\"Size of random_cols array: {_/1024**2:.2f} MB\")  # convert to MB"
   ]
  },
  {
   "cell_type": "code",
   "execution_count": 10,
   "id": "c19da7d7",
   "metadata": {},
   "outputs": [
    {
     "data": {
      "text/plain": [
       "array([[0.18],\n",
       "       [0.13],\n",
       "       [0.84],\n",
       "       [0.17],\n",
       "       [0.29]])"
      ]
     },
     "execution_count": 10,
     "metadata": {},
     "output_type": "execute_result"
    }
   ],
   "source": [
    "# for each column in the random_cols, calc against one of the cols in data, sumamrize and collect in a list\n",
    "threshold = data[\"A\"].div(100).values.reshape(-1, 1)\n",
    "threshold[:5]"
   ]
  },
  {
   "cell_type": "code",
   "execution_count": 11,
   "id": "165f44bd",
   "metadata": {},
   "outputs": [],
   "source": [
    "random_cols = (random_cols < threshold).astype(int)"
   ]
  },
  {
   "cell_type": "code",
   "execution_count": 12,
   "id": "84d42384",
   "metadata": {},
   "outputs": [
    {
     "name": "stdout",
     "output_type": "stream",
     "text": [
      "random_cols.shape=(1000000, 500)\n"
     ]
    },
    {
     "data": {
      "text/plain": [
       "array([[0, 0, 0, 0, 1],\n",
       "       [0, 0, 0, 0, 0],\n",
       "       [1, 1, 1, 1, 1],\n",
       "       [0, 0, 0, 0, 0],\n",
       "       [0, 0, 0, 0, 1]])"
      ]
     },
     "execution_count": 12,
     "metadata": {},
     "output_type": "execute_result"
    }
   ],
   "source": [
    "print(f\"{random_cols.shape=}\")\n",
    "random_cols[:5, :5]"
   ]
  },
  {
   "cell_type": "code",
   "execution_count": 15,
   "id": "e41b54e0",
   "metadata": {},
   "outputs": [
    {
     "data": {
      "application/vnd.microsoft.datawrangler.viewer.v0+json": {
       "columns": [
        {
         "name": "index",
         "rawType": "object",
         "type": "string"
        },
        {
         "name": "0",
         "rawType": "float64",
         "type": "float"
        }
       ],
       "ref": "b35266d2-8224-4610-b727-c9676e509066",
       "rows": [
        [
         "random_col_0",
         "0.494987"
        ],
        [
         "random_col_1",
         "0.49459"
        ],
        [
         "random_col_2",
         "0.494498"
        ],
        [
         "random_col_3",
         "0.494672"
        ],
        [
         "random_col_4",
         "0.495708"
        ],
        [
         "random_col_5",
         "0.495287"
        ],
        [
         "random_col_6",
         "0.495575"
        ],
        [
         "random_col_7",
         "0.49497"
        ],
        [
         "random_col_8",
         "0.49528"
        ],
        [
         "random_col_9",
         "0.494587"
        ],
        [
         "random_col_10",
         "0.495118"
        ],
        [
         "random_col_11",
         "0.49535"
        ],
        [
         "random_col_12",
         "0.495279"
        ],
        [
         "random_col_13",
         "0.494818"
        ],
        [
         "random_col_14",
         "0.494852"
        ],
        [
         "random_col_15",
         "0.494715"
        ],
        [
         "random_col_16",
         "0.494566"
        ],
        [
         "random_col_17",
         "0.494796"
        ],
        [
         "random_col_18",
         "0.495617"
        ],
        [
         "random_col_19",
         "0.49514"
        ],
        [
         "random_col_20",
         "0.494718"
        ],
        [
         "random_col_21",
         "0.494974"
        ],
        [
         "random_col_22",
         "0.494729"
        ],
        [
         "random_col_23",
         "0.494826"
        ],
        [
         "random_col_24",
         "0.49466"
        ],
        [
         "random_col_25",
         "0.494936"
        ],
        [
         "random_col_26",
         "0.494894"
        ],
        [
         "random_col_27",
         "0.493861"
        ],
        [
         "random_col_28",
         "0.494342"
        ],
        [
         "random_col_29",
         "0.494607"
        ],
        [
         "random_col_30",
         "0.493951"
        ],
        [
         "random_col_31",
         "0.495006"
        ],
        [
         "random_col_32",
         "0.495017"
        ],
        [
         "random_col_33",
         "0.494557"
        ],
        [
         "random_col_34",
         "0.494802"
        ],
        [
         "random_col_35",
         "0.495543"
        ],
        [
         "random_col_36",
         "0.494791"
        ],
        [
         "random_col_37",
         "0.494569"
        ],
        [
         "random_col_38",
         "0.494295"
        ],
        [
         "random_col_39",
         "0.494875"
        ],
        [
         "random_col_40",
         "0.494202"
        ],
        [
         "random_col_41",
         "0.494874"
        ],
        [
         "random_col_42",
         "0.494314"
        ],
        [
         "random_col_43",
         "0.494768"
        ],
        [
         "random_col_44",
         "0.494745"
        ],
        [
         "random_col_45",
         "0.494778"
        ],
        [
         "random_col_46",
         "0.494681"
        ],
        [
         "random_col_47",
         "0.495086"
        ],
        [
         "random_col_48",
         "0.49507"
        ],
        [
         "random_col_49",
         "0.494797"
        ]
       ],
       "shape": {
        "columns": 1,
        "rows": 500
       }
      },
      "text/plain": [
       "random_col_0      0.494987\n",
       "random_col_1      0.494590\n",
       "random_col_2      0.494498\n",
       "random_col_3      0.494672\n",
       "random_col_4      0.495708\n",
       "                    ...   \n",
       "random_col_495    0.494885\n",
       "random_col_496    0.495066\n",
       "random_col_497    0.495504\n",
       "random_col_498    0.494877\n",
       "random_col_499    0.495077\n",
       "Length: 500, dtype: float64"
      ]
     },
     "execution_count": 15,
     "metadata": {},
     "output_type": "execute_result"
    }
   ],
   "source": [
    "random_cols_df = pd.DataFrame(\n",
    "    random_cols, columns=[f\"random_col_{i}\" for i in range(random_cols.shape[1])]\n",
    ")\n",
    "random_cols_df.mean()"
   ]
  },
  {
   "cell_type": "code",
   "execution_count": null,
   "id": "60c04213",
   "metadata": {},
   "outputs": [],
   "source": []
  },
  {
   "cell_type": "code",
   "execution_count": null,
   "id": "73228a61",
   "metadata": {},
   "outputs": [],
   "source": []
  }
 ],
 "metadata": {
  "kernelspec": {
   "display_name": "Python 3",
   "language": "python",
   "name": "python3"
  },
  "language_info": {
   "codemirror_mode": {
    "name": "ipython",
    "version": 3
   },
   "file_extension": ".py",
   "mimetype": "text/x-python",
   "name": "python",
   "nbconvert_exporter": "python",
   "pygments_lexer": "ipython3",
   "version": "3.13.2"
  }
 },
 "nbformat": 4,
 "nbformat_minor": 5
}
