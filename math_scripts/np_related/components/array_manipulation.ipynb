{
 "cells": [
  {
   "cell_type": "code",
   "execution_count": null,
   "metadata": {},
   "outputs": [],
   "source": [
    "Array manipulation: Functions for changing array shape (reshape, ravel), changing array dimensions (swapaxes, transpose), joining arrays (concatenate, stack), splitting arrays (split, hsplit), adding/removing elements (resize, append, insert, delete), etc."
   ]
  }
 ],
 "metadata": {
  "language_info": {
   "name": "python"
  }
 },
 "nbformat": 4,
 "nbformat_minor": 2
}
