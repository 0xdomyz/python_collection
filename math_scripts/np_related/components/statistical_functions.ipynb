{
 "cells": [
  {
   "cell_type": "code",
   "execution_count": null,
   "metadata": {},
   "outputs": [],
   "source": [
    "Statistical functions: Functions for order statistics (amin, amax, nanmin, nanmax, ptp, percentile, nanpercentile, quantile, nanquantile), averages and variances (median, average, mean, std, var, nanmedian, nanmean, nanstd, nanvar), correlations (corrcoef, correlate, cov), histograms (histogram, histogramdd, histogram_bin_edges, bincount, histogram2d, digitize), etc."
   ]
  }
 ],
 "metadata": {
  "language_info": {
   "name": "python"
  }
 },
 "nbformat": 4,
 "nbformat_minor": 2
}
