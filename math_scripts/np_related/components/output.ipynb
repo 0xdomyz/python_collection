{
 "cells": [
  {
   "cell_type": "code",
   "execution_count": null,
   "metadata": {},
   "outputs": [],
   "source": [
    "File input/output: Functions for saving and loading NumPy arrays in binary format (save, savez, load, fromfile, tofile), saving and loading text files (genfromtxt, savetxt, loadtxt), raw binary files (fromfile, tofile), string formatting (array2string, array_str, array_repr, format_float_positional, format_float_scientific), etc.\n"
   ]
  }
 ],
 "metadata": {
  "language_info": {
   "name": "python"
  }
 },
 "nbformat": 4,
 "nbformat_minor": 2
}
