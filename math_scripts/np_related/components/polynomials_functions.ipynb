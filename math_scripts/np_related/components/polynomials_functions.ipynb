{
 "cells": [
  {
   "cell_type": "code",
   "execution_count": null,
   "metadata": {},
   "outputs": [],
   "source": [
    "Polynomials: Functions for polynomial operations (polyadd, polysub, polymul, polydiv), polynomial fitting (polyfit), polynomial roots (polyroots), polynomial from roots (polyfromroots), etc.\n"
   ]
  }
 ],
 "metadata": {
  "language_info": {
   "name": "python"
  }
 },
 "nbformat": 4,
 "nbformat_minor": 2
}
