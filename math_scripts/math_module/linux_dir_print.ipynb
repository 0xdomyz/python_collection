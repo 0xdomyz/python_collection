{
 "cells": [
  {
   "cell_type": "code",
   "execution_count": 2,
   "metadata": {},
   "outputs": [],
   "source": [
    "import math\n",
    "\n",
    "\n",
    "def print_dir_style(lst, num_columns):\n",
    "    max_len = max(len(item) for item in lst)\n",
    "    num_rows = math.ceil(len(lst) / num_columns)\n",
    "\n",
    "    # Create a list of lists, where each sub-list is a column in the output\n",
    "    columns = [lst[i : i + num_rows] for i in range(0, len(lst), num_rows)]\n",
    "\n",
    "    # Pad each string in each column to the max length so they line up correctly\n",
    "    for col in columns:\n",
    "        for i in range(len(col)):\n",
    "            col[i] = col[i].ljust(max_len)\n",
    "\n",
    "    # Print each row\n",
    "    for i in range(num_rows):\n",
    "        for col in columns:\n",
    "            if i < len(col):\n",
    "                print(col[i], end=\" \")\n",
    "        print()"
   ]
  },
  {
   "cell_type": "code",
   "execution_count": 3,
   "metadata": {},
   "outputs": [
    {
     "name": "stdout",
     "output_type": "stream",
     "text": [
      "file1              fasdfsad  asdfile4 file7              \n",
      "file2              fi                 file8              \n",
      "file3szdfads       filsadfe6          \n"
     ]
    }
   ],
   "source": [
    "# Test the function\n",
    "print_dir_style(\n",
    "    [\n",
    "        \"file1\",\n",
    "        \"file2\",\n",
    "        \"file3szdfads\",\n",
    "        \"fasdfsad  asdfile4\",\n",
    "        \"fi\",\n",
    "        \"filsadfe6\",\n",
    "        \"file7\",\n",
    "        \"file8\",\n",
    "    ],\n",
    "    3,\n",
    ")"
   ]
  },
  {
   "cell_type": "code",
   "execution_count": null,
   "metadata": {},
   "outputs": [],
   "source": []
  },
  {
   "cell_type": "code",
   "execution_count": null,
   "metadata": {},
   "outputs": [],
   "source": []
  }
 ],
 "metadata": {
  "kernelspec": {
   "display_name": "Python 3",
   "language": "python",
   "name": "python3"
  },
  "language_info": {
   "codemirror_mode": {
    "name": "ipython",
    "version": 3
   },
   "file_extension": ".py",
   "mimetype": "text/x-python",
   "name": "python",
   "nbconvert_exporter": "python",
   "pygments_lexer": "ipython3",
   "version": "3.12.1"
  }
 },
 "nbformat": 4,
 "nbformat_minor": 2
}
