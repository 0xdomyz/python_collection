{
 "cells": [
  {
   "cell_type": "code",
   "execution_count": 89,
   "metadata": {},
   "outputs": [
    {
     "name": "stdout",
     "output_type": "stream",
     "text": [
      "l =17\n",
      "l//3=5\n",
      "l*2//3=11\n",
      "0\n",
      "1\n",
      "2\n",
      "3\n",
      "4\n",
      "5\n",
      "6\n",
      "7\n",
      "8\n",
      "9\n",
      "10\n",
      "11\n",
      "12\n",
      "13\n",
      "14\n",
      "15\n",
      "===\n",
      "0\n",
      "1\n",
      "3\n"
     ]
    }
   ],
   "source": [
    "import random\n",
    "\n",
    "def calc_targets(lst):\n",
    "    l = len(lst)\n",
    "    n = 5\n",
    "    res_lst = []\n",
    "\n",
    "    for i,item in enumerate(lst):\n",
    "        \n",
    "        if i < l//n:\n",
    "            if random.random() > 0.20:\n",
    "                res_lst.append(item)\n",
    "        elif i < l*2//n:\n",
    "            if random.random() > 0.40:\n",
    "                res_lst.append(item)\n",
    "        elif i < l*3//n:\n",
    "            if random.random() > 0.60:\n",
    "                res_lst.append(item)\n",
    "        elif i < l*4//n:\n",
    "            if random.random() > 0.80:\n",
    "                res_lst.append(item)\n",
    "        else:\n",
    "            pass\n",
    "    return res_lst\n",
    "\n",
    "l = 17\n",
    "print(f\"{l =}\")\n",
    "print(f\"{l//3=}\")\n",
    "print(f\"{l*2//3=}\")\n",
    "\n",
    "lst = list(range(16))\n",
    "for i in lst:\n",
    "    print(i)\n",
    "\n",
    "print(\"===\")\n",
    "\n",
    "targets = calc_targets(lst)\n",
    "for i in targets:\n",
    "    print(i)"
   ]
  }
 ],
 "metadata": {
  "kernelspec": {
   "display_name": "Python 3",
   "language": "python",
   "name": "python3"
  },
  "language_info": {
   "codemirror_mode": {
    "name": "ipython",
    "version": 3
   },
   "file_extension": ".py",
   "mimetype": "text/x-python",
   "name": "python",
   "nbconvert_exporter": "python",
   "pygments_lexer": "ipython3",
   "version": "3.12.1"
  }
 },
 "nbformat": 4,
 "nbformat_minor": 2
}
