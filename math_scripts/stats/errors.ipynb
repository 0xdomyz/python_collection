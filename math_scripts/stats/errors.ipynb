{
 "cells": [
  {
   "cell_type": "markdown",
   "metadata": {},
   "source": [
    "To explain the concepts of Type 1 and Type 2 errors, let's consider a hypothesis testing scenario.\n",
    "\n",
    "Type 1 Error:\n",
    "A Type 1 error occurs when we reject a null hypothesis that is actually true. In other words, it is a false positive. The probability of making a Type 1 error is denoted by the significance level (α). It represents the maximum tolerable probability of rejecting a null hypothesis when it is true.\n",
    "\n",
    "Type 2 Error:\n",
    "A Type 2 error occurs when we fail to reject a null hypothesis that is actually false. In other words, it is a false negative. The probability of making a Type 2 error is denoted by β. It represents the probability of not rejecting a null hypothesis when it is false.\n",
    "\n",
    "Here's an example to illustrate these concepts:\n",
    "\n",
    "Suppose we are testing a new drug for a certain disease. The null hypothesis (H0) is that the drug has no effect, while the alternative hypothesis (H1) is that the drug is effective.\n",
    "\n",
    "Type 1 Error:\n",
    "If we reject the null hypothesis (H0) and conclude that the drug is effective when it actually has no effect, it would be a Type 1 error. This means we falsely claim that the drug works.\n",
    "\n",
    "Type 2 Error:\n",
    "If we fail to reject the null hypothesis (H0) and conclude that the drug has no effect when it actually is effective, it would be a Type 2 error. This means we miss the opportunity to correctly identify the effectiveness of the drug.\n",
    "\n",
    "It is important to balance the significance level (α) and the power of the test (1 - β) to minimize both Type 1 and Type 2 errors."
   ]
  },
  {
   "cell_type": "code",
   "execution_count": 1,
   "metadata": {},
   "outputs": [
    {
     "name": "stdout",
     "output_type": "stream",
     "text": [
      "Type 1 Error (α): 0.050000000000000044\n",
      "Type 2 Error (β): 0.5629208277335359\n"
     ]
    }
   ],
   "source": [
    "import scipy.stats as stats\n",
    "\n",
    "# Define the significance level (α)\n",
    "alpha = 0.05\n",
    "\n",
    "# Define the power of the test (1 - β)\n",
    "power = 0.8\n",
    "\n",
    "# Define the distribution parameters for the null hypothesis (H0)\n",
    "null_mean = 0\n",
    "null_std = 1\n",
    "\n",
    "# Define the distribution parameters for the alternative hypothesis (H1)\n",
    "alternative_mean = 1\n",
    "alternative_std = 1\n",
    "\n",
    "# Calculate the critical value for the significance level (α)\n",
    "critical_value = stats.norm.ppf(1 - alpha)\n",
    "\n",
    "# Calculate the critical value for the power of the test (1 - β)\n",
    "power_critical_value = stats.norm.ppf(power)\n",
    "\n",
    "# Calculate the Type 1 error (α)\n",
    "type1_error = 1 - stats.norm.cdf(critical_value, loc=null_mean, scale=null_std)\n",
    "\n",
    "# Calculate the Type 2 error (β)\n",
    "type2_error = 1 - stats.norm.cdf(power_critical_value, loc=alternative_mean, scale=alternative_std)\n",
    "\n",
    "print(\"Type 1 Error (α):\", type1_error)\n",
    "print(\"Type 2 Error (β):\", type2_error)\n"
   ]
  },
  {
   "cell_type": "code",
   "execution_count": null,
   "metadata": {},
   "outputs": [],
   "source": []
  },
  {
   "cell_type": "code",
   "execution_count": null,
   "metadata": {},
   "outputs": [],
   "source": []
  }
 ],
 "metadata": {
  "kernelspec": {
   "display_name": "Python 3",
   "language": "python",
   "name": "python3"
  },
  "language_info": {
   "codemirror_mode": {
    "name": "ipython",
    "version": 3
   },
   "file_extension": ".py",
   "mimetype": "text/x-python",
   "name": "python",
   "nbconvert_exporter": "python",
   "pygments_lexer": "ipython3",
   "version": "3.12.1"
  }
 },
 "nbformat": 4,
 "nbformat_minor": 2
}
