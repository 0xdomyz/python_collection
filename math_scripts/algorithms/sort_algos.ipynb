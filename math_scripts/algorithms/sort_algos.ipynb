{
 "cells": [
  {
   "cell_type": "code",
   "execution_count": 2,
   "metadata": {},
   "outputs": [],
   "source": [
    "import numpy as np\n"
   ]
  },
  {
   "cell_type": "markdown",
   "metadata": {},
   "source": [
    "### algos"
   ]
  },
  {
   "cell_type": "markdown",
   "metadata": {},
   "source": [
    "\n",
    "Selection Sort: This algorithm segments the list into two parts: sorted and unsorted, and repeatedly selects the smallest (or largest, depending on sorting order) element from the unsorted subarray and moves it to the beginning of the sorted subarray.\n",
    "\n",
    "Insertion Sort: This algorithm builds a sorted array one item at a time, with each movement a greater value than the key moves one place to the right as the key moves through the array.\n",
    "\n",
    "Bubble Sort: This simple sorting algorithm repeatedly steps through the list, compares adjacent elements and swaps them if they are in the wrong order, with the pass through the list repeated until the list is sorted.\n",
    "\n",
    "Quick Sort: This divide-and-conquer algorithm works by selecting a 'pivot' element from the array and partitioning the other elements into two sub-arrays, according to whether they are less than or greater than the pivot, and then recursively applying the method to the sub-arrays.\n",
    "\n",
    "Merge Sort: This divide-and-conquer algorithm works by dividing the unsorted list into n sublists, each containing one element (a list of one element is considered sorted), and then repeatedly merging sublists to produce new sorted sublists until there is only one sublist remaining.\n",
    "\n",
    "counting sort: This algorithm works by counting the number of objects having distinct key values (kind of hashing). Then doing some arithmetic to calculate the position of each object in the output sequence.\n",
    "\n",
    "radix sort: This algorithm sorts the elements by first grouping the individual digits of the same place value. Then, the elements are sorted according to their increasing/decreasing order.\n",
    "\n",
    "heap sort: This algorithm is a comparison-based sorting technique based on Binary Heap data structure. It is similar to selection sort where we first find the maximum element and place the maximum element at the end."
   ]
  },
  {
   "cell_type": "markdown",
   "metadata": {},
   "source": [
    "### O efficiency of the algorithms\n",
    "\n",
    "- selection sort: O(n^2)\n",
    "- bubble sort: O(n^2)\n",
    "- merge sort: O(n log n)\n",
    "- quick sort: O(n log n)\n",
    "- heap sort: O(n log n)\n",
    "- counting sort: O(n + k)\n",
    "- radix sort: O(n * k)\n"
   ]
  },
  {
   "cell_type": "code",
   "execution_count": 2,
   "metadata": {},
   "outputs": [
    {
     "data": {
      "text/plain": [
       "array([1, 2, 3, 4, 5])"
      ]
     },
     "execution_count": 2,
     "metadata": {},
     "output_type": "execute_result"
    }
   ],
   "source": [
    "def selection_sort(x):\n",
    "    for i in range(len(x)):\n",
    "        swap = i + np.argmin(x[i:])\n",
    "        (x[i], x[swap]) = (x[swap], x[i])\n",
    "    return x\n",
    "\n",
    "x = np.array([2, 1, 4, 3, 5])\n",
    "selection_sort(x)\n"
   ]
  },
  {
   "cell_type": "code",
   "execution_count": 3,
   "metadata": {},
   "outputs": [
    {
     "data": {
      "text/plain": [
       "[1, 2, 3, 4, 5]"
      ]
     },
     "execution_count": 3,
     "metadata": {},
     "output_type": "execute_result"
    }
   ],
   "source": [
    "def quicksort(x):\n",
    "    if len(x) <= 1:\n",
    "        return x\n",
    "    pivot = x[len(x) // 2]\n",
    "    left = [i for i in x if i < pivot]\n",
    "    middle = [i for i in x if i == pivot]\n",
    "    right = [i for i in x if i > pivot]\n",
    "    return quicksort(left) + middle + quicksort(right)\n",
    "\n",
    "x = np.array([2, 1, 4, 3, 5])\n",
    "quicksort(x)"
   ]
  },
  {
   "cell_type": "code",
   "execution_count": 4,
   "metadata": {},
   "outputs": [
    {
     "data": {
      "text/plain": [
       "array([1, 2, 3, 4, 5])"
      ]
     },
     "execution_count": 4,
     "metadata": {},
     "output_type": "execute_result"
    }
   ],
   "source": [
    "def bubblesort(x):\n",
    "    n = len(x)\n",
    "    for i in range(n):\n",
    "        for j in range(0, n-i-1):\n",
    "            if x[j] > x[j+1]:\n",
    "                x[j], x[j+1] = x[j+1], x[j]\n",
    "    return x\n",
    "\n",
    "x = np.array([2, 1, 4, 3, 5])\n",
    "bubblesort(x)"
   ]
  },
  {
   "cell_type": "code",
   "execution_count": 5,
   "metadata": {},
   "outputs": [
    {
     "data": {
      "text/plain": [
       "array([1, 2, 3, 4, 5])"
      ]
     },
     "execution_count": 5,
     "metadata": {},
     "output_type": "execute_result"
    }
   ],
   "source": [
    "def insertionsort(x):\n",
    "    for i in range(1, len(x)):\n",
    "        j = i\n",
    "        while j > 0 and x[j] < x[j-1]:\n",
    "            x[j], x[j-1] = x[j-1], x[j]\n",
    "            j -= 1\n",
    "    return x\n",
    "\n",
    "x = np.array([2, 1, 4, 3, 5])\n",
    "insertionsort(x)"
   ]
  },
  {
   "cell_type": "code",
   "execution_count": 12,
   "metadata": {},
   "outputs": [
    {
     "data": {
      "text/plain": [
       "array([1, 2, 3, 4, 5])"
      ]
     },
     "execution_count": 12,
     "metadata": {},
     "output_type": "execute_result"
    }
   ],
   "source": [
    "def merge_sort(arr):\n",
    "    if len(arr) > 1:\n",
    "        mid = len(arr) // 2\n",
    "        left_half = arr[:mid]\n",
    "        right_half = arr[mid:]\n",
    "\n",
    "        left_half = merge_sort(left_half).copy()\n",
    "        right_half = merge_sort(right_half).copy()\n",
    "\n",
    "        i = j = k = 0\n",
    "\n",
    "        while i < len(left_half) and j < len(right_half):\n",
    "            if left_half[i] < right_half[j]:\n",
    "                arr[k] = left_half[i]\n",
    "                i += 1\n",
    "            else:\n",
    "                arr[k] = right_half[j]\n",
    "                j += 1\n",
    "            k += 1\n",
    "\n",
    "        while i < len(left_half):\n",
    "            arr[k] = left_half[i]\n",
    "            i += 1\n",
    "            k += 1\n",
    "\n",
    "        while j < len(right_half):\n",
    "            arr[k] = right_half[j]\n",
    "            j += 1\n",
    "            k += 1\n",
    "\n",
    "    return arr\n",
    "\n",
    "arr = np.array([2,1,4,3,5])\n",
    "merge_sort(arr)"
   ]
  },
  {
   "cell_type": "code",
   "execution_count": 3,
   "metadata": {},
   "outputs": [
    {
     "data": {
      "text/plain": [
       "array([1, 2, 3, 4, 5])"
      ]
     },
     "execution_count": 3,
     "metadata": {},
     "output_type": "execute_result"
    }
   ],
   "source": [
    "def counting_sort(arr):\n",
    "    max_val = max(arr)\n",
    "    m = max_val + 1\n",
    "    count = [0] * m\n",
    "\n",
    "    for a in arr:\n",
    "        count[a] += 1\n",
    "    i = 0\n",
    "    for a in range(m):\n",
    "        for c in range(count[a]):\n",
    "            arr[i] = a\n",
    "            i += 1\n",
    "    return arr\n",
    "\n",
    "arr = np.array([2,1,4,3,5])\n",
    "counting_sort(arr)"
   ]
  },
  {
   "cell_type": "code",
   "execution_count": 4,
   "metadata": {},
   "outputs": [
    {
     "data": {
      "text/plain": [
       "[1, 2, 3, 4, 5]"
      ]
     },
     "execution_count": 4,
     "metadata": {},
     "output_type": "execute_result"
    }
   ],
   "source": [
    "def radix_sort(arr):\n",
    "    max_val = max(arr)\n",
    "    max_exp = len(str(max_val))\n",
    "    for exp in range(max_exp):\n",
    "        buckets = [[] for _ in range(10)]\n",
    "        for i in arr:\n",
    "            buckets[i // 10**exp % 10].append(i)\n",
    "        arr = [i for bucket in buckets for i in bucket]\n",
    "    return arr\n",
    "\n",
    "arr = np.array([2,1,4,3,5])\n",
    "radix_sort(arr)"
   ]
  },
  {
   "cell_type": "code",
   "execution_count": 6,
   "metadata": {},
   "outputs": [
    {
     "data": {
      "text/plain": [
       "array([1, 2, 3, 4, 5])"
      ]
     },
     "execution_count": 6,
     "metadata": {},
     "output_type": "execute_result"
    }
   ],
   "source": [
    "def heap_sort(arr):\n",
    "    def heapify(arr, n, i):\n",
    "        largest = i\n",
    "        l = 2 * i + 1\n",
    "        r = 2 * i + 2\n",
    "\n",
    "        if l < n and arr[i] < arr[l]:\n",
    "            largest = l\n",
    "\n",
    "        if r < n and arr[largest] < arr[r]:\n",
    "            largest = r\n",
    "\n",
    "        if largest != i:\n",
    "            arr[i], arr[largest] = arr[largest], arr[i]\n",
    "            heapify(arr, n, largest)\n",
    "\n",
    "    n = len(arr)\n",
    "\n",
    "    for i in range(n // 2 - 1, -1, -1):\n",
    "        heapify(arr, n, i)\n",
    "\n",
    "    for i in range(n-1, 0, -1):\n",
    "        arr[i], arr[0] = arr[0], arr[i]\n",
    "        heapify(arr, i, 0)\n",
    "\n",
    "    return arr\n",
    "\n",
    "arr = np.array([2,1,4,3,5])\n",
    "heap_sort(arr)"
   ]
  },
  {
   "cell_type": "code",
   "execution_count": 5,
   "metadata": {},
   "outputs": [
    {
     "data": {
      "text/plain": [
       "[1, 2, 3, 4, 5]"
      ]
     },
     "execution_count": 5,
     "metadata": {},
     "output_type": "execute_result"
    }
   ],
   "source": [
    "def bucket_sort(arr):\n",
    "    max_val = max(arr)\n",
    "    min_val = min(arr)\n",
    "    n = len(arr)\n",
    "    num_buckets = 10\n",
    "    bucket_range = (max_val - min_val) / num_buckets\n",
    "    buckets = [[] for _ in range(num_buckets)]\n",
    "    for i in arr:\n",
    "        buckets[int((i - min_val) // bucket_range)].append(i)\n",
    "    arr = []\n",
    "    for bucket in buckets:\n",
    "        arr.extend(sorted(bucket))\n",
    "    return arr\n",
    "\n",
    "arr = np.array([2,1,4,3,5])\n",
    "bucket_sort(arr)"
   ]
  }
 ],
 "metadata": {
  "kernelspec": {
   "display_name": "Python 3",
   "language": "python",
   "name": "python3"
  },
  "language_info": {
   "codemirror_mode": {
    "name": "ipython",
    "version": 3
   },
   "file_extension": ".py",
   "mimetype": "text/x-python",
   "name": "python",
   "nbconvert_exporter": "python",
   "pygments_lexer": "ipython3",
   "version": "3.12.1"
  }
 },
 "nbformat": 4,
 "nbformat_minor": 2
}
