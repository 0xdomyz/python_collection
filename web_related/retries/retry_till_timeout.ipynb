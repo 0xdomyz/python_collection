{
 "cells": [
  {
   "cell_type": "markdown",
   "id": "afe22672",
   "metadata": {},
   "source": [
    "### decorator"
   ]
  },
  {
   "cell_type": "code",
   "execution_count": 3,
   "id": "492bbaef",
   "metadata": {},
   "outputs": [],
   "source": [
    "import functools\n",
    "import time\n",
    "from loguru import logger\n",
    "from typing import Callable, Any, Optional\n",
    "\n",
    "\n",
    "# timer class\n",
    "class Timer:\n",
    "    def __init__(self, timeout: int = 5):\n",
    "        self.timeout = timeout\n",
    "        self.start_time = time.time()\n",
    "\n",
    "    def is_timeout(self) -> bool:\n",
    "        return (time.time() - self.start_time) > self.timeout\n",
    "\n",
    "\n",
    "class MaxRetriesExceeded(Exception):\n",
    "    pass\n",
    "\n",
    "\n",
    "def retry_till_timeout(\n",
    "    delay=1,\n",
    "    timeout=10,\n",
    "):\n",
    "    \"\"\"retry until time out\"\"\"\n",
    "\n",
    "    def decorate(func):\n",
    "        @functools.wraps(func)\n",
    "        def new_func(*args, **kwargs):\n",
    "            timer = Timer(timeout)\n",
    "            while True:\n",
    "                try:\n",
    "                    return func(*args, **kwargs)\n",
    "                except Exception as e:\n",
    "                    if timer.is_timeout():\n",
    "                        logger.warning(\n",
    "                            f\"{func.__name__} failed with error: {e}, reached timeout\"\n",
    "                        )\n",
    "                        raise MaxRetriesExceeded(\n",
    "                            f\"Timeout {timeout} sec reached for {func.__name__}\"\n",
    "                        )\n",
    "                    else:\n",
    "                        logger.warning(\n",
    "                            f\"{func.__name__} failed with error: {e}, will retry in {delay} seconds...\"\n",
    "                        )\n",
    "                        time.sleep(delay)\n",
    "\n",
    "        return new_func\n",
    "\n",
    "    return decorate"
   ]
  },
  {
   "cell_type": "code",
   "execution_count": 4,
   "id": "2b59a750",
   "metadata": {},
   "outputs": [
    {
     "name": "stderr",
     "output_type": "stream",
     "text": [
      "\u001b[32m2025-04-23 00:26:48.566\u001b[0m | \u001b[33m\u001b[1mWARNING \u001b[0m | \u001b[36m__main__\u001b[0m:\u001b[36mnew_func\u001b[0m:\u001b[36m37\u001b[0m - \u001b[33m\u001b[1mmake_request failed with error: 503 Server Error: Service Temporarily Unavailable for url: https://httpbin.org/status/429, will retry in 1 seconds...\u001b[0m\n",
      "\u001b[32m2025-04-23 00:26:50.616\u001b[0m | \u001b[33m\u001b[1mWARNING \u001b[0m | \u001b[36m__main__\u001b[0m:\u001b[36mnew_func\u001b[0m:\u001b[36m37\u001b[0m - \u001b[33m\u001b[1mmake_request failed with error: 503 Server Error: Service Temporarily Unavailable for url: https://httpbin.org/status/429, will retry in 1 seconds...\u001b[0m\n",
      "\u001b[32m2025-04-23 00:26:52.675\u001b[0m | \u001b[33m\u001b[1mWARNING \u001b[0m | \u001b[36m__main__\u001b[0m:\u001b[36mnew_func\u001b[0m:\u001b[36m37\u001b[0m - \u001b[33m\u001b[1mmake_request failed with error: 503 Server Error: Service Temporarily Unavailable for url: https://httpbin.org/status/429, will retry in 1 seconds...\u001b[0m\n",
      "\u001b[32m2025-04-23 00:26:54.744\u001b[0m | \u001b[33m\u001b[1mWARNING \u001b[0m | \u001b[36m__main__\u001b[0m:\u001b[36mnew_func\u001b[0m:\u001b[36m37\u001b[0m - \u001b[33m\u001b[1mmake_request failed with error: 503 Server Error: Service Temporarily Unavailable for url: https://httpbin.org/status/429, will retry in 1 seconds...\u001b[0m\n",
      "\u001b[32m2025-04-23 00:26:56.896\u001b[0m | \u001b[33m\u001b[1mWARNING \u001b[0m | \u001b[36m__main__\u001b[0m:\u001b[36mnew_func\u001b[0m:\u001b[36m37\u001b[0m - \u001b[33m\u001b[1mmake_request failed with error: 503 Server Error: Service Temporarily Unavailable for url: https://httpbin.org/status/429, will retry in 1 seconds...\u001b[0m\n",
      "\u001b[32m2025-04-23 00:26:59.150\u001b[0m | \u001b[33m\u001b[1mWARNING \u001b[0m | \u001b[36m__main__\u001b[0m:\u001b[36mnew_func\u001b[0m:\u001b[36m34\u001b[0m - \u001b[33m\u001b[1mmake_request failed with error: 503 Server Error: Service Temporarily Unavailable for url: https://httpbin.org/status/429, reached timeout\u001b[0m\n",
      "\u001b[32m2025-04-23 00:26:59.152\u001b[0m | \u001b[31m\u001b[1mERROR   \u001b[0m | \u001b[36m__main__\u001b[0m:\u001b[36m<module>\u001b[0m:\u001b[36m18\u001b[0m - \u001b[31m\u001b[1mTimeout 10 sec reached for make_request\u001b[0m\n"
     ]
    }
   ],
   "source": [
    "import requests\n",
    "\n",
    "\n",
    "# Example usage\n",
    "@retry_till_timeout(delay=1, timeout=10)\n",
    "def make_request(url):\n",
    "    \"\"\"\n",
    "    Makes a request to the given URL.\n",
    "    \"\"\"\n",
    "    response = requests.get(url)\n",
    "    response.raise_for_status()\n",
    "    return response\n",
    "\n",
    "\n",
    "test_url = \"https://httpbin.org/status/429\"  # Simulates rate-limiting\n",
    "try:\n",
    "    response = make_request(test_url)\n",
    "    print(\"Response:\", response.text)\n",
    "except MaxRetriesExceeded as e:\n",
    "    logger.error(e)"
   ]
  },
  {
   "cell_type": "code",
   "execution_count": null,
   "id": "4baec76c",
   "metadata": {},
   "outputs": [],
   "source": []
  },
  {
   "cell_type": "markdown",
   "id": "03294834",
   "metadata": {},
   "source": [
    "### timer"
   ]
  },
  {
   "cell_type": "code",
   "execution_count": null,
   "id": "a14e4bd6",
   "metadata": {},
   "outputs": [],
   "source": [
    "import time\n",
    "\n",
    "\n",
    "# timer class\n",
    "class Timer:\n",
    "    def __init__(self, timeout: int = 5):\n",
    "        self.timeout = timeout\n",
    "        self.start_time = time.time()\n",
    "\n",
    "    def reset(self):\n",
    "        self.start_time = time.time()\n",
    "\n",
    "    def extend(self, timeout: int):\n",
    "        self.timeout += timeout\n",
    "\n",
    "    def is_timeout(self) -> bool:\n",
    "        return (time.time() - self.start_time) > self.timeout\n",
    "\n",
    "    def elapsed_time(self) -> float:\n",
    "        return round(time.time() - self.start_time, 2)"
   ]
  },
  {
   "cell_type": "code",
   "execution_count": null,
   "id": "e7161688",
   "metadata": {},
   "outputs": [],
   "source": [
    "# test\n",
    "timer = Timer(3)\n",
    "time.sleep(2)\n",
    "assert timer.is_timeout() == False, \"Timer should not be timed out yet\"\n",
    "time.sleep(2)\n",
    "assert timer.is_timeout(), \"Timer should be timed out now\"\n",
    "\n",
    "timer.extend(2)\n",
    "assert timer.is_timeout() == False, \"Timer should not be timed out yet\"\n",
    "\n",
    "timer.reset()\n",
    "time.sleep(1)\n",
    "assert timer.is_timeout() == False, \"Timer should not be timed out yet\""
   ]
  }
 ],
 "metadata": {
  "kernelspec": {
   "display_name": "Python 3",
   "language": "python",
   "name": "python3"
  },
  "language_info": {
   "codemirror_mode": {
    "name": "ipython",
    "version": 3
   },
   "file_extension": ".py",
   "mimetype": "text/x-python",
   "name": "python",
   "nbconvert_exporter": "python",
   "pygments_lexer": "ipython3",
   "version": "3.13.2"
  }
 },
 "nbformat": 4,
 "nbformat_minor": 5
}
