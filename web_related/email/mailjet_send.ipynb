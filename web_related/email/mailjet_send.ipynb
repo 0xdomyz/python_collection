{
 "cells": [
  {
   "cell_type": "code",
   "execution_count": 7,
   "metadata": {},
   "outputs": [],
   "source": [
    "from mailjet_rest import Client\n",
    "from pathlib import Path\n",
    "import os\n",
    "\n",
    "\n",
    "def read_keys():\n",
    "    key_file = Path(\"mailjet_keys.csv\")\n",
    "    if key_file.is_file():\n",
    "        with open(key_file, \"r\") as f:\n",
    "            api_key = f.readline().strip()\n",
    "            api_secret = f.readline().strip()\n",
    "            return api_key, api_secret\n",
    "    else:\n",
    "        return None, None\n",
    "\n",
    "\n",
    "def send_email(data):\n",
    "    api_key, api_secret = read_keys()\n",
    "    mailjet = Client(auth=(api_key, api_secret), version=\"v3.1\")\n",
    "    result = mailjet.send.create(data=data)\n",
    "    print(result.status_code)\n",
    "    print(result.json())"
   ]
  },
  {
   "cell_type": "code",
   "execution_count": null,
   "metadata": {},
   "outputs": [],
   "source": []
  },
  {
   "cell_type": "code",
   "execution_count": null,
   "metadata": {},
   "outputs": [],
   "source": []
  },
  {
   "cell_type": "code",
   "execution_count": null,
   "metadata": {},
   "outputs": [],
   "source": []
  }
 ],
 "metadata": {
  "kernelspec": {
   "display_name": "Python 3",
   "language": "python",
   "name": "python3"
  },
  "language_info": {
   "codemirror_mode": {
    "name": "ipython",
    "version": 3
   },
   "file_extension": ".py",
   "mimetype": "text/x-python",
   "name": "python",
   "nbconvert_exporter": "python",
   "pygments_lexer": "ipython3",
   "version": "3.12.1"
  }
 },
 "nbformat": 4,
 "nbformat_minor": 2
}
