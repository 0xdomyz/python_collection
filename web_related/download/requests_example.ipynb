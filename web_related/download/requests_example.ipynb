{
 "cells": [
  {
   "cell_type": "markdown",
   "metadata": {},
   "source": [
    "### Summary  \n",
    "The script downloads binary files directly or indirectly by parsing HTML, saving them in a `data` folder.\n",
    "\n",
    "Main Steps\n",
    "- setup, Create/clear the `data` folder.  \n",
    "- Define functions\n",
    "    - `download_binary_file` for direct downloads, using `requests`.\n",
    "    - Use `process` to parse HTML and extract resource URLs for indirect downloads, using `BeautifulSoup`, `re`.\n",
    "- Batch process multiple URLs for both methods.\n",
    "- clean up"
   ]
  },
  {
   "cell_type": "markdown",
   "metadata": {},
   "source": [
    "### set up "
   ]
  },
  {
   "cell_type": "code",
   "execution_count": 1,
   "metadata": {},
   "outputs": [],
   "source": [
    "import requests\n",
    "from bs4 import BeautifulSoup\n",
    "import re\n",
    "\n",
    "from pathlib import Path"
   ]
  },
  {
   "cell_type": "code",
   "execution_count": 2,
   "metadata": {},
   "outputs": [],
   "source": [
    "# temporary folder for data\n",
    "folder = Path(\".\") / \"data\"\n",
    "if not folder.exists():\n",
    "    folder.mkdir()\n",
    "else:\n",
    "    for file in folder.iterdir():\n",
    "        if file.is_file():\n",
    "            file.unlink()"
   ]
  },
  {
   "cell_type": "markdown",
   "metadata": {},
   "source": [
    "### define functions"
   ]
  },
  {
   "cell_type": "code",
   "execution_count": 3,
   "metadata": {},
   "outputs": [],
   "source": [
    "def download_binary_file(url, local_location, local_name):\n",
    "    \"\"\"Download a binary file from a URL and save it to a local location with a specified name.\"\"\"\n",
    "    # make the request\n",
    "    response = requests.get(url)\n",
    "    response.raise_for_status()\n",
    "    print(f\"{response.headers['content-type'] = }, {response.encoding = }\")\n",
    "\n",
    "    # save the file\n",
    "    file_path = local_location / local_name\n",
    "    with open(file_path, \"wb\") as f:\n",
    "        f.write(response.content)\n",
    "        print(f\"Saved to {file_path}\")"
   ]
  },
  {
   "cell_type": "code",
   "execution_count": 4,
   "metadata": {},
   "outputs": [],
   "source": [
    "def process(url):\n",
    "    name = Path(url).name\n",
    "    second_last_part = Path(url).parts[-2]\n",
    "\n",
    "    ## request and parse the HTML page\n",
    "    response = requests.get(url)\n",
    "    response.raise_for_status()\n",
    "    print(f\"{response.headers['content-type'] = }, {response.encoding = }\")\n",
    "\n",
    "    soup = BeautifulSoup(response.text, \"html.parser\")\n",
    "    # print(soup.prettify())\n",
    "\n",
    "    ## find the resource URL\n",
    "    def find_resource_url(soup, pattern):\n",
    "        \"\"\"Find a resource URL in the HTML soup using a regex pattern.\"\"\"\n",
    "        match = re.search(pattern, str(soup))\n",
    "        if match:\n",
    "            return match.group(0)\n",
    "        return None\n",
    "\n",
    "    pattern = r\"file-examples\\.com/storage/\\w+/\"\n",
    "    matched_string = find_resource_url(soup, pattern)\n",
    "    print(f\"{matched_string = }\")\n",
    "\n",
    "    resource_url = f\"https://{matched_string}2017/{second_last_part}/{name}\"\n",
    "    print(f\"{resource_url = }\")\n",
    "\n",
    "    ## download the file\n",
    "    location = Path(\".\") / \"data\"\n",
    "\n",
    "    print(\n",
    "        f\"calling download_binary_file with \\n    {resource_url = }\\n    {location = }\\n    {name = }\"\n",
    "    )\n",
    "    download_binary_file(resource_url, location, name)"
   ]
  },
  {
   "cell_type": "markdown",
   "metadata": {},
   "source": [
    "### process"
   ]
  },
  {
   "cell_type": "code",
   "execution_count": 5,
   "metadata": {},
   "outputs": [
    {
     "name": "stdout",
     "output_type": "stream",
     "text": [
      "response.headers['content-type'] = 'text/html; charset=UTF-8', response.encoding = 'UTF-8'\n",
      "matched_string = 'file-examples.com/storage/fe0707c5116828d4b9ad356/'\n",
      "resource_url = 'https://file-examples.com/storage/fe0707c5116828d4b9ad356/2017/02/zip_2MB.zip'\n",
      "calling download_binary_file with \n",
      "    resource_url = 'https://file-examples.com/storage/fe0707c5116828d4b9ad356/2017/02/zip_2MB.zip'\n",
      "    location = WindowsPath('data')\n",
      "    name = 'zip_2MB.zip'\n",
      "response.headers['content-type'] = 'application/zip', response.encoding = None\n",
      "Saved to data\\zip_2MB.zip\n"
     ]
    }
   ],
   "source": [
    "url = \"https://file-examples.com/wp-content/storage/2017/02/zip_2MB.zip\"\n",
    "process(url)"
   ]
  },
  {
   "cell_type": "code",
   "execution_count": 6,
   "metadata": {},
   "outputs": [
    {
     "name": "stdout",
     "output_type": "stream",
     "text": [
      "response.headers['content-type'] = 'text/html; charset=UTF-8', response.encoding = 'UTF-8'\n",
      "matched_string = 'file-examples.com/storage/fe0707c5116828d4b9ad356/'\n",
      "resource_url = 'https://file-examples.com/storage/fe0707c5116828d4b9ad356/2017/10/file-sample_150kB.pdf'\n",
      "calling download_binary_file with \n",
      "    resource_url = 'https://file-examples.com/storage/fe0707c5116828d4b9ad356/2017/10/file-sample_150kB.pdf'\n",
      "    location = WindowsPath('data')\n",
      "    name = 'file-sample_150kB.pdf'\n",
      "response.headers['content-type'] = 'application/pdf', response.encoding = None\n",
      "Saved to data\\file-sample_150kB.pdf\n",
      "\n",
      "\n",
      "\n",
      "response.headers['content-type'] = 'text/html; charset=UTF-8', response.encoding = 'UTF-8'\n",
      "matched_string = 'file-examples.com/storage/fe0707c5116828d4b9ad356/'\n",
      "resource_url = 'https://file-examples.com/storage/fe0707c5116828d4b9ad356/2017/02/file_example_JSON_1kb.json'\n",
      "calling download_binary_file with \n",
      "    resource_url = 'https://file-examples.com/storage/fe0707c5116828d4b9ad356/2017/02/file_example_JSON_1kb.json'\n",
      "    location = WindowsPath('data')\n",
      "    name = 'file_example_JSON_1kb.json'\n",
      "response.headers['content-type'] = 'application/json', response.encoding = 'utf-8'\n",
      "Saved to data\\file_example_JSON_1kb.json\n",
      "\n",
      "\n",
      "\n",
      "response.headers['content-type'] = 'text/html; charset=UTF-8', response.encoding = 'UTF-8'\n",
      "matched_string = 'file-examples.com/storage/fe0707c5116828d4b9ad356/'\n",
      "resource_url = 'https://file-examples.com/storage/fe0707c5116828d4b9ad356/2017/02/file_example_XML_24kb.xml'\n",
      "calling download_binary_file with \n",
      "    resource_url = 'https://file-examples.com/storage/fe0707c5116828d4b9ad356/2017/02/file_example_XML_24kb.xml'\n",
      "    location = WindowsPath('data')\n",
      "    name = 'file_example_XML_24kb.xml'\n",
      "response.headers['content-type'] = 'application/xml', response.encoding = None\n",
      "Saved to data\\file_example_XML_24kb.xml\n",
      "\n",
      "\n",
      "\n",
      "response.headers['content-type'] = 'text/html; charset=UTF-8', response.encoding = 'UTF-8'\n",
      "matched_string = 'file-examples.com/storage/fe0707c5116828d4b9ad356/'\n",
      "resource_url = 'https://file-examples.com/storage/fe0707c5116828d4b9ad356/2017/02/index.html'\n",
      "calling download_binary_file with \n",
      "    resource_url = 'https://file-examples.com/storage/fe0707c5116828d4b9ad356/2017/02/index.html'\n",
      "    location = WindowsPath('data')\n",
      "    name = 'index.html'\n",
      "response.headers['content-type'] = 'text/html', response.encoding = 'ISO-8859-1'\n",
      "Saved to data\\index.html\n",
      "\n",
      "\n",
      "\n",
      "response.headers['content-type'] = 'text/html; charset=UTF-8', response.encoding = 'UTF-8'\n",
      "matched_string = 'file-examples.com/storage/fe0707c5116828d4b9ad356/'\n",
      "resource_url = 'https://file-examples.com/storage/fe0707c5116828d4b9ad356/2017/02/file_example_XLSX_5000.xlsx'\n",
      "calling download_binary_file with \n",
      "    resource_url = 'https://file-examples.com/storage/fe0707c5116828d4b9ad356/2017/02/file_example_XLSX_5000.xlsx'\n",
      "    location = WindowsPath('data')\n",
      "    name = 'file_example_XLSX_5000.xlsx'\n",
      "response.headers['content-type'] = 'application/vnd.openxmlformats-officedocument.spreadsheetml.sheet', response.encoding = None\n",
      "Saved to data\\file_example_XLSX_5000.xlsx\n",
      "\n",
      "\n",
      "\n",
      "response.headers['content-type'] = 'text/html; charset=UTF-8', response.encoding = 'UTF-8'\n",
      "matched_string = 'file-examples.com/storage/fe0707c5116828d4b9ad356/'\n",
      "resource_url = 'https://file-examples.com/storage/fe0707c5116828d4b9ad356/2017/02/file_example_CSV_5000.csv'\n",
      "calling download_binary_file with \n",
      "    resource_url = 'https://file-examples.com/storage/fe0707c5116828d4b9ad356/2017/02/file_example_CSV_5000.csv'\n",
      "    location = WindowsPath('data')\n",
      "    name = 'file_example_CSV_5000.csv'\n",
      "response.headers['content-type'] = 'text/csv', response.encoding = 'ISO-8859-1'\n",
      "Saved to data\\file_example_CSV_5000.csv\n",
      "\n",
      "\n",
      "\n"
     ]
    }
   ],
   "source": [
    "urls = [\n",
    "    \"https://file-examples.com/wp-content/storage/2017/10/file-sample_150kB.pdf\",\n",
    "    \"https://file-examples.com/wp-content/storage/2017/02/file_example_JSON_1kb.json\",\n",
    "    \"https://file-examples.com/wp-content/storage/2017/02/file_example_XML_24kb.xml\",\n",
    "    \"https://file-examples.com/wp-content/storage/2017/02/index.html\",\n",
    "    \"https://file-examples.com/wp-content/storage/2017/02/file_example_XLSX_5000.xlsx\",\n",
    "    \"https://file-examples.com/wp-content/storage/2017/02/file_example_CSV_5000.csv\",\n",
    "]\n",
    "\n",
    "for url in urls:\n",
    "    process(url)\n",
    "    print(\"\\n\" * 2)"
   ]
  },
  {
   "cell_type": "markdown",
   "metadata": {},
   "source": [
    "### clean up"
   ]
  },
  {
   "cell_type": "code",
   "execution_count": 7,
   "metadata": {},
   "outputs": [],
   "source": [
    "# temporary folder for data\n",
    "folder = Path(\".\") / \"data\"\n",
    "if not folder.exists():\n",
    "    folder.mkdir()\n",
    "else:\n",
    "    for file in folder.iterdir():\n",
    "        if file.is_file():\n",
    "            file.unlink()"
   ]
  },
  {
   "cell_type": "code",
   "execution_count": null,
   "metadata": {},
   "outputs": [],
   "source": []
  },
  {
   "cell_type": "code",
   "execution_count": null,
   "metadata": {},
   "outputs": [],
   "source": []
  }
 ],
 "metadata": {
  "kernelspec": {
   "display_name": "Python 3",
   "language": "python",
   "name": "python3"
  },
  "language_info": {
   "codemirror_mode": {
    "name": "ipython",
    "version": 3
   },
   "file_extension": ".py",
   "mimetype": "text/x-python",
   "name": "python",
   "nbconvert_exporter": "python",
   "pygments_lexer": "ipython3",
   "version": "3.13.2"
  }
 },
 "nbformat": 4,
 "nbformat_minor": 2
}
