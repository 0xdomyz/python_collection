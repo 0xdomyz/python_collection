{
 "cells": [
  {
   "cell_type": "markdown",
   "metadata": {},
   "source": [
    "### libs"
   ]
  },
  {
   "cell_type": "code",
   "execution_count": 1,
   "metadata": {},
   "outputs": [],
   "source": [
    "import pandas as pd\n",
    "import numpy as np\n",
    "from scipy.stats import ttest_ind, ttest_rel, ttest_ind_from_stats"
   ]
  },
  {
   "cell_type": "markdown",
   "metadata": {},
   "source": [
    "### data"
   ]
  },
  {
   "cell_type": "code",
   "execution_count": 16,
   "metadata": {},
   "outputs": [
    {
     "name": "stdout",
     "output_type": "stream",
     "text": [
      "df.shape = (891, 15)\n",
      "   survived  pclass     sex   age  sibsp  parch     fare embarked  class    who  adult_male deck  embark_town alive  alone\n",
      "0         0       3    male  22.0      1      0   7.2500        S  Third    man        True  NaN  Southampton    no  False\n",
      "1         1       1  female  38.0      1      0  71.2833        C  First  woman       False    C    Cherbourg   yes  False\n",
      "2         1       3  female  26.0      0      0   7.9250        S  Third  woman       False  NaN  Southampton   yes   True\n",
      "3         1       1  female  35.0      1      0  53.1000        S  First  woman       False    C  Southampton   yes  False\n",
      "4         0       3    male  35.0      0      0   8.0500        S  Third    man        True  NaN  Southampton    no   True\n"
     ]
    }
   ],
   "source": [
    "import seaborn as sns\n",
    "\n",
    "df = sns.load_dataset(\"titanic\")\n",
    "print(f\"{df.shape = }\")\n",
    "print(df.head().to_string())"
   ]
  },
  {
   "cell_type": "code",
   "execution_count": 5,
   "metadata": {},
   "outputs": [
    {
     "data": {
      "application/vnd.microsoft.datawrangler.viewer.v0+json": {
       "columns": [
        {
         "name": "who",
         "rawType": "object",
         "type": "string"
        },
        {
         "name": "n",
         "rawType": "int64",
         "type": "integer"
        },
        {
         "name": "survived_rate",
         "rawType": "float64",
         "type": "float"
        }
       ],
       "ref": "066dbe51-4d73-4734-9174-d1634fb17d6b",
       "rows": [
        [
         "child",
         "83",
         "0.5903614457831325"
        ],
        [
         "man",
         "537",
         "0.16387337057728119"
        ],
        [
         "woman",
         "271",
         "0.7564575645756457"
        ]
       ],
       "shape": {
        "columns": 2,
        "rows": 3
       }
      },
      "text/html": [
       "<div>\n",
       "<style scoped>\n",
       "    .dataframe tbody tr th:only-of-type {\n",
       "        vertical-align: middle;\n",
       "    }\n",
       "\n",
       "    .dataframe tbody tr th {\n",
       "        vertical-align: top;\n",
       "    }\n",
       "\n",
       "    .dataframe thead th {\n",
       "        text-align: right;\n",
       "    }\n",
       "</style>\n",
       "<table border=\"1\" class=\"dataframe\">\n",
       "  <thead>\n",
       "    <tr style=\"text-align: right;\">\n",
       "      <th></th>\n",
       "      <th>n</th>\n",
       "      <th>survived_rate</th>\n",
       "    </tr>\n",
       "    <tr>\n",
       "      <th>who</th>\n",
       "      <th></th>\n",
       "      <th></th>\n",
       "    </tr>\n",
       "  </thead>\n",
       "  <tbody>\n",
       "    <tr>\n",
       "      <th>child</th>\n",
       "      <td>83</td>\n",
       "      <td>0.590361</td>\n",
       "    </tr>\n",
       "    <tr>\n",
       "      <th>man</th>\n",
       "      <td>537</td>\n",
       "      <td>0.163873</td>\n",
       "    </tr>\n",
       "    <tr>\n",
       "      <th>woman</th>\n",
       "      <td>271</td>\n",
       "      <td>0.756458</td>\n",
       "    </tr>\n",
       "  </tbody>\n",
       "</table>\n",
       "</div>"
      ],
      "text/plain": [
       "         n  survived_rate\n",
       "who                      \n",
       "child   83       0.590361\n",
       "man    537       0.163873\n",
       "woman  271       0.756458"
      ]
     },
     "execution_count": 5,
     "metadata": {},
     "output_type": "execute_result"
    }
   ],
   "source": [
    "df.groupby([\"who\"], dropna=False, observed=False).agg(\n",
    "    **{\n",
    "        \"n\": (\"who\", \"size\"),\n",
    "        \"survived_rate\": (\"survived\", \"mean\"),\n",
    "    }\n",
    ")"
   ]
  },
  {
   "cell_type": "code",
   "execution_count": 152,
   "metadata": {},
   "outputs": [],
   "source": [
    "# Simulate binary outcomes for two groups\n",
    "np.random.seed(42)\n",
    "group1 = np.random.binomial(1, 0.04, 150)\n",
    "weight1 = np.random.uniform(0.1, 2, 150)\n",
    "weight1 = weight1 / np.sum(weight1) * len(weight1)  # Normalize weights to have sum equal to n\n",
    "\n",
    "group2 = np.random.binomial(1, 0.07, 100)\n",
    "weight2 = np.random.uniform(0.1, 2, 100)\n",
    "weight2 = weight2 / np.sum(weight2) * len(weight2)  # Normalize weights to have sum equal to n"
   ]
  },
  {
   "cell_type": "markdown",
   "metadata": {},
   "source": [
    "### t test"
   ]
  },
  {
   "cell_type": "markdown",
   "metadata": {},
   "source": [
    "Interpretation\n",
    "\n",
    "This is a test for the null hypothesis that two independent samples have identical average (expected) values.\n",
    "\n",
    "If the p-value is greater than the common significance level of 0.05  \n",
    "Then no evidence to reject null hypo of equal mean  \n",
    "This means no enough evidence to conclude that the mean significantly differs"
   ]
  },
  {
   "cell_type": "markdown",
   "metadata": {},
   "source": [
    "### test parameters"
   ]
  },
  {
   "cell_type": "code",
   "execution_count": 67,
   "metadata": {},
   "outputs": [
    {
     "data": {
      "text/plain": [
       "TtestResult(statistic=np.float64(-1.2641828110871942), pvalue=np.float64(0.10396692542715495), df=np.float64(166.26029259354615))"
      ]
     },
     "execution_count": 67,
     "metadata": {},
     "output_type": "execute_result"
    }
   ],
   "source": [
    "# 2. Welch's t-test (does not assume equal variance)\n",
    "ttest_ind(\n",
    "    group1, group2, alternative=\"less\", equal_var=False\n",
    ")"
   ]
  },
  {
   "cell_type": "code",
   "execution_count": 68,
   "metadata": {},
   "outputs": [
    {
     "data": {
      "text/plain": [
       "TtestResult(statistic=np.float64(-1.3470835706597655), pvalue=np.float64(0.08959144774244233), df=np.float64(248.0))"
      ]
     },
     "execution_count": 68,
     "metadata": {},
     "output_type": "execute_result"
    }
   ],
   "source": [
    "# independent\n",
    "ttest_ind(\n",
    "    group1, group2, alternative=\"less\", equal_var=True\n",
    ")"
   ]
  },
  {
   "cell_type": "markdown",
   "metadata": {},
   "source": [
    "### variance assumptions"
   ]
  },
  {
   "cell_type": "markdown",
   "metadata": {},
   "source": [
    "bernoulli rv paras:\n",
    "- mean = p\n",
    "- variance = p(1-p)\n",
    "- std = sqrt(p(1-p))\n",
    "\n",
    "Then for sample of size n,\n",
    "\n",
    "X_bar, sample mean is a rv with:\n",
    "- mean = p\n",
    "- variance = p(1-p)/n\n",
    "- std = sqrt(p(1-p)/n)\n",
    "\n",
    "S^2, sample variance is a rv with:\n",
    "- mean = p(1-p)\n",
    "- variance = [p(1-p)]^2 * 2/(n-1)\n",
    "- std = sqrt([p(1-p)]^2 * 2/(n-1)) = p(1-p) * sqrt(2/(n-1))\n",
    "\n",
    "Also, Bessel's correction need to be applied to sample variance to arrive at an unbiased estimator.\n",
    "- Unbiased variance estimator: s²_unbiased = Σ(xᵢ - x̄)² / (n-1) = s²_biased × n/(n-1)\n",
    "- Unbiased std estimator: s_unbiased = √[s²_unbiased] = √[s²_biased × n/(n-1)]\n",
    "- mean estimator: X_bar = Σxᵢ / n, which is unbiased since sample mean is an unbiased estimator of the population mean.\n",
    "- s²_biased's special form for bernoulli rv: \n",
    "    - (xᵢ - x̄)² = (1 - X̄)² for xᵢ=1, and (xᵢ - x̄)² = X̄² for xᵢ=0, also X̄ = k/n\n",
    "    - s²_biased = [k(1-X̄)² + (n-k)X̄²]/n = [k - 2kX̄ + kX̄² + nX̄² - kX̄²]/n = [k - 2kX̄ + nX̄²]/n = X̄ - 2X̄² + X̄² = X̄(1-X̄)\n",
    "    - so s²_biased = x_bar * (1 - x_bar)\n"
   ]
  },
  {
   "cell_type": "code",
   "execution_count": 160,
   "metadata": {},
   "outputs": [
    {
     "data": {
      "text/plain": [
       "np.float64(0.19661566092456972)"
      ]
     },
     "execution_count": 160,
     "metadata": {},
     "output_type": "execute_result"
    }
   ],
   "source": [
    "np.std(group1, ddof=1)"
   ]
  },
  {
   "cell_type": "code",
   "execution_count": 161,
   "metadata": {},
   "outputs": [
    {
     "data": {
      "text/plain": [
       "np.float64(0.1966156609245697)"
      ]
     },
     "execution_count": 161,
     "metadata": {},
     "output_type": "execute_result"
    }
   ],
   "source": [
    "def bernoulli_sample_std(values):\n",
    "    p = np.mean(values)\n",
    "    return np.sqrt(p * (1 - p) * len(values) / (len(values) - 1))\n",
    "\n",
    "bernoulli_sample_std(group1)"
   ]
  },
  {
   "cell_type": "code",
   "execution_count": null,
   "metadata": {},
   "outputs": [],
   "source": []
  },
  {
   "cell_type": "code",
   "execution_count": 154,
   "metadata": {},
   "outputs": [
    {
     "data": {
      "text/plain": [
       "(np.float64(0.04), np.float64(0.038803873811712124))"
      ]
     },
     "execution_count": 154,
     "metadata": {},
     "output_type": "execute_result"
    }
   ],
   "source": [
    "np.mean(group1), np.average(group1, weights=weight1)"
   ]
  },
  {
   "cell_type": "code",
   "execution_count": 158,
   "metadata": {},
   "outputs": [
    {
     "data": {
      "text/plain": [
       "(np.float64(0.08), np.float64(0.07140725805097317))"
      ]
     },
     "execution_count": 158,
     "metadata": {},
     "output_type": "execute_result"
    }
   ],
   "source": [
    "np.mean(group2), np.average(group2, weights=weight2)"
   ]
  },
  {
   "cell_type": "code",
   "execution_count": null,
   "metadata": {},
   "outputs": [],
   "source": []
  },
  {
   "cell_type": "code",
   "execution_count": 194,
   "metadata": {},
   "outputs": [],
   "source": [
    "def effective_sample_size(weights):\n",
    "    sum_w = np.sum(weights)\n",
    "    sum_w2 = np.sum(weights**2)\n",
    "    return (sum_w ** 2) / sum_w2\n",
    "\n",
    "def weighted_unbiased_sample_std(values, weights):\n",
    "    x_bar_weighted = np.average(values, weights=weights)\n",
    "    biased_weighted_var = np.average((values - x_bar_weighted)**2, weights=weights)\n",
    "\n",
    "    # Apply Bessel's correction, via kish's effective sample size\n",
    "    effective_n = effective_sample_size(weights)\n",
    "    print(f\"{effective_n = }, n = {len(values)}\")\n",
    "    unbiased_var = biased_weighted_var * effective_n / (effective_n - 1)\n",
    "\n",
    "    return np.sqrt(unbiased_var)"
   ]
  },
  {
   "cell_type": "code",
   "execution_count": 174,
   "metadata": {},
   "outputs": [
    {
     "name": "stdout",
     "output_type": "stream",
     "text": [
      "effective_n = np.float64(119.09555157088872), n = 150\n"
     ]
    },
    {
     "data": {
      "text/plain": [
       "(np.float64(0.19661566092456972), np.float64(0.19394319610929034))"
      ]
     },
     "execution_count": 174,
     "metadata": {},
     "output_type": "execute_result"
    }
   ],
   "source": [
    "np.std(group1, ddof=1), weighted_unbiased_sample_std(group1,weight1)"
   ]
  },
  {
   "cell_type": "code",
   "execution_count": 175,
   "metadata": {},
   "outputs": [
    {
     "name": "stdout",
     "output_type": "stream",
     "text": [
      "effective_n = np.float64(76.29277781011024), n = 100\n"
     ]
    },
    {
     "data": {
      "text/plain": [
       "(np.float64(0.27265992434429076), np.float64(0.2592082826967816))"
      ]
     },
     "execution_count": 175,
     "metadata": {},
     "output_type": "execute_result"
    }
   ],
   "source": [
    "np.std(group2, ddof=1), weighted_unbiased_sample_std(group2,weight2)"
   ]
  },
  {
   "cell_type": "code",
   "execution_count": null,
   "metadata": {},
   "outputs": [],
   "source": []
  },
  {
   "cell_type": "code",
   "execution_count": 176,
   "metadata": {},
   "outputs": [
    {
     "data": {
      "text/plain": [
       "TtestResult(statistic=np.float64(-1.3470835706597655), pvalue=np.float64(0.08959144774244233), df=np.float64(248.0))"
      ]
     },
     "execution_count": 176,
     "metadata": {},
     "output_type": "execute_result"
    }
   ],
   "source": [
    "ttest_ind(\n",
    "    group1, group2,\n",
    "    equal_var=True,\n",
    "    alternative=\"less\",\n",
    ")"
   ]
  },
  {
   "cell_type": "code",
   "execution_count": 177,
   "metadata": {},
   "outputs": [
    {
     "data": {
      "text/plain": [
       "Ttest_indResult(statistic=np.float64(-1.3470835706597653), pvalue=np.float64(0.08959144774244236))"
      ]
     },
     "execution_count": 177,
     "metadata": {},
     "output_type": "execute_result"
    }
   ],
   "source": [
    "ttest_ind_from_stats(\n",
    "    np.mean(group1),\n",
    "    np.std(group1, ddof=1),\n",
    "    len(group1),\n",
    "    np.mean(group2),\n",
    "    np.std(group2, ddof=1),\n",
    "    len(group2),\n",
    "    equal_var=True,\n",
    "    alternative=\"less\",\n",
    ")"
   ]
  },
  {
   "cell_type": "code",
   "execution_count": 193,
   "metadata": {},
   "outputs": [
    {
     "data": {
      "text/plain": [
       "Ttest_indResult(statistic=np.float64(-1.0979870814154022), pvalue=np.float64(0.13663750236136102))"
      ]
     },
     "execution_count": 193,
     "metadata": {},
     "output_type": "execute_result"
    }
   ],
   "source": [
    "ttest_ind_from_stats(\n",
    "    np.average(group1, weights=weight1),\n",
    "    np.std(group1, ddof=1),\n",
    "    np.sum(weight1),\n",
    "    np.average(group2, weights=weight2),\n",
    "    np.std(group2, ddof=1),\n",
    "    np.sum(weight2),\n",
    "    equal_var=True,\n",
    "    alternative=\"less\",\n",
    ")"
   ]
  },
  {
   "cell_type": "code",
   "execution_count": 195,
   "metadata": {},
   "outputs": [
    {
     "name": "stdout",
     "output_type": "stream",
     "text": [
      "effective_n = np.float64(119.09555157088872), n = 150\n",
      "effective_n = np.float64(76.29277781011024), n = 100\n"
     ]
    },
    {
     "data": {
      "text/plain": [
       "Ttest_indResult(statistic=np.float64(-1.0030809844752682), pvalue=np.float64(0.15853761365364008))"
      ]
     },
     "execution_count": 195,
     "metadata": {},
     "output_type": "execute_result"
    }
   ],
   "source": [
    "ttest_ind_from_stats(\n",
    "    np.average(group1, weights=weight1),\n",
    "    weighted_unbiased_sample_std(group1, weight1),\n",
    "    effective_sample_size(weight1),\n",
    "    np.average(group2, weights=weight2),\n",
    "    weighted_unbiased_sample_std(group2, weight2),\n",
    "    effective_sample_size(weight2),\n",
    "    equal_var=True,\n",
    "    alternative=\"less\",\n",
    ")"
   ]
  },
  {
   "cell_type": "code",
   "execution_count": 199,
   "metadata": {},
   "outputs": [
    {
     "name": "stdout",
     "output_type": "stream",
     "text": [
      "Weighted t-test: (np.float64(-1.1374439720607135), np.float64(0.1282252398412474), np.float64(248.0))\n"
     ]
    }
   ],
   "source": [
    "# Using statsmodels for survey-weighted statistics\n",
    "from statsmodels.stats.weightstats import DescrStatsW, CompareMeans\n",
    "\n",
    "# Create weighted descriptive statistics\n",
    "desc1 = DescrStatsW(group1, weights=weight1, ddof=1)\n",
    "desc2 = DescrStatsW(group2, weights=weight2, ddof=1)\n",
    "\n",
    "# Weighted t-test\n",
    "cm = CompareMeans(desc1, desc2)\n",
    "result = cm.ttest_ind(alternative='smaller', usevar='pooled')\n",
    "print(f\"Weighted t-test: {result}\")"
   ]
  },
  {
   "cell_type": "code",
   "execution_count": 200,
   "metadata": {},
   "outputs": [
    {
     "data": {
      "text/plain": [
       "(np.float64(0.038803873811712124),\n",
       " np.float64(0.19377424036866508),\n",
       " np.float64(150.0))"
      ]
     },
     "execution_count": 200,
     "metadata": {},
     "output_type": "execute_result"
    }
   ],
   "source": [
    "desc1.mean, desc1.std, desc1.nobs"
   ]
  },
  {
   "cell_type": "code",
   "execution_count": null,
   "metadata": {},
   "outputs": [],
   "source": []
  }
 ],
 "metadata": {
  "kernelspec": {
   "display_name": "Python 3",
   "language": "python",
   "name": "python3"
  },
  "language_info": {
   "codemirror_mode": {
    "name": "ipython",
    "version": 3
   },
   "file_extension": ".py",
   "mimetype": "text/x-python",
   "name": "python",
   "nbconvert_exporter": "python",
   "pygments_lexer": "ipython3",
   "version": "3.13.2"
  }
 },
 "nbformat": 4,
 "nbformat_minor": 2
}
