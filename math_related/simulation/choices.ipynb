{
 "cells": [
  {
   "cell_type": "code",
   "execution_count": 1,
   "id": "bc3d14cf",
   "metadata": {},
   "outputs": [],
   "source": [
    "import numpy as np\n",
    "import pandas as pd\n",
    "import matplotlib.pyplot as plt\n",
    "import matplotlib as mpl"
   ]
  },
  {
   "cell_type": "code",
   "execution_count": 2,
   "id": "e6312fb1",
   "metadata": {},
   "outputs": [],
   "source": [
    "from sampling_main_secondary import sample_df_via_main_and_secondary_flags, make_sampling_summary_df, decode_flags"
   ]
  },
  {
   "cell_type": "markdown",
   "id": "113074e9",
   "metadata": {},
   "source": [
    "### spec"
   ]
  },
  {
   "cell_type": "code",
   "execution_count": 3,
   "id": "ebdcaf25",
   "metadata": {},
   "outputs": [
    {
     "name": "stdout",
     "output_type": "stream",
     "text": [
      "df.shape = (891, 15)\n"
     ]
    },
    {
     "data": {
      "application/vnd.microsoft.datawrangler.viewer.v0+json": {
       "columns": [
        {
         "name": "who",
         "rawType": "object",
         "type": "string"
        },
        {
         "name": "count",
         "rawType": "float64",
         "type": "float"
        }
       ],
       "ref": "01e07a6e-b544-44ad-882f-f3adf05b1521",
       "rows": [
        [
         "man",
         "0.6026936026936027"
        ],
        [
         "woman",
         "0.3041526374859708"
        ],
        [
         "child",
         "0.0931537598204265"
        ]
       ],
       "shape": {
        "columns": 1,
        "rows": 3
       }
      },
      "text/plain": [
       "who\n",
       "man      0.602694\n",
       "woman    0.304153\n",
       "child    0.093154\n",
       "Name: count, dtype: float64"
      ]
     },
     "execution_count": 3,
     "metadata": {},
     "output_type": "execute_result"
    }
   ],
   "source": [
    "df = pd.read_csv('titanic.csv')\n",
    "print(f\"{df.shape = }\")\n",
    "df['who'].value_counts().div(df.shape[0])"
   ]
  },
  {
   "cell_type": "code",
   "execution_count": 4,
   "id": "a155429a",
   "metadata": {},
   "outputs": [
    {
     "name": "stdout",
     "output_type": "stream",
     "text": [
      "   survived  pclass     sex   age  sibsp  parch     fare embarked  class    who  adult_male deck  embark_town alive  alone\n",
      "0         0       3    male  22.0      1      0   7.2500        S  Third    man        True  NaN  Southampton    no  False\n",
      "1         1       1  female  38.0      1      0  71.2833        C  First  woman       False    C    Cherbourg   yes  False\n",
      "2         1       3  female  26.0      0      0   7.9250        S  Third  woman       False  NaN  Southampton   yes   True\n",
      "3         1       1  female  35.0      1      0  53.1000        S  First  woman       False    C  Southampton   yes  False\n",
      "4         0       3    male  35.0      0      0   8.0500        S  Third    man        True  NaN  Southampton    no   True\n"
     ]
    }
   ],
   "source": [
    "print(df.head().to_string())"
   ]
  },
  {
   "cell_type": "code",
   "execution_count": 5,
   "id": "9439666f",
   "metadata": {},
   "outputs": [
    {
     "name": "stdout",
     "output_type": "stream",
     "text": [
      "     who   age  pclass  survived  flags                                  flags_decoded\n",
      "0    man  22.0       3         0    657  [IS_MAN, AGE_ABOVE_18, CLASS_3, NOT_SURVIVED]\n",
      "1  woman  38.0       1         1    306    [IS_WOMAN, AGE_ABOVE_18, CLASS_1, SURVIVED]\n",
      "2  woman  26.0       3         1    402    [IS_WOMAN, AGE_ABOVE_18, CLASS_3, SURVIVED]\n",
      "3  woman  35.0       1         1    306    [IS_WOMAN, AGE_ABOVE_18, CLASS_1, SURVIVED]\n",
      "4    man  35.0       3         0    657  [IS_MAN, AGE_ABOVE_18, CLASS_3, NOT_SURVIVED]\n"
     ]
    }
   ],
   "source": [
    "from enum import IntFlag\n",
    "\n",
    "\n",
    "class Flags(IntFlag):\n",
    "    IS_MAN = 1 << 0\n",
    "    IS_WOMAN = 1 << 1\n",
    "    IS_CHILD = 1 << 2\n",
    "\n",
    "    AGE_BELOW_18 = 1 << 3\n",
    "    AGE_ABOVE_18 = 1 << 4\n",
    "\n",
    "    CLASS_1 = 1 << 5\n",
    "    CLASS_2 = 1 << 6\n",
    "    CLASS_3 = 1 << 7\n",
    "\n",
    "    SURVIVED = 1 << 8\n",
    "    NOT_SURVIVED = 1 << 9\n",
    "\n",
    "df['flags'] = 0\n",
    "df.loc[df['who'] == 'man', 'flags'] |= int(Flags.IS_MAN)\n",
    "df.loc[df['who'] == 'woman', 'flags'] |= int(Flags.IS_WOMAN)\n",
    "df.loc[df['who'] == 'child', 'flags'] |= int(Flags.IS_CHILD)\n",
    "df.loc[df['age'] < 18, 'flags'] |= int(Flags.AGE_BELOW_18)\n",
    "df.loc[df['age'] >= 18, 'flags'] |= int(Flags.AGE_ABOVE_18)\n",
    "df.loc[df['pclass'] == 1, 'flags'] |= int(Flags.CLASS_1)\n",
    "df.loc[df['pclass'] == 2, 'flags'] |= int(Flags.CLASS_2)\n",
    "df.loc[df['pclass'] == 3, 'flags'] |= int(Flags.CLASS_3)\n",
    "df.loc[df['survived'] == 1, 'flags'] |= int(Flags.SURVIVED)\n",
    "df.loc[df['survived'] == 0, 'flags'] |= int(Flags.NOT_SURVIVED)\n",
    "\n",
    "df['flags_decoded'] = df['flags'].apply(lambda x: decode_flags(x, Flags))\n",
    "print(df[['who', 'age', 'pclass', 'survived', 'flags', 'flags_decoded']].head().to_string())"
   ]
  },
  {
   "cell_type": "markdown",
   "id": "9d56482e",
   "metadata": {},
   "source": [
    "### process"
   ]
  },
  {
   "cell_type": "code",
   "execution_count": 6,
   "id": "7a713903",
   "metadata": {},
   "outputs": [],
   "source": [
    "flags_main = [Flags.IS_MAN, Flags.IS_WOMAN, Flags.IS_CHILD]\n",
    "flags_secondary = [Flags.AGE_BELOW_18, Flags.AGE_ABOVE_18, Flags.SURVIVED, Flags.NOT_SURVIVED]\n",
    "req_n_main = [10,10,10]\n",
    "req_n_secondary = [15,15, 10, 10]"
   ]
  },
  {
   "cell_type": "code",
   "execution_count": 7,
   "id": "9697944f",
   "metadata": {},
   "outputs": [
    {
     "name": "stderr",
     "output_type": "stream",
     "text": [
      "\u001b[32m2025-10-13 20:44:41.627\u001b[0m | \u001b[34m\u001b[1mDEBUG   \u001b[0m | \u001b[36msampling_main_secondary\u001b[0m:\u001b[36msample_df_via_main_and_secondary_flags\u001b[0m:\u001b[36m27\u001b[0m - \u001b[34m\u001b[1mChosen 10 samples for flag IS_MAN\u001b[0m\n",
      "\u001b[32m2025-10-13 20:44:41.630\u001b[0m | \u001b[34m\u001b[1mDEBUG   \u001b[0m | \u001b[36msampling_main_secondary\u001b[0m:\u001b[36msample_df_via_main_and_secondary_flags\u001b[0m:\u001b[36m27\u001b[0m - \u001b[34m\u001b[1mChosen 10 samples for flag IS_WOMAN\u001b[0m\n",
      "\u001b[32m2025-10-13 20:44:41.633\u001b[0m | \u001b[34m\u001b[1mDEBUG   \u001b[0m | \u001b[36msampling_main_secondary\u001b[0m:\u001b[36msample_df_via_main_and_secondary_flags\u001b[0m:\u001b[36m27\u001b[0m - \u001b[34m\u001b[1mChosen 10 samples for flag IS_CHILD\u001b[0m\n",
      "\u001b[32m2025-10-13 20:44:41.636\u001b[0m | \u001b[34m\u001b[1mDEBUG   \u001b[0m | \u001b[36msampling_main_secondary\u001b[0m:\u001b[36msample_df_via_main_and_secondary_flags\u001b[0m:\u001b[36m42\u001b[0m - \u001b[34m\u001b[1mChosen 4 samples for flag AGE_BELOW_18\u001b[0m\n",
      "\u001b[32m2025-10-13 20:44:41.639\u001b[0m | \u001b[34m\u001b[1mDEBUG   \u001b[0m | \u001b[36msampling_main_secondary\u001b[0m:\u001b[36msample_df_via_main_and_secondary_flags\u001b[0m:\u001b[36m34\u001b[0m - \u001b[34m\u001b[1mAlready have 17 samples for flag AGE_ABOVE_18, need 15, skip\u001b[0m\n",
      "\u001b[32m2025-10-13 20:44:41.643\u001b[0m | \u001b[34m\u001b[1mDEBUG   \u001b[0m | \u001b[36msampling_main_secondary\u001b[0m:\u001b[36msample_df_via_main_and_secondary_flags\u001b[0m:\u001b[36m34\u001b[0m - \u001b[34m\u001b[1mAlready have 18 samples for flag SURVIVED, need 10, skip\u001b[0m\n",
      "\u001b[32m2025-10-13 20:44:41.645\u001b[0m | \u001b[34m\u001b[1mDEBUG   \u001b[0m | \u001b[36msampling_main_secondary\u001b[0m:\u001b[36msample_df_via_main_and_secondary_flags\u001b[0m:\u001b[36m34\u001b[0m - \u001b[34m\u001b[1mAlready have 16 samples for flag NOT_SURVIVED, need 10, skip\u001b[0m\n"
     ]
    }
   ],
   "source": [
    "np.random.seed(42)\n",
    "\n",
    "df['chosen'] = sample_df_via_main_and_secondary_flags(\n",
    "    df,\n",
    "    flags_col='flags',\n",
    "    flags_main = flags_main,\n",
    "    flags_secondary = flags_secondary,\n",
    "    req_n_main = req_n_main,\n",
    "    req_n_secondary = req_n_secondary,\n",
    ")\n"
   ]
  },
  {
   "cell_type": "code",
   "execution_count": 8,
   "id": "df0ebee7",
   "metadata": {},
   "outputs": [
    {
     "name": "stdout",
     "output_type": "stream",
     "text": [
      "              Chosen  Total Percentage       Type   Ratio\n",
      "Flag                                                     \n",
      "IS_MAN            10    537       1.9%       Main  10/537\n",
      "IS_WOMAN          10    271       3.7%       Main  10/271\n",
      "IS_CHILD          14     83      16.9%       Main   14/83\n",
      "AGE_BELOW_18      15    113      13.3%  Secondary  15/113\n",
      "AGE_ABOVE_18      17    601       2.8%  Secondary  17/601\n",
      "SURVIVED          18    342       5.3%  Secondary  18/342\n",
      "NOT_SURVIVED      16    549       2.9%  Secondary  16/549\n"
     ]
    }
   ],
   "source": [
    "sdf = make_sampling_summary_df(\n",
    "    df,\n",
    "    sample_col='chosen',\n",
    "    flags_col='flags',\n",
    "    flags_main = flags_main,\n",
    "    flags_secondary = flags_secondary\n",
    ")\n",
    "print(sdf.to_string())"
   ]
  },
  {
   "cell_type": "code",
   "execution_count": 9,
   "id": "d076f99c",
   "metadata": {},
   "outputs": [
    {
     "name": "stdout",
     "output_type": "stream",
     "text": [
      "total chosen: 34\n"
     ]
    }
   ],
   "source": [
    "print(f\"total chosen: {df['chosen'].sum()}\")"
   ]
  },
  {
   "cell_type": "code",
   "execution_count": 10,
   "id": "9ff4b2d4",
   "metadata": {},
   "outputs": [
    {
     "name": "stdout",
     "output_type": "stream",
     "text": [
      "     survived  pclass     sex    age  sibsp  parch      fare embarked   class    who  adult_male deck  embark_town alive  alone  flags                                    flags_decoded  chosen\n",
      "9           1       2  female  14.00      1      0   30.0708        C  Second  child       False  NaN    Cherbourg   yes  False    332      [IS_CHILD, AGE_BELOW_18, CLASS_2, SURVIVED]    True\n",
      "63          0       3    male   4.00      3      2   27.9000        S   Third  child       False  NaN  Southampton    no  False    652  [IS_CHILD, AGE_BELOW_18, CLASS_3, NOT_SURVIVED]    True\n",
      "127         1       3    male  24.00      0      0    7.1417        S   Third    man        True  NaN  Southampton   yes   True    401        [IS_MAN, AGE_ABOVE_18, CLASS_3, SURVIVED]    True\n",
      "134         0       2    male  25.00      0      0   13.0000        S  Second    man        True  NaN  Southampton    no   True    593    [IS_MAN, AGE_ABOVE_18, CLASS_2, NOT_SURVIVED]    True\n",
      "141         1       3  female  22.00      0      0    7.7500        S   Third  woman       False  NaN  Southampton   yes   True    402      [IS_WOMAN, AGE_ABOVE_18, CLASS_3, SURVIVED]    True\n",
      "148         0       2    male  36.50      0      2   26.0000        S  Second    man        True    F  Southampton    no  False    593    [IS_MAN, AGE_ABOVE_18, CLASS_2, NOT_SURVIVED]    True\n",
      "152         0       3    male  55.50      0      0    8.0500        S   Third    man        True  NaN  Southampton    no   True    657    [IS_MAN, AGE_ABOVE_18, CLASS_3, NOT_SURVIVED]    True\n",
      "193         1       2    male   3.00      1      1   26.0000        S  Second  child       False    F  Southampton   yes  False    332      [IS_CHILD, AGE_BELOW_18, CLASS_2, SURVIVED]    True\n",
      "305         1       1    male   0.92      1      2  151.5500        S   First  child       False    C  Southampton   yes  False    300      [IS_CHILD, AGE_BELOW_18, CLASS_1, SURVIVED]    True\n",
      "311         1       1  female  18.00      2      2  262.3750        C   First  woman       False    B    Cherbourg   yes  False    306      [IS_WOMAN, AGE_ABOVE_18, CLASS_1, SURVIVED]    True\n",
      "352         0       3    male  15.00      1      1    7.2292        C   Third  child       False  NaN    Cherbourg    no  False    652  [IS_CHILD, AGE_BELOW_18, CLASS_3, NOT_SURVIVED]    True\n",
      "362         0       3  female  45.00      0      1   14.4542        C   Third  woman       False  NaN    Cherbourg    no  False    658  [IS_WOMAN, AGE_ABOVE_18, CLASS_3, NOT_SURVIVED]    True\n",
      "364         0       3    male    NaN      1      0   15.5000        Q   Third    man        True  NaN   Queenstown    no  False    641                  [IS_MAN, CLASS_3, NOT_SURVIVED]    True\n",
      "386         0       3    male   1.00      5      2   46.9000        S   Third  child       False  NaN  Southampton    no  False    652  [IS_CHILD, AGE_BELOW_18, CLASS_3, NOT_SURVIVED]    True\n",
      "412         1       1  female  33.00      1      0   90.0000        Q   First  woman       False    C   Queenstown   yes  False    306      [IS_WOMAN, AGE_ABOVE_18, CLASS_1, SURVIVED]    True\n",
      "469         1       3  female   0.75      2      1   19.2583        C   Third  child       False  NaN    Cherbourg   yes  False    396      [IS_CHILD, AGE_BELOW_18, CLASS_3, SURVIVED]    True\n",
      "474         0       3  female  22.00      0      0    9.8375        S   Third  woman       False  NaN  Southampton    no   True    658  [IS_WOMAN, AGE_ABOVE_18, CLASS_3, NOT_SURVIVED]    True\n",
      "479         1       3  female   2.00      0      1   12.2875        S   Third  child       False  NaN  Southampton   yes  False    396      [IS_CHILD, AGE_BELOW_18, CLASS_3, SURVIVED]    True\n",
      "542         0       3  female  11.00      4      2   31.2750        S   Third  child       False  NaN  Southampton    no  False    652  [IS_CHILD, AGE_BELOW_18, CLASS_3, NOT_SURVIVED]    True\n",
      "549         1       2    male   8.00      1      1   36.7500        S  Second  child       False  NaN  Southampton   yes  False    332      [IS_CHILD, AGE_BELOW_18, CLASS_2, SURVIVED]    True\n",
      "594         0       2    male  37.00      1      0   26.0000        S  Second    man        True  NaN  Southampton    no  False    593    [IS_MAN, AGE_ABOVE_18, CLASS_2, NOT_SURVIVED]    True\n",
      "627         1       1  female  21.00      0      0   77.9583        S   First  woman       False    D  Southampton   yes   True    306      [IS_WOMAN, AGE_ABOVE_18, CLASS_1, SURVIVED]    True\n",
      "638         0       3  female  41.00      0      5   39.6875        S   Third  woman       False  NaN  Southampton    no  False    658  [IS_WOMAN, AGE_ABOVE_18, CLASS_3, NOT_SURVIVED]    True\n",
      "691         1       3  female   4.00      0      1   13.4167        C   Third  child       False  NaN    Cherbourg   yes  False    396      [IS_CHILD, AGE_BELOW_18, CLASS_3, SURVIVED]    True\n",
      "738         0       3    male    NaN      0      0    7.8958        S   Third    man        True  NaN  Southampton    no   True    641                  [IS_MAN, CLASS_3, NOT_SURVIVED]    True\n",
      "749         0       3    male  31.00      0      0    7.7500        Q   Third    man        True  NaN   Queenstown    no   True    657    [IS_MAN, AGE_ABOVE_18, CLASS_3, NOT_SURVIVED]    True\n",
      "750         1       2  female   4.00      1      1   23.0000        S  Second  child       False  NaN  Southampton   yes  False    332      [IS_CHILD, AGE_BELOW_18, CLASS_2, SURVIVED]    True\n",
      "777         1       3  female   5.00      0      0   12.4750        S   Third  child       False  NaN  Southampton   yes   True    396      [IS_CHILD, AGE_BELOW_18, CLASS_3, SURVIVED]    True\n",
      "786         1       3  female  18.00      0      0    7.4958        S   Third  woman       False  NaN  Southampton   yes   True    402      [IS_WOMAN, AGE_ABOVE_18, CLASS_3, SURVIVED]    True\n",
      "796         1       1  female  49.00      0      0   25.9292        S   First  woman       False    D  Southampton   yes   True    306      [IS_WOMAN, AGE_ABOVE_18, CLASS_1, SURVIVED]    True\n",
      "812         0       2    male  35.00      0      0   10.5000        S  Second    man        True  NaN  Southampton    no   True    593    [IS_MAN, AGE_ABOVE_18, CLASS_2, NOT_SURVIVED]    True\n",
      "853         1       1  female  16.00      0      1   39.4000        S   First  woman       False    D  Southampton   yes  False    298      [IS_WOMAN, AGE_BELOW_18, CLASS_1, SURVIVED]    True\n",
      "869         1       3    male   4.00      1      1   11.1333        S   Third  child       False  NaN  Southampton   yes  False    396      [IS_CHILD, AGE_BELOW_18, CLASS_3, SURVIVED]    True\n",
      "877         0       3    male  19.00      0      0    7.8958        S   Third    man        True  NaN  Southampton    no   True    657    [IS_MAN, AGE_ABOVE_18, CLASS_3, NOT_SURVIVED]    True\n"
     ]
    }
   ],
   "source": [
    "print(df.loc[lambda x:x['chosen'], :].to_string())\n"
   ]
  },
  {
   "cell_type": "code",
   "execution_count": null,
   "id": "3667f7e4",
   "metadata": {},
   "outputs": [],
   "source": []
  },
  {
   "cell_type": "code",
   "execution_count": null,
   "id": "b943f134",
   "metadata": {},
   "outputs": [],
   "source": []
  }
 ],
 "metadata": {
  "kernelspec": {
   "display_name": "Python 3",
   "language": "python",
   "name": "python3"
  },
  "language_info": {
   "codemirror_mode": {
    "name": "ipython",
    "version": 3
   },
   "file_extension": ".py",
   "mimetype": "text/x-python",
   "name": "python",
   "nbconvert_exporter": "python",
   "pygments_lexer": "ipython3",
   "version": "3.13.2"
  }
 },
 "nbformat": 4,
 "nbformat_minor": 5
}
