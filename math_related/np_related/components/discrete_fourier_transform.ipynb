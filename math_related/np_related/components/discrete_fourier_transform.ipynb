{
 "cells": [
  {
   "cell_type": "code",
   "execution_count": null,
   "metadata": {},
   "outputs": [],
   "source": [
    "Discrete Fourier Transform: Functions for one-dimensional n-point discrete Fourier Transform (fft, ifft), two-dimensional n-point discrete Fourier Transform (fft2, ifft2), n-dimensional n-point discrete Fourier Transform (fftn, ifftn), etc.\n"
   ]
  }
 ],
 "metadata": {
  "language_info": {
   "name": "python"
  }
 },
 "nbformat": 4,
 "nbformat_minor": 2
}
