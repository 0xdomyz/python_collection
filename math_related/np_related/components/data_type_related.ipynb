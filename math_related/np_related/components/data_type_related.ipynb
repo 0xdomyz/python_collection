{
 "cells": [
  {
   "cell_type": "code",
   "execution_count": null,
   "metadata": {},
   "outputs": [],
   "source": [
    "Data type related: Functions for creating data types (dtype), type testing (issubdtype, issctype), type conversion (asarray, asanyarray, ascontiguousarray, asfarray, asfortranarray, asarray_chkfinite), etc."
   ]
  },
  {
   "cell_type": "code",
   "execution_count": null,
   "metadata": {},
   "outputs": [],
   "source": []
  }
 ],
 "metadata": {
  "language_info": {
   "name": "python"
  }
 },
 "nbformat": 4,
 "nbformat_minor": 2
}
