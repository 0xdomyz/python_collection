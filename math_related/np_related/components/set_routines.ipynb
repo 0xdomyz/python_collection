{
 "cells": [
  {
   "cell_type": "code",
   "execution_count": null,
   "metadata": {},
   "outputs": [],
   "source": [
    "Set routines: Functions for creating (setxor1d, setdiff1d, setmember1d), manipulating (union1d, intersect1d, setxor1d, setdiff1d, unique), and testing (in1d, isin) on sets.\n"
   ]
  }
 ],
 "metadata": {
  "language_info": {
   "name": "python"
  }
 },
 "nbformat": 4,
 "nbformat_minor": 2
}
