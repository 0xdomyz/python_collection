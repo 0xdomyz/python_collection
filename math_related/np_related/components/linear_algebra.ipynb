{
 "cells": [
  {
   "cell_type": "code",
   "execution_count": null,
   "metadata": {},
   "outputs": [],
   "source": [
    "Linear algebra: Functions for matrix and vector products (dot, vdot, inner, outer, matmul, tensordot, einsum), decomposition (cholesky, qr, svd), eigenvalues (eig, eigh, eigvals, eigvalsh), norms and other numbers (norm, cond, det, matrix_rank, slogdet, trace), solving equations and inverting matrices (solve, tensorsolve, lstsq, inv, pinv, tensorinv), etc."
   ]
  }
 ],
 "metadata": {
  "language_info": {
   "name": "python"
  }
 },
 "nbformat": 4,
 "nbformat_minor": 2
}
