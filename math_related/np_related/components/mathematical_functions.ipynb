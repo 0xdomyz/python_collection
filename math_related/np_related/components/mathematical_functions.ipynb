{
 "cells": [
  {
   "cell_type": "code",
   "execution_count": null,
   "metadata": {},
   "outputs": [],
   "source": [
    "Mathematical functions: Basic operations (add, subtract, multiply, divide, power), trigonometric functions (sin, cos, tan), complex numbers (angle, real, imag, conjugate), hyperbolic functions (sinh, cosh, tanh), rounding (around, round_, rint, fix, floor, ceil, trunc), etc."
   ]
  }
 ],
 "metadata": {
  "language_info": {
   "name": "python"
  }
 },
 "nbformat": 4,
 "nbformat_minor": 2
}
