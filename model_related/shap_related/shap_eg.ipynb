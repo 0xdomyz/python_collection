{
 "cells": [
  {
   "cell_type": "code",
   "execution_count": null,
   "id": "7175e384",
   "metadata": {},
   "outputs": [],
   "source": [
    "# SHAP for model interpretability\n",
    "import shap"
   ]
  },
  {
   "cell_type": "code",
   "execution_count": null,
   "id": "905ce6cb",
   "metadata": {},
   "outputs": [],
   "source": [
    "# 2. Create SHAP explainer\n",
    "explainer = shap.Explainer(model, X_train)\n",
    "shap_values = explainer(X_test)\n",
    "\n",
    "# 3. Visualizations\n",
    "# Summary plot (most important)\n",
    "shap.summary_plot(shap_values, X_test)\n",
    "\n",
    "# Feature importance\n",
    "shap.summary_plot(shap_values, X_test, plot_type=\"bar\")\n",
    "\n",
    "# Waterfall plot for single prediction\n",
    "shap.waterfall_plot(explainer.expected_value, shap_values[0], X_test.iloc[0])\n",
    "\n",
    "# Force plot for single prediction\n",
    "shap.force_plot(explainer.expected_value, shap_values[0].values, X_test.iloc[0])\n",
    "\n",
    "# Partial dependence plots\n",
    "shap.partial_dependence_plot(\"age\", model.predict, X_train, ice=False)"
   ]
  },
  {
   "cell_type": "code",
   "execution_count": null,
   "id": "ca7f97e3",
   "metadata": {},
   "outputs": [],
   "source": [
    "# For different model types, use specific explainers:\n",
    "\n",
    "# Tree-based models (faster)\n",
    "explainer = shap.TreeExplainer(model)\n",
    "shap_values = explainer.shap_values(X_test)\n",
    "\n",
    "# Linear models\n",
    "explainer = shap.LinearExplainer(model, X_train)\n",
    "shap_values = explainer.shap_values(X_test)\n",
    "\n",
    "# Any model (slower but universal)\n",
    "explainer = shap.KernelExplainer(model.predict_proba, X_train.sample(100))\n",
    "shap_values = explainer.shap_values(X_test.sample(50))"
   ]
  },
  {
   "cell_type": "code",
   "execution_count": null,
   "id": "75e315a6",
   "metadata": {},
   "outputs": [],
   "source": []
  }
 ],
 "metadata": {
  "kernelspec": {
   "display_name": "Python 3",
   "language": "python",
   "name": "python3"
  },
  "language_info": {
   "name": "python",
   "version": "3.13.2"
  }
 },
 "nbformat": 4,
 "nbformat_minor": 5
}
