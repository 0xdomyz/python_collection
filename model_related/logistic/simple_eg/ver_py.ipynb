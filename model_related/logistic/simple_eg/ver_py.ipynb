{
 "cells": [
  {
   "cell_type": "code",
   "execution_count": 14,
   "id": "f1b9e3f2",
   "metadata": {},
   "outputs": [],
   "source": [
    "import pandas as pd\n",
    "import numpy as np\n",
    "import statsmodels.api as sm\n",
    "from sklearn.metrics import roc_auc_score, roc_curve\n",
    "import matplotlib.pyplot as plt"
   ]
  },
  {
   "cell_type": "code",
   "execution_count": 17,
   "id": "4f1b41b7",
   "metadata": {},
   "outputs": [
    {
     "data": {
      "text/plain": [
       "(1000, 2)"
      ]
     },
     "execution_count": 17,
     "metadata": {},
     "output_type": "execute_result"
    }
   ],
   "source": [
    "# Step 1: Simulate data\n",
    "np.random.seed(42)\n",
    "df = pd.DataFrame(\n",
    "    {\"x\": np.random.normal(50, 10, 1000), \"target\": np.random.binomial(1, 0.4, 1000)}\n",
    ")\n",
    "df.shape"
   ]
  },
  {
   "cell_type": "code",
   "execution_count": 18,
   "id": "7491b75b",
   "metadata": {},
   "outputs": [
    {
     "data": {
      "application/vnd.microsoft.datawrangler.viewer.v0+json": {
       "columns": [
        {
         "name": "x_bin",
         "rawType": "category",
         "type": "unknown"
        },
        {
         "name": "count",
         "rawType": "int64",
         "type": "integer"
        }
       ],
       "ref": "f60e350b-00c6-4242-821c-c1380ea952d0",
       "rows": [
        [
         "[50, 60)",
         "355"
        ],
        [
         "[40, 50)",
         "343"
        ],
        [
         "[60, 100)",
         "155"
        ],
        [
         "[0, 40)",
         "147"
        ]
       ],
       "shape": {
        "columns": 1,
        "rows": 4
       }
      },
      "text/plain": [
       "x_bin\n",
       "[50, 60)     355\n",
       "[40, 50)     343\n",
       "[60, 100)    155\n",
       "[0, 40)      147\n",
       "Name: count, dtype: int64"
      ]
     },
     "execution_count": 18,
     "metadata": {},
     "output_type": "execute_result"
    }
   ],
   "source": [
    "# Step 2: Manual binning\n",
    "df[\"x_bin\"] = pd.cut(df[\"x\"], bins=[0, 40, 50, 60, 100], right=False)\n",
    "df[\"x_bin\"].value_counts()"
   ]
  },
  {
   "cell_type": "code",
   "execution_count": 19,
   "id": "618eb02f",
   "metadata": {},
   "outputs": [
    {
     "name": "stdout",
     "output_type": "stream",
     "text": [
      "IV: 0.0191\n"
     ]
    },
    {
     "data": {
      "application/vnd.microsoft.datawrangler.viewer.v0+json": {
       "columns": [
        {
         "name": "x_bin",
         "rawType": "category",
         "type": "unknown"
        },
        {
         "name": "total",
         "rawType": "int64",
         "type": "integer"
        },
        {
         "name": "bad",
         "rawType": "int32",
         "type": "integer"
        },
        {
         "name": "good",
         "rawType": "int64",
         "type": "integer"
        },
        {
         "name": "woe",
         "rawType": "float64",
         "type": "float"
        },
        {
         "name": "iv",
         "rawType": "float64",
         "type": "float"
        }
       ],
       "ref": "783a154e-33f8-45b8-803c-0d704a508e32",
       "rows": [
        [
         "[0, 40)",
         "147",
         "53",
         "94",
         "0.23790023838104143",
         "0.008121121949744207"
        ],
        [
         "[40, 50)",
         "343",
         "137",
         "206",
         "0.07279406471185976",
         "0.001805845906919991"
        ],
        [
         "[50, 60)",
         "355",
         "162",
         "193",
         "-0.16000666422912443",
         "0.00919124624537649"
        ],
        [
         "[60, 100)",
         "155",
         "65",
         "90",
         "-0.009678501724302875",
         "1.4531029568265354e-05"
        ]
       ],
       "shape": {
        "columns": 5,
        "rows": 4
       }
      },
      "text/html": [
       "<div>\n",
       "<style scoped>\n",
       "    .dataframe tbody tr th:only-of-type {\n",
       "        vertical-align: middle;\n",
       "    }\n",
       "\n",
       "    .dataframe tbody tr th {\n",
       "        vertical-align: top;\n",
       "    }\n",
       "\n",
       "    .dataframe thead th {\n",
       "        text-align: right;\n",
       "    }\n",
       "</style>\n",
       "<table border=\"1\" class=\"dataframe\">\n",
       "  <thead>\n",
       "    <tr style=\"text-align: right;\">\n",
       "      <th></th>\n",
       "      <th>total</th>\n",
       "      <th>bad</th>\n",
       "      <th>good</th>\n",
       "      <th>woe</th>\n",
       "      <th>iv</th>\n",
       "    </tr>\n",
       "    <tr>\n",
       "      <th>x_bin</th>\n",
       "      <th></th>\n",
       "      <th></th>\n",
       "      <th></th>\n",
       "      <th></th>\n",
       "      <th></th>\n",
       "    </tr>\n",
       "  </thead>\n",
       "  <tbody>\n",
       "    <tr>\n",
       "      <th>[0, 40)</th>\n",
       "      <td>147</td>\n",
       "      <td>53</td>\n",
       "      <td>94</td>\n",
       "      <td>0.237900</td>\n",
       "      <td>0.008121</td>\n",
       "    </tr>\n",
       "    <tr>\n",
       "      <th>[40, 50)</th>\n",
       "      <td>343</td>\n",
       "      <td>137</td>\n",
       "      <td>206</td>\n",
       "      <td>0.072794</td>\n",
       "      <td>0.001806</td>\n",
       "    </tr>\n",
       "    <tr>\n",
       "      <th>[50, 60)</th>\n",
       "      <td>355</td>\n",
       "      <td>162</td>\n",
       "      <td>193</td>\n",
       "      <td>-0.160007</td>\n",
       "      <td>0.009191</td>\n",
       "    </tr>\n",
       "    <tr>\n",
       "      <th>[60, 100)</th>\n",
       "      <td>155</td>\n",
       "      <td>65</td>\n",
       "      <td>90</td>\n",
       "      <td>-0.009679</td>\n",
       "      <td>0.000015</td>\n",
       "    </tr>\n",
       "  </tbody>\n",
       "</table>\n",
       "</div>"
      ],
      "text/plain": [
       "           total  bad  good       woe        iv\n",
       "x_bin                                          \n",
       "[0, 40)      147   53    94  0.237900  0.008121\n",
       "[40, 50)     343  137   206  0.072794  0.001806\n",
       "[50, 60)     355  162   193 -0.160007  0.009191\n",
       "[60, 100)    155   65    90 -0.009679  0.000015"
      ]
     },
     "execution_count": 19,
     "metadata": {},
     "output_type": "execute_result"
    }
   ],
   "source": [
    "# Step 3: Calculate WoE and IV\n",
    "def woe_iv(df, feature, target):\n",
    "    grouped = df.groupby(feature, observed=False)[target].agg([\"count\", \"sum\"])\n",
    "    grouped.columns = [\"total\", \"bad\"]\n",
    "    grouped[\"good\"] = grouped[\"total\"] - grouped[\"bad\"]\n",
    "    dist_good = grouped[\"good\"] / grouped[\"good\"].sum()\n",
    "    dist_bad = grouped[\"bad\"] / grouped[\"bad\"].sum()\n",
    "    grouped[\"woe\"] = np.log((dist_good + 1e-6) / (dist_bad + 1e-6))  # smoothing\n",
    "    grouped[\"iv\"] = (dist_good - dist_bad) * grouped[\"woe\"]\n",
    "    iv = grouped[\"iv\"].sum()\n",
    "    return grouped[[\"woe\"]], iv, grouped\n",
    "\n",
    "\n",
    "woe_table, iv, grouped = woe_iv(df, \"x_bin\", \"target\")\n",
    "print(\"IV: {:.4f}\".format(iv))\n",
    "grouped"
   ]
  },
  {
   "cell_type": "code",
   "execution_count": 20,
   "id": "5f0cbc2b",
   "metadata": {},
   "outputs": [
    {
     "data": {
      "application/vnd.microsoft.datawrangler.viewer.v0+json": {
       "columns": [
        {
         "name": "index",
         "rawType": "int64",
         "type": "integer"
        },
        {
         "name": "x",
         "rawType": "float64",
         "type": "float"
        },
        {
         "name": "target",
         "rawType": "int32",
         "type": "integer"
        },
        {
         "name": "x_bin",
         "rawType": "category",
         "type": "unknown"
        },
        {
         "name": "x_woe",
         "rawType": "float64",
         "type": "float"
        }
       ],
       "ref": "ed6c55f4-9306-4074-8aa8-5b3e2ec8f5b9",
       "rows": [
        [
         "0",
         "54.96714153011233",
         "0",
         "[50, 60)",
         "-0.16000666422912443"
        ],
        [
         "1",
         "48.61735698828815",
         "0",
         "[40, 50)",
         "0.07279406471185976"
        ],
        [
         "2",
         "56.47688538100692",
         "1",
         "[50, 60)",
         "-0.16000666422912443"
        ],
        [
         "3",
         "65.23029856408026",
         "1",
         "[60, 100)",
         "-0.009678501724302875"
        ],
        [
         "4",
         "47.658466252766644",
         "0",
         "[40, 50)",
         "0.07279406471185976"
        ]
       ],
       "shape": {
        "columns": 4,
        "rows": 5
       }
      },
      "text/html": [
       "<div>\n",
       "<style scoped>\n",
       "    .dataframe tbody tr th:only-of-type {\n",
       "        vertical-align: middle;\n",
       "    }\n",
       "\n",
       "    .dataframe tbody tr th {\n",
       "        vertical-align: top;\n",
       "    }\n",
       "\n",
       "    .dataframe thead th {\n",
       "        text-align: right;\n",
       "    }\n",
       "</style>\n",
       "<table border=\"1\" class=\"dataframe\">\n",
       "  <thead>\n",
       "    <tr style=\"text-align: right;\">\n",
       "      <th></th>\n",
       "      <th>x</th>\n",
       "      <th>target</th>\n",
       "      <th>x_bin</th>\n",
       "      <th>x_woe</th>\n",
       "    </tr>\n",
       "  </thead>\n",
       "  <tbody>\n",
       "    <tr>\n",
       "      <th>0</th>\n",
       "      <td>54.967142</td>\n",
       "      <td>0</td>\n",
       "      <td>[50, 60)</td>\n",
       "      <td>-0.160007</td>\n",
       "    </tr>\n",
       "    <tr>\n",
       "      <th>1</th>\n",
       "      <td>48.617357</td>\n",
       "      <td>0</td>\n",
       "      <td>[40, 50)</td>\n",
       "      <td>0.072794</td>\n",
       "    </tr>\n",
       "    <tr>\n",
       "      <th>2</th>\n",
       "      <td>56.476885</td>\n",
       "      <td>1</td>\n",
       "      <td>[50, 60)</td>\n",
       "      <td>-0.160007</td>\n",
       "    </tr>\n",
       "    <tr>\n",
       "      <th>3</th>\n",
       "      <td>65.230299</td>\n",
       "      <td>1</td>\n",
       "      <td>[60, 100)</td>\n",
       "      <td>-0.009679</td>\n",
       "    </tr>\n",
       "    <tr>\n",
       "      <th>4</th>\n",
       "      <td>47.658466</td>\n",
       "      <td>0</td>\n",
       "      <td>[40, 50)</td>\n",
       "      <td>0.072794</td>\n",
       "    </tr>\n",
       "  </tbody>\n",
       "</table>\n",
       "</div>"
      ],
      "text/plain": [
       "           x  target      x_bin     x_woe\n",
       "0  54.967142       0   [50, 60) -0.160007\n",
       "1  48.617357       0   [40, 50)  0.072794\n",
       "2  56.476885       1   [50, 60) -0.160007\n",
       "3  65.230299       1  [60, 100) -0.009679\n",
       "4  47.658466       0   [40, 50)  0.072794"
      ]
     },
     "execution_count": 20,
     "metadata": {},
     "output_type": "execute_result"
    }
   ],
   "source": [
    "# Step 4: Map WoE values\n",
    "df = df.merge(woe_table, left_on=\"x_bin\", right_index=True)\n",
    "df.rename(columns={\"woe\": \"x_woe\"}, inplace=True)\n",
    "df.head()"
   ]
  },
  {
   "cell_type": "code",
   "execution_count": 21,
   "id": "5589bc1a",
   "metadata": {},
   "outputs": [
    {
     "name": "stdout",
     "output_type": "stream",
     "text": [
      "                           Logit Regression Results                           \n",
      "==============================================================================\n",
      "Dep. Variable:                 target   No. Observations:                 1000\n",
      "Model:                          Logit   Df Residuals:                      998\n",
      "Method:                           MLE   Df Model:                            1\n",
      "Date:                Wed, 25 Jun 2025   Pseudo R-squ.:                0.003416\n",
      "Time:                        11:44:39   Log-Likelihood:                -676.98\n",
      "converged:                       True   LL-Null:                       -679.31\n",
      "Covariance Type:            nonrobust   LLR p-value:                   0.03123\n",
      "==============================================================================\n",
      "                 coef    std err          z      P>|z|      [0.025      0.975]\n",
      "------------------------------------------------------------------------------\n",
      "const         -0.3351      0.064     -5.212      0.000      -0.461      -0.209\n",
      "x_woe         -1.0000      0.466     -2.148      0.032      -1.913      -0.087\n",
      "==============================================================================\n"
     ]
    }
   ],
   "source": [
    "# Step 5: Logistic regression\n",
    "X = sm.add_constant(df[\"x_woe\"])\n",
    "logit_model = sm.Logit(df[\"target\"], X)\n",
    "result = logit_model.fit(disp=0)\n",
    "print(result.summary())"
   ]
  },
  {
   "cell_type": "code",
   "execution_count": 22,
   "id": "b10b2698",
   "metadata": {},
   "outputs": [
    {
     "name": "stdout",
     "output_type": "stream",
     "text": [
      "Gini: 0.0754\n"
     ]
    },
    {
     "data": {
      "image/png": "[encoded data removed]",
      "text/plain": [
       "<Figure size 640x480 with 1 Axes>"
      ]
     },
     "metadata": {},
     "output_type": "display_data"
    }
   ],
   "source": [
    "# Step 6: ROC + Gini\n",
    "probs = result.predict(X)\n",
    "\n",
    "auc = roc_auc_score(df[\"target\"], probs)\n",
    "gini = 2 * auc - 1\n",
    "print(\"Gini: {:.4f}\".format(gini))\n",
    "\n",
    "fpr, tpr, _ = roc_curve(df[\"target\"], probs)\n",
    "plt.plot(fpr, tpr, label=\"ROC\")\n",
    "plt.plot([0, 1], [0, 1], \"k--\")\n",
    "plt.title(\"ROC Curve (WoE Binned)\")\n",
    "plt.xlabel(\"FPR\")\n",
    "plt.ylabel(\"TPR\")\n",
    "plt.legend()\n",
    "plt.grid()\n",
    "plt.show()"
   ]
  },
  {
   "cell_type": "code",
   "execution_count": null,
   "id": "0f252847",
   "metadata": {},
   "outputs": [],
   "source": []
  },
  {
   "cell_type": "code",
   "execution_count": null,
   "id": "3b307610",
   "metadata": {},
   "outputs": [],
   "source": []
  }
 ],
 "metadata": {
  "kernelspec": {
   "display_name": "Python 3",
   "language": "python",
   "name": "python3"
  },
  "language_info": {
   "codemirror_mode": {
    "name": "ipython",
    "version": 3
   },
   "file_extension": ".py",
   "mimetype": "text/x-python",
   "name": "python",
   "nbconvert_exporter": "python",
   "pygments_lexer": "ipython3",
   "version": "3.13.2"
  }
 },
 "nbformat": 4,
 "nbformat_minor": 5
}
