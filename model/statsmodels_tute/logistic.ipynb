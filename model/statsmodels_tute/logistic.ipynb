{
 "cells": [
  {
   "cell_type": "code",
   "execution_count": 1,
   "metadata": {},
   "outputs": [],
   "source": [
    "import statsmodels.api as sm\n",
    "import pandas as pd\n",
    "import numpy as np"
   ]
  },
  {
   "cell_type": "code",
   "execution_count": 3,
   "metadata": {},
   "outputs": [
    {
     "data": {
      "text/html": [
       "<div>\n",
       "<style scoped>\n",
       "    .dataframe tbody tr th:only-of-type {\n",
       "        vertical-align: middle;\n",
       "    }\n",
       "\n",
       "    .dataframe tbody tr th {\n",
       "        vertical-align: top;\n",
       "    }\n",
       "\n",
       "    .dataframe thead th {\n",
       "        text-align: right;\n",
       "    }\n",
       "</style>\n",
       "<table border=\"1\" class=\"dataframe\">\n",
       "  <thead>\n",
       "    <tr style=\"text-align: right;\">\n",
       "      <th></th>\n",
       "      <th>admit</th>\n",
       "      <th>gre</th>\n",
       "      <th>gpa</th>\n",
       "      <th>rank</th>\n",
       "    </tr>\n",
       "  </thead>\n",
       "  <tbody>\n",
       "    <tr>\n",
       "      <th>0</th>\n",
       "      <td>0</td>\n",
       "      <td>380</td>\n",
       "      <td>3.61</td>\n",
       "      <td>3</td>\n",
       "    </tr>\n",
       "    <tr>\n",
       "      <th>1</th>\n",
       "      <td>1</td>\n",
       "      <td>660</td>\n",
       "      <td>3.67</td>\n",
       "      <td>3</td>\n",
       "    </tr>\n",
       "    <tr>\n",
       "      <th>2</th>\n",
       "      <td>1</td>\n",
       "      <td>800</td>\n",
       "      <td>4.00</td>\n",
       "      <td>1</td>\n",
       "    </tr>\n",
       "    <tr>\n",
       "      <th>3</th>\n",
       "      <td>1</td>\n",
       "      <td>640</td>\n",
       "      <td>3.19</td>\n",
       "      <td>4</td>\n",
       "    </tr>\n",
       "    <tr>\n",
       "      <th>4</th>\n",
       "      <td>0</td>\n",
       "      <td>520</td>\n",
       "      <td>2.93</td>\n",
       "      <td>4</td>\n",
       "    </tr>\n",
       "  </tbody>\n",
       "</table>\n",
       "</div>"
      ],
      "text/plain": [
       "   admit  gre   gpa  rank\n",
       "0      0  380  3.61     3\n",
       "1      1  660  3.67     3\n",
       "2      1  800  4.00     1\n",
       "3      1  640  3.19     4\n",
       "4      0  520  2.93     4"
      ]
     },
     "execution_count": 3,
     "metadata": {},
     "output_type": "execute_result"
    }
   ],
   "source": [
    "mydata = pd.read_csv(\"https://stats.idre.ucla.edu/stat/data/binary.csv\")\n",
    "mydata.head()"
   ]
  },
  {
   "cell_type": "code",
   "execution_count": 6,
   "metadata": {},
   "outputs": [],
   "source": [
    "# weight of evidence transformer\n",
    "import category_encoders as ce"
   ]
  },
  {
   "cell_type": "code",
   "execution_count": 40,
   "metadata": {},
   "outputs": [
    {
     "data": {
      "text/html": [
       "<div>\n",
       "<style scoped>\n",
       "    .dataframe tbody tr th:only-of-type {\n",
       "        vertical-align: middle;\n",
       "    }\n",
       "\n",
       "    .dataframe tbody tr th {\n",
       "        vertical-align: top;\n",
       "    }\n",
       "\n",
       "    .dataframe thead th {\n",
       "        text-align: right;\n",
       "    }\n",
       "</style>\n",
       "<table border=\"1\" class=\"dataframe\">\n",
       "  <thead>\n",
       "    <tr style=\"text-align: right;\">\n",
       "      <th></th>\n",
       "      <th>admit</th>\n",
       "      <th>gre</th>\n",
       "      <th>gpa</th>\n",
       "      <th>rank</th>\n",
       "    </tr>\n",
       "  </thead>\n",
       "  <tbody>\n",
       "    <tr>\n",
       "      <th>0</th>\n",
       "      <td>0</td>\n",
       "      <td>380</td>\n",
       "      <td>3.61</td>\n",
       "      <td>-0.419040</td>\n",
       "    </tr>\n",
       "    <tr>\n",
       "      <th>1</th>\n",
       "      <td>1</td>\n",
       "      <td>660</td>\n",
       "      <td>3.67</td>\n",
       "      <td>-0.419040</td>\n",
       "    </tr>\n",
       "    <tr>\n",
       "      <th>2</th>\n",
       "      <td>1</td>\n",
       "      <td>800</td>\n",
       "      <td>4.00</td>\n",
       "      <td>0.916023</td>\n",
       "    </tr>\n",
       "    <tr>\n",
       "      <th>3</th>\n",
       "      <td>1</td>\n",
       "      <td>640</td>\n",
       "      <td>3.19</td>\n",
       "      <td>-0.703444</td>\n",
       "    </tr>\n",
       "    <tr>\n",
       "      <th>4</th>\n",
       "      <td>0</td>\n",
       "      <td>520</td>\n",
       "      <td>2.93</td>\n",
       "      <td>-0.703444</td>\n",
       "    </tr>\n",
       "  </tbody>\n",
       "</table>\n",
       "</div>"
      ],
      "text/plain": [
       "   admit  gre   gpa      rank\n",
       "0      0  380  3.61 -0.419040\n",
       "1      1  660  3.67 -0.419040\n",
       "2      1  800  4.00  0.916023\n",
       "3      1  640  3.19 -0.703444\n",
       "4      0  520  2.93 -0.703444"
      ]
     },
     "execution_count": 40,
     "metadata": {},
     "output_type": "execute_result"
    }
   ],
   "source": [
    "# woe of 5 bins\n",
    "woe = ce.WOEEncoder(cols=[\"rank\"], drop_invariant=True)\n",
    "woe.fit(mydata, mydata[\"admit\"])\n",
    "mydata_woe = woe.transform(mydata)\n",
    "mydata_woe.head()"
   ]
  },
  {
   "cell_type": "code",
   "execution_count": 41,
   "metadata": {},
   "outputs": [
    {
     "data": {
      "text/plain": [
       "rank\n",
       " 0.179324    151\n",
       "-0.419040    121\n",
       "-0.703444     67\n",
       " 0.916023     61\n",
       "Name: count, dtype: int64"
      ]
     },
     "execution_count": 41,
     "metadata": {},
     "output_type": "execute_result"
    }
   ],
   "source": [
    "mydata_woe[\"rank\"].value_counts()"
   ]
  },
  {
   "cell_type": "code",
   "execution_count": 42,
   "metadata": {},
   "outputs": [
    {
     "data": {
      "text/html": [
       "<div>\n",
       "<style scoped>\n",
       "    .dataframe tbody tr th:only-of-type {\n",
       "        vertical-align: middle;\n",
       "    }\n",
       "\n",
       "    .dataframe tbody tr th {\n",
       "        vertical-align: top;\n",
       "    }\n",
       "\n",
       "    .dataframe thead th {\n",
       "        text-align: right;\n",
       "    }\n",
       "</style>\n",
       "<table border=\"1\" class=\"dataframe\">\n",
       "  <thead>\n",
       "    <tr style=\"text-align: right;\">\n",
       "      <th></th>\n",
       "      <th>admit</th>\n",
       "      <th>gre</th>\n",
       "      <th>gpa</th>\n",
       "      <th>rank</th>\n",
       "    </tr>\n",
       "  </thead>\n",
       "  <tbody>\n",
       "    <tr>\n",
       "      <th>0</th>\n",
       "      <td>0</td>\n",
       "      <td>-1.140161</td>\n",
       "      <td>3.61</td>\n",
       "      <td>-0.419040</td>\n",
       "    </tr>\n",
       "    <tr>\n",
       "      <th>1</th>\n",
       "      <td>1</td>\n",
       "      <td>0.192066</td>\n",
       "      <td>3.67</td>\n",
       "      <td>-0.419040</td>\n",
       "    </tr>\n",
       "    <tr>\n",
       "      <th>2</th>\n",
       "      <td>1</td>\n",
       "      <td>0.330874</td>\n",
       "      <td>4.00</td>\n",
       "      <td>0.916023</td>\n",
       "    </tr>\n",
       "    <tr>\n",
       "      <th>3</th>\n",
       "      <td>1</td>\n",
       "      <td>0.192066</td>\n",
       "      <td>3.19</td>\n",
       "      <td>-0.703444</td>\n",
       "    </tr>\n",
       "    <tr>\n",
       "      <th>4</th>\n",
       "      <td>0</td>\n",
       "      <td>-0.105265</td>\n",
       "      <td>2.93</td>\n",
       "      <td>-0.703444</td>\n",
       "    </tr>\n",
       "  </tbody>\n",
       "</table>\n",
       "</div>"
      ],
      "text/plain": [
       "   admit       gre   gpa      rank\n",
       "0      0 -1.140161  3.61 -0.419040\n",
       "1      1  0.192066  3.67 -0.419040\n",
       "2      1  0.330874  4.00  0.916023\n",
       "3      1  0.192066  3.19 -0.703444\n",
       "4      0 -0.105265  2.93 -0.703444"
      ]
     },
     "execution_count": 42,
     "metadata": {},
     "output_type": "execute_result"
    }
   ],
   "source": [
    "# discretize the gre\n",
    "mydata_woe[\"gre\"] = pd.cut(mydata_woe[\"gre\"], 5)\n",
    "woe = ce.WOEEncoder(cols=[\"gre\"], drop_invariant=True)\n",
    "woe.fit(mydata_woe, mydata_woe[\"admit\"])\n",
    "mydata_woe = woe.transform(mydata_woe)\n",
    "mydata_woe.head()"
   ]
  },
  {
   "cell_type": "code",
   "execution_count": 67,
   "metadata": {},
   "outputs": [],
   "source": [
    "X = mydata_woe[[\"gre\", \"rank\"]]\n",
    "X = sm.add_constant(X)\n",
    "y = mydata[\"admit\"]"
   ]
  },
  {
   "cell_type": "code",
   "execution_count": 68,
   "metadata": {},
   "outputs": [
    {
     "name": "stdout",
     "output_type": "stream",
     "text": [
      "Optimization terminated successfully.\n",
      "         Current function value: 0.580181\n",
      "         Iterations 6\n"
     ]
    }
   ],
   "source": [
    "lm = sm.Logit(y, X).fit()"
   ]
  },
  {
   "cell_type": "code",
   "execution_count": 69,
   "metadata": {},
   "outputs": [
    {
     "data": {
      "text/html": [
       "<table class=\"simpletable\">\n",
       "<caption>Logit Regression Results</caption>\n",
       "<tr>\n",
       "  <th>Dep. Variable:</th>         <td>admit</td>      <th>  No. Observations:  </th>  <td>   400</td>  \n",
       "</tr>\n",
       "<tr>\n",
       "  <th>Model:</th>                 <td>Logit</td>      <th>  Df Residuals:      </th>  <td>   397</td>  \n",
       "</tr>\n",
       "<tr>\n",
       "  <th>Method:</th>                 <td>MLE</td>       <th>  Df Model:          </th>  <td>     2</td>  \n",
       "</tr>\n",
       "<tr>\n",
       "  <th>Date:</th>            <td>Wed, 08 Nov 2023</td> <th>  Pseudo R-squ.:     </th>  <td>0.07167</td> \n",
       "</tr>\n",
       "<tr>\n",
       "  <th>Time:</th>                <td>21:45:05</td>     <th>  Log-Likelihood:    </th> <td> -232.07</td> \n",
       "</tr>\n",
       "<tr>\n",
       "  <th>converged:</th>             <td>True</td>       <th>  LL-Null:           </th> <td> -249.99</td> \n",
       "</tr>\n",
       "<tr>\n",
       "  <th>Covariance Type:</th>     <td>nonrobust</td>    <th>  LLR p-value:       </th> <td>1.657e-08</td>\n",
       "</tr>\n",
       "</table>\n",
       "<table class=\"simpletable\">\n",
       "<tr>\n",
       "    <td></td>       <th>coef</th>     <th>std err</th>      <th>z</th>      <th>P>|z|</th>  <th>[0.025</th>    <th>0.975]</th>  \n",
       "</tr>\n",
       "<tr>\n",
       "  <th>const</th> <td>   -0.7929</td> <td>    0.114</td> <td>   -6.937</td> <td> 0.000</td> <td>   -1.017</td> <td>   -0.569</td>\n",
       "</tr>\n",
       "<tr>\n",
       "  <th>gre</th>   <td>    0.9961</td> <td>    0.332</td> <td>    3.002</td> <td> 0.003</td> <td>    0.346</td> <td>    1.646</td>\n",
       "</tr>\n",
       "<tr>\n",
       "  <th>rank</th>  <td>    0.9921</td> <td>    0.215</td> <td>    4.614</td> <td> 0.000</td> <td>    0.571</td> <td>    1.414</td>\n",
       "</tr>\n",
       "</table>"
      ],
      "text/latex": [
       "\\begin{center}\n",
       "\\begin{tabular}{lclc}\n",
       "\\toprule\n",
       "\\textbf{Dep. Variable:}   &      admit       & \\textbf{  No. Observations:  } &      400    \\\\\n",
       "\\textbf{Model:}           &      Logit       & \\textbf{  Df Residuals:      } &      397    \\\\\n",
       "\\textbf{Method:}          &       MLE        & \\textbf{  Df Model:          } &        2    \\\\\n",
       "\\textbf{Date:}            & Wed, 08 Nov 2023 & \\textbf{  Pseudo R-squ.:     } &  0.07167    \\\\\n",
       "\\textbf{Time:}            &     21:45:05     & \\textbf{  Log-Likelihood:    } &   -232.07   \\\\\n",
       "\\textbf{converged:}       &       True       & \\textbf{  LL-Null:           } &   -249.99   \\\\\n",
       "\\textbf{Covariance Type:} &    nonrobust     & \\textbf{  LLR p-value:       } & 1.657e-08   \\\\\n",
       "\\bottomrule\n",
       "\\end{tabular}\n",
       "\\begin{tabular}{lcccccc}\n",
       "               & \\textbf{coef} & \\textbf{std err} & \\textbf{z} & \\textbf{P$> |$z$|$} & \\textbf{[0.025} & \\textbf{0.975]}  \\\\\n",
       "\\midrule\n",
       "\\textbf{const} &      -0.7929  &        0.114     &    -6.937  &         0.000        &       -1.017    &       -0.569     \\\\\n",
       "\\textbf{gre}   &       0.9961  &        0.332     &     3.002  &         0.003        &        0.346    &        1.646     \\\\\n",
       "\\textbf{rank}  &       0.9921  &        0.215     &     4.614  &         0.000        &        0.571    &        1.414     \\\\\n",
       "\\bottomrule\n",
       "\\end{tabular}\n",
       "%\\caption{Logit Regression Results}\n",
       "\\end{center}"
      ],
      "text/plain": [
       "<class 'statsmodels.iolib.summary.Summary'>\n",
       "\"\"\"\n",
       "                           Logit Regression Results                           \n",
       "==============================================================================\n",
       "Dep. Variable:                  admit   No. Observations:                  400\n",
       "Model:                          Logit   Df Residuals:                      397\n",
       "Method:                           MLE   Df Model:                            2\n",
       "Date:                Wed, 08 Nov 2023   Pseudo R-squ.:                 0.07167\n",
       "Time:                        21:45:05   Log-Likelihood:                -232.07\n",
       "converged:                       True   LL-Null:                       -249.99\n",
       "Covariance Type:            nonrobust   LLR p-value:                 1.657e-08\n",
       "==============================================================================\n",
       "                 coef    std err          z      P>|z|      [0.025      0.975]\n",
       "------------------------------------------------------------------------------\n",
       "const         -0.7929      0.114     -6.937      0.000      -1.017      -0.569\n",
       "gre            0.9961      0.332      3.002      0.003       0.346       1.646\n",
       "rank           0.9921      0.215      4.614      0.000       0.571       1.414\n",
       "==============================================================================\n",
       "\"\"\""
      ]
     },
     "execution_count": 69,
     "metadata": {},
     "output_type": "execute_result"
    }
   ],
   "source": [
    "lm.summary()"
   ]
  },
  {
   "cell_type": "markdown",
   "metadata": {},
   "source": [
    "The logistic regression estimation results are interpreted as follows:\n",
    "\n",
    "const: This is the constant, also known as the intercept. It's the log odds of the outcome when all predictor variables are zero. In this case, the constant is -0.7929, and the p-value is 0.000, which is less than 0.05. This suggests that the constant is significantly different from zero.\n",
    "\n",
    "gre: This is the coefficient for the gre predictor variable. It suggests that for each unit increase in gre, the log odds of the outcome increase by 0.9961. The p-value is 0.003, which is less than 0.05, indicating that gre is a significant predictor in the model.\n",
    "\n",
    "rank: This is the coefficient for the rank predictor variable. It suggests that for each unit increase in rank, the log odds of the outcome increase by 0.9921. The p-value is 0.000, which is less than 0.05, indicating that rank is a significant predictor in the model.\n",
    "\n",
    "The standard errors, z-statistics, and confidence intervals provide additional information about the precision and significance of these estimates."
   ]
  },
  {
   "cell_type": "code",
   "execution_count": 73,
   "metadata": {},
   "outputs": [
    {
     "data": {
      "text/plain": [
       "(-0.7929063786633203, 0.9960638277665781, 0.9920986975639382)"
      ]
     },
     "execution_count": 73,
     "metadata": {},
     "output_type": "execute_result"
    }
   ],
   "source": [
    "const, b1, b2 = lm.params\n",
    "const, b1, b2"
   ]
  },
  {
   "cell_type": "code",
   "execution_count": 82,
   "metadata": {},
   "outputs": [
    {
     "data": {
      "text/html": [
       "<div>\n",
       "<style scoped>\n",
       "    .dataframe tbody tr th:only-of-type {\n",
       "        vertical-align: middle;\n",
       "    }\n",
       "\n",
       "    .dataframe tbody tr th {\n",
       "        vertical-align: top;\n",
       "    }\n",
       "\n",
       "    .dataframe thead th {\n",
       "        text-align: right;\n",
       "    }\n",
       "</style>\n",
       "<table border=\"1\" class=\"dataframe\">\n",
       "  <thead>\n",
       "    <tr style=\"text-align: right;\">\n",
       "      <th></th>\n",
       "      <th>admit</th>\n",
       "      <th>gre</th>\n",
       "      <th>gpa</th>\n",
       "      <th>rank</th>\n",
       "      <th>score</th>\n",
       "      <th>pred_admit_rate</th>\n",
       "    </tr>\n",
       "  </thead>\n",
       "  <tbody>\n",
       "    <tr>\n",
       "      <th>0</th>\n",
       "      <td>0</td>\n",
       "      <td>-1.140161</td>\n",
       "      <td>3.61</td>\n",
       "      <td>-0.419040</td>\n",
       "      <td>-2.344309</td>\n",
       "      <td>0.087519</td>\n",
       "    </tr>\n",
       "    <tr>\n",
       "      <th>1</th>\n",
       "      <td>1</td>\n",
       "      <td>0.192066</td>\n",
       "      <td>3.67</td>\n",
       "      <td>-0.419040</td>\n",
       "      <td>-1.017326</td>\n",
       "      <td>0.265549</td>\n",
       "    </tr>\n",
       "    <tr>\n",
       "      <th>2</th>\n",
       "      <td>1</td>\n",
       "      <td>0.330874</td>\n",
       "      <td>4.00</td>\n",
       "      <td>0.916023</td>\n",
       "      <td>0.445451</td>\n",
       "      <td>0.609557</td>\n",
       "    </tr>\n",
       "    <tr>\n",
       "      <th>3</th>\n",
       "      <td>1</td>\n",
       "      <td>0.192066</td>\n",
       "      <td>3.19</td>\n",
       "      <td>-0.703444</td>\n",
       "      <td>-1.299482</td>\n",
       "      <td>0.214252</td>\n",
       "    </tr>\n",
       "    <tr>\n",
       "      <th>4</th>\n",
       "      <td>0</td>\n",
       "      <td>-0.105265</td>\n",
       "      <td>2.93</td>\n",
       "      <td>-0.703444</td>\n",
       "      <td>-1.595642</td>\n",
       "      <td>0.168592</td>\n",
       "    </tr>\n",
       "  </tbody>\n",
       "</table>\n",
       "</div>"
      ],
      "text/plain": [
       "   admit       gre   gpa      rank     score  pred_admit_rate\n",
       "0      0 -1.140161  3.61 -0.419040 -2.344309         0.087519\n",
       "1      1  0.192066  3.67 -0.419040 -1.017326         0.265549\n",
       "2      1  0.330874  4.00  0.916023  0.445451         0.609557\n",
       "3      1  0.192066  3.19 -0.703444 -1.299482         0.214252\n",
       "4      0 -0.105265  2.93 -0.703444 -1.595642         0.168592"
      ]
     },
     "execution_count": 82,
     "metadata": {},
     "output_type": "execute_result"
    }
   ],
   "source": [
    "# add mdoel score column\n",
    "scored = mydata_woe.copy()\n",
    "scored[\"score\"] = const + b1 * scored[\"gre\"] + b2 * scored[\"rank\"]\n",
    "scored[\"pred_admit_rate\"] = lm.predict(X)\n",
    "scored.head()"
   ]
  },
  {
   "cell_type": "code",
   "execution_count": 83,
   "metadata": {},
   "outputs": [
    {
     "name": "stdout",
     "output_type": "stream",
     "text": [
      "0.3175\n"
     ]
    }
   ],
   "source": [
    "# scale\n",
    "avg_admit_rate = scored[\"admit\"].mean()\n",
    "print(avg_admit_rate)"
   ]
  },
  {
   "cell_type": "code",
   "execution_count": 84,
   "metadata": {},
   "outputs": [
    {
     "name": "stdout",
     "output_type": "stream",
     "text": [
      "28.85390081777927 622.0814490829538\n"
     ]
    },
    {
     "data": {
      "text/html": [
       "<div>\n",
       "<style scoped>\n",
       "    .dataframe tbody tr th:only-of-type {\n",
       "        vertical-align: middle;\n",
       "    }\n",
       "\n",
       "    .dataframe tbody tr th {\n",
       "        vertical-align: top;\n",
       "    }\n",
       "\n",
       "    .dataframe thead th {\n",
       "        text-align: right;\n",
       "    }\n",
       "</style>\n",
       "<table border=\"1\" class=\"dataframe\">\n",
       "  <thead>\n",
       "    <tr style=\"text-align: right;\">\n",
       "      <th></th>\n",
       "      <th>admit</th>\n",
       "      <th>gre</th>\n",
       "      <th>gpa</th>\n",
       "      <th>rank</th>\n",
       "      <th>score</th>\n",
       "      <th>pred_admit_rate</th>\n",
       "      <th>score_scaled</th>\n",
       "    </tr>\n",
       "  </thead>\n",
       "  <tbody>\n",
       "    <tr>\n",
       "      <th>0</th>\n",
       "      <td>0</td>\n",
       "      <td>-1.140161</td>\n",
       "      <td>3.61</td>\n",
       "      <td>-0.419040</td>\n",
       "      <td>-2.344309</td>\n",
       "      <td>0.087519</td>\n",
       "      <td>554.438987</td>\n",
       "    </tr>\n",
       "    <tr>\n",
       "      <th>1</th>\n",
       "      <td>1</td>\n",
       "      <td>0.192066</td>\n",
       "      <td>3.67</td>\n",
       "      <td>-0.419040</td>\n",
       "      <td>-1.017326</td>\n",
       "      <td>0.265549</td>\n",
       "      <td>592.727630</td>\n",
       "    </tr>\n",
       "    <tr>\n",
       "      <th>2</th>\n",
       "      <td>1</td>\n",
       "      <td>0.330874</td>\n",
       "      <td>4.00</td>\n",
       "      <td>0.916023</td>\n",
       "      <td>0.445451</td>\n",
       "      <td>0.609557</td>\n",
       "      <td>634.934452</td>\n",
       "    </tr>\n",
       "    <tr>\n",
       "      <th>3</th>\n",
       "      <td>1</td>\n",
       "      <td>0.192066</td>\n",
       "      <td>3.19</td>\n",
       "      <td>-0.703444</td>\n",
       "      <td>-1.299482</td>\n",
       "      <td>0.214252</td>\n",
       "      <td>584.586323</td>\n",
       "    </tr>\n",
       "    <tr>\n",
       "      <th>4</th>\n",
       "      <td>0</td>\n",
       "      <td>-0.105265</td>\n",
       "      <td>2.93</td>\n",
       "      <td>-0.703444</td>\n",
       "      <td>-1.595642</td>\n",
       "      <td>0.168592</td>\n",
       "      <td>576.040942</td>\n",
       "    </tr>\n",
       "  </tbody>\n",
       "</table>\n",
       "</div>"
      ],
      "text/plain": [
       "   admit       gre   gpa      rank     score  pred_admit_rate  score_scaled\n",
       "0      0 -1.140161  3.61 -0.419040 -2.344309         0.087519    554.438987\n",
       "1      1  0.192066  3.67 -0.419040 -1.017326         0.265549    592.727630\n",
       "2      1  0.330874  4.00  0.916023  0.445451         0.609557    634.934452\n",
       "3      1  0.192066  3.19 -0.703444 -1.299482         0.214252    584.586323\n",
       "4      0 -0.105265  2.93 -0.703444 -1.595642         0.168592    576.040942"
      ]
     },
     "execution_count": 84,
     "metadata": {},
     "output_type": "execute_result"
    }
   ],
   "source": [
    "base_points = 600\n",
    "base_odds = avg_admit_rate / (1 - avg_admit_rate)\n",
    "pdo = 20\n",
    "\n",
    "factor = pdo / np.log(2)\n",
    "offset = base_points - (factor * np.log(base_odds))\n",
    "print(factor, offset)\n",
    "scored[\"score_scaled\"] = scored[\"score\"] * factor + offset\n",
    "scored.head()"
   ]
  },
  {
   "cell_type": "code",
   "execution_count": 85,
   "metadata": {},
   "outputs": [
    {
     "data": {
      "text/plain": [
       "array([-32.76860823,   5.52003526,   9.50943549,  -3.02534526,\n",
       "         1.83396374])"
      ]
     },
     "execution_count": 85,
     "metadata": {},
     "output_type": "execute_result"
    }
   ],
   "source": [
    "# score card\n",
    "score_gre = scored[\"gre\"].unique()\n",
    "score_gre = score_gre * b1 * factor\n",
    "score_gre"
   ]
  },
  {
   "cell_type": "code",
   "execution_count": 86,
   "metadata": {},
   "outputs": [
    {
     "data": {
      "text/plain": [
       "array([-11.99541185,  26.22200986, -20.13671955,   5.13332546])"
      ]
     },
     "execution_count": 86,
     "metadata": {},
     "output_type": "execute_result"
    }
   ],
   "source": [
    "score_rank = scored[\"rank\"].unique()\n",
    "score_rank = score_rank * b2 * factor\n",
    "score_rank"
   ]
  },
  {
   "cell_type": "code",
   "execution_count": 98,
   "metadata": {},
   "outputs": [
    {
     "name": "stdout",
     "output_type": "stream",
     "text": [
      "-2.3443085468206823\n",
      "554.4390027867175\n",
      "0.09591349890105548\n",
      "0.08751922391432741\n",
      "0.09591349890105538\n"
     ]
    }
   ],
   "source": [
    "a_score = -1.140161 * b1 + -0.419040 * b2 + const\n",
    "print(a_score)\n",
    "a_scaled_score = a_score * factor + offset\n",
    "print(a_scaled_score)\n",
    "a_odds = np.exp(a_score)\n",
    "print(a_odds)\n",
    "a_pd = a_odds / (1 + a_odds)\n",
    "print(a_pd)\n",
    "a_scaled_odds = np.exp((a_scaled_score - offset) / factor)\n",
    "print(a_scaled_odds)"
   ]
  },
  {
   "cell_type": "code",
   "execution_count": 53,
   "metadata": {},
   "outputs": [
    {
     "data": {
      "image/png": "[encoded data removed]",
      "text/plain": [
       "<Figure size 640x480 with 1 Axes>"
      ]
     },
     "metadata": {},
     "output_type": "display_data"
    }
   ],
   "source": [
    "# roc curve\n",
    "from sklearn.metrics import roc_curve, auc\n",
    "\n",
    "fpr, tpr, thresholds = roc_curve(y, lm.predict(X))\n",
    "roc_auc = auc(fpr, tpr)\n",
    "\n",
    "import matplotlib.pyplot as plt\n",
    "\n",
    "plt.figure()\n",
    "plt.plot(fpr, tpr, label=\"ROC curve (area = %0.2f)\" % roc_auc)\n",
    "plt.plot([0, 1], [0, 1])\n",
    "plt.xlim([0.0, 1.0])\n",
    "plt.ylim([0.0, 1.05])\n",
    "plt.xlabel(\"False Positive Rate\")\n",
    "plt.ylabel(\"True Positive Rate\")\n",
    "plt.title(\"ROC Curve\")\n",
    "plt.legend(loc=\"lower right\")\n",
    "plt.show()"
   ]
  },
  {
   "cell_type": "code",
   "execution_count": 52,
   "metadata": {},
   "outputs": [
    {
     "data": {
      "text/plain": [
       "<Axes: xlabel='gre', ylabel='rank'>"
      ]
     },
     "execution_count": 52,
     "metadata": {},
     "output_type": "execute_result"
    },
    {
     "data": {
      "image/png": "[encoded data removed]",
      "text/plain": [
       "<Figure size 640x480 with 1 Axes>"
      ]
     },
     "metadata": {},
     "output_type": "display_data"
    }
   ],
   "source": [
    "# plot variable chart\n",
    "import seaborn as sns\n",
    "\n",
    "sns.scatterplot(x=\"gre\", y=\"rank\", hue=\"admit\", data=mydata)"
   ]
  }
 ],
 "metadata": {
  "kernelspec": {
   "display_name": "Python 3",
   "language": "python",
   "name": "python3"
  },
  "language_info": {
   "codemirror_mode": {
    "name": "ipython",
    "version": 3
   },
   "file_extension": ".py",
   "mimetype": "text/x-python",
   "name": "python",
   "nbconvert_exporter": "python",
   "pygments_lexer": "ipython3",
   "version": "3.11.4"
  }
 },
 "nbformat": 4,
 "nbformat_minor": 2
}
