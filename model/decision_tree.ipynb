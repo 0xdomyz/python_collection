{
 "cells": [
  {
   "cell_type": "code",
   "execution_count": 2,
   "id": "4f93644a",
   "metadata": {},
   "outputs": [],
   "source": [
    "import matplotlib.pyplot as plt\n",
    "import numpy as np\n",
    "import pandas as pd\n",
    "import statsmodels.api as sm\n",
    "from scipy import stats"
   ]
  },
  {
   "cell_type": "code",
   "execution_count": 4,
   "id": "3a71c23e",
   "metadata": {},
   "outputs": [
    {
     "name": "stdout",
     "output_type": "stream",
     "text": [
      "survived                 0\n",
      "pclass                   3\n",
      "sex                   male\n",
      "age                   22.0\n",
      "sibsp                    1\n",
      "parch                    0\n",
      "fare                  7.25\n",
      "embarked                 S\n",
      "class                Third\n",
      "who                    man\n",
      "adult_male            True\n",
      "deck                   NaN\n",
      "embark_town    Southampton\n",
      "alive                   no\n",
      "alone                False\n"
     ]
    }
   ],
   "source": [
    "df = pd.read_csv('titanic.csv')\n",
    "print(df.iloc[0,:].to_string())"
   ]
  },
  {
   "cell_type": "code",
   "execution_count": 5,
   "id": "b9b92732",
   "metadata": {},
   "outputs": [],
   "source": [
    "def entropy(y):\n",
    "    \"\"\"Calculate entropy of a binary target array.\"\"\"\n",
    "    p1 = np.mean(y)\n",
    "    p0 = 1 - p1\n",
    "    if p1 == 0 or p1 == 1:\n",
    "        return 0\n",
    "    return -p0 * np.log2(p0) - p1 * np.log2(p1)\n",
    "\n",
    "def best_split(df, feature_col, target_col):\n",
    "    \"\"\"Find the split point that maximizes information gain.\"\"\"\n",
    "    values = np.sort(df[feature_col].unique())\n",
    "    split_points = (values[:-1] + values[1:]) / 2\n",
    "    best_gain = -1\n",
    "    best_split = None\n",
    "    base_entropy = entropy(df[target_col])\n",
    "    for split in split_points:\n",
    "        left = df[df[feature_col] <= split][target_col]\n",
    "        right = df[df[feature_col] > split][target_col]\n",
    "        weighted_entropy = (len(left) * entropy(left) + len(right) * entropy(right)) / len(df)\n",
    "        info_gain = base_entropy - weighted_entropy\n",
    "        if info_gain > best_gain:\n",
    "            best_gain = info_gain\n",
    "            best_split = split\n",
    "    return best_split, best_gain"
   ]
  },
  {
   "cell_type": "code",
   "execution_count": 6,
   "id": "066caa20",
   "metadata": {},
   "outputs": [
    {
     "name": "stdout",
     "output_type": "stream",
     "text": [
      "Best split: 2.5, Information gain: 0.0758\n"
     ]
    }
   ],
   "source": [
    "split, gain = best_split(df, 'pclass', 'survived')\n",
    "print(f\"Best split: {split}, Information gain: {gain:.4f}\")"
   ]
  },
  {
   "cell_type": "code",
   "execution_count": null,
   "id": "6ec1e425",
   "metadata": {},
   "outputs": [],
   "source": []
  }
 ],
 "metadata": {
  "kernelspec": {
   "display_name": "Python 3",
   "language": "python",
   "name": "python3"
  },
  "language_info": {
   "codemirror_mode": {
    "name": "ipython",
    "version": 3
   },
   "file_extension": ".py",
   "mimetype": "text/x-python",
   "name": "python",
   "nbconvert_exporter": "python",
   "pygments_lexer": "ipython3",
   "version": "3.13.2"
  }
 },
 "nbformat": 4,
 "nbformat_minor": 5
}
