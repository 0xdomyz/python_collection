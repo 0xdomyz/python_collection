{
 "cells": [
  {
   "cell_type": "code",
   "execution_count": 1,
   "metadata": {},
   "outputs": [
    {
     "name": "stdout",
     "output_type": "stream",
     "text": [
      "      T  E    group\n",
      "0   6.0  1  miR-137\n",
      "1  13.0  1  miR-137\n",
      "2  13.0  1  miR-137\n",
      "3  13.0  1  miR-137\n",
      "4  19.0  1  miR-137\n",
      "(163, 3)\n"
     ]
    }
   ],
   "source": [
    "import pandas as pd\n",
    "from lifelines.datasets import load_waltons\n",
    "\n",
    "# install by pip install lifelines\n",
    "\n",
    "# Load the Walton's survival dataset\n",
    "df = load_waltons()\n",
    "\n",
    "# Print the dataset\n",
    "print(df.head())\n",
    "\n",
    "# Print the number of rows and columns\n",
    "print(df.shape)\n",
    "\n",
    "# The columns means:\n",
    "# T = time of death or time of censoring\n",
    "# E = 1 if death event occured, 0 if censored\n",
    "# group = group of the individual"
   ]
  },
  {
   "cell_type": "code",
   "execution_count": 7,
   "metadata": {},
   "outputs": [
    {
     "data": {
      "text/plain": [
       "E  group  \n",
       "1  control    122\n",
       "   miR-137     34\n",
       "0  control      7\n",
       "Name: count, dtype: int64"
      ]
     },
     "execution_count": 7,
     "metadata": {},
     "output_type": "execute_result"
    }
   ],
   "source": [
    "df.loc[:, [\"E\", \"group\"]].value_counts()"
   ]
  },
  {
   "cell_type": "code",
   "execution_count": 15,
   "metadata": {},
   "outputs": [
    {
     "data": {
      "text/plain": [
       "<Axes: xlabel='T'>"
      ]
     },
     "execution_count": 15,
     "metadata": {},
     "output_type": "execute_result"
    },
    {
     "data": {
      "image/png": "[encoded data removed]",
      "text/plain": [
       "<Figure size 640x480 with 1 Axes>"
      ]
     },
     "metadata": {},
     "output_type": "display_data"
    }
   ],
   "source": [
    "df.value_counts(\"T\").sort_index().plot(kind=\"bar\")"
   ]
  },
  {
   "cell_type": "code",
   "execution_count": 12,
   "metadata": {},
   "outputs": [
    {
     "data": {
      "text/html": [
       "<div>\n",
       "<style scoped>\n",
       "    .dataframe tbody tr th:only-of-type {\n",
       "        vertical-align: middle;\n",
       "    }\n",
       "\n",
       "    .dataframe tbody tr th {\n",
       "        vertical-align: top;\n",
       "    }\n",
       "\n",
       "    .dataframe thead th {\n",
       "        text-align: right;\n",
       "    }\n",
       "</style>\n",
       "<table border=\"1\" class=\"dataframe\">\n",
       "  <thead>\n",
       "    <tr style=\"text-align: right;\">\n",
       "      <th></th>\n",
       "      <th></th>\n",
       "      <th>T</th>\n",
       "    </tr>\n",
       "    <tr>\n",
       "      <th>E</th>\n",
       "      <th>group</th>\n",
       "      <th></th>\n",
       "    </tr>\n",
       "  </thead>\n",
       "  <tbody>\n",
       "    <tr>\n",
       "      <th>0</th>\n",
       "      <th>control</th>\n",
       "      <td>53.000000</td>\n",
       "    </tr>\n",
       "    <tr>\n",
       "      <th rowspan=\"2\" valign=\"top\">1</th>\n",
       "      <th>control</th>\n",
       "      <td>56.081967</td>\n",
       "    </tr>\n",
       "    <tr>\n",
       "      <th>miR-137</th>\n",
       "      <td>25.705882</td>\n",
       "    </tr>\n",
       "  </tbody>\n",
       "</table>\n",
       "</div>"
      ],
      "text/plain": [
       "                   T\n",
       "E group             \n",
       "0 control  53.000000\n",
       "1 control  56.081967\n",
       "  miR-137  25.705882"
      ]
     },
     "execution_count": 12,
     "metadata": {},
     "output_type": "execute_result"
    }
   ],
   "source": [
    "df.groupby([\"E\", \"group\"]).agg({\"T\": \"mean\"})"
   ]
  },
  {
   "cell_type": "code",
   "execution_count": 6,
   "metadata": {},
   "outputs": [
    {
     "data": {
      "text/html": [
       "<div>\n",
       "<style scoped>\n",
       "    .dataframe tbody tr th:only-of-type {\n",
       "        vertical-align: middle;\n",
       "    }\n",
       "\n",
       "    .dataframe tbody tr th {\n",
       "        vertical-align: top;\n",
       "    }\n",
       "\n",
       "    .dataframe thead th {\n",
       "        text-align: right;\n",
       "    }\n",
       "</style>\n",
       "<table border=\"1\" class=\"dataframe\">\n",
       "  <thead>\n",
       "    <tr style=\"text-align: right;\">\n",
       "      <th></th>\n",
       "      <th>T</th>\n",
       "      <th>E</th>\n",
       "      <th>group</th>\n",
       "    </tr>\n",
       "  </thead>\n",
       "  <tbody>\n",
       "    <tr>\n",
       "      <th>39</th>\n",
       "      <td>61.0</td>\n",
       "      <td>0</td>\n",
       "      <td>control</td>\n",
       "    </tr>\n",
       "    <tr>\n",
       "      <th>41</th>\n",
       "      <td>61.0</td>\n",
       "      <td>0</td>\n",
       "      <td>control</td>\n",
       "    </tr>\n",
       "    <tr>\n",
       "      <th>54</th>\n",
       "      <td>69.0</td>\n",
       "      <td>0</td>\n",
       "      <td>control</td>\n",
       "    </tr>\n",
       "    <tr>\n",
       "      <th>71</th>\n",
       "      <td>68.0</td>\n",
       "      <td>0</td>\n",
       "      <td>control</td>\n",
       "    </tr>\n",
       "    <tr>\n",
       "      <th>89</th>\n",
       "      <td>7.0</td>\n",
       "      <td>0</td>\n",
       "      <td>control</td>\n",
       "    </tr>\n",
       "    <tr>\n",
       "      <th>144</th>\n",
       "      <td>45.0</td>\n",
       "      <td>0</td>\n",
       "      <td>control</td>\n",
       "    </tr>\n",
       "    <tr>\n",
       "      <th>152</th>\n",
       "      <td>60.0</td>\n",
       "      <td>0</td>\n",
       "      <td>control</td>\n",
       "    </tr>\n",
       "  </tbody>\n",
       "</table>\n",
       "</div>"
      ],
      "text/plain": [
       "        T  E    group\n",
       "39   61.0  0  control\n",
       "41   61.0  0  control\n",
       "54   69.0  0  control\n",
       "71   68.0  0  control\n",
       "89    7.0  0  control\n",
       "144  45.0  0  control\n",
       "152  60.0  0  control"
      ]
     },
     "execution_count": 6,
     "metadata": {},
     "output_type": "execute_result"
    }
   ],
   "source": [
    "df.query(\"E == 0\")"
   ]
  },
  {
   "cell_type": "code",
   "execution_count": 16,
   "metadata": {},
   "outputs": [],
   "source": [
    "# Import the KaplanMeierFitter class\n",
    "from lifelines import KaplanMeierFitter\n",
    "\n",
    "# Create a KaplanMeierFitter instance\n",
    "kmf = KaplanMeierFitter()"
   ]
  },
  {
   "cell_type": "code",
   "execution_count": 17,
   "metadata": {},
   "outputs": [
    {
     "data": {
      "text/html": [
       "<div>\n",
       "<style scoped>\n",
       "    .dataframe tbody tr th:only-of-type {\n",
       "        vertical-align: middle;\n",
       "    }\n",
       "\n",
       "    .dataframe tbody tr th {\n",
       "        vertical-align: top;\n",
       "    }\n",
       "\n",
       "    .dataframe thead th {\n",
       "        text-align: right;\n",
       "    }\n",
       "</style>\n",
       "<table border=\"1\" class=\"dataframe\">\n",
       "  <thead>\n",
       "    <tr style=\"text-align: right;\">\n",
       "      <th></th>\n",
       "      <th>removed</th>\n",
       "      <th>observed</th>\n",
       "      <th>censored</th>\n",
       "      <th>entrance</th>\n",
       "      <th>at_risk</th>\n",
       "    </tr>\n",
       "    <tr>\n",
       "      <th>event_at</th>\n",
       "      <th></th>\n",
       "      <th></th>\n",
       "      <th></th>\n",
       "      <th></th>\n",
       "      <th></th>\n",
       "    </tr>\n",
       "  </thead>\n",
       "  <tbody>\n",
       "    <tr>\n",
       "      <th>0.0</th>\n",
       "      <td>0</td>\n",
       "      <td>0</td>\n",
       "      <td>0</td>\n",
       "      <td>163</td>\n",
       "      <td>163</td>\n",
       "    </tr>\n",
       "    <tr>\n",
       "      <th>6.0</th>\n",
       "      <td>1</td>\n",
       "      <td>1</td>\n",
       "      <td>0</td>\n",
       "      <td>0</td>\n",
       "      <td>163</td>\n",
       "    </tr>\n",
       "    <tr>\n",
       "      <th>7.0</th>\n",
       "      <td>2</td>\n",
       "      <td>1</td>\n",
       "      <td>1</td>\n",
       "      <td>0</td>\n",
       "      <td>162</td>\n",
       "    </tr>\n",
       "    <tr>\n",
       "      <th>9.0</th>\n",
       "      <td>3</td>\n",
       "      <td>3</td>\n",
       "      <td>0</td>\n",
       "      <td>0</td>\n",
       "      <td>160</td>\n",
       "    </tr>\n",
       "    <tr>\n",
       "      <th>13.0</th>\n",
       "      <td>3</td>\n",
       "      <td>3</td>\n",
       "      <td>0</td>\n",
       "      <td>0</td>\n",
       "      <td>157</td>\n",
       "    </tr>\n",
       "  </tbody>\n",
       "</table>\n",
       "</div>"
      ],
      "text/plain": [
       "          removed  observed  censored  entrance  at_risk\n",
       "event_at                                                \n",
       "0.0             0         0         0       163      163\n",
       "6.0             1         1         0         0      163\n",
       "7.0             2         1         1         0      162\n",
       "9.0             3         3         0         0      160\n",
       "13.0            3         3         0         0      157"
      ]
     },
     "execution_count": 17,
     "metadata": {},
     "output_type": "execute_result"
    }
   ],
   "source": [
    "# Fit the data into the model\n",
    "T = df[\"T\"]\n",
    "E = df[\"E\"]\n",
    "kmf.fit(T, event_observed=E)\n",
    "\n",
    "# Print the event table\n",
    "kmf.event_table.head()"
   ]
  },
  {
   "cell_type": "code",
   "execution_count": 8,
   "metadata": {},
   "outputs": [
    {
     "data": {
      "text/html": [
       "<div>\n",
       "<style scoped>\n",
       "    .dataframe tbody tr th:only-of-type {\n",
       "        vertical-align: middle;\n",
       "    }\n",
       "\n",
       "    .dataframe tbody tr th {\n",
       "        vertical-align: top;\n",
       "    }\n",
       "\n",
       "    .dataframe thead th {\n",
       "        text-align: right;\n",
       "    }\n",
       "</style>\n",
       "<table border=\"1\" class=\"dataframe\">\n",
       "  <thead>\n",
       "    <tr style=\"text-align: right;\">\n",
       "      <th></th>\n",
       "      <th>KM_estimate</th>\n",
       "    </tr>\n",
       "    <tr>\n",
       "      <th>timeline</th>\n",
       "      <th></th>\n",
       "    </tr>\n",
       "  </thead>\n",
       "  <tbody>\n",
       "    <tr>\n",
       "      <th>0.0</th>\n",
       "      <td>1.000000</td>\n",
       "    </tr>\n",
       "    <tr>\n",
       "      <th>6.0</th>\n",
       "      <td>0.993865</td>\n",
       "    </tr>\n",
       "    <tr>\n",
       "      <th>7.0</th>\n",
       "      <td>0.987730</td>\n",
       "    </tr>\n",
       "    <tr>\n",
       "      <th>9.0</th>\n",
       "      <td>0.969210</td>\n",
       "    </tr>\n",
       "    <tr>\n",
       "      <th>13.0</th>\n",
       "      <td>0.950690</td>\n",
       "    </tr>\n",
       "  </tbody>\n",
       "</table>\n",
       "</div>"
      ],
      "text/plain": [
       "          KM_estimate\n",
       "timeline             \n",
       "0.0          1.000000\n",
       "6.0          0.993865\n",
       "7.0          0.987730\n",
       "9.0          0.969210\n",
       "13.0         0.950690"
      ]
     },
     "execution_count": 8,
     "metadata": {},
     "output_type": "execute_result"
    }
   ],
   "source": [
    "# Print the survival probability\n",
    "kmf.survival_function_.head()"
   ]
  },
  {
   "cell_type": "code",
   "execution_count": 9,
   "metadata": {},
   "outputs": [
    {
     "data": {
      "text/html": [
       "<div>\n",
       "<style scoped>\n",
       "    .dataframe tbody tr th:only-of-type {\n",
       "        vertical-align: middle;\n",
       "    }\n",
       "\n",
       "    .dataframe tbody tr th {\n",
       "        vertical-align: top;\n",
       "    }\n",
       "\n",
       "    .dataframe thead th {\n",
       "        text-align: right;\n",
       "    }\n",
       "</style>\n",
       "<table border=\"1\" class=\"dataframe\">\n",
       "  <thead>\n",
       "    <tr style=\"text-align: right;\">\n",
       "      <th></th>\n",
       "      <th>KM_estimate</th>\n",
       "    </tr>\n",
       "    <tr>\n",
       "      <th>timeline</th>\n",
       "      <th></th>\n",
       "    </tr>\n",
       "  </thead>\n",
       "  <tbody>\n",
       "    <tr>\n",
       "      <th>0.0</th>\n",
       "      <td>0.000000</td>\n",
       "    </tr>\n",
       "    <tr>\n",
       "      <th>6.0</th>\n",
       "      <td>0.006135</td>\n",
       "    </tr>\n",
       "    <tr>\n",
       "      <th>7.0</th>\n",
       "      <td>0.012270</td>\n",
       "    </tr>\n",
       "    <tr>\n",
       "      <th>9.0</th>\n",
       "      <td>0.030790</td>\n",
       "    </tr>\n",
       "    <tr>\n",
       "      <th>13.0</th>\n",
       "      <td>0.049310</td>\n",
       "    </tr>\n",
       "  </tbody>\n",
       "</table>\n",
       "</div>"
      ],
      "text/plain": [
       "          KM_estimate\n",
       "timeline             \n",
       "0.0          0.000000\n",
       "6.0          0.006135\n",
       "7.0          0.012270\n",
       "9.0          0.030790\n",
       "13.0         0.049310"
      ]
     },
     "execution_count": 9,
     "metadata": {},
     "output_type": "execute_result"
    }
   ],
   "source": [
    "# Print the cumulative density function\n",
    "kmf.cumulative_density_.head()"
   ]
  },
  {
   "cell_type": "code",
   "execution_count": 10,
   "metadata": {},
   "outputs": [
    {
     "data": {
      "text/plain": [
       "56.0"
      ]
     },
     "execution_count": 10,
     "metadata": {},
     "output_type": "execute_result"
    }
   ],
   "source": [
    "# Print the median time to event\n",
    "kmf.median_survival_time_"
   ]
  },
  {
   "cell_type": "code",
   "execution_count": 11,
   "metadata": {},
   "outputs": [
    {
     "data": {
      "text/plain": [
       "<Axes: xlabel='timeline'>"
      ]
     },
     "execution_count": 11,
     "metadata": {},
     "output_type": "execute_result"
    },
    {
     "data": {
      "image/png": "[encoded data removed]",
      "text/plain": [
       "<Figure size 640x480 with 1 Axes>"
      ]
     },
     "metadata": {},
     "output_type": "display_data"
    }
   ],
   "source": [
    "# plot the KM estimate\n",
    "kmf.plot()"
   ]
  },
  {
   "cell_type": "code",
   "execution_count": 24,
   "metadata": {},
   "outputs": [
    {
     "data": {
      "text/html": [
       "<div>\n",
       "<style scoped>\n",
       "    .dataframe tbody tr th:only-of-type {\n",
       "        vertical-align: middle;\n",
       "    }\n",
       "\n",
       "    .dataframe tbody tr th {\n",
       "        vertical-align: top;\n",
       "    }\n",
       "\n",
       "    .dataframe thead th {\n",
       "        text-align: right;\n",
       "    }\n",
       "</style>\n",
       "<table border=\"1\" class=\"dataframe\">\n",
       "  <thead>\n",
       "    <tr style=\"text-align: right;\">\n",
       "      <th></th>\n",
       "      <th>T</th>\n",
       "      <th>E</th>\n",
       "      <th>group</th>\n",
       "    </tr>\n",
       "  </thead>\n",
       "  <tbody>\n",
       "    <tr>\n",
       "      <th>0</th>\n",
       "      <td>6.0</td>\n",
       "      <td>1</td>\n",
       "      <td>miR-137</td>\n",
       "    </tr>\n",
       "    <tr>\n",
       "      <th>19</th>\n",
       "      <td>9.0</td>\n",
       "      <td>1</td>\n",
       "      <td>miR-137</td>\n",
       "    </tr>\n",
       "    <tr>\n",
       "      <th>18</th>\n",
       "      <td>9.0</td>\n",
       "      <td>1</td>\n",
       "      <td>miR-137</td>\n",
       "    </tr>\n",
       "    <tr>\n",
       "      <th>17</th>\n",
       "      <td>9.0</td>\n",
       "      <td>1</td>\n",
       "      <td>miR-137</td>\n",
       "    </tr>\n",
       "    <tr>\n",
       "      <th>1</th>\n",
       "      <td>13.0</td>\n",
       "      <td>1</td>\n",
       "      <td>miR-137</td>\n",
       "    </tr>\n",
       "    <tr>\n",
       "      <th>2</th>\n",
       "      <td>13.0</td>\n",
       "      <td>1</td>\n",
       "      <td>miR-137</td>\n",
       "    </tr>\n",
       "    <tr>\n",
       "      <th>3</th>\n",
       "      <td>13.0</td>\n",
       "      <td>1</td>\n",
       "      <td>miR-137</td>\n",
       "    </tr>\n",
       "    <tr>\n",
       "      <th>20</th>\n",
       "      <td>15.0</td>\n",
       "      <td>1</td>\n",
       "      <td>miR-137</td>\n",
       "    </tr>\n",
       "    <tr>\n",
       "      <th>21</th>\n",
       "      <td>15.0</td>\n",
       "      <td>1</td>\n",
       "      <td>miR-137</td>\n",
       "    </tr>\n",
       "    <tr>\n",
       "      <th>4</th>\n",
       "      <td>19.0</td>\n",
       "      <td>1</td>\n",
       "      <td>miR-137</td>\n",
       "    </tr>\n",
       "    <tr>\n",
       "      <th>5</th>\n",
       "      <td>19.0</td>\n",
       "      <td>1</td>\n",
       "      <td>miR-137</td>\n",
       "    </tr>\n",
       "    <tr>\n",
       "      <th>6</th>\n",
       "      <td>19.0</td>\n",
       "      <td>1</td>\n",
       "      <td>miR-137</td>\n",
       "    </tr>\n",
       "    <tr>\n",
       "      <th>23</th>\n",
       "      <td>22.0</td>\n",
       "      <td>1</td>\n",
       "      <td>miR-137</td>\n",
       "    </tr>\n",
       "    <tr>\n",
       "      <th>24</th>\n",
       "      <td>22.0</td>\n",
       "      <td>1</td>\n",
       "      <td>miR-137</td>\n",
       "    </tr>\n",
       "    <tr>\n",
       "      <th>22</th>\n",
       "      <td>22.0</td>\n",
       "      <td>1</td>\n",
       "      <td>miR-137</td>\n",
       "    </tr>\n",
       "    <tr>\n",
       "      <th>25</th>\n",
       "      <td>22.0</td>\n",
       "      <td>1</td>\n",
       "      <td>miR-137</td>\n",
       "    </tr>\n",
       "    <tr>\n",
       "      <th>10</th>\n",
       "      <td>26.0</td>\n",
       "      <td>1</td>\n",
       "      <td>miR-137</td>\n",
       "    </tr>\n",
       "    <tr>\n",
       "      <th>9</th>\n",
       "      <td>26.0</td>\n",
       "      <td>1</td>\n",
       "      <td>miR-137</td>\n",
       "    </tr>\n",
       "    <tr>\n",
       "      <th>8</th>\n",
       "      <td>26.0</td>\n",
       "      <td>1</td>\n",
       "      <td>miR-137</td>\n",
       "    </tr>\n",
       "    <tr>\n",
       "      <th>7</th>\n",
       "      <td>26.0</td>\n",
       "      <td>1</td>\n",
       "      <td>miR-137</td>\n",
       "    </tr>\n",
       "    <tr>\n",
       "      <th>11</th>\n",
       "      <td>26.0</td>\n",
       "      <td>1</td>\n",
       "      <td>miR-137</td>\n",
       "    </tr>\n",
       "    <tr>\n",
       "      <th>26</th>\n",
       "      <td>29.0</td>\n",
       "      <td>1</td>\n",
       "      <td>miR-137</td>\n",
       "    </tr>\n",
       "    <tr>\n",
       "      <th>27</th>\n",
       "      <td>29.0</td>\n",
       "      <td>1</td>\n",
       "      <td>miR-137</td>\n",
       "    </tr>\n",
       "    <tr>\n",
       "      <th>29</th>\n",
       "      <td>29.0</td>\n",
       "      <td>1</td>\n",
       "      <td>miR-137</td>\n",
       "    </tr>\n",
       "    <tr>\n",
       "      <th>30</th>\n",
       "      <td>29.0</td>\n",
       "      <td>1</td>\n",
       "      <td>miR-137</td>\n",
       "    </tr>\n",
       "    <tr>\n",
       "      <th>28</th>\n",
       "      <td>29.0</td>\n",
       "      <td>1</td>\n",
       "      <td>miR-137</td>\n",
       "    </tr>\n",
       "    <tr>\n",
       "      <th>13</th>\n",
       "      <td>33.0</td>\n",
       "      <td>1</td>\n",
       "      <td>miR-137</td>\n",
       "    </tr>\n",
       "    <tr>\n",
       "      <th>12</th>\n",
       "      <td>33.0</td>\n",
       "      <td>1</td>\n",
       "      <td>miR-137</td>\n",
       "    </tr>\n",
       "    <tr>\n",
       "      <th>32</th>\n",
       "      <td>36.0</td>\n",
       "      <td>1</td>\n",
       "      <td>miR-137</td>\n",
       "    </tr>\n",
       "    <tr>\n",
       "      <th>31</th>\n",
       "      <td>36.0</td>\n",
       "      <td>1</td>\n",
       "      <td>miR-137</td>\n",
       "    </tr>\n",
       "    <tr>\n",
       "      <th>33</th>\n",
       "      <td>43.0</td>\n",
       "      <td>1</td>\n",
       "      <td>miR-137</td>\n",
       "    </tr>\n",
       "    <tr>\n",
       "      <th>14</th>\n",
       "      <td>47.0</td>\n",
       "      <td>1</td>\n",
       "      <td>miR-137</td>\n",
       "    </tr>\n",
       "    <tr>\n",
       "      <th>15</th>\n",
       "      <td>62.0</td>\n",
       "      <td>1</td>\n",
       "      <td>miR-137</td>\n",
       "    </tr>\n",
       "    <tr>\n",
       "      <th>16</th>\n",
       "      <td>62.0</td>\n",
       "      <td>1</td>\n",
       "      <td>miR-137</td>\n",
       "    </tr>\n",
       "  </tbody>\n",
       "</table>\n",
       "</div>"
      ],
      "text/plain": [
       "       T  E    group\n",
       "0    6.0  1  miR-137\n",
       "19   9.0  1  miR-137\n",
       "18   9.0  1  miR-137\n",
       "17   9.0  1  miR-137\n",
       "1   13.0  1  miR-137\n",
       "2   13.0  1  miR-137\n",
       "3   13.0  1  miR-137\n",
       "20  15.0  1  miR-137\n",
       "21  15.0  1  miR-137\n",
       "4   19.0  1  miR-137\n",
       "5   19.0  1  miR-137\n",
       "6   19.0  1  miR-137\n",
       "23  22.0  1  miR-137\n",
       "24  22.0  1  miR-137\n",
       "22  22.0  1  miR-137\n",
       "25  22.0  1  miR-137\n",
       "10  26.0  1  miR-137\n",
       "9   26.0  1  miR-137\n",
       "8   26.0  1  miR-137\n",
       "7   26.0  1  miR-137\n",
       "11  26.0  1  miR-137\n",
       "26  29.0  1  miR-137\n",
       "27  29.0  1  miR-137\n",
       "29  29.0  1  miR-137\n",
       "30  29.0  1  miR-137\n",
       "28  29.0  1  miR-137\n",
       "13  33.0  1  miR-137\n",
       "12  33.0  1  miR-137\n",
       "32  36.0  1  miR-137\n",
       "31  36.0  1  miR-137\n",
       "33  43.0  1  miR-137\n",
       "14  47.0  1  miR-137\n",
       "15  62.0  1  miR-137\n",
       "16  62.0  1  miR-137"
      ]
     },
     "execution_count": 24,
     "metadata": {},
     "output_type": "execute_result"
    }
   ],
   "source": [
    "df.query('group == \"miR-137\"').sort_values(\"T\")"
   ]
  },
  {
   "cell_type": "code",
   "execution_count": 51,
   "metadata": {},
   "outputs": [],
   "source": [
    "from matplotlib import pyplot as plt"
   ]
  },
  {
   "cell_type": "code",
   "execution_count": 52,
   "metadata": {},
   "outputs": [
    {
     "data": {
      "text/plain": [
       "<Axes: xlabel='timeline'>"
      ]
     },
     "execution_count": 52,
     "metadata": {},
     "output_type": "execute_result"
    },
    {
     "data": {
      "image/png": "[encoded data removed]",
      "text/plain": [
       "<Figure size 640x480 with 1 Axes>"
      ]
     },
     "metadata": {},
     "output_type": "display_data"
    }
   ],
   "source": [
    "kmf.fit(\n",
    "    df.query('group == \"miR-137\"')[\"T\"],\n",
    "    event_observed=df.query('group == \"miR-137\"')[\"E\"],\n",
    "    label=\"miR-137\",\n",
    ")\n",
    "kmf.plot()"
   ]
  },
  {
   "cell_type": "code",
   "execution_count": 53,
   "metadata": {},
   "outputs": [
    {
     "data": {
      "text/html": [
       "<div>\n",
       "<style scoped>\n",
       "    .dataframe tbody tr th:only-of-type {\n",
       "        vertical-align: middle;\n",
       "    }\n",
       "\n",
       "    .dataframe tbody tr th {\n",
       "        vertical-align: top;\n",
       "    }\n",
       "\n",
       "    .dataframe thead th {\n",
       "        text-align: right;\n",
       "    }\n",
       "</style>\n",
       "<table border=\"1\" class=\"dataframe\">\n",
       "  <thead>\n",
       "    <tr style=\"text-align: right;\">\n",
       "      <th></th>\n",
       "      <th>T</th>\n",
       "      <th>E</th>\n",
       "      <th>group</th>\n",
       "    </tr>\n",
       "  </thead>\n",
       "  <tbody>\n",
       "    <tr>\n",
       "      <th>89</th>\n",
       "      <td>7.0</td>\n",
       "      <td>0</td>\n",
       "      <td>control</td>\n",
       "    </tr>\n",
       "    <tr>\n",
       "      <th>88</th>\n",
       "      <td>7.0</td>\n",
       "      <td>1</td>\n",
       "      <td>control</td>\n",
       "    </tr>\n",
       "    <tr>\n",
       "      <th>78</th>\n",
       "      <td>17.0</td>\n",
       "      <td>1</td>\n",
       "      <td>control</td>\n",
       "    </tr>\n",
       "    <tr>\n",
       "      <th>59</th>\n",
       "      <td>32.0</td>\n",
       "      <td>1</td>\n",
       "      <td>control</td>\n",
       "    </tr>\n",
       "    <tr>\n",
       "      <th>34</th>\n",
       "      <td>33.0</td>\n",
       "      <td>1</td>\n",
       "      <td>control</td>\n",
       "    </tr>\n",
       "    <tr>\n",
       "      <th>...</th>\n",
       "      <td>...</td>\n",
       "      <td>...</td>\n",
       "      <td>...</td>\n",
       "    </tr>\n",
       "    <tr>\n",
       "      <th>55</th>\n",
       "      <td>69.0</td>\n",
       "      <td>1</td>\n",
       "      <td>control</td>\n",
       "    </tr>\n",
       "    <tr>\n",
       "      <th>56</th>\n",
       "      <td>69.0</td>\n",
       "      <td>1</td>\n",
       "      <td>control</td>\n",
       "    </tr>\n",
       "    <tr>\n",
       "      <th>57</th>\n",
       "      <td>69.0</td>\n",
       "      <td>1</td>\n",
       "      <td>control</td>\n",
       "    </tr>\n",
       "    <tr>\n",
       "      <th>133</th>\n",
       "      <td>69.0</td>\n",
       "      <td>1</td>\n",
       "      <td>control</td>\n",
       "    </tr>\n",
       "    <tr>\n",
       "      <th>77</th>\n",
       "      <td>75.0</td>\n",
       "      <td>1</td>\n",
       "      <td>control</td>\n",
       "    </tr>\n",
       "  </tbody>\n",
       "</table>\n",
       "<p>129 rows × 3 columns</p>\n",
       "</div>"
      ],
      "text/plain": [
       "        T  E    group\n",
       "89    7.0  0  control\n",
       "88    7.0  1  control\n",
       "78   17.0  1  control\n",
       "59   32.0  1  control\n",
       "34   33.0  1  control\n",
       "..    ... ..      ...\n",
       "55   69.0  1  control\n",
       "56   69.0  1  control\n",
       "57   69.0  1  control\n",
       "133  69.0  1  control\n",
       "77   75.0  1  control\n",
       "\n",
       "[129 rows x 3 columns]"
      ]
     },
     "execution_count": 53,
     "metadata": {},
     "output_type": "execute_result"
    }
   ],
   "source": [
    "df.query('group == \"control\"').sort_values(\"T\")"
   ]
  },
  {
   "cell_type": "code",
   "execution_count": 55,
   "metadata": {},
   "outputs": [
    {
     "data": {
      "text/plain": [
       "<Axes: xlabel='timeline'>"
      ]
     },
     "execution_count": 55,
     "metadata": {},
     "output_type": "execute_result"
    },
    {
     "data": {
      "image/png": "[encoded data removed]",
      "text/plain": [
       "<Figure size 640x480 with 1 Axes>"
      ]
     },
     "metadata": {},
     "output_type": "display_data"
    }
   ],
   "source": [
    "kmf.fit(\n",
    "    df.query('group == \"control\"')[\"T\"],\n",
    "    event_observed=df.query('group == \"control\"')[\"E\"],\n",
    "    label=\"control\",\n",
    ")\n",
    "\n",
    "kmf.plot()"
   ]
  },
  {
   "cell_type": "code",
   "execution_count": null,
   "metadata": {},
   "outputs": [],
   "source": []
  },
  {
   "cell_type": "code",
   "execution_count": 58,
   "metadata": {},
   "outputs": [
    {
     "name": "stdout",
     "output_type": "stream",
     "text": [
      "       T  E    group\n",
      "78  17.0  1  control\n",
      "88   7.0  1  control\n"
     ]
    },
    {
     "data": {
      "text/plain": [
       "<Axes: xlabel='timeline'>"
      ]
     },
     "execution_count": 58,
     "metadata": {},
     "output_type": "execute_result"
    },
    {
     "data": {
      "image/png": "[encoded data removed]",
      "text/plain": [
       "<Figure size 640x480 with 1 Axes>"
      ]
     },
     "metadata": {},
     "output_type": "display_data"
    }
   ],
   "source": [
    "sdf = df.query('group == \"control\" and T < 20 and E == 1')\n",
    "print(sdf.to_string())\n",
    "\n",
    "kmf.fit(\n",
    "    sdf[\"T\"],\n",
    "    event_observed=sdf[\"E\"],\n",
    "    label=\"control\",\n",
    ")\n",
    "\n",
    "kmf.plot()"
   ]
  },
  {
   "cell_type": "code",
   "execution_count": 59,
   "metadata": {},
   "outputs": [
    {
     "name": "stdout",
     "output_type": "stream",
     "text": [
      "       T  E    group\n",
      "78  17.0  1  control\n",
      "88   7.0  1  control\n",
      "89   7.0  0  control\n"
     ]
    },
    {
     "data": {
      "text/plain": [
       "<Axes: xlabel='timeline'>"
      ]
     },
     "execution_count": 59,
     "metadata": {},
     "output_type": "execute_result"
    },
    {
     "data": {
      "image/png": "[encoded data removed]",
      "text/plain": [
       "<Figure size 640x480 with 1 Axes>"
      ]
     },
     "metadata": {},
     "output_type": "display_data"
    }
   ],
   "source": [
    "sdf = df.query('group == \"control\" and T < 20')\n",
    "print(sdf.to_string())\n",
    "\n",
    "kmf.fit(\n",
    "    sdf[\"T\"],\n",
    "    event_observed=sdf[\"E\"],\n",
    "    label=\"control\",\n",
    ")\n",
    "\n",
    "kmf.plot()"
   ]
  },
  {
   "cell_type": "code",
   "execution_count": 133,
   "metadata": {},
   "outputs": [
    {
     "name": "stdout",
     "output_type": "stream",
     "text": [
      "            T    E    group\n",
      "7    1.040945  0.0      NaN\n",
      "5    1.218000  0.0      NaN\n",
      "9    1.341013  0.0      NaN\n",
      "6    4.030870  0.0      NaN\n",
      "4    4.262561  0.0      NaN\n",
      "3    5.738641  0.0      NaN\n",
      "8    6.022908  0.0      NaN\n",
      "88   7.000000  1.0  control\n",
      "89   7.000000  0.0  control\n",
      "0    7.243079  0.0      NaN\n",
      "1    7.437835  0.0      NaN\n",
      "2    7.709688  0.0      NaN\n",
      "78  17.000000  1.0  control\n"
     ]
    },
    {
     "data": {
      "text/plain": [
       "<Axes: xlabel='timeline'>"
      ]
     },
     "execution_count": 133,
     "metadata": {},
     "output_type": "execute_result"
    },
    {
     "data": {
      "image/png": "[encoded data removed]",
      "text/plain": [
       "<Figure size 640x480 with 1 Axes>"
      ]
     },
     "metadata": {},
     "output_type": "display_data"
    }
   ],
   "source": [
    "import numpy as np\n",
    "\n",
    "sdf = df.query('group == \"control\" and T < 20')\n",
    "# add censoring\n",
    "c_n = 10\n",
    "sdf = pd.concat(\n",
    "    [\n",
    "        sdf,\n",
    "        pd.DataFrame(\n",
    "            {\n",
    "                \"T\": np.random.uniform(0, 8, c_n),\n",
    "                \"E\": np.zeros(c_n),\n",
    "            }\n",
    "        ),\n",
    "    ]\n",
    ").sort_values(\"T\")\n",
    "print(sdf.to_string())\n",
    "\n",
    "kmf.fit(\n",
    "    sdf[\"T\"],\n",
    "    event_observed=sdf[\"E\"],\n",
    "    label=\"control\",\n",
    ")\n",
    "\n",
    "kmf.plot()"
   ]
  },
  {
   "cell_type": "code",
   "execution_count": 82,
   "metadata": {},
   "outputs": [
    {
     "name": "stdout",
     "output_type": "stream",
     "text": [
      "        T  E    group\n",
      "88    7.0  1  control\n",
      "89    7.0  0  control\n",
      "78   17.0  1  control\n",
      "59   32.0  1  control\n",
      "34   33.0  1  control\n",
      "134  38.0  1  control\n",
      "135  38.0  1  control\n"
     ]
    },
    {
     "data": {
      "text/plain": [
       "<Axes: xlabel='timeline'>"
      ]
     },
     "execution_count": 82,
     "metadata": {},
     "output_type": "execute_result"
    },
    {
     "data": {
      "image/png": "[encoded data removed]",
      "text/plain": [
       "<Figure size 640x480 with 1 Axes>"
      ]
     },
     "metadata": {},
     "output_type": "display_data"
    }
   ],
   "source": [
    "sdf = df.query('group == \"control\" and T < 40').sort_values(\"T\")\n",
    "print(sdf.to_string())\n",
    "\n",
    "kmf.fit(\n",
    "    sdf[\"T\"],\n",
    "    event_observed=sdf[\"E\"],\n",
    "    label=\"control\",\n",
    ")\n",
    "\n",
    "kmf.plot()"
   ]
  },
  {
   "cell_type": "code",
   "execution_count": 63,
   "metadata": {},
   "outputs": [
    {
     "name": "stdout",
     "output_type": "stream",
     "text": [
      "        T  E    group\n",
      "88    7.0  1  control\n",
      "89    7.0  0  control\n",
      "78   17.0  1  control\n",
      "59   32.0  1  control\n",
      "34   33.0  1  control\n",
      "134  38.0  1  control\n",
      "135  38.0  1  control\n",
      "92   41.0  1  control\n",
      "93   41.0  1  control\n",
      "94   41.0  1  control\n",
      "90   41.0  1  control\n",
      "96   41.0  1  control\n",
      "91   41.0  1  control\n",
      "95   41.0  1  control\n",
      "143  45.0  1  control\n",
      "142  45.0  1  control\n",
      "141  45.0  1  control\n",
      "140  45.0  1  control\n",
      "139  45.0  1  control\n",
      "138  45.0  1  control\n",
      "137  45.0  1  control\n",
      "136  45.0  1  control\n",
      "145  45.0  1  control\n",
      "144  45.0  0  control\n",
      "103  48.0  1  control\n",
      "102  48.0  1  control\n",
      "101  48.0  1  control\n",
      "99   48.0  1  control\n",
      "98   48.0  1  control\n",
      "97   48.0  1  control\n",
      "104  48.0  1  control\n",
      "100  48.0  1  control\n"
     ]
    },
    {
     "data": {
      "text/plain": [
       "<Axes: xlabel='timeline'>"
      ]
     },
     "execution_count": 63,
     "metadata": {},
     "output_type": "execute_result"
    },
    {
     "data": {
      "image/png": "[encoded data removed]",
      "text/plain": [
       "<Figure size 640x480 with 1 Axes>"
      ]
     },
     "metadata": {},
     "output_type": "display_data"
    }
   ],
   "source": [
    "sdf = df.query('group == \"control\" and T < 50').sort_values(\"T\")\n",
    "print(sdf.to_string())\n",
    "\n",
    "kmf.fit(\n",
    "    sdf[\"T\"],\n",
    "    event_observed=sdf[\"E\"],\n",
    "    label=\"control\",\n",
    ")\n",
    "\n",
    "kmf.plot()"
   ]
  },
  {
   "cell_type": "code",
   "execution_count": 64,
   "metadata": {},
   "outputs": [
    {
     "name": "stdout",
     "output_type": "stream",
     "text": [
      "        T  E    group\n",
      "79   51.0  1  control\n",
      "81   51.0  1  control\n",
      "80   51.0  1  control\n",
      "150  53.0  1  control\n",
      "149  53.0  1  control\n",
      "148  53.0  1  control\n",
      "147  53.0  1  control\n",
      "146  53.0  1  control\n",
      "61   53.0  1  control\n",
      "60   53.0  1  control\n",
      "35   54.0  1  control\n",
      "36   54.0  1  control\n",
      "118  56.0  1  control\n",
      "105  56.0  1  control\n",
      "122  56.0  1  control\n",
      "121  56.0  1  control\n",
      "106  56.0  1  control\n",
      "107  56.0  1  control\n",
      "119  56.0  1  control\n",
      "109  56.0  1  control\n",
      "108  56.0  1  control\n",
      "111  56.0  1  control\n",
      "112  56.0  1  control\n",
      "120  56.0  1  control\n",
      "114  56.0  1  control\n",
      "115  56.0  1  control\n",
      "116  56.0  1  control\n",
      "117  56.0  1  control\n",
      "110  56.0  1  control\n",
      "113  56.0  1  control\n",
      "84   58.0  1  control\n",
      "83   58.0  1  control\n",
      "82   58.0  1  control\n",
      "85   58.0  1  control\n",
      "62   60.0  1  control\n",
      "151  60.0  1  control\n",
      "161  60.0  1  control\n",
      "63   60.0  1  control\n",
      "64   60.0  1  control\n",
      "65   60.0  1  control\n",
      "152  60.0  0  control\n",
      "153  60.0  1  control\n",
      "66   60.0  1  control\n",
      "155  60.0  1  control\n",
      "156  60.0  1  control\n",
      "157  60.0  1  control\n",
      "158  60.0  1  control\n",
      "159  60.0  1  control\n",
      "160  60.0  1  control\n",
      "154  60.0  1  control\n",
      "47   61.0  1  control\n",
      "43   61.0  1  control\n",
      "44   61.0  1  control\n",
      "46   61.0  1  control\n",
      "41   61.0  0  control\n",
      "45   61.0  1  control\n",
      "39   61.0  0  control\n",
      "38   61.0  1  control\n",
      "42   61.0  1  control\n",
      "37   61.0  1  control\n",
      "40   61.0  1  control\n",
      "131  63.0  1  control\n",
      "130  63.0  1  control\n",
      "129  63.0  1  control\n",
      "128  63.0  1  control\n",
      "127  63.0  1  control\n",
      "126  63.0  1  control\n",
      "125  63.0  1  control\n",
      "124  63.0  1  control\n",
      "123  63.0  1  control\n",
      "162  66.0  1  control\n",
      "86   66.0  1  control\n",
      "87   66.0  1  control\n",
      "70   68.0  1  control\n",
      "71   68.0  0  control\n",
      "72   68.0  1  control\n",
      "73   68.0  1  control\n",
      "74   68.0  1  control\n",
      "75   68.0  1  control\n",
      "76   68.0  1  control\n",
      "68   68.0  1  control\n",
      "67   68.0  1  control\n",
      "69   68.0  1  control\n",
      "48   69.0  1  control\n",
      "56   69.0  1  control\n",
      "55   69.0  1  control\n",
      "133  69.0  1  control\n",
      "132  69.0  1  control\n",
      "54   69.0  0  control\n",
      "53   69.0  1  control\n",
      "52   69.0  1  control\n",
      "51   69.0  1  control\n",
      "50   69.0  1  control\n",
      "49   69.0  1  control\n",
      "57   69.0  1  control\n",
      "58   69.0  1  control\n",
      "77   75.0  1  control\n"
     ]
    },
    {
     "data": {
      "text/plain": [
       "<Axes: xlabel='timeline'>"
      ]
     },
     "execution_count": 64,
     "metadata": {},
     "output_type": "execute_result"
    },
    {
     "data": {
      "image/png": "[encoded data removed]",
      "text/plain": [
       "<Figure size 640x480 with 1 Axes>"
      ]
     },
     "metadata": {},
     "output_type": "display_data"
    }
   ],
   "source": [
    "sdf = df.query('group == \"control\" and T >= 50').sort_values(\"T\")\n",
    "print(sdf.to_string())\n",
    "\n",
    "kmf.fit(\n",
    "    sdf[\"T\"],\n",
    "    event_observed=sdf[\"E\"],\n",
    "    label=\"control\",\n",
    ")\n",
    "\n",
    "kmf.plot()"
   ]
  },
  {
   "cell_type": "code",
   "execution_count": 66,
   "metadata": {},
   "outputs": [
    {
     "data": {
      "text/plain": [
       "<Axes: xlabel='timeline'>"
      ]
     },
     "execution_count": 66,
     "metadata": {},
     "output_type": "execute_result"
    },
    {
     "data": {
      "image/png": "[encoded data removed]",
      "text/plain": [
       "<Figure size 640x480 with 1 Axes>"
      ]
     },
     "metadata": {},
     "output_type": "display_data"
    }
   ],
   "source": [
    "sdf = df.query('group == \"control\"').sort_values(\"T\")\n",
    "\n",
    "kmf.fit(\n",
    "    sdf[\"T\"],\n",
    "    event_observed=sdf[\"E\"],\n",
    "    label=\"control\",\n",
    ")\n",
    "\n",
    "kmf.plot()"
   ]
  },
  {
   "cell_type": "code",
   "execution_count": null,
   "metadata": {},
   "outputs": [],
   "source": []
  },
  {
   "cell_type": "code",
   "execution_count": null,
   "metadata": {},
   "outputs": [],
   "source": []
  }
 ],
 "metadata": {
  "kernelspec": {
   "display_name": "Python 3",
   "language": "python",
   "name": "python3"
  },
  "language_info": {
   "codemirror_mode": {
    "name": "ipython",
    "version": 3
   },
   "file_extension": ".py",
   "mimetype": "text/x-python",
   "name": "python",
   "nbconvert_exporter": "python",
   "pygments_lexer": "ipython3",
   "version": "3.12.1"
  }
 },
 "nbformat": 4,
 "nbformat_minor": 2
}
