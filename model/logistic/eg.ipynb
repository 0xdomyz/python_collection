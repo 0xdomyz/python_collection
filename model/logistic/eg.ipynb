{
 "cells": [
  {
   "cell_type": "code",
   "execution_count": 2,
   "id": "f1b9e3f2",
   "metadata": {},
   "outputs": [],
   "source": [
    "import pandas as pd\n",
    "import numpy as np\n",
    "import statsmodels.api as sm\n",
    "from sklearn.metrics import roc_auc_score, roc_curve\n",
    "import matplotlib.pyplot as plt"
   ]
  },
  {
   "cell_type": "code",
   "execution_count": 3,
   "id": "4f1b41b7",
   "metadata": {},
   "outputs": [
    {
     "data": {
      "text/plain": [
       "(891, 15)"
      ]
     },
     "execution_count": 3,
     "metadata": {},
     "output_type": "execute_result"
    }
   ],
   "source": [
    "df = pd.read_csv('titanic.csv')\n",
    "df.shape"
   ]
  },
  {
   "cell_type": "code",
   "execution_count": 4,
   "id": "8db1de6c",
   "metadata": {},
   "outputs": [
    {
     "name": "stdout",
     "output_type": "stream",
     "text": [
      "                       0\n",
      "survived               0\n",
      "pclass                 3\n",
      "sex                 male\n",
      "age                 22.0\n",
      "sibsp                  1\n",
      "parch                  0\n",
      "fare                7.25\n",
      "embarked               S\n",
      "class              Third\n",
      "who                  man\n",
      "adult_male          True\n",
      "deck                 NaN\n",
      "embark_town  Southampton\n",
      "alive                 no\n",
      "alone              False\n"
     ]
    }
   ],
   "source": [
    "print(df.head(1).T.to_string())"
   ]
  },
  {
   "cell_type": "code",
   "execution_count": null,
   "id": "618eb02f",
   "metadata": {},
   "outputs": [
    {
     "name": "stdout",
     "output_type": "stream",
     "text": [
      "IV: 1.4863\n"
     ]
    },
    {
     "data": {
      "application/vnd.microsoft.datawrangler.viewer.v0+json": {
       "columns": [
        {
         "name": "who",
         "rawType": "object",
         "type": "string"
        },
        {
         "name": "total",
         "rawType": "int64",
         "type": "integer"
        },
        {
         "name": "bad",
         "rawType": "int64",
         "type": "integer"
        },
        {
         "name": "good",
         "rawType": "int64",
         "type": "integer"
        },
        {
         "name": "woe",
         "rawType": "float64",
         "type": "float"
        },
        {
         "name": "iv",
         "rawType": "float64",
         "type": "float"
        }
       ],
       "ref": "5422977d-8f42-4ba3-8e88-68ef51a1dcad",
       "rows": [
        [
         "child",
         "83",
         "49",
         "34",
         "-0.8387383105804089",
         "0.06822638831631454"
        ],
        [
         "man",
         "537",
         "88",
         "449",
         "1.1563957051774396",
         "0.6482068534342335"
        ],
        [
         "woman",
         "271",
         "205",
         "66",
         "-1.6066362917029773",
         "0.7698946892989486"
        ]
       ],
       "shape": {
        "columns": 5,
        "rows": 3
       }
      },
      "text/html": [
       "<div>\n",
       "<style scoped>\n",
       "    .dataframe tbody tr th:only-of-type {\n",
       "        vertical-align: middle;\n",
       "    }\n",
       "\n",
       "    .dataframe tbody tr th {\n",
       "        vertical-align: top;\n",
       "    }\n",
       "\n",
       "    .dataframe thead th {\n",
       "        text-align: right;\n",
       "    }\n",
       "</style>\n",
       "<table border=\"1\" class=\"dataframe\">\n",
       "  <thead>\n",
       "    <tr style=\"text-align: right;\">\n",
       "      <th></th>\n",
       "      <th>total</th>\n",
       "      <th>bad</th>\n",
       "      <th>good</th>\n",
       "      <th>woe</th>\n",
       "      <th>iv</th>\n",
       "    </tr>\n",
       "    <tr>\n",
       "      <th>who</th>\n",
       "      <th></th>\n",
       "      <th></th>\n",
       "      <th></th>\n",
       "      <th></th>\n",
       "      <th></th>\n",
       "    </tr>\n",
       "  </thead>\n",
       "  <tbody>\n",
       "    <tr>\n",
       "      <th>child</th>\n",
       "      <td>83</td>\n",
       "      <td>49</td>\n",
       "      <td>34</td>\n",
       "      <td>-0.838738</td>\n",
       "      <td>0.068226</td>\n",
       "    </tr>\n",
       "    <tr>\n",
       "      <th>man</th>\n",
       "      <td>537</td>\n",
       "      <td>88</td>\n",
       "      <td>449</td>\n",
       "      <td>1.156396</td>\n",
       "      <td>0.648207</td>\n",
       "    </tr>\n",
       "    <tr>\n",
       "      <th>woman</th>\n",
       "      <td>271</td>\n",
       "      <td>205</td>\n",
       "      <td>66</td>\n",
       "      <td>-1.606636</td>\n",
       "      <td>0.769895</td>\n",
       "    </tr>\n",
       "  </tbody>\n",
       "</table>\n",
       "</div>"
      ],
      "text/plain": [
       "       total  bad  good       woe        iv\n",
       "who                                        \n",
       "child     83   49    34 -0.838738  0.068226\n",
       "man      537   88   449  1.156396  0.648207\n",
       "woman    271  205    66 -1.606636  0.769895"
      ]
     },
     "execution_count": 5,
     "metadata": {},
     "output_type": "execute_result"
    }
   ],
   "source": [
    "# Step 3: Calculate WoE and IV\n",
    "def woe_iv(df, feature, target):\n",
    "    grouped = df.groupby(feature, observed=False)[target].agg([\"count\", \"sum\"])\n",
    "    grouped.columns = [\"total\", \"bad\"]\n",
    "    grouped[\"good\"] = grouped[\"total\"] - grouped[\"bad\"]\n",
    "    dist_good = grouped[\"good\"] / grouped[\"good\"].sum()\n",
    "    dist_bad = grouped[\"bad\"] / grouped[\"bad\"].sum()\n",
    "    grouped[\"woe\"] = np.log((dist_good + 1e-6) / (dist_bad + 1e-6))  # smoothing\n",
    "    grouped[\"iv\"] = (dist_good - dist_bad) * grouped[\"woe\"]\n",
    "    iv = grouped[\"iv\"].sum()\n",
    "    return grouped[[\"woe\"]], iv, grouped\n"
   ]
  },
  {
   "cell_type": "code",
   "execution_count": 10,
   "id": "5a9c23f3",
   "metadata": {},
   "outputs": [
    {
     "name": "stdout",
     "output_type": "stream",
     "text": [
      "who IV: 1.4863\n",
      "class IV: 0.5009\n"
     ]
    }
   ],
   "source": [
    "col = 'who'\n",
    "woe_table_who, iv, grouped = woe_iv(df, col, \"survived\")\n",
    "print(f\"{col} IV: {iv:.4f}\")\n",
    "\n",
    "col = 'class'\n",
    "woe_table2_class, iv, grouped = woe_iv(df, col, \"survived\")\n",
    "print(f\"{col} IV: {iv:.4f}\")"
   ]
  },
  {
   "cell_type": "code",
   "execution_count": 11,
   "id": "5f0cbc2b",
   "metadata": {},
   "outputs": [
    {
     "name": "stdout",
     "output_type": "stream",
     "text": [
      "   survived  pclass     sex   age  sibsp  parch     fare embarked  class    who  adult_male deck  embark_town alive  alone   who_woe  class_woe\n",
      "0         0       3    male  22.0      1      0   7.2500        S  Third    man        True  NaN  Southampton    no  False  1.156396   0.666481\n",
      "1         1       1  female  38.0      1      0  71.2833        C  First  woman       False    C    Cherbourg   yes  False -1.606636  -1.003912\n",
      "2         1       3  female  26.0      0      0   7.9250        S  Third  woman       False  NaN  Southampton   yes   True -1.606636   0.666481\n",
      "3         1       1  female  35.0      1      0  53.1000        S  First  woman       False    C  Southampton   yes  False -1.606636  -1.003912\n",
      "4         0       3    male  35.0      0      0   8.0500        S  Third    man        True  NaN  Southampton    no   True  1.156396   0.666481\n"
     ]
    }
   ],
   "source": [
    "df = df.merge(woe_table_who, left_on=\"who\", right_index=True)\n",
    "df.rename(columns={\"woe\": \"who_woe\"}, inplace=True)\n",
    "\n",
    "df = df.merge(woe_table2_class, left_on=\"class\", right_index=True)\n",
    "df.rename(columns={\"woe\": \"class_woe\"}, inplace=True)\n",
    "\n",
    "print(df.head().to_string())"
   ]
  },
  {
   "cell_type": "code",
   "execution_count": 12,
   "id": "5589bc1a",
   "metadata": {},
   "outputs": [
    {
     "name": "stdout",
     "output_type": "stream",
     "text": [
      "                           Logit Regression Results                           \n",
      "==============================================================================\n",
      "Dep. Variable:               survived   No. Observations:                  891\n",
      "Model:                          Logit   Df Residuals:                      888\n",
      "Method:                           MLE   Df Model:                            2\n",
      "Date:                Tue, 19 Aug 2025   Pseudo R-squ.:                  0.3301\n",
      "Time:                        23:30:06   Log-Likelihood:                -397.48\n",
      "converged:                       True   LL-Null:                       -593.33\n",
      "Covariance Type:            nonrobust   LLR p-value:                 8.814e-86\n",
      "==============================================================================\n",
      "                 coef    std err          z      P>|z|      [0.025      0.975]\n",
      "------------------------------------------------------------------------------\n",
      "const         -0.4686      0.089     -5.279      0.000      -0.643      -0.295\n",
      "who_woe       -1.0817      0.074    -14.683      0.000      -1.226      -0.937\n",
      "class_woe     -1.2047      0.130     -9.237      0.000      -1.460      -0.949\n",
      "==============================================================================\n"
     ]
    }
   ],
   "source": [
    "# Step 5: Logistic regression\n",
    "X = sm.add_constant(df[[\"who_woe\", \"class_woe\"]])\n",
    "logit_model = sm.Logit(df[\"survived\"], X)\n",
    "result = logit_model.fit(disp=0)\n",
    "print(result.summary())"
   ]
  },
  {
   "cell_type": "code",
   "execution_count": 14,
   "id": "b10b2698",
   "metadata": {},
   "outputs": [
    {
     "name": "stdout",
     "output_type": "stream",
     "text": [
      "Gini: 0.7024\n"
     ]
    },
    {
     "data": {
      "image/png": "[encoded data removed]",
      "text/plain": [
       "<Figure size 640x480 with 1 Axes>"
      ]
     },
     "metadata": {},
     "output_type": "display_data"
    }
   ],
   "source": [
    "# Step 6: ROC + Gini\n",
    "probs = result.predict(X)\n",
    "\n",
    "auc = roc_auc_score(df[\"survived\"], probs)\n",
    "gini = 2 * auc - 1\n",
    "print(\"Gini: {:.4f}\".format(gini))\n",
    "\n",
    "fpr, tpr, _ = roc_curve(df[\"survived\"], probs)\n",
    "plt.plot(fpr, tpr, label=\"ROC\")\n",
    "plt.plot([0, 1], [0, 1], \"k--\")\n",
    "plt.title(\"ROC Curve (WoE Binned)\")\n",
    "plt.xlabel(\"FPR\")\n",
    "plt.ylabel(\"TPR\")\n",
    "plt.legend()\n",
    "plt.grid()\n",
    "plt.show()"
   ]
  },
  {
   "cell_type": "code",
   "execution_count": null,
   "id": "0f252847",
   "metadata": {},
   "outputs": [],
   "source": []
  },
  {
   "cell_type": "code",
   "execution_count": null,
   "id": "3b307610",
   "metadata": {},
   "outputs": [],
   "source": []
  }
 ],
 "metadata": {
  "kernelspec": {
   "display_name": "Python 3",
   "language": "python",
   "name": "python3"
  },
  "language_info": {
   "codemirror_mode": {
    "name": "ipython",
    "version": 3
   },
   "file_extension": ".py",
   "mimetype": "text/x-python",
   "name": "python",
   "nbconvert_exporter": "python",
   "pygments_lexer": "ipython3",
   "version": "3.13.2"
  }
 },
 "nbformat": 4,
 "nbformat_minor": 5
}
