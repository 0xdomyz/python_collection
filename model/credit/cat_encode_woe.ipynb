{
 "cells": [
  {
   "cell_type": "code",
   "execution_count": 2,
   "metadata": {},
   "outputs": [
    {
     "name": "stdout",
     "output_type": "stream",
     "text": [
      "<class 'pandas.core.frame.DataFrame'>\n",
      "RangeIndex: 1460 entries, 0 to 1459\n",
      "Data columns (total 7 columns):\n",
      " #   Column       Non-Null Count  Dtype  \n",
      "---  ------       --------------  -----  \n",
      " 0   Id           1460 non-null   int64  \n",
      " 1   MSSubClass   1460 non-null   int64  \n",
      " 2   MSZoning     1460 non-null   object \n",
      " 3   LotFrontage  1201 non-null   float64\n",
      " 4   YearBuilt    1460 non-null   int64  \n",
      " 5   Heating      1460 non-null   float64\n",
      " 6   CentralAir   1460 non-null   float64\n",
      "dtypes: float64(3), int64(3), object(1)\n",
      "memory usage: 80.0+ KB\n",
      "None\n"
     ]
    }
   ],
   "source": [
    "from category_encoders import *\n",
    "import pandas as pd\n",
    "from sklearn.datasets import fetch_openml\n",
    "bunch = fetch_openml(name=\"house_prices\", as_frame=True)\n",
    "display_cols = [\"Id\", \"MSSubClass\", \"MSZoning\", \"LotFrontage\", \"YearBuilt\", \"Heating\", \"CentralAir\"]\n",
    "y = bunch.target > 200000\n",
    "X = pd.DataFrame(bunch.data, columns=bunch.feature_names)[display_cols]\n",
    "enc = WOEEncoder(cols=['CentralAir', 'Heating']).fit(X, y)\n",
    "numeric_dataset = enc.transform(X)\n",
    "print(numeric_dataset.info())"
   ]
  },
  {
   "cell_type": "code",
   "execution_count": null,
   "metadata": {},
   "outputs": [],
   "source": []
  },
  {
   "cell_type": "code",
   "execution_count": null,
   "metadata": {},
   "outputs": [],
   "source": []
  }
 ],
 "metadata": {
  "kernelspec": {
   "display_name": "Python 3",
   "language": "python",
   "name": "python3"
  },
  "language_info": {
   "codemirror_mode": {
    "name": "ipython",
    "version": 3
   },
   "file_extension": ".py",
   "mimetype": "text/x-python",
   "name": "python",
   "nbconvert_exporter": "python",
   "pygments_lexer": "ipython3",
   "version": "3.12.1"
  }
 },
 "nbformat": 4,
 "nbformat_minor": 2
}
