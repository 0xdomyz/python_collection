{
 "cells": [
  {
   "cell_type": "code",
   "execution_count": null,
   "metadata": {},
   "outputs": [],
   "source": [
    "# look at a page\n",
    "import pypdf\n",
    "\n",
    "pdf = \"example.pdf\"\n",
    "\n",
    "with open(pdf, 'rb') as pdf_file:\n",
    "    pdf_reader = pypdf.PdfReader(pdf_file)\n",
    "    page = pdf_reader.pages[3]\n",
    "    text = page.extract_text()\n",
    "\n",
    "print(text)"
   ]
  }
 ],
 "metadata": {
  "language_info": {
   "name": "python"
  }
 },
 "nbformat": 4,
 "nbformat_minor": 2
}
