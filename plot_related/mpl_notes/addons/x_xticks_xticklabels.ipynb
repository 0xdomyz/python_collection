{
 "cells": [
  {
   "cell_type": "code",
   "execution_count": null,
   "id": "5664736b",
   "metadata": {},
   "outputs": [],
   "source": [
    "import numpy as np\n",
    "import pandas as pd\n",
    "import matplotlib.pyplot as plt\n",
    "import matplotlib as mpl"
   ]
  },
  {
   "cell_type": "markdown",
   "id": "61c1561f",
   "metadata": {},
   "source": [
    "### example"
   ]
  },
  {
   "cell_type": "code",
   "execution_count": null,
   "id": "4c25bb7e",
   "metadata": {},
   "outputs": [],
   "source": [
    "fig, ax = plt.subplots(figsize=(12, 6))\n",
    "\n",
    "# x: Use numeric positions for clean spacing\n",
    "x_positions = range(len(pdf))\n",
    "ax.bar(x_positions, pdf[\"survival_rate_man\"])\n",
    "\n",
    "# x_ticks: Set where ticks appear (at each bar)\n",
    "ax.set_xticks(x_positions)\n",
    "\n",
    "# x_ticklabels: Set what text shows at each tick\n",
    "x_labels = pdf[\"age_bin\"].astype(str)\n",
    "ax.set_xticklabels(x_labels, rotation=45, ha=\"right\")"
   ]
  },
  {
   "cell_type": "code",
   "execution_count": null,
   "id": "6b02af1b",
   "metadata": {},
   "outputs": [],
   "source": [
    "fig, ax = plt.subplots(1, 1, figsize=(12, 6))"
   ]
  },
  {
   "cell_type": "markdown",
   "id": "81696beb",
   "metadata": {},
   "source": [
    "### using the simplification ability of the plot funcs"
   ]
  },
  {
   "cell_type": "code",
   "execution_count": null,
   "id": "62027478",
   "metadata": {},
   "outputs": [],
   "source": []
  },
  {
   "cell_type": "markdown",
   "id": "622ef340",
   "metadata": {},
   "source": [
    "### ticks, ticklabels, tickparams"
   ]
  },
  {
   "cell_type": "code",
   "execution_count": null,
   "id": "78ed5c2d",
   "metadata": {},
   "outputs": [],
   "source": [
    "# Example: Using categorical data directly\n",
    "ax.bar(pdf[\"age_bin\"], pdf[\"survival_rate_man\"])  # x = age_bin intervals\n",
    "\n",
    "# Example: Using numeric positions\n",
    "ax.bar(range(len(pdf)), pdf[\"survival_rate_man\"])  # x = [0, 1, 2, 3, ...]"
   ]
  },
  {
   "cell_type": "code",
   "execution_count": null,
   "id": "b34da6fc",
   "metadata": {},
   "outputs": [],
   "source": [
    "# Set tick positions manually\n",
    "ax.set_xticks([0, 2, 4, 6, 8])  # Only show ticks at these positions\n",
    "ax.set_xticks(range(len(pdf)))   # Tick at each data point"
   ]
  },
  {
   "cell_type": "code",
   "execution_count": null,
   "id": "15a7d0b0",
   "metadata": {},
   "outputs": [],
   "source": [
    "# Set custom labels for the ticks\n",
    "x_labels = pdf[\"age_bin\"].astype(str)\n",
    "ax.set_xticklabels(x_labels, rotation=45, ha=\"right\")"
   ]
  },
  {
   "cell_type": "code",
   "execution_count": null,
   "id": "45196495",
   "metadata": {},
   "outputs": [],
   "source": []
  },
  {
   "cell_type": "code",
   "execution_count": null,
   "id": "bf505565",
   "metadata": {},
   "outputs": [],
   "source": [
    "ax.set_yticks(yticks)\n",
    "ax.set_yticks(np.arange(-0.5, len(yticks), 1), minor=True)\n",
    "ax.set_yticklabels(yticklabels)\n",
    "ax.set_ylabel(ylabel)\n",
    "\n",
    "ax.set_xticks(xticks)\n",
    "ax.set_xticks(np.arange(-0.5, len(xticks), 1), minor=True)\n",
    "ax.set_xticklabels(xticklabels)\n",
    "ax.set_xlabel(xlabel)"
   ]
  },
  {
   "cell_type": "code",
   "execution_count": null,
   "id": "77a9e307",
   "metadata": {},
   "outputs": [],
   "source": [
    "x = pdf[\"age_bin\"].astype(str)\n",
    "ax.set_xticks(range(len(x)))\n",
    "ax.set_xticklabels(x, rotation=45, ha=\"right\")"
   ]
  },
  {
   "cell_type": "code",
   "execution_count": null,
   "id": "bd4a976e",
   "metadata": {},
   "outputs": [],
   "source": [
    "ax.yaxis.set_major_locator(mpl.ticker.MaxNLocator(nbins=5))\n",
    "ax.yaxis.set_major_formatter(mpl.ticker.PercentFormatter(1.0, decimals=0))"
   ]
  },
  {
   "cell_type": "code",
   "execution_count": null,
   "id": "f4051ef1",
   "metadata": {},
   "outputs": [],
   "source": []
  }
 ],
 "metadata": {
  "language_info": {
   "name": "python"
  }
 },
 "nbformat": 4,
 "nbformat_minor": 5
}
