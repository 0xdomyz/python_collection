{
 "cells": [
  {
   "cell_type": "code",
   "execution_count": null,
   "id": "70f94865",
   "metadata": {},
   "outputs": [],
   "source": [
    "import pandas as pd\n",
    "import numpy as np"
   ]
  },
  {
   "cell_type": "code",
   "execution_count": null,
   "id": "85ca9344",
   "metadata": {},
   "outputs": [],
   "source": [
    "# axis formatting\n",
    "ax.set_xlabel(\"Date\")\n",
    "ax.xaxis.set_major_locator(mpl.dates.YearLocator())\n",
    "ax.xaxis.set_major_formatter(mpl.dates.DateFormatter(\"%Y-%m-%d\"))\n",
    "ax.xaxis.set_minor_locator(mpl.ticker.AutoMinorLocator(2))\n",
    "ax.tick_params(\"x\", rotation=45)\n",
    "\n",
    "ax.set_ylabel(\"Counts\")\n",
    "ax.yaxis.set_major_locator(mpl.ticker.MultipleLocator(100))\n",
    "ax.yaxis.set_minor_locator(mpl.ticker.AutoMinorLocator(2))\n",
    "\n",
    "fig"
   ]
  },
  {
   "cell_type": "code",
   "execution_count": null,
   "id": "97781e9a",
   "metadata": {},
   "outputs": [],
   "source": [
    "def bin_cat_to_pct_labels(cats: pd.Index) -> list[str]:\n",
    "    \"\"\"cat is [)\"\"\"\n",
    "    labels = []\n",
    "    for category in cats:\n",
    "        if pd.isna(category):\n",
    "            labels.append(\"NaN\")\n",
    "        else:\n",
    "            left = category.left\n",
    "            right = category.right\n",
    "            mid = (left + right) / 2\n",
    "            labels.append(f\"[{left:.0%} - {right:.0%})\")\n",
    "    return labels\n",
    "\n",
    "\n",
    "def bin_cat_to_mid_labels(cats: pd.Index) -> list[str]:\n",
    "    labels = []\n",
    "    for category in cats:\n",
    "        if pd.isna(category):\n",
    "            labels.append(\"NaN\")\n",
    "        else:\n",
    "            left = category.left\n",
    "            right = category.right\n",
    "            mid = (left + right) / 2\n",
    "            labels.append(f\"~{mid:.0%}\")\n",
    "    return labels\n"
   ]
  }
 ],
 "metadata": {
  "language_info": {
   "name": "python"
  }
 },
 "nbformat": 4,
 "nbformat_minor": 5
}
