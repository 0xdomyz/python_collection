{
 "cells": [
  {
   "cell_type": "code",
   "execution_count": null,
   "id": "5664736b",
   "metadata": {},
   "outputs": [],
   "source": [
    "import numpy as np\n",
    "import pandas as pd\n",
    "import matplotlib.pyplot as plt\n",
    "import matplotlib as mpl"
   ]
  },
  {
   "cell_type": "markdown",
   "id": "61c1561f",
   "metadata": {},
   "source": [
    "### example"
   ]
  },
  {
   "cell_type": "code",
   "execution_count": null,
   "id": "4c25bb7e",
   "metadata": {},
   "outputs": [],
   "source": []
  },
  {
   "cell_type": "code",
   "execution_count": null,
   "id": "6b02af1b",
   "metadata": {},
   "outputs": [],
   "source": [
    "fig, ax = plt.subplots(1, 1, figsize=(12, 6))"
   ]
  },
  {
   "cell_type": "markdown",
   "id": "9ba3c4f6",
   "metadata": {},
   "source": [
    "### title, legend, grid, spines, layout\n"
   ]
  },
  {
   "cell_type": "code",
   "execution_count": null,
   "id": "d4a5ea86",
   "metadata": {},
   "outputs": [],
   "source": [
    "ax.set_title(f\"Passenger by time\", fontsize=15, fontweight=\"bold\")\n",
    "ax.legend(loc=\"upper left\", fontsize=10, frameon=False)\n",
    "ax.grid(True, linestyle=\"--\", alpha=0.5)\n",
    "ax.spines[\"top\"].set_visible(False)\n",
    "ax.spines[\"right\"].set_visible(False)\n",
    "plt.tight_layout()\n",
    "fig"
   ]
  },
  {
   "cell_type": "code",
   "execution_count": null,
   "id": "f4051ef1",
   "metadata": {},
   "outputs": [],
   "source": []
  }
 ],
 "metadata": {
  "language_info": {
   "name": "python"
  }
 },
 "nbformat": 4,
 "nbformat_minor": 5
}
