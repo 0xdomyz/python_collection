{
 "cells": [
  {
   "cell_type": "markdown",
   "id": "ac4e8ba2",
   "metadata": {},
   "source": [
    "### libs"
   ]
  },
  {
   "cell_type": "code",
   "execution_count": 1,
   "id": "59e6785c",
   "metadata": {},
   "outputs": [],
   "source": [
    "import numpy as np\n",
    "import pandas as pd\n",
    "import matplotlib.pyplot as plt\n",
    "import matplotlib as mpl"
   ]
  },
  {
   "cell_type": "code",
   "execution_count": null,
   "id": "457d8568",
   "metadata": {},
   "outputs": [],
   "source": [
    "def calc_7_numbers(dat: pd.Series) -> list[float]:\n",
    "    qtls = dat.quantile([0.25, 0.5, 0.75]).to_list()\n",
    "    icr_1_point_5 = (qtls[2] - qtls[0]) * 1.5\n",
    "    fivnum = [\n",
    "        dat.min(),\n",
    "        max(qtls[0] - icr_1_point_5, dat.min()),\n",
    "        qtls[0],\n",
    "        qtls[1],\n",
    "        qtls[2],\n",
    "        min(qtls[2] + icr_1_point_5, dat.max()),\n",
    "        dat.max(),\n",
    "    ]\n",
    "    return fivnum\n",
    "\n",
    "\n",
    "def even_width_bins(dat: pd.Series, nbins: int) -> list[float]:\n",
    "    return np.arange(\n",
    "        dat.min(),\n",
    "        dat.max() + (dat.max() - dat.min()) / nbins,\n",
    "        (dat.max() - dat.min()) / nbins,\n",
    "    )\n"
   ]
  },
  {
   "cell_type": "markdown",
   "id": "a00dca2e",
   "metadata": {},
   "source": [
    "### set up data"
   ]
  },
  {
   "cell_type": "code",
   "execution_count": null,
   "id": "6ebce1fe",
   "metadata": {},
   "outputs": [],
   "source": []
  },
  {
   "cell_type": "markdown",
   "id": "f5dc12ee",
   "metadata": {},
   "source": [
    "### content"
   ]
  },
  {
   "cell_type": "code",
   "execution_count": null,
   "id": "3194040f",
   "metadata": {},
   "outputs": [],
   "source": [
    "dat = hist[\"r_12m\"].dropna()\n",
    "fivnum = calc_7_numbers(dat)\n",
    "fivnum\n"
   ]
  },
  {
   "cell_type": "code",
   "execution_count": null,
   "id": "27fb0443",
   "metadata": {},
   "outputs": [],
   "source": [
    "fig, ax = plt.subplots(1, 1, figsize=(12, 6))\n",
    "dat.plot(kind=\"box\", vert=False, ax=ax)\n",
    "for n in fivnum:\n",
    "    ax.axvline(n, color=\"red\", linestyle=\"--\", alpha=0.5)"
   ]
  },
  {
   "cell_type": "code",
   "execution_count": null,
   "id": "e490090b",
   "metadata": {},
   "outputs": [],
   "source": []
  }
 ],
 "metadata": {
  "kernelspec": {
   "display_name": "Python 3",
   "language": "python",
   "name": "python3"
  },
  "language_info": {
   "codemirror_mode": {
    "name": "ipython",
    "version": 3
   },
   "file_extension": ".py",
   "mimetype": "text/x-python",
   "name": "python",
   "nbconvert_exporter": "python",
   "pygments_lexer": "ipython3",
   "version": "3.13.2"
  }
 },
 "nbformat": 4,
 "nbformat_minor": 5
}
