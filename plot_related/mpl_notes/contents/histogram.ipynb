{
 "cells": [
  {
   "cell_type": "markdown",
   "metadata": {},
   "source": [
    "### libs"
   ]
  },
  {
   "cell_type": "code",
   "execution_count": 8,
   "metadata": {},
   "outputs": [],
   "source": [
    "import matplotlib.pyplot as plt\n",
    "import numpy as np\n",
    "import pandas as pd"
   ]
  },
  {
   "cell_type": "code",
   "execution_count": 9,
   "metadata": {},
   "outputs": [],
   "source": [
    "def calc_freq_signal(sdf: pd.DataFrame, col) -> pd.DataFrame:\n",
    "    sdf = sdf.groupby([col], dropna=False, observed=False).agg(\n",
    "        **{\n",
    "            \"n\": (col, \"size\"),\n",
    "        }\n",
    "    )\n",
    "    sdf[f\"{col}_freq\"] = sdf[\"n\"] / sdf[\"n\"].sum()\n",
    "    return sdf\n"
   ]
  },
  {
   "cell_type": "markdown",
   "metadata": {},
   "source": [
    "### data"
   ]
  },
  {
   "cell_type": "code",
   "execution_count": 10,
   "metadata": {},
   "outputs": [
    {
     "name": "stdout",
     "output_type": "stream",
     "text": [
      "hist.shape = (258, 2)\n",
      "                            close  r_12m\n",
      "Date                                    \n",
      "2000-09-01 00:00:00-04:00  1454.0    NaN\n",
      "2000-11-01 00:00:00-05:00  1321.0    NaN\n",
      "2000-12-01 00:00:00-05:00  1327.0    NaN\n",
      "2001-01-01 00:00:00-05:00  1373.5    NaN\n",
      "2001-02-01 00:00:00-05:00  1242.0    NaN\n"
     ]
    }
   ],
   "source": [
    "import yfinance as yf\n",
    "\n",
    "asset = \"ES=F\"\n",
    "tk = yf.Ticker(asset)\n",
    "hist = tk.history(period=\"max\", interval=\"1mo\", auto_adjust=False)[\n",
    "    [\"Close\"]\n",
    "]  # [['Open', 'High', 'Low', 'Close', 'Volume']]\n",
    "hist.columns = [c.lower() for c in hist.columns]\n",
    "hist[\"r_12m\"] = hist[\"close\"].pct_change(12)\n",
    "\n",
    "print(f\"{hist.shape = }\")\n",
    "print(hist.head().to_string())"
   ]
  },
  {
   "cell_type": "markdown",
   "metadata": {},
   "source": [
    "### content"
   ]
  },
  {
   "cell_type": "code",
   "execution_count": 15,
   "metadata": {},
   "outputs": [
    {
     "data": {
      "application/vnd.microsoft.datawrangler.viewer.v0+json": {
       "columns": [
        {
         "name": "r_12m_binned",
         "rawType": "category",
         "type": "unknown"
        },
        {
         "name": "n",
         "rawType": "int64",
         "type": "integer"
        },
        {
         "name": "r_12m_binned_freq",
         "rawType": "float64",
         "type": "float"
        }
       ],
       "ref": "05b416fb-b064-4809-9926-d1902d4b00dc",
       "rows": [
        [
         "[-0.5, -0.4)",
         "2",
         "0.008130081300813009"
        ],
        [
         "[-0.4, -0.3)",
         "5",
         "0.02032520325203252"
        ],
        [
         "[-0.3, -0.2)",
         "9",
         "0.036585365853658534"
        ],
        [
         "[-0.2, -0.1)",
         "17",
         "0.06910569105691057"
        ],
        [
         "[-0.1, 0.0)",
         "22",
         "0.08943089430894309"
        ],
        [
         "[0.0, 0.1)",
         "53",
         "0.21544715447154472"
        ],
        [
         "[0.1, 0.2)",
         "68",
         "0.2764227642276423"
        ],
        [
         "[0.2, 0.3)",
         "52",
         "0.21138211382113822"
        ],
        [
         "[0.3, 0.4)",
         "12",
         "0.04878048780487805"
        ],
        [
         "[0.4, 0.5)",
         "6",
         "0.024390243902439025"
        ]
       ],
       "shape": {
        "columns": 2,
        "rows": 10
       }
      },
      "text/html": [
       "<div>\n",
       "<style scoped>\n",
       "    .dataframe tbody tr th:only-of-type {\n",
       "        vertical-align: middle;\n",
       "    }\n",
       "\n",
       "    .dataframe tbody tr th {\n",
       "        vertical-align: top;\n",
       "    }\n",
       "\n",
       "    .dataframe thead th {\n",
       "        text-align: right;\n",
       "    }\n",
       "</style>\n",
       "<table border=\"1\" class=\"dataframe\">\n",
       "  <thead>\n",
       "    <tr style=\"text-align: right;\">\n",
       "      <th></th>\n",
       "      <th>n</th>\n",
       "      <th>r_12m_binned_freq</th>\n",
       "    </tr>\n",
       "    <tr>\n",
       "      <th>r_12m_binned</th>\n",
       "      <th></th>\n",
       "      <th></th>\n",
       "    </tr>\n",
       "  </thead>\n",
       "  <tbody>\n",
       "    <tr>\n",
       "      <th>[-0.5, -0.4)</th>\n",
       "      <td>2</td>\n",
       "      <td>0.008130</td>\n",
       "    </tr>\n",
       "    <tr>\n",
       "      <th>[-0.4, -0.3)</th>\n",
       "      <td>5</td>\n",
       "      <td>0.020325</td>\n",
       "    </tr>\n",
       "    <tr>\n",
       "      <th>[-0.3, -0.2)</th>\n",
       "      <td>9</td>\n",
       "      <td>0.036585</td>\n",
       "    </tr>\n",
       "    <tr>\n",
       "      <th>[-0.2, -0.1)</th>\n",
       "      <td>17</td>\n",
       "      <td>0.069106</td>\n",
       "    </tr>\n",
       "    <tr>\n",
       "      <th>[-0.1, 0.0)</th>\n",
       "      <td>22</td>\n",
       "      <td>0.089431</td>\n",
       "    </tr>\n",
       "    <tr>\n",
       "      <th>[0.0, 0.1)</th>\n",
       "      <td>53</td>\n",
       "      <td>0.215447</td>\n",
       "    </tr>\n",
       "    <tr>\n",
       "      <th>[0.1, 0.2)</th>\n",
       "      <td>68</td>\n",
       "      <td>0.276423</td>\n",
       "    </tr>\n",
       "    <tr>\n",
       "      <th>[0.2, 0.3)</th>\n",
       "      <td>52</td>\n",
       "      <td>0.211382</td>\n",
       "    </tr>\n",
       "    <tr>\n",
       "      <th>[0.3, 0.4)</th>\n",
       "      <td>12</td>\n",
       "      <td>0.048780</td>\n",
       "    </tr>\n",
       "    <tr>\n",
       "      <th>[0.4, 0.5)</th>\n",
       "      <td>6</td>\n",
       "      <td>0.024390</td>\n",
       "    </tr>\n",
       "  </tbody>\n",
       "</table>\n",
       "</div>"
      ],
      "text/plain": [
       "               n  r_12m_binned_freq\n",
       "r_12m_binned                       \n",
       "[-0.5, -0.4)   2           0.008130\n",
       "[-0.4, -0.3)   5           0.020325\n",
       "[-0.3, -0.2)   9           0.036585\n",
       "[-0.2, -0.1)  17           0.069106\n",
       "[-0.1, 0.0)   22           0.089431\n",
       "[0.0, 0.1)    53           0.215447\n",
       "[0.1, 0.2)    68           0.276423\n",
       "[0.2, 0.3)    52           0.211382\n",
       "[0.3, 0.4)    12           0.048780\n",
       "[0.4, 0.5)     6           0.024390"
      ]
     },
     "execution_count": 15,
     "metadata": {},
     "output_type": "execute_result"
    }
   ],
   "source": [
    "df = hist\n",
    "col = \"r_12m\"\n",
    "ff = lambda x: ~x[col].isna()\n",
    "edges = np.linspace(-0.5, 0.5, 11)\n",
    "\n",
    "# cut\n",
    "df2 = df.loc[lambda x:ff(x), :].copy()\n",
    "df2[f\"{col}_binned\"] = pd.cut(df2[col], bins=edges, right=False)\n",
    "\n",
    "# signal\n",
    "pdf = calc_freq_signal(df2, col=f\"{col}_binned\")\n",
    "pdf\n"
   ]
  },
  {
   "cell_type": "code",
   "execution_count": 18,
   "metadata": {},
   "outputs": [
    {
     "data": {
      "text/plain": [
       "<BarContainer object of 10 artists>"
      ]
     },
     "execution_count": 18,
     "metadata": {},
     "output_type": "execute_result"
    },
    {
     "data": {
      "image/png": "[encoded data removed]",
      "text/plain": [
       "<Figure size 1200x600 with 1 Axes>"
      ]
     },
     "metadata": {},
     "output_type": "display_data"
    }
   ],
   "source": [
    "fig, ax = plt.subplots(1, 1, figsize=(12, 6))\n",
    "ax.bar(pdf.index.astype(str), pdf[f\"{col}_binned_freq\"])"
   ]
  },
  {
   "cell_type": "code",
   "execution_count": null,
   "metadata": {},
   "outputs": [],
   "source": []
  },
  {
   "cell_type": "code",
   "execution_count": null,
   "metadata": {},
   "outputs": [],
   "source": []
  },
  {
   "cell_type": "code",
   "execution_count": null,
   "metadata": {},
   "outputs": [],
   "source": []
  }
 ],
 "metadata": {
  "kernelspec": {
   "display_name": "Python 3",
   "language": "python",
   "name": "python3"
  },
  "language_info": {
   "codemirror_mode": {
    "name": "ipython",
    "version": 3
   },
   "file_extension": ".py",
   "mimetype": "text/x-python",
   "name": "python",
   "nbconvert_exporter": "python",
   "pygments_lexer": "ipython3",
   "version": "3.13.2"
  }
 },
 "nbformat": 4,
 "nbformat_minor": 2
}
