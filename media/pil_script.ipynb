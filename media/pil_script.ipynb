{
 "cells": [
  {
   "cell_type": "code",
   "execution_count": null,
   "metadata": {},
   "outputs": [],
   "source": [
    "# png to jpg conversion using PIL library\n",
    "input = r\"E:\\example.png\"\n",
    "output = r\"E:\\example.jpg\"\n",
    "\n",
    "from PIL import Image\n",
    "\n",
    "im = Image.open(input)\n",
    "rgb_im = im.convert(\"RGB\")\n",
    "rgb_im.save(output)\n",
    "\n"
   ]
  },
  {
   "cell_type": "code",
   "execution_count": 5,
   "metadata": {},
   "outputs": [],
   "source": [
    "# change opacity of an image\n",
    "from PIL import Image\n",
    "\n",
    "def change_opacity(image_path, output_path, opacity):\n",
    "    \"\"\"Change opacity of an image\n",
    "\n",
    "    the opacity value should be between 0 (fully transparent) and 1 (fully opaque)\n",
    "\n",
    "    Example\n",
    "    -------\n",
    "    ::\n",
    "        change_opacity(\n",
    "            image_path=\"E:/wallpaper/exmale.png\", \n",
    "            output_path=\"E:/example_opacity.png\", \n",
    "            opacity=0.1\n",
    "        )\n",
    "    \"\"\"\n",
    "    img = Image.open(image_path).convert(\"RGBA\")\n",
    "    \n",
    "    for y in range(img.size[1]):\n",
    "        for x in range(img.size[0]):\n",
    "            r, g, b, a = img.getpixel((x, y))\n",
    "            img.putpixel((x, y), (r, g, b, int(a * opacity)))\n",
    "\n",
    "    img.save(output_path)\n"
   ]
  },
  {
   "cell_type": "code",
   "execution_count": null,
   "metadata": {},
   "outputs": [],
   "source": [
    "files = [\n",
    "\n",
    "]\n",
    "\n",
    "for file in files:\n",
    "    print(file)\n",
    "    change_opacity(\n",
    "        image_path=r\"E:\\wallpaper\\{}\".format(file), \n",
    "        output_path=r\"E:\\opacity\\{}\".format(file), \n",
    "        opacity=0.1\n",
    "    )"
   ]
  },
  {
   "cell_type": "code",
   "execution_count": 7,
   "metadata": {},
   "outputs": [],
   "source": [
    "file = r\"E:\\wallpaper\\epmeal.png\"\n",
    "\n",
    "for opa in range(1, 10):\n",
    "    change_opacity(\n",
    "        image_path=file, \n",
    "        output_path=r\"E:\\opacity\\exanome_{}.png\".format(opa), \n",
    "        opacity=opa/10\n",
    "    )"
   ]
  }
 ],
 "metadata": {
  "kernelspec": {
   "display_name": "Python 3",
   "language": "python",
   "name": "python3"
  },
  "language_info": {
   "codemirror_mode": {
    "name": "ipython",
    "version": 3
   },
   "file_extension": ".py",
   "mimetype": "text/x-python",
   "name": "python",
   "nbconvert_exporter": "python",
   "pygments_lexer": "ipython3",
   "version": "3.12.1"
  }
 },
 "nbformat": 4,
 "nbformat_minor": 2
}
